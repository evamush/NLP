{
 "cells": [
  {
   "cell_type": "markdown",
   "metadata": {},
   "source": [
    "<!---\n",
    "Latex Macros\n",
    "-->\n",
    "$$\n",
    "\\newcommand{\\bar}{\\,|\\,}\n",
    "\\newcommand{\\Xs}{\\mathcal{X}}\n",
    "\\newcommand{\\Ys}{\\mathcal{Y}}\n",
    "\\newcommand{\\y}{\\mathbf{y}}\n",
    "\\newcommand{\\weights}{\\mathbf{w}}\n",
    "\\newcommand{\\balpha}{\\boldsymbol{\\alpha}}\n",
    "\\newcommand{\\bbeta}{\\boldsymbol{\\beta}}\n",
    "\\newcommand{\\aligns}{\\mathbf{a}}\n",
    "\\newcommand{\\align}{a}\n",
    "\\newcommand{\\source}{\\mathbf{s}}\n",
    "\\newcommand{\\target}{\\mathbf{t}}\n",
    "\\newcommand{\\ssource}{s}\n",
    "\\newcommand{\\starget}{t}\n",
    "\\newcommand{\\repr}{\\mathbf{f}}\n",
    "\\newcommand{\\repry}{\\mathbf{g}}\n",
    "\\newcommand{\\x}{\\mathbf{x}}\n",
    "\\newcommand{\\prob}{p}\n",
    "\\newcommand{\\vocab}{V}\n",
    "\\newcommand{\\params}{\\boldsymbol{\\theta}}\n",
    "\\newcommand{\\param}{\\theta}\n",
    "\\DeclareMathOperator{\\perplexity}{PP}\n",
    "\\DeclareMathOperator{\\argmax}{argmax}\n",
    "\\DeclareMathOperator{\\argmin}{argmin}\n",
    "\\newcommand{\\train}{\\mathcal{D}}\n",
    "\\newcommand{\\counts}[2]{\\#_{#1}(#2) }\n",
    "\\newcommand{\\length}[1]{\\text{length}(#1) }\n",
    "\\newcommand{\\indi}{\\mathbb{I}}\n",
    "$$"
   ]
  },
  {
   "cell_type": "markdown",
   "metadata": {},
   "source": [
    "# Assignment 2\n",
    "\n",
    "## Introduction\n",
    "In this assignment you will build the first stage of a biomedical event extractor. Biomedical events are state changes of biomolecules. For example, if you have a protein and you add a phosphate (PO4) group to it, this is referred to as a phosphorylation event. Many papers in the biomedical literature mention such events. The grand goal of biomedical event extraction is to teach machines how to read this literature and produce structured representations of biomedical events that biomedical researchers can query effectively. This task has received considerable attention in the NLP literature, and is the topic of a biennial [shared task](http://2011.bionlp-st.org/). We will use the data from this task as starting point for this assignment.   \n",
    "\n",
    "To illustrate biomedical event extraction, let us consider an example. From the sentence \n",
    "\n",
    "> **phosphorylation** of TRAF2 **inhibits** **binding** to the CD40 domain\n",
    "\n",
    "we could extract the structure \n",
    "\n",
    "> Negative_Regulation(Phosphorylation(TRAF2), Binding(TRAF2, CD40)\n",
    "\n",
    "and store it in a database. Someone can then query this database, for example, to figure out all ways to prevent binding of TRAF2 to CD40.\n",
    "\n",
    "The task is often divided into two steps. First you need to find **trigger** words in the sentence that correspond to biomedical events, and determine their event type *label*. For example, in the above sentence \"phosphorylation\" is a trigger word for an event of type \"Phosphorylation\", \"inhibits\" a trigger word for a \"Negative Regulation\" event, and \"binding\" a trigger for a \"Binding\" event. Notice that sometimes the type labels are obvious, but often they are not. Also note that the label of a word could be \"None\". For example, the word \"of\" in the above sentence has the label \"None\".  \n",
    "\n",
    "The second step requires the extractor to produce **argument relations** between event triggers and protein mentions or other event triggers. For example, in the above case the argument of \"phosphorylation\" is \"TRAF2\", and one argument of \"inhibits\" is \"phosphorylation of TRAF2\" whereas the other is \"binding to the CD40 domain\". In this assignment you **do not have to do this**. We will focus on the event trigger detection problem exclusively. \n",
    "\n",
    "## Goal\n",
    "Your goal is to develop an event trigger labeler. This extractor is given a sentence and a candidate token. Both constitute the input $\\x$. One such input could be: \n",
    "\n",
    "> $\\x$: phosphorylation of TRAF2 **inhibits** binding to the CD40 domain\n",
    "\n",
    "The goal is to predict the label $y$ of the candidate event trigger. In the above case the label would be $y=\\text{Negative_Regulation}$. \n",
    "\n",
    "Some candidates may not refer to event triggers at all. For example:\n",
    "\n",
    "> $\\x$: phosphorylation **of** TRAF2 inhibits binding to the CD40 domain\n",
    "\n",
    "In such cases the label is $y=\\text{None}$.\n",
    "\n",
    "## Resources\n",
    "To develop your model you have access to:\n",
    "\n",
    "* The data in `data/bionlp/train`. This data can be split into training and dev set (as done below), or used for cross-validation.\n",
    "* Helper code stored in the python module [bio.py](/edit/statnlpbook/bio.py).\n",
    "* Libraries on the [docker image](https://github.com/uclmr/stat-nlp-book/blob/python/Dockerfile) which contains everything in [this image](https://github.com/jupyter/docker-stacks/tree/master/scipy-notebook), including scikit-learn and tensorflow. \n",
    "\n",
    "As we have to run the notebooks of all students, and because writing efficient code is important, **your notebook should run in 5 minutes at most**, on your machine. Further comments:\n",
    "\n",
    "* We have tested a possible solution on the Azure VMs and it ran in about 30s, so it is possible to train a reasonable model on the data in reasonable time. If you find training times too long for your development cycle you can reduce the training set size. Once you have found a good solution you can increase the size again. Caveat: model parameters tuned on a smaller dataset may not be optimal for a larger training set.\n",
    "\n",
    "* Try to run your parameter optimisation offline, such that in your answer notebook the best parameters are already set and don't need to be searched. Include your optimisation code in the notebook, but don't call it at each notebook run."
   ]
  },
  {
   "cell_type": "markdown",
   "metadata": {},
   "source": [
    "## Hint\n",
    "While you do not need to predict the arguments of an event, it is important to understand how trigger labels relate to the syntactic and semantic arguments of the trigger word. Features that can capture this relation might help you in improving the result. Do inspect the data and try to get an understanding of it. That said, you don't have to be a biomedical expert to do well in this task. A few of the best results on the task were achieved by NLP researchers without any biomedical experience. They would, however, still inspect the data carefully.  "
   ]
  },
  {
   "cell_type": "markdown",
   "metadata": {},
   "source": [
    "## Setup Instructions\n",
    "It is important that this file is placed in the **correct directory**. It will not run otherwise. The correct directory is\n",
    "\n",
    "    DIRECTORY_OF_YOUR_BOOK/assignments/2017/assignment2/problem/\n",
    "    \n",
    "where `DIRECTORY_OF_YOUR_BOOK` is a placeholder for the directory you downloaded the book to. After you placed it there, **rename the file** to your UCL ID (of the form `ucxxxxx`). "
   ]
  },
  {
   "cell_type": "markdown",
   "metadata": {},
   "source": [
    "## General Instructions\n",
    "This notebook will be used by you to provide your solution, and by us to both assess your solution and enter your marks. It contains three types of sections:\n",
    "\n",
    "1. **Setup** Sections: these sections set up code and resources for assessment. **Do not edit, move nor copy these cells**.\n",
    "2. **Assessment** Sections: these sections are used for both evaluating the output of your code, and for markers to enter their marks. **Do not edit, move, nor copy these cells**.\n",
    "3. **Task** Sections: these sections require your solutions. They may contain stub code, and you are expected to edit this code. For free text answers simply edit the markdown field.  \n",
    "\n",
    "**If you edit, move or copy any of the setup, assessments and mark cells, you will be penalised with -10 points**.\n",
    "\n",
    "Note that you are free to **create additional notebook cells** within a task section. \n",
    "\n",
    "Please **do not share** this assignment publicly, by uploading it online, emailing it to friends etc. "
   ]
  },
  {
   "cell_type": "markdown",
   "metadata": {},
   "source": [
    "## Submission Instructions\n",
    "\n",
    "To submit your solution:\n",
    "\n",
    "* Make sure that your solution is fully contained in this notebook. \n",
    "* Make sure that your solution runs linearly from start to end (no execution hops). We will run your notebook in that order.\n",
    "* **If running your notebook produces a trivially fixable error that we spot, we will correct it and penalise you with -10 points. Otherwise you will get 0 points for that solution.**\n",
    "* **Rename this notebook to your UCL ID** (of the form \"ucxxxxx\"), if you have not already done so. ** Failure to do so will result in -1 point.**\n",
    "* Download the notebook in Jupyter via *File -> Download as -> Notebook (.ipynb)*.\n",
    "* Upload the notebook to the Moodle submission site."
   ]
  },
  {
   "cell_type": "markdown",
   "metadata": {},
   "source": [
    "## <font color='green'>Setup 1</font>: Load Libraries\n",
    "This cell loads libraries important for evaluation and assessment of your model. **Do not change, move or copy it.**"
   ]
  },
  {
   "cell_type": "code",
   "execution_count": 199,
   "metadata": {},
   "outputs": [],
   "source": [
    "%%capture\n",
    "%load_ext autoreload\n",
    "%autoreload 2\n",
    "%matplotlib inline\n",
    "#! SETUP 1 - DO NOT CHANGE, MOVE NOR COPY\n",
    "import sys, os\n",
    "_snlp_book_dir = \"../../../../\"\n",
    "sys.path.append(_snlp_book_dir) \n",
    "import math\n",
    "from collections import defaultdict\n",
    "import statnlpbook.bio as bio"
   ]
  },
  {
   "cell_type": "markdown",
   "metadata": {},
   "source": [
    "## <font color='green'>Setup 2</font>: Load Training Data\n",
    "\n",
    "This cell loads the training data. **Do not edit this setup section, nor copy it**. Instead refer to the variables in your own code, and slice and dice them as you see fit (but do not change their values). For example, no one will stop you from introducing, in the corresponding task section, `my_event_train` and `my_event_dev` variables that split the data into different folds.   \n",
    "\n",
    "Notice that the data is loaded from `json` files like [this one](/edit/data/bionlp/train/PMC-1310901-00-TIAB.json). Generally, you do not need to understand this format, as we provide loading functions that produce more convenient data structures shown below. But do feel free to investigate. "
   ]
  },
  {
   "cell_type": "code",
   "execution_count": 200,
   "metadata": {},
   "outputs": [],
   "source": [
    "#! SETUP 2 - DO NOT CHANGE, MOVE NOR COPY\n",
    "train_path = _snlp_book_dir + \"data/bionlp/train\"\n",
    "event_corpus = bio.load_assignment2_training_data(train_path)\n",
    "event_train = event_corpus[:len(event_corpus)//4 * 3]\n",
    "event_dev = event_corpus[len(event_corpus)//4 * 3:]\n",
    "assert(len(event_train)==53988)"
   ]
  },
  {
   "cell_type": "markdown",
   "metadata": {},
   "source": [
    "## Data Structures\n",
    "The data comes in the form of pairs consisting of `EventCandidate` objects and their trigger labels. The `EventCandidate` class can be found in [bio.py](/edit/statnlpbook/bio.py)."
   ]
  },
  {
   "cell_type": "code",
   "execution_count": 201,
   "metadata": {},
   "outputs": [
    {
     "data": {
      "text/plain": [
       "(<statnlpbook.bio.EventCandidate at 0x7fbb43f80ef0>, 'Negative_regulation')"
      ]
     },
     "execution_count": 201,
     "metadata": {},
     "output_type": "execute_result"
    }
   ],
   "source": [
    "event_candidate, label = event_corpus[0]\n",
    "(event_candidate, label)"
   ]
  },
  {
   "cell_type": "markdown",
   "metadata": {},
   "source": [
    "Event candidate objects specify the classification problem. They consist of a sentence `sent` and the position `trigger_index` of the trigger candidate word. "
   ]
  },
  {
   "cell_type": "code",
   "execution_count": 202,
   "metadata": {},
   "outputs": [
    {
     "data": {
      "text/html": [
       "Down-regulation of interferon regulatory factor 4 gene expression in leukemic cells due to hypermethylation of CpG motifs in the promoter region Although the bcr -abl translocation has been shown to be the causative genetic aberration in chronic myeloid leukemia ( CML ) , there is mounting evidence that the deregulation of other genes , such as the transcription factor interferon regulatory factor 4 ( IRF-4 ) , is also implicated in the pathogenesis of CML ."
      ],
      "text/plain": [
       "<statnlpbook.bio.Sentence at 0x7fbb44464780>"
      ]
     },
     "execution_count": 202,
     "metadata": {},
     "output_type": "execute_result"
    }
   ],
   "source": [
    "event_candidate.sent"
   ]
  },
  {
   "cell_type": "code",
   "execution_count": 203,
   "metadata": {},
   "outputs": [
    {
     "data": {
      "text/plain": [
       "0"
      ]
     },
     "execution_count": 203,
     "metadata": {},
     "output_type": "execute_result"
    }
   ],
   "source": [
    "event_candidate.trigger_index"
   ]
  },
  {
   "cell_type": "markdown",
   "metadata": {},
   "source": [
    "Event candidates also have a set of candidate arguments. These point to token spans (index of first token, inclusive, index of last token, exclusive) in the sentence that may or may not be *arguments* of the event. In the full event extraction task one needs to predict which of these candidates are true arguments of the events. However, here we will ignore this task, and give you only the information what candidates exist, not what their labels are. Note that this information can still be **very important** to understand what type of event the candidate corresponds to, if any. "
   ]
  },
  {
   "cell_type": "code",
   "execution_count": 204,
   "metadata": {},
   "outputs": [
    {
     "data": {
      "text/plain": [
       "[(2, 6), (23, 24), (24, 25), (59, 63)]"
      ]
     },
     "execution_count": 204,
     "metadata": {},
     "output_type": "execute_result"
    }
   ],
   "source": [
    "event_candidate.argument_candidate_spans[:4]"
   ]
  },
  {
   "cell_type": "markdown",
   "metadata": {},
   "source": [
    "You can compactly visualise the complete candidate using `bio.render_event`, as shown below. Here the green span corresponds to the token at the trigger index. The spans in red brackets correspond to the argument candidates. The blue spans are protein mentions. "
   ]
  },
  {
   "cell_type": "code",
   "execution_count": 205,
   "metadata": {},
   "outputs": [
    {
     "data": {
      "text/html": [
       "<font color='green'>Down-regulation</font> <font color='red'>[</font>of<font color='red'>]</font> <font color='red'>[</font><font color='blue'>[interferon regulatory factor 4]</font><font color='red'>]</font> gene <font color='red'>[</font>expression<font color='red'>]</font> in leukemic cells <font color='red'>[</font>due<font color='red'>]</font> <font color='red'>[</font>to<font color='red'>]</font> hypermethylation <font color='red'>[</font>of<font color='red'>]</font> CpG motifs in the <font color='red'>[</font>promoter<font color='red'>]</font> region Although the <font color='red'>[</font><font color='blue'>[bcr]</font><font color='red'>]</font> <font color='red'>[</font><font color='blue'>[-abl]</font><font color='red'>]</font> <font color='red'>[</font>translocation<font color='red'>]</font> has been shown <font color='red'>[</font>to<font color='red'>]</font> be the causative genetic <font color='red'>[</font>aberration<font color='red'>]</font> in chronic myeloid leukemia ( CML ) , there is mounting evidence <font color='red'>[</font>that<font color='red'>]</font> the <font color='red'>[</font>deregulation<font color='red'>]</font> <font color='red'>[</font>of<font color='red'>]</font> other genes , such as the <font color='red'>[</font>transcription<font color='red'>]</font> <font color='red'>[</font>factor<font color='red'>]</font> <font color='red'>[</font><font color='blue'>[interferon regulatory factor 4]</font><font color='red'>]</font> ( <font color='red'>[</font><font color='blue'>[IRF-4]</font><font color='red'>]</font> ) , is also <font color='red'>[</font>implicated<font color='red'>]</font> in the pathogenesis <font color='red'>[</font>of<font color='red'>]</font> CML ."
      ],
      "text/plain": [
       "<IPython.core.display.HTML object>"
      ]
     },
     "execution_count": 205,
     "metadata": {},
     "output_type": "execute_result"
    }
   ],
   "source": [
    "bio.render_event(event_candidate)"
   ]
  },
  {
   "cell_type": "markdown",
   "metadata": {},
   "source": [
    "### Sentences\n",
    "The sentence object of an event candidate provides additional information about the sentence, such as what spans are proteins, what Part-of-Speech labels the tokens have, and a dependency parse of the sentence. First, the `tokens` field of a sentence provides useful features of tokens: "
   ]
  },
  {
   "cell_type": "code",
   "execution_count": 206,
   "metadata": {},
   "outputs": [
    {
     "data": {
      "text/plain": [
       "{'begin': 0,\n",
       " 'end': 15,\n",
       " 'index': 0,\n",
       " 'pos': 'NN',\n",
       " 'stem': 'Down-regul',\n",
       " 'word': 'Down-regulation'}"
      ]
     },
     "execution_count": 206,
     "metadata": {},
     "output_type": "execute_result"
    }
   ],
   "source": [
    "event_candidate.sent.tokens[0]"
   ]
  },
  {
   "cell_type": "markdown",
   "metadata": {},
   "source": [
    "The `dependencies` field stores lexical dependencies between words:"
   ]
  },
  {
   "cell_type": "code",
   "execution_count": 207,
   "metadata": {},
   "outputs": [
    {
     "data": {
      "text/plain": [
       "[{'head': 44, 'label': 'nsubj', 'mod': 0},\n",
       " {'head': 4, 'label': 'nn', 'mod': 2}]"
      ]
     },
     "execution_count": 207,
     "metadata": {},
     "output_type": "execute_result"
    }
   ],
   "source": [
    "event_candidate.sent.dependencies[:2]"
   ]
  },
  {
   "cell_type": "markdown",
   "metadata": {},
   "source": [
    "You can render the dependency graph of a sentence like so:"
   ]
  },
  {
   "cell_type": "code",
   "execution_count": 208,
   "metadata": {},
   "outputs": [
    {
     "data": {
      "text/html": [
       "\n",
       "    <div id='displacy33' style=\"overflow: scroll; width: 5000px;\"></div>\n",
       "    <script>\n",
       "    $(function() {\n",
       "    requirejs.config({\n",
       "        paths: {\n",
       "            'displaCy': ['/files/node_modules/displacy/displacy'],\n",
       "                                                  // strip .js ^, require adds it back\n",
       "        },\n",
       "    });\n",
       "    require(['displaCy'], function() {\n",
       "        console.log(\"Loaded :)\");\n",
       "        const displacy = new displaCy('http://localhost:8000', {\n",
       "            container: '#displacy33',\n",
       "            format: 'spacy',\n",
       "            distance: 150,\n",
       "            offsetX: 0,\n",
       "            wordSpacing: 20,\n",
       "            arrowSpacing: 3,\n",
       "\n",
       "        });\n",
       "        const parse = {\n",
       "            arcs: [{\"dir\": \"left\", \"start\": 0, \"label\": \"nsubj\", \"end\": 44}, {\"dir\": \"left\", \"start\": 2, \"label\": \"nn\", \"end\": 4}, {\"dir\": \"left\", \"start\": 3, \"label\": \"amod\", \"end\": 4}, {\"dir\": \"left\", \"start\": 4, \"label\": \"nn\", \"end\": 7}, {\"dir\": \"right\", \"start\": 4, \"label\": \"num\", \"end\": 5}, {\"dir\": \"left\", \"start\": 6, \"label\": \"nn\", \"end\": 7}, {\"dir\": \"right\", \"start\": 0, \"label\": \"prep_of\", \"end\": 7}, {\"dir\": \"left\", \"start\": 9, \"label\": \"amod\", \"end\": 10}, {\"dir\": \"right\", \"start\": 7, \"label\": \"prep_in\", \"end\": 10}, {\"dir\": \"right\", \"start\": 7, \"label\": \"prep_due_to\", \"end\": 13}, {\"dir\": \"left\", \"start\": 15, \"label\": \"nn\", \"end\": 16}, {\"dir\": \"right\", \"start\": 13, \"label\": \"prep_of\", \"end\": 16}, {\"dir\": \"left\", \"start\": 18, \"label\": \"det\", \"end\": 20}, {\"dir\": \"left\", \"start\": 19, \"label\": \"nn\", \"end\": 20}, {\"dir\": \"right\", \"start\": 0, \"label\": \"prep_in\", \"end\": 20}, {\"dir\": \"left\", \"start\": 21, \"label\": \"mark\", \"end\": 28}, {\"dir\": \"left\", \"start\": 22, \"label\": \"det\", \"end\": 25}, {\"dir\": \"left\", \"start\": 23, \"label\": \"nn\", \"end\": 25}, {\"dir\": \"left\", \"start\": 24, \"label\": \"nn\", \"end\": 25}, {\"dir\": \"left\", \"start\": 25, \"label\": \"nsubjpass\", \"end\": 28}, {\"dir\": \"left\", \"start\": 25, \"label\": \"xsubj\", \"end\": 34}, {\"dir\": \"left\", \"start\": 26, \"label\": \"aux\", \"end\": 28}, {\"dir\": \"left\", \"start\": 27, \"label\": \"auxpass\", \"end\": 28}, {\"dir\": \"left\", \"start\": 28, \"label\": \"advcl\", \"end\": 44}, {\"dir\": \"left\", \"start\": 29, \"label\": \"aux\", \"end\": 34}, {\"dir\": \"left\", \"start\": 30, \"label\": \"cop\", \"end\": 34}, {\"dir\": \"left\", \"start\": 31, \"label\": \"det\", \"end\": 34}, {\"dir\": \"left\", \"start\": 32, \"label\": \"amod\", \"end\": 34}, {\"dir\": \"left\", \"start\": 33, \"label\": \"amod\", \"end\": 34}, {\"dir\": \"right\", \"start\": 28, \"label\": \"xcomp\", \"end\": 34}, {\"dir\": \"left\", \"start\": 36, \"label\": \"amod\", \"end\": 38}, {\"dir\": \"left\", \"start\": 37, \"label\": \"amod\", \"end\": 38}, {\"dir\": \"right\", \"start\": 34, \"label\": \"prep_in\", \"end\": 38}, {\"dir\": \"right\", \"start\": 38, \"label\": \"abbrev\", \"end\": 40}, {\"dir\": \"left\", \"start\": 43, \"label\": \"expl\", \"end\": 44}, {\"dir\": \"left\", \"start\": 45, \"label\": \"amod\", \"end\": 46}, {\"dir\": \"right\", \"start\": 44, \"label\": \"nsubj\", \"end\": 46}, {\"dir\": \"left\", \"start\": 47, \"label\": \"complm\", \"end\": 69}, {\"dir\": \"left\", \"start\": 48, \"label\": \"det\", \"end\": 49}, {\"dir\": \"left\", \"start\": 49, \"label\": \"nsubjpass\", \"end\": 69}, {\"dir\": \"left\", \"start\": 51, \"label\": \"amod\", \"end\": 52}, {\"dir\": \"right\", \"start\": 49, \"label\": \"prep_of\", \"end\": 52}, {\"dir\": \"left\", \"start\": 56, \"label\": \"det\", \"end\": 61}, {\"dir\": \"left\", \"start\": 57, \"label\": \"nn\", \"end\": 61}, {\"dir\": \"left\", \"start\": 58, \"label\": \"nn\", \"end\": 61}, {\"dir\": \"left\", \"start\": 59, \"label\": \"nn\", \"end\": 61}, {\"dir\": \"left\", \"start\": 60, \"label\": \"amod\", \"end\": 61}, {\"dir\": \"right\", \"start\": 52, \"label\": \"prep_such_as\", \"end\": 61}, {\"dir\": \"right\", \"start\": 61, \"label\": \"num\", \"end\": 62}, {\"dir\": \"right\", \"start\": 61, \"label\": \"abbrev\", \"end\": 64}, {\"dir\": \"left\", \"start\": 67, \"label\": \"auxpass\", \"end\": 69}, {\"dir\": \"left\", \"start\": 68, \"label\": \"advmod\", \"end\": 69}, {\"dir\": \"right\", \"start\": 46, \"label\": \"ccomp\", \"end\": 69}, {\"dir\": \"left\", \"start\": 71, \"label\": \"det\", \"end\": 72}, {\"dir\": \"right\", \"start\": 69, \"label\": \"prep_in\", \"end\": 72}, {\"dir\": \"right\", \"start\": 72, \"label\": \"prep_of\", \"end\": 74}],\n",
       "            words: [{\"text\": \"Down-regulation\", \"tag\": \"NN\"}, {\"text\": \"of\", \"tag\": \"IN\"}, {\"text\": \"interferon\", \"tag\": \"NN\"}, {\"text\": \"regulatory\", \"tag\": \"JJ\"}, {\"text\": \"factor\", \"tag\": \"NN\"}, {\"text\": \"4\", \"tag\": \"CD\"}, {\"text\": \"gene\", \"tag\": \"NN\"}, {\"text\": \"expression\", \"tag\": \"NN\"}, {\"text\": \"in\", \"tag\": \"IN\"}, {\"text\": \"leukemic\", \"tag\": \"JJ\"}, {\"text\": \"cells\", \"tag\": \"NNS\"}, {\"text\": \"due\", \"tag\": \"IN\"}, {\"text\": \"to\", \"tag\": \"TO\"}, {\"text\": \"hypermethylation\", \"tag\": \"NN\"}, {\"text\": \"of\", \"tag\": \"IN\"}, {\"text\": \"CpG\", \"tag\": \"NN\"}, {\"text\": \"motifs\", \"tag\": \"NNS\"}, {\"text\": \"in\", \"tag\": \"IN\"}, {\"text\": \"the\", \"tag\": \"DT\"}, {\"text\": \"promoter\", \"tag\": \"NN\"}, {\"text\": \"region\", \"tag\": \"NN\"}, {\"text\": \"Although\", \"tag\": \"IN\"}, {\"text\": \"the\", \"tag\": \"DT\"}, {\"text\": \"bcr\", \"tag\": \"NN\"}, {\"text\": \"-abl\", \"tag\": \"NN\"}, {\"text\": \"translocation\", \"tag\": \"NN\"}, {\"text\": \"has\", \"tag\": \"VBZ\"}, {\"text\": \"been\", \"tag\": \"VBN\"}, {\"text\": \"shown\", \"tag\": \"VBN\"}, {\"text\": \"to\", \"tag\": \"TO\"}, {\"text\": \"be\", \"tag\": \"VB\"}, {\"text\": \"the\", \"tag\": \"DT\"}, {\"text\": \"causative\", \"tag\": \"JJ\"}, {\"text\": \"genetic\", \"tag\": \"JJ\"}, {\"text\": \"aberration\", \"tag\": \"NN\"}, {\"text\": \"in\", \"tag\": \"IN\"}, {\"text\": \"chronic\", \"tag\": \"JJ\"}, {\"text\": \"myeloid\", \"tag\": \"JJ\"}, {\"text\": \"leukemia\", \"tag\": \"NN\"}, {\"text\": \"(\", \"tag\": \"-LRB-\"}, {\"text\": \"CML\", \"tag\": \"NN\"}, {\"text\": \")\", \"tag\": \"-RRB-\"}, {\"text\": \",\", \"tag\": \",\"}, {\"text\": \"there\", \"tag\": \"EX\"}, {\"text\": \"is\", \"tag\": \"VBZ\"}, {\"text\": \"mounting\", \"tag\": \"JJ\"}, {\"text\": \"evidence\", \"tag\": \"NN\"}, {\"text\": \"that\", \"tag\": \"IN\"}, {\"text\": \"the\", \"tag\": \"DT\"}, {\"text\": \"deregulation\", \"tag\": \"NN\"}, {\"text\": \"of\", \"tag\": \"IN\"}, {\"text\": \"other\", \"tag\": \"JJ\"}, {\"text\": \"genes\", \"tag\": \"NNS\"}, {\"text\": \",\", \"tag\": \",\"}, {\"text\": \"such\", \"tag\": \"JJ\"}, {\"text\": \"as\", \"tag\": \"IN\"}, {\"text\": \"the\", \"tag\": \"DT\"}, {\"text\": \"transcription\", \"tag\": \"NN\"}, {\"text\": \"factor\", \"tag\": \"NN\"}, {\"text\": \"interferon\", \"tag\": \"NN\"}, {\"text\": \"regulatory\", \"tag\": \"JJ\"}, {\"text\": \"factor\", \"tag\": \"NN\"}, {\"text\": \"4\", \"tag\": \"CD\"}, {\"text\": \"(\", \"tag\": \"-LRB-\"}, {\"text\": \"IRF-4\", \"tag\": \"NN\"}, {\"text\": \")\", \"tag\": \"-RRB-\"}, {\"text\": \",\", \"tag\": \",\"}, {\"text\": \"is\", \"tag\": \"VBZ\"}, {\"text\": \"also\", \"tag\": \"RB\"}, {\"text\": \"implicated\", \"tag\": \"VBN\"}, {\"text\": \"in\", \"tag\": \"IN\"}, {\"text\": \"the\", \"tag\": \"DT\"}, {\"text\": \"pathogenesis\", \"tag\": \"NN\"}, {\"text\": \"of\", \"tag\": \"IN\"}, {\"text\": \"CML\", \"tag\": \"NN\"}, {\"text\": \".\", \"tag\": \".\"}]\n",
       "        };\n",
       "\n",
       "        displacy.render(parse, {\n",
       "            uniqueId: 'render_displacy33'\n",
       "            //color: '#ff0000'\n",
       "        });\n",
       "        return {};\n",
       "    });\n",
       "    });\n",
       "    </script>"
      ],
      "text/plain": [
       "<IPython.core.display.HTML object>"
      ]
     },
     "execution_count": 208,
     "metadata": {},
     "output_type": "execute_result"
    }
   ],
   "source": [
    "bio.render_dependencies(event_candidate.sent)"
   ]
  },
  {
   "cell_type": "markdown",
   "metadata": {},
   "source": [
    "You can learn about the dependency labels in the [Stanford typed dependencies manual](http://nlp.stanford.edu/software/dependencies_manual.pdf). We also provide [lecture notes on dependency parsing](/notebooks/chapters/Transition-based%20dependency%20parsing.ipynb), including various pointers to more information. \n",
    "\n",
    "The `mentions` stores which spans correspond to proteins."
   ]
  },
  {
   "cell_type": "code",
   "execution_count": 209,
   "metadata": {},
   "outputs": [
    {
     "data": {
      "text/plain": [
       "[{'begin': 2, 'end': 6, 'label': 'Protein'},\n",
       " {'begin': 23, 'end': 24, 'label': 'Protein'},\n",
       " {'begin': 24, 'end': 25, 'label': 'Protein'},\n",
       " {'begin': 59, 'end': 63, 'label': 'Protein'},\n",
       " {'begin': 64, 'end': 65, 'label': 'Protein'}]"
      ]
     },
     "execution_count": 209,
     "metadata": {},
     "output_type": "execute_result"
    }
   ],
   "source": [
    "event_candidate.sent.mentions"
   ]
  },
  {
   "cell_type": "markdown",
   "metadata": {},
   "source": [
    "There are some convenience functions for the sentence to check all the syntactic parents or children of a token, or whether a specific token is within a protein mention. These can be useful when designing features:"
   ]
  },
  {
   "cell_type": "code",
   "execution_count": 210,
   "metadata": {},
   "outputs": [
    {
     "data": {
      "text/plain": [
       "([(44, 'nsubj')], [(7, 'prep_of'), (20, 'prep_in')])"
      ]
     },
     "execution_count": 210,
     "metadata": {},
     "output_type": "execute_result"
    }
   ],
   "source": [
    "event_candidate.sent.parents[0], event_candidate.sent.children[0] "
   ]
  },
  {
   "cell_type": "code",
   "execution_count": 211,
   "metadata": {},
   "outputs": [
    {
     "data": {
      "text/plain": [
       "(True, False)"
      ]
     },
     "execution_count": 211,
     "metadata": {},
     "output_type": "execute_result"
    }
   ],
   "source": [
    "event_candidate.sent.is_protein[3], event_candidate.sent.is_protein[7]"
   ]
  },
  {
   "cell_type": "markdown",
   "metadata": {},
   "source": [
    "### Labels\n",
    "It is useful to know the complete set of event labels:"
   ]
  },
  {
   "cell_type": "code",
   "execution_count": 212,
   "metadata": {},
   "outputs": [
    {
     "data": {
      "text/plain": [
       "{'Binding',\n",
       " 'Gene_expression',\n",
       " 'Localization',\n",
       " 'Negative_regulation',\n",
       " 'None',\n",
       " 'Phosphorylation',\n",
       " 'Positive_regulation',\n",
       " 'Protein_catabolism',\n",
       " 'Regulation',\n",
       " 'Transcription'}"
      ]
     },
     "execution_count": 212,
     "metadata": {},
     "output_type": "execute_result"
    }
   ],
   "source": [
    "{y for _,y in event_corpus}"
   ]
  },
  {
   "cell_type": "markdown",
   "metadata": {},
   "source": [
    "## <font color='blue'>Task 1</font>: Create a Feature Function\n",
    "\n",
    "In this task you will extract a specific feature representation $\\repr(\\x)$ for an event candidate $\\x$. In particular, we want to add as features the syntactic children (modifiers) of the trigger token, together with their syntactic dependency label. A modifier of a token $h$ is a token $m$ that modifies $h$'s meaning. For example, in the noun phrase \"green light\" the adjective \"green\" modifies the noun \"light\". We will refer to the modifier token as the \"child\", and the modified token as \"parent\". Correspondingly, in the dependency graph modifiers are the child nodes of the modified tokens.  \n",
    "\n",
    "The feature function will have to be implemented as a python function that populates a python dictionary with key-value pairs where the key indicates both the word and syntactic label of the child. \n",
    "\n",
    "For example, consider the following event and dependency parse:"
   ]
  },
  {
   "cell_type": "code",
   "execution_count": 213,
   "metadata": {},
   "outputs": [
    {
     "data": {
      "text/html": [
       "\n",
       "    <div id='displacy34' style=\"overflow: scroll; width: 5000px;\"></div>\n",
       "    <script>\n",
       "    $(function() {\n",
       "    requirejs.config({\n",
       "        paths: {\n",
       "            'displaCy': ['/files/node_modules/displacy/displacy'],\n",
       "                                                  // strip .js ^, require adds it back\n",
       "        },\n",
       "    });\n",
       "    require(['displaCy'], function() {\n",
       "        console.log(\"Loaded :)\");\n",
       "        const displacy = new displaCy('http://localhost:8000', {\n",
       "            container: '#displacy34',\n",
       "            format: 'spacy',\n",
       "            distance: 150,\n",
       "            offsetX: 0,\n",
       "            wordSpacing: 20,\n",
       "            arrowSpacing: 3,\n",
       "\n",
       "        });\n",
       "        const parse = {\n",
       "            arcs: [{\"dir\": \"left\", \"start\": 0, \"label\": \"det\", \"end\": 2}, {\"dir\": \"left\", \"start\": 1, \"label\": \"nn\", \"end\": 2}, {\"dir\": \"left\", \"start\": 2, \"label\": \"nsubjpass\", \"end\": 4}, {\"dir\": \"left\", \"start\": 3, \"label\": \"auxpass\", \"end\": 4}, {\"dir\": \"left\", \"start\": 6, \"label\": \"det\", \"end\": 10}, {\"dir\": \"left\", \"start\": 7, \"label\": \"number\", \"end\": 8}, {\"dir\": \"left\", \"start\": 8, \"label\": \"amod\", \"end\": 10}, {\"dir\": \"left\", \"start\": 9, \"label\": \"nn\", \"end\": 10}, {\"dir\": \"right\", \"start\": 4, \"label\": \"prep_on\", \"end\": 10}, {\"dir\": \"left\", \"start\": 12, \"label\": \"auxpass\", \"end\": 13}, {\"dir\": \"right\", \"start\": 4, \"label\": \"dep\", \"end\": 13}, {\"dir\": \"left\", \"start\": 15, \"label\": \"nn\", \"end\": 16}, {\"dir\": \"right\", \"start\": 13, \"label\": \"prep_with\", \"end\": 16}, {\"dir\": \"right\", \"start\": 4, \"label\": \"dep\", \"end\": 18}, {\"dir\": \"right\", \"start\": 13, \"label\": \"conj_and\", \"end\": 18}],\n",
       "            words: [{\"text\": \"The\", \"tag\": \"DT\"}, {\"text\": \"PCR\", \"tag\": \"NN\"}, {\"text\": \"products\", \"tag\": \"NNS\"}, {\"text\": \"were\", \"tag\": \"VBD\"}, {\"text\": \"electrophoresed\", \"tag\": \"VBN\"}, {\"text\": \"on\", \"tag\": \"IN\"}, {\"text\": \"a\", \"tag\": \"DT\"}, {\"text\": \"3\", \"tag\": \"CD\"}, {\"text\": \"%\", \"tag\": \"NN\"}, {\"text\": \"agarose\", \"tag\": \"NN\"}, {\"text\": \"gel\", \"tag\": \"NN\"}, {\"text\": \",\", \"tag\": \",\"}, {\"text\": \"were\", \"tag\": \"VBD\"}, {\"text\": \"stained\", \"tag\": \"VBN\"}, {\"text\": \"with\", \"tag\": \"IN\"}, {\"text\": \"ethidium\", \"tag\": \"NN\"}, {\"text\": \"bromide\", \"tag\": \"NN\"}, {\"text\": \"and\", \"tag\": \"CC\"}, {\"text\": \"photographed\", \"tag\": \"VBN\"}, {\"text\": \".\", \"tag\": \".\"}]\n",
       "        };\n",
       "\n",
       "        displacy.render(parse, {\n",
       "            uniqueId: 'render_displacy34'\n",
       "            //color: '#ff0000'\n",
       "        });\n",
       "        return {};\n",
       "    });\n",
       "    });\n",
       "    </script>"
      ],
      "text/plain": [
       "<IPython.core.display.HTML object>"
      ]
     },
     "execution_count": 213,
     "metadata": {},
     "output_type": "execute_result"
    }
   ],
   "source": [
    "example = event_corpus[398][0]\n",
    "bio.render_dependencies(example.sent)"
   ]
  },
  {
   "cell_type": "markdown",
   "metadata": {},
   "source": [
    "Here the goal is to produce a dictionary that maps the strings \"Child: det->The\" and \"Child: nn->PCR\" to 1.0. \n",
    "\n",
    "To solve this task, implement the feature function below. The passed in `result` is a dictionary you need to populate with more entries, and the `event` argument indicates for which event you need to extract the features. We have already populated the function with some initial code that should get you started.  "
   ]
  },
  {
   "cell_type": "code",
   "execution_count": 214,
   "metadata": {},
   "outputs": [],
   "source": [
    "def add_dependency_child_feats(result, event):\n",
    "    \"\"\"\n",
    "    Append to the `result` dictionary features based on the syntactic dependencies of the event trigger word of\n",
    "    `event`. The feature keys should have the form \"Child: [label]->[word]\" where \"[label]\" is the syntactic label\n",
    "    of the syntatic child (e.g. \"det\" in the case above), and \"[word]\" is the word of the syntactic child (e.g. \"The\" \n",
    "    in the case above).\n",
    "    Args:\n",
    "        result: a defaultdict that returns `0.0` by default. \n",
    "        event: the event for which we want to populate the `result` dictionary with dependency features.\n",
    "    Returns:\n",
    "        Nothing, but populates the `result` dictionary. \n",
    "    \"\"\"\n",
    "    index = event.trigger_index # You will need to change this \n",
    "    for child,label in event.sent.children[index]:\n",
    "        word = example.sent.tokens[child]['word']\n",
    "        result[\"Child: \" + label + \"->\" + word ] += 1.0 \n",
    "    return result"
   ]
  },
  {
   "cell_type": "markdown",
   "metadata": {},
   "source": [
    "## <font color='red'>Assessment 1</font>: Test Feature Function (20 pts)\n",
    "Here we test whether your feature function populates the given dictionary correctly. If the result passes all three tests you get 10 pts. Of course, solutions that just manually populate the result with the specific key value pairs tested below will receive 0 pts as well."
   ]
  },
  {
   "cell_type": "code",
   "execution_count": 215,
   "metadata": {},
   "outputs": [
    {
     "data": {
      "text/plain": [
       "(True, True, True)"
      ]
     },
     "execution_count": 215,
     "metadata": {},
     "output_type": "execute_result"
    }
   ],
   "source": [
    "#! ASSESSMENT 1 - DO NOT CHANGE, MOVE NOR COPY\n",
    "result = defaultdict(float)\n",
    "add_dependency_child_feats(result, example)\n",
    "\n",
    "check_1 = len(result) == 2\n",
    "check_2 = result['Child: det->The'] == 1.0\n",
    "check_3 = result['Child: nn->PCR'] == 1.0\n",
    "(check_1, check_2, check_3)"
   ]
  },
  {
   "cell_type": "markdown",
   "metadata": {},
   "source": [
    "## <font color='orange'>Mark</font>:  Your solution to Task 1 is marked with ** __ points**. \n",
    "---"
   ]
  },
  {
   "cell_type": "markdown",
   "metadata": {},
   "source": [
    "## <font color='blue'>Task 2</font>: Implement Model\n",
    "\n",
    "You are to implement the `predict_event_labels` function below. This function gets as input a list of event candidate objects, and then returns a sequence of corresponding labels. You can implement this function in any way you like, again utilising any library on the docker image. We have populated the cell and function with a simple implementation that uses the scikit-learn logistic regression model. You can use this as a starting point and focus on implementing better feature functions. You can also start from scratch if you like. \n"
   ]
  },
  {
   "cell_type": "raw",
   "metadata": {},
   "source": [
    "#count the words in training dataset\n",
    "import numpy as np\n",
    "def cal_term_count(dataset):\n",
    "    term_count = {}\n",
    "    for event,_ in dataset:\n",
    "        for token in event.sent.tokens:\n",
    "            word = token['stem']\n",
    "            if word not in term_count.keys():\n",
    "                term_count[word] = 1\n",
    "            else:\n",
    "                term_count[word] += 1\n",
    "    return term_count\n",
    "\n",
    "count_dict = cal_term_count(event_train)\n",
    "x = sorted(count_dict.items(),key=lambda d:d[1], reverse = True)\n",
    "meaningless = set(np.asarray(x)[:12,0])"
   ]
  },
  {
   "cell_type": "raw",
   "metadata": {},
   "source": [
    "#TF-IDF\n",
    "corpus = []\n",
    "\n",
    "for event, label in event_train:\n",
    "    sent = \"\"\n",
    "    for span in event.argument_candidate_spans:\n",
    "        for i in range(span[0],span[1]):\n",
    "            if event.sent.tokens[i]['stem'] not in meaningless:\n",
    "                sent = sent + event.sent.tokens[i]['stem'] + \" \"\n",
    "    corpus.append(sent)\n",
    "    \n",
    "from sklearn.feature_extraction.text import CountVectorizer,TfidfTransformer\n",
    "vectorizer = CountVectorizer()  \n",
    "transformer = TfidfTransformer()\n",
    "tfidf = transformer.fit_transform(vectorizer.fit_transform(corpus))\n"
   ]
  },
  {
   "cell_type": "code",
   "execution_count": 216,
   "metadata": {
    "scrolled": true
   },
   "outputs": [],
   "source": [
    "from sklearn.linear_model import LogisticRegression\n",
    "import numpy as np\n",
    "from collections import defaultdict\n",
    "from sklearn.feature_extraction import DictVectorizer\n",
    "from sklearn.preprocessing import LabelEncoder\n",
    "\n",
    "# converts labels into integers, and vice versa, needed by scikit-learn.\n",
    "label_encoder = LabelEncoder()\n",
    "\n",
    "# encodes feature dictionaries as numpy vectors, needed by scikit-learn.\n",
    "vectorizer = DictVectorizer()\n",
    "\n",
    "def event_feat(event):\n",
    "    \"\"\"\n",
    "    This feature function returns a dictionary representation of the event candidate. You can improve the model \n",
    "    by improving this feature function.\n",
    "    Args:\n",
    "        event: the `EventCandidate` object to produce a feature dictionary for.\n",
    "    Returns:\n",
    "        a dictionary with feature keys/indices mapped to feature counts.\n",
    "    \"\"\"\n",
    "    result = defaultdict(float)\n",
    "    trigger = event.trigger_index\n",
    "    tokens =  event.sent.tokens\n",
    "    children = event.sent.children\n",
    "    parents = event.sent.parents\n",
    "    mentions = event.sent.mentions\n",
    "    \n",
    "    ###\n",
    "    result['trigger_word=' + tokens[trigger]['word']] += 1.0\n",
    "    result['trigger_word=' + tokens[trigger]['stem']] += 1.0\n",
    "    result['trigger_word=' + tokens[trigger]['pos']] += 1.0\n",
    "    \n",
    "    ###\n",
    "    for child,label in children[trigger]:\n",
    "        word = tokens[child]['word']\n",
    "        result[\"Child: \" + label + \"->\" + word ] += 1.0 \n",
    "        for grandchild,grandlabel in children[child]:\n",
    "            grandword = tokens[grandchild]['word']\n",
    "            result[\"GrandChild: \" + grandlabel + \"->\" + grandword ] += 1.0 \n",
    "            \n",
    "    for parent,label in parents[trigger]:\n",
    "        word = tokens[parent]['word']\n",
    "        result[\"Parents: \" + label + \"->\" + word ] += 1.0 \n",
    "        for grandparent,grandlabel in parents[parent]:\n",
    "            grandword = tokens[grandparent]['word']\n",
    "            result[\"GrandParent: \" + grandlabel + \"->\" + grandword ] += 1.0 \n",
    "    \n",
    "    ###\n",
    "    if tokens[trigger][\"pos\"] != \"IN\" :\n",
    "        word = tokens[trigger][\"word\"]\n",
    "        result[\"trigger is not IN\" + word] += 1.0\n",
    "    elif tokens[trigger][\"pos\"] == \"IN\" :\n",
    "        word = tokens[trigger][\"word\"]\n",
    "        result[\"trigger is IN\" + word] += 1.0\n",
    "\n",
    "    ###\n",
    "    if tokens[trigger+1][\"pos\"]!=\"IN\" :\n",
    "        word = tokens[trigger][\"word\"] + tokens[trigger + 1][\"word\"]\n",
    "        result[\"beside trigger is not IN\" + word] += 1.0\n",
    "    elif tokens[trigger+1][\"pos\"]==\"IN\" :\n",
    "        word = tokens[trigger][\"word\"] + tokens[trigger + 1][\"word\"]\n",
    "        result[\"beside trigger is IN\" + word] += 1.0\n",
    "\n",
    "    if tokens[trigger-1][\"pos\"]!=\"IN\" :\n",
    "        word = tokens[trigger][\"word\"] + tokens[trigger - 1][\"word\"]\n",
    "        result[\"beside trigger is not IN\" + word] += 1.0\n",
    "    elif tokens[trigger-1][\"pos\"]==\"IN\" :\n",
    "        word = tokens[trigger][\"word\"] + tokens[trigger - 1][\"word\"]\n",
    "        result[\"beside trigger is IN\" + word] += 1.0\n",
    "    \n",
    "    ###\n",
    "    result[\"Number of Proteins=\" + str(len(mentions))] += 1.0\n",
    "    \n",
    "    min_distance = float(\"inf\")\n",
    "    for i in range(len(mentions)):\n",
    "        begin = mentions[i][\"begin\"]\n",
    "        end = mentions[i][\"end\"]\n",
    "        label = mentions[i][\"label\"]\n",
    "        word = tokens[trigger]['stem']\n",
    "        ###\n",
    "        if (end == trigger) or (end == trigger - 1) or (begin == trigger + 1) or (begin == trigger + 2):\n",
    "            result[\"Protein lies near \"+ word] += 1.0\n",
    "        else:\n",
    "            result[\"No protein lies near\" + word] += 1.0\n",
    "\n",
    "        if begin > trigger:\n",
    "            if begin - trigger  <= min_distance:\n",
    "                min_distance = begin - trigger \n",
    "       \n",
    "        ###\n",
    "        for j in range(begin,end):\n",
    "            for parent,label in parents[j]:\n",
    "                if parent == trigger:\n",
    "                    result[\"Protein's parent is trigger:\" + label] += 1.0\n",
    "                else:\n",
    "                    result[\"Protein's parent is not a trigger:\" + label] += 1.0\n",
    "\n",
    "\n",
    "            for child,label in children[j]:\n",
    "                if child == trigger:\n",
    "                    result[\"Protein's child is trigger:\" + label] += 1.0\n",
    "                else:\n",
    "                    result[\"Protein's child is not a trigger:\" + label] += 1.0\n",
    "    \n",
    "    ###\n",
    "    result[\"minimum distance between protein and trigger = \" + str(min_distance)] += 1.0\n",
    "    \n",
    "    return result\n",
    "# We convert the event candidates and their labels into vectors and integers, respectively.\n",
    "train_event_x = vectorizer.fit_transform([event_feat(x) for x,_ in event_train])\n",
    "train_event_y = label_encoder.fit_transform([y for _,y in event_train])\n",
    "\n",
    "# Create and train the model. Feel free to experiment with other parameters and learners.\n",
    "lr = LogisticRegression(C=2,class_weight='balanced')\n",
    "lr.fit(train_event_x, train_event_y)\n",
    "\n",
    "def predict_event_labels(event_candidates):\n",
    "    \"\"\"\n",
    "    This function receives a list of `bio.EventCandidate` objects and predicts their labels. \n",
    "    It is currently implemented using scikit-learn, but you are free to replace it with any other\n",
    "    implementation as long as you fulfil its contract.\n",
    "    Args:\n",
    "        event_candidates: A list of `EventCandidate` objects to label.\n",
    "    Returns:\n",
    "        a list of event labels, where the i-th label belongs to the i-th event candidate in the input.\n",
    "    \"\"\"\n",
    "    event_x = vectorizer.transform([event_feat(e) for e in event_candidates])\n",
    "    event_y = label_encoder.inverse_transform(lr.predict(event_x))\n",
    "    return event_y\n",
    "\n",
    "#[event_feat(x) for x,_ in event_train][:10]"
   ]
  },
  {
   "cell_type": "raw",
   "metadata": {},
   "source": [
    "from sklearn.model_selection import KFold\n",
    "from sklearn.metrics import f1_score\n",
    "kf = KFold(n_splits = 5)\n",
    "\n",
    "c = np.linspace(1,5,10)\n",
    "f1_ = np.zeros(10)\n",
    "for i in range(10):\n",
    "    lr = LogisticRegression(C = c[i], class_weight=\"balanced\")\n",
    "    f1 = 0\n",
    "    for train_indice, test_indice in kf.split(train_event_x):\n",
    "        train_x = train_event_x[train_indice]\n",
    "        test_x = train_event_x[test_indice]\n",
    "        train_y = train_event_y[train_indice]\n",
    "        test_y = train_event_y[test_indice]\n",
    "        lr.fit(train_x,train_y)\n",
    "        pre = lr.predict(test_x)\n",
    "        f1 += f1_score(test_y, pre,average = \"macro\")\n",
    "    f1_[i] = f1/5\n",
    "    print(i, \":\", \"F1:\", f1_[i])\n",
    "\n"
   ]
  },
  {
   "cell_type": "markdown",
   "metadata": {},
   "source": [
    "It is useful to inspect the performance of your model, and see where it makes errors, both on the training set (to check for underfitting) and the development set. We have provided you with utility functions to help with this inspection. Note that you don't have to use these utilities, or the cells below, but it can help you to improve your model, and also with the error analysis and description of the approach in Task 3. \n",
    "\n",
    "First, we give you a breakdown of precision, recall and F1 on different event types:"
   ]
  },
  {
   "cell_type": "code",
   "execution_count": 217,
   "metadata": {},
   "outputs": [
    {
     "data": {
      "text/html": [
       "<div>\n",
       "<table border=\"1\" class=\"dataframe\">\n",
       "  <thead>\n",
       "    <tr style=\"text-align: right;\">\n",
       "      <th></th>\n",
       "      <th>Label</th>\n",
       "      <th>Gold</th>\n",
       "      <th>Guess</th>\n",
       "      <th>Precision</th>\n",
       "      <th>Recall</th>\n",
       "      <th>F1</th>\n",
       "    </tr>\n",
       "  </thead>\n",
       "  <tbody>\n",
       "    <tr>\n",
       "      <th>0</th>\n",
       "      <td>Binding</td>\n",
       "      <td>180</td>\n",
       "      <td>202</td>\n",
       "      <td>0.599010</td>\n",
       "      <td>0.672222</td>\n",
       "      <td>0.633508</td>\n",
       "    </tr>\n",
       "    <tr>\n",
       "      <th>1</th>\n",
       "      <td>Gene_expression</td>\n",
       "      <td>377</td>\n",
       "      <td>399</td>\n",
       "      <td>0.786967</td>\n",
       "      <td>0.832891</td>\n",
       "      <td>0.809278</td>\n",
       "    </tr>\n",
       "    <tr>\n",
       "      <th>2</th>\n",
       "      <td>Localization</td>\n",
       "      <td>71</td>\n",
       "      <td>63</td>\n",
       "      <td>0.777778</td>\n",
       "      <td>0.690141</td>\n",
       "      <td>0.731343</td>\n",
       "    </tr>\n",
       "    <tr>\n",
       "      <th>3</th>\n",
       "      <td>Negative_regulation</td>\n",
       "      <td>210</td>\n",
       "      <td>233</td>\n",
       "      <td>0.605150</td>\n",
       "      <td>0.671429</td>\n",
       "      <td>0.636569</td>\n",
       "    </tr>\n",
       "    <tr>\n",
       "      <th>4</th>\n",
       "      <td>Phosphorylation</td>\n",
       "      <td>32</td>\n",
       "      <td>37</td>\n",
       "      <td>0.837838</td>\n",
       "      <td>0.968750</td>\n",
       "      <td>0.898551</td>\n",
       "    </tr>\n",
       "    <tr>\n",
       "      <th>5</th>\n",
       "      <td>Positive_regulation</td>\n",
       "      <td>570</td>\n",
       "      <td>614</td>\n",
       "      <td>0.627036</td>\n",
       "      <td>0.675439</td>\n",
       "      <td>0.650338</td>\n",
       "    </tr>\n",
       "    <tr>\n",
       "      <th>6</th>\n",
       "      <td>Protein_catabolism</td>\n",
       "      <td>21</td>\n",
       "      <td>26</td>\n",
       "      <td>0.730769</td>\n",
       "      <td>0.904762</td>\n",
       "      <td>0.808511</td>\n",
       "    </tr>\n",
       "    <tr>\n",
       "      <th>7</th>\n",
       "      <td>Regulation</td>\n",
       "      <td>188</td>\n",
       "      <td>185</td>\n",
       "      <td>0.562162</td>\n",
       "      <td>0.553191</td>\n",
       "      <td>0.557641</td>\n",
       "    </tr>\n",
       "    <tr>\n",
       "      <th>8</th>\n",
       "      <td>Transcription</td>\n",
       "      <td>112</td>\n",
       "      <td>105</td>\n",
       "      <td>0.647619</td>\n",
       "      <td>0.607143</td>\n",
       "      <td>0.626728</td>\n",
       "    </tr>\n",
       "    <tr>\n",
       "      <th>9</th>\n",
       "      <td>[All]</td>\n",
       "      <td>1761</td>\n",
       "      <td>1864</td>\n",
       "      <td>0.660944</td>\n",
       "      <td>0.699602</td>\n",
       "      <td>0.679724</td>\n",
       "    </tr>\n",
       "  </tbody>\n",
       "</table>\n",
       "</div>"
      ],
      "text/plain": [
       "                 Label  Gold  Guess  Precision    Recall        F1\n",
       "0              Binding   180    202   0.599010  0.672222  0.633508\n",
       "1      Gene_expression   377    399   0.786967  0.832891  0.809278\n",
       "2         Localization    71     63   0.777778  0.690141  0.731343\n",
       "3  Negative_regulation   210    233   0.605150  0.671429  0.636569\n",
       "4      Phosphorylation    32     37   0.837838  0.968750  0.898551\n",
       "5  Positive_regulation   570    614   0.627036  0.675439  0.650338\n",
       "6   Protein_catabolism    21     26   0.730769  0.904762  0.808511\n",
       "7           Regulation   188    185   0.562162  0.553191  0.557641\n",
       "8        Transcription   112    105   0.647619  0.607143  0.626728\n",
       "9                [All]  1761   1864   0.660944  0.699602  0.679724"
      ]
     },
     "execution_count": 217,
     "metadata": {},
     "output_type": "execute_result"
    }
   ],
   "source": [
    "# This line calls your function to produce labels for the test set\n",
    "event_dev_guess = predict_event_labels([x for x,_ in event_dev[:]])\n",
    "# This line produces a confusion matrix\n",
    "cm_dev = bio.create_confusion_matrix(event_dev,event_dev_guess)  \n",
    "# This line turns the confusion matrix into a evaluation table with Precision, Recall and F1 for all labels.\n",
    "bio.full_evaluation_table(cm_dev)"
   ]
  },
  {
   "cell_type": "markdown",
   "metadata": {},
   "source": [
    "It is useful to inspect [bio.py](/edit/statnlpbook/bio.py) to see how we define precision, recall and F1 score in this context.\n",
    "\n",
    "You can also display a confusion matrix to identify what types of errors you are currently making. Notice that the matrix ignores the \"None\"-\"None\" cell as its counts would overpower all other counts (try removing the `outside_label` argument). "
   ]
  },
  {
   "cell_type": "code",
   "execution_count": 218,
   "metadata": {},
   "outputs": [
    {
     "data": {
      "image/png": "[encoded data removed]",
      "text/plain": [
       "<matplotlib.figure.Figure at 0x7fbb4ca4b2b0>"
      ]
     },
     "metadata": {},
     "output_type": "display_data"
    }
   ],
   "source": [
    "import statnlpbook.util as util\n",
    "util.plot_confusion_matrix_dict(cm_dev,90, outside_label=\"None\")"
   ]
  },
  {
   "cell_type": "markdown",
   "metadata": {},
   "source": [
    "The confusion matrix can give you hints on what type of errors you should look for and improve upon. This macro view on your model's performance is often more powerful when combined with a micro view on the instances that produce these errors. You can find errors of a specific type using `bio.find_errors` as shown below:"
   ]
  },
  {
   "cell_type": "code",
   "execution_count": 219,
   "metadata": {},
   "outputs": [
    {
     "data": {
      "text/plain": [
       "[(<statnlpbook.bio.EventCandidate at 0x7fbb13d360b8>, 'Transcription', 'None'),\n",
       " (<statnlpbook.bio.EventCandidate at 0x7fbb11102f28>, 'Transcription', 'None'),\n",
       " (<statnlpbook.bio.EventCandidate at 0x7fbb10af55c0>, 'Transcription', 'None')]"
      ]
     },
     "execution_count": 219,
     "metadata": {},
     "output_type": "execute_result"
    }
   ],
   "source": [
    "errors = bio.find_errors(\"Transcription\",\"None\", event_dev, event_dev_guess)[:3]\n",
    "errors"
   ]
  },
  {
   "cell_type": "markdown",
   "metadata": {},
   "source": [
    "These errors you can then inspect in detail via `show_event_error`:"
   ]
  },
  {
   "cell_type": "code",
   "execution_count": 220,
   "metadata": {},
   "outputs": [
    {
     "data": {
      "text/html": [
       "<table border=\"1\" class=\"dataframe\">\n",
       "  <thead>\n",
       "    <tr style=\"text-align: right;\">\n",
       "      <th>Gold</th>\n",
       "      <th>Guess</th>\n",
       "    </tr>\n",
       "  </thead>\n",
       "  <tbody>\n",
       "    <tr>\n",
       "      <td>Transcription</td>\n",
       "      <td>None</td>\n",
       "    </tr>\n",
       "  </tbody>\n",
       "</table>The <font color='red'>[</font><font color='blue'>[LAZ3]</font><font color='red'>]</font> <font color='red'>[</font><font color='blue'>[/BCL6]</font><font color='red'>]</font> <font color='red'>[</font>transcript<font color='red'>]</font> was <font color='green'>found</font> in a variety <font color='red'>[</font>of<font color='red'>]</font> tissues , <font color='red'>[</font>including<font color='red'>]</font> skeletal muscle , peripheral blood leukocytes , and <font color='red'>[</font>weakly<font color='red'>]</font> in normal lymph nodes .\n",
       "    <div id='displacy35' style=\"overflow: scroll; width: 5000px;\"></div>\n",
       "    <script>\n",
       "    $(function() {\n",
       "    requirejs.config({\n",
       "        paths: {\n",
       "            'displaCy': ['/files/node_modules/displacy/displacy'],\n",
       "                                                  // strip .js ^, require adds it back\n",
       "        },\n",
       "    });\n",
       "    require(['displaCy'], function() {\n",
       "        console.log(\"Loaded :)\");\n",
       "        const displacy = new displaCy('http://localhost:8000', {\n",
       "            container: '#displacy35',\n",
       "            format: 'spacy',\n",
       "            distance: 150,\n",
       "            offsetX: 0,\n",
       "            wordSpacing: 20,\n",
       "            arrowSpacing: 3,\n",
       "\n",
       "        });\n",
       "        const parse = {\n",
       "            arcs: [{\"dir\": \"left\", \"start\": 0, \"label\": \"det\", \"end\": 3}, {\"dir\": \"left\", \"start\": 1, \"label\": \"nn\", \"end\": 3}, {\"dir\": \"left\", \"start\": 2, \"label\": \"nn\", \"end\": 3}, {\"dir\": \"left\", \"start\": 3, \"label\": \"nsubjpass\", \"end\": 5}, {\"dir\": \"left\", \"start\": 4, \"label\": \"auxpass\", \"end\": 5}, {\"dir\": \"left\", \"start\": 7, \"label\": \"det\", \"end\": 8}, {\"dir\": \"right\", \"start\": 5, \"label\": \"prep_in\", \"end\": 8}, {\"dir\": \"right\", \"start\": 8, \"label\": \"prep_of\", \"end\": 10}, {\"dir\": \"left\", \"start\": 13, \"label\": \"amod\", \"end\": 14}, {\"dir\": \"right\", \"start\": 10, \"label\": \"prep_including\", \"end\": 14}, {\"dir\": \"left\", \"start\": 16, \"label\": \"amod\", \"end\": 18}, {\"dir\": \"left\", \"start\": 17, \"label\": \"nn\", \"end\": 18}, {\"dir\": \"right\", \"start\": 14, \"label\": \"appos\", \"end\": 18}, {\"dir\": \"right\", \"start\": 10, \"label\": \"prep_including\", \"end\": 21}, {\"dir\": \"right\", \"start\": 14, \"label\": \"conj_and\", \"end\": 21}, {\"dir\": \"left\", \"start\": 23, \"label\": \"amod\", \"end\": 25}, {\"dir\": \"left\", \"start\": 24, \"label\": \"nn\", \"end\": 25}, {\"dir\": \"right\", \"start\": 21, \"label\": \"prep_in\", \"end\": 25}],\n",
       "            words: [{\"text\": \"The\", \"tag\": \"DT\"}, {\"text\": \"LAZ3\", \"tag\": \"NN\"}, {\"text\": \"/BCL6\", \"tag\": \"NN\"}, {\"text\": \"transcript\", \"tag\": \"NN\"}, {\"text\": \"was\", \"tag\": \"VBD\"}, {\"text\": \"found\", \"tag\": \"VBN\"}, {\"text\": \"in\", \"tag\": \"IN\"}, {\"text\": \"a\", \"tag\": \"DT\"}, {\"text\": \"variety\", \"tag\": \"NN\"}, {\"text\": \"of\", \"tag\": \"IN\"}, {\"text\": \"tissues\", \"tag\": \"NNS\"}, {\"text\": \",\", \"tag\": \",\"}, {\"text\": \"including\", \"tag\": \"VBG\"}, {\"text\": \"skeletal\", \"tag\": \"JJ\"}, {\"text\": \"muscle\", \"tag\": \"NN\"}, {\"text\": \",\", \"tag\": \",\"}, {\"text\": \"peripheral\", \"tag\": \"JJ\"}, {\"text\": \"blood\", \"tag\": \"NN\"}, {\"text\": \"leukocytes\", \"tag\": \"NNS\"}, {\"text\": \",\", \"tag\": \",\"}, {\"text\": \"and\", \"tag\": \"CC\"}, {\"text\": \"weakly\", \"tag\": \"RB\"}, {\"text\": \"in\", \"tag\": \"IN\"}, {\"text\": \"normal\", \"tag\": \"JJ\"}, {\"text\": \"lymph\", \"tag\": \"NN\"}, {\"text\": \"nodes\", \"tag\": \"NNS\"}, {\"text\": \".\", \"tag\": \".\"}]\n",
       "        };\n",
       "\n",
       "        displacy.render(parse, {\n",
       "            uniqueId: 'render_displacy35'\n",
       "            //color: '#ff0000'\n",
       "        });\n",
       "        return {};\n",
       "    });\n",
       "    });\n",
       "    </script>"
      ],
      "text/plain": [
       "<IPython.core.display.HTML object>"
      ]
     },
     "execution_count": 220,
     "metadata": {},
     "output_type": "execute_result"
    }
   ],
   "source": [
    "bio.show_event_error(*errors[0])"
   ]
  },
  {
   "cell_type": "markdown",
   "metadata": {},
   "source": [
    "It can also be very useful to inspect your feature map for the given instance. Sometimes this leads you to find out that you have a bug in your feature calculation, or that the feature representation is still insufficient for other reasons."
   ]
  },
  {
   "cell_type": "code",
   "execution_count": 221,
   "metadata": {},
   "outputs": [
    {
     "data": {
      "text/plain": [
       "defaultdict(float,\n",
       "            {'Child: auxpass->was': 1.0,\n",
       "             'Child: nsubjpass->transcript': 1.0,\n",
       "             'Child: prep_in->variety': 1.0,\n",
       "             'GrandChild: det->The': 1.0,\n",
       "             'GrandChild: det->a': 1.0,\n",
       "             'GrandChild: nn->/BCL6': 1.0,\n",
       "             'GrandChild: nn->LAZ3': 1.0,\n",
       "             'GrandChild: prep_of->tissues': 1.0,\n",
       "             'No protein lies nearfound': 2.0,\n",
       "             'Number of Proteins=2': 1.0,\n",
       "             \"Protein's parent is not a trigger:nn\": 2.0,\n",
       "             'beside trigger is INfoundin': 1.0,\n",
       "             'beside trigger is not INfoundwas': 1.0,\n",
       "             'minimum distance between protein and trigger = inf': 1.0,\n",
       "             'trigger is not INfound': 1.0,\n",
       "             'trigger_word=VBN': 1.0,\n",
       "             'trigger_word=found': 2.0})"
      ]
     },
     "execution_count": 221,
     "metadata": {},
     "output_type": "execute_result"
    }
   ],
   "source": [
    "event_feat(errors[0][0])"
   ]
  },
  {
   "cell_type": "markdown",
   "metadata": {},
   "source": [
    "## <font color='red'>Assessment 2</font>: Assess Accuracy (50+10 pts) \n",
    "\n",
    "We assess how well your model performs on some unseen test set. We will look at the F1 across all event types, and will score them as follows:\n",
    "\n",
    "* 0-40pts: 17% <= F1 < 60%, linear\n",
    "* 40-50pts: 60% <= F1 < 70%, linear\n",
    "* 50-60pts: 70% <= F1 < 80%, linear\n",
    "\n",
    "The **linear** mapping maps any F1 value between the lower and upper bound linearly to a score. For example, if your model's F1 score is $F=55$, then your score is $40\\frac{F-17}{60-17}$. "
   ]
  },
  {
   "cell_type": "code",
   "execution_count": 222,
   "metadata": {},
   "outputs": [
    {
     "data": {
      "text/plain": [
       "0.6797241379310344"
      ]
     },
     "execution_count": 222,
     "metadata": {},
     "output_type": "execute_result"
    }
   ],
   "source": [
    "#! ASSESSMENT 2 - DO NOT CHANGE, MOVE NOR COPY\n",
    "_snlp_event_test = event_dev # This line will be changed by us after submission to point to a test set.\n",
    "_snlp_event_test_guess = predict_event_labels([x for x,_ in _snlp_event_test[:]])\n",
    "_snlp_cm_test = bio.create_confusion_matrix(_snlp_event_test,_snlp_event_test_guess)  \n",
    "bio.evaluate(_snlp_cm_test)[2] # This is the F1 score"
   ]
  },
  {
   "cell_type": "markdown",
   "metadata": {},
   "source": [
    "## <font color='orange'>Mark</font>:  Your solution to Task 2 is marked with ** __ points**. \n",
    "---"
   ]
  },
  {
   "cell_type": "markdown",
   "metadata": {},
   "source": [
    "## <font color='blue'>Task 3</font>: Describe your Approach\n",
    "\n",
    "Enter a 500 words max description of your approach **in this cell**. Also provide an **error analysis** of the types of errors your system still makes, with suggestions on how to improve it further. Should you need to include figures in your report, make sure they are Python-generated. For that, feel free to create new cells after this cell (before Assessment 3 cell). Link online images at your risk."
   ]
  },
  {
   "cell_type": "markdown",
   "metadata": {},
   "source": [
    "## <font color='red'>Assessment 3</font>: Assess Description (30 pts) \n",
    "\n",
    "We will mark the description along the following dimensions: \n",
    "\n",
    "* Clarity (10pts: very clear, 0pts: we can't figure out what you did)\n",
    "* Creativity (10pts: we could not have come up with this, 0pts: Use only word based features of the trigger word)\n",
    "* Substance (10pts: implemented complex state-of-the-art classifier, 0pts: Only use what is already there)"
   ]
  },
  {
   "cell_type": "markdown",
   "metadata": {},
   "source": [
    "### Training dataset data structure\n",
    "\n",
    "The \"event_candidate\" object consists of a sentence \"sent\", the position \"trigger_index\" of the trigger candidate word and the true arguments of the events \"argument_candidate_spans\". Specifically, the \"sent\" object has several useful features — \"mentions\", \"tokens\", \"dependencies\", \"parents\", \"children\", and \"is_protein\".  The \"label\" is one of the elements in a set includes 10 labels.\n",
    "\n",
    "To convince the training, the event candidates and the corresponding labels are converted into vectors and integers. The resulted \"train_event_x\" is a sparse matrix with size [53988 x m], where m depends on the features added in the function \"event_feat\".\n",
    "\n",
    "### Feature extracted\n",
    "\n",
    "- I tried to use TF-IDF algorithm to get the importance of the words in the corpus by finding the \"word frequency\". However, the effect is not that much remarkable. The possible reason is that sometimes the word appears less frequent is of greater importance.\n",
    "- Trigger word, in this case, is an important feature, therefore I first extracted several tokens of the trigger word,  \"word\", \"stem\", \"pos\". \n",
    "- Based on Task1, the \"grandchild\" and \"grandparent\" was further added as a feature. \n",
    "- It was accidentally found that the number of proteins in a sentence (the length of \"sent.mentions\") can be a quite good feature.\n",
    "- Trigger words have a close connection with proteins, from the output of \"render_dependencies\", the label of protein's parent/child varies a lot, there are several features extracted based on this. \n",
    "  - the label from a protein to its child/parent\n",
    "  - the minimum distance between protein and trigger word\n",
    "  - whether the trigger word has protein besides\n",
    "    What is worth mentioning is that here \"stem\" has the better performance here. In the case of protein with more than one word, I employed a for loop to map through the whole protein.\n",
    "- Moving to the \"pos\" objective of words, trigger words of sentence labelled by \"None\" is \"IN\" and those not labelled by \"None\" is usually in beside of \"IN\" word in common. Therefore the trigger word and the word beside it together can be a feature. \n",
    "\n",
    "### Classifier Implementation\n",
    "\n",
    "To find appropriate regularization strength for the logistic-regression, \"cross_validation\" was employed( presented in Raw NBConvert). It was found that when C = 2, the f-1 score reached the highest. Moreover, the class_weight was set to be \"balanced\", this mode uses the values of y to automatically adjust weights.\n",
    "\n",
    "I also tried several other classifiers, like RandomForest, Gradient boosting and SVM. Comparing with Logistic regression, their performance still cannot have any breakthroughs.\n",
    "\n",
    "### Error analysis\n",
    "\n",
    "From the plotted confusion matrix, most of the mispredictions happen to the sentences originally and predictably labelled by \"None\", these sentences' weight should be spread to the diagonal blocks of the confusion matrix.  Further improvements can be achieved by adding more training data for extracting more features. Also, more classifiers can be attempted.\n"
   ]
  },
  {
   "cell_type": "markdown",
   "metadata": {},
   "source": [
    "## <font color='orange'>Mark</font>:  Your solution to Task 3 is marked with ** __ points**.\n",
    "---"
   ]
  },
  {
   "cell_type": "markdown",
   "metadata": {},
   "source": [
    "## <font color='orange'>Final mark</font>: Your solution to Assignment 2 is marked with ** __points**. "
   ]
  }
 ],
 "metadata": {
  "kernelspec": {
   "display_name": "Python 3",
   "language": "python",
   "name": "python3"
  },
  "language_info": {
   "codemirror_mode": {
    "name": "ipython",
    "version": 3
   },
   "file_extension": ".py",
   "mimetype": "text/x-python",
   "name": "python",
   "nbconvert_exporter": "python",
   "pygments_lexer": "ipython3",
   "version": "3.6.2"
  }
 },
 "nbformat": 4,
 "nbformat_minor": 1
}
