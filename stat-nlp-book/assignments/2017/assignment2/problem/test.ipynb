{
 "cells": [
  {
   "cell_type": "markdown",
   "metadata": {},
   "source": [
    "<!---\n",
    "Latex Macros\n",
    "-->\n",
    "$$\n",
    "\\newcommand{\\bar}{\\,|\\,}\n",
    "\\newcommand{\\Xs}{\\mathcal{X}}\n",
    "\\newcommand{\\Ys}{\\mathcal{Y}}\n",
    "\\newcommand{\\y}{\\mathbf{y}}\n",
    "\\newcommand{\\weights}{\\mathbf{w}}\n",
    "\\newcommand{\\balpha}{\\boldsymbol{\\alpha}}\n",
    "\\newcommand{\\bbeta}{\\boldsymbol{\\beta}}\n",
    "\\newcommand{\\aligns}{\\mathbf{a}}\n",
    "\\newcommand{\\align}{a}\n",
    "\\newcommand{\\source}{\\mathbf{s}}\n",
    "\\newcommand{\\target}{\\mathbf{t}}\n",
    "\\newcommand{\\ssource}{s}\n",
    "\\newcommand{\\starget}{t}\n",
    "\\newcommand{\\repr}{\\mathbf{f}}\n",
    "\\newcommand{\\repry}{\\mathbf{g}}\n",
    "\\newcommand{\\x}{\\mathbf{x}}\n",
    "\\newcommand{\\prob}{p}\n",
    "\\newcommand{\\vocab}{V}\n",
    "\\newcommand{\\params}{\\boldsymbol{\\theta}}\n",
    "\\newcommand{\\param}{\\theta}\n",
    "\\DeclareMathOperator{\\perplexity}{PP}\n",
    "\\DeclareMathOperator{\\argmax}{argmax}\n",
    "\\DeclareMathOperator{\\argmin}{argmin}\n",
    "\\newcommand{\\train}{\\mathcal{D}}\n",
    "\\newcommand{\\counts}[2]{\\#_{#1}(#2) }\n",
    "\\newcommand{\\length}[1]{\\text{length}(#1) }\n",
    "\\newcommand{\\indi}{\\mathbb{I}}\n",
    "$$"
   ]
  },
  {
   "cell_type": "markdown",
   "metadata": {},
   "source": [
    "# Assignment 2\n",
    "\n",
    "## Introduction\n",
    "In this assignment you will build the first stage of a biomedical event extractor. Biomedical events are state changes of biomolecules. For example, if you have a protein and you add a phosphate (PO4) group to it, this is referred to as a phosphorylation event. Many papers in the biomedical literature mention such events. The grand goal of biomedical event extraction is to teach machines how to read this literature and produce structured representations of biomedical events that biomedical researchers can query effectively. This task has received considerable attention in the NLP literature, and is the topic of a biennial [shared task](http://2011.bionlp-st.org/). We will use the data from this task as starting point for this assignment.   \n",
    "\n",
    "To illustrate biomedical event extraction, let us consider an example. From the sentence \n",
    "\n",
    "> **phosphorylation** of TRAF2 **inhibits** **binding** to the CD40 domain\n",
    "\n",
    "we could extract the structure \n",
    "\n",
    "> Negative_Regulation(Phosphorylation(TRAF2), Binding(TRAF2, CD40)\n",
    "\n",
    "and store it in a database. Someone can then query this database, for example, to figure out all ways to prevent binding of TRAF2 to CD40.\n",
    "\n",
    "The task is often divided into two steps. First you need to find **trigger** words in the sentence that correspond to biomedical events, and determine their event type *label*. For example, in the above sentence \"phosphorylation\" is a trigger word for an event of type \"Phosphorylation\", \"inhibits\" a trigger word for a \"Negative Regulation\" event, and \"binding\" a trigger for a \"Binding\" event. Notice that sometimes the type labels are obvious, but often they are not. Also note that the label of a word could be \"None\". For example, the word \"of\" in the above sentence has the label \"None\".  \n",
    "\n",
    "The second step requires the extractor to produce **argument relations** between event triggers and protein mentions or other event triggers. For example, in the above case the argument of \"phosphorylation\" is \"TRAF2\", and one argument of \"inhibits\" is \"phosphorylation of TRAF2\" whereas the other is \"binding to the CD40 domain\". In this assignment you **do not have to do this**. We will focus on the event trigger detection problem exclusively. \n",
    "\n",
    "## Goal\n",
    "Your goal is to develop an event trigger labeler. This extractor is given a sentence and a candidate token. Both constitute the input $\\x$. One such input could be: \n",
    "\n",
    "> $\\x$: phosphorylation of TRAF2 **inhibits** binding to the CD40 domain\n",
    "\n",
    "The goal is to predict the label $y$ of the candidate event trigger. In the above case the label would be $y=\\text{Negative_Regulation}$. \n",
    "\n",
    "Some candidates may not refer to event triggers at all. For example:\n",
    "\n",
    "> $\\x$: phosphorylation **of** TRAF2 inhibits binding to the CD40 domain\n",
    "\n",
    "In such cases the label is $y=\\text{None}$.\n",
    "\n",
    "## Resources\n",
    "To develop your model you have access to:\n",
    "\n",
    "* The data in `data/bionlp/train`. This data can be split into training and dev set (as done below), or used for cross-validation.\n",
    "* Helper code stored in the python module [bio.py](/edit/statnlpbook/bio.py).\n",
    "* Libraries on the [docker image](https://github.com/uclmr/stat-nlp-book/blob/python/Dockerfile) which contains everything in [this image](https://github.com/jupyter/docker-stacks/tree/master/scipy-notebook), including scikit-learn and tensorflow. \n",
    "\n",
    "As we have to run the notebooks of all students, and because writing efficient code is important, **your notebook should run in 5 minutes at most**, on your machine. Further comments:\n",
    "\n",
    "* We have tested a possible solution on the Azure VMs and it ran in about 30s, so it is possible to train a reasonable model on the data in reasonable time. If you find training times too long for your development cycle you can reduce the training set size. Once you have found a good solution you can increase the size again. Caveat: model parameters tuned on a smaller dataset may not be optimal for a larger training set.\n",
    "\n",
    "* Try to run your parameter optimisation offline, such that in your answer notebook the best parameters are already set and don't need to be searched. Include your optimisation code in the notebook, but don't call it at each notebook run."
   ]
  },
  {
   "cell_type": "markdown",
   "metadata": {},
   "source": [
    "## Hint\n",
    "While you do not need to predict the arguments of an event, it is important to understand how trigger labels relate to the syntactic and semantic arguments of the trigger word. Features that can capture this relation might help you in improving the result. Do inspect the data and try to get an understanding of it. That said, you don't have to be a biomedical expert to do well in this task. A few of the best results on the task were achieved by NLP researchers without any biomedical experience. They would, however, still inspect the data carefully.  "
   ]
  },
  {
   "cell_type": "markdown",
   "metadata": {},
   "source": [
    "## Setup Instructions\n",
    "It is important that this file is placed in the **correct directory**. It will not run otherwise. The correct directory is\n",
    "\n",
    "    DIRECTORY_OF_YOUR_BOOK/assignments/2017/assignment2/problem/\n",
    "    \n",
    "where `DIRECTORY_OF_YOUR_BOOK` is a placeholder for the directory you downloaded the book to. After you placed it there, **rename the file** to your UCL ID (of the form `ucxxxxx`). "
   ]
  },
  {
   "cell_type": "markdown",
   "metadata": {},
   "source": [
    "## General Instructions\n",
    "This notebook will be used by you to provide your solution, and by us to both assess your solution and enter your marks. It contains three types of sections:\n",
    "\n",
    "1. **Setup** Sections: these sections set up code and resources for assessment. **Do not edit, move nor copy these cells**.\n",
    "2. **Assessment** Sections: these sections are used for both evaluating the output of your code, and for markers to enter their marks. **Do not edit, move, nor copy these cells**.\n",
    "3. **Task** Sections: these sections require your solutions. They may contain stub code, and you are expected to edit this code. For free text answers simply edit the markdown field.  \n",
    "\n",
    "**If you edit, move or copy any of the setup, assessments and mark cells, you will be penalised with -10 points**.\n",
    "\n",
    "Note that you are free to **create additional notebook cells** within a task section. \n",
    "\n",
    "Please **do not share** this assignment publicly, by uploading it online, emailing it to friends etc. "
   ]
  },
  {
   "cell_type": "markdown",
   "metadata": {},
   "source": [
    "## Submission Instructions\n",
    "\n",
    "To submit your solution:\n",
    "\n",
    "* Make sure that your solution is fully contained in this notebook. \n",
    "* Make sure that your solution runs linearly from start to end (no execution hops). We will run your notebook in that order.\n",
    "* **If running your notebook produces a trivially fixable error that we spot, we will correct it and penalise you with -10 points. Otherwise you will get 0 points for that solution.**\n",
    "* **Rename this notebook to your UCL ID** (of the form \"ucxxxxx\"), if you have not already done so. ** Failure to do so will result in -1 point.**\n",
    "* Download the notebook in Jupyter via *File -> Download as -> Notebook (.ipynb)*.\n",
    "* Upload the notebook to the Moodle submission site."
   ]
  },
  {
   "cell_type": "markdown",
   "metadata": {},
   "source": [
    "## <font color='green'>Setup 1</font>: Load Libraries\n",
    "This cell loads libraries important for evaluation and assessment of your model. **Do not change, move or copy it.**"
   ]
  },
  {
   "cell_type": "code",
   "execution_count": 1,
   "metadata": {
    "scrolled": true
   },
   "outputs": [],
   "source": [
    "%%capture\n",
    "%load_ext autoreload\n",
    "%autoreload 2\n",
    "%matplotlib inline\n",
    "#! SETUP 1 - DO NOT CHANGE, MOVE NOR COPY\n",
    "import sys, os\n",
    "_snlp_book_dir = \"../../../../\"\n",
    "sys.path.append(_snlp_book_dir) \n",
    "import math\n",
    "from collections import defaultdict\n",
    "import statnlpbook.bio as bio"
   ]
  },
  {
   "cell_type": "markdown",
   "metadata": {},
   "source": [
    "## <font color='green'>Setup 2</font>: Load Training Data\n",
    "\n",
    "This cell loads the training data. **Do not edit this setup section, nor copy it**. Instead refer to the variables in your own code, and slice and dice them as you see fit (but do not change their values). For example, no one will stop you from introducing, in the corresponding task section, `my_event_train` and `my_event_dev` variables that split the data into different folds.   \n",
    "\n",
    "Notice that the data is loaded from `json` files like [this one](/edit/data/bionlp/train/PMC-1310901-00-TIAB.json). Generally, you do not need to understand this format, as we provide loading functions that produce more convenient data structures shown below. But do feel free to investigate. "
   ]
  },
  {
   "cell_type": "code",
   "execution_count": 2,
   "metadata": {
    "scrolled": true
   },
   "outputs": [],
   "source": [
    "#! SETUP 2 - DO NOT CHANGE, MOVE NOR COPY\n",
    "train_path = _snlp_book_dir + \"data/bionlp/train\"\n",
    "event_corpus = bio.load_assignment2_training_data(train_path)\n",
    "event_train = event_corpus[:len(event_corpus)//4 * 3]\n",
    "event_dev = event_corpus[len(event_corpus)//4 * 3:]\n",
    "assert(len(event_train)==53988)"
   ]
  },
  {
   "cell_type": "markdown",
   "metadata": {},
   "source": [
    "## Data Structures\n",
    "The data comes in the form of pairs consisting of `EventCandidate` objects and their trigger labels. The `EventCandidate` class can be found in [bio.py](/edit/statnlpbook/bio.py)."
   ]
  },
  {
   "cell_type": "code",
   "execution_count": 16,
   "metadata": {
    "scrolled": true
   },
   "outputs": [
    {
     "data": {
      "text/plain": [
       "(<statnlpbook.bio.EventCandidate at 0x7f1b26c0eba8>, 'None')"
      ]
     },
     "execution_count": 16,
     "metadata": {},
     "output_type": "execute_result"
    }
   ],
   "source": [
    "event_candidate, label = event_corpus[90]\n",
    "(event_candidate, label)"
   ]
  },
  {
   "cell_type": "markdown",
   "metadata": {},
   "source": [
    "Event candidate objects specify the classification problem. They consist of a sentence `sent` and the position `trigger_index` of the trigger candidate word. "
   ]
  },
  {
   "cell_type": "code",
   "execution_count": 17,
   "metadata": {
    "scrolled": true
   },
   "outputs": [
    {
     "data": {
      "text/html": [
       "INTRODUCTION Chronic myeloid leukemia ( CML ) is a clonal myeloproliferative disorder with a typical three phased course ( chronic , accelerated and blastic phase ) reflecting the loss of differentiation and malignant progress which inevitably leads to death after the blastic phase ( 1,2 ) ."
      ],
      "text/plain": [
       "<statnlpbook.bio.Sentence at 0x7f1b26b46f28>"
      ]
     },
     "execution_count": 17,
     "metadata": {},
     "output_type": "execute_result"
    }
   ],
   "source": [
    "event_candidate.sent\n",
    "#event_candidate"
   ]
  },
  {
   "cell_type": "code",
   "execution_count": 5,
   "metadata": {
    "scrolled": true
   },
   "outputs": [
    {
     "data": {
      "text/plain": [
       "36"
      ]
     },
     "execution_count": 5,
     "metadata": {},
     "output_type": "execute_result"
    }
   ],
   "source": [
    "event_candidate.trigger_index"
   ]
  },
  {
   "cell_type": "markdown",
   "metadata": {},
   "source": [
    "Event candidates also have a set of candidate arguments. These point to token spans (index of first token, inclusive, index of last token, exclusive) in the sentence that may or may not be *arguments* of the event. In the full event extraction task one needs to predict which of these candidates are true arguments of the events. However, here we will ignore this task, and give you only the information what candidates exist, not what their labels are. Note that this information can still be **very important** to understand what type of event the candidate corresponds to, if any. "
   ]
  },
  {
   "cell_type": "code",
   "execution_count": 90,
   "metadata": {
    "scrolled": true
   },
   "outputs": [
    {
     "data": {
      "text/plain": [
       "[(2, 6), (23, 24), (24, 25), (59, 63)]"
      ]
     },
     "execution_count": 90,
     "metadata": {},
     "output_type": "execute_result"
    }
   ],
   "source": [
    "event_candidate, label = event_corpus[11]\n",
    "event_candidate.argument_candidate_spans[:4]"
   ]
  },
  {
   "cell_type": "code",
   "execution_count": 108,
   "metadata": {},
   "outputs": [
    {
     "data": {
      "text/html": [
       "First , treatment <font color='red'>[</font>of<font color='red'>]</font> <font color='red'>[</font><font color='blue'>[IRF-4]</font><font color='red'>]</font> <font color='red'>[</font>-negative<font color='red'>]</font> lymphoid , myeloid and monocytic cell lines <font color='red'>[</font>with<font color='red'>]</font> the <font color='red'>[</font>methylation-inhibitor<font color='red'>]</font> 5-aza-2-deoxycytidine <font color='green'>resulted</font> in a time <font color='red'>[</font>-<font color='red'>]</font> and <font color='red'>[</font>concentration-dependent<font color='red'>]</font> <font color='red'>[</font>increase<font color='red'>]</font> <font color='red'>[</font>of<font color='red'>]</font> <font color='red'>[</font><font color='blue'>[IRF-4]</font><font color='red'>]</font> <font color='red'>[</font>mRNA<font color='red'>]</font> and <font color='red'>[</font>protein<font color='red'>]</font> <font color='red'>[</font>levels<font color='red'>]</font> ."
      ],
      "text/plain": [
       "<statnlpbook.bio.EventCandidate at 0x7fb01b190a20>"
      ]
     },
     "execution_count": 108,
     "metadata": {},
     "output_type": "execute_result"
    }
   ],
   "source": [
    "event_candidate, label = event_corpus[49]\n",
    "event_candidate"
   ]
  },
  {
   "cell_type": "code",
   "execution_count": 109,
   "metadata": {},
   "outputs": [
    {
     "data": {
      "text/html": [
       "\n",
       "    <div id='displacy27' style=\"overflow: scroll; width: 5000px;\"></div>\n",
       "    <script>\n",
       "    $(function() {\n",
       "    requirejs.config({\n",
       "        paths: {\n",
       "            'displaCy': ['/files/node_modules/displacy/displacy'],\n",
       "                                                  // strip .js ^, require adds it back\n",
       "        },\n",
       "    });\n",
       "    require(['displaCy'], function() {\n",
       "        console.log(\"Loaded :)\");\n",
       "        const displacy = new displaCy('http://localhost:8000', {\n",
       "            container: '#displacy27',\n",
       "            format: 'spacy',\n",
       "            distance: 150,\n",
       "            offsetX: 0,\n",
       "            wordSpacing: 20,\n",
       "            arrowSpacing: 3,\n",
       "\n",
       "        });\n",
       "        const parse = {\n",
       "            arcs: [{\"dir\": \"left\", \"start\": 0, \"label\": \"advmod\", \"end\": 17}, {\"dir\": \"left\", \"start\": 2, \"label\": \"nsubj\", \"end\": 17}, {\"dir\": \"left\", \"start\": 4, \"label\": \"nn\", \"end\": 12}, {\"dir\": \"left\", \"start\": 5, \"label\": \"amod\", \"end\": 12}, {\"dir\": \"left\", \"start\": 6, \"label\": \"amod\", \"end\": 12}, {\"dir\": \"right\", \"start\": 6, \"label\": \"conj_and\", \"end\": 8}, {\"dir\": \"left\", \"start\": 8, \"label\": \"amod\", \"end\": 12}, {\"dir\": \"right\", \"start\": 6, \"label\": \"conj_and\", \"end\": 10}, {\"dir\": \"left\", \"start\": 10, \"label\": \"amod\", \"end\": 12}, {\"dir\": \"left\", \"start\": 11, \"label\": \"nn\", \"end\": 12}, {\"dir\": \"right\", \"start\": 2, \"label\": \"prep_of\", \"end\": 12}, {\"dir\": \"left\", \"start\": 14, \"label\": \"det\", \"end\": 16}, {\"dir\": \"left\", \"start\": 15, \"label\": \"amod\", \"end\": 16}, {\"dir\": \"right\", \"start\": 2, \"label\": \"prep_with\", \"end\": 16}, {\"dir\": \"left\", \"start\": 19, \"label\": \"det\", \"end\": 20}, {\"dir\": \"right\", \"start\": 17, \"label\": \"prep_in\", \"end\": 20}, {\"dir\": \"left\", \"start\": 23, \"label\": \"amod\", \"end\": 24}, {\"dir\": \"right\", \"start\": 17, \"label\": \"prep_in\", \"end\": 24}, {\"dir\": \"right\", \"start\": 20, \"label\": \"conj_and\", \"end\": 24}, {\"dir\": \"left\", \"start\": 26, \"label\": \"nn\", \"end\": 27}, {\"dir\": \"right\", \"start\": 24, \"label\": \"prep_of\", \"end\": 27}, {\"dir\": \"left\", \"start\": 29, \"label\": \"nn\", \"end\": 30}, {\"dir\": \"right\", \"start\": 24, \"label\": \"prep_of\", \"end\": 30}, {\"dir\": \"right\", \"start\": 27, \"label\": \"conj_and\", \"end\": 30}],\n",
       "            words: [{\"text\": \"First\", \"tag\": \"RB\"}, {\"text\": \",\", \"tag\": \",\"}, {\"text\": \"treatment\", \"tag\": \"NN\"}, {\"text\": \"of\", \"tag\": \"IN\"}, {\"text\": \"IRF-4\", \"tag\": \"NN\"}, {\"text\": \"-negative\", \"tag\": \"JJ\"}, {\"text\": \"lymphoid\", \"tag\": \"JJ\"}, {\"text\": \",\", \"tag\": \",\"}, {\"text\": \"myeloid\", \"tag\": \"JJ\"}, {\"text\": \"and\", \"tag\": \"CC\"}, {\"text\": \"monocytic\", \"tag\": \"JJ\"}, {\"text\": \"cell\", \"tag\": \"NN\"}, {\"text\": \"lines\", \"tag\": \"NNS\"}, {\"text\": \"with\", \"tag\": \"IN\"}, {\"text\": \"the\", \"tag\": \"DT\"}, {\"text\": \"methylation-inhibitor\", \"tag\": \"JJ\"}, {\"text\": \"5-aza-2-deoxycytidine\", \"tag\": \"NN\"}, {\"text\": \"resulted\", \"tag\": \"VBD\"}, {\"text\": \"in\", \"tag\": \"IN\"}, {\"text\": \"a\", \"tag\": \"DT\"}, {\"text\": \"time\", \"tag\": \"NN\"}, {\"text\": \"-\", \"tag\": \":\"}, {\"text\": \"and\", \"tag\": \"CC\"}, {\"text\": \"concentration-dependent\", \"tag\": \"JJ\"}, {\"text\": \"increase\", \"tag\": \"NN\"}, {\"text\": \"of\", \"tag\": \"IN\"}, {\"text\": \"IRF-4\", \"tag\": \"NN\"}, {\"text\": \"mRNA\", \"tag\": \"NN\"}, {\"text\": \"and\", \"tag\": \"CC\"}, {\"text\": \"protein\", \"tag\": \"NN\"}, {\"text\": \"levels\", \"tag\": \"NNS\"}, {\"text\": \".\", \"tag\": \".\"}]\n",
       "        };\n",
       "\n",
       "        displacy.render(parse, {\n",
       "            uniqueId: 'render_displacy27'\n",
       "            //color: '#ff0000'\n",
       "        });\n",
       "        return {};\n",
       "    });\n",
       "    });\n",
       "    </script>"
      ],
      "text/plain": [
       "<IPython.core.display.HTML object>"
      ]
     },
     "execution_count": 109,
     "metadata": {},
     "output_type": "execute_result"
    }
   ],
   "source": [
    "bio.render_dependencies(event_candidate.sent)"
   ]
  },
  {
   "cell_type": "code",
   "execution_count": 22,
   "metadata": {},
   "outputs": [
    {
     "data": {
      "text/plain": [
       "[{'begin': 4, 'end': 5, 'label': 'Protein'},\n",
       " {'begin': 26, 'end': 27, 'label': 'Protein'}]"
      ]
     },
     "execution_count": 22,
     "metadata": {},
     "output_type": "execute_result"
    }
   ],
   "source": [
    "\n",
    "event_candidate.sent.mentions"
   ]
  },
  {
   "cell_type": "markdown",
   "metadata": {},
   "source": [
    "You can compactly visualise the complete candidate using `bio.render_event`, as shown below. Here the green span corresponds to the token at the trigger index. The spans in red brackets correspond to the argument candidates. The blue spans are protein mentions. "
   ]
  },
  {
   "cell_type": "markdown",
   "metadata": {},
   "source": [
    "### Sentences\n",
    "The sentence object of an event candidate provides additional information about the sentence, such as what spans are proteins, what Part-of-Speech labels the tokens have, and a dependency parse of the sentence. First, the `tokens` field of a sentence provides useful features of tokens: "
   ]
  },
  {
   "cell_type": "code",
   "execution_count": 97,
   "metadata": {
    "scrolled": true
   },
   "outputs": [
    {
     "data": {
      "text/plain": [
       "{'begin': 873,\n",
       " 'end': 883,\n",
       " 'index': 15,\n",
       " 'pos': 'NN',\n",
       " 'stem': 'express',\n",
       " 'word': 'expression'}"
      ]
     },
     "execution_count": 97,
     "metadata": {},
     "output_type": "execute_result"
    }
   ],
   "source": [
    "event_candidate.sent.tokens[event_candidate.trigger_index]"
   ]
  },
  {
   "cell_type": "markdown",
   "metadata": {},
   "source": [
    "The `dependencies` field stores lexical dependencies between words:"
   ]
  },
  {
   "cell_type": "code",
   "execution_count": 92,
   "metadata": {
    "scrolled": true
   },
   "outputs": [
    {
     "data": {
      "text/plain": [
       "{'head': 44, 'label': 'nsubj', 'mod': 0}"
      ]
     },
     "execution_count": 92,
     "metadata": {},
     "output_type": "execute_result"
    }
   ],
   "source": [
    "event_candidate.sent.dependencies[0]"
   ]
  },
  {
   "cell_type": "markdown",
   "metadata": {},
   "source": [
    "You can render the dependency graph of a sentence like so:"
   ]
  },
  {
   "cell_type": "code",
   "execution_count": 14,
   "metadata": {
    "scrolled": true
   },
   "outputs": [
    {
     "data": {
      "text/html": [
       "\n",
       "    <div id='displacy0' style=\"overflow: scroll; width: 5000px;\"></div>\n",
       "    <script>\n",
       "    $(function() {\n",
       "    requirejs.config({\n",
       "        paths: {\n",
       "            'displaCy': ['/files/node_modules/displacy/displacy'],\n",
       "                                                  // strip .js ^, require adds it back\n",
       "        },\n",
       "    });\n",
       "    require(['displaCy'], function() {\n",
       "        console.log(\"Loaded :)\");\n",
       "        const displacy = new displaCy('http://localhost:8000', {\n",
       "            container: '#displacy0',\n",
       "            format: 'spacy',\n",
       "            distance: 150,\n",
       "            offsetX: 0,\n",
       "            wordSpacing: 20,\n",
       "            arrowSpacing: 3,\n",
       "\n",
       "        });\n",
       "        const parse = {\n",
       "            arcs: [{\"dir\": \"left\", \"start\": 0, \"label\": \"nsubj\", \"end\": 44}, {\"dir\": \"left\", \"start\": 2, \"label\": \"nn\", \"end\": 4}, {\"dir\": \"left\", \"start\": 3, \"label\": \"amod\", \"end\": 4}, {\"dir\": \"left\", \"start\": 4, \"label\": \"nn\", \"end\": 7}, {\"dir\": \"right\", \"start\": 4, \"label\": \"num\", \"end\": 5}, {\"dir\": \"left\", \"start\": 6, \"label\": \"nn\", \"end\": 7}, {\"dir\": \"right\", \"start\": 0, \"label\": \"prep_of\", \"end\": 7}, {\"dir\": \"left\", \"start\": 9, \"label\": \"amod\", \"end\": 10}, {\"dir\": \"right\", \"start\": 7, \"label\": \"prep_in\", \"end\": 10}, {\"dir\": \"right\", \"start\": 7, \"label\": \"prep_due_to\", \"end\": 13}, {\"dir\": \"left\", \"start\": 15, \"label\": \"nn\", \"end\": 16}, {\"dir\": \"right\", \"start\": 13, \"label\": \"prep_of\", \"end\": 16}, {\"dir\": \"left\", \"start\": 18, \"label\": \"det\", \"end\": 20}, {\"dir\": \"left\", \"start\": 19, \"label\": \"nn\", \"end\": 20}, {\"dir\": \"right\", \"start\": 0, \"label\": \"prep_in\", \"end\": 20}, {\"dir\": \"left\", \"start\": 21, \"label\": \"mark\", \"end\": 28}, {\"dir\": \"left\", \"start\": 22, \"label\": \"det\", \"end\": 25}, {\"dir\": \"left\", \"start\": 23, \"label\": \"nn\", \"end\": 25}, {\"dir\": \"left\", \"start\": 24, \"label\": \"nn\", \"end\": 25}, {\"dir\": \"left\", \"start\": 25, \"label\": \"nsubjpass\", \"end\": 28}, {\"dir\": \"left\", \"start\": 25, \"label\": \"xsubj\", \"end\": 34}, {\"dir\": \"left\", \"start\": 26, \"label\": \"aux\", \"end\": 28}, {\"dir\": \"left\", \"start\": 27, \"label\": \"auxpass\", \"end\": 28}, {\"dir\": \"left\", \"start\": 28, \"label\": \"advcl\", \"end\": 44}, {\"dir\": \"left\", \"start\": 29, \"label\": \"aux\", \"end\": 34}, {\"dir\": \"left\", \"start\": 30, \"label\": \"cop\", \"end\": 34}, {\"dir\": \"left\", \"start\": 31, \"label\": \"det\", \"end\": 34}, {\"dir\": \"left\", \"start\": 32, \"label\": \"amod\", \"end\": 34}, {\"dir\": \"left\", \"start\": 33, \"label\": \"amod\", \"end\": 34}, {\"dir\": \"right\", \"start\": 28, \"label\": \"xcomp\", \"end\": 34}, {\"dir\": \"left\", \"start\": 36, \"label\": \"amod\", \"end\": 38}, {\"dir\": \"left\", \"start\": 37, \"label\": \"amod\", \"end\": 38}, {\"dir\": \"right\", \"start\": 34, \"label\": \"prep_in\", \"end\": 38}, {\"dir\": \"right\", \"start\": 38, \"label\": \"abbrev\", \"end\": 40}, {\"dir\": \"left\", \"start\": 43, \"label\": \"expl\", \"end\": 44}, {\"dir\": \"left\", \"start\": 45, \"label\": \"amod\", \"end\": 46}, {\"dir\": \"right\", \"start\": 44, \"label\": \"nsubj\", \"end\": 46}, {\"dir\": \"left\", \"start\": 47, \"label\": \"complm\", \"end\": 69}, {\"dir\": \"left\", \"start\": 48, \"label\": \"det\", \"end\": 49}, {\"dir\": \"left\", \"start\": 49, \"label\": \"nsubjpass\", \"end\": 69}, {\"dir\": \"left\", \"start\": 51, \"label\": \"amod\", \"end\": 52}, {\"dir\": \"right\", \"start\": 49, \"label\": \"prep_of\", \"end\": 52}, {\"dir\": \"left\", \"start\": 56, \"label\": \"det\", \"end\": 61}, {\"dir\": \"left\", \"start\": 57, \"label\": \"nn\", \"end\": 61}, {\"dir\": \"left\", \"start\": 58, \"label\": \"nn\", \"end\": 61}, {\"dir\": \"left\", \"start\": 59, \"label\": \"nn\", \"end\": 61}, {\"dir\": \"left\", \"start\": 60, \"label\": \"amod\", \"end\": 61}, {\"dir\": \"right\", \"start\": 52, \"label\": \"prep_such_as\", \"end\": 61}, {\"dir\": \"right\", \"start\": 61, \"label\": \"num\", \"end\": 62}, {\"dir\": \"right\", \"start\": 61, \"label\": \"abbrev\", \"end\": 64}, {\"dir\": \"left\", \"start\": 67, \"label\": \"auxpass\", \"end\": 69}, {\"dir\": \"left\", \"start\": 68, \"label\": \"advmod\", \"end\": 69}, {\"dir\": \"right\", \"start\": 46, \"label\": \"ccomp\", \"end\": 69}, {\"dir\": \"left\", \"start\": 71, \"label\": \"det\", \"end\": 72}, {\"dir\": \"right\", \"start\": 69, \"label\": \"prep_in\", \"end\": 72}, {\"dir\": \"right\", \"start\": 72, \"label\": \"prep_of\", \"end\": 74}],\n",
       "            words: [{\"text\": \"Down-regulation\", \"tag\": \"NN\"}, {\"text\": \"of\", \"tag\": \"IN\"}, {\"text\": \"interferon\", \"tag\": \"NN\"}, {\"text\": \"regulatory\", \"tag\": \"JJ\"}, {\"text\": \"factor\", \"tag\": \"NN\"}, {\"text\": \"4\", \"tag\": \"CD\"}, {\"text\": \"gene\", \"tag\": \"NN\"}, {\"text\": \"expression\", \"tag\": \"NN\"}, {\"text\": \"in\", \"tag\": \"IN\"}, {\"text\": \"leukemic\", \"tag\": \"JJ\"}, {\"text\": \"cells\", \"tag\": \"NNS\"}, {\"text\": \"due\", \"tag\": \"IN\"}, {\"text\": \"to\", \"tag\": \"TO\"}, {\"text\": \"hypermethylation\", \"tag\": \"NN\"}, {\"text\": \"of\", \"tag\": \"IN\"}, {\"text\": \"CpG\", \"tag\": \"NN\"}, {\"text\": \"motifs\", \"tag\": \"NNS\"}, {\"text\": \"in\", \"tag\": \"IN\"}, {\"text\": \"the\", \"tag\": \"DT\"}, {\"text\": \"promoter\", \"tag\": \"NN\"}, {\"text\": \"region\", \"tag\": \"NN\"}, {\"text\": \"Although\", \"tag\": \"IN\"}, {\"text\": \"the\", \"tag\": \"DT\"}, {\"text\": \"bcr\", \"tag\": \"NN\"}, {\"text\": \"-abl\", \"tag\": \"NN\"}, {\"text\": \"translocation\", \"tag\": \"NN\"}, {\"text\": \"has\", \"tag\": \"VBZ\"}, {\"text\": \"been\", \"tag\": \"VBN\"}, {\"text\": \"shown\", \"tag\": \"VBN\"}, {\"text\": \"to\", \"tag\": \"TO\"}, {\"text\": \"be\", \"tag\": \"VB\"}, {\"text\": \"the\", \"tag\": \"DT\"}, {\"text\": \"causative\", \"tag\": \"JJ\"}, {\"text\": \"genetic\", \"tag\": \"JJ\"}, {\"text\": \"aberration\", \"tag\": \"NN\"}, {\"text\": \"in\", \"tag\": \"IN\"}, {\"text\": \"chronic\", \"tag\": \"JJ\"}, {\"text\": \"myeloid\", \"tag\": \"JJ\"}, {\"text\": \"leukemia\", \"tag\": \"NN\"}, {\"text\": \"(\", \"tag\": \"-LRB-\"}, {\"text\": \"CML\", \"tag\": \"NN\"}, {\"text\": \")\", \"tag\": \"-RRB-\"}, {\"text\": \",\", \"tag\": \",\"}, {\"text\": \"there\", \"tag\": \"EX\"}, {\"text\": \"is\", \"tag\": \"VBZ\"}, {\"text\": \"mounting\", \"tag\": \"JJ\"}, {\"text\": \"evidence\", \"tag\": \"NN\"}, {\"text\": \"that\", \"tag\": \"IN\"}, {\"text\": \"the\", \"tag\": \"DT\"}, {\"text\": \"deregulation\", \"tag\": \"NN\"}, {\"text\": \"of\", \"tag\": \"IN\"}, {\"text\": \"other\", \"tag\": \"JJ\"}, {\"text\": \"genes\", \"tag\": \"NNS\"}, {\"text\": \",\", \"tag\": \",\"}, {\"text\": \"such\", \"tag\": \"JJ\"}, {\"text\": \"as\", \"tag\": \"IN\"}, {\"text\": \"the\", \"tag\": \"DT\"}, {\"text\": \"transcription\", \"tag\": \"NN\"}, {\"text\": \"factor\", \"tag\": \"NN\"}, {\"text\": \"interferon\", \"tag\": \"NN\"}, {\"text\": \"regulatory\", \"tag\": \"JJ\"}, {\"text\": \"factor\", \"tag\": \"NN\"}, {\"text\": \"4\", \"tag\": \"CD\"}, {\"text\": \"(\", \"tag\": \"-LRB-\"}, {\"text\": \"IRF-4\", \"tag\": \"NN\"}, {\"text\": \")\", \"tag\": \"-RRB-\"}, {\"text\": \",\", \"tag\": \",\"}, {\"text\": \"is\", \"tag\": \"VBZ\"}, {\"text\": \"also\", \"tag\": \"RB\"}, {\"text\": \"implicated\", \"tag\": \"VBN\"}, {\"text\": \"in\", \"tag\": \"IN\"}, {\"text\": \"the\", \"tag\": \"DT\"}, {\"text\": \"pathogenesis\", \"tag\": \"NN\"}, {\"text\": \"of\", \"tag\": \"IN\"}, {\"text\": \"CML\", \"tag\": \"NN\"}, {\"text\": \".\", \"tag\": \".\"}]\n",
       "        };\n",
       "\n",
       "        displacy.render(parse, {\n",
       "            uniqueId: 'render_displacy0'\n",
       "            //color: '#ff0000'\n",
       "        });\n",
       "        return {};\n",
       "    });\n",
       "    });\n",
       "    </script>"
      ],
      "text/plain": [
       "<IPython.core.display.HTML object>"
      ]
     },
     "execution_count": 14,
     "metadata": {},
     "output_type": "execute_result"
    }
   ],
   "source": [
    "event_candidate, label = event_corpus[2]\n",
    "bio.render_dependencies(event_candidate.sent)"
   ]
  },
  {
   "cell_type": "code",
   "execution_count": 15,
   "metadata": {},
   "outputs": [
    {
     "name": "stdout",
     "output_type": "stream",
     "text": [
      "7\n"
     ]
    },
    {
     "data": {
      "text/html": [
       "<font color='red'>[</font>Down-regulation<font color='red'>]</font> <font color='red'>[</font>of<font color='red'>]</font> <font color='red'>[</font><font color='blue'>[interferon regulatory factor 4]</font><font color='red'>]</font> gene <font color='green'>expression</font> in leukemic cells <font color='red'>[</font>due<font color='red'>]</font> <font color='red'>[</font>to<font color='red'>]</font> hypermethylation <font color='red'>[</font>of<font color='red'>]</font> CpG motifs in the <font color='red'>[</font>promoter<font color='red'>]</font> region Although the <font color='red'>[</font><font color='blue'>[bcr]</font><font color='red'>]</font> <font color='red'>[</font><font color='blue'>[-abl]</font><font color='red'>]</font> <font color='red'>[</font>translocation<font color='red'>]</font> has been shown <font color='red'>[</font>to<font color='red'>]</font> be the causative genetic <font color='red'>[</font>aberration<font color='red'>]</font> in chronic myeloid leukemia ( CML ) , there is mounting evidence <font color='red'>[</font>that<font color='red'>]</font> the <font color='red'>[</font>deregulation<font color='red'>]</font> <font color='red'>[</font>of<font color='red'>]</font> other genes , such as the <font color='red'>[</font>transcription<font color='red'>]</font> <font color='red'>[</font>factor<font color='red'>]</font> <font color='red'>[</font><font color='blue'>[interferon regulatory factor 4]</font><font color='red'>]</font> ( <font color='red'>[</font><font color='blue'>[IRF-4]</font><font color='red'>]</font> ) , is also <font color='red'>[</font>implicated<font color='red'>]</font> in the pathogenesis <font color='red'>[</font>of<font color='red'>]</font> CML ."
      ],
      "text/plain": [
       "<statnlpbook.bio.EventCandidate at 0x7f4555b5a470>"
      ]
     },
     "execution_count": 15,
     "metadata": {},
     "output_type": "execute_result"
    }
   ],
   "source": [
    "event_candidate, label = event_corpus[2]\n",
    "#0,2,11,32,34,38,39,43,44,46,49,52,62\n",
    "print(event_candidate.trigger_index)\n",
    "#print(event_candidate.sent.mentions)\n",
    "#print(event_candidate.sent.parents,event_candidate.sent.children)\n",
    "event_candidate"
   ]
  },
  {
   "cell_type": "markdown",
   "metadata": {},
   "source": [
    "You can learn about the dependency labels in the [Stanford typed dependencies manual](http://nlp.stanford.edu/software/dependencies_manual.pdf). We also provide [lecture notes on dependency parsing](/notebooks/chapters/Transition-based%20dependency%20parsing.ipynb), including various pointers to more information. \n",
    "\n",
    "The `mentions` stores which spans correspond to proteins."
   ]
  },
  {
   "cell_type": "code",
   "execution_count": 187,
   "metadata": {
    "scrolled": true
   },
   "outputs": [
    {
     "data": {
      "text/plain": [
       "[{'begin': 2, 'end': 6, 'label': 'Protein'},\n",
       " {'begin': 23, 'end': 24, 'label': 'Protein'},\n",
       " {'begin': 24, 'end': 25, 'label': 'Protein'},\n",
       " {'begin': 59, 'end': 63, 'label': 'Protein'},\n",
       " {'begin': 64, 'end': 65, 'label': 'Protein'}]"
      ]
     },
     "execution_count": 187,
     "metadata": {},
     "output_type": "execute_result"
    }
   ],
   "source": [
    "event_candidate, label = event_corpus[1]\n",
    "event_candidate.sent.mentions"
   ]
  },
  {
   "cell_type": "markdown",
   "metadata": {},
   "source": [
    "There are some convenience functions for the sentence to check all the syntactic parents or children of a token, or whether a specific token is within a protein mention. These can be useful when designing features:"
   ]
  },
  {
   "cell_type": "code",
   "execution_count": 12,
   "metadata": {
    "scrolled": true
   },
   "outputs": [
    {
     "data": {
      "text/plain": [
       "([(44, 'nsubj')], [(7, 'prep_of'), (20, 'prep_in')])"
      ]
     },
     "execution_count": 12,
     "metadata": {},
     "output_type": "execute_result"
    }
   ],
   "source": [
    "event_candidate.sent.parents[0], event_candidate.sent.children[0] "
   ]
  },
  {
   "cell_type": "code",
   "execution_count": 296,
   "metadata": {
    "scrolled": true
   },
   "outputs": [
    {
     "data": {
      "text/plain": [
       "(True, False)"
      ]
     },
     "execution_count": 296,
     "metadata": {},
     "output_type": "execute_result"
    }
   ],
   "source": [
    "event_candidate.sent.is_protein[14], event_candidate.sent.is_protein[7]"
   ]
  },
  {
   "cell_type": "markdown",
   "metadata": {},
   "source": [
    "### Labels\n",
    "It is useful to know the complete set of event labels:"
   ]
  },
  {
   "cell_type": "code",
   "execution_count": 239,
   "metadata": {
    "scrolled": true
   },
   "outputs": [
    {
     "data": {
      "text/plain": [
       "{'Binding',\n",
       " 'Gene_expression',\n",
       " 'Localization',\n",
       " 'Negative_regulation',\n",
       " 'None',\n",
       " 'Phosphorylation',\n",
       " 'Positive_regulation',\n",
       " 'Protein_catabolism',\n",
       " 'Regulation',\n",
       " 'Transcription'}"
      ]
     },
     "execution_count": 239,
     "metadata": {},
     "output_type": "execute_result"
    }
   ],
   "source": [
    "{y for _,y in event_corpus}"
   ]
  },
  {
   "cell_type": "markdown",
   "metadata": {},
   "source": [
    "## <font color='blue'>Task 1</font>: Create a Feature Function\n",
    "\n",
    "In this task you will extract a specific feature representation $\\repr(\\x)$ for an event candidate $\\x$. In particular, we want to add as features the syntactic children (modifiers) of the trigger token, together with their syntactic dependency label. A modifier of a token $h$ is a token $m$ that modifies $h$'s meaning. For example, in the noun phrase \"green light\" the adjective \"green\" modifies the noun \"light\". We will refer to the modifier token as the \"child\", and the modified token as \"parent\". Correspondingly, in the dependency graph modifiers are the child nodes of the modified tokens.  \n",
    "\n",
    "The feature function will have to be implemented as a python function that populates a python dictionary with key-value pairs where the key indicates both the word and syntactic label of the child. \n",
    "\n",
    "For example, consider the following event and dependency parse:"
   ]
  },
  {
   "cell_type": "code",
   "execution_count": 66,
   "metadata": {
    "scrolled": true
   },
   "outputs": [
    {
     "data": {
      "text/html": [
       "\n",
       "    <div id='displacy4' style=\"overflow: scroll; width: 5000px;\"></div>\n",
       "    <script>\n",
       "    $(function() {\n",
       "    requirejs.config({\n",
       "        paths: {\n",
       "            'displaCy': ['/files/node_modules/displacy/displacy'],\n",
       "                                                  // strip .js ^, require adds it back\n",
       "        },\n",
       "    });\n",
       "    require(['displaCy'], function() {\n",
       "        console.log(\"Loaded :)\");\n",
       "        const displacy = new displaCy('http://localhost:8000', {\n",
       "            container: '#displacy4',\n",
       "            format: 'spacy',\n",
       "            distance: 150,\n",
       "            offsetX: 0,\n",
       "            wordSpacing: 20,\n",
       "            arrowSpacing: 3,\n",
       "\n",
       "        });\n",
       "        const parse = {\n",
       "            arcs: [{\"dir\": \"left\", \"start\": 0, \"label\": \"det\", \"end\": 2}, {\"dir\": \"left\", \"start\": 1, \"label\": \"nn\", \"end\": 2}, {\"dir\": \"left\", \"start\": 2, \"label\": \"nsubjpass\", \"end\": 4}, {\"dir\": \"left\", \"start\": 3, \"label\": \"auxpass\", \"end\": 4}, {\"dir\": \"left\", \"start\": 6, \"label\": \"det\", \"end\": 10}, {\"dir\": \"left\", \"start\": 7, \"label\": \"number\", \"end\": 8}, {\"dir\": \"left\", \"start\": 8, \"label\": \"amod\", \"end\": 10}, {\"dir\": \"left\", \"start\": 9, \"label\": \"nn\", \"end\": 10}, {\"dir\": \"right\", \"start\": 4, \"label\": \"prep_on\", \"end\": 10}, {\"dir\": \"left\", \"start\": 12, \"label\": \"auxpass\", \"end\": 13}, {\"dir\": \"right\", \"start\": 4, \"label\": \"dep\", \"end\": 13}, {\"dir\": \"left\", \"start\": 15, \"label\": \"nn\", \"end\": 16}, {\"dir\": \"right\", \"start\": 13, \"label\": \"prep_with\", \"end\": 16}, {\"dir\": \"right\", \"start\": 4, \"label\": \"dep\", \"end\": 18}, {\"dir\": \"right\", \"start\": 13, \"label\": \"conj_and\", \"end\": 18}],\n",
       "            words: [{\"text\": \"The\", \"tag\": \"DT\"}, {\"text\": \"PCR\", \"tag\": \"NN\"}, {\"text\": \"products\", \"tag\": \"NNS\"}, {\"text\": \"were\", \"tag\": \"VBD\"}, {\"text\": \"electrophoresed\", \"tag\": \"VBN\"}, {\"text\": \"on\", \"tag\": \"IN\"}, {\"text\": \"a\", \"tag\": \"DT\"}, {\"text\": \"3\", \"tag\": \"CD\"}, {\"text\": \"%\", \"tag\": \"NN\"}, {\"text\": \"agarose\", \"tag\": \"NN\"}, {\"text\": \"gel\", \"tag\": \"NN\"}, {\"text\": \",\", \"tag\": \",\"}, {\"text\": \"were\", \"tag\": \"VBD\"}, {\"text\": \"stained\", \"tag\": \"VBN\"}, {\"text\": \"with\", \"tag\": \"IN\"}, {\"text\": \"ethidium\", \"tag\": \"NN\"}, {\"text\": \"bromide\", \"tag\": \"NN\"}, {\"text\": \"and\", \"tag\": \"CC\"}, {\"text\": \"photographed\", \"tag\": \"VBN\"}, {\"text\": \".\", \"tag\": \".\"}]\n",
       "        };\n",
       "\n",
       "        displacy.render(parse, {\n",
       "            uniqueId: 'render_displacy4'\n",
       "            //color: '#ff0000'\n",
       "        });\n",
       "        return {};\n",
       "    });\n",
       "    });\n",
       "    </script>"
      ],
      "text/plain": [
       "<IPython.core.display.HTML object>"
      ]
     },
     "execution_count": 66,
     "metadata": {},
     "output_type": "execute_result"
    }
   ],
   "source": [
    "example = event_corpus[398][0]\n",
    "bio.render_dependencies(example.sent)"
   ]
  },
  {
   "cell_type": "code",
   "execution_count": 242,
   "metadata": {
    "scrolled": true
   },
   "outputs": [
    {
     "data": {
      "text/plain": [
       "defaultdict(list,\n",
       "            {2: [(0, 'det'), (1, 'nn')],\n",
       "             4: [(2, 'nsubjpass'),\n",
       "              (3, 'auxpass'),\n",
       "              (10, 'prep_on'),\n",
       "              (13, 'dep'),\n",
       "              (18, 'dep')],\n",
       "             8: [(7, 'number')],\n",
       "             10: [(6, 'det'), (8, 'amod'), (9, 'nn')],\n",
       "             13: [(12, 'auxpass'), (16, 'prep_with'), (18, 'conj_and')],\n",
       "             14: [],\n",
       "             16: [(15, 'nn')]})"
      ]
     },
     "execution_count": 242,
     "metadata": {},
     "output_type": "execute_result"
    }
   ],
   "source": [
    "example.sent.dependencies\n",
    "example.sent.children"
   ]
  },
  {
   "cell_type": "markdown",
   "metadata": {},
   "source": [
    "Here the goal is to produce a dictionary that maps the strings \"Child: det->The\" and \"Child: nn->PCR\" to 1.0. \n",
    "\n",
    "To solve this task, implement the feature function below. The passed in `result` is a dictionary you need to populate with more entries, and the `event` argument indicates for which event you need to extract the features. We have already populated the function with some initial code that should get you started.  "
   ]
  },
  {
   "cell_type": "code",
   "execution_count": 243,
   "metadata": {
    "collapsed": true,
    "scrolled": true
   },
   "outputs": [],
   "source": [
    "def add_dependency_child_feats(result, event):\n",
    "    \"\"\"\n",
    "    Append to the `result` dictionary features based on the syntactic dependencies of the event trigger word of\n",
    "    `event`. The feature keys should have the form \"Child: [label]->[word]\" where \"[label]\" is the syntactic label\n",
    "    of the syntatic child (e.g. \"det\" in the case above), and \"[word]\" is the word of the syntactic child (e.g. \"The\" \n",
    "    in the case above).\n",
    "    Args:\n",
    "        result: a defaultdict that returns `0.0` by default. \n",
    "        event: the event for which we want to populate the `result` dictionary with dependency features.\n",
    "    Returns:\n",
    "        Nothing, but populates the `result` dictionary. \n",
    "    \"\"\"\n",
    "    index = event.trigger_index # You will need to change this \n",
    "    for child,label in event.sent.children[index]:\n",
    "        word = example.sent.tokens[child]['word']\n",
    "        result[\"Child: \" + label + \"->\" + word ] += 1.0 \n",
    "    return result"
   ]
  },
  {
   "cell_type": "markdown",
   "metadata": {},
   "source": [
    "## <font color='red'>Assessment 1</font>: Test Feature Function (20 pts)\n",
    "Here we test whether your feature function populates the given dictionary correctly. If the result passes all three tests you get 10 pts. Of course, solutions that just manually populate the result with the specific key value pairs tested below will receive 0 pts as well."
   ]
  },
  {
   "cell_type": "code",
   "execution_count": 244,
   "metadata": {
    "scrolled": true
   },
   "outputs": [
    {
     "data": {
      "text/plain": [
       "(True, True, True)"
      ]
     },
     "execution_count": 244,
     "metadata": {},
     "output_type": "execute_result"
    }
   ],
   "source": [
    "#! ASSESSMENT 1 - DO NOT CHANGE, MOVE NOR COPY\n",
    "result = defaultdict(float)\n",
    "add_dependency_child_feats(result, example)\n",
    "\n",
    "check_1 = len(result) == 2\n",
    "check_2 = result['Child: det->The'] == 1.0\n",
    "check_3 = result['Child: nn->PCR'] == 1.0\n",
    "(check_1, check_2, check_3)"
   ]
  },
  {
   "cell_type": "markdown",
   "metadata": {},
   "source": [
    "## <font color='orange'>Mark</font>:  Your solution to Task 1 is marked with ** __ points**. \n",
    "---"
   ]
  },
  {
   "cell_type": "markdown",
   "metadata": {},
   "source": [
    "## <font color='blue'>Task 2</font>: Implement Model\n",
    "\n",
    "You are to implement the `predict_event_labels` function below. This function gets as input a list of event candidate objects, and then returns a sequence of corresponding labels. You can implement this function in any way you like, again utilising any library on the docker image. We have populated the cell and function with a simple implementation that uses the scikit-learn logistic regression model. You can use this as a starting point and focus on implementing better feature functions. You can also start from scratch if you like. \n"
   ]
  },
  {
   "cell_type": "code",
   "execution_count": 6,
   "metadata": {},
   "outputs": [
    {
     "data": {
      "text/plain": [
       "{'(', ')', ',', '.', 'a', 'activ', 'and', 'cell', 'in', 'of', 'the', 'to'}"
      ]
     },
     "execution_count": 6,
     "metadata": {},
     "output_type": "execute_result"
    }
   ],
   "source": [
    "#count the words in training dataset\n",
    "import numpy as np\n",
    "def cal_term_count(dataset):\n",
    "    term_count = {}\n",
    "    for event,_ in dataset:\n",
    "        for token in event.sent.tokens:\n",
    "            word = token['stem']\n",
    "            if word not in term_count.keys():\n",
    "                term_count[word] = 1\n",
    "            else:\n",
    "                term_count[word] += 1\n",
    "    return term_count\n",
    "\n",
    "count_dict = cal_term_count(event_train)\n",
    "x = sorted(count_dict.items(),key=lambda d:d[1], reverse = True)\n",
    "meaningless = set(np.asarray(x)[:12,0])\n",
    "meaningless"
   ]
  },
  {
   "cell_type": "code",
   "execution_count": 7,
   "metadata": {},
   "outputs": [],
   "source": [
    "corpus = []\n",
    "\n",
    "for event, label in event_train:\n",
    "    sent = \"\"\n",
    "    for span in event.argument_candidate_spans:\n",
    "        for i in range(span[0],span[1]):\n",
    "            if event.sent.tokens[i]['stem'] not in meaningless:\n",
    "                sent = sent + event.sent.tokens[i]['stem'] + \" \"\n",
    "    corpus.append(sent)\n",
    "    \n",
    "from sklearn.feature_extraction.text import CountVectorizer,TfidfTransformer\n",
    "vectorizer = CountVectorizer()  \n",
    "transformer = TfidfTransformer()\n",
    "tfidf = transformer.fit_transform(vectorizer.fit_transform(corpus))\n",
    "\n",
    "#word = vectorizer.get_feature_names() \n",
    "#weight = tfidf.toarray()\n",
    "#text = []\n",
    "\n",
    "#for i in range(len(weight)):\n",
    "#    for j in range(len(word)):\n",
    "#        if 0.95 > weight[i][j] > 0.9:\n",
    "#            text.append([word[j],weight[i][j]])\n",
    "#print(tfidf)"
   ]
  },
  {
   "cell_type": "code",
   "execution_count": 111,
   "metadata": {
    "scrolled": true
   },
   "outputs": [
    {
     "data": {
      "text/plain": [
       "[defaultdict(float,\n",
       "             {'Child: prep_in->region': 1.0,\n",
       "              'Child: prep_of->expression': 1.0,\n",
       "              'GrandChild: det->the': 1.0,\n",
       "              'GrandChild: nn->factor': 1.0,\n",
       "              'GrandChild: nn->gene': 1.0,\n",
       "              'GrandChild: nn->promoter': 1.0,\n",
       "              'GrandChild: prep_due_to->hypermethylation': 1.0,\n",
       "              'GrandChild: prep_in->cells': 1.0,\n",
       "              'Number of Proteins=5': 1.0,\n",
       "              'Parents: nsubj->is': 1.0,\n",
       "              'Protein lies near Down-regul': 1.0,\n",
       "              'minimum distance between protein and trigger = 2': 1.0,\n",
       "              'trigger is not IN': 1.0,\n",
       "              \"trigger's child is not a Protein\": 2.0,\n",
       "              \"trigger's parent is not a Protein\": 1.0,\n",
       "              'trigger_word=Down-regul': 1.0,\n",
       "              'trigger_word=Down-regulation': 1.0,\n",
       "              'trigger_word=NN': 1.0}),\n",
       " defaultdict(float,\n",
       "             {'Number of Proteins=5': 1.0,\n",
       "              'Protein lies near of': 1.0,\n",
       "              'minimum distance between protein and trigger = 1': 1.0,\n",
       "              'trigger is IN': 1.0,\n",
       "              'trigger_word=IN': 1.0,\n",
       "              'trigger_word=of': 2.0}),\n",
       " defaultdict(float,\n",
       "             {'Child: nn->factor': 1.0,\n",
       "              'Child: nn->gene': 1.0,\n",
       "              'Child: prep_due_to->hypermethylation': 1.0,\n",
       "              'Child: prep_in->cells': 1.0,\n",
       "              'GrandChild: amod->leukemic': 1.0,\n",
       "              'GrandChild: amod->regulatory': 1.0,\n",
       "              'GrandChild: nn->interferon': 1.0,\n",
       "              'GrandChild: num->4': 1.0,\n",
       "              'GrandChild: prep_of->motifs': 1.0,\n",
       "              'GrandParent: nsubj->is': 1.0,\n",
       "              'Number of Proteins=5': 1.0,\n",
       "              'Parents: prep_of->Down-regulation': 1.0,\n",
       "              'Protein lies near express': 1.0,\n",
       "              \"Protein's parent is trigger:nn\": 1.0,\n",
       "              'minimum distance between protein and trigger = 16': 1.0,\n",
       "              'trigger is not IN': 1.0,\n",
       "              \"trigger's child is a Protein\": 1.0,\n",
       "              \"trigger's child is not a Protein\": 3.0,\n",
       "              \"trigger's parent is not a Protein\": 1.0,\n",
       "              'trigger_word=NN': 1.0,\n",
       "              'trigger_word=express': 1.0,\n",
       "              'trigger_word=expression': 1.0}),\n",
       " defaultdict(float,\n",
       "             {'Number of Proteins=5': 1.0,\n",
       "              'minimum distance between protein and trigger = 12': 1.0,\n",
       "              'trigger is IN': 1.0,\n",
       "              'trigger_word=IN': 1.0,\n",
       "              'trigger_word=due': 2.0}),\n",
       " defaultdict(float,\n",
       "             {'Number of Proteins=5': 1.0,\n",
       "              'minimum distance between protein and trigger = 11': 1.0,\n",
       "              'trigger is not IN': 1.0,\n",
       "              'trigger_word=TO': 1.0,\n",
       "              'trigger_word=to': 2.0}),\n",
       " defaultdict(float,\n",
       "             {'Number of Proteins=5': 1.0,\n",
       "              'minimum distance between protein and trigger = 9': 1.0,\n",
       "              'trigger is IN': 1.0,\n",
       "              'trigger_word=IN': 1.0,\n",
       "              'trigger_word=of': 2.0}),\n",
       " defaultdict(float,\n",
       "             {'GrandParent: prep_in->Down-regulation': 1.0,\n",
       "              'Number of Proteins=5': 1.0,\n",
       "              'Parents: nn->region': 1.0,\n",
       "              'minimum distance between protein and trigger = 4': 1.0,\n",
       "              'trigger is not IN': 1.0,\n",
       "              \"trigger's parent is not a Protein\": 1.0,\n",
       "              'trigger_word=NN': 1.0,\n",
       "              'trigger_word=promot': 1.0,\n",
       "              'trigger_word=promoter': 1.0}),\n",
       " defaultdict(float,\n",
       "             {'Child: det->the': 1.0,\n",
       "              'Child: nn->-abl': 1.0,\n",
       "              'Child: nn->bcr': 1.0,\n",
       "              'GrandParent: advcl->is': 1.0,\n",
       "              'GrandParent: xcomp->shown': 1.0,\n",
       "              'Number of Proteins=5': 1.0,\n",
       "              'Parents: nsubjpass->shown': 1.0,\n",
       "              'Parents: xsubj->aberration': 1.0,\n",
       "              'Protein lies near transloc': 2.0,\n",
       "              \"Protein's parent is trigger:nn\": 2.0,\n",
       "              'minimum distance between protein and trigger = 34': 1.0,\n",
       "              'trigger is not IN': 1.0,\n",
       "              \"trigger's child is a Protein\": 2.0,\n",
       "              \"trigger's child is not a Protein\": 1.0,\n",
       "              \"trigger's parent is not a Protein\": 2.0,\n",
       "              'trigger_word=NN': 1.0,\n",
       "              'trigger_word=transloc': 1.0,\n",
       "              'trigger_word=translocation': 1.0}),\n",
       " defaultdict(float,\n",
       "             {'GrandParent: xcomp->shown': 1.0,\n",
       "              'Number of Proteins=5': 1.0,\n",
       "              'Parents: aux->aberration': 1.0,\n",
       "              'minimum distance between protein and trigger = 30': 1.0,\n",
       "              'trigger is not IN': 1.0,\n",
       "              \"trigger's parent is not a Protein\": 1.0,\n",
       "              'trigger_word=TO': 1.0,\n",
       "              'trigger_word=to': 2.0}),\n",
       " defaultdict(float,\n",
       "             {'Child: amod->causative': 1.0,\n",
       "              'Child: amod->genetic': 1.0,\n",
       "              'Child: aux->to': 1.0,\n",
       "              'Child: cop->be': 1.0,\n",
       "              'Child: det->the': 1.0,\n",
       "              'Child: prep_in->leukemia': 1.0,\n",
       "              'Child: xsubj->translocation': 1.0,\n",
       "              'GrandChild: abbrev->CML': 1.0,\n",
       "              'GrandChild: amod->chronic': 1.0,\n",
       "              'GrandChild: amod->myeloid': 1.0,\n",
       "              'GrandChild: det->the': 1.0,\n",
       "              'GrandChild: nn->-abl': 1.0,\n",
       "              'GrandChild: nn->bcr': 1.0,\n",
       "              'GrandParent: advcl->is': 1.0,\n",
       "              'Number of Proteins=5': 1.0,\n",
       "              'Parents: xcomp->shown': 1.0,\n",
       "              'minimum distance between protein and trigger = 25': 1.0,\n",
       "              'trigger is not IN': 1.0,\n",
       "              \"trigger's child is not a Protein\": 7.0,\n",
       "              \"trigger's parent is not a Protein\": 1.0,\n",
       "              'trigger_word=NN': 1.0,\n",
       "              'trigger_word=aberr': 1.0,\n",
       "              'trigger_word=aberration': 1.0})]"
      ]
     },
     "execution_count": 111,
     "metadata": {},
     "output_type": "execute_result"
    }
   ],
   "source": [
    "from sklearn.linear_model import LogisticRegression\n",
    "import numpy as np\n",
    "from collections import defaultdict\n",
    "from sklearn.feature_extraction import DictVectorizer\n",
    "from sklearn.preprocessing import LabelEncoder\n",
    "\n",
    "# converts labels into integers, and vice versa, needed by scikit-learn.\n",
    "label_encoder = LabelEncoder()\n",
    "\n",
    "# encodes feature dictionaries as numpy vectors, needed by scikit-learn.\n",
    "vectorizer = DictVectorizer()\n",
    "\n",
    "def event_feat(event):\n",
    "    \"\"\"\n",
    "    This feature function returns a dictionary representation of the event candidate. You can improve the model \n",
    "    by improving this feature function.\n",
    "    Args:\n",
    "        event: the `EventCandidate` object to produce a feature dictionary for.\n",
    "    Returns:\n",
    "        a dictionary with feature keys/indices mapped to feature counts.\n",
    "    \"\"\"\n",
    "    result = defaultdict(float)\n",
    "    trigger = event.trigger_index\n",
    "    result['trigger_word=' + event.sent.tokens[trigger]['word']] += 1.0\n",
    "    result['trigger_word=' + event.sent.tokens[trigger]['stem']] += 1.0\n",
    "    result['trigger_word=' + event.sent.tokens[trigger]['pos']] += 1.0\n",
    "\n",
    "    for child,label in event.sent.children[trigger]:\n",
    "        word = event.sent.tokens[child]['word']\n",
    "        result[\"Child: \" + label + \"->\" + word ] += 1.0 \n",
    "        if event.sent.is_protein[child]:\n",
    "            result[\"trigger's child is a Protein\"] += 1.0\n",
    "        else:\n",
    "            result[\"trigger's child is not a Protein\"] += 1.0\n",
    "        #result[\"Trigger_children:\" + str(child - trigger)] += 1.0\n",
    "        for grandchild,grandlabel in event.sent.children[child]:\n",
    "            grandword = event.sent.tokens[grandchild]['word']\n",
    "            result[\"GrandChild: \" + grandlabel + \"->\" + grandword ] += 1.0 \n",
    "            \n",
    "    for parent,label in event.sent.parents[trigger]:\n",
    "        word = event.sent.tokens[parent]['word']\n",
    "        result[\"Parents: \" + label + \"->\" + word ] += 1.0 \n",
    "        if event.sent.is_protein[parent]:\n",
    "            result[\"trigger's parent is a Protein\"] += 1.0\n",
    "        else:\n",
    "            result[\"trigger's parent is not a Protein\"] += 1.0\n",
    "\n",
    "        #result[\"Trigger_parents:\" + str(parent - trigger)] += 1.0\n",
    "        for grandparent,grandlabel in event.sent.parents[parent]:\n",
    "            grandword = event.sent.tokens[grandparent]['word']\n",
    "            result[\"GrandParent: \" + grandlabel + \"->\" + grandword ] += 1.0 \n",
    "    \n",
    "\n",
    "    if event.sent.tokens[trigger][\"pos\"]!=\"IN\" :\n",
    "        result[\"trigger is not IN\"] += 1.0\n",
    "    elif event.sent.tokens[trigger][\"pos\"]==\"IN\" :\n",
    "        result[\"trigger is IN\"] += 1.0\n",
    "\n",
    "\n",
    "    z = event.sent.mentions\n",
    "    result[\"Number of Proteins=\" + str(len(z))] += 1.0\n",
    "    min_distance = float(\"inf\")\n",
    "    for i in range(len(z)):\n",
    "        begin = z[i][\"begin\"]\n",
    "        end = z[i][\"end\"]\n",
    "        label = z[i][\"label\"]\n",
    "        word = event.sent.tokens[trigger]['stem']\n",
    "        if (end == trigger) or (end == trigger - 1) or (begin == trigger + 1) or (begin == trigger + 2):\n",
    "            result[\"Protein lies near \"+ word] += 1.0\n",
    "\n",
    "        if begin > trigger:\n",
    "            if begin - trigger  <= min_distance:\n",
    "                min_distance = begin - trigger \n",
    "        \n",
    "        \n",
    "        for j in range(begin,end):\n",
    "            for parent,label in event.sent.parents[j]:\n",
    "                if parent == trigger:\n",
    "                    result[\"Protein's parent is trigger:\" + label] += 1.0\n",
    "                        #result[\"distance\"+str(parent-begin)]+=1.0\n",
    "\n",
    "            for child,label in event.sent.children[j]:\n",
    "                if child == trigger:\n",
    "                    result[\"Protein's child is trigger:\" + label] += 1.0\n",
    "                        #result[\"distance\"+str(child-begin)]+=1.0\n",
    "\n",
    "    result[\"minimum distance between protein and trigger = \" + str(min_distance)] += 1.0\n",
    "    return result\n",
    "# We convert the event candidates and their labels into vectors and integers, respectively.\n",
    "train_event_x = vectorizer.fit_transform([event_feat(x) for x,_ in event_train])\n",
    "train_event_y = label_encoder.fit_transform([y for _,y in event_train])\n",
    "\n",
    "# Create and train the model. Feel free to experiment with other parameters and learners.\n",
    "lr = LogisticRegression(C=1,class_weight='balanced')\n",
    "lr.fit(train_event_x, train_event_y)\n",
    "\n",
    "def predict_event_labels(event_candidates):\n",
    "    \"\"\"\n",
    "    This function receives a list of `bio.EventCandidate` objects and predicts their labels. \n",
    "    It is currently implemented using scikit-learn, but you are free to replace it with any other\n",
    "    implementation as long as you fulfil its contract.\n",
    "    Args:\n",
    "        event_candidates: A list of `EventCandidate` objects to label.\n",
    "    Returns:\n",
    "        a list of event labels, where the i-th label belongs to the i-th event candidate in the input.\n",
    "    \"\"\"\n",
    "    event_x = vectorizer.transform([event_feat(e) for e in event_candidates])\n",
    "    event_y = label_encoder.inverse_transform(lr.predict(event_x))\n",
    "    return event_y\n",
    "\n",
    "[event_feat(x) for x,_ in event_train][:10]"
   ]
  },
  {
   "cell_type": "markdown",
   "metadata": {},
   "source": [
    "It is useful to inspect the performance of your model, and see where it makes errors, both on the training set (to check for underfitting) and the development set. We have provided you with utility functions to help with this inspection. Note that you don't have to use these utilities, or the cells below, but it can help you to improve your model, and also with the error analysis and description of the approach in Task 3. \n",
    "\n",
    "First, we give you a breakdown of precision, recall and F1 on different event types:"
   ]
  },
  {
   "cell_type": "code",
   "execution_count": 114,
   "metadata": {},
   "outputs": [
    {
     "data": {
      "text/html": [
       "<div>\n",
       "<table border=\"1\" class=\"dataframe\">\n",
       "  <thead>\n",
       "    <tr style=\"text-align: right;\">\n",
       "      <th></th>\n",
       "      <th>Label</th>\n",
       "      <th>Gold</th>\n",
       "      <th>Guess</th>\n",
       "      <th>Precision</th>\n",
       "      <th>Recall</th>\n",
       "      <th>F1</th>\n",
       "    </tr>\n",
       "  </thead>\n",
       "  <tbody>\n",
       "    <tr>\n",
       "      <th>0</th>\n",
       "      <td>Binding</td>\n",
       "      <td>180</td>\n",
       "      <td>211</td>\n",
       "      <td>0.601896</td>\n",
       "      <td>0.705556</td>\n",
       "      <td>0.649616</td>\n",
       "    </tr>\n",
       "    <tr>\n",
       "      <th>1</th>\n",
       "      <td>Gene_expression</td>\n",
       "      <td>377</td>\n",
       "      <td>423</td>\n",
       "      <td>0.756501</td>\n",
       "      <td>0.848806</td>\n",
       "      <td>0.800000</td>\n",
       "    </tr>\n",
       "    <tr>\n",
       "      <th>2</th>\n",
       "      <td>Localization</td>\n",
       "      <td>71</td>\n",
       "      <td>64</td>\n",
       "      <td>0.781250</td>\n",
       "      <td>0.704225</td>\n",
       "      <td>0.740741</td>\n",
       "    </tr>\n",
       "    <tr>\n",
       "      <th>3</th>\n",
       "      <td>Negative_regulation</td>\n",
       "      <td>210</td>\n",
       "      <td>249</td>\n",
       "      <td>0.550201</td>\n",
       "      <td>0.652381</td>\n",
       "      <td>0.596950</td>\n",
       "    </tr>\n",
       "    <tr>\n",
       "      <th>4</th>\n",
       "      <td>Phosphorylation</td>\n",
       "      <td>32</td>\n",
       "      <td>37</td>\n",
       "      <td>0.837838</td>\n",
       "      <td>0.968750</td>\n",
       "      <td>0.898551</td>\n",
       "    </tr>\n",
       "    <tr>\n",
       "      <th>5</th>\n",
       "      <td>Positive_regulation</td>\n",
       "      <td>570</td>\n",
       "      <td>694</td>\n",
       "      <td>0.582133</td>\n",
       "      <td>0.708772</td>\n",
       "      <td>0.639241</td>\n",
       "    </tr>\n",
       "    <tr>\n",
       "      <th>6</th>\n",
       "      <td>Protein_catabolism</td>\n",
       "      <td>21</td>\n",
       "      <td>23</td>\n",
       "      <td>0.739130</td>\n",
       "      <td>0.809524</td>\n",
       "      <td>0.772727</td>\n",
       "    </tr>\n",
       "    <tr>\n",
       "      <th>7</th>\n",
       "      <td>Regulation</td>\n",
       "      <td>188</td>\n",
       "      <td>208</td>\n",
       "      <td>0.543269</td>\n",
       "      <td>0.601064</td>\n",
       "      <td>0.570707</td>\n",
       "    </tr>\n",
       "    <tr>\n",
       "      <th>8</th>\n",
       "      <td>Transcription</td>\n",
       "      <td>112</td>\n",
       "      <td>125</td>\n",
       "      <td>0.544000</td>\n",
       "      <td>0.607143</td>\n",
       "      <td>0.573840</td>\n",
       "    </tr>\n",
       "    <tr>\n",
       "      <th>9</th>\n",
       "      <td>[All]</td>\n",
       "      <td>1761</td>\n",
       "      <td>2034</td>\n",
       "      <td>0.622911</td>\n",
       "      <td>0.719478</td>\n",
       "      <td>0.667721</td>\n",
       "    </tr>\n",
       "  </tbody>\n",
       "</table>\n",
       "</div>"
      ],
      "text/plain": [
       "                 Label  Gold  Guess  Precision    Recall        F1\n",
       "0              Binding   180    211   0.601896  0.705556  0.649616\n",
       "1      Gene_expression   377    423   0.756501  0.848806  0.800000\n",
       "2         Localization    71     64   0.781250  0.704225  0.740741\n",
       "3  Negative_regulation   210    249   0.550201  0.652381  0.596950\n",
       "4      Phosphorylation    32     37   0.837838  0.968750  0.898551\n",
       "5  Positive_regulation   570    694   0.582133  0.708772  0.639241\n",
       "6   Protein_catabolism    21     23   0.739130  0.809524  0.772727\n",
       "7           Regulation   188    208   0.543269  0.601064  0.570707\n",
       "8        Transcription   112    125   0.544000  0.607143  0.573840\n",
       "9                [All]  1761   2034   0.622911  0.719478  0.667721"
      ]
     },
     "execution_count": 114,
     "metadata": {},
     "output_type": "execute_result"
    }
   ],
   "source": [
    "# This line calls your function to produce labels for the test set\n",
    "event_dev_guess = predict_event_labels([x for x,_ in event_dev[:]])\n",
    "# This line produces a confusion matrix\n",
    "cm_dev = bio.create_confusion_matrix(event_dev,event_dev_guess)  \n",
    "# This line turns the confusion matrix into a evaluation table with Precision, Recall and F1 for all labels.\n",
    "bio.full_evaluation_table(cm_dev)"
   ]
  },
  {
   "cell_type": "markdown",
   "metadata": {},
   "source": [
    "It is useful to inspect [bio.py](/edit/statnlpbook/bio.py) to see how we define precision, recall and F1 score in this context.\n",
    "\n",
    "You can also display a confusion matrix to identify what types of errors you are currently making. Notice that the matrix ignores the \"None\"-\"None\" cell as its counts would overpower all other counts (try removing the `outside_label` argument). "
   ]
  },
  {
   "cell_type": "code",
   "execution_count": 115,
   "metadata": {
    "scrolled": true
   },
   "outputs": [
    {
     "data": {
      "image/png": "[encoded data removed]",
      "text/plain": [
       "<matplotlib.figure.Figure at 0x7fb01a54add8>"
      ]
     },
     "metadata": {},
     "output_type": "display_data"
    }
   ],
   "source": [
    "import statnlpbook.util as util\n",
    "util.plot_confusion_matrix_dict(cm_dev,90, outside_label=\"None\")"
   ]
  },
  {
   "cell_type": "markdown",
   "metadata": {},
   "source": [
    "The confusion matrix can give you hints on what type of errors you should look for and improve upon. This macro view on your model's performance is often more powerful when combined with a micro view on the instances that produce these errors. You can find errors of a specific type using `bio.find_errors` as shown below:"
   ]
  },
  {
   "cell_type": "code",
   "execution_count": 93,
   "metadata": {
    "scrolled": true
   },
   "outputs": [
    {
     "data": {
      "text/plain": [
       "[(<statnlpbook.bio.EventCandidate at 0x7fbd5d922470>, 'Binding', 'None'),\n",
       " (<statnlpbook.bio.EventCandidate at 0x7fbd5d6f6198>, 'Binding', 'None'),\n",
       " (<statnlpbook.bio.EventCandidate at 0x7fbd5d44d668>, 'Binding', 'None')]"
      ]
     },
     "execution_count": 93,
     "metadata": {},
     "output_type": "execute_result"
    }
   ],
   "source": [
    "errors = bio.find_errors(\"Binding\",\"None\", event_dev, event_dev_guess)[:3]\n",
    "errors"
   ]
  },
  {
   "cell_type": "markdown",
   "metadata": {},
   "source": [
    "These errors you can then inspect in detail via `show_event_error`:"
   ]
  },
  {
   "cell_type": "code",
   "execution_count": 94,
   "metadata": {
    "scrolled": true
   },
   "outputs": [
    {
     "data": {
      "text/html": [
       "<table border=\"1\" class=\"dataframe\">\n",
       "  <thead>\n",
       "    <tr style=\"text-align: right;\">\n",
       "      <th>Gold</th>\n",
       "      <th>Guess</th>\n",
       "    </tr>\n",
       "  </thead>\n",
       "  <tbody>\n",
       "    <tr>\n",
       "      <td>Binding</td>\n",
       "      <td>None</td>\n",
       "    </tr>\n",
       "  </tbody>\n",
       "</table>The <font color='red'>[</font>additional<font color='red'>]</font> <font color='red'>[</font>function<font color='red'>]</font> <font color='red'>[</font>that<font color='red'>]</font> is <font color='red'>[</font>required<font color='red'>]</font> <font color='red'>[</font>for<font color='red'>]</font> <font color='red'>[</font>initiation<font color='red'>]</font> <font color='red'>[</font>of<font color='red'>]</font> the lytic viral life cycle is likely <font color='red'>[</font>to<font color='red'>]</font> <font color='red'>[</font>require<font color='red'>]</font> <font color='red'>[</font>phosphorylation<font color='red'>]</font> <font color='red'>[</font>of<font color='red'>]</font> serine 186 <font color='red'>[</font>of<font color='red'>]</font> the <font color='red'>[</font><font color='blue'>[ZEBRA]</font><font color='red'>]</font> <font color='red'>[</font>protein<font color='red'>]</font> , which may <font color='red'>[</font>influence<font color='red'>]</font> either DNA <font color='green'>recognition</font> or <font color='red'>[</font>transcriptional<font color='red'>]</font> <font color='red'>[</font>activation<font color='red'>]</font> <font color='red'>[</font>of<font color='red'>]</font> lytic viral <font color='red'>[</font>promoters<font color='red'>]</font> in a chromatinized viral episome .\n",
       "    <div id='displacy31' style=\"overflow: scroll; width: 5000px;\"></div>\n",
       "    <script>\n",
       "    $(function() {\n",
       "    requirejs.config({\n",
       "        paths: {\n",
       "            'displaCy': ['/files/node_modules/displacy/displacy'],\n",
       "                                                  // strip .js ^, require adds it back\n",
       "        },\n",
       "    });\n",
       "    require(['displaCy'], function() {\n",
       "        console.log(\"Loaded :)\");\n",
       "        const displacy = new displaCy('http://localhost:8000', {\n",
       "            container: '#displacy31',\n",
       "            format: 'spacy',\n",
       "            distance: 150,\n",
       "            offsetX: 0,\n",
       "            wordSpacing: 20,\n",
       "            arrowSpacing: 3,\n",
       "\n",
       "        });\n",
       "        const parse = {\n",
       "            arcs: [{\"dir\": \"left\", \"start\": 0, \"label\": \"det\", \"end\": 2}, {\"dir\": \"left\", \"start\": 1, \"label\": \"amod\", \"end\": 2}, {\"dir\": \"left\", \"start\": 2, \"label\": \"nsubjpass\", \"end\": 5}, {\"dir\": \"left\", \"start\": 2, \"label\": \"nsubj\", \"end\": 15}, {\"dir\": \"left\", \"start\": 4, \"label\": \"auxpass\", \"end\": 5}, {\"dir\": \"right\", \"start\": 2, \"label\": \"rcmod\", \"end\": 5}, {\"dir\": \"right\", \"start\": 5, \"label\": \"prep_for\", \"end\": 7}, {\"dir\": \"left\", \"start\": 9, \"label\": \"det\", \"end\": 13}, {\"dir\": \"left\", \"start\": 10, \"label\": \"amod\", \"end\": 13}, {\"dir\": \"left\", \"start\": 11, \"label\": \"amod\", \"end\": 13}, {\"dir\": \"left\", \"start\": 12, \"label\": \"nn\", \"end\": 13}, {\"dir\": \"right\", \"start\": 7, \"label\": \"prep_of\", \"end\": 13}, {\"dir\": \"left\", \"start\": 14, \"label\": \"cop\", \"end\": 15}, {\"dir\": \"left\", \"start\": 16, \"label\": \"aux\", \"end\": 17}, {\"dir\": \"right\", \"start\": 15, \"label\": \"xcomp\", \"end\": 17}, {\"dir\": \"right\", \"start\": 17, \"label\": \"dobj\", \"end\": 18}, {\"dir\": \"left\", \"start\": 18, \"label\": \"nsubj\", \"end\": 29}, {\"dir\": \"left\", \"start\": 20, \"label\": \"nn\", \"end\": 21}, {\"dir\": \"right\", \"start\": 18, \"label\": \"prep_of\", \"end\": 21}, {\"dir\": \"left\", \"start\": 23, \"label\": \"det\", \"end\": 25}, {\"dir\": \"left\", \"start\": 24, \"label\": \"nn\", \"end\": 25}, {\"dir\": \"right\", \"start\": 21, \"label\": \"prep_of\", \"end\": 25}, {\"dir\": \"left\", \"start\": 28, \"label\": \"aux\", \"end\": 29}, {\"dir\": \"right\", \"start\": 18, \"label\": \"rcmod\", \"end\": 29}, {\"dir\": \"left\", \"start\": 30, \"label\": \"preconj\", \"end\": 32}, {\"dir\": \"left\", \"start\": 31, \"label\": \"nn\", \"end\": 32}, {\"dir\": \"right\", \"start\": 29, \"label\": \"dobj\", \"end\": 32}, {\"dir\": \"left\", \"start\": 34, \"label\": \"amod\", \"end\": 35}, {\"dir\": \"right\", \"start\": 29, \"label\": \"dobj\", \"end\": 35}, {\"dir\": \"right\", \"start\": 32, \"label\": \"conj_or\", \"end\": 35}, {\"dir\": \"left\", \"start\": 37, \"label\": \"amod\", \"end\": 39}, {\"dir\": \"left\", \"start\": 38, \"label\": \"amod\", \"end\": 39}, {\"dir\": \"right\", \"start\": 35, \"label\": \"prep_of\", \"end\": 39}, {\"dir\": \"left\", \"start\": 41, \"label\": \"det\", \"end\": 44}, {\"dir\": \"left\", \"start\": 42, \"label\": \"amod\", \"end\": 44}, {\"dir\": \"left\", \"start\": 43, \"label\": \"amod\", \"end\": 44}, {\"dir\": \"right\", \"start\": 29, \"label\": \"prep_in\", \"end\": 44}],\n",
       "            words: [{\"text\": \"The\", \"tag\": \"DT\"}, {\"text\": \"additional\", \"tag\": \"JJ\"}, {\"text\": \"function\", \"tag\": \"NN\"}, {\"text\": \"that\", \"tag\": \"WDT\"}, {\"text\": \"is\", \"tag\": \"VBZ\"}, {\"text\": \"required\", \"tag\": \"VBN\"}, {\"text\": \"for\", \"tag\": \"IN\"}, {\"text\": \"initiation\", \"tag\": \"NN\"}, {\"text\": \"of\", \"tag\": \"IN\"}, {\"text\": \"the\", \"tag\": \"DT\"}, {\"text\": \"lytic\", \"tag\": \"JJ\"}, {\"text\": \"viral\", \"tag\": \"JJ\"}, {\"text\": \"life\", \"tag\": \"NN\"}, {\"text\": \"cycle\", \"tag\": \"NN\"}, {\"text\": \"is\", \"tag\": \"VBZ\"}, {\"text\": \"likely\", \"tag\": \"JJ\"}, {\"text\": \"to\", \"tag\": \"TO\"}, {\"text\": \"require\", \"tag\": \"VB\"}, {\"text\": \"phosphorylation\", \"tag\": \"NN\"}, {\"text\": \"of\", \"tag\": \"IN\"}, {\"text\": \"serine\", \"tag\": \"NN\"}, {\"text\": \"186\", \"tag\": \"NN\"}, {\"text\": \"of\", \"tag\": \"IN\"}, {\"text\": \"the\", \"tag\": \"DT\"}, {\"text\": \"ZEBRA\", \"tag\": \"NN\"}, {\"text\": \"protein\", \"tag\": \"NN\"}, {\"text\": \",\", \"tag\": \",\"}, {\"text\": \"which\", \"tag\": \"WDT\"}, {\"text\": \"may\", \"tag\": \"MD\"}, {\"text\": \"influence\", \"tag\": \"VB\"}, {\"text\": \"either\", \"tag\": \"CC\"}, {\"text\": \"DNA\", \"tag\": \"NN\"}, {\"text\": \"recognition\", \"tag\": \"NN\"}, {\"text\": \"or\", \"tag\": \"CC\"}, {\"text\": \"transcriptional\", \"tag\": \"JJ\"}, {\"text\": \"activation\", \"tag\": \"NN\"}, {\"text\": \"of\", \"tag\": \"IN\"}, {\"text\": \"lytic\", \"tag\": \"JJ\"}, {\"text\": \"viral\", \"tag\": \"JJ\"}, {\"text\": \"promoters\", \"tag\": \"NNS\"}, {\"text\": \"in\", \"tag\": \"IN\"}, {\"text\": \"a\", \"tag\": \"DT\"}, {\"text\": \"chromatinized\", \"tag\": \"JJ\"}, {\"text\": \"viral\", \"tag\": \"JJ\"}, {\"text\": \"episome\", \"tag\": \"NN\"}, {\"text\": \".\", \"tag\": \".\"}]\n",
       "        };\n",
       "\n",
       "        displacy.render(parse, {\n",
       "            uniqueId: 'render_displacy31'\n",
       "            //color: '#ff0000'\n",
       "        });\n",
       "        return {};\n",
       "    });\n",
       "    });\n",
       "    </script>"
      ],
      "text/plain": [
       "<IPython.core.display.HTML object>"
      ]
     },
     "execution_count": 94,
     "metadata": {},
     "output_type": "execute_result"
    }
   ],
   "source": [
    "bio.show_event_error(*errors[1])"
   ]
  },
  {
   "cell_type": "markdown",
   "metadata": {},
   "source": [
    "It can also be very useful to inspect your feature map for the given instance. Sometimes this leads you to find out that you have a bug in your feature calculation, or that the feature representation is still insufficient for other reasons."
   ]
  },
  {
   "cell_type": "code",
   "execution_count": 95,
   "metadata": {
    "scrolled": true
   },
   "outputs": [
    {
     "data": {
      "text/plain": [
       "defaultdict(float,\n",
       "            {'Number of Proteins=1': 1.0,\n",
       "             'Parents: nn->activity': 1.0,\n",
       "             'Protein = EGR-1': 1.0,\n",
       "             'Protein length = 1': 1.0,\n",
       "             'trigger_word=binding': 1.0})"
      ]
     },
     "execution_count": 95,
     "metadata": {},
     "output_type": "execute_result"
    }
   ],
   "source": [
    "event_feat(errors[0][0])"
   ]
  },
  {
   "cell_type": "markdown",
   "metadata": {},
   "source": [
    "## <font color='red'>Assessment 2</font>: Assess Accuracy (50+10 pts) \n",
    "\n",
    "We assess how well your model performs on some unseen test set. We will look at the F1 across all event types, and will score them as follows:\n",
    "\n",
    "* 0-40pts: 17% <= F1 < 60%, linear\n",
    "* 40-50pts: 60% <= F1 < 70%, linear\n",
    "* 50-60pts: 70% <= F1 < 80%, linear\n",
    "\n",
    "The **linear** mapping maps any F1 value between the lower and upper bound linearly to a score. For example, if your model's F1 score is $F=55$, then your score is $40\\frac{F-17}{60-17}$. "
   ]
  },
  {
   "cell_type": "code",
   "execution_count": 116,
   "metadata": {
    "scrolled": true
   },
   "outputs": [
    {
     "data": {
      "text/plain": [
       "0.6677206851119895"
      ]
     },
     "execution_count": 116,
     "metadata": {},
     "output_type": "execute_result"
    }
   ],
   "source": [
    "#! ASSESSMENT 2 - DO NOT CHANGE, MOVE NOR COPY\n",
    "_snlp_event_test = event_dev # This line will be changed by us after submission to point to a test set.\n",
    "_snlp_event_test_guess = predict_event_labels([x for x,_ in _snlp_event_test[:]])\n",
    "_snlp_cm_test = bio.create_confusion_matrix(_snlp_event_test,_snlp_event_test_guess)  \n",
    "bio.evaluate(_snlp_cm_test)[2] # This is the F1 score"
   ]
  },
  {
   "cell_type": "markdown",
   "metadata": {},
   "source": [
    "## <font color='orange'>Mark</font>:  Your solution to Task 2 is marked with ** __ points**. \n",
    "---"
   ]
  },
  {
   "cell_type": "markdown",
   "metadata": {},
   "source": [
    "## <font color='blue'>Task 3</font>: Describe your Approach\n",
    "\n",
    "Enter a 500 words max description of your approach **in this cell**. Also provide an **error analysis** of the types of errors your system still makes, with suggestions on how to improve it further. Should you need to include figures in your report, make sure they are Python-generated. For that, feel free to create new cells after this cell (before Assessment 3 cell). Link online images at your risk."
   ]
  },
  {
   "cell_type": "markdown",
   "metadata": {},
   "source": [
    "## <font color='red'>Assessment 3</font>: Assess Description (30 pts) \n",
    "\n",
    "We will mark the description along the following dimensions: \n",
    "\n",
    "* Clarity (10pts: very clear, 0pts: we can't figure out what you did)\n",
    "* Creativity (10pts: we could not have come up with this, 0pts: Use only word based features of the trigger word)\n",
    "* Substance (10pts: implemented complex state-of-the-art classifier, 0pts: Only use what is already there)"
   ]
  },
  {
   "cell_type": "markdown",
   "metadata": {},
   "source": [
    "Overfitting is a common problem in machine learning, where a model performs well on training data but does not generalize well to unseen data (test data). Overfitting occurs when a model is excessively complex, such as having too many parameters relative to the number of observations. A model that has been overfit has poor predictive performance, as it overreacts to minor fluctuations in the training data.\n",
    "\n",
    "On the contrary, our model can also suffer from underfitting (high bias), which means that our model is not complex enough to capture the pattern in the training data well and therefore also suffers from low performance on unseen data.\n",
    "\n",
    "Regularization is a way of finding a good bias-variance tradeoff by tuning the complexity of the model. It is a very useful method to handle collinearity (high correlation among features), filter out noise from data, and eventually prevent overfitting.\n",
    "\n",
    "L2 regularization\n",
    " "
   ]
  },
  {
   "cell_type": "markdown",
   "metadata": {},
   "source": [
    "## Training dataset data structure\n",
    "\n",
    "\n",
    "## Feature extracted\n",
    " - \n"
   ]
  },
  {
   "cell_type": "markdown",
   "metadata": {},
   "source": [
    "## <font color='orange'>Mark</font>:  Your solution to Task 3 is marked with ** __ points**.\n",
    "---"
   ]
  },
  {
   "cell_type": "markdown",
   "metadata": {},
   "source": [
    "## <font color='orange'>Final mark</font>: Your solution to Assignment 2 is marked with ** __points**. "
   ]
  }
 ],
 "metadata": {
  "kernelspec": {
   "display_name": "Python 3",
   "language": "python",
   "name": "python3"
  },
  "language_info": {
   "codemirror_mode": {
    "name": "ipython",
    "version": 3
   },
   "file_extension": ".py",
   "mimetype": "text/x-python",
   "name": "python",
   "nbconvert_exporter": "python",
   "pygments_lexer": "ipython3",
   "version": "3.6.2"
  }
 },
 "nbformat": 4,
 "nbformat_minor": 1
}
