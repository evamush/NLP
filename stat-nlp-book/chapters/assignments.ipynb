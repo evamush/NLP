{
 "cells": [
  {
   "cell_type": "markdown",
   "metadata": {
    "slideshow": {
     "slide_type": "slide"
    }
   },
   "source": [
    "# Assignments"
   ]
  },
  {
   "cell_type": "markdown",
   "metadata": {
    "slideshow": {
     "slide_type": "slide"
    }
   },
   "source": [
    "### Assignments\n",
    "* Require programming, math, and analysis \n",
    "* 3 Assignments, with 30/40/30 weights, where the last assignment is a group assignment:\n",
    "   * Generative Modelling with Smoothing (due Nov 1)\n",
    "   * Discriminative Modelling with Feature Engineering (due Nov 29)\n",
    "   * Representation Learning (due Jan 10)\n",
    "* Usual rules of plagiarism apply\n",
    "* Will use automatic evaluation of your scores on NLP tasks\n"
   ]
  },
  {
   "cell_type": "markdown",
   "metadata": {
    "slideshow": {
     "slide_type": "slide"
    }
   },
   "source": [
    "### Late Penalties\n",
    "* Details [here](https://www.ucl.ac.uk/srs/academic-manual/c4/module-assessment#3.11)\n",
    "* Up to 2 **working days** late: 10% points deduction, but no lower than 50%\n",
    "* 2-5 working days late: Mark capped at 50%\n",
    "* More than 5 working days: 0%"
   ]
  },
  {
   "cell_type": "markdown",
   "metadata": {
    "slideshow": {
     "slide_type": "slide"
    }
   },
   "source": [
    "### Plagiarism \n",
    "* Don't do it\n",
    "* Don't enable it\n",
    "* Check [rules](https://www.ucl.ac.uk/students/exams-and-assessments/plagiarism) if unclear"
   ]
  },
  {
   "cell_type": "markdown",
   "metadata": {
    "slideshow": {
     "slide_type": "slide"
    }
   },
   "source": [
    "### Hints \n",
    "* For good \"soft scores\": Engage with the data (don't just try approaches X, Y, Z until get better results)\n",
    "    * the difference between >80 and >90 can boil down to this\n",
    "* Try to quickly produce a passable solution first\n",
    "* Think about how robust your results (e.g. do they depend on the specific train/dev set split?)\n",
    "* Write-up: be concise, structure your text, motivate decisions\n",
    "* You are allowed to use both development and training set as \"larger training set\" but understand the potential drawbacks."
   ]
  },
  {
   "cell_type": "markdown",
   "metadata": {
    "slideshow": {
     "slide_type": "slide"
    }
   },
   "source": [
    "### Assignment 1\n",
    "* Language Modelling\n",
    "* On [Moodle](https://moodle.ucl.ac.uk/course/view.php?id=23928)"
   ]
  }
 ],
 "metadata": {
  "celltoolbar": "Slideshow",
  "kernelspec": {
   "display_name": "Python 3",
   "language": "python",
   "name": "python3"
  },
  "language_info": {
   "codemirror_mode": {
    "name": "ipython",
    "version": 3
   },
   "file_extension": ".py",
   "mimetype": "text/x-python",
   "name": "python",
   "nbconvert_exporter": "python",
   "pygments_lexer": "ipython3",
   "version": "3.6.2"
  }
 },
 "nbformat": 4,
 "nbformat_minor": 1
}
