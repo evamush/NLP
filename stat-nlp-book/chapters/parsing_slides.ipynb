{
 "cells": [
  {
   "cell_type": "code",
   "execution_count": 1,
   "metadata": {
    "slideshow": {
     "slide_type": "skip"
    }
   },
   "outputs": [],
   "source": [
    "%%capture\n",
    "%load_ext autoreload\n",
    "%autoreload 2\n",
    "import sys\n",
    "sys.path.append(\"..\")\n",
    "import statnlpbook.util as util\n",
    "import statnlpbook.parsing as parsing\n",
    "util.execute_notebook('parsing.ipynb')"
   ]
  },
  {
   "cell_type": "markdown",
   "metadata": {
    "slideshow": {
     "slide_type": "skip"
    }
   },
   "source": [
    "<!---\n",
    "Latex Macros\n",
    "-->\n",
    "$$\n",
    "\\newcommand{\\Xs}{\\mathcal{X}}\n",
    "\\newcommand{\\Ys}{\\mathcal{Y}}\n",
    "\\newcommand{\\y}{\\mathbf{y}}\n",
    "\\newcommand{\\balpha}{\\boldsymbol{\\alpha}}\n",
    "\\newcommand{\\bbeta}{\\boldsymbol{\\beta}}\n",
    "\\newcommand{\\aligns}{\\mathbf{a}}\n",
    "\\newcommand{\\align}{a}\n",
    "\\newcommand{\\source}{\\mathbf{s}}\n",
    "\\newcommand{\\target}{\\mathbf{t}}\n",
    "\\newcommand{\\ssource}{s}\n",
    "\\newcommand{\\starget}{t}\n",
    "\\newcommand{\\repr}{\\mathbf{f}}\n",
    "\\newcommand{\\repry}{\\mathbf{g}}\n",
    "\\newcommand{\\x}{\\mathbf{x}}\n",
    "\\newcommand{\\prob}{p}\n",
    "\\newcommand{\\a}{\\alpha}\n",
    "\\newcommand{\\b}{\\beta}\n",
    "\\newcommand{\\vocab}{V}\n",
    "\\newcommand{\\params}{\\boldsymbol{\\theta}}\n",
    "\\newcommand{\\param}{\\theta}\n",
    "\\DeclareMathOperator{\\perplexity}{PP}\n",
    "\\DeclareMathOperator{\\argmax}{argmax}\n",
    "\\DeclareMathOperator{\\argmin}{argmin}\n",
    "\\newcommand{\\train}{\\mathcal{D}}\n",
    "\\newcommand{\\counts}[2]{\\#_{#1}(#2) }\n",
    "\\newcommand{\\length}[1]{\\text{length}(#1) }\n",
    "\\newcommand{\\indi}{\\mathbb{I}}\n",
    "$$"
   ]
  },
  {
   "cell_type": "markdown",
   "metadata": {
    "slideshow": {
     "slide_type": "slide"
    }
   },
   "source": [
    "# Parsing"
   ]
  },
  {
   "cell_type": "markdown",
   "metadata": {
    "slideshow": {
     "slide_type": "slide"
    }
   },
   "source": [
    "##  Motivation \n",
    "\n",
    "Say want to automatically build a database of this form\n",
    "\n",
    "| Brand   | Parent    |\n",
    "|---------|-----------|\n",
    "| KitKat  | Nestle    |\n",
    "| Lipton  | Unilever  |  \n",
    "| ...     | ...       |  \n",
    "\n",
    "or this [graph](http://geekologie.com/image.php?path=/2012/04/25/parent-companies-large.jpg)"
   ]
  },
  {
   "cell_type": "markdown",
   "metadata": {
    "slideshow": {
     "slide_type": "subslide"
    }
   },
   "source": [
    "Say you find positive textual mentions in this form:\n",
    "\n",
    "> <font color=\"blue\">Dechra Pharmaceuticals</font> has made its second acquisition after purchasing <font color=\"green\">Genitrix</font>."
   ]
  },
  {
   "cell_type": "markdown",
   "metadata": {
    "slideshow": {
     "slide_type": "fragment"
    }
   },
   "source": [
    "\n",
    "> <font color=\"blue\">Trinity Mirror plc</font> is the largest British newspaper after purchasing rival <font color=\"green\">Local World</font>."
   ]
  },
  {
   "cell_type": "markdown",
   "metadata": {
    "slideshow": {
     "slide_type": "fragment"
    }
   },
   "source": [
    "Can you find a pattern? "
   ]
  },
  {
   "cell_type": "markdown",
   "metadata": {
    "slideshow": {
     "slide_type": "subslide"
    }
   },
   "source": [
    "How about this sentence \n",
    "\n",
    "> <font color=\"blue\">Kraft</font> is gearing up for a roll-out of its <font color=\"blue\">Milka</font> brand after purchasing  <font color=\"green\">Cadbury Dairy Milk</font>.\n"
   ]
  },
  {
   "cell_type": "markdown",
   "metadata": {
    "slideshow": {
     "slide_type": "fragment"
    }
   },
   "source": [
    "Wouldn't it be great if we knew that\n",
    "\n",
    "* Kraft is the **subject** of the phrase **purchasing Cadbury Dairy Milk** "
   ]
  },
  {
   "cell_type": "markdown",
   "metadata": {
    "slideshow": {
     "slide_type": "subslide"
    }
   },
   "source": [
    "Check out [enju parser](http://www.nactem.ac.uk/enju/demo.html#2)"
   ]
  },
  {
   "cell_type": "markdown",
   "metadata": {
    "slideshow": {
     "slide_type": "subslide"
    }
   },
   "source": [
    "Parsing is is the process of **finding these trees**:\n",
    "\n",
    "* very important for downstream applications\n",
    "* the \"celebrity\" sub-field of NLP \n",
    "    * partly because it  marries linguistics and NLP\n",
    "* researched bigly in academia and [industry](http://www.telegraph.co.uk/technology/2016/05/17/has-googles-parsey-mcparseface-just-solved-one-of-the-worlds-big/)"
   ]
  },
  {
   "cell_type": "markdown",
   "metadata": {
    "slideshow": {
     "slide_type": "subslide"
    }
   },
   "source": [
    "How is this done?"
   ]
  },
  {
   "cell_type": "markdown",
   "metadata": {
    "slideshow": {
     "slide_type": "slide"
    }
   },
   "source": [
    "## Syntax\n",
    "from the Greek syntaxis (arrangement):\n",
    "\n",
    "* **Constituency**: groups of words act as single units.\n",
    "* **Grammatical Relations**: object, subject, direct object etc. \n",
    "* **Subcategorization**: restrictions on the type of phrases that go with certain words.\n"
   ]
  },
  {
   "cell_type": "markdown",
   "metadata": {
    "slideshow": {
     "slide_type": "subslide"
    }
   },
   "source": [
    "### Constituency\n",
    "\n",
    "* **Noun Phrase** (NP)\n",
    "    * a roll-out of its Milka brand\n",
    "    * Cadbury Dairy Milk\n",
    "    * a roll-out\n",
    "* **Verb Phrase** (VP) \n",
    "    * is gearing up\n",
    "    * purchasing Cadbury Dairy Milk \n",
    "* **Prepositional Phrase** (PP)\n",
    "    * of its Milka brand\n",
    "    * after purchasing Cadbury Dairy Milk"
   ]
  },
  {
   "cell_type": "markdown",
   "metadata": {
    "slideshow": {
     "slide_type": "subslide"
    }
   },
   "source": [
    "### Grammatical Relations\n",
    "> <font color=\"blue\">Kraft</font> is gearing up for a roll-out of its <font color=\"blue\">Milka</font> brand after purchasing  <font color=\"green\">Cadbury Dairy Milk</font>.\n",
    "\n",
    "* *Subject* of purchasing: **Kraft**\n",
    "* *Object* of purchasing: **Cadbury Dairy Milk**"
   ]
  },
  {
   "cell_type": "markdown",
   "metadata": {
    "slideshow": {
     "slide_type": "subslide"
    }
   },
   "source": [
    "### Subcategorization\n",
    "\n",
    "There are more complex (sub) categories of verbs (and other types of words)\n",
    "\n",
    "* Intransitive Verbs: must not have objects\n",
    "    * the student works\n",
    "* Transitive Verbs: must have exactly one object\n",
    "    * Kraft purchased Cadbury Dairy Milk\n",
    "* Ditransitive Verbs: must have two objects\n",
    "    * Give me a break! \n"
   ]
  },
  {
   "cell_type": "markdown",
   "metadata": {
    "slideshow": {
     "slide_type": "slide"
    }
   },
   "source": [
    "## Context Free Grammars \n",
    "\n",
    "Formalise syntax by describing the hierarchical structure of sentences\n"
   ]
  },
  {
   "cell_type": "markdown",
   "metadata": {
    "slideshow": {
     "slide_type": "subslide"
    }
   },
   "source": [
    "A **Context Free Grammar** (CFG) is a 4-tuple \\\\(G=(N,\\Sigma,R,S)\\\\) where\n",
    "\n",
    "  * \\\\(N\\\\) is a set of _non-terminal symbols_.\n",
    "  * \\\\(\\Sigma\\\\) is a set of _terminal symbols_.\n",
    "  * \\\\(R\\\\) is a finite set of _rules_ \\\\(X \\rightarrow Y_1 Y_2\\ldots Y_n\\\\) where \\\\(X \\in N\\\\) and \\\\(Y_i \\in N \\cup \\Sigma\\\\). \n",
    "  * \\\\(S \\in N\\\\) is a _start symbol_. \n"
   ]
  },
  {
   "cell_type": "markdown",
   "metadata": {
    "slideshow": {
     "slide_type": "subslide"
    }
   },
   "source": [
    "Simple example grammar:\n",
    "* NP_p : plural Noun Phrase\n",
    "* NP_s : singular Noun Phrase\n",
    "* VP_s/p: same for verb phrases"
   ]
  },
  {
   "cell_type": "code",
   "execution_count": 2,
   "metadata": {
    "hideCode": true,
    "hidePrompt": true,
    "slideshow": {
     "slide_type": "-"
    }
   },
   "outputs": [
    {
     "data": {
      "text/html": [
       "<table style=\"display: inline-block;\"><tr><td>S</td><td>NP_p VP_p</td></tr><tr><td>S</td><td>NP_s VP_s</td></tr><tr><td>NP_p</td><td>Matko raps</td></tr></table> <table style=\"display: inline-block;\"><tr><td>VP_p</td><td>are ADJ</td></tr><tr><td>NP_s</td><td>Matko</td></tr><tr><td>VP_s</td><td>raps in StatNLP</td></tr></table> <table style=\"display: inline-block;\"><tr><td>ADJ</td><td>silly</td></tr></table>"
      ],
      "text/plain": [
       "<__main__.CFG at 0x109da3198>"
      ]
     },
     "execution_count": 2,
     "metadata": {},
     "output_type": "execute_result"
    }
   ],
   "source": [
    "cfg = CFG.from_rules([('S',    ['NP_p','VP_p']),('S',['NP_s','VP_s']), \n",
    "                      ('NP_p', ['Matko', 'raps']),\n",
    "                      ('VP_p', ['are', 'ADJ']),\n",
    "                      ('NP_s', ['Matko']),\n",
    "                      ('VP_s', ['raps', 'in', 'StatNLP']),\n",
    "                      ('ADJ',  ['silly'])\n",
    "                     ])\n",
    "cfg"
   ]
  },
  {
   "cell_type": "markdown",
   "metadata": {
    "slideshow": {
     "slide_type": "subslide"
    }
   },
   "source": [
    "## (Left-most) Derivation\n",
    "The structure of a sentence with respect to a grammar can be described by its **derivation** (if it exists) "
   ]
  },
  {
   "cell_type": "markdown",
   "metadata": {
    "slideshow": {
     "slide_type": "fragment"
    }
   },
   "source": [
    "Sequence of sequences \\\\(s_1 \\ldots s_n\\\\) such that \n",
    "\n",
    "* \\\\(s_1 = S\\\\)\n",
    "    * first sequence is the start symbol\n",
    "* \\\\(s_n \\in \\Sigma^*\\\\)\n",
    "    * last sequence consists of only terminals.\n",
    "* \\\\(s_i\\\\) for \\\\(i > 1\\\\)\n",
    "    * replace left-most non-terminal \\\\(\\alpha\\\\) in $s_{i-1}$ with right-hand of $\\alpha\\rightarrow \\beta_1,\\ldots,\\beta_n$"
   ]
  },
  {
   "cell_type": "code",
   "execution_count": 3,
   "metadata": {
    "slideshow": {
     "slide_type": "subslide"
    }
   },
   "outputs": [
    {
     "data": {
      "text/plain": [
       "(['S'],\n",
       " ['NP_p', 'VP_p'],\n",
       " ['Matko', 'raps', 'VP_p'],\n",
       " ['Matko', 'raps', 'are', 'ADJ'],\n",
       " ['Matko', 'raps', 'are', 'silly'])"
      ]
     },
     "execution_count": 3,
     "metadata": {},
     "output_type": "execute_result"
    }
   ],
   "source": [
    "generate_deriv(cfg, [cfg.s])"
   ]
  },
  {
   "cell_type": "markdown",
   "metadata": {
    "slideshow": {
     "slide_type": "slide"
    }
   },
   "source": [
    "## Parse Trees\n",
    "Represent derivations as trees"
   ]
  },
  {
   "cell_type": "code",
   "execution_count": 4,
   "metadata": {
    "slideshow": {
     "slide_type": "fragment"
    }
   },
   "outputs": [
    {
     "data": {
      "image/svg+xml": [
       "<?xml version=\"1.0\" encoding=\"UTF-8\" standalone=\"no\"?>\n",
       "<!DOCTYPE svg PUBLIC \"-//W3C//DTD SVG 1.1//EN\"\n",
       " \"http://www.w3.org/Graphics/SVG/1.1/DTD/svg11.dtd\">\n",
       "<!-- Generated by graphviz version 2.40.1 (20161225.0304)\n",
       " -->\n",
       "<!-- Title: %3 Pages: 1 -->\n",
       "<svg width=\"293pt\" height=\"188pt\"\n",
       " viewBox=\"0.00 0.00 293.20 188.00\" xmlns=\"http://www.w3.org/2000/svg\" xmlns:xlink=\"http://www.w3.org/1999/xlink\">\n",
       "<g id=\"graph0\" class=\"graph\" transform=\"scale(1 1) rotate(0) translate(4 184)\">\n",
       "<title>%3</title>\n",
       "<polygon fill=\"#ffffff\" stroke=\"transparent\" points=\"-4,4 -4,-184 289.1957,-184 289.1957,4 -4,4\"/>\n",
       "<!-- 0 -->\n",
       "<g id=\"node1\" class=\"node\">\n",
       "<title>0</title>\n",
       "<ellipse fill=\"none\" stroke=\"#000000\" cx=\"33.1957\" cy=\"-18\" rx=\"33.3925\" ry=\"18\"/>\n",
       "<text text-anchor=\"middle\" x=\"33.1957\" y=\"-13.8\" font-family=\"Times,serif\" font-size=\"14.00\" fill=\"#000000\">Matko</text>\n",
       "</g>\n",
       "<!-- 1 -->\n",
       "<g id=\"node2\" class=\"node\">\n",
       "<title>1</title>\n",
       "<ellipse fill=\"none\" stroke=\"#000000\" cx=\"111.1957\" cy=\"-18\" rx=\"27\" ry=\"18\"/>\n",
       "<text text-anchor=\"middle\" x=\"111.1957\" y=\"-13.8\" font-family=\"Times,serif\" font-size=\"14.00\" fill=\"#000000\">raps</text>\n",
       "</g>\n",
       "<!-- 2 -->\n",
       "<g id=\"node3\" class=\"node\">\n",
       "<title>2</title>\n",
       "<ellipse fill=\"none\" stroke=\"#000000\" cx=\"109.1957\" cy=\"-90\" rx=\"30.0121\" ry=\"18\"/>\n",
       "<text text-anchor=\"middle\" x=\"109.1957\" y=\"-85.8\" font-family=\"Times,serif\" font-size=\"14.00\" fill=\"#000000\">NP_p</text>\n",
       "</g>\n",
       "<!-- 2&#45;&gt;0 -->\n",
       "<g id=\"edge1\" class=\"edge\">\n",
       "<title>2&#45;&gt;0</title>\n",
       "<path fill=\"none\" stroke=\"#000000\" d=\"M93.078,-74.7307C82.6411,-64.843 68.8633,-51.7903 57.1548,-40.6981\"/>\n",
       "<polygon fill=\"#000000\" stroke=\"#000000\" points=\"59.4822,-38.0817 49.8155,-33.7451 54.6679,-43.1634 59.4822,-38.0817\"/>\n",
       "</g>\n",
       "<!-- 2&#45;&gt;1 -->\n",
       "<g id=\"edge2\" class=\"edge\">\n",
       "<title>2&#45;&gt;1</title>\n",
       "<path fill=\"none\" stroke=\"#000000\" d=\"M109.7004,-71.8314C109.9143,-64.131 110.1686,-54.9743 110.4063,-46.4166\"/>\n",
       "<polygon fill=\"#000000\" stroke=\"#000000\" points=\"113.9051,-46.5066 110.6842,-36.4133 106.9078,-46.3122 113.9051,-46.5066\"/>\n",
       "</g>\n",
       "<!-- 3 -->\n",
       "<g id=\"node4\" class=\"node\">\n",
       "<title>3</title>\n",
       "<ellipse fill=\"none\" stroke=\"#000000\" cx=\"186.1957\" cy=\"-18\" rx=\"27\" ry=\"18\"/>\n",
       "<text text-anchor=\"middle\" x=\"186.1957\" y=\"-13.8\" font-family=\"Times,serif\" font-size=\"14.00\" fill=\"#000000\">are</text>\n",
       "</g>\n",
       "<!-- 4 -->\n",
       "<g id=\"node5\" class=\"node\">\n",
       "<title>4</title>\n",
       "<ellipse fill=\"none\" stroke=\"#000000\" cx=\"258.1957\" cy=\"-18\" rx=\"27\" ry=\"18\"/>\n",
       "<text text-anchor=\"middle\" x=\"258.1957\" y=\"-13.8\" font-family=\"Times,serif\" font-size=\"14.00\" fill=\"#000000\">silly</text>\n",
       "</g>\n",
       "<!-- 5 -->\n",
       "<g id=\"node6\" class=\"node\">\n",
       "<title>5</title>\n",
       "<ellipse fill=\"none\" stroke=\"#000000\" cx=\"188.1957\" cy=\"-90\" rx=\"30.0121\" ry=\"18\"/>\n",
       "<text text-anchor=\"middle\" x=\"188.1957\" y=\"-85.8\" font-family=\"Times,serif\" font-size=\"14.00\" fill=\"#000000\">VP_p</text>\n",
       "</g>\n",
       "<!-- 5&#45;&gt;3 -->\n",
       "<g id=\"edge3\" class=\"edge\">\n",
       "<title>5&#45;&gt;3</title>\n",
       "<path fill=\"none\" stroke=\"#000000\" d=\"M187.691,-71.8314C187.4771,-64.131 187.2228,-54.9743 186.985,-46.4166\"/>\n",
       "<polygon fill=\"#000000\" stroke=\"#000000\" points=\"190.4836,-46.3122 186.7072,-36.4133 183.4863,-46.5066 190.4836,-46.3122\"/>\n",
       "</g>\n",
       "<!-- 5&#45;&gt;4 -->\n",
       "<g id=\"edge4\" class=\"edge\">\n",
       "<title>5&#45;&gt;4</title>\n",
       "<path fill=\"none\" stroke=\"#000000\" d=\"M203.3847,-74.3771C212.9245,-64.5647 225.3922,-51.7407 236.026,-40.8031\"/>\n",
       "<polygon fill=\"#000000\" stroke=\"#000000\" points=\"238.5751,-43.2022 243.0364,-33.5924 233.5561,-38.3226 238.5751,-43.2022\"/>\n",
       "</g>\n",
       "<!-- 6 -->\n",
       "<g id=\"node7\" class=\"node\">\n",
       "<title>6</title>\n",
       "<ellipse fill=\"none\" stroke=\"#000000\" cx=\"148.1957\" cy=\"-162\" rx=\"27\" ry=\"18\"/>\n",
       "<text text-anchor=\"middle\" x=\"148.1957\" y=\"-157.8\" font-family=\"Times,serif\" font-size=\"14.00\" fill=\"#000000\">S</text>\n",
       "</g>\n",
       "<!-- 6&#45;&gt;2 -->\n",
       "<g id=\"edge5\" class=\"edge\">\n",
       "<title>6&#45;&gt;2</title>\n",
       "<path fill=\"none\" stroke=\"#000000\" d=\"M138.9532,-144.937C134.3581,-136.4537 128.7007,-126.0092 123.5569,-116.513\"/>\n",
       "<polygon fill=\"#000000\" stroke=\"#000000\" points=\"126.4831,-114.5666 118.6427,-107.4407 120.3281,-117.9006 126.4831,-114.5666\"/>\n",
       "</g>\n",
       "<!-- 6&#45;&gt;5 -->\n",
       "<g id=\"edge6\" class=\"edge\">\n",
       "<title>6&#45;&gt;5</title>\n",
       "<path fill=\"none\" stroke=\"#000000\" d=\"M157.6751,-144.937C162.4372,-136.3654 168.3116,-125.7914 173.6309,-116.2165\"/>\n",
       "<polygon fill=\"#000000\" stroke=\"#000000\" points=\"176.7095,-117.882 178.5064,-107.4407 170.5904,-114.4825 176.7095,-117.882\"/>\n",
       "</g>\n",
       "</g>\n",
       "</svg>\n"
      ],
      "text/plain": [
       "<graphviz.dot.Digraph at 0x1083fcc50>"
      ]
     },
     "execution_count": 4,
     "metadata": {},
     "output_type": "execute_result"
    }
   ],
   "source": [
    "tree = ('S', [('NP_p',['Matko','raps']), ('VP_p',['are','silly'])])\n",
    "parsing.render_tree(tree)"
   ]
  },
  {
   "cell_type": "code",
   "execution_count": 5,
   "metadata": {
    "slideshow": {
     "slide_type": "subslide"
    }
   },
   "outputs": [
    {
     "data": {
      "image/svg+xml": [
       "<?xml version=\"1.0\" encoding=\"UTF-8\" standalone=\"no\"?>\n",
       "<!DOCTYPE svg PUBLIC \"-//W3C//DTD SVG 1.1//EN\"\n",
       " \"http://www.w3.org/Graphics/SVG/1.1/DTD/svg11.dtd\">\n",
       "<!-- Generated by graphviz version 2.40.1 (20161225.0304)\n",
       " -->\n",
       "<!-- Title: %3 Pages: 1 -->\n",
       "<svg width=\"318pt\" height=\"188pt\"\n",
       " viewBox=\"0.00 0.00 317.77 188.00\" xmlns=\"http://www.w3.org/2000/svg\" xmlns:xlink=\"http://www.w3.org/1999/xlink\">\n",
       "<g id=\"graph0\" class=\"graph\" transform=\"scale(1 1) rotate(0) translate(4 184)\">\n",
       "<title>%3</title>\n",
       "<polygon fill=\"#ffffff\" stroke=\"transparent\" points=\"-4,4 -4,-184 313.7667,-184 313.7667,4 -4,4\"/>\n",
       "<!-- 0 -->\n",
       "<g id=\"node1\" class=\"node\">\n",
       "<title>0</title>\n",
       "<ellipse fill=\"none\" stroke=\"#000000\" cx=\"33.1957\" cy=\"-18\" rx=\"33.3925\" ry=\"18\"/>\n",
       "<text text-anchor=\"middle\" x=\"33.1957\" y=\"-13.8\" font-family=\"Times,serif\" font-size=\"14.00\" fill=\"#000000\">Matko</text>\n",
       "</g>\n",
       "<!-- 1 -->\n",
       "<g id=\"node2\" class=\"node\">\n",
       "<title>1</title>\n",
       "<ellipse fill=\"none\" stroke=\"#000000\" cx=\"70.1957\" cy=\"-90\" rx=\"29.0514\" ry=\"18\"/>\n",
       "<text text-anchor=\"middle\" x=\"70.1957\" y=\"-85.8\" font-family=\"Times,serif\" font-size=\"14.00\" fill=\"#000000\">NP_s</text>\n",
       "</g>\n",
       "<!-- 1&#45;&gt;0 -->\n",
       "<g id=\"edge1\" class=\"edge\">\n",
       "<title>1&#45;&gt;0</title>\n",
       "<path fill=\"none\" stroke=\"#000000\" d=\"M61.239,-72.5708C56.9081,-64.1431 51.6163,-53.8455 46.8011,-44.4755\"/>\n",
       "<polygon fill=\"#000000\" stroke=\"#000000\" points=\"49.8819,-42.8128 42.1981,-35.5182 43.6558,-46.0123 49.8819,-42.8128\"/>\n",
       "</g>\n",
       "<!-- 2 -->\n",
       "<g id=\"node3\" class=\"node\">\n",
       "<title>2</title>\n",
       "<ellipse fill=\"none\" stroke=\"#000000\" cx=\"111.1957\" cy=\"-18\" rx=\"27\" ry=\"18\"/>\n",
       "<text text-anchor=\"middle\" x=\"111.1957\" y=\"-13.8\" font-family=\"Times,serif\" font-size=\"14.00\" fill=\"#000000\">raps</text>\n",
       "</g>\n",
       "<!-- 3 -->\n",
       "<g id=\"node4\" class=\"node\">\n",
       "<title>3</title>\n",
       "<ellipse fill=\"none\" stroke=\"#000000\" cx=\"183.1957\" cy=\"-18\" rx=\"27\" ry=\"18\"/>\n",
       "<text text-anchor=\"middle\" x=\"183.1957\" y=\"-13.8\" font-family=\"Times,serif\" font-size=\"14.00\" fill=\"#000000\">in</text>\n",
       "</g>\n",
       "<!-- 4 -->\n",
       "<g id=\"node5\" class=\"node\">\n",
       "<title>4</title>\n",
       "<ellipse fill=\"none\" stroke=\"#000000\" cx=\"269.1957\" cy=\"-18\" rx=\"40.6421\" ry=\"18\"/>\n",
       "<text text-anchor=\"middle\" x=\"269.1957\" y=\"-13.8\" font-family=\"Times,serif\" font-size=\"14.00\" fill=\"#000000\">StatNLP</text>\n",
       "</g>\n",
       "<!-- 5 -->\n",
       "<g id=\"node6\" class=\"node\">\n",
       "<title>5</title>\n",
       "<ellipse fill=\"none\" stroke=\"#000000\" cx=\"147.1957\" cy=\"-90\" rx=\"29.0514\" ry=\"18\"/>\n",
       "<text text-anchor=\"middle\" x=\"147.1957\" y=\"-85.8\" font-family=\"Times,serif\" font-size=\"14.00\" fill=\"#000000\">VP_s</text>\n",
       "</g>\n",
       "<!-- 5&#45;&gt;2 -->\n",
       "<g id=\"edge2\" class=\"edge\">\n",
       "<title>5&#45;&gt;2</title>\n",
       "<path fill=\"none\" stroke=\"#000000\" d=\"M138.4811,-72.5708C134.236,-64.0807 129.0421,-53.6929 124.3294,-44.2674\"/>\n",
       "<polygon fill=\"#000000\" stroke=\"#000000\" points=\"127.4327,-42.6477 119.83,-35.2687 121.1717,-45.7782 127.4327,-42.6477\"/>\n",
       "</g>\n",
       "<!-- 5&#45;&gt;3 -->\n",
       "<g id=\"edge3\" class=\"edge\">\n",
       "<title>5&#45;&gt;3</title>\n",
       "<path fill=\"none\" stroke=\"#000000\" d=\"M155.9103,-72.5708C160.1554,-64.0807 165.3493,-53.6929 170.062,-44.2674\"/>\n",
       "<polygon fill=\"#000000\" stroke=\"#000000\" points=\"173.2197,-45.7782 174.5613,-35.2687 166.9587,-42.6477 173.2197,-45.7782\"/>\n",
       "</g>\n",
       "<!-- 5&#45;&gt;4 -->\n",
       "<g id=\"edge4\" class=\"edge\">\n",
       "<title>5&#45;&gt;4</title>\n",
       "<path fill=\"none\" stroke=\"#000000\" d=\"M168.4465,-77.4586C186.9645,-66.5299 214.1389,-50.4925 235.6001,-37.8269\"/>\n",
       "<polygon fill=\"#000000\" stroke=\"#000000\" points=\"237.5729,-40.7267 244.4061,-32.6299 234.0151,-34.6983 237.5729,-40.7267\"/>\n",
       "</g>\n",
       "<!-- 6 -->\n",
       "<g id=\"node7\" class=\"node\">\n",
       "<title>6</title>\n",
       "<ellipse fill=\"none\" stroke=\"#000000\" cx=\"108.1957\" cy=\"-162\" rx=\"27\" ry=\"18\"/>\n",
       "<text text-anchor=\"middle\" x=\"108.1957\" y=\"-157.8\" font-family=\"Times,serif\" font-size=\"14.00\" fill=\"#000000\">S</text>\n",
       "</g>\n",
       "<!-- 6&#45;&gt;1 -->\n",
       "<g id=\"edge5\" class=\"edge\">\n",
       "<title>6&#45;&gt;1</title>\n",
       "<path fill=\"none\" stroke=\"#000000\" d=\"M99.1902,-144.937C94.7129,-136.4537 89.2005,-126.0092 84.1887,-116.513\"/>\n",
       "<polygon fill=\"#000000\" stroke=\"#000000\" points=\"87.1635,-114.6509 79.4005,-107.4407 80.9728,-117.9182 87.1635,-114.6509\"/>\n",
       "</g>\n",
       "<!-- 6&#45;&gt;5 -->\n",
       "<g id=\"edge6\" class=\"edge\">\n",
       "<title>6&#45;&gt;5</title>\n",
       "<path fill=\"none\" stroke=\"#000000\" d=\"M117.4381,-144.937C122.0333,-136.4537 127.6907,-126.0092 132.8345,-116.513\"/>\n",
       "<polygon fill=\"#000000\" stroke=\"#000000\" points=\"136.0633,-117.9006 137.7487,-107.4407 129.9083,-114.5666 136.0633,-117.9006\"/>\n",
       "</g>\n",
       "</g>\n",
       "</svg>\n"
      ],
      "text/plain": [
       "<graphviz.dot.Digraph at 0x109ae9d30>"
      ]
     },
     "execution_count": 5,
     "metadata": {},
     "output_type": "execute_result"
    }
   ],
   "source": [
    "parsing.render_tree(generate_tree(cfg,'S'))        "
   ]
  },
  {
   "cell_type": "markdown",
   "metadata": {
    "slideshow": {
     "slide_type": "slide"
    }
   },
   "source": [
    "## Parsing\n",
    "The inverse problem: given a sentence \n",
    "\n",
    "> Matko raps in StatNLP\n",
    "\n",
    "What's the derivation for it?  "
   ]
  },
  {
   "cell_type": "markdown",
   "metadata": {
    "slideshow": {
     "slide_type": "subslide"
    }
   },
   "source": [
    "There are a couple of approaches to find a legal parse tree given a sentence and grammar:\n",
    "\n",
    "* **Top-Down**: Start with the start symbol and generate trees\n",
    "    * backtrack if they do not match observed sentence\n",
    "* **Bottom-Up**: Start with the sentence, find rules that generate parts of it\n",
    "    * backtrack if you can't reach the start symbol\n",
    "* **Dynamic Programming**: Explore several trees in parallel and re-use computations"
   ]
  },
  {
   "cell_type": "markdown",
   "metadata": {
    "slideshow": {
     "slide_type": "subslide"
    }
   },
   "source": [
    "### Bottom-Up Parsing with Backtracking\n",
    "\n",
    "Incrementally build up a tree **left-to-right**, and maintain ..."
   ]
  },
  {
   "cell_type": "markdown",
   "metadata": {
    "slideshow": {
     "slide_type": "subslide"
    }
   },
   "source": [
    "a **buffer** of remaining words"
   ]
  },
  {
   "cell_type": "code",
   "execution_count": 6,
   "metadata": {
    "slideshow": {
     "slide_type": "-"
    }
   },
   "outputs": [
    {
     "data": {
      "text/html": [
       "<table><tr><td>Matko raps are silly</td><td><?xml version=\"1.0\" encoding=\"UTF-8\" standalone=\"no\"?>\n",
       "<!DOCTYPE svg PUBLIC \"-//W3C//DTD SVG 1.1//EN\"\n",
       " \"http://www.w3.org/Graphics/SVG/1.1/DTD/svg11.dtd\">\n",
       "<!-- Generated by graphviz version 2.40.1 (20161225.0304)\n",
       " -->\n",
       "<!-- Title: %3 Pages: 1 -->\n",
       "<svg width=\"8pt\" height=\"8pt\"\n",
       " viewBox=\"0.00 0.00 8.00 8.00\" xmlns=\"http://www.w3.org/2000/svg\" xmlns:xlink=\"http://www.w3.org/1999/xlink\">\n",
       "<g id=\"graph0\" class=\"graph\" transform=\"scale(1 1) rotate(0) translate(4 4)\">\n",
       "<title>%3</title>\n",
       "<polygon fill=\"#ffffff\" stroke=\"transparent\" points=\"-4,4 -4,-4 4,-4 4,4 -4,4\"/>\n",
       "</g>\n",
       "</svg>\n",
       "</td><td>Init</td></tr></table>"
      ],
      "text/plain": [
       "<statnlpbook.parsing.render_transitions.<locals>.Output at 0x1083fcf98>"
      ]
     },
     "execution_count": 6,
     "metadata": {},
     "output_type": "execute_result"
    }
   ],
   "source": [
    "parsing.render_transitions(transitions[0:1])"
   ]
  },
  {
   "cell_type": "markdown",
   "metadata": {
    "slideshow": {
     "slide_type": "subslide"
    }
   },
   "source": [
    "a **stack** of trees build so far"
   ]
  },
  {
   "cell_type": "code",
   "execution_count": 7,
   "metadata": {
    "slideshow": {
     "slide_type": "-"
    }
   },
   "outputs": [
    {
     "data": {
      "text/html": [
       "<table><tr><td></td><td><?xml version=\"1.0\" encoding=\"UTF-8\" standalone=\"no\"?>\n",
       "<!DOCTYPE svg PUBLIC \"-//W3C//DTD SVG 1.1//EN\"\n",
       " \"http://www.w3.org/Graphics/SVG/1.1/DTD/svg11.dtd\">\n",
       "<!-- Generated by graphviz version 2.40.1 (20161225.0304)\n",
       " -->\n",
       "<!-- Title: %3 Pages: 1 -->\n",
       "<svg width=\"293pt\" height=\"260pt\"\n",
       " viewBox=\"0.00 0.00 293.20 260.00\" xmlns=\"http://www.w3.org/2000/svg\" xmlns:xlink=\"http://www.w3.org/1999/xlink\">\n",
       "<g id=\"graph0\" class=\"graph\" transform=\"scale(1 1) rotate(0) translate(4 256)\">\n",
       "<title>%3</title>\n",
       "<polygon fill=\"#ffffff\" stroke=\"transparent\" points=\"-4,4 -4,-256 289.1957,-256 289.1957,4 -4,4\"/>\n",
       "<!-- 0 -->\n",
       "<g id=\"node1\" class=\"node\">\n",
       "<title>0</title>\n",
       "<ellipse fill=\"none\" stroke=\"#000000\" cx=\"33.1957\" cy=\"-90\" rx=\"33.3925\" ry=\"18\"/>\n",
       "<text text-anchor=\"middle\" x=\"33.1957\" y=\"-85.8\" font-family=\"Times,serif\" font-size=\"14.00\" fill=\"#000000\">Matko</text>\n",
       "</g>\n",
       "<!-- 1 -->\n",
       "<g id=\"node2\" class=\"node\">\n",
       "<title>1</title>\n",
       "<ellipse fill=\"none\" stroke=\"#000000\" cx=\"111.1957\" cy=\"-90\" rx=\"27\" ry=\"18\"/>\n",
       "<text text-anchor=\"middle\" x=\"111.1957\" y=\"-85.8\" font-family=\"Times,serif\" font-size=\"14.00\" fill=\"#000000\">raps</text>\n",
       "</g>\n",
       "<!-- 2 -->\n",
       "<g id=\"node3\" class=\"node\">\n",
       "<title>2</title>\n",
       "<ellipse fill=\"none\" stroke=\"#000000\" cx=\"109.1957\" cy=\"-162\" rx=\"30.0121\" ry=\"18\"/>\n",
       "<text text-anchor=\"middle\" x=\"109.1957\" y=\"-157.8\" font-family=\"Times,serif\" font-size=\"14.00\" fill=\"#000000\">NP_p</text>\n",
       "</g>\n",
       "<!-- 2&#45;&gt;0 -->\n",
       "<g id=\"edge1\" class=\"edge\">\n",
       "<title>2&#45;&gt;0</title>\n",
       "<path fill=\"none\" stroke=\"#000000\" d=\"M93.078,-146.7307C82.6411,-136.843 68.8633,-123.7903 57.1548,-112.6981\"/>\n",
       "<polygon fill=\"#000000\" stroke=\"#000000\" points=\"59.4822,-110.0817 49.8155,-105.7451 54.6679,-115.1634 59.4822,-110.0817\"/>\n",
       "</g>\n",
       "<!-- 2&#45;&gt;1 -->\n",
       "<g id=\"edge2\" class=\"edge\">\n",
       "<title>2&#45;&gt;1</title>\n",
       "<path fill=\"none\" stroke=\"#000000\" d=\"M109.7004,-143.8314C109.9143,-136.131 110.1686,-126.9743 110.4063,-118.4166\"/>\n",
       "<polygon fill=\"#000000\" stroke=\"#000000\" points=\"113.9051,-118.5066 110.6842,-108.4133 106.9078,-118.3122 113.9051,-118.5066\"/>\n",
       "</g>\n",
       "<!-- 3 -->\n",
       "<g id=\"node4\" class=\"node\">\n",
       "<title>3</title>\n",
       "<ellipse fill=\"none\" stroke=\"#000000\" cx=\"186.1957\" cy=\"-90\" rx=\"27\" ry=\"18\"/>\n",
       "<text text-anchor=\"middle\" x=\"186.1957\" y=\"-85.8\" font-family=\"Times,serif\" font-size=\"14.00\" fill=\"#000000\">are</text>\n",
       "</g>\n",
       "<!-- 4 -->\n",
       "<g id=\"node5\" class=\"node\">\n",
       "<title>4</title>\n",
       "<ellipse fill=\"none\" stroke=\"#000000\" cx=\"258.1957\" cy=\"-18\" rx=\"27\" ry=\"18\"/>\n",
       "<text text-anchor=\"middle\" x=\"258.1957\" y=\"-13.8\" font-family=\"Times,serif\" font-size=\"14.00\" fill=\"#000000\">silly</text>\n",
       "</g>\n",
       "<!-- 5 -->\n",
       "<g id=\"node6\" class=\"node\">\n",
       "<title>5</title>\n",
       "<ellipse fill=\"none\" stroke=\"#000000\" cx=\"258.1957\" cy=\"-90\" rx=\"27\" ry=\"18\"/>\n",
       "<text text-anchor=\"middle\" x=\"258.1957\" y=\"-85.8\" font-family=\"Times,serif\" font-size=\"14.00\" fill=\"#000000\">ADJ</text>\n",
       "</g>\n",
       "<!-- 5&#45;&gt;4 -->\n",
       "<g id=\"edge3\" class=\"edge\">\n",
       "<title>5&#45;&gt;4</title>\n",
       "<path fill=\"none\" stroke=\"#000000\" d=\"M258.1957,-71.8314C258.1957,-64.131 258.1957,-54.9743 258.1957,-46.4166\"/>\n",
       "<polygon fill=\"#000000\" stroke=\"#000000\" points=\"261.6958,-46.4132 258.1957,-36.4133 254.6958,-46.4133 261.6958,-46.4132\"/>\n",
       "</g>\n",
       "<!-- 6 -->\n",
       "<g id=\"node7\" class=\"node\">\n",
       "<title>6</title>\n",
       "<ellipse fill=\"none\" stroke=\"#000000\" cx=\"188.1957\" cy=\"-162\" rx=\"30.0121\" ry=\"18\"/>\n",
       "<text text-anchor=\"middle\" x=\"188.1957\" y=\"-157.8\" font-family=\"Times,serif\" font-size=\"14.00\" fill=\"#000000\">VP_p</text>\n",
       "</g>\n",
       "<!-- 6&#45;&gt;3 -->\n",
       "<g id=\"edge4\" class=\"edge\">\n",
       "<title>6&#45;&gt;3</title>\n",
       "<path fill=\"none\" stroke=\"#000000\" d=\"M187.691,-143.8314C187.4771,-136.131 187.2228,-126.9743 186.985,-118.4166\"/>\n",
       "<polygon fill=\"#000000\" stroke=\"#000000\" points=\"190.4836,-118.3122 186.7072,-108.4133 183.4863,-118.5066 190.4836,-118.3122\"/>\n",
       "</g>\n",
       "<!-- 6&#45;&gt;5 -->\n",
       "<g id=\"edge5\" class=\"edge\">\n",
       "<title>6&#45;&gt;5</title>\n",
       "<path fill=\"none\" stroke=\"#000000\" d=\"M203.3847,-146.3771C212.9245,-136.5647 225.3922,-123.7407 236.026,-112.8031\"/>\n",
       "<polygon fill=\"#000000\" stroke=\"#000000\" points=\"238.5751,-115.2022 243.0364,-105.5924 233.5561,-110.3226 238.5751,-115.2022\"/>\n",
       "</g>\n",
       "<!-- 7 -->\n",
       "<g id=\"node8\" class=\"node\">\n",
       "<title>7</title>\n",
       "<ellipse fill=\"none\" stroke=\"#000000\" cx=\"148.1957\" cy=\"-234\" rx=\"27\" ry=\"18\"/>\n",
       "<text text-anchor=\"middle\" x=\"148.1957\" y=\"-229.8\" font-family=\"Times,serif\" font-size=\"14.00\" fill=\"#000000\">S</text>\n",
       "</g>\n",
       "<!-- 7&#45;&gt;2 -->\n",
       "<g id=\"edge6\" class=\"edge\">\n",
       "<title>7&#45;&gt;2</title>\n",
       "<path fill=\"none\" stroke=\"#000000\" d=\"M138.9532,-216.937C134.3581,-208.4537 128.7007,-198.0092 123.5569,-188.513\"/>\n",
       "<polygon fill=\"#000000\" stroke=\"#000000\" points=\"126.4831,-186.5666 118.6427,-179.4407 120.3281,-189.9006 126.4831,-186.5666\"/>\n",
       "</g>\n",
       "<!-- 7&#45;&gt;6 -->\n",
       "<g id=\"edge7\" class=\"edge\">\n",
       "<title>7&#45;&gt;6</title>\n",
       "<path fill=\"none\" stroke=\"#000000\" d=\"M157.6751,-216.937C162.4372,-208.3654 168.3116,-197.7914 173.6309,-188.2165\"/>\n",
       "<polygon fill=\"#000000\" stroke=\"#000000\" points=\"176.7095,-189.882 178.5064,-179.4407 170.5904,-186.4825 176.7095,-189.882\"/>\n",
       "</g>\n",
       "</g>\n",
       "</svg>\n",
       "</td><td>Reduce</td></tr></table>"
      ],
      "text/plain": [
       "<statnlpbook.parsing.render_transitions.<locals>.Output at 0x1083fc9e8>"
      ]
     },
     "execution_count": 7,
     "metadata": {},
     "output_type": "execute_result"
    }
   ],
   "source": [
    "parsing.render_transitions(transitions[-1:])"
   ]
  },
  {
   "cell_type": "markdown",
   "metadata": {
    "slideshow": {
     "slide_type": "subslide"
    }
   },
   "source": [
    "Perform three types of **actions**:"
   ]
  },
  {
   "cell_type": "markdown",
   "metadata": {
    "slideshow": {
     "slide_type": "subslide"
    }
   },
   "source": [
    "### Shift\n",
    "Put first word from buffer to stack (as singleton tree)"
   ]
  },
  {
   "cell_type": "code",
   "execution_count": 8,
   "metadata": {
    "slideshow": {
     "slide_type": "-"
    }
   },
   "outputs": [
    {
     "data": {
      "text/html": [
       "<table><tr><td>Matko raps are silly</td><td><?xml version=\"1.0\" encoding=\"UTF-8\" standalone=\"no\"?>\n",
       "<!DOCTYPE svg PUBLIC \"-//W3C//DTD SVG 1.1//EN\"\n",
       " \"http://www.w3.org/Graphics/SVG/1.1/DTD/svg11.dtd\">\n",
       "<!-- Generated by graphviz version 2.40.1 (20161225.0304)\n",
       " -->\n",
       "<!-- Title: %3 Pages: 1 -->\n",
       "<svg width=\"8pt\" height=\"8pt\"\n",
       " viewBox=\"0.00 0.00 8.00 8.00\" xmlns=\"http://www.w3.org/2000/svg\" xmlns:xlink=\"http://www.w3.org/1999/xlink\">\n",
       "<g id=\"graph0\" class=\"graph\" transform=\"scale(1 1) rotate(0) translate(4 4)\">\n",
       "<title>%3</title>\n",
       "<polygon fill=\"#ffffff\" stroke=\"transparent\" points=\"-4,4 -4,-4 4,-4 4,4 -4,4\"/>\n",
       "</g>\n",
       "</svg>\n",
       "</td><td>Init</td></tr>\n",
       "<tr><td>raps are silly</td><td><?xml version=\"1.0\" encoding=\"UTF-8\" standalone=\"no\"?>\n",
       "<!DOCTYPE svg PUBLIC \"-//W3C//DTD SVG 1.1//EN\"\n",
       " \"http://www.w3.org/Graphics/SVG/1.1/DTD/svg11.dtd\">\n",
       "<!-- Generated by graphviz version 2.40.1 (20161225.0304)\n",
       " -->\n",
       "<!-- Title: %3 Pages: 1 -->\n",
       "<svg width=\"74pt\" height=\"44pt\"\n",
       " viewBox=\"0.00 0.00 74.39 44.00\" xmlns=\"http://www.w3.org/2000/svg\" xmlns:xlink=\"http://www.w3.org/1999/xlink\">\n",
       "<g id=\"graph0\" class=\"graph\" transform=\"scale(1 1) rotate(0) translate(4 40)\">\n",
       "<title>%3</title>\n",
       "<polygon fill=\"#ffffff\" stroke=\"transparent\" points=\"-4,4 -4,-40 70.3914,-40 70.3914,4 -4,4\"/>\n",
       "<!-- 0 -->\n",
       "<g id=\"node1\" class=\"node\">\n",
       "<title>0</title>\n",
       "<ellipse fill=\"none\" stroke=\"#000000\" cx=\"33.1957\" cy=\"-18\" rx=\"33.3925\" ry=\"18\"/>\n",
       "<text text-anchor=\"middle\" x=\"33.1957\" y=\"-13.8\" font-family=\"Times,serif\" font-size=\"14.00\" fill=\"#000000\">Matko</text>\n",
       "</g>\n",
       "</g>\n",
       "</svg>\n",
       "</td><td>Shift</td></tr></table>"
      ],
      "text/plain": [
       "<statnlpbook.parsing.render_transitions.<locals>.Output at 0x109da3240>"
      ]
     },
     "execution_count": 8,
     "metadata": {},
     "output_type": "execute_result"
    }
   ],
   "source": [
    "parsing.render_transitions(transitions[0:2])"
   ]
  },
  {
   "cell_type": "markdown",
   "metadata": {
    "slideshow": {
     "slide_type": "subslide"
    }
   },
   "source": [
    "### Reduce\n",
    "For rule $X \\rightarrow Y \\: Z$ and stack $Y \\: Z$, create new tree headed with $X$"
   ]
  },
  {
   "cell_type": "code",
   "execution_count": 9,
   "metadata": {},
   "outputs": [
    {
     "data": {
      "text/html": [
       "<table><tr><td>are silly</td><td><?xml version=\"1.0\" encoding=\"UTF-8\" standalone=\"no\"?>\n",
       "<!DOCTYPE svg PUBLIC \"-//W3C//DTD SVG 1.1//EN\"\n",
       " \"http://www.w3.org/Graphics/SVG/1.1/DTD/svg11.dtd\">\n",
       "<!-- Generated by graphviz version 2.40.1 (20161225.0304)\n",
       " -->\n",
       "<!-- Title: %3 Pages: 1 -->\n",
       "<svg width=\"146pt\" height=\"44pt\"\n",
       " viewBox=\"0.00 0.00 146.20 44.00\" xmlns=\"http://www.w3.org/2000/svg\" xmlns:xlink=\"http://www.w3.org/1999/xlink\">\n",
       "<g id=\"graph0\" class=\"graph\" transform=\"scale(1 1) rotate(0) translate(4 40)\">\n",
       "<title>%3</title>\n",
       "<polygon fill=\"#ffffff\" stroke=\"transparent\" points=\"-4,4 -4,-40 142.1957,-40 142.1957,4 -4,4\"/>\n",
       "<!-- 0 -->\n",
       "<g id=\"node1\" class=\"node\">\n",
       "<title>0</title>\n",
       "<ellipse fill=\"none\" stroke=\"#000000\" cx=\"33.1957\" cy=\"-18\" rx=\"33.3925\" ry=\"18\"/>\n",
       "<text text-anchor=\"middle\" x=\"33.1957\" y=\"-13.8\" font-family=\"Times,serif\" font-size=\"14.00\" fill=\"#000000\">Matko</text>\n",
       "</g>\n",
       "<!-- 1 -->\n",
       "<g id=\"node2\" class=\"node\">\n",
       "<title>1</title>\n",
       "<ellipse fill=\"none\" stroke=\"#000000\" cx=\"111.1957\" cy=\"-18\" rx=\"27\" ry=\"18\"/>\n",
       "<text text-anchor=\"middle\" x=\"111.1957\" y=\"-13.8\" font-family=\"Times,serif\" font-size=\"14.00\" fill=\"#000000\">raps</text>\n",
       "</g>\n",
       "</g>\n",
       "</svg>\n",
       "</td><td>Shift</td></tr>\n",
       "<tr><td>are silly</td><td><?xml version=\"1.0\" encoding=\"UTF-8\" standalone=\"no\"?>\n",
       "<!DOCTYPE svg PUBLIC \"-//W3C//DTD SVG 1.1//EN\"\n",
       " \"http://www.w3.org/Graphics/SVG/1.1/DTD/svg11.dtd\">\n",
       "<!-- Generated by graphviz version 2.40.1 (20161225.0304)\n",
       " -->\n",
       "<!-- Title: %3 Pages: 1 -->\n",
       "<svg width=\"146pt\" height=\"116pt\"\n",
       " viewBox=\"0.00 0.00 146.20 116.00\" xmlns=\"http://www.w3.org/2000/svg\" xmlns:xlink=\"http://www.w3.org/1999/xlink\">\n",
       "<g id=\"graph0\" class=\"graph\" transform=\"scale(1 1) rotate(0) translate(4 112)\">\n",
       "<title>%3</title>\n",
       "<polygon fill=\"#ffffff\" stroke=\"transparent\" points=\"-4,4 -4,-112 142.1957,-112 142.1957,4 -4,4\"/>\n",
       "<!-- 0 -->\n",
       "<g id=\"node1\" class=\"node\">\n",
       "<title>0</title>\n",
       "<ellipse fill=\"none\" stroke=\"#000000\" cx=\"33.1957\" cy=\"-18\" rx=\"33.3925\" ry=\"18\"/>\n",
       "<text text-anchor=\"middle\" x=\"33.1957\" y=\"-13.8\" font-family=\"Times,serif\" font-size=\"14.00\" fill=\"#000000\">Matko</text>\n",
       "</g>\n",
       "<!-- 1 -->\n",
       "<g id=\"node2\" class=\"node\">\n",
       "<title>1</title>\n",
       "<ellipse fill=\"none\" stroke=\"#000000\" cx=\"111.1957\" cy=\"-18\" rx=\"27\" ry=\"18\"/>\n",
       "<text text-anchor=\"middle\" x=\"111.1957\" y=\"-13.8\" font-family=\"Times,serif\" font-size=\"14.00\" fill=\"#000000\">raps</text>\n",
       "</g>\n",
       "<!-- 2 -->\n",
       "<g id=\"node3\" class=\"node\">\n",
       "<title>2</title>\n",
       "<ellipse fill=\"none\" stroke=\"#000000\" cx=\"72.1957\" cy=\"-90\" rx=\"30.0121\" ry=\"18\"/>\n",
       "<text text-anchor=\"middle\" x=\"72.1957\" y=\"-85.8\" font-family=\"Times,serif\" font-size=\"14.00\" fill=\"#000000\">NP_p</text>\n",
       "</g>\n",
       "<!-- 2&#45;&gt;0 -->\n",
       "<g id=\"edge1\" class=\"edge\">\n",
       "<title>2&#45;&gt;0</title>\n",
       "<path fill=\"none\" stroke=\"#000000\" d=\"M62.7549,-72.5708C58.1899,-64.1431 52.612,-53.8455 47.5366,-44.4755\"/>\n",
       "<polygon fill=\"#000000\" stroke=\"#000000\" points=\"50.5251,-42.6442 42.6847,-35.5182 44.3701,-45.9782 50.5251,-42.6442\"/>\n",
       "</g>\n",
       "<!-- 2&#45;&gt;1 -->\n",
       "<g id=\"edge2\" class=\"edge\">\n",
       "<title>2&#45;&gt;1</title>\n",
       "<path fill=\"none\" stroke=\"#000000\" d=\"M81.6365,-72.5708C86.2353,-64.0807 91.8621,-53.6929 96.9675,-44.2674\"/>\n",
       "<polygon fill=\"#000000\" stroke=\"#000000\" points=\"100.1565,-45.7286 101.8418,-35.2687 94.0014,-42.3946 100.1565,-45.7286\"/>\n",
       "</g>\n",
       "</g>\n",
       "</svg>\n",
       "</td><td>Reduce</td></tr></table>"
      ],
      "text/plain": [
       "<statnlpbook.parsing.render_transitions.<locals>.Output at 0x109da3fd0>"
      ]
     },
     "execution_count": 9,
     "metadata": {},
     "output_type": "execute_result"
    }
   ],
   "source": [
    "parsing.render_transitions(transitions[11:13])"
   ]
  },
  {
   "cell_type": "markdown",
   "metadata": {
    "slideshow": {
     "slide_type": "subslide"
    }
   },
   "source": [
    "### Backtrack\n",
    "If no rule can be found and the buffer is non-empty, go back to last decision point"
   ]
  },
  {
   "cell_type": "code",
   "execution_count": 10,
   "metadata": {},
   "outputs": [
    {
     "data": {
      "text/html": [
       "<table><tr><td></td><td><?xml version=\"1.0\" encoding=\"UTF-8\" standalone=\"no\"?>\n",
       "<!DOCTYPE svg PUBLIC \"-//W3C//DTD SVG 1.1//EN\"\n",
       " \"http://www.w3.org/Graphics/SVG/1.1/DTD/svg11.dtd\">\n",
       "<!-- Generated by graphviz version 2.40.1 (20161225.0304)\n",
       " -->\n",
       "<!-- Title: %3 Pages: 1 -->\n",
       "<svg width=\"286pt\" height=\"116pt\"\n",
       " viewBox=\"0.00 0.00 286.20 116.00\" xmlns=\"http://www.w3.org/2000/svg\" xmlns:xlink=\"http://www.w3.org/1999/xlink\">\n",
       "<g id=\"graph0\" class=\"graph\" transform=\"scale(1 1) rotate(0) translate(4 112)\">\n",
       "<title>%3</title>\n",
       "<polygon fill=\"#ffffff\" stroke=\"transparent\" points=\"-4,4 -4,-112 282.1957,-112 282.1957,4 -4,4\"/>\n",
       "<!-- 0 -->\n",
       "<g id=\"node1\" class=\"node\">\n",
       "<title>0</title>\n",
       "<ellipse fill=\"none\" stroke=\"#000000\" cx=\"33.1957\" cy=\"-18\" rx=\"33.3925\" ry=\"18\"/>\n",
       "<text text-anchor=\"middle\" x=\"33.1957\" y=\"-13.8\" font-family=\"Times,serif\" font-size=\"14.00\" fill=\"#000000\">Matko</text>\n",
       "</g>\n",
       "<!-- 1 -->\n",
       "<g id=\"node2\" class=\"node\">\n",
       "<title>1</title>\n",
       "<ellipse fill=\"none\" stroke=\"#000000\" cx=\"33.1957\" cy=\"-90\" rx=\"29.0514\" ry=\"18\"/>\n",
       "<text text-anchor=\"middle\" x=\"33.1957\" y=\"-85.8\" font-family=\"Times,serif\" font-size=\"14.00\" fill=\"#000000\">NP_s</text>\n",
       "</g>\n",
       "<!-- 1&#45;&gt;0 -->\n",
       "<g id=\"edge1\" class=\"edge\">\n",
       "<title>1&#45;&gt;0</title>\n",
       "<path fill=\"none\" stroke=\"#000000\" d=\"M33.1957,-71.8314C33.1957,-64.131 33.1957,-54.9743 33.1957,-46.4166\"/>\n",
       "<polygon fill=\"#000000\" stroke=\"#000000\" points=\"36.6958,-46.4132 33.1957,-36.4133 29.6958,-46.4133 36.6958,-46.4132\"/>\n",
       "</g>\n",
       "<!-- 2 -->\n",
       "<g id=\"node3\" class=\"node\">\n",
       "<title>2</title>\n",
       "<ellipse fill=\"none\" stroke=\"#000000\" cx=\"107.1957\" cy=\"-90\" rx=\"27\" ry=\"18\"/>\n",
       "<text text-anchor=\"middle\" x=\"107.1957\" y=\"-85.8\" font-family=\"Times,serif\" font-size=\"14.00\" fill=\"#000000\">raps</text>\n",
       "</g>\n",
       "<!-- 3 -->\n",
       "<g id=\"node4\" class=\"node\">\n",
       "<title>3</title>\n",
       "<ellipse fill=\"none\" stroke=\"#000000\" cx=\"179.1957\" cy=\"-90\" rx=\"27\" ry=\"18\"/>\n",
       "<text text-anchor=\"middle\" x=\"179.1957\" y=\"-85.8\" font-family=\"Times,serif\" font-size=\"14.00\" fill=\"#000000\">are</text>\n",
       "</g>\n",
       "<!-- 4 -->\n",
       "<g id=\"node5\" class=\"node\">\n",
       "<title>4</title>\n",
       "<ellipse fill=\"none\" stroke=\"#000000\" cx=\"251.1957\" cy=\"-90\" rx=\"27\" ry=\"18\"/>\n",
       "<text text-anchor=\"middle\" x=\"251.1957\" y=\"-85.8\" font-family=\"Times,serif\" font-size=\"14.00\" fill=\"#000000\">silly</text>\n",
       "</g>\n",
       "</g>\n",
       "</svg>\n",
       "</td><td>Backtrack</td></tr>\n",
       "<tr><td>raps are silly</td><td><?xml version=\"1.0\" encoding=\"UTF-8\" standalone=\"no\"?>\n",
       "<!DOCTYPE svg PUBLIC \"-//W3C//DTD SVG 1.1//EN\"\n",
       " \"http://www.w3.org/Graphics/SVG/1.1/DTD/svg11.dtd\">\n",
       "<!-- Generated by graphviz version 2.40.1 (20161225.0304)\n",
       " -->\n",
       "<!-- Title: %3 Pages: 1 -->\n",
       "<svg width=\"74pt\" height=\"44pt\"\n",
       " viewBox=\"0.00 0.00 74.39 44.00\" xmlns=\"http://www.w3.org/2000/svg\" xmlns:xlink=\"http://www.w3.org/1999/xlink\">\n",
       "<g id=\"graph0\" class=\"graph\" transform=\"scale(1 1) rotate(0) translate(4 40)\">\n",
       "<title>%3</title>\n",
       "<polygon fill=\"#ffffff\" stroke=\"transparent\" points=\"-4,4 -4,-40 70.3914,-40 70.3914,4 -4,4\"/>\n",
       "<!-- 0 -->\n",
       "<g id=\"node1\" class=\"node\">\n",
       "<title>0</title>\n",
       "<ellipse fill=\"none\" stroke=\"#000000\" cx=\"33.1957\" cy=\"-18\" rx=\"33.3925\" ry=\"18\"/>\n",
       "<text text-anchor=\"middle\" x=\"33.1957\" y=\"-13.8\" font-family=\"Times,serif\" font-size=\"14.00\" fill=\"#000000\">Matko</text>\n",
       "</g>\n",
       "</g>\n",
       "</svg>\n",
       "</td><td>Backtrack</td></tr>\n",
       "<tr><td>are silly</td><td><?xml version=\"1.0\" encoding=\"UTF-8\" standalone=\"no\"?>\n",
       "<!DOCTYPE svg PUBLIC \"-//W3C//DTD SVG 1.1//EN\"\n",
       " \"http://www.w3.org/Graphics/SVG/1.1/DTD/svg11.dtd\">\n",
       "<!-- Generated by graphviz version 2.40.1 (20161225.0304)\n",
       " -->\n",
       "<!-- Title: %3 Pages: 1 -->\n",
       "<svg width=\"146pt\" height=\"44pt\"\n",
       " viewBox=\"0.00 0.00 146.20 44.00\" xmlns=\"http://www.w3.org/2000/svg\" xmlns:xlink=\"http://www.w3.org/1999/xlink\">\n",
       "<g id=\"graph0\" class=\"graph\" transform=\"scale(1 1) rotate(0) translate(4 40)\">\n",
       "<title>%3</title>\n",
       "<polygon fill=\"#ffffff\" stroke=\"transparent\" points=\"-4,4 -4,-40 142.1957,-40 142.1957,4 -4,4\"/>\n",
       "<!-- 0 -->\n",
       "<g id=\"node1\" class=\"node\">\n",
       "<title>0</title>\n",
       "<ellipse fill=\"none\" stroke=\"#000000\" cx=\"33.1957\" cy=\"-18\" rx=\"33.3925\" ry=\"18\"/>\n",
       "<text text-anchor=\"middle\" x=\"33.1957\" y=\"-13.8\" font-family=\"Times,serif\" font-size=\"14.00\" fill=\"#000000\">Matko</text>\n",
       "</g>\n",
       "<!-- 1 -->\n",
       "<g id=\"node2\" class=\"node\">\n",
       "<title>1</title>\n",
       "<ellipse fill=\"none\" stroke=\"#000000\" cx=\"111.1957\" cy=\"-18\" rx=\"27\" ry=\"18\"/>\n",
       "<text text-anchor=\"middle\" x=\"111.1957\" y=\"-13.8\" font-family=\"Times,serif\" font-size=\"14.00\" fill=\"#000000\">raps</text>\n",
       "</g>\n",
       "</g>\n",
       "</svg>\n",
       "</td><td>Shift</td></tr>\n",
       "<tr><td>are silly</td><td><?xml version=\"1.0\" encoding=\"UTF-8\" standalone=\"no\"?>\n",
       "<!DOCTYPE svg PUBLIC \"-//W3C//DTD SVG 1.1//EN\"\n",
       " \"http://www.w3.org/Graphics/SVG/1.1/DTD/svg11.dtd\">\n",
       "<!-- Generated by graphviz version 2.40.1 (20161225.0304)\n",
       " -->\n",
       "<!-- Title: %3 Pages: 1 -->\n",
       "<svg width=\"146pt\" height=\"116pt\"\n",
       " viewBox=\"0.00 0.00 146.20 116.00\" xmlns=\"http://www.w3.org/2000/svg\" xmlns:xlink=\"http://www.w3.org/1999/xlink\">\n",
       "<g id=\"graph0\" class=\"graph\" transform=\"scale(1 1) rotate(0) translate(4 112)\">\n",
       "<title>%3</title>\n",
       "<polygon fill=\"#ffffff\" stroke=\"transparent\" points=\"-4,4 -4,-112 142.1957,-112 142.1957,4 -4,4\"/>\n",
       "<!-- 0 -->\n",
       "<g id=\"node1\" class=\"node\">\n",
       "<title>0</title>\n",
       "<ellipse fill=\"none\" stroke=\"#000000\" cx=\"33.1957\" cy=\"-18\" rx=\"33.3925\" ry=\"18\"/>\n",
       "<text text-anchor=\"middle\" x=\"33.1957\" y=\"-13.8\" font-family=\"Times,serif\" font-size=\"14.00\" fill=\"#000000\">Matko</text>\n",
       "</g>\n",
       "<!-- 1 -->\n",
       "<g id=\"node2\" class=\"node\">\n",
       "<title>1</title>\n",
       "<ellipse fill=\"none\" stroke=\"#000000\" cx=\"111.1957\" cy=\"-18\" rx=\"27\" ry=\"18\"/>\n",
       "<text text-anchor=\"middle\" x=\"111.1957\" y=\"-13.8\" font-family=\"Times,serif\" font-size=\"14.00\" fill=\"#000000\">raps</text>\n",
       "</g>\n",
       "<!-- 2 -->\n",
       "<g id=\"node3\" class=\"node\">\n",
       "<title>2</title>\n",
       "<ellipse fill=\"none\" stroke=\"#000000\" cx=\"72.1957\" cy=\"-90\" rx=\"30.0121\" ry=\"18\"/>\n",
       "<text text-anchor=\"middle\" x=\"72.1957\" y=\"-85.8\" font-family=\"Times,serif\" font-size=\"14.00\" fill=\"#000000\">NP_p</text>\n",
       "</g>\n",
       "<!-- 2&#45;&gt;0 -->\n",
       "<g id=\"edge1\" class=\"edge\">\n",
       "<title>2&#45;&gt;0</title>\n",
       "<path fill=\"none\" stroke=\"#000000\" d=\"M62.7549,-72.5708C58.1899,-64.1431 52.612,-53.8455 47.5366,-44.4755\"/>\n",
       "<polygon fill=\"#000000\" stroke=\"#000000\" points=\"50.5251,-42.6442 42.6847,-35.5182 44.3701,-45.9782 50.5251,-42.6442\"/>\n",
       "</g>\n",
       "<!-- 2&#45;&gt;1 -->\n",
       "<g id=\"edge2\" class=\"edge\">\n",
       "<title>2&#45;&gt;1</title>\n",
       "<path fill=\"none\" stroke=\"#000000\" d=\"M81.6365,-72.5708C86.2353,-64.0807 91.8621,-53.6929 96.9675,-44.2674\"/>\n",
       "<polygon fill=\"#000000\" stroke=\"#000000\" points=\"100.1565,-45.7286 101.8418,-35.2687 94.0014,-42.3946 100.1565,-45.7286\"/>\n",
       "</g>\n",
       "</g>\n",
       "</svg>\n",
       "</td><td>Reduce</td></tr></table>"
      ],
      "text/plain": [
       "<statnlpbook.parsing.render_transitions.<locals>.Output at 0x109da30f0>"
      ]
     },
     "execution_count": 10,
     "metadata": {},
     "output_type": "execute_result"
    }
   ],
   "source": [
    "parsing.render_transitions(transitions[9:13])"
   ]
  },
  {
   "cell_type": "markdown",
   "metadata": {
    "slideshow": {
     "slide_type": "subslide"
    }
   },
   "source": [
    "### Example"
   ]
  },
  {
   "cell_type": "code",
   "execution_count": 11,
   "metadata": {
    "hideCode": true,
    "hidePrompt": true,
    "slideshow": {
     "slide_type": "-"
    }
   },
   "outputs": [
    {
     "data": {
      "text/html": [
       "<table style=\"display: inline-block;\"><tr><td>S</td><td>NP_p VP_p</td></tr><tr><td>S</td><td>NP_s VP_s</td></tr><tr><td>NP_p</td><td>Matko raps</td></tr></table> <table style=\"display: inline-block;\"><tr><td>VP_p</td><td>are ADJ</td></tr><tr><td>NP_s</td><td>Matko</td></tr><tr><td>VP_s</td><td>raps in StatNLP</td></tr></table> <table style=\"display: inline-block;\"><tr><td>ADJ</td><td>silly</td></tr></table>"
      ],
      "text/plain": [
       "<__main__.CFG at 0x109da3198>"
      ]
     },
     "execution_count": 11,
     "metadata": {},
     "output_type": "execute_result"
    }
   ],
   "source": [
    "sentence = ['Matko', 'raps', 'are', 'silly']\n",
    "transitions = bottom_up_parse(cfg, sentence)\n",
    "cfg"
   ]
  },
  {
   "cell_type": "code",
   "execution_count": 12,
   "metadata": {
    "slideshow": {
     "slide_type": "-"
    }
   },
   "outputs": [
    {
     "data": {
      "text/html": [
       "<table><tr><td></td><td><?xml version=\"1.0\" encoding=\"UTF-8\" standalone=\"no\"?>\n",
       "<!DOCTYPE svg PUBLIC \"-//W3C//DTD SVG 1.1//EN\"\n",
       " \"http://www.w3.org/Graphics/SVG/1.1/DTD/svg11.dtd\">\n",
       "<!-- Generated by graphviz version 2.40.1 (20161225.0304)\n",
       " -->\n",
       "<!-- Title: %3 Pages: 1 -->\n",
       "<svg width=\"286pt\" height=\"116pt\"\n",
       " viewBox=\"0.00 0.00 286.20 116.00\" xmlns=\"http://www.w3.org/2000/svg\" xmlns:xlink=\"http://www.w3.org/1999/xlink\">\n",
       "<g id=\"graph0\" class=\"graph\" transform=\"scale(1 1) rotate(0) translate(4 112)\">\n",
       "<title>%3</title>\n",
       "<polygon fill=\"#ffffff\" stroke=\"transparent\" points=\"-4,4 -4,-112 282.1957,-112 282.1957,4 -4,4\"/>\n",
       "<!-- 0 -->\n",
       "<g id=\"node1\" class=\"node\">\n",
       "<title>0</title>\n",
       "<ellipse fill=\"none\" stroke=\"#000000\" cx=\"33.1957\" cy=\"-18\" rx=\"33.3925\" ry=\"18\"/>\n",
       "<text text-anchor=\"middle\" x=\"33.1957\" y=\"-13.8\" font-family=\"Times,serif\" font-size=\"14.00\" fill=\"#000000\">Matko</text>\n",
       "</g>\n",
       "<!-- 1 -->\n",
       "<g id=\"node2\" class=\"node\">\n",
       "<title>1</title>\n",
       "<ellipse fill=\"none\" stroke=\"#000000\" cx=\"33.1957\" cy=\"-90\" rx=\"29.0514\" ry=\"18\"/>\n",
       "<text text-anchor=\"middle\" x=\"33.1957\" y=\"-85.8\" font-family=\"Times,serif\" font-size=\"14.00\" fill=\"#000000\">NP_s</text>\n",
       "</g>\n",
       "<!-- 1&#45;&gt;0 -->\n",
       "<g id=\"edge1\" class=\"edge\">\n",
       "<title>1&#45;&gt;0</title>\n",
       "<path fill=\"none\" stroke=\"#000000\" d=\"M33.1957,-71.8314C33.1957,-64.131 33.1957,-54.9743 33.1957,-46.4166\"/>\n",
       "<polygon fill=\"#000000\" stroke=\"#000000\" points=\"36.6958,-46.4132 33.1957,-36.4133 29.6958,-46.4133 36.6958,-46.4132\"/>\n",
       "</g>\n",
       "<!-- 2 -->\n",
       "<g id=\"node3\" class=\"node\">\n",
       "<title>2</title>\n",
       "<ellipse fill=\"none\" stroke=\"#000000\" cx=\"107.1957\" cy=\"-90\" rx=\"27\" ry=\"18\"/>\n",
       "<text text-anchor=\"middle\" x=\"107.1957\" y=\"-85.8\" font-family=\"Times,serif\" font-size=\"14.00\" fill=\"#000000\">raps</text>\n",
       "</g>\n",
       "<!-- 3 -->\n",
       "<g id=\"node4\" class=\"node\">\n",
       "<title>3</title>\n",
       "<ellipse fill=\"none\" stroke=\"#000000\" cx=\"179.1957\" cy=\"-90\" rx=\"27\" ry=\"18\"/>\n",
       "<text text-anchor=\"middle\" x=\"179.1957\" y=\"-85.8\" font-family=\"Times,serif\" font-size=\"14.00\" fill=\"#000000\">are</text>\n",
       "</g>\n",
       "<!-- 4 -->\n",
       "<g id=\"node5\" class=\"node\">\n",
       "<title>4</title>\n",
       "<ellipse fill=\"none\" stroke=\"#000000\" cx=\"251.1957\" cy=\"-90\" rx=\"27\" ry=\"18\"/>\n",
       "<text text-anchor=\"middle\" x=\"251.1957\" y=\"-85.8\" font-family=\"Times,serif\" font-size=\"14.00\" fill=\"#000000\">silly</text>\n",
       "</g>\n",
       "</g>\n",
       "</svg>\n",
       "</td><td>Shift</td></tr>\n",
       "<tr><td></td><td><?xml version=\"1.0\" encoding=\"UTF-8\" standalone=\"no\"?>\n",
       "<!DOCTYPE svg PUBLIC \"-//W3C//DTD SVG 1.1//EN\"\n",
       " \"http://www.w3.org/Graphics/SVG/1.1/DTD/svg11.dtd\">\n",
       "<!-- Generated by graphviz version 2.40.1 (20161225.0304)\n",
       " -->\n",
       "<!-- Title: %3 Pages: 1 -->\n",
       "<svg width=\"286pt\" height=\"116pt\"\n",
       " viewBox=\"0.00 0.00 286.20 116.00\" xmlns=\"http://www.w3.org/2000/svg\" xmlns:xlink=\"http://www.w3.org/1999/xlink\">\n",
       "<g id=\"graph0\" class=\"graph\" transform=\"scale(1 1) rotate(0) translate(4 112)\">\n",
       "<title>%3</title>\n",
       "<polygon fill=\"#ffffff\" stroke=\"transparent\" points=\"-4,4 -4,-112 282.1957,-112 282.1957,4 -4,4\"/>\n",
       "<!-- 0 -->\n",
       "<g id=\"node1\" class=\"node\">\n",
       "<title>0</title>\n",
       "<ellipse fill=\"none\" stroke=\"#000000\" cx=\"33.1957\" cy=\"-18\" rx=\"33.3925\" ry=\"18\"/>\n",
       "<text text-anchor=\"middle\" x=\"33.1957\" y=\"-13.8\" font-family=\"Times,serif\" font-size=\"14.00\" fill=\"#000000\">Matko</text>\n",
       "</g>\n",
       "<!-- 1 -->\n",
       "<g id=\"node2\" class=\"node\">\n",
       "<title>1</title>\n",
       "<ellipse fill=\"none\" stroke=\"#000000\" cx=\"33.1957\" cy=\"-90\" rx=\"29.0514\" ry=\"18\"/>\n",
       "<text text-anchor=\"middle\" x=\"33.1957\" y=\"-85.8\" font-family=\"Times,serif\" font-size=\"14.00\" fill=\"#000000\">NP_s</text>\n",
       "</g>\n",
       "<!-- 1&#45;&gt;0 -->\n",
       "<g id=\"edge1\" class=\"edge\">\n",
       "<title>1&#45;&gt;0</title>\n",
       "<path fill=\"none\" stroke=\"#000000\" d=\"M33.1957,-71.8314C33.1957,-64.131 33.1957,-54.9743 33.1957,-46.4166\"/>\n",
       "<polygon fill=\"#000000\" stroke=\"#000000\" points=\"36.6958,-46.4132 33.1957,-36.4133 29.6958,-46.4133 36.6958,-46.4132\"/>\n",
       "</g>\n",
       "<!-- 2 -->\n",
       "<g id=\"node3\" class=\"node\">\n",
       "<title>2</title>\n",
       "<ellipse fill=\"none\" stroke=\"#000000\" cx=\"107.1957\" cy=\"-90\" rx=\"27\" ry=\"18\"/>\n",
       "<text text-anchor=\"middle\" x=\"107.1957\" y=\"-85.8\" font-family=\"Times,serif\" font-size=\"14.00\" fill=\"#000000\">raps</text>\n",
       "</g>\n",
       "<!-- 3 -->\n",
       "<g id=\"node4\" class=\"node\">\n",
       "<title>3</title>\n",
       "<ellipse fill=\"none\" stroke=\"#000000\" cx=\"179.1957\" cy=\"-90\" rx=\"27\" ry=\"18\"/>\n",
       "<text text-anchor=\"middle\" x=\"179.1957\" y=\"-85.8\" font-family=\"Times,serif\" font-size=\"14.00\" fill=\"#000000\">are</text>\n",
       "</g>\n",
       "<!-- 4 -->\n",
       "<g id=\"node5\" class=\"node\">\n",
       "<title>4</title>\n",
       "<ellipse fill=\"none\" stroke=\"#000000\" cx=\"251.1957\" cy=\"-18\" rx=\"27\" ry=\"18\"/>\n",
       "<text text-anchor=\"middle\" x=\"251.1957\" y=\"-13.8\" font-family=\"Times,serif\" font-size=\"14.00\" fill=\"#000000\">silly</text>\n",
       "</g>\n",
       "<!-- 5 -->\n",
       "<g id=\"node6\" class=\"node\">\n",
       "<title>5</title>\n",
       "<ellipse fill=\"none\" stroke=\"#000000\" cx=\"251.1957\" cy=\"-90\" rx=\"27\" ry=\"18\"/>\n",
       "<text text-anchor=\"middle\" x=\"251.1957\" y=\"-85.8\" font-family=\"Times,serif\" font-size=\"14.00\" fill=\"#000000\">ADJ</text>\n",
       "</g>\n",
       "<!-- 5&#45;&gt;4 -->\n",
       "<g id=\"edge2\" class=\"edge\">\n",
       "<title>5&#45;&gt;4</title>\n",
       "<path fill=\"none\" stroke=\"#000000\" d=\"M251.1957,-71.8314C251.1957,-64.131 251.1957,-54.9743 251.1957,-46.4166\"/>\n",
       "<polygon fill=\"#000000\" stroke=\"#000000\" points=\"254.6958,-46.4132 251.1957,-36.4133 247.6958,-46.4133 254.6958,-46.4132\"/>\n",
       "</g>\n",
       "</g>\n",
       "</svg>\n",
       "</td><td>Reduce</td></tr>\n",
       "<tr><td></td><td><?xml version=\"1.0\" encoding=\"UTF-8\" standalone=\"no\"?>\n",
       "<!DOCTYPE svg PUBLIC \"-//W3C//DTD SVG 1.1//EN\"\n",
       " \"http://www.w3.org/Graphics/SVG/1.1/DTD/svg11.dtd\">\n",
       "<!-- Generated by graphviz version 2.40.1 (20161225.0304)\n",
       " -->\n",
       "<!-- Title: %3 Pages: 1 -->\n",
       "<svg width=\"253pt\" height=\"188pt\"\n",
       " viewBox=\"0.00 0.00 253.20 188.00\" xmlns=\"http://www.w3.org/2000/svg\" xmlns:xlink=\"http://www.w3.org/1999/xlink\">\n",
       "<g id=\"graph0\" class=\"graph\" transform=\"scale(1 1) rotate(0) translate(4 184)\">\n",
       "<title>%3</title>\n",
       "<polygon fill=\"#ffffff\" stroke=\"transparent\" points=\"-4,4 -4,-184 249.1957,-184 249.1957,4 -4,4\"/>\n",
       "<!-- 0 -->\n",
       "<g id=\"node1\" class=\"node\">\n",
       "<title>0</title>\n",
       "<ellipse fill=\"none\" stroke=\"#000000\" cx=\"33.1957\" cy=\"-90\" rx=\"33.3925\" ry=\"18\"/>\n",
       "<text text-anchor=\"middle\" x=\"33.1957\" y=\"-85.8\" font-family=\"Times,serif\" font-size=\"14.00\" fill=\"#000000\">Matko</text>\n",
       "</g>\n",
       "<!-- 1 -->\n",
       "<g id=\"node2\" class=\"node\">\n",
       "<title>1</title>\n",
       "<ellipse fill=\"none\" stroke=\"#000000\" cx=\"33.1957\" cy=\"-162\" rx=\"29.0514\" ry=\"18\"/>\n",
       "<text text-anchor=\"middle\" x=\"33.1957\" y=\"-157.8\" font-family=\"Times,serif\" font-size=\"14.00\" fill=\"#000000\">NP_s</text>\n",
       "</g>\n",
       "<!-- 1&#45;&gt;0 -->\n",
       "<g id=\"edge1\" class=\"edge\">\n",
       "<title>1&#45;&gt;0</title>\n",
       "<path fill=\"none\" stroke=\"#000000\" d=\"M33.1957,-143.8314C33.1957,-136.131 33.1957,-126.9743 33.1957,-118.4166\"/>\n",
       "<polygon fill=\"#000000\" stroke=\"#000000\" points=\"36.6958,-118.4132 33.1957,-108.4133 29.6958,-118.4133 36.6958,-118.4132\"/>\n",
       "</g>\n",
       "<!-- 2 -->\n",
       "<g id=\"node3\" class=\"node\">\n",
       "<title>2</title>\n",
       "<ellipse fill=\"none\" stroke=\"#000000\" cx=\"107.1957\" cy=\"-162\" rx=\"27\" ry=\"18\"/>\n",
       "<text text-anchor=\"middle\" x=\"107.1957\" y=\"-157.8\" font-family=\"Times,serif\" font-size=\"14.00\" fill=\"#000000\">raps</text>\n",
       "</g>\n",
       "<!-- 3 -->\n",
       "<g id=\"node4\" class=\"node\">\n",
       "<title>3</title>\n",
       "<ellipse fill=\"none\" stroke=\"#000000\" cx=\"146.1957\" cy=\"-90\" rx=\"27\" ry=\"18\"/>\n",
       "<text text-anchor=\"middle\" x=\"146.1957\" y=\"-85.8\" font-family=\"Times,serif\" font-size=\"14.00\" fill=\"#000000\">are</text>\n",
       "</g>\n",
       "<!-- 4 -->\n",
       "<g id=\"node5\" class=\"node\">\n",
       "<title>4</title>\n",
       "<ellipse fill=\"none\" stroke=\"#000000\" cx=\"218.1957\" cy=\"-18\" rx=\"27\" ry=\"18\"/>\n",
       "<text text-anchor=\"middle\" x=\"218.1957\" y=\"-13.8\" font-family=\"Times,serif\" font-size=\"14.00\" fill=\"#000000\">silly</text>\n",
       "</g>\n",
       "<!-- 5 -->\n",
       "<g id=\"node6\" class=\"node\">\n",
       "<title>5</title>\n",
       "<ellipse fill=\"none\" stroke=\"#000000\" cx=\"218.1957\" cy=\"-90\" rx=\"27\" ry=\"18\"/>\n",
       "<text text-anchor=\"middle\" x=\"218.1957\" y=\"-85.8\" font-family=\"Times,serif\" font-size=\"14.00\" fill=\"#000000\">ADJ</text>\n",
       "</g>\n",
       "<!-- 5&#45;&gt;4 -->\n",
       "<g id=\"edge2\" class=\"edge\">\n",
       "<title>5&#45;&gt;4</title>\n",
       "<path fill=\"none\" stroke=\"#000000\" d=\"M218.1957,-71.8314C218.1957,-64.131 218.1957,-54.9743 218.1957,-46.4166\"/>\n",
       "<polygon fill=\"#000000\" stroke=\"#000000\" points=\"221.6958,-46.4132 218.1957,-36.4133 214.6958,-46.4133 221.6958,-46.4132\"/>\n",
       "</g>\n",
       "<!-- 6 -->\n",
       "<g id=\"node7\" class=\"node\">\n",
       "<title>6</title>\n",
       "<ellipse fill=\"none\" stroke=\"#000000\" cx=\"182.1957\" cy=\"-162\" rx=\"30.0121\" ry=\"18\"/>\n",
       "<text text-anchor=\"middle\" x=\"182.1957\" y=\"-157.8\" font-family=\"Times,serif\" font-size=\"14.00\" fill=\"#000000\">VP_p</text>\n",
       "</g>\n",
       "<!-- 6&#45;&gt;3 -->\n",
       "<g id=\"edge3\" class=\"edge\">\n",
       "<title>6&#45;&gt;3</title>\n",
       "<path fill=\"none\" stroke=\"#000000\" d=\"M173.4811,-144.5708C169.236,-136.0807 164.0421,-125.6929 159.3294,-116.2674\"/>\n",
       "<polygon fill=\"#000000\" stroke=\"#000000\" points=\"162.4327,-114.6477 154.83,-107.2687 156.1717,-117.7782 162.4327,-114.6477\"/>\n",
       "</g>\n",
       "<!-- 6&#45;&gt;5 -->\n",
       "<g id=\"edge4\" class=\"edge\">\n",
       "<title>6&#45;&gt;5</title>\n",
       "<path fill=\"none\" stroke=\"#000000\" d=\"M190.9103,-144.5708C195.1554,-136.0807 200.3493,-125.6929 205.062,-116.2674\"/>\n",
       "<polygon fill=\"#000000\" stroke=\"#000000\" points=\"208.2197,-117.7782 209.5613,-107.2687 201.9587,-114.6477 208.2197,-117.7782\"/>\n",
       "</g>\n",
       "</g>\n",
       "</svg>\n",
       "</td><td>Reduce</td></tr></table>"
      ],
      "text/plain": [
       "<statnlpbook.parsing.render_transitions.<locals>.Output at 0x1084200b8>"
      ]
     },
     "execution_count": 12,
     "metadata": {},
     "output_type": "execute_result"
    }
   ],
   "source": [
    "parsing.render_transitions(transitions[5:8])"
   ]
  },
  {
   "cell_type": "code",
   "execution_count": 13,
   "metadata": {
    "slideshow": {
     "slide_type": "subslide"
    }
   },
   "outputs": [
    {
     "data": {
      "image/svg+xml": [
       "<?xml version=\"1.0\" encoding=\"UTF-8\" standalone=\"no\"?>\n",
       "<!DOCTYPE svg PUBLIC \"-//W3C//DTD SVG 1.1//EN\"\n",
       " \"http://www.w3.org/Graphics/SVG/1.1/DTD/svg11.dtd\">\n",
       "<!-- Generated by graphviz version 2.40.1 (20161225.0304)\n",
       " -->\n",
       "<!-- Title: %3 Pages: 1 -->\n",
       "<svg width=\"293pt\" height=\"260pt\"\n",
       " viewBox=\"0.00 0.00 293.20 260.00\" xmlns=\"http://www.w3.org/2000/svg\" xmlns:xlink=\"http://www.w3.org/1999/xlink\">\n",
       "<g id=\"graph0\" class=\"graph\" transform=\"scale(1 1) rotate(0) translate(4 256)\">\n",
       "<title>%3</title>\n",
       "<polygon fill=\"#ffffff\" stroke=\"transparent\" points=\"-4,4 -4,-256 289.1957,-256 289.1957,4 -4,4\"/>\n",
       "<!-- 0 -->\n",
       "<g id=\"node1\" class=\"node\">\n",
       "<title>0</title>\n",
       "<ellipse fill=\"none\" stroke=\"#000000\" cx=\"33.1957\" cy=\"-90\" rx=\"33.3925\" ry=\"18\"/>\n",
       "<text text-anchor=\"middle\" x=\"33.1957\" y=\"-85.8\" font-family=\"Times,serif\" font-size=\"14.00\" fill=\"#000000\">Matko</text>\n",
       "</g>\n",
       "<!-- 1 -->\n",
       "<g id=\"node2\" class=\"node\">\n",
       "<title>1</title>\n",
       "<ellipse fill=\"none\" stroke=\"#000000\" cx=\"111.1957\" cy=\"-90\" rx=\"27\" ry=\"18\"/>\n",
       "<text text-anchor=\"middle\" x=\"111.1957\" y=\"-85.8\" font-family=\"Times,serif\" font-size=\"14.00\" fill=\"#000000\">raps</text>\n",
       "</g>\n",
       "<!-- 2 -->\n",
       "<g id=\"node3\" class=\"node\">\n",
       "<title>2</title>\n",
       "<ellipse fill=\"none\" stroke=\"#000000\" cx=\"109.1957\" cy=\"-162\" rx=\"30.0121\" ry=\"18\"/>\n",
       "<text text-anchor=\"middle\" x=\"109.1957\" y=\"-157.8\" font-family=\"Times,serif\" font-size=\"14.00\" fill=\"#000000\">NP_p</text>\n",
       "</g>\n",
       "<!-- 2&#45;&gt;0 -->\n",
       "<g id=\"edge1\" class=\"edge\">\n",
       "<title>2&#45;&gt;0</title>\n",
       "<path fill=\"none\" stroke=\"#000000\" d=\"M93.078,-146.7307C82.6411,-136.843 68.8633,-123.7903 57.1548,-112.6981\"/>\n",
       "<polygon fill=\"#000000\" stroke=\"#000000\" points=\"59.4822,-110.0817 49.8155,-105.7451 54.6679,-115.1634 59.4822,-110.0817\"/>\n",
       "</g>\n",
       "<!-- 2&#45;&gt;1 -->\n",
       "<g id=\"edge2\" class=\"edge\">\n",
       "<title>2&#45;&gt;1</title>\n",
       "<path fill=\"none\" stroke=\"#000000\" d=\"M109.7004,-143.8314C109.9143,-136.131 110.1686,-126.9743 110.4063,-118.4166\"/>\n",
       "<polygon fill=\"#000000\" stroke=\"#000000\" points=\"113.9051,-118.5066 110.6842,-108.4133 106.9078,-118.3122 113.9051,-118.5066\"/>\n",
       "</g>\n",
       "<!-- 3 -->\n",
       "<g id=\"node4\" class=\"node\">\n",
       "<title>3</title>\n",
       "<ellipse fill=\"none\" stroke=\"#000000\" cx=\"186.1957\" cy=\"-90\" rx=\"27\" ry=\"18\"/>\n",
       "<text text-anchor=\"middle\" x=\"186.1957\" y=\"-85.8\" font-family=\"Times,serif\" font-size=\"14.00\" fill=\"#000000\">are</text>\n",
       "</g>\n",
       "<!-- 4 -->\n",
       "<g id=\"node5\" class=\"node\">\n",
       "<title>4</title>\n",
       "<ellipse fill=\"none\" stroke=\"#000000\" cx=\"258.1957\" cy=\"-18\" rx=\"27\" ry=\"18\"/>\n",
       "<text text-anchor=\"middle\" x=\"258.1957\" y=\"-13.8\" font-family=\"Times,serif\" font-size=\"14.00\" fill=\"#000000\">silly</text>\n",
       "</g>\n",
       "<!-- 5 -->\n",
       "<g id=\"node6\" class=\"node\">\n",
       "<title>5</title>\n",
       "<ellipse fill=\"none\" stroke=\"#000000\" cx=\"258.1957\" cy=\"-90\" rx=\"27\" ry=\"18\"/>\n",
       "<text text-anchor=\"middle\" x=\"258.1957\" y=\"-85.8\" font-family=\"Times,serif\" font-size=\"14.00\" fill=\"#000000\">ADJ</text>\n",
       "</g>\n",
       "<!-- 5&#45;&gt;4 -->\n",
       "<g id=\"edge3\" class=\"edge\">\n",
       "<title>5&#45;&gt;4</title>\n",
       "<path fill=\"none\" stroke=\"#000000\" d=\"M258.1957,-71.8314C258.1957,-64.131 258.1957,-54.9743 258.1957,-46.4166\"/>\n",
       "<polygon fill=\"#000000\" stroke=\"#000000\" points=\"261.6958,-46.4132 258.1957,-36.4133 254.6958,-46.4133 261.6958,-46.4132\"/>\n",
       "</g>\n",
       "<!-- 6 -->\n",
       "<g id=\"node7\" class=\"node\">\n",
       "<title>6</title>\n",
       "<ellipse fill=\"none\" stroke=\"#000000\" cx=\"188.1957\" cy=\"-162\" rx=\"30.0121\" ry=\"18\"/>\n",
       "<text text-anchor=\"middle\" x=\"188.1957\" y=\"-157.8\" font-family=\"Times,serif\" font-size=\"14.00\" fill=\"#000000\">VP_p</text>\n",
       "</g>\n",
       "<!-- 6&#45;&gt;3 -->\n",
       "<g id=\"edge4\" class=\"edge\">\n",
       "<title>6&#45;&gt;3</title>\n",
       "<path fill=\"none\" stroke=\"#000000\" d=\"M187.691,-143.8314C187.4771,-136.131 187.2228,-126.9743 186.985,-118.4166\"/>\n",
       "<polygon fill=\"#000000\" stroke=\"#000000\" points=\"190.4836,-118.3122 186.7072,-108.4133 183.4863,-118.5066 190.4836,-118.3122\"/>\n",
       "</g>\n",
       "<!-- 6&#45;&gt;5 -->\n",
       "<g id=\"edge5\" class=\"edge\">\n",
       "<title>6&#45;&gt;5</title>\n",
       "<path fill=\"none\" stroke=\"#000000\" d=\"M203.3847,-146.3771C212.9245,-136.5647 225.3922,-123.7407 236.026,-112.8031\"/>\n",
       "<polygon fill=\"#000000\" stroke=\"#000000\" points=\"238.5751,-115.2022 243.0364,-105.5924 233.5561,-110.3226 238.5751,-115.2022\"/>\n",
       "</g>\n",
       "<!-- 7 -->\n",
       "<g id=\"node8\" class=\"node\">\n",
       "<title>7</title>\n",
       "<ellipse fill=\"none\" stroke=\"#000000\" cx=\"148.1957\" cy=\"-234\" rx=\"27\" ry=\"18\"/>\n",
       "<text text-anchor=\"middle\" x=\"148.1957\" y=\"-229.8\" font-family=\"Times,serif\" font-size=\"14.00\" fill=\"#000000\">S</text>\n",
       "</g>\n",
       "<!-- 7&#45;&gt;2 -->\n",
       "<g id=\"edge6\" class=\"edge\">\n",
       "<title>7&#45;&gt;2</title>\n",
       "<path fill=\"none\" stroke=\"#000000\" d=\"M138.9532,-216.937C134.3581,-208.4537 128.7007,-198.0092 123.5569,-188.513\"/>\n",
       "<polygon fill=\"#000000\" stroke=\"#000000\" points=\"126.4831,-186.5666 118.6427,-179.4407 120.3281,-189.9006 126.4831,-186.5666\"/>\n",
       "</g>\n",
       "<!-- 7&#45;&gt;6 -->\n",
       "<g id=\"edge7\" class=\"edge\">\n",
       "<title>7&#45;&gt;6</title>\n",
       "<path fill=\"none\" stroke=\"#000000\" d=\"M157.6751,-216.937C162.4372,-208.3654 168.3116,-197.7914 173.6309,-188.2165\"/>\n",
       "<polygon fill=\"#000000\" stroke=\"#000000\" points=\"176.7095,-189.882 178.5064,-179.4407 170.5904,-186.4825 176.7095,-189.882\"/>\n",
       "</g>\n",
       "</g>\n",
       "</svg>\n"
      ],
      "text/plain": [
       "<graphviz.dot.Digraph at 0x10a112780>"
      ]
     },
     "execution_count": 13,
     "metadata": {},
     "output_type": "execute_result"
    }
   ],
   "source": [
    "parsing.render_forest(transitions[-1][0].stack)"
   ]
  },
  {
   "cell_type": "markdown",
   "metadata": {
    "slideshow": {
     "slide_type": "slide"
    }
   },
   "source": [
    "## Dynamic Programming for Parsing\n",
    "Bottom-up parser repeats the same work several times"
   ]
  },
  {
   "cell_type": "code",
   "execution_count": 14,
   "metadata": {
    "slideshow": {
     "slide_type": "subslide"
    }
   },
   "outputs": [
    {
     "data": {
      "text/html": [
       "<table><tr><td></td><td><?xml version=\"1.0\" encoding=\"UTF-8\" standalone=\"no\"?>\n",
       "<!DOCTYPE svg PUBLIC \"-//W3C//DTD SVG 1.1//EN\"\n",
       " \"http://www.w3.org/Graphics/SVG/1.1/DTD/svg11.dtd\">\n",
       "<!-- Generated by graphviz version 2.40.1 (20161225.0304)\n",
       " -->\n",
       "<!-- Title: %3 Pages: 1 -->\n",
       "<svg width=\"253pt\" height=\"188pt\"\n",
       " viewBox=\"0.00 0.00 253.20 188.00\" xmlns=\"http://www.w3.org/2000/svg\" xmlns:xlink=\"http://www.w3.org/1999/xlink\">\n",
       "<g id=\"graph0\" class=\"graph\" transform=\"scale(1 1) rotate(0) translate(4 184)\">\n",
       "<title>%3</title>\n",
       "<polygon fill=\"#ffffff\" stroke=\"transparent\" points=\"-4,4 -4,-184 249.1957,-184 249.1957,4 -4,4\"/>\n",
       "<!-- 0 -->\n",
       "<g id=\"node1\" class=\"node\">\n",
       "<title>0</title>\n",
       "<ellipse fill=\"none\" stroke=\"#000000\" cx=\"33.1957\" cy=\"-90\" rx=\"33.3925\" ry=\"18\"/>\n",
       "<text text-anchor=\"middle\" x=\"33.1957\" y=\"-85.8\" font-family=\"Times,serif\" font-size=\"14.00\" fill=\"#000000\">Matko</text>\n",
       "</g>\n",
       "<!-- 1 -->\n",
       "<g id=\"node2\" class=\"node\">\n",
       "<title>1</title>\n",
       "<ellipse fill=\"none\" stroke=\"#000000\" cx=\"33.1957\" cy=\"-162\" rx=\"29.0514\" ry=\"18\"/>\n",
       "<text text-anchor=\"middle\" x=\"33.1957\" y=\"-157.8\" font-family=\"Times,serif\" font-size=\"14.00\" fill=\"#000000\">NP_s</text>\n",
       "</g>\n",
       "<!-- 1&#45;&gt;0 -->\n",
       "<g id=\"edge1\" class=\"edge\">\n",
       "<title>1&#45;&gt;0</title>\n",
       "<path fill=\"none\" stroke=\"#000000\" d=\"M33.1957,-143.8314C33.1957,-136.131 33.1957,-126.9743 33.1957,-118.4166\"/>\n",
       "<polygon fill=\"#000000\" stroke=\"#000000\" points=\"36.6958,-118.4132 33.1957,-108.4133 29.6958,-118.4133 36.6958,-118.4132\"/>\n",
       "</g>\n",
       "<!-- 2 -->\n",
       "<g id=\"node3\" class=\"node\">\n",
       "<title>2</title>\n",
       "<ellipse fill=\"none\" stroke=\"#000000\" cx=\"107.1957\" cy=\"-162\" rx=\"27\" ry=\"18\"/>\n",
       "<text text-anchor=\"middle\" x=\"107.1957\" y=\"-157.8\" font-family=\"Times,serif\" font-size=\"14.00\" fill=\"#000000\">raps</text>\n",
       "</g>\n",
       "<!-- 3 -->\n",
       "<g id=\"node4\" class=\"node\">\n",
       "<title>3</title>\n",
       "<ellipse fill=\"none\" stroke=\"#000000\" cx=\"146.1957\" cy=\"-90\" rx=\"27\" ry=\"18\"/>\n",
       "<text text-anchor=\"middle\" x=\"146.1957\" y=\"-85.8\" font-family=\"Times,serif\" font-size=\"14.00\" fill=\"#000000\">are</text>\n",
       "</g>\n",
       "<!-- 4 -->\n",
       "<g id=\"node5\" class=\"node\">\n",
       "<title>4</title>\n",
       "<ellipse fill=\"none\" stroke=\"#000000\" cx=\"218.1957\" cy=\"-18\" rx=\"27\" ry=\"18\"/>\n",
       "<text text-anchor=\"middle\" x=\"218.1957\" y=\"-13.8\" font-family=\"Times,serif\" font-size=\"14.00\" fill=\"#000000\">silly</text>\n",
       "</g>\n",
       "<!-- 5 -->\n",
       "<g id=\"node6\" class=\"node\">\n",
       "<title>5</title>\n",
       "<ellipse fill=\"none\" stroke=\"#000000\" cx=\"218.1957\" cy=\"-90\" rx=\"27\" ry=\"18\"/>\n",
       "<text text-anchor=\"middle\" x=\"218.1957\" y=\"-85.8\" font-family=\"Times,serif\" font-size=\"14.00\" fill=\"#000000\">ADJ</text>\n",
       "</g>\n",
       "<!-- 5&#45;&gt;4 -->\n",
       "<g id=\"edge2\" class=\"edge\">\n",
       "<title>5&#45;&gt;4</title>\n",
       "<path fill=\"none\" stroke=\"#000000\" d=\"M218.1957,-71.8314C218.1957,-64.131 218.1957,-54.9743 218.1957,-46.4166\"/>\n",
       "<polygon fill=\"#000000\" stroke=\"#000000\" points=\"221.6958,-46.4132 218.1957,-36.4133 214.6958,-46.4133 221.6958,-46.4132\"/>\n",
       "</g>\n",
       "<!-- 6 -->\n",
       "<g id=\"node7\" class=\"node\">\n",
       "<title>6</title>\n",
       "<ellipse fill=\"none\" stroke=\"#000000\" cx=\"182.1957\" cy=\"-162\" rx=\"30.0121\" ry=\"18\"/>\n",
       "<text text-anchor=\"middle\" x=\"182.1957\" y=\"-157.8\" font-family=\"Times,serif\" font-size=\"14.00\" fill=\"#000000\">VP_p</text>\n",
       "</g>\n",
       "<!-- 6&#45;&gt;3 -->\n",
       "<g id=\"edge3\" class=\"edge\">\n",
       "<title>6&#45;&gt;3</title>\n",
       "<path fill=\"none\" stroke=\"#000000\" d=\"M173.4811,-144.5708C169.236,-136.0807 164.0421,-125.6929 159.3294,-116.2674\"/>\n",
       "<polygon fill=\"#000000\" stroke=\"#000000\" points=\"162.4327,-114.6477 154.83,-107.2687 156.1717,-117.7782 162.4327,-114.6477\"/>\n",
       "</g>\n",
       "<!-- 6&#45;&gt;5 -->\n",
       "<g id=\"edge4\" class=\"edge\">\n",
       "<title>6&#45;&gt;5</title>\n",
       "<path fill=\"none\" stroke=\"#000000\" d=\"M190.9103,-144.5708C195.1554,-136.0807 200.3493,-125.6929 205.062,-116.2674\"/>\n",
       "<polygon fill=\"#000000\" stroke=\"#000000\" points=\"208.2197,-117.7782 209.5613,-107.2687 201.9587,-114.6477 208.2197,-117.7782\"/>\n",
       "</g>\n",
       "</g>\n",
       "</svg>\n",
       "</td><td>Reduce</td></tr></table>"
      ],
      "text/plain": [
       "<statnlpbook.parsing.render_transitions.<locals>.Output at 0x10a112940>"
      ]
     },
     "execution_count": 14,
     "metadata": {},
     "output_type": "execute_result"
    }
   ],
   "source": [
    "parsing.render_transitions(transitions[7:8]) "
   ]
  },
  {
   "cell_type": "code",
   "execution_count": 15,
   "metadata": {
    "slideshow": {
     "slide_type": "subslide"
    }
   },
   "outputs": [
    {
     "data": {
      "text/html": [
       "<table><tr><td>raps are silly</td><td><?xml version=\"1.0\" encoding=\"UTF-8\" standalone=\"no\"?>\n",
       "<!DOCTYPE svg PUBLIC \"-//W3C//DTD SVG 1.1//EN\"\n",
       " \"http://www.w3.org/Graphics/SVG/1.1/DTD/svg11.dtd\">\n",
       "<!-- Generated by graphviz version 2.40.1 (20161225.0304)\n",
       " -->\n",
       "<!-- Title: %3 Pages: 1 -->\n",
       "<svg width=\"74pt\" height=\"44pt\"\n",
       " viewBox=\"0.00 0.00 74.39 44.00\" xmlns=\"http://www.w3.org/2000/svg\" xmlns:xlink=\"http://www.w3.org/1999/xlink\">\n",
       "<g id=\"graph0\" class=\"graph\" transform=\"scale(1 1) rotate(0) translate(4 40)\">\n",
       "<title>%3</title>\n",
       "<polygon fill=\"#ffffff\" stroke=\"transparent\" points=\"-4,4 -4,-40 70.3914,-40 70.3914,4 -4,4\"/>\n",
       "<!-- 0 -->\n",
       "<g id=\"node1\" class=\"node\">\n",
       "<title>0</title>\n",
       "<ellipse fill=\"none\" stroke=\"#000000\" cx=\"33.1957\" cy=\"-18\" rx=\"33.3925\" ry=\"18\"/>\n",
       "<text text-anchor=\"middle\" x=\"33.1957\" y=\"-13.8\" font-family=\"Times,serif\" font-size=\"14.00\" fill=\"#000000\">Matko</text>\n",
       "</g>\n",
       "</g>\n",
       "</svg>\n",
       "</td><td>Backtrack</td></tr>\n",
       "<tr><td>are silly</td><td><?xml version=\"1.0\" encoding=\"UTF-8\" standalone=\"no\"?>\n",
       "<!DOCTYPE svg PUBLIC \"-//W3C//DTD SVG 1.1//EN\"\n",
       " \"http://www.w3.org/Graphics/SVG/1.1/DTD/svg11.dtd\">\n",
       "<!-- Generated by graphviz version 2.40.1 (20161225.0304)\n",
       " -->\n",
       "<!-- Title: %3 Pages: 1 -->\n",
       "<svg width=\"146pt\" height=\"44pt\"\n",
       " viewBox=\"0.00 0.00 146.20 44.00\" xmlns=\"http://www.w3.org/2000/svg\" xmlns:xlink=\"http://www.w3.org/1999/xlink\">\n",
       "<g id=\"graph0\" class=\"graph\" transform=\"scale(1 1) rotate(0) translate(4 40)\">\n",
       "<title>%3</title>\n",
       "<polygon fill=\"#ffffff\" stroke=\"transparent\" points=\"-4,4 -4,-40 142.1957,-40 142.1957,4 -4,4\"/>\n",
       "<!-- 0 -->\n",
       "<g id=\"node1\" class=\"node\">\n",
       "<title>0</title>\n",
       "<ellipse fill=\"none\" stroke=\"#000000\" cx=\"33.1957\" cy=\"-18\" rx=\"33.3925\" ry=\"18\"/>\n",
       "<text text-anchor=\"middle\" x=\"33.1957\" y=\"-13.8\" font-family=\"Times,serif\" font-size=\"14.00\" fill=\"#000000\">Matko</text>\n",
       "</g>\n",
       "<!-- 1 -->\n",
       "<g id=\"node2\" class=\"node\">\n",
       "<title>1</title>\n",
       "<ellipse fill=\"none\" stroke=\"#000000\" cx=\"111.1957\" cy=\"-18\" rx=\"27\" ry=\"18\"/>\n",
       "<text text-anchor=\"middle\" x=\"111.1957\" y=\"-13.8\" font-family=\"Times,serif\" font-size=\"14.00\" fill=\"#000000\">raps</text>\n",
       "</g>\n",
       "</g>\n",
       "</svg>\n",
       "</td><td>Shift</td></tr>\n",
       "<tr><td>are silly</td><td><?xml version=\"1.0\" encoding=\"UTF-8\" standalone=\"no\"?>\n",
       "<!DOCTYPE svg PUBLIC \"-//W3C//DTD SVG 1.1//EN\"\n",
       " \"http://www.w3.org/Graphics/SVG/1.1/DTD/svg11.dtd\">\n",
       "<!-- Generated by graphviz version 2.40.1 (20161225.0304)\n",
       " -->\n",
       "<!-- Title: %3 Pages: 1 -->\n",
       "<svg width=\"146pt\" height=\"116pt\"\n",
       " viewBox=\"0.00 0.00 146.20 116.00\" xmlns=\"http://www.w3.org/2000/svg\" xmlns:xlink=\"http://www.w3.org/1999/xlink\">\n",
       "<g id=\"graph0\" class=\"graph\" transform=\"scale(1 1) rotate(0) translate(4 112)\">\n",
       "<title>%3</title>\n",
       "<polygon fill=\"#ffffff\" stroke=\"transparent\" points=\"-4,4 -4,-112 142.1957,-112 142.1957,4 -4,4\"/>\n",
       "<!-- 0 -->\n",
       "<g id=\"node1\" class=\"node\">\n",
       "<title>0</title>\n",
       "<ellipse fill=\"none\" stroke=\"#000000\" cx=\"33.1957\" cy=\"-18\" rx=\"33.3925\" ry=\"18\"/>\n",
       "<text text-anchor=\"middle\" x=\"33.1957\" y=\"-13.8\" font-family=\"Times,serif\" font-size=\"14.00\" fill=\"#000000\">Matko</text>\n",
       "</g>\n",
       "<!-- 1 -->\n",
       "<g id=\"node2\" class=\"node\">\n",
       "<title>1</title>\n",
       "<ellipse fill=\"none\" stroke=\"#000000\" cx=\"111.1957\" cy=\"-18\" rx=\"27\" ry=\"18\"/>\n",
       "<text text-anchor=\"middle\" x=\"111.1957\" y=\"-13.8\" font-family=\"Times,serif\" font-size=\"14.00\" fill=\"#000000\">raps</text>\n",
       "</g>\n",
       "<!-- 2 -->\n",
       "<g id=\"node3\" class=\"node\">\n",
       "<title>2</title>\n",
       "<ellipse fill=\"none\" stroke=\"#000000\" cx=\"72.1957\" cy=\"-90\" rx=\"30.0121\" ry=\"18\"/>\n",
       "<text text-anchor=\"middle\" x=\"72.1957\" y=\"-85.8\" font-family=\"Times,serif\" font-size=\"14.00\" fill=\"#000000\">NP_p</text>\n",
       "</g>\n",
       "<!-- 2&#45;&gt;0 -->\n",
       "<g id=\"edge1\" class=\"edge\">\n",
       "<title>2&#45;&gt;0</title>\n",
       "<path fill=\"none\" stroke=\"#000000\" d=\"M62.7549,-72.5708C58.1899,-64.1431 52.612,-53.8455 47.5366,-44.4755\"/>\n",
       "<polygon fill=\"#000000\" stroke=\"#000000\" points=\"50.5251,-42.6442 42.6847,-35.5182 44.3701,-45.9782 50.5251,-42.6442\"/>\n",
       "</g>\n",
       "<!-- 2&#45;&gt;1 -->\n",
       "<g id=\"edge2\" class=\"edge\">\n",
       "<title>2&#45;&gt;1</title>\n",
       "<path fill=\"none\" stroke=\"#000000\" d=\"M81.6365,-72.5708C86.2353,-64.0807 91.8621,-53.6929 96.9675,-44.2674\"/>\n",
       "<polygon fill=\"#000000\" stroke=\"#000000\" points=\"100.1565,-45.7286 101.8418,-35.2687 94.0014,-42.3946 100.1565,-45.7286\"/>\n",
       "</g>\n",
       "</g>\n",
       "</svg>\n",
       "</td><td>Reduce</td></tr></table>"
      ],
      "text/plain": [
       "<statnlpbook.parsing.render_transitions.<locals>.Output at 0x10a1bc860>"
      ]
     },
     "execution_count": 15,
     "metadata": {},
     "output_type": "execute_result"
    }
   ],
   "source": [
    "parsing.render_transitions(transitions[10:13])"
   ]
  },
  {
   "cell_type": "code",
   "execution_count": 16,
   "metadata": {
    "slideshow": {
     "slide_type": "subslide"
    }
   },
   "outputs": [
    {
     "data": {
      "text/html": [
       "<table><tr><td></td><td><?xml version=\"1.0\" encoding=\"UTF-8\" standalone=\"no\"?>\n",
       "<!DOCTYPE svg PUBLIC \"-//W3C//DTD SVG 1.1//EN\"\n",
       " \"http://www.w3.org/Graphics/SVG/1.1/DTD/svg11.dtd\">\n",
       "<!-- Generated by graphviz version 2.40.1 (20161225.0304)\n",
       " -->\n",
       "<!-- Title: %3 Pages: 1 -->\n",
       "<svg width=\"293pt\" height=\"188pt\"\n",
       " viewBox=\"0.00 0.00 293.20 188.00\" xmlns=\"http://www.w3.org/2000/svg\" xmlns:xlink=\"http://www.w3.org/1999/xlink\">\n",
       "<g id=\"graph0\" class=\"graph\" transform=\"scale(1 1) rotate(0) translate(4 184)\">\n",
       "<title>%3</title>\n",
       "<polygon fill=\"#ffffff\" stroke=\"transparent\" points=\"-4,4 -4,-184 289.1957,-184 289.1957,4 -4,4\"/>\n",
       "<!-- 0 -->\n",
       "<g id=\"node1\" class=\"node\">\n",
       "<title>0</title>\n",
       "<ellipse fill=\"none\" stroke=\"#000000\" cx=\"33.1957\" cy=\"-90\" rx=\"33.3925\" ry=\"18\"/>\n",
       "<text text-anchor=\"middle\" x=\"33.1957\" y=\"-85.8\" font-family=\"Times,serif\" font-size=\"14.00\" fill=\"#000000\">Matko</text>\n",
       "</g>\n",
       "<!-- 1 -->\n",
       "<g id=\"node2\" class=\"node\">\n",
       "<title>1</title>\n",
       "<ellipse fill=\"none\" stroke=\"#000000\" cx=\"111.1957\" cy=\"-90\" rx=\"27\" ry=\"18\"/>\n",
       "<text text-anchor=\"middle\" x=\"111.1957\" y=\"-85.8\" font-family=\"Times,serif\" font-size=\"14.00\" fill=\"#000000\">raps</text>\n",
       "</g>\n",
       "<!-- 2 -->\n",
       "<g id=\"node3\" class=\"node\">\n",
       "<title>2</title>\n",
       "<ellipse fill=\"none\" stroke=\"#000000\" cx=\"90.1957\" cy=\"-162\" rx=\"30.0121\" ry=\"18\"/>\n",
       "<text text-anchor=\"middle\" x=\"90.1957\" y=\"-157.8\" font-family=\"Times,serif\" font-size=\"14.00\" fill=\"#000000\">NP_p</text>\n",
       "</g>\n",
       "<!-- 2&#45;&gt;0 -->\n",
       "<g id=\"edge1\" class=\"edge\">\n",
       "<title>2&#45;&gt;0</title>\n",
       "<path fill=\"none\" stroke=\"#000000\" d=\"M77.2615,-145.6621C70.0045,-136.4953 60.8051,-124.8751 52.6911,-114.6257\"/>\n",
       "<polygon fill=\"#000000\" stroke=\"#000000\" points=\"55.4255,-112.4409 46.4742,-106.7729 49.9371,-116.7859 55.4255,-112.4409\"/>\n",
       "</g>\n",
       "<!-- 2&#45;&gt;1 -->\n",
       "<g id=\"edge2\" class=\"edge\">\n",
       "<title>2&#45;&gt;1</title>\n",
       "<path fill=\"none\" stroke=\"#000000\" d=\"M95.3867,-144.2022C97.7341,-136.1541 100.5619,-126.4588 103.1729,-117.5067\"/>\n",
       "<polygon fill=\"#000000\" stroke=\"#000000\" points=\"106.5515,-118.4226 105.9916,-107.8425 99.8315,-116.4625 106.5515,-118.4226\"/>\n",
       "</g>\n",
       "<!-- 3 -->\n",
       "<g id=\"node4\" class=\"node\">\n",
       "<title>3</title>\n",
       "<ellipse fill=\"none\" stroke=\"#000000\" cx=\"186.1957\" cy=\"-90\" rx=\"27\" ry=\"18\"/>\n",
       "<text text-anchor=\"middle\" x=\"186.1957\" y=\"-85.8\" font-family=\"Times,serif\" font-size=\"14.00\" fill=\"#000000\">are</text>\n",
       "</g>\n",
       "<!-- 4 -->\n",
       "<g id=\"node5\" class=\"node\">\n",
       "<title>4</title>\n",
       "<ellipse fill=\"none\" stroke=\"#000000\" cx=\"258.1957\" cy=\"-18\" rx=\"27\" ry=\"18\"/>\n",
       "<text text-anchor=\"middle\" x=\"258.1957\" y=\"-13.8\" font-family=\"Times,serif\" font-size=\"14.00\" fill=\"#000000\">silly</text>\n",
       "</g>\n",
       "<!-- 5 -->\n",
       "<g id=\"node6\" class=\"node\">\n",
       "<title>5</title>\n",
       "<ellipse fill=\"none\" stroke=\"#000000\" cx=\"258.1957\" cy=\"-90\" rx=\"27\" ry=\"18\"/>\n",
       "<text text-anchor=\"middle\" x=\"258.1957\" y=\"-85.8\" font-family=\"Times,serif\" font-size=\"14.00\" fill=\"#000000\">ADJ</text>\n",
       "</g>\n",
       "<!-- 5&#45;&gt;4 -->\n",
       "<g id=\"edge3\" class=\"edge\">\n",
       "<title>5&#45;&gt;4</title>\n",
       "<path fill=\"none\" stroke=\"#000000\" d=\"M258.1957,-71.8314C258.1957,-64.131 258.1957,-54.9743 258.1957,-46.4166\"/>\n",
       "<polygon fill=\"#000000\" stroke=\"#000000\" points=\"261.6958,-46.4132 258.1957,-36.4133 254.6958,-46.4133 261.6958,-46.4132\"/>\n",
       "</g>\n",
       "<!-- 6 -->\n",
       "<g id=\"node7\" class=\"node\">\n",
       "<title>6</title>\n",
       "<ellipse fill=\"none\" stroke=\"#000000\" cx=\"206.1957\" cy=\"-162\" rx=\"30.0121\" ry=\"18\"/>\n",
       "<text text-anchor=\"middle\" x=\"206.1957\" y=\"-157.8\" font-family=\"Times,serif\" font-size=\"14.00\" fill=\"#000000\">VP_p</text>\n",
       "</g>\n",
       "<!-- 6&#45;&gt;3 -->\n",
       "<g id=\"edge4\" class=\"edge\">\n",
       "<title>6&#45;&gt;3</title>\n",
       "<path fill=\"none\" stroke=\"#000000\" d=\"M201.2519,-144.2022C199.0163,-136.1541 196.3231,-126.4588 193.8364,-117.5067\"/>\n",
       "<polygon fill=\"#000000\" stroke=\"#000000\" points=\"197.2008,-116.541 191.152,-107.8425 190.4562,-118.4145 197.2008,-116.541\"/>\n",
       "</g>\n",
       "<!-- 6&#45;&gt;5 -->\n",
       "<g id=\"edge5\" class=\"edge\">\n",
       "<title>6&#45;&gt;5</title>\n",
       "<path fill=\"none\" stroke=\"#000000\" d=\"M218.2562,-145.3008C224.7537,-136.3043 232.9001,-125.0247 240.138,-115.0029\"/>\n",
       "<polygon fill=\"#000000\" stroke=\"#000000\" points=\"243.183,-116.7647 246.2006,-106.6087 237.5082,-112.6662 243.183,-116.7647\"/>\n",
       "</g>\n",
       "</g>\n",
       "</svg>\n",
       "</td><td>Reduce</td></tr></table>"
      ],
      "text/plain": [
       "<statnlpbook.parsing.render_transitions.<locals>.Output at 0x10a1bccc0>"
      ]
     },
     "execution_count": 16,
     "metadata": {},
     "output_type": "execute_result"
    }
   ],
   "source": [
    "parsing.render_transitions(transitions[-2:-1])"
   ]
  },
  {
   "cell_type": "markdown",
   "metadata": {
    "slideshow": {
     "slide_type": "subslide"
    }
   },
   "source": [
    "Fortunately we can **cache** these computations"
   ]
  },
  {
   "cell_type": "markdown",
   "metadata": {
    "slideshow": {
     "slide_type": "subslide"
    }
   },
   "source": [
    "### Chomsky Normal Form\n",
    "Algorithm for caching requires **Chomsky Normal Form**\n",
    "\n",
    "Rules have form:\n",
    "\n",
    "* \\\\(\\alpha \\rightarrow \\beta \\gamma\\\\) where \\\\(\\beta,\\gamma \\in N \\setminus \\\\{ S  \\\\} \\\\). \n",
    "    * rule with exactly two non-terminals on RHS\n",
    "* \\\\(\\alpha \\rightarrow t\\\\) where \\\\(t \\in \\Sigma\\\\)\n",
    "    * rule that expands to single \n",
    "   terminal"
   ]
  },
  {
   "cell_type": "markdown",
   "metadata": {
    "slideshow": {
     "slide_type": "subslide"
    }
   },
   "source": [
    "## Conversion to CNF\n",
    "We can convert every CFG into an equivalent CFG in CNF\n",
    "\n",
    "Replace left rules by right rules:  \n",
    "\n",
    "* $\\alpha \\rightarrow \\beta \\gamma \\delta \\Rightarrow \\alpha \\rightarrow \\beta\\alpha', \\alpha' \\rightarrow \\gamma \\delta$\n",
    "* $\\alpha \\rightarrow \\beta t \\Rightarrow \\alpha \\rightarrow \\beta \\alpha', \\alpha' \\rightarrow t$ where $t \\in \\Sigma$\n",
    "* $\\alpha \\rightarrow \\beta, \\beta \\rightarrow \\gamma \\delta \\Rightarrow \\alpha \\rightarrow \\gamma \\delta, \\beta \\rightarrow \\gamma \\delta$ \n"
   ]
  },
  {
   "cell_type": "markdown",
   "metadata": {
    "slideshow": {
     "slide_type": "subslide"
    }
   },
   "source": [
    "## Example\n",
    "\n",
    "$S \\rightarrow NP \\: VP \\: PP$ "
   ]
  },
  {
   "cell_type": "markdown",
   "metadata": {
    "slideshow": {
     "slide_type": "fragment"
    }
   },
   "source": [
    "becomes $S \\rightarrow S' \\: PP$ and $S' \\rightarrow NP \\: VP$"
   ]
  },
  {
   "cell_type": "markdown",
   "metadata": {
    "slideshow": {
     "slide_type": "subslide"
    }
   },
   "source": [
    "$VP \\rightarrow \\text{are} \\: ADJ$ "
   ]
  },
  {
   "cell_type": "markdown",
   "metadata": {
    "slideshow": {
     "slide_type": "fragment"
    }
   },
   "source": [
    "becomes $VP \\rightarrow X \\: ADJ$ and $X \\rightarrow \\text{are}$"
   ]
  },
  {
   "cell_type": "code",
   "execution_count": 17,
   "metadata": {
    "slideshow": {
     "slide_type": "subslide"
    }
   },
   "outputs": [
    {
     "data": {
      "text/html": [
       "<table style=\"display: inline-block;\"><tr><td>S</td><td>NP_p VP_p</td></tr><tr><td>S</td><td>NP_s VP_s</td></tr><tr><td>NP_p_0</td><td>Matko</td></tr><tr><td>NP_p_1</td><td>raps</td></tr><tr><td>NP_p</td><td>NP_p_0 NP_p_1</td></tr></table> <table style=\"display: inline-block;\"><tr><td>VP_p_2</td><td>are</td></tr><tr><td>VP_p</td><td>VP_p_2 ADJ</td></tr><tr><td>NP_s</td><td>Matko</td></tr><tr><td>VP_s_4</td><td>raps</td></tr><tr><td>VP_s</td><td>VP_s_4 VP_s_3</td></tr></table> <table style=\"display: inline-block;\"><tr><td>VP_s_3_5</td><td>in</td></tr><tr><td>VP_s_3_6</td><td>StatNLP</td></tr><tr><td>VP_s_3</td><td>VP_s_3_5 VP_s_3_6</td></tr><tr><td>ADJ</td><td>silly</td></tr></table>"
      ],
      "text/plain": [
       "<__main__.CFG at 0x10a1bca20>"
      ]
     },
     "execution_count": 17,
     "metadata": {},
     "output_type": "execute_result"
    }
   ],
   "source": [
    "cnf_cfg = to_cnf(cfg)\n",
    "cnf_cfg"
   ]
  },
  {
   "cell_type": "markdown",
   "metadata": {
    "slideshow": {
     "slide_type": "slide"
    }
   },
   "source": [
    "### Cocke–Younger–Kasami (CYK) Algorithm\n",
    "\n",
    "**Incrementally** build all parse trees for **spans of increasing length**"
   ]
  },
  {
   "cell_type": "markdown",
   "metadata": {
    "slideshow": {
     "slide_type": "subslide"
    }
   },
   "source": [
    "Like the one for \"are silly\" and \"Matko Raps\":"
   ]
  },
  {
   "cell_type": "code",
   "execution_count": 18,
   "metadata": {},
   "outputs": [
    {
     "data": {
      "text/html": [
       "<table><tr><td></td><td><?xml version=\"1.0\" encoding=\"UTF-8\" standalone=\"no\"?>\n",
       "<!DOCTYPE svg PUBLIC \"-//W3C//DTD SVG 1.1//EN\"\n",
       " \"http://www.w3.org/Graphics/SVG/1.1/DTD/svg11.dtd\">\n",
       "<!-- Generated by graphviz version 2.40.1 (20161225.0304)\n",
       " -->\n",
       "<!-- Title: %3 Pages: 1 -->\n",
       "<svg width=\"293pt\" height=\"188pt\"\n",
       " viewBox=\"0.00 0.00 293.20 188.00\" xmlns=\"http://www.w3.org/2000/svg\" xmlns:xlink=\"http://www.w3.org/1999/xlink\">\n",
       "<g id=\"graph0\" class=\"graph\" transform=\"scale(1 1) rotate(0) translate(4 184)\">\n",
       "<title>%3</title>\n",
       "<polygon fill=\"#ffffff\" stroke=\"transparent\" points=\"-4,4 -4,-184 289.1957,-184 289.1957,4 -4,4\"/>\n",
       "<!-- 0 -->\n",
       "<g id=\"node1\" class=\"node\">\n",
       "<title>0</title>\n",
       "<ellipse fill=\"none\" stroke=\"#000000\" cx=\"33.1957\" cy=\"-90\" rx=\"33.3925\" ry=\"18\"/>\n",
       "<text text-anchor=\"middle\" x=\"33.1957\" y=\"-85.8\" font-family=\"Times,serif\" font-size=\"14.00\" fill=\"#000000\">Matko</text>\n",
       "</g>\n",
       "<!-- 1 -->\n",
       "<g id=\"node2\" class=\"node\">\n",
       "<title>1</title>\n",
       "<ellipse fill=\"none\" stroke=\"#000000\" cx=\"111.1957\" cy=\"-90\" rx=\"27\" ry=\"18\"/>\n",
       "<text text-anchor=\"middle\" x=\"111.1957\" y=\"-85.8\" font-family=\"Times,serif\" font-size=\"14.00\" fill=\"#000000\">raps</text>\n",
       "</g>\n",
       "<!-- 2 -->\n",
       "<g id=\"node3\" class=\"node\">\n",
       "<title>2</title>\n",
       "<ellipse fill=\"none\" stroke=\"#000000\" cx=\"90.1957\" cy=\"-162\" rx=\"30.0121\" ry=\"18\"/>\n",
       "<text text-anchor=\"middle\" x=\"90.1957\" y=\"-157.8\" font-family=\"Times,serif\" font-size=\"14.00\" fill=\"#000000\">NP_p</text>\n",
       "</g>\n",
       "<!-- 2&#45;&gt;0 -->\n",
       "<g id=\"edge1\" class=\"edge\">\n",
       "<title>2&#45;&gt;0</title>\n",
       "<path fill=\"none\" stroke=\"#000000\" d=\"M77.2615,-145.6621C70.0045,-136.4953 60.8051,-124.8751 52.6911,-114.6257\"/>\n",
       "<polygon fill=\"#000000\" stroke=\"#000000\" points=\"55.4255,-112.4409 46.4742,-106.7729 49.9371,-116.7859 55.4255,-112.4409\"/>\n",
       "</g>\n",
       "<!-- 2&#45;&gt;1 -->\n",
       "<g id=\"edge2\" class=\"edge\">\n",
       "<title>2&#45;&gt;1</title>\n",
       "<path fill=\"none\" stroke=\"#000000\" d=\"M95.3867,-144.2022C97.7341,-136.1541 100.5619,-126.4588 103.1729,-117.5067\"/>\n",
       "<polygon fill=\"#000000\" stroke=\"#000000\" points=\"106.5515,-118.4226 105.9916,-107.8425 99.8315,-116.4625 106.5515,-118.4226\"/>\n",
       "</g>\n",
       "<!-- 3 -->\n",
       "<g id=\"node4\" class=\"node\">\n",
       "<title>3</title>\n",
       "<ellipse fill=\"none\" stroke=\"#000000\" cx=\"186.1957\" cy=\"-90\" rx=\"27\" ry=\"18\"/>\n",
       "<text text-anchor=\"middle\" x=\"186.1957\" y=\"-85.8\" font-family=\"Times,serif\" font-size=\"14.00\" fill=\"#000000\">are</text>\n",
       "</g>\n",
       "<!-- 4 -->\n",
       "<g id=\"node5\" class=\"node\">\n",
       "<title>4</title>\n",
       "<ellipse fill=\"none\" stroke=\"#000000\" cx=\"258.1957\" cy=\"-18\" rx=\"27\" ry=\"18\"/>\n",
       "<text text-anchor=\"middle\" x=\"258.1957\" y=\"-13.8\" font-family=\"Times,serif\" font-size=\"14.00\" fill=\"#000000\">silly</text>\n",
       "</g>\n",
       "<!-- 5 -->\n",
       "<g id=\"node6\" class=\"node\">\n",
       "<title>5</title>\n",
       "<ellipse fill=\"none\" stroke=\"#000000\" cx=\"258.1957\" cy=\"-90\" rx=\"27\" ry=\"18\"/>\n",
       "<text text-anchor=\"middle\" x=\"258.1957\" y=\"-85.8\" font-family=\"Times,serif\" font-size=\"14.00\" fill=\"#000000\">ADJ</text>\n",
       "</g>\n",
       "<!-- 5&#45;&gt;4 -->\n",
       "<g id=\"edge3\" class=\"edge\">\n",
       "<title>5&#45;&gt;4</title>\n",
       "<path fill=\"none\" stroke=\"#000000\" d=\"M258.1957,-71.8314C258.1957,-64.131 258.1957,-54.9743 258.1957,-46.4166\"/>\n",
       "<polygon fill=\"#000000\" stroke=\"#000000\" points=\"261.6958,-46.4132 258.1957,-36.4133 254.6958,-46.4133 261.6958,-46.4132\"/>\n",
       "</g>\n",
       "<!-- 6 -->\n",
       "<g id=\"node7\" class=\"node\">\n",
       "<title>6</title>\n",
       "<ellipse fill=\"none\" stroke=\"#000000\" cx=\"206.1957\" cy=\"-162\" rx=\"30.0121\" ry=\"18\"/>\n",
       "<text text-anchor=\"middle\" x=\"206.1957\" y=\"-157.8\" font-family=\"Times,serif\" font-size=\"14.00\" fill=\"#000000\">VP_p</text>\n",
       "</g>\n",
       "<!-- 6&#45;&gt;3 -->\n",
       "<g id=\"edge4\" class=\"edge\">\n",
       "<title>6&#45;&gt;3</title>\n",
       "<path fill=\"none\" stroke=\"#000000\" d=\"M201.2519,-144.2022C199.0163,-136.1541 196.3231,-126.4588 193.8364,-117.5067\"/>\n",
       "<polygon fill=\"#000000\" stroke=\"#000000\" points=\"197.2008,-116.541 191.152,-107.8425 190.4562,-118.4145 197.2008,-116.541\"/>\n",
       "</g>\n",
       "<!-- 6&#45;&gt;5 -->\n",
       "<g id=\"edge5\" class=\"edge\">\n",
       "<title>6&#45;&gt;5</title>\n",
       "<path fill=\"none\" stroke=\"#000000\" d=\"M218.2562,-145.3008C224.7537,-136.3043 232.9001,-125.0247 240.138,-115.0029\"/>\n",
       "<polygon fill=\"#000000\" stroke=\"#000000\" points=\"243.183,-116.7647 246.2006,-106.6087 237.5082,-112.6662 243.183,-116.7647\"/>\n",
       "</g>\n",
       "</g>\n",
       "</svg>\n",
       "</td><td>Reduce</td></tr></table>"
      ],
      "text/plain": [
       "<statnlpbook.parsing.render_transitions.<locals>.Output at 0x10a1bccf8>"
      ]
     },
     "execution_count": 18,
     "metadata": {},
     "output_type": "execute_result"
    }
   ],
   "source": [
    "parsing.render_transitions(transitions[16:17]) "
   ]
  },
  {
   "cell_type": "markdown",
   "metadata": {
    "slideshow": {
     "slide_type": "subslide"
    }
   },
   "source": [
    "Requires a **chart** to store \n",
    "* legal non-terminals per span \n",
    "* and back-pointers to child spans"
   ]
  },
  {
   "cell_type": "code",
   "execution_count": 19,
   "metadata": {
    "hideCode": true,
    "hidePrompt": true,
    "slideshow": {
     "slide_type": "-"
    }
   },
   "outputs": [
    {
     "data": {
      "text/html": [
       "<table><tr><td></td><td>0: Matko</td><td>1: raps</td><td>2: are</td><td>3: silly</td></tr>\n",
       "<tr><td>0: Matko</td><td style=\"border:solid;\" bgcolor=\"white\"><font color=\"black\">NP_s</font>, <font color=\"red\">NP_p_0</font></td><td style=\"border:solid;\" bgcolor=\"#C3C3C3\"><font color=\"blue\">NP_p_2</font></td><td style=\"border:solid;\" bgcolor=\"white\"></td><td style=\"border:solid;\" bgcolor=\"white\"></td></tr>\n",
       "<tr><td>1: raps</td><td style=\"border:none;\" bgcolor=\"white\"></td><td style=\"border:solid;\" bgcolor=\"white\"><font color=\"black\">VP_s_6</font>, <font color=\"red\">NP_p_1</font></td><td style=\"border:solid;\" bgcolor=\"white\"></td><td style=\"border:solid;\" bgcolor=\"white\"></td></tr>\n",
       "<tr><td>2: are</td><td style=\"border:none;\" bgcolor=\"white\"></td><td style=\"border:none;\" bgcolor=\"white\"></td><td style=\"border:solid;\" bgcolor=\"white\"></td><td style=\"border:solid;\" bgcolor=\"white\"></td></tr>\n",
       "<tr><td>3: silly</td><td style=\"border:none;\" bgcolor=\"white\"></td><td style=\"border:none;\" bgcolor=\"white\"></td><td style=\"border:none;\" bgcolor=\"white\"></td><td style=\"border:solid;\" bgcolor=\"white\"></td></tr></table>"
      ],
      "text/plain": [
       "<statnlpbook.parsing.Chart at 0x10a1bcb70>"
      ]
     },
     "execution_count": 19,
     "metadata": {},
     "output_type": "execute_result"
    }
   ],
   "source": [
    "chart = parsing.Chart(sentence)\n",
    "chart.append_label(0,0,'NP_s')\n",
    "chart.append_label(0,0,'NP_p_0')\n",
    "chart.append_label(1,1,'VP_s_6')\n",
    "chart.append_label(1,1,'NP_p_1')\n",
    "chart.append_label(0,1,'NP_p_2', [(0,0,'NP_p_0'),(1,1,'NP_p_1')]) \n",
    "chart.mark(0, 1, 'NP_p_2')\n",
    "chart.mark_target(0,1)\n",
    "chart"
   ]
  },
  {
   "cell_type": "markdown",
   "metadata": {
    "slideshow": {
     "slide_type": "subslide"
    }
   },
   "source": [
    "### CYK Algorithm\n",
    "Populate trees with non-terminal $l$ for span $(i,j)$ \n",
    "\n",
    "if $j=i$\n",
    "* Check if $l \\rightarrow x_i \\in R$ "
   ]
  },
  {
   "cell_type": "markdown",
   "metadata": {
    "slideshow": {
     "slide_type": "fragment"
    }
   },
   "source": [
    "if $j>i$\n",
    "* Consider all *middle* indices $m$   \n",
    "* **combine trees** of span $(i,m)$ and $(m+1,j)$ with labels $l_1$ and $l_2$\n",
    "* if there is a rule $l \\rightarrow l_1 \\: l_2 \\in R$"
   ]
  },
  {
   "cell_type": "code",
   "execution_count": 20,
   "metadata": {
    "hideCode": true,
    "hidePrompt": true,
    "slideshow": {
     "slide_type": "subslide"
    }
   },
   "outputs": [
    {
     "data": {
      "text/html": [
       "<table style=\"display: inline-block;\"><tr><td>S</td><td>NP_p VP_p</td></tr><tr><td>S</td><td>NP_s VP_s</td></tr><tr><td>NP_p_0</td><td>Matko</td></tr><tr><td>NP_p_1</td><td>raps</td></tr><tr><td>NP_p</td><td>NP_p_0 NP_p_1</td></tr></table> <table style=\"display: inline-block;\"><tr><td>VP_p_2</td><td>are</td></tr><tr><td>VP_p</td><td>VP_p_2 ADJ</td></tr><tr><td>NP_s</td><td>Matko</td></tr><tr><td>VP_s_4</td><td>raps</td></tr><tr><td>VP_s</td><td>VP_s_4 VP_s_3</td></tr></table> <table style=\"display: inline-block;\"><tr><td>VP_s_3_5</td><td>in</td></tr><tr><td>VP_s_3_6</td><td>StatNLP</td></tr><tr><td>VP_s_3</td><td>VP_s_3_5 VP_s_3_6</td></tr><tr><td>ADJ</td><td>silly</td></tr></table>"
      ],
      "text/plain": [
       "<__main__.CFG at 0x10a1bca20>"
      ]
     },
     "execution_count": 20,
     "metadata": {},
     "output_type": "execute_result"
    }
   ],
   "source": [
    "cnf_cfg"
   ]
  },
  {
   "cell_type": "code",
   "execution_count": 21,
   "metadata": {
    "hideCode": true,
    "hidePrompt": true,
    "slideshow": {
     "slide_type": "-"
    }
   },
   "outputs": [
    {
     "data": {
      "text/html": [
       "\n",
       "        <div id=\"7072065e-a70a-11e7-af5b-6c4008b6c404\" class=\"carousel\" data-ride=\"carousel\" data-interval=\"false\">\n",
       "          <!-- Controls -->\n",
       "          <a href=\"#7072065e-a70a-11e7-af5b-6c4008b6c404\" role=\"button2\" data-slide=\"prev\">Previous</a>\n",
       "          &nbsp\n",
       "          <a  href=\"#7072065e-a70a-11e7-af5b-6c4008b6c404\" role=\"button2\" data-slide=\"next\">Next</a>\n",
       "          <div class=\"carousel-inner\" role=\"listbox\">\n",
       "          <div class=\"item active\"><table><tr><td></td><td>0: Matko</td><td>1: raps</td><td>2: are</td><td>3: silly</td></tr>\n",
       "<tr><td>0: Matko</td><td style=\"border:solid;\" bgcolor=\"white\"></td><td style=\"border:solid;\" bgcolor=\"white\"></td><td style=\"border:solid;\" bgcolor=\"white\"></td><td style=\"border:solid;\" bgcolor=\"white\"></td></tr>\n",
       "<tr><td>1: raps</td><td style=\"border:none;\" bgcolor=\"white\"></td><td style=\"border:solid;\" bgcolor=\"white\"></td><td style=\"border:solid;\" bgcolor=\"white\"></td><td style=\"border:solid;\" bgcolor=\"white\"></td></tr>\n",
       "<tr><td>2: are</td><td style=\"border:none;\" bgcolor=\"white\"></td><td style=\"border:none;\" bgcolor=\"white\"></td><td style=\"border:solid;\" bgcolor=\"white\"></td><td style=\"border:solid;\" bgcolor=\"white\"></td></tr>\n",
       "<tr><td>3: silly</td><td style=\"border:none;\" bgcolor=\"white\"></td><td style=\"border:none;\" bgcolor=\"white\"></td><td style=\"border:none;\" bgcolor=\"white\"></td><td style=\"border:solid;\" bgcolor=\"white\"></td></tr></table> 1 / 36</div>\n",
       "<div class=\"item\"><table><tr><td></td><td>0: Matko</td><td>1: raps</td><td>2: are</td><td>3: silly</td></tr>\n",
       "<tr><td>0: Matko</td><td style=\"border:solid;\" bgcolor=\"#C3C3C3\"></td><td style=\"border:solid;\" bgcolor=\"white\"></td><td style=\"border:solid;\" bgcolor=\"white\"></td><td style=\"border:solid;\" bgcolor=\"white\"></td></tr>\n",
       "<tr><td>1: raps</td><td style=\"border:none;\" bgcolor=\"white\"></td><td style=\"border:solid;\" bgcolor=\"white\"></td><td style=\"border:solid;\" bgcolor=\"white\"></td><td style=\"border:solid;\" bgcolor=\"white\"></td></tr>\n",
       "<tr><td>2: are</td><td style=\"border:none;\" bgcolor=\"white\"></td><td style=\"border:none;\" bgcolor=\"white\"></td><td style=\"border:solid;\" bgcolor=\"white\"></td><td style=\"border:solid;\" bgcolor=\"white\"></td></tr>\n",
       "<tr><td>3: silly</td><td style=\"border:none;\" bgcolor=\"white\"></td><td style=\"border:none;\" bgcolor=\"white\"></td><td style=\"border:none;\" bgcolor=\"white\"></td><td style=\"border:solid;\" bgcolor=\"white\"></td></tr></table> 2 / 36</div>\n",
       "<div class=\"item\"><table><tr><td></td><td>0: Matko</td><td>1: raps</td><td>2: are</td><td>3: silly</td></tr>\n",
       "<tr><td>0: Matko</td><td style=\"border:solid;\" bgcolor=\"#C3C3C3\"><font color=\"blue\">NP_p_0</font></td><td style=\"border:solid;\" bgcolor=\"white\"></td><td style=\"border:solid;\" bgcolor=\"white\"></td><td style=\"border:solid;\" bgcolor=\"white\"></td></tr>\n",
       "<tr><td>1: raps</td><td style=\"border:none;\" bgcolor=\"white\"></td><td style=\"border:solid;\" bgcolor=\"white\"></td><td style=\"border:solid;\" bgcolor=\"white\"></td><td style=\"border:solid;\" bgcolor=\"white\"></td></tr>\n",
       "<tr><td>2: are</td><td style=\"border:none;\" bgcolor=\"white\"></td><td style=\"border:none;\" bgcolor=\"white\"></td><td style=\"border:solid;\" bgcolor=\"white\"></td><td style=\"border:solid;\" bgcolor=\"white\"></td></tr>\n",
       "<tr><td>3: silly</td><td style=\"border:none;\" bgcolor=\"white\"></td><td style=\"border:none;\" bgcolor=\"white\"></td><td style=\"border:none;\" bgcolor=\"white\"></td><td style=\"border:solid;\" bgcolor=\"white\"></td></tr></table> 3 / 36</div>\n",
       "<div class=\"item\"><table><tr><td></td><td>0: Matko</td><td>1: raps</td><td>2: are</td><td>3: silly</td></tr>\n",
       "<tr><td>0: Matko</td><td style=\"border:solid;\" bgcolor=\"#C3C3C3\"><font color=\"black\">NP_p_0</font>, <font color=\"blue\">NP_s</font></td><td style=\"border:solid;\" bgcolor=\"white\"></td><td style=\"border:solid;\" bgcolor=\"white\"></td><td style=\"border:solid;\" bgcolor=\"white\"></td></tr>\n",
       "<tr><td>1: raps</td><td style=\"border:none;\" bgcolor=\"white\"></td><td style=\"border:solid;\" bgcolor=\"white\"></td><td style=\"border:solid;\" bgcolor=\"white\"></td><td style=\"border:solid;\" bgcolor=\"white\"></td></tr>\n",
       "<tr><td>2: are</td><td style=\"border:none;\" bgcolor=\"white\"></td><td style=\"border:none;\" bgcolor=\"white\"></td><td style=\"border:solid;\" bgcolor=\"white\"></td><td style=\"border:solid;\" bgcolor=\"white\"></td></tr>\n",
       "<tr><td>3: silly</td><td style=\"border:none;\" bgcolor=\"white\"></td><td style=\"border:none;\" bgcolor=\"white\"></td><td style=\"border:none;\" bgcolor=\"white\"></td><td style=\"border:solid;\" bgcolor=\"white\"></td></tr></table> 4 / 36</div>\n",
       "<div class=\"item\"><table><tr><td></td><td>0: Matko</td><td>1: raps</td><td>2: are</td><td>3: silly</td></tr>\n",
       "<tr><td>0: Matko</td><td style=\"border:solid;\" bgcolor=\"white\"><font color=\"black\">NP_p_0</font>, <font color=\"blue\">NP_s</font></td><td style=\"border:solid;\" bgcolor=\"white\"></td><td style=\"border:solid;\" bgcolor=\"white\"></td><td style=\"border:solid;\" bgcolor=\"white\"></td></tr>\n",
       "<tr><td>1: raps</td><td style=\"border:none;\" bgcolor=\"white\"></td><td style=\"border:solid;\" bgcolor=\"#C3C3C3\"></td><td style=\"border:solid;\" bgcolor=\"white\"></td><td style=\"border:solid;\" bgcolor=\"white\"></td></tr>\n",
       "<tr><td>2: are</td><td style=\"border:none;\" bgcolor=\"white\"></td><td style=\"border:none;\" bgcolor=\"white\"></td><td style=\"border:solid;\" bgcolor=\"white\"></td><td style=\"border:solid;\" bgcolor=\"white\"></td></tr>\n",
       "<tr><td>3: silly</td><td style=\"border:none;\" bgcolor=\"white\"></td><td style=\"border:none;\" bgcolor=\"white\"></td><td style=\"border:none;\" bgcolor=\"white\"></td><td style=\"border:solid;\" bgcolor=\"white\"></td></tr></table> 5 / 36</div>\n",
       "<div class=\"item\"><table><tr><td></td><td>0: Matko</td><td>1: raps</td><td>2: are</td><td>3: silly</td></tr>\n",
       "<tr><td>0: Matko</td><td style=\"border:solid;\" bgcolor=\"white\"><font color=\"black\">NP_p_0</font>, <font color=\"black\">NP_s</font></td><td style=\"border:solid;\" bgcolor=\"white\"></td><td style=\"border:solid;\" bgcolor=\"white\"></td><td style=\"border:solid;\" bgcolor=\"white\"></td></tr>\n",
       "<tr><td>1: raps</td><td style=\"border:none;\" bgcolor=\"white\"></td><td style=\"border:solid;\" bgcolor=\"#C3C3C3\"><font color=\"blue\">NP_p_1</font></td><td style=\"border:solid;\" bgcolor=\"white\"></td><td style=\"border:solid;\" bgcolor=\"white\"></td></tr>\n",
       "<tr><td>2: are</td><td style=\"border:none;\" bgcolor=\"white\"></td><td style=\"border:none;\" bgcolor=\"white\"></td><td style=\"border:solid;\" bgcolor=\"white\"></td><td style=\"border:solid;\" bgcolor=\"white\"></td></tr>\n",
       "<tr><td>3: silly</td><td style=\"border:none;\" bgcolor=\"white\"></td><td style=\"border:none;\" bgcolor=\"white\"></td><td style=\"border:none;\" bgcolor=\"white\"></td><td style=\"border:solid;\" bgcolor=\"white\"></td></tr></table> 6 / 36</div>\n",
       "<div class=\"item\"><table><tr><td></td><td>0: Matko</td><td>1: raps</td><td>2: are</td><td>3: silly</td></tr>\n",
       "<tr><td>0: Matko</td><td style=\"border:solid;\" bgcolor=\"white\"><font color=\"black\">NP_p_0</font>, <font color=\"black\">NP_s</font></td><td style=\"border:solid;\" bgcolor=\"white\"></td><td style=\"border:solid;\" bgcolor=\"white\"></td><td style=\"border:solid;\" bgcolor=\"white\"></td></tr>\n",
       "<tr><td>1: raps</td><td style=\"border:none;\" bgcolor=\"white\"></td><td style=\"border:solid;\" bgcolor=\"#C3C3C3\"><font color=\"black\">NP_p_1</font>, <font color=\"blue\">VP_s_4</font></td><td style=\"border:solid;\" bgcolor=\"white\"></td><td style=\"border:solid;\" bgcolor=\"white\"></td></tr>\n",
       "<tr><td>2: are</td><td style=\"border:none;\" bgcolor=\"white\"></td><td style=\"border:none;\" bgcolor=\"white\"></td><td style=\"border:solid;\" bgcolor=\"white\"></td><td style=\"border:solid;\" bgcolor=\"white\"></td></tr>\n",
       "<tr><td>3: silly</td><td style=\"border:none;\" bgcolor=\"white\"></td><td style=\"border:none;\" bgcolor=\"white\"></td><td style=\"border:none;\" bgcolor=\"white\"></td><td style=\"border:solid;\" bgcolor=\"white\"></td></tr></table> 7 / 36</div>\n",
       "<div class=\"item\"><table><tr><td></td><td>0: Matko</td><td>1: raps</td><td>2: are</td><td>3: silly</td></tr>\n",
       "<tr><td>0: Matko</td><td style=\"border:solid;\" bgcolor=\"white\"><font color=\"black\">NP_p_0</font>, <font color=\"black\">NP_s</font></td><td style=\"border:solid;\" bgcolor=\"white\"></td><td style=\"border:solid;\" bgcolor=\"white\"></td><td style=\"border:solid;\" bgcolor=\"white\"></td></tr>\n",
       "<tr><td>1: raps</td><td style=\"border:none;\" bgcolor=\"white\"></td><td style=\"border:solid;\" bgcolor=\"white\"><font color=\"black\">NP_p_1</font>, <font color=\"blue\">VP_s_4</font></td><td style=\"border:solid;\" bgcolor=\"white\"></td><td style=\"border:solid;\" bgcolor=\"white\"></td></tr>\n",
       "<tr><td>2: are</td><td style=\"border:none;\" bgcolor=\"white\"></td><td style=\"border:none;\" bgcolor=\"white\"></td><td style=\"border:solid;\" bgcolor=\"#C3C3C3\"></td><td style=\"border:solid;\" bgcolor=\"white\"></td></tr>\n",
       "<tr><td>3: silly</td><td style=\"border:none;\" bgcolor=\"white\"></td><td style=\"border:none;\" bgcolor=\"white\"></td><td style=\"border:none;\" bgcolor=\"white\"></td><td style=\"border:solid;\" bgcolor=\"white\"></td></tr></table> 8 / 36</div>\n",
       "<div class=\"item\"><table><tr><td></td><td>0: Matko</td><td>1: raps</td><td>2: are</td><td>3: silly</td></tr>\n",
       "<tr><td>0: Matko</td><td style=\"border:solid;\" bgcolor=\"white\"><font color=\"black\">NP_p_0</font>, <font color=\"black\">NP_s</font></td><td style=\"border:solid;\" bgcolor=\"white\"></td><td style=\"border:solid;\" bgcolor=\"white\"></td><td style=\"border:solid;\" bgcolor=\"white\"></td></tr>\n",
       "<tr><td>1: raps</td><td style=\"border:none;\" bgcolor=\"white\"></td><td style=\"border:solid;\" bgcolor=\"white\"><font color=\"black\">NP_p_1</font>, <font color=\"black\">VP_s_4</font></td><td style=\"border:solid;\" bgcolor=\"white\"></td><td style=\"border:solid;\" bgcolor=\"white\"></td></tr>\n",
       "<tr><td>2: are</td><td style=\"border:none;\" bgcolor=\"white\"></td><td style=\"border:none;\" bgcolor=\"white\"></td><td style=\"border:solid;\" bgcolor=\"#C3C3C3\"><font color=\"blue\">VP_p_2</font></td><td style=\"border:solid;\" bgcolor=\"white\"></td></tr>\n",
       "<tr><td>3: silly</td><td style=\"border:none;\" bgcolor=\"white\"></td><td style=\"border:none;\" bgcolor=\"white\"></td><td style=\"border:none;\" bgcolor=\"white\"></td><td style=\"border:solid;\" bgcolor=\"white\"></td></tr></table> 9 / 36</div>\n",
       "<div class=\"item\"><table><tr><td></td><td>0: Matko</td><td>1: raps</td><td>2: are</td><td>3: silly</td></tr>\n",
       "<tr><td>0: Matko</td><td style=\"border:solid;\" bgcolor=\"white\"><font color=\"black\">NP_p_0</font>, <font color=\"black\">NP_s</font></td><td style=\"border:solid;\" bgcolor=\"white\"></td><td style=\"border:solid;\" bgcolor=\"white\"></td><td style=\"border:solid;\" bgcolor=\"white\"></td></tr>\n",
       "<tr><td>1: raps</td><td style=\"border:none;\" bgcolor=\"white\"></td><td style=\"border:solid;\" bgcolor=\"white\"><font color=\"black\">NP_p_1</font>, <font color=\"black\">VP_s_4</font></td><td style=\"border:solid;\" bgcolor=\"white\"></td><td style=\"border:solid;\" bgcolor=\"white\"></td></tr>\n",
       "<tr><td>2: are</td><td style=\"border:none;\" bgcolor=\"white\"></td><td style=\"border:none;\" bgcolor=\"white\"></td><td style=\"border:solid;\" bgcolor=\"white\"><font color=\"blue\">VP_p_2</font></td><td style=\"border:solid;\" bgcolor=\"white\"></td></tr>\n",
       "<tr><td>3: silly</td><td style=\"border:none;\" bgcolor=\"white\"></td><td style=\"border:none;\" bgcolor=\"white\"></td><td style=\"border:none;\" bgcolor=\"white\"></td><td style=\"border:solid;\" bgcolor=\"#C3C3C3\"></td></tr></table> 10 / 36</div>\n",
       "<div class=\"item\"><table><tr><td></td><td>0: Matko</td><td>1: raps</td><td>2: are</td><td>3: silly</td></tr>\n",
       "<tr><td>0: Matko</td><td style=\"border:solid;\" bgcolor=\"white\"><font color=\"black\">NP_p_0</font>, <font color=\"black\">NP_s</font></td><td style=\"border:solid;\" bgcolor=\"white\"></td><td style=\"border:solid;\" bgcolor=\"white\"></td><td style=\"border:solid;\" bgcolor=\"white\"></td></tr>\n",
       "<tr><td>1: raps</td><td style=\"border:none;\" bgcolor=\"white\"></td><td style=\"border:solid;\" bgcolor=\"white\"><font color=\"black\">NP_p_1</font>, <font color=\"black\">VP_s_4</font></td><td style=\"border:solid;\" bgcolor=\"white\"></td><td style=\"border:solid;\" bgcolor=\"white\"></td></tr>\n",
       "<tr><td>2: are</td><td style=\"border:none;\" bgcolor=\"white\"></td><td style=\"border:none;\" bgcolor=\"white\"></td><td style=\"border:solid;\" bgcolor=\"white\"><font color=\"black\">VP_p_2</font></td><td style=\"border:solid;\" bgcolor=\"white\"></td></tr>\n",
       "<tr><td>3: silly</td><td style=\"border:none;\" bgcolor=\"white\"></td><td style=\"border:none;\" bgcolor=\"white\"></td><td style=\"border:none;\" bgcolor=\"white\"></td><td style=\"border:solid;\" bgcolor=\"#C3C3C3\"><font color=\"blue\">ADJ</font></td></tr></table> 11 / 36</div>\n",
       "<div class=\"item\"><table><tr><td></td><td>0: Matko</td><td>1: raps</td><td>2: are</td><td>3: silly</td></tr>\n",
       "<tr><td>0: Matko</td><td style=\"border:solid;\" bgcolor=\"#E1E1E1\"><font color=\"black\">NP_p_0</font>, <font color=\"black\">NP_s</font></td><td style=\"border:solid;\" bgcolor=\"#C3C3C3\"></td><td style=\"border:solid;\" bgcolor=\"white\"></td><td style=\"border:solid;\" bgcolor=\"white\"></td></tr>\n",
       "<tr><td>1: raps</td><td style=\"border:none;\" bgcolor=\"white\"></td><td style=\"border:solid;\" bgcolor=\"#E1E1E1\"><font color=\"black\">NP_p_1</font>, <font color=\"black\">VP_s_4</font></td><td style=\"border:solid;\" bgcolor=\"white\"></td><td style=\"border:solid;\" bgcolor=\"white\"></td></tr>\n",
       "<tr><td>2: are</td><td style=\"border:none;\" bgcolor=\"white\"></td><td style=\"border:none;\" bgcolor=\"white\"></td><td style=\"border:solid;\" bgcolor=\"white\"><font color=\"black\">VP_p_2</font></td><td style=\"border:solid;\" bgcolor=\"white\"></td></tr>\n",
       "<tr><td>3: silly</td><td style=\"border:none;\" bgcolor=\"white\"></td><td style=\"border:none;\" bgcolor=\"white\"></td><td style=\"border:none;\" bgcolor=\"white\"></td><td style=\"border:solid;\" bgcolor=\"white\"><font color=\"black\">ADJ</font></td></tr></table> 12 / 36</div>\n",
       "<div class=\"item\"><table><tr><td></td><td>0: Matko</td><td>1: raps</td><td>2: are</td><td>3: silly</td></tr>\n",
       "<tr><td>0: Matko</td><td style=\"border:solid;\" bgcolor=\"#E1E1E1\"><font color=\"red\">NP_p_0</font>, <font color=\"black\">NP_s</font></td><td style=\"border:solid;\" bgcolor=\"#C3C3C3\"></td><td style=\"border:solid;\" bgcolor=\"white\"></td><td style=\"border:solid;\" bgcolor=\"white\"></td></tr>\n",
       "<tr><td>1: raps</td><td style=\"border:none;\" bgcolor=\"white\"></td><td style=\"border:solid;\" bgcolor=\"#E1E1E1\"><font color=\"red\">NP_p_1</font>, <font color=\"black\">VP_s_4</font></td><td style=\"border:solid;\" bgcolor=\"white\"></td><td style=\"border:solid;\" bgcolor=\"white\"></td></tr>\n",
       "<tr><td>2: are</td><td style=\"border:none;\" bgcolor=\"white\"></td><td style=\"border:none;\" bgcolor=\"white\"></td><td style=\"border:solid;\" bgcolor=\"white\"><font color=\"black\">VP_p_2</font></td><td style=\"border:solid;\" bgcolor=\"white\"></td></tr>\n",
       "<tr><td>3: silly</td><td style=\"border:none;\" bgcolor=\"white\"></td><td style=\"border:none;\" bgcolor=\"white\"></td><td style=\"border:none;\" bgcolor=\"white\"></td><td style=\"border:solid;\" bgcolor=\"white\"><font color=\"black\">ADJ</font></td></tr></table> 13 / 36</div>\n",
       "<div class=\"item\"><table><tr><td></td><td>0: Matko</td><td>1: raps</td><td>2: are</td><td>3: silly</td></tr>\n",
       "<tr><td>0: Matko</td><td style=\"border:solid;\" bgcolor=\"#E1E1E1\"><font color=\"red\">NP_p_0</font>, <font color=\"black\">NP_s</font></td><td style=\"border:solid;\" bgcolor=\"#C3C3C3\"><font color=\"blue\">NP_p</font></td><td style=\"border:solid;\" bgcolor=\"white\"></td><td style=\"border:solid;\" bgcolor=\"white\"></td></tr>\n",
       "<tr><td>1: raps</td><td style=\"border:none;\" bgcolor=\"white\"></td><td style=\"border:solid;\" bgcolor=\"#E1E1E1\"><font color=\"red\">NP_p_1</font>, <font color=\"black\">VP_s_4</font></td><td style=\"border:solid;\" bgcolor=\"white\"></td><td style=\"border:solid;\" bgcolor=\"white\"></td></tr>\n",
       "<tr><td>2: are</td><td style=\"border:none;\" bgcolor=\"white\"></td><td style=\"border:none;\" bgcolor=\"white\"></td><td style=\"border:solid;\" bgcolor=\"white\"><font color=\"black\">VP_p_2</font></td><td style=\"border:solid;\" bgcolor=\"white\"></td></tr>\n",
       "<tr><td>3: silly</td><td style=\"border:none;\" bgcolor=\"white\"></td><td style=\"border:none;\" bgcolor=\"white\"></td><td style=\"border:none;\" bgcolor=\"white\"></td><td style=\"border:solid;\" bgcolor=\"white\"><font color=\"black\">ADJ</font></td></tr></table> 14 / 36</div>\n",
       "<div class=\"item\"><table><tr><td></td><td>0: Matko</td><td>1: raps</td><td>2: are</td><td>3: silly</td></tr>\n",
       "<tr><td>0: Matko</td><td style=\"border:solid;\" bgcolor=\"#E1E1E1\"><font color=\"red\">NP_p_0</font>, <font color=\"black\">NP_s</font></td><td style=\"border:solid;\" bgcolor=\"#C3C3C3\"><font color=\"black\">NP_p</font></td><td style=\"border:solid;\" bgcolor=\"white\"></td><td style=\"border:solid;\" bgcolor=\"white\"></td></tr>\n",
       "<tr><td>1: raps</td><td style=\"border:none;\" bgcolor=\"white\"></td><td style=\"border:solid;\" bgcolor=\"#E1E1E1\"><font color=\"black\">NP_p_1</font>, <font color=\"red\">VP_s_4</font></td><td style=\"border:solid;\" bgcolor=\"white\"></td><td style=\"border:solid;\" bgcolor=\"white\"></td></tr>\n",
       "<tr><td>2: are</td><td style=\"border:none;\" bgcolor=\"white\"></td><td style=\"border:none;\" bgcolor=\"white\"></td><td style=\"border:solid;\" bgcolor=\"white\"><font color=\"black\">VP_p_2</font></td><td style=\"border:solid;\" bgcolor=\"white\"></td></tr>\n",
       "<tr><td>3: silly</td><td style=\"border:none;\" bgcolor=\"white\"></td><td style=\"border:none;\" bgcolor=\"white\"></td><td style=\"border:none;\" bgcolor=\"white\"></td><td style=\"border:solid;\" bgcolor=\"white\"><font color=\"black\">ADJ</font></td></tr></table> 15 / 36</div>\n",
       "<div class=\"item\"><table><tr><td></td><td>0: Matko</td><td>1: raps</td><td>2: are</td><td>3: silly</td></tr>\n",
       "<tr><td>0: Matko</td><td style=\"border:solid;\" bgcolor=\"#E1E1E1\"><font color=\"black\">NP_p_0</font>, <font color=\"red\">NP_s</font></td><td style=\"border:solid;\" bgcolor=\"#C3C3C3\"><font color=\"black\">NP_p</font></td><td style=\"border:solid;\" bgcolor=\"white\"></td><td style=\"border:solid;\" bgcolor=\"white\"></td></tr>\n",
       "<tr><td>1: raps</td><td style=\"border:none;\" bgcolor=\"white\"></td><td style=\"border:solid;\" bgcolor=\"#E1E1E1\"><font color=\"red\">NP_p_1</font>, <font color=\"black\">VP_s_4</font></td><td style=\"border:solid;\" bgcolor=\"white\"></td><td style=\"border:solid;\" bgcolor=\"white\"></td></tr>\n",
       "<tr><td>2: are</td><td style=\"border:none;\" bgcolor=\"white\"></td><td style=\"border:none;\" bgcolor=\"white\"></td><td style=\"border:solid;\" bgcolor=\"white\"><font color=\"black\">VP_p_2</font></td><td style=\"border:solid;\" bgcolor=\"white\"></td></tr>\n",
       "<tr><td>3: silly</td><td style=\"border:none;\" bgcolor=\"white\"></td><td style=\"border:none;\" bgcolor=\"white\"></td><td style=\"border:none;\" bgcolor=\"white\"></td><td style=\"border:solid;\" bgcolor=\"white\"><font color=\"black\">ADJ</font></td></tr></table> 16 / 36</div>\n",
       "<div class=\"item\"><table><tr><td></td><td>0: Matko</td><td>1: raps</td><td>2: are</td><td>3: silly</td></tr>\n",
       "<tr><td>0: Matko</td><td style=\"border:solid;\" bgcolor=\"#E1E1E1\"><font color=\"black\">NP_p_0</font>, <font color=\"red\">NP_s</font></td><td style=\"border:solid;\" bgcolor=\"#C3C3C3\"><font color=\"black\">NP_p</font></td><td style=\"border:solid;\" bgcolor=\"white\"></td><td style=\"border:solid;\" bgcolor=\"white\"></td></tr>\n",
       "<tr><td>1: raps</td><td style=\"border:none;\" bgcolor=\"white\"></td><td style=\"border:solid;\" bgcolor=\"#E1E1E1\"><font color=\"black\">NP_p_1</font>, <font color=\"red\">VP_s_4</font></td><td style=\"border:solid;\" bgcolor=\"white\"></td><td style=\"border:solid;\" bgcolor=\"white\"></td></tr>\n",
       "<tr><td>2: are</td><td style=\"border:none;\" bgcolor=\"white\"></td><td style=\"border:none;\" bgcolor=\"white\"></td><td style=\"border:solid;\" bgcolor=\"white\"><font color=\"black\">VP_p_2</font></td><td style=\"border:solid;\" bgcolor=\"white\"></td></tr>\n",
       "<tr><td>3: silly</td><td style=\"border:none;\" bgcolor=\"white\"></td><td style=\"border:none;\" bgcolor=\"white\"></td><td style=\"border:none;\" bgcolor=\"white\"></td><td style=\"border:solid;\" bgcolor=\"white\"><font color=\"black\">ADJ</font></td></tr></table> 17 / 36</div>\n",
       "<div class=\"item\"><table><tr><td></td><td>0: Matko</td><td>1: raps</td><td>2: are</td><td>3: silly</td></tr>\n",
       "<tr><td>0: Matko</td><td style=\"border:solid;\" bgcolor=\"white\"><font color=\"black\">NP_p_0</font>, <font color=\"black\">NP_s</font></td><td style=\"border:solid;\" bgcolor=\"white\"><font color=\"black\">NP_p</font></td><td style=\"border:solid;\" bgcolor=\"white\"></td><td style=\"border:solid;\" bgcolor=\"white\"></td></tr>\n",
       "<tr><td>1: raps</td><td style=\"border:none;\" bgcolor=\"white\"></td><td style=\"border:solid;\" bgcolor=\"#E1E1E1\"><font color=\"black\">NP_p_1</font>, <font color=\"black\">VP_s_4</font></td><td style=\"border:solid;\" bgcolor=\"#C3C3C3\"></td><td style=\"border:solid;\" bgcolor=\"white\"></td></tr>\n",
       "<tr><td>2: are</td><td style=\"border:none;\" bgcolor=\"white\"></td><td style=\"border:none;\" bgcolor=\"white\"></td><td style=\"border:solid;\" bgcolor=\"#E1E1E1\"><font color=\"black\">VP_p_2</font></td><td style=\"border:solid;\" bgcolor=\"white\"></td></tr>\n",
       "<tr><td>3: silly</td><td style=\"border:none;\" bgcolor=\"white\"></td><td style=\"border:none;\" bgcolor=\"white\"></td><td style=\"border:none;\" bgcolor=\"white\"></td><td style=\"border:solid;\" bgcolor=\"white\"><font color=\"black\">ADJ</font></td></tr></table> 18 / 36</div>\n",
       "<div class=\"item\"><table><tr><td></td><td>0: Matko</td><td>1: raps</td><td>2: are</td><td>3: silly</td></tr>\n",
       "<tr><td>0: Matko</td><td style=\"border:solid;\" bgcolor=\"white\"><font color=\"black\">NP_p_0</font>, <font color=\"black\">NP_s</font></td><td style=\"border:solid;\" bgcolor=\"white\"><font color=\"black\">NP_p</font></td><td style=\"border:solid;\" bgcolor=\"white\"></td><td style=\"border:solid;\" bgcolor=\"white\"></td></tr>\n",
       "<tr><td>1: raps</td><td style=\"border:none;\" bgcolor=\"white\"></td><td style=\"border:solid;\" bgcolor=\"#E1E1E1\"><font color=\"red\">NP_p_1</font>, <font color=\"black\">VP_s_4</font></td><td style=\"border:solid;\" bgcolor=\"#C3C3C3\"></td><td style=\"border:solid;\" bgcolor=\"white\"></td></tr>\n",
       "<tr><td>2: are</td><td style=\"border:none;\" bgcolor=\"white\"></td><td style=\"border:none;\" bgcolor=\"white\"></td><td style=\"border:solid;\" bgcolor=\"#E1E1E1\"><font color=\"red\">VP_p_2</font></td><td style=\"border:solid;\" bgcolor=\"white\"></td></tr>\n",
       "<tr><td>3: silly</td><td style=\"border:none;\" bgcolor=\"white\"></td><td style=\"border:none;\" bgcolor=\"white\"></td><td style=\"border:none;\" bgcolor=\"white\"></td><td style=\"border:solid;\" bgcolor=\"white\"><font color=\"black\">ADJ</font></td></tr></table> 19 / 36</div>\n",
       "<div class=\"item\"><table><tr><td></td><td>0: Matko</td><td>1: raps</td><td>2: are</td><td>3: silly</td></tr>\n",
       "<tr><td>0: Matko</td><td style=\"border:solid;\" bgcolor=\"white\"><font color=\"black\">NP_p_0</font>, <font color=\"black\">NP_s</font></td><td style=\"border:solid;\" bgcolor=\"white\"><font color=\"black\">NP_p</font></td><td style=\"border:solid;\" bgcolor=\"white\"></td><td style=\"border:solid;\" bgcolor=\"white\"></td></tr>\n",
       "<tr><td>1: raps</td><td style=\"border:none;\" bgcolor=\"white\"></td><td style=\"border:solid;\" bgcolor=\"#E1E1E1\"><font color=\"black\">NP_p_1</font>, <font color=\"red\">VP_s_4</font></td><td style=\"border:solid;\" bgcolor=\"#C3C3C3\"></td><td style=\"border:solid;\" bgcolor=\"white\"></td></tr>\n",
       "<tr><td>2: are</td><td style=\"border:none;\" bgcolor=\"white\"></td><td style=\"border:none;\" bgcolor=\"white\"></td><td style=\"border:solid;\" bgcolor=\"#E1E1E1\"><font color=\"red\">VP_p_2</font></td><td style=\"border:solid;\" bgcolor=\"white\"></td></tr>\n",
       "<tr><td>3: silly</td><td style=\"border:none;\" bgcolor=\"white\"></td><td style=\"border:none;\" bgcolor=\"white\"></td><td style=\"border:none;\" bgcolor=\"white\"></td><td style=\"border:solid;\" bgcolor=\"white\"><font color=\"black\">ADJ</font></td></tr></table> 20 / 36</div>\n",
       "<div class=\"item\"><table><tr><td></td><td>0: Matko</td><td>1: raps</td><td>2: are</td><td>3: silly</td></tr>\n",
       "<tr><td>0: Matko</td><td style=\"border:solid;\" bgcolor=\"white\"><font color=\"black\">NP_p_0</font>, <font color=\"black\">NP_s</font></td><td style=\"border:solid;\" bgcolor=\"white\"><font color=\"black\">NP_p</font></td><td style=\"border:solid;\" bgcolor=\"white\"></td><td style=\"border:solid;\" bgcolor=\"white\"></td></tr>\n",
       "<tr><td>1: raps</td><td style=\"border:none;\" bgcolor=\"white\"></td><td style=\"border:solid;\" bgcolor=\"white\"><font color=\"black\">NP_p_1</font>, <font color=\"black\">VP_s_4</font></td><td style=\"border:solid;\" bgcolor=\"white\"></td><td style=\"border:solid;\" bgcolor=\"white\"></td></tr>\n",
       "<tr><td>2: are</td><td style=\"border:none;\" bgcolor=\"white\"></td><td style=\"border:none;\" bgcolor=\"white\"></td><td style=\"border:solid;\" bgcolor=\"#E1E1E1\"><font color=\"black\">VP_p_2</font></td><td style=\"border:solid;\" bgcolor=\"#C3C3C3\"></td></tr>\n",
       "<tr><td>3: silly</td><td style=\"border:none;\" bgcolor=\"white\"></td><td style=\"border:none;\" bgcolor=\"white\"></td><td style=\"border:none;\" bgcolor=\"white\"></td><td style=\"border:solid;\" bgcolor=\"#E1E1E1\"><font color=\"black\">ADJ</font></td></tr></table> 21 / 36</div>\n",
       "<div class=\"item\"><table><tr><td></td><td>0: Matko</td><td>1: raps</td><td>2: are</td><td>3: silly</td></tr>\n",
       "<tr><td>0: Matko</td><td style=\"border:solid;\" bgcolor=\"white\"><font color=\"black\">NP_p_0</font>, <font color=\"black\">NP_s</font></td><td style=\"border:solid;\" bgcolor=\"white\"><font color=\"black\">NP_p</font></td><td style=\"border:solid;\" bgcolor=\"white\"></td><td style=\"border:solid;\" bgcolor=\"white\"></td></tr>\n",
       "<tr><td>1: raps</td><td style=\"border:none;\" bgcolor=\"white\"></td><td style=\"border:solid;\" bgcolor=\"white\"><font color=\"black\">NP_p_1</font>, <font color=\"black\">VP_s_4</font></td><td style=\"border:solid;\" bgcolor=\"white\"></td><td style=\"border:solid;\" bgcolor=\"white\"></td></tr>\n",
       "<tr><td>2: are</td><td style=\"border:none;\" bgcolor=\"white\"></td><td style=\"border:none;\" bgcolor=\"white\"></td><td style=\"border:solid;\" bgcolor=\"#E1E1E1\"><font color=\"red\">VP_p_2</font></td><td style=\"border:solid;\" bgcolor=\"#C3C3C3\"></td></tr>\n",
       "<tr><td>3: silly</td><td style=\"border:none;\" bgcolor=\"white\"></td><td style=\"border:none;\" bgcolor=\"white\"></td><td style=\"border:none;\" bgcolor=\"white\"></td><td style=\"border:solid;\" bgcolor=\"#E1E1E1\"><font color=\"red\">ADJ</font></td></tr></table> 22 / 36</div>\n",
       "<div class=\"item\"><table><tr><td></td><td>0: Matko</td><td>1: raps</td><td>2: are</td><td>3: silly</td></tr>\n",
       "<tr><td>0: Matko</td><td style=\"border:solid;\" bgcolor=\"white\"><font color=\"black\">NP_p_0</font>, <font color=\"black\">NP_s</font></td><td style=\"border:solid;\" bgcolor=\"white\"><font color=\"black\">NP_p</font></td><td style=\"border:solid;\" bgcolor=\"white\"></td><td style=\"border:solid;\" bgcolor=\"white\"></td></tr>\n",
       "<tr><td>1: raps</td><td style=\"border:none;\" bgcolor=\"white\"></td><td style=\"border:solid;\" bgcolor=\"white\"><font color=\"black\">NP_p_1</font>, <font color=\"black\">VP_s_4</font></td><td style=\"border:solid;\" bgcolor=\"white\"></td><td style=\"border:solid;\" bgcolor=\"white\"></td></tr>\n",
       "<tr><td>2: are</td><td style=\"border:none;\" bgcolor=\"white\"></td><td style=\"border:none;\" bgcolor=\"white\"></td><td style=\"border:solid;\" bgcolor=\"#E1E1E1\"><font color=\"red\">VP_p_2</font></td><td style=\"border:solid;\" bgcolor=\"#C3C3C3\"><font color=\"blue\">VP_p</font></td></tr>\n",
       "<tr><td>3: silly</td><td style=\"border:none;\" bgcolor=\"white\"></td><td style=\"border:none;\" bgcolor=\"white\"></td><td style=\"border:none;\" bgcolor=\"white\"></td><td style=\"border:solid;\" bgcolor=\"#E1E1E1\"><font color=\"red\">ADJ</font></td></tr></table> 23 / 36</div>\n",
       "<div class=\"item\"><table><tr><td></td><td>0: Matko</td><td>1: raps</td><td>2: are</td><td>3: silly</td></tr>\n",
       "<tr><td>0: Matko</td><td style=\"border:solid;\" bgcolor=\"#E1E1E1\"><font color=\"black\">NP_p_0</font>, <font color=\"black\">NP_s</font></td><td style=\"border:solid;\" bgcolor=\"white\"><font color=\"black\">NP_p</font></td><td style=\"border:solid;\" bgcolor=\"#C3C3C3\"></td><td style=\"border:solid;\" bgcolor=\"white\"></td></tr>\n",
       "<tr><td>1: raps</td><td style=\"border:none;\" bgcolor=\"white\"></td><td style=\"border:solid;\" bgcolor=\"white\"><font color=\"black\">NP_p_1</font>, <font color=\"black\">VP_s_4</font></td><td style=\"border:solid;\" bgcolor=\"#E1E1E1\"></td><td style=\"border:solid;\" bgcolor=\"white\"></td></tr>\n",
       "<tr><td>2: are</td><td style=\"border:none;\" bgcolor=\"white\"></td><td style=\"border:none;\" bgcolor=\"white\"></td><td style=\"border:solid;\" bgcolor=\"white\"><font color=\"black\">VP_p_2</font></td><td style=\"border:solid;\" bgcolor=\"white\"><font color=\"black\">VP_p</font></td></tr>\n",
       "<tr><td>3: silly</td><td style=\"border:none;\" bgcolor=\"white\"></td><td style=\"border:none;\" bgcolor=\"white\"></td><td style=\"border:none;\" bgcolor=\"white\"></td><td style=\"border:solid;\" bgcolor=\"white\"><font color=\"black\">ADJ</font></td></tr></table> 24 / 36</div>\n",
       "<div class=\"item\"><table><tr><td></td><td>0: Matko</td><td>1: raps</td><td>2: are</td><td>3: silly</td></tr>\n",
       "<tr><td>0: Matko</td><td style=\"border:solid;\" bgcolor=\"white\"><font color=\"black\">NP_p_0</font>, <font color=\"black\">NP_s</font></td><td style=\"border:solid;\" bgcolor=\"#E1E1E1\"><font color=\"black\">NP_p</font></td><td style=\"border:solid;\" bgcolor=\"#C3C3C3\"></td><td style=\"border:solid;\" bgcolor=\"white\"></td></tr>\n",
       "<tr><td>1: raps</td><td style=\"border:none;\" bgcolor=\"white\"></td><td style=\"border:solid;\" bgcolor=\"white\"><font color=\"black\">NP_p_1</font>, <font color=\"black\">VP_s_4</font></td><td style=\"border:solid;\" bgcolor=\"white\"></td><td style=\"border:solid;\" bgcolor=\"white\"></td></tr>\n",
       "<tr><td>2: are</td><td style=\"border:none;\" bgcolor=\"white\"></td><td style=\"border:none;\" bgcolor=\"white\"></td><td style=\"border:solid;\" bgcolor=\"#E1E1E1\"><font color=\"black\">VP_p_2</font></td><td style=\"border:solid;\" bgcolor=\"white\"><font color=\"black\">VP_p</font></td></tr>\n",
       "<tr><td>3: silly</td><td style=\"border:none;\" bgcolor=\"white\"></td><td style=\"border:none;\" bgcolor=\"white\"></td><td style=\"border:none;\" bgcolor=\"white\"></td><td style=\"border:solid;\" bgcolor=\"white\"><font color=\"black\">ADJ</font></td></tr></table> 25 / 36</div>\n",
       "<div class=\"item\"><table><tr><td></td><td>0: Matko</td><td>1: raps</td><td>2: are</td><td>3: silly</td></tr>\n",
       "<tr><td>0: Matko</td><td style=\"border:solid;\" bgcolor=\"white\"><font color=\"black\">NP_p_0</font>, <font color=\"black\">NP_s</font></td><td style=\"border:solid;\" bgcolor=\"#E1E1E1\"><font color=\"red\">NP_p</font></td><td style=\"border:solid;\" bgcolor=\"#C3C3C3\"></td><td style=\"border:solid;\" bgcolor=\"white\"></td></tr>\n",
       "<tr><td>1: raps</td><td style=\"border:none;\" bgcolor=\"white\"></td><td style=\"border:solid;\" bgcolor=\"white\"><font color=\"black\">NP_p_1</font>, <font color=\"black\">VP_s_4</font></td><td style=\"border:solid;\" bgcolor=\"white\"></td><td style=\"border:solid;\" bgcolor=\"white\"></td></tr>\n",
       "<tr><td>2: are</td><td style=\"border:none;\" bgcolor=\"white\"></td><td style=\"border:none;\" bgcolor=\"white\"></td><td style=\"border:solid;\" bgcolor=\"#E1E1E1\"><font color=\"red\">VP_p_2</font></td><td style=\"border:solid;\" bgcolor=\"white\"><font color=\"black\">VP_p</font></td></tr>\n",
       "<tr><td>3: silly</td><td style=\"border:none;\" bgcolor=\"white\"></td><td style=\"border:none;\" bgcolor=\"white\"></td><td style=\"border:none;\" bgcolor=\"white\"></td><td style=\"border:solid;\" bgcolor=\"white\"><font color=\"black\">ADJ</font></td></tr></table> 26 / 36</div>\n",
       "<div class=\"item\"><table><tr><td></td><td>0: Matko</td><td>1: raps</td><td>2: are</td><td>3: silly</td></tr>\n",
       "<tr><td>0: Matko</td><td style=\"border:solid;\" bgcolor=\"white\"><font color=\"black\">NP_p_0</font>, <font color=\"black\">NP_s</font></td><td style=\"border:solid;\" bgcolor=\"white\"><font color=\"black\">NP_p</font></td><td style=\"border:solid;\" bgcolor=\"white\"></td><td style=\"border:solid;\" bgcolor=\"white\"></td></tr>\n",
       "<tr><td>1: raps</td><td style=\"border:none;\" bgcolor=\"white\"></td><td style=\"border:solid;\" bgcolor=\"#E1E1E1\"><font color=\"black\">NP_p_1</font>, <font color=\"black\">VP_s_4</font></td><td style=\"border:solid;\" bgcolor=\"white\"></td><td style=\"border:solid;\" bgcolor=\"#C3C3C3\"></td></tr>\n",
       "<tr><td>2: are</td><td style=\"border:none;\" bgcolor=\"white\"></td><td style=\"border:none;\" bgcolor=\"white\"></td><td style=\"border:solid;\" bgcolor=\"white\"><font color=\"black\">VP_p_2</font></td><td style=\"border:solid;\" bgcolor=\"#E1E1E1\"><font color=\"black\">VP_p</font></td></tr>\n",
       "<tr><td>3: silly</td><td style=\"border:none;\" bgcolor=\"white\"></td><td style=\"border:none;\" bgcolor=\"white\"></td><td style=\"border:none;\" bgcolor=\"white\"></td><td style=\"border:solid;\" bgcolor=\"white\"><font color=\"black\">ADJ</font></td></tr></table> 27 / 36</div>\n",
       "<div class=\"item\"><table><tr><td></td><td>0: Matko</td><td>1: raps</td><td>2: are</td><td>3: silly</td></tr>\n",
       "<tr><td>0: Matko</td><td style=\"border:solid;\" bgcolor=\"white\"><font color=\"black\">NP_p_0</font>, <font color=\"black\">NP_s</font></td><td style=\"border:solid;\" bgcolor=\"white\"><font color=\"black\">NP_p</font></td><td style=\"border:solid;\" bgcolor=\"white\"></td><td style=\"border:solid;\" bgcolor=\"white\"></td></tr>\n",
       "<tr><td>1: raps</td><td style=\"border:none;\" bgcolor=\"white\"></td><td style=\"border:solid;\" bgcolor=\"#E1E1E1\"><font color=\"red\">NP_p_1</font>, <font color=\"black\">VP_s_4</font></td><td style=\"border:solid;\" bgcolor=\"white\"></td><td style=\"border:solid;\" bgcolor=\"#C3C3C3\"></td></tr>\n",
       "<tr><td>2: are</td><td style=\"border:none;\" bgcolor=\"white\"></td><td style=\"border:none;\" bgcolor=\"white\"></td><td style=\"border:solid;\" bgcolor=\"white\"><font color=\"black\">VP_p_2</font></td><td style=\"border:solid;\" bgcolor=\"#E1E1E1\"><font color=\"red\">VP_p</font></td></tr>\n",
       "<tr><td>3: silly</td><td style=\"border:none;\" bgcolor=\"white\"></td><td style=\"border:none;\" bgcolor=\"white\"></td><td style=\"border:none;\" bgcolor=\"white\"></td><td style=\"border:solid;\" bgcolor=\"white\"><font color=\"black\">ADJ</font></td></tr></table> 28 / 36</div>\n",
       "<div class=\"item\"><table><tr><td></td><td>0: Matko</td><td>1: raps</td><td>2: are</td><td>3: silly</td></tr>\n",
       "<tr><td>0: Matko</td><td style=\"border:solid;\" bgcolor=\"white\"><font color=\"black\">NP_p_0</font>, <font color=\"black\">NP_s</font></td><td style=\"border:solid;\" bgcolor=\"white\"><font color=\"black\">NP_p</font></td><td style=\"border:solid;\" bgcolor=\"white\"></td><td style=\"border:solid;\" bgcolor=\"white\"></td></tr>\n",
       "<tr><td>1: raps</td><td style=\"border:none;\" bgcolor=\"white\"></td><td style=\"border:solid;\" bgcolor=\"#E1E1E1\"><font color=\"black\">NP_p_1</font>, <font color=\"red\">VP_s_4</font></td><td style=\"border:solid;\" bgcolor=\"white\"></td><td style=\"border:solid;\" bgcolor=\"#C3C3C3\"></td></tr>\n",
       "<tr><td>2: are</td><td style=\"border:none;\" bgcolor=\"white\"></td><td style=\"border:none;\" bgcolor=\"white\"></td><td style=\"border:solid;\" bgcolor=\"white\"><font color=\"black\">VP_p_2</font></td><td style=\"border:solid;\" bgcolor=\"#E1E1E1\"><font color=\"red\">VP_p</font></td></tr>\n",
       "<tr><td>3: silly</td><td style=\"border:none;\" bgcolor=\"white\"></td><td style=\"border:none;\" bgcolor=\"white\"></td><td style=\"border:none;\" bgcolor=\"white\"></td><td style=\"border:solid;\" bgcolor=\"white\"><font color=\"black\">ADJ</font></td></tr></table> 29 / 36</div>\n",
       "<div class=\"item\"><table><tr><td></td><td>0: Matko</td><td>1: raps</td><td>2: are</td><td>3: silly</td></tr>\n",
       "<tr><td>0: Matko</td><td style=\"border:solid;\" bgcolor=\"white\"><font color=\"black\">NP_p_0</font>, <font color=\"black\">NP_s</font></td><td style=\"border:solid;\" bgcolor=\"white\"><font color=\"black\">NP_p</font></td><td style=\"border:solid;\" bgcolor=\"white\"></td><td style=\"border:solid;\" bgcolor=\"white\"></td></tr>\n",
       "<tr><td>1: raps</td><td style=\"border:none;\" bgcolor=\"white\"></td><td style=\"border:solid;\" bgcolor=\"white\"><font color=\"black\">NP_p_1</font>, <font color=\"black\">VP_s_4</font></td><td style=\"border:solid;\" bgcolor=\"#E1E1E1\"></td><td style=\"border:solid;\" bgcolor=\"#C3C3C3\"></td></tr>\n",
       "<tr><td>2: are</td><td style=\"border:none;\" bgcolor=\"white\"></td><td style=\"border:none;\" bgcolor=\"white\"></td><td style=\"border:solid;\" bgcolor=\"white\"><font color=\"black\">VP_p_2</font></td><td style=\"border:solid;\" bgcolor=\"white\"><font color=\"black\">VP_p</font></td></tr>\n",
       "<tr><td>3: silly</td><td style=\"border:none;\" bgcolor=\"white\"></td><td style=\"border:none;\" bgcolor=\"white\"></td><td style=\"border:none;\" bgcolor=\"white\"></td><td style=\"border:solid;\" bgcolor=\"#E1E1E1\"><font color=\"black\">ADJ</font></td></tr></table> 30 / 36</div>\n",
       "<div class=\"item\"><table><tr><td></td><td>0: Matko</td><td>1: raps</td><td>2: are</td><td>3: silly</td></tr>\n",
       "<tr><td>0: Matko</td><td style=\"border:solid;\" bgcolor=\"#E1E1E1\"><font color=\"black\">NP_p_0</font>, <font color=\"black\">NP_s</font></td><td style=\"border:solid;\" bgcolor=\"white\"><font color=\"black\">NP_p</font></td><td style=\"border:solid;\" bgcolor=\"white\"></td><td style=\"border:solid;\" bgcolor=\"#C3C3C3\"></td></tr>\n",
       "<tr><td>1: raps</td><td style=\"border:none;\" bgcolor=\"white\"></td><td style=\"border:solid;\" bgcolor=\"white\"><font color=\"black\">NP_p_1</font>, <font color=\"black\">VP_s_4</font></td><td style=\"border:solid;\" bgcolor=\"white\"></td><td style=\"border:solid;\" bgcolor=\"#E1E1E1\"></td></tr>\n",
       "<tr><td>2: are</td><td style=\"border:none;\" bgcolor=\"white\"></td><td style=\"border:none;\" bgcolor=\"white\"></td><td style=\"border:solid;\" bgcolor=\"white\"><font color=\"black\">VP_p_2</font></td><td style=\"border:solid;\" bgcolor=\"white\"><font color=\"black\">VP_p</font></td></tr>\n",
       "<tr><td>3: silly</td><td style=\"border:none;\" bgcolor=\"white\"></td><td style=\"border:none;\" bgcolor=\"white\"></td><td style=\"border:none;\" bgcolor=\"white\"></td><td style=\"border:solid;\" bgcolor=\"white\"><font color=\"black\">ADJ</font></td></tr></table> 31 / 36</div>\n",
       "<div class=\"item\"><table><tr><td></td><td>0: Matko</td><td>1: raps</td><td>2: are</td><td>3: silly</td></tr>\n",
       "<tr><td>0: Matko</td><td style=\"border:solid;\" bgcolor=\"white\"><font color=\"black\">NP_p_0</font>, <font color=\"black\">NP_s</font></td><td style=\"border:solid;\" bgcolor=\"#E1E1E1\"><font color=\"black\">NP_p</font></td><td style=\"border:solid;\" bgcolor=\"white\"></td><td style=\"border:solid;\" bgcolor=\"#C3C3C3\"></td></tr>\n",
       "<tr><td>1: raps</td><td style=\"border:none;\" bgcolor=\"white\"></td><td style=\"border:solid;\" bgcolor=\"white\"><font color=\"black\">NP_p_1</font>, <font color=\"black\">VP_s_4</font></td><td style=\"border:solid;\" bgcolor=\"white\"></td><td style=\"border:solid;\" bgcolor=\"white\"></td></tr>\n",
       "<tr><td>2: are</td><td style=\"border:none;\" bgcolor=\"white\"></td><td style=\"border:none;\" bgcolor=\"white\"></td><td style=\"border:solid;\" bgcolor=\"white\"><font color=\"black\">VP_p_2</font></td><td style=\"border:solid;\" bgcolor=\"#E1E1E1\"><font color=\"black\">VP_p</font></td></tr>\n",
       "<tr><td>3: silly</td><td style=\"border:none;\" bgcolor=\"white\"></td><td style=\"border:none;\" bgcolor=\"white\"></td><td style=\"border:none;\" bgcolor=\"white\"></td><td style=\"border:solid;\" bgcolor=\"white\"><font color=\"black\">ADJ</font></td></tr></table> 32 / 36</div>\n",
       "<div class=\"item\"><table><tr><td></td><td>0: Matko</td><td>1: raps</td><td>2: are</td><td>3: silly</td></tr>\n",
       "<tr><td>0: Matko</td><td style=\"border:solid;\" bgcolor=\"white\"><font color=\"black\">NP_p_0</font>, <font color=\"black\">NP_s</font></td><td style=\"border:solid;\" bgcolor=\"#E1E1E1\"><font color=\"red\">NP_p</font></td><td style=\"border:solid;\" bgcolor=\"white\"></td><td style=\"border:solid;\" bgcolor=\"#C3C3C3\"></td></tr>\n",
       "<tr><td>1: raps</td><td style=\"border:none;\" bgcolor=\"white\"></td><td style=\"border:solid;\" bgcolor=\"white\"><font color=\"black\">NP_p_1</font>, <font color=\"black\">VP_s_4</font></td><td style=\"border:solid;\" bgcolor=\"white\"></td><td style=\"border:solid;\" bgcolor=\"white\"></td></tr>\n",
       "<tr><td>2: are</td><td style=\"border:none;\" bgcolor=\"white\"></td><td style=\"border:none;\" bgcolor=\"white\"></td><td style=\"border:solid;\" bgcolor=\"white\"><font color=\"black\">VP_p_2</font></td><td style=\"border:solid;\" bgcolor=\"#E1E1E1\"><font color=\"red\">VP_p</font></td></tr>\n",
       "<tr><td>3: silly</td><td style=\"border:none;\" bgcolor=\"white\"></td><td style=\"border:none;\" bgcolor=\"white\"></td><td style=\"border:none;\" bgcolor=\"white\"></td><td style=\"border:solid;\" bgcolor=\"white\"><font color=\"black\">ADJ</font></td></tr></table> 33 / 36</div>\n",
       "<div class=\"item\"><table><tr><td></td><td>0: Matko</td><td>1: raps</td><td>2: are</td><td>3: silly</td></tr>\n",
       "<tr><td>0: Matko</td><td style=\"border:solid;\" bgcolor=\"white\"><font color=\"black\">NP_p_0</font>, <font color=\"black\">NP_s</font></td><td style=\"border:solid;\" bgcolor=\"#E1E1E1\"><font color=\"red\">NP_p</font></td><td style=\"border:solid;\" bgcolor=\"white\"></td><td style=\"border:solid;\" bgcolor=\"#C3C3C3\"><font color=\"blue\">S</font></td></tr>\n",
       "<tr><td>1: raps</td><td style=\"border:none;\" bgcolor=\"white\"></td><td style=\"border:solid;\" bgcolor=\"white\"><font color=\"black\">NP_p_1</font>, <font color=\"black\">VP_s_4</font></td><td style=\"border:solid;\" bgcolor=\"white\"></td><td style=\"border:solid;\" bgcolor=\"white\"></td></tr>\n",
       "<tr><td>2: are</td><td style=\"border:none;\" bgcolor=\"white\"></td><td style=\"border:none;\" bgcolor=\"white\"></td><td style=\"border:solid;\" bgcolor=\"white\"><font color=\"black\">VP_p_2</font></td><td style=\"border:solid;\" bgcolor=\"#E1E1E1\"><font color=\"red\">VP_p</font></td></tr>\n",
       "<tr><td>3: silly</td><td style=\"border:none;\" bgcolor=\"white\"></td><td style=\"border:none;\" bgcolor=\"white\"></td><td style=\"border:none;\" bgcolor=\"white\"></td><td style=\"border:solid;\" bgcolor=\"white\"><font color=\"black\">ADJ</font></td></tr></table> 34 / 36</div>\n",
       "<div class=\"item\"><table><tr><td></td><td>0: Matko</td><td>1: raps</td><td>2: are</td><td>3: silly</td></tr>\n",
       "<tr><td>0: Matko</td><td style=\"border:solid;\" bgcolor=\"white\"><font color=\"black\">NP_p_0</font>, <font color=\"black\">NP_s</font></td><td style=\"border:solid;\" bgcolor=\"white\"><font color=\"black\">NP_p</font></td><td style=\"border:solid;\" bgcolor=\"#E1E1E1\"></td><td style=\"border:solid;\" bgcolor=\"#C3C3C3\"><font color=\"black\">S</font></td></tr>\n",
       "<tr><td>1: raps</td><td style=\"border:none;\" bgcolor=\"white\"></td><td style=\"border:solid;\" bgcolor=\"white\"><font color=\"black\">NP_p_1</font>, <font color=\"black\">VP_s_4</font></td><td style=\"border:solid;\" bgcolor=\"white\"></td><td style=\"border:solid;\" bgcolor=\"white\"></td></tr>\n",
       "<tr><td>2: are</td><td style=\"border:none;\" bgcolor=\"white\"></td><td style=\"border:none;\" bgcolor=\"white\"></td><td style=\"border:solid;\" bgcolor=\"white\"><font color=\"black\">VP_p_2</font></td><td style=\"border:solid;\" bgcolor=\"white\"><font color=\"black\">VP_p</font></td></tr>\n",
       "<tr><td>3: silly</td><td style=\"border:none;\" bgcolor=\"white\"></td><td style=\"border:none;\" bgcolor=\"white\"></td><td style=\"border:none;\" bgcolor=\"white\"></td><td style=\"border:solid;\" bgcolor=\"#E1E1E1\"><font color=\"black\">ADJ</font></td></tr></table> 35 / 36</div>\n",
       "<div class=\"item\"><table><tr><td></td><td>0: Matko</td><td>1: raps</td><td>2: are</td><td>3: silly</td></tr>\n",
       "<tr><td>0: Matko</td><td style=\"border:solid;\" bgcolor=\"white\"><font color=\"black\">NP_p_0</font>, <font color=\"black\">NP_s</font></td><td style=\"border:solid;\" bgcolor=\"white\"><font color=\"black\">NP_p</font></td><td style=\"border:solid;\" bgcolor=\"white\"></td><td style=\"border:solid;\" bgcolor=\"white\"><font color=\"black\">S</font></td></tr>\n",
       "<tr><td>1: raps</td><td style=\"border:none;\" bgcolor=\"white\"></td><td style=\"border:solid;\" bgcolor=\"white\"><font color=\"black\">NP_p_1</font>, <font color=\"black\">VP_s_4</font></td><td style=\"border:solid;\" bgcolor=\"white\"></td><td style=\"border:solid;\" bgcolor=\"white\"></td></tr>\n",
       "<tr><td>2: are</td><td style=\"border:none;\" bgcolor=\"white\"></td><td style=\"border:none;\" bgcolor=\"white\"></td><td style=\"border:solid;\" bgcolor=\"white\"><font color=\"black\">VP_p_2</font></td><td style=\"border:solid;\" bgcolor=\"white\"><font color=\"black\">VP_p</font></td></tr>\n",
       "<tr><td>3: silly</td><td style=\"border:none;\" bgcolor=\"white\"></td><td style=\"border:none;\" bgcolor=\"white\"></td><td style=\"border:none;\" bgcolor=\"white\"></td><td style=\"border:solid;\" bgcolor=\"white\"><font color=\"black\">ADJ</font></td></tr></table> 36 / 36</div>\n",
       "          </div>\n",
       "        </div>\n",
       "        "
      ],
      "text/plain": [
       "<statnlpbook.util.Carousel at 0x109da3cf8>"
      ]
     },
     "execution_count": 21,
     "metadata": {},
     "output_type": "execute_result"
    }
   ],
   "source": [
    "trace = cyk(cnf_cfg, sentence)\n",
    "util.Carousel(trace)"
   ]
  },
  {
   "cell_type": "markdown",
   "metadata": {
    "slideshow": {
     "slide_type": "subslide"
    }
   },
   "source": [
    "The chart can be **traversed backwards** to get all trees"
   ]
  },
  {
   "cell_type": "code",
   "execution_count": 22,
   "metadata": {
    "slideshow": {
     "slide_type": "fragment"
    }
   },
   "outputs": [
    {
     "data": {
      "text/html": [
       "\n",
       "        <div id=\"707bc574-a70a-11e7-bb2d-6c4008b6c404\" class=\"carousel\" data-ride=\"carousel\" data-interval=\"false\">\n",
       "          <!-- Controls -->\n",
       "          <a href=\"#707bc574-a70a-11e7-bb2d-6c4008b6c404\" role=\"button2\" data-slide=\"prev\">Previous</a>\n",
       "          &nbsp\n",
       "          <a  href=\"#707bc574-a70a-11e7-bb2d-6c4008b6c404\" role=\"button2\" data-slide=\"next\">Next</a>\n",
       "          <div class=\"carousel-inner\" role=\"listbox\">\n",
       "          <div class=\"item active\"><table><tr><td></td><td>0: Matko</td><td>1: raps</td><td>2: are</td><td>3: silly</td></tr>\n",
       "<tr><td>0: Matko</td><td style=\"border:solid;\" bgcolor=\"white\"><font color=\"black\">NP_p_0</font>, <font color=\"black\">NP_s</font></td><td style=\"border:solid;\" bgcolor=\"white\"><font color=\"black\">NP_p</font></td><td style=\"border:solid;\" bgcolor=\"white\"></td><td style=\"border:solid;\" bgcolor=\"white\"><font color=\"black\">S</font></td></tr>\n",
       "<tr><td>1: raps</td><td style=\"border:none;\" bgcolor=\"white\"></td><td style=\"border:solid;\" bgcolor=\"white\"><font color=\"black\">NP_p_1</font>, <font color=\"black\">VP_s_4</font></td><td style=\"border:solid;\" bgcolor=\"white\"></td><td style=\"border:solid;\" bgcolor=\"white\"></td></tr>\n",
       "<tr><td>2: are</td><td style=\"border:none;\" bgcolor=\"white\"></td><td style=\"border:none;\" bgcolor=\"white\"></td><td style=\"border:solid;\" bgcolor=\"white\"><font color=\"black\">VP_p_2</font></td><td style=\"border:solid;\" bgcolor=\"white\"><font color=\"black\">VP_p</font></td></tr>\n",
       "<tr><td>3: silly</td><td style=\"border:none;\" bgcolor=\"white\"></td><td style=\"border:none;\" bgcolor=\"white\"></td><td style=\"border:none;\" bgcolor=\"white\"></td><td style=\"border:solid;\" bgcolor=\"white\"><font color=\"black\">ADJ</font></td></tr></table> 1 / 4</div>\n",
       "<div class=\"item\"><table><tr><td></td><td>0: Matko</td><td>1: raps</td><td>2: are</td><td>3: silly</td></tr>\n",
       "<tr><td>0: Matko</td><td style=\"border:solid;\" bgcolor=\"white\"><font color=\"black\">NP_p_0</font>, <font color=\"black\">NP_s</font></td><td style=\"border:solid;\" bgcolor=\"#E1E1E1\"><font color=\"red\">NP_p</font></td><td style=\"border:solid;\" bgcolor=\"white\"></td><td style=\"border:solid;\" bgcolor=\"#C3C3C3\"><font color=\"blue\">S</font></td></tr>\n",
       "<tr><td>1: raps</td><td style=\"border:none;\" bgcolor=\"white\"></td><td style=\"border:solid;\" bgcolor=\"white\"><font color=\"black\">NP_p_1</font>, <font color=\"black\">VP_s_4</font></td><td style=\"border:solid;\" bgcolor=\"white\"></td><td style=\"border:solid;\" bgcolor=\"white\"></td></tr>\n",
       "<tr><td>2: are</td><td style=\"border:none;\" bgcolor=\"white\"></td><td style=\"border:none;\" bgcolor=\"white\"></td><td style=\"border:solid;\" bgcolor=\"white\"><font color=\"black\">VP_p_2</font></td><td style=\"border:solid;\" bgcolor=\"#E1E1E1\"><font color=\"red\">VP_p</font></td></tr>\n",
       "<tr><td>3: silly</td><td style=\"border:none;\" bgcolor=\"white\"></td><td style=\"border:none;\" bgcolor=\"white\"></td><td style=\"border:none;\" bgcolor=\"white\"></td><td style=\"border:solid;\" bgcolor=\"white\"><font color=\"black\">ADJ</font></td></tr></table> 2 / 4</div>\n",
       "<div class=\"item\"><table><tr><td></td><td>0: Matko</td><td>1: raps</td><td>2: are</td><td>3: silly</td></tr>\n",
       "<tr><td>0: Matko</td><td style=\"border:solid;\" bgcolor=\"white\"><font color=\"black\">NP_p_0</font>, <font color=\"black\">NP_s</font></td><td style=\"border:solid;\" bgcolor=\"white\"><font color=\"black\">NP_p</font></td><td style=\"border:solid;\" bgcolor=\"white\"></td><td style=\"border:solid;\" bgcolor=\"white\"></td></tr>\n",
       "<tr><td>1: raps</td><td style=\"border:none;\" bgcolor=\"white\"></td><td style=\"border:solid;\" bgcolor=\"white\"><font color=\"black\">NP_p_1</font>, <font color=\"black\">VP_s_4</font></td><td style=\"border:solid;\" bgcolor=\"white\"></td><td style=\"border:solid;\" bgcolor=\"white\"></td></tr>\n",
       "<tr><td>2: are</td><td style=\"border:none;\" bgcolor=\"white\"></td><td style=\"border:none;\" bgcolor=\"white\"></td><td style=\"border:solid;\" bgcolor=\"#E1E1E1\"><font color=\"red\">VP_p_2</font></td><td style=\"border:solid;\" bgcolor=\"#C3C3C3\"><font color=\"blue\">VP_p</font></td></tr>\n",
       "<tr><td>3: silly</td><td style=\"border:none;\" bgcolor=\"white\"></td><td style=\"border:none;\" bgcolor=\"white\"></td><td style=\"border:none;\" bgcolor=\"white\"></td><td style=\"border:solid;\" bgcolor=\"#E1E1E1\"><font color=\"red\">ADJ</font></td></tr></table> 3 / 4</div>\n",
       "<div class=\"item\"><table><tr><td></td><td>0: Matko</td><td>1: raps</td><td>2: are</td><td>3: silly</td></tr>\n",
       "<tr><td>0: Matko</td><td style=\"border:solid;\" bgcolor=\"#E1E1E1\"><font color=\"red\">NP_p_0</font>, <font color=\"black\">NP_s</font></td><td style=\"border:solid;\" bgcolor=\"#C3C3C3\"><font color=\"blue\">NP_p</font></td><td style=\"border:solid;\" bgcolor=\"white\"></td><td style=\"border:solid;\" bgcolor=\"white\"></td></tr>\n",
       "<tr><td>1: raps</td><td style=\"border:none;\" bgcolor=\"white\"></td><td style=\"border:solid;\" bgcolor=\"#E1E1E1\"><font color=\"red\">NP_p_1</font>, <font color=\"black\">VP_s_4</font></td><td style=\"border:solid;\" bgcolor=\"white\"></td><td style=\"border:solid;\" bgcolor=\"white\"></td></tr>\n",
       "<tr><td>2: are</td><td style=\"border:none;\" bgcolor=\"white\"></td><td style=\"border:none;\" bgcolor=\"white\"></td><td style=\"border:solid;\" bgcolor=\"white\"><font color=\"black\">VP_p_2</font></td><td style=\"border:solid;\" bgcolor=\"white\"></td></tr>\n",
       "<tr><td>3: silly</td><td style=\"border:none;\" bgcolor=\"white\"></td><td style=\"border:none;\" bgcolor=\"white\"></td><td style=\"border:none;\" bgcolor=\"white\"></td><td style=\"border:solid;\" bgcolor=\"white\"><font color=\"black\">ADJ</font></td></tr></table> 4 / 4</div>\n",
       "          </div>\n",
       "        </div>\n",
       "        "
      ],
      "text/plain": [
       "<statnlpbook.util.Carousel at 0x109ae9a90>"
      ]
     },
     "execution_count": 22,
     "metadata": {},
     "output_type": "execute_result"
    }
   ],
   "source": [
    "util.Carousel([trace[i] for i in [35,33,22,13]])"
   ]
  },
  {
   "cell_type": "code",
   "execution_count": 23,
   "metadata": {
    "slideshow": {
     "slide_type": "subslide"
    }
   },
   "outputs": [
    {
     "data": {
      "image/svg+xml": [
       "<?xml version=\"1.0\" encoding=\"UTF-8\" standalone=\"no\"?>\n",
       "<!DOCTYPE svg PUBLIC \"-//W3C//DTD SVG 1.1//EN\"\n",
       " \"http://www.w3.org/Graphics/SVG/1.1/DTD/svg11.dtd\">\n",
       "<!-- Generated by graphviz version 2.40.1 (20161225.0304)\n",
       " -->\n",
       "<!-- Title: %3 Pages: 1 -->\n",
       "<svg width=\"350pt\" height=\"260pt\"\n",
       " viewBox=\"0.00 0.00 350.10 260.00\" xmlns=\"http://www.w3.org/2000/svg\" xmlns:xlink=\"http://www.w3.org/1999/xlink\">\n",
       "<g id=\"graph0\" class=\"graph\" transform=\"scale(1 1) rotate(0) translate(4 256)\">\n",
       "<title>%3</title>\n",
       "<polygon fill=\"#ffffff\" stroke=\"transparent\" points=\"-4,4 -4,-256 346.0985,-256 346.0985,4 -4,4\"/>\n",
       "<!-- 0 -->\n",
       "<g id=\"node1\" class=\"node\">\n",
       "<title>0</title>\n",
       "<ellipse fill=\"none\" stroke=\"#000000\" cx=\"39.0985\" cy=\"-18\" rx=\"33.3925\" ry=\"18\"/>\n",
       "<text text-anchor=\"middle\" x=\"39.0985\" y=\"-13.8\" font-family=\"Times,serif\" font-size=\"14.00\" fill=\"#000000\">Matko</text>\n",
       "</g>\n",
       "<!-- 1 -->\n",
       "<g id=\"node2\" class=\"node\">\n",
       "<title>1</title>\n",
       "<ellipse fill=\"none\" stroke=\"#000000\" cx=\"39.0985\" cy=\"-90\" rx=\"39.1973\" ry=\"18\"/>\n",
       "<text text-anchor=\"middle\" x=\"39.0985\" y=\"-85.8\" font-family=\"Times,serif\" font-size=\"14.00\" fill=\"#000000\">NP_p_0</text>\n",
       "</g>\n",
       "<!-- 1&#45;&gt;0 -->\n",
       "<g id=\"edge1\" class=\"edge\">\n",
       "<title>1&#45;&gt;0</title>\n",
       "<path fill=\"none\" stroke=\"#000000\" d=\"M39.0985,-71.8314C39.0985,-64.131 39.0985,-54.9743 39.0985,-46.4166\"/>\n",
       "<polygon fill=\"#000000\" stroke=\"#000000\" points=\"42.5986,-46.4132 39.0985,-36.4133 35.5986,-46.4133 42.5986,-46.4132\"/>\n",
       "</g>\n",
       "<!-- 2 -->\n",
       "<g id=\"node3\" class=\"node\">\n",
       "<title>2</title>\n",
       "<ellipse fill=\"none\" stroke=\"#000000\" cx=\"135.0985\" cy=\"-18\" rx=\"27\" ry=\"18\"/>\n",
       "<text text-anchor=\"middle\" x=\"135.0985\" y=\"-13.8\" font-family=\"Times,serif\" font-size=\"14.00\" fill=\"#000000\">raps</text>\n",
       "</g>\n",
       "<!-- 3 -->\n",
       "<g id=\"node4\" class=\"node\">\n",
       "<title>3</title>\n",
       "<ellipse fill=\"none\" stroke=\"#000000\" cx=\"135.0985\" cy=\"-90\" rx=\"39.1973\" ry=\"18\"/>\n",
       "<text text-anchor=\"middle\" x=\"135.0985\" y=\"-85.8\" font-family=\"Times,serif\" font-size=\"14.00\" fill=\"#000000\">NP_p_1</text>\n",
       "</g>\n",
       "<!-- 3&#45;&gt;2 -->\n",
       "<g id=\"edge2\" class=\"edge\">\n",
       "<title>3&#45;&gt;2</title>\n",
       "<path fill=\"none\" stroke=\"#000000\" d=\"M135.0985,-71.8314C135.0985,-64.131 135.0985,-54.9743 135.0985,-46.4166\"/>\n",
       "<polygon fill=\"#000000\" stroke=\"#000000\" points=\"138.5986,-46.4132 135.0985,-36.4133 131.5986,-46.4133 138.5986,-46.4132\"/>\n",
       "</g>\n",
       "<!-- 4 -->\n",
       "<g id=\"node5\" class=\"node\">\n",
       "<title>4</title>\n",
       "<ellipse fill=\"none\" stroke=\"#000000\" cx=\"135.0985\" cy=\"-162\" rx=\"30.0121\" ry=\"18\"/>\n",
       "<text text-anchor=\"middle\" x=\"135.0985\" y=\"-157.8\" font-family=\"Times,serif\" font-size=\"14.00\" fill=\"#000000\">NP_p</text>\n",
       "</g>\n",
       "<!-- 4&#45;&gt;1 -->\n",
       "<g id=\"edge3\" class=\"edge\">\n",
       "<title>4&#45;&gt;1</title>\n",
       "<path fill=\"none\" stroke=\"#000000\" d=\"M116.132,-147.7751C102.3927,-137.4706 83.5698,-123.3534 67.9698,-111.6534\"/>\n",
       "<polygon fill=\"#000000\" stroke=\"#000000\" points=\"69.7875,-108.6417 59.6874,-105.4417 65.5874,-114.2417 69.7875,-108.6417\"/>\n",
       "</g>\n",
       "<!-- 4&#45;&gt;3 -->\n",
       "<g id=\"edge4\" class=\"edge\">\n",
       "<title>4&#45;&gt;3</title>\n",
       "<path fill=\"none\" stroke=\"#000000\" d=\"M135.0985,-143.8314C135.0985,-136.131 135.0985,-126.9743 135.0985,-118.4166\"/>\n",
       "<polygon fill=\"#000000\" stroke=\"#000000\" points=\"138.5986,-118.4132 135.0985,-108.4133 131.5986,-118.4133 138.5986,-118.4132\"/>\n",
       "</g>\n",
       "<!-- 5 -->\n",
       "<g id=\"node6\" class=\"node\">\n",
       "<title>5</title>\n",
       "<ellipse fill=\"none\" stroke=\"#000000\" cx=\"231.0985\" cy=\"-18\" rx=\"27\" ry=\"18\"/>\n",
       "<text text-anchor=\"middle\" x=\"231.0985\" y=\"-13.8\" font-family=\"Times,serif\" font-size=\"14.00\" fill=\"#000000\">are</text>\n",
       "</g>\n",
       "<!-- 6 -->\n",
       "<g id=\"node7\" class=\"node\">\n",
       "<title>6</title>\n",
       "<ellipse fill=\"none\" stroke=\"#000000\" cx=\"231.0985\" cy=\"-90\" rx=\"39.1973\" ry=\"18\"/>\n",
       "<text text-anchor=\"middle\" x=\"231.0985\" y=\"-85.8\" font-family=\"Times,serif\" font-size=\"14.00\" fill=\"#000000\">VP_p_2</text>\n",
       "</g>\n",
       "<!-- 6&#45;&gt;5 -->\n",
       "<g id=\"edge5\" class=\"edge\">\n",
       "<title>6&#45;&gt;5</title>\n",
       "<path fill=\"none\" stroke=\"#000000\" d=\"M231.0985,-71.8314C231.0985,-64.131 231.0985,-54.9743 231.0985,-46.4166\"/>\n",
       "<polygon fill=\"#000000\" stroke=\"#000000\" points=\"234.5986,-46.4132 231.0985,-36.4133 227.5986,-46.4133 234.5986,-46.4132\"/>\n",
       "</g>\n",
       "<!-- 7 -->\n",
       "<g id=\"node8\" class=\"node\">\n",
       "<title>7</title>\n",
       "<ellipse fill=\"none\" stroke=\"#000000\" cx=\"315.0985\" cy=\"-18\" rx=\"27\" ry=\"18\"/>\n",
       "<text text-anchor=\"middle\" x=\"315.0985\" y=\"-13.8\" font-family=\"Times,serif\" font-size=\"14.00\" fill=\"#000000\">silly</text>\n",
       "</g>\n",
       "<!-- 8 -->\n",
       "<g id=\"node9\" class=\"node\">\n",
       "<title>8</title>\n",
       "<ellipse fill=\"none\" stroke=\"#000000\" cx=\"315.0985\" cy=\"-90\" rx=\"27\" ry=\"18\"/>\n",
       "<text text-anchor=\"middle\" x=\"315.0985\" y=\"-85.8\" font-family=\"Times,serif\" font-size=\"14.00\" fill=\"#000000\">ADJ</text>\n",
       "</g>\n",
       "<!-- 8&#45;&gt;7 -->\n",
       "<g id=\"edge6\" class=\"edge\">\n",
       "<title>8&#45;&gt;7</title>\n",
       "<path fill=\"none\" stroke=\"#000000\" d=\"M315.0985,-71.8314C315.0985,-64.131 315.0985,-54.9743 315.0985,-46.4166\"/>\n",
       "<polygon fill=\"#000000\" stroke=\"#000000\" points=\"318.5986,-46.4132 315.0985,-36.4133 311.5986,-46.4133 318.5986,-46.4132\"/>\n",
       "</g>\n",
       "<!-- 9 -->\n",
       "<g id=\"node10\" class=\"node\">\n",
       "<title>9</title>\n",
       "<ellipse fill=\"none\" stroke=\"#000000\" cx=\"231.0985\" cy=\"-162\" rx=\"30.0121\" ry=\"18\"/>\n",
       "<text text-anchor=\"middle\" x=\"231.0985\" y=\"-157.8\" font-family=\"Times,serif\" font-size=\"14.00\" fill=\"#000000\">VP_p</text>\n",
       "</g>\n",
       "<!-- 9&#45;&gt;6 -->\n",
       "<g id=\"edge7\" class=\"edge\">\n",
       "<title>9&#45;&gt;6</title>\n",
       "<path fill=\"none\" stroke=\"#000000\" d=\"M231.0985,-143.8314C231.0985,-136.131 231.0985,-126.9743 231.0985,-118.4166\"/>\n",
       "<polygon fill=\"#000000\" stroke=\"#000000\" points=\"234.5986,-118.4132 231.0985,-108.4133 227.5986,-118.4133 234.5986,-118.4132\"/>\n",
       "</g>\n",
       "<!-- 9&#45;&gt;8 -->\n",
       "<g id=\"edge8\" class=\"edge\">\n",
       "<title>9&#45;&gt;8</title>\n",
       "<path fill=\"none\" stroke=\"#000000\" d=\"M248.5034,-147.0816C260.6012,-136.712 276.9026,-122.7393 290.349,-111.2139\"/>\n",
       "<polygon fill=\"#000000\" stroke=\"#000000\" points=\"292.9744,-113.5734 298.2892,-104.408 288.4188,-108.2586 292.9744,-113.5734\"/>\n",
       "</g>\n",
       "<!-- 10 -->\n",
       "<g id=\"node11\" class=\"node\">\n",
       "<title>10</title>\n",
       "<ellipse fill=\"none\" stroke=\"#000000\" cx=\"183.0985\" cy=\"-234\" rx=\"27\" ry=\"18\"/>\n",
       "<text text-anchor=\"middle\" x=\"183.0985\" y=\"-229.8\" font-family=\"Times,serif\" font-size=\"14.00\" fill=\"#000000\">S</text>\n",
       "</g>\n",
       "<!-- 10&#45;&gt;4 -->\n",
       "<g id=\"edge9\" class=\"edge\">\n",
       "<title>10&#45;&gt;4</title>\n",
       "<path fill=\"none\" stroke=\"#000000\" d=\"M171.9657,-217.3008C166.0538,-208.4329 158.6629,-197.3465 152.054,-187.4332\"/>\n",
       "<polygon fill=\"#000000\" stroke=\"#000000\" points=\"154.9635,-185.4877 146.5043,-179.1086 149.1392,-189.3706 154.9635,-185.4877\"/>\n",
       "</g>\n",
       "<!-- 10&#45;&gt;9 -->\n",
       "<g id=\"edge10\" class=\"edge\">\n",
       "<title>10&#45;&gt;9</title>\n",
       "<path fill=\"none\" stroke=\"#000000\" d=\"M194.2313,-217.3008C200.1433,-208.4329 207.5342,-197.3465 214.1431,-187.4332\"/>\n",
       "<polygon fill=\"#000000\" stroke=\"#000000\" points=\"217.0579,-189.3706 219.6928,-179.1086 211.2335,-185.4877 217.0579,-189.3706\"/>\n",
       "</g>\n",
       "</g>\n",
       "</svg>\n"
      ],
      "text/plain": [
       "<graphviz.dot.Digraph at 0x109ae9278>"
      ]
     },
     "execution_count": 23,
     "metadata": {},
     "output_type": "execute_result"
    }
   ],
   "source": [
    "parse_result = trace[-1].derive_trees()[0]\n",
    "parsing.render_tree(parse_result)"
   ]
  },
  {
   "cell_type": "markdown",
   "metadata": {
    "slideshow": {
     "slide_type": "subslide"
    }
   },
   "source": [
    "Collapse **CNF non-terminals**"
   ]
  },
  {
   "cell_type": "code",
   "execution_count": 24,
   "metadata": {
    "hideCode": true,
    "hidePrompt": true,
    "slideshow": {
     "slide_type": "fragment"
    }
   },
   "outputs": [
    {
     "data": {
      "image/svg+xml": [
       "<?xml version=\"1.0\" encoding=\"UTF-8\" standalone=\"no\"?>\n",
       "<!DOCTYPE svg PUBLIC \"-//W3C//DTD SVG 1.1//EN\"\n",
       " \"http://www.w3.org/Graphics/SVG/1.1/DTD/svg11.dtd\">\n",
       "<!-- Generated by graphviz version 2.40.1 (20161225.0304)\n",
       " -->\n",
       "<!-- Title: %3 Pages: 1 -->\n",
       "<svg width=\"293pt\" height=\"260pt\"\n",
       " viewBox=\"0.00 0.00 293.20 260.00\" xmlns=\"http://www.w3.org/2000/svg\" xmlns:xlink=\"http://www.w3.org/1999/xlink\">\n",
       "<g id=\"graph0\" class=\"graph\" transform=\"scale(1 1) rotate(0) translate(4 256)\">\n",
       "<title>%3</title>\n",
       "<polygon fill=\"#ffffff\" stroke=\"transparent\" points=\"-4,4 -4,-256 289.1957,-256 289.1957,4 -4,4\"/>\n",
       "<!-- 0 -->\n",
       "<g id=\"node1\" class=\"node\">\n",
       "<title>0</title>\n",
       "<ellipse fill=\"none\" stroke=\"#000000\" cx=\"33.1957\" cy=\"-90\" rx=\"33.3925\" ry=\"18\"/>\n",
       "<text text-anchor=\"middle\" x=\"33.1957\" y=\"-85.8\" font-family=\"Times,serif\" font-size=\"14.00\" fill=\"#000000\">Matko</text>\n",
       "</g>\n",
       "<!-- 1 -->\n",
       "<g id=\"node2\" class=\"node\">\n",
       "<title>1</title>\n",
       "<ellipse fill=\"none\" stroke=\"#000000\" cx=\"111.1957\" cy=\"-90\" rx=\"27\" ry=\"18\"/>\n",
       "<text text-anchor=\"middle\" x=\"111.1957\" y=\"-85.8\" font-family=\"Times,serif\" font-size=\"14.00\" fill=\"#000000\">raps</text>\n",
       "</g>\n",
       "<!-- 2 -->\n",
       "<g id=\"node3\" class=\"node\">\n",
       "<title>2</title>\n",
       "<ellipse fill=\"none\" stroke=\"#000000\" cx=\"109.1957\" cy=\"-162\" rx=\"30.0121\" ry=\"18\"/>\n",
       "<text text-anchor=\"middle\" x=\"109.1957\" y=\"-157.8\" font-family=\"Times,serif\" font-size=\"14.00\" fill=\"#000000\">NP_p</text>\n",
       "</g>\n",
       "<!-- 2&#45;&gt;0 -->\n",
       "<g id=\"edge1\" class=\"edge\">\n",
       "<title>2&#45;&gt;0</title>\n",
       "<path fill=\"none\" stroke=\"#000000\" d=\"M93.078,-146.7307C82.6411,-136.843 68.8633,-123.7903 57.1548,-112.6981\"/>\n",
       "<polygon fill=\"#000000\" stroke=\"#000000\" points=\"59.4822,-110.0817 49.8155,-105.7451 54.6679,-115.1634 59.4822,-110.0817\"/>\n",
       "</g>\n",
       "<!-- 2&#45;&gt;1 -->\n",
       "<g id=\"edge2\" class=\"edge\">\n",
       "<title>2&#45;&gt;1</title>\n",
       "<path fill=\"none\" stroke=\"#000000\" d=\"M109.7004,-143.8314C109.9143,-136.131 110.1686,-126.9743 110.4063,-118.4166\"/>\n",
       "<polygon fill=\"#000000\" stroke=\"#000000\" points=\"113.9051,-118.5066 110.6842,-108.4133 106.9078,-118.3122 113.9051,-118.5066\"/>\n",
       "</g>\n",
       "<!-- 3 -->\n",
       "<g id=\"node4\" class=\"node\">\n",
       "<title>3</title>\n",
       "<ellipse fill=\"none\" stroke=\"#000000\" cx=\"186.1957\" cy=\"-90\" rx=\"27\" ry=\"18\"/>\n",
       "<text text-anchor=\"middle\" x=\"186.1957\" y=\"-85.8\" font-family=\"Times,serif\" font-size=\"14.00\" fill=\"#000000\">are</text>\n",
       "</g>\n",
       "<!-- 4 -->\n",
       "<g id=\"node5\" class=\"node\">\n",
       "<title>4</title>\n",
       "<ellipse fill=\"none\" stroke=\"#000000\" cx=\"258.1957\" cy=\"-18\" rx=\"27\" ry=\"18\"/>\n",
       "<text text-anchor=\"middle\" x=\"258.1957\" y=\"-13.8\" font-family=\"Times,serif\" font-size=\"14.00\" fill=\"#000000\">silly</text>\n",
       "</g>\n",
       "<!-- 5 -->\n",
       "<g id=\"node6\" class=\"node\">\n",
       "<title>5</title>\n",
       "<ellipse fill=\"none\" stroke=\"#000000\" cx=\"258.1957\" cy=\"-90\" rx=\"27\" ry=\"18\"/>\n",
       "<text text-anchor=\"middle\" x=\"258.1957\" y=\"-85.8\" font-family=\"Times,serif\" font-size=\"14.00\" fill=\"#000000\">ADJ</text>\n",
       "</g>\n",
       "<!-- 5&#45;&gt;4 -->\n",
       "<g id=\"edge3\" class=\"edge\">\n",
       "<title>5&#45;&gt;4</title>\n",
       "<path fill=\"none\" stroke=\"#000000\" d=\"M258.1957,-71.8314C258.1957,-64.131 258.1957,-54.9743 258.1957,-46.4166\"/>\n",
       "<polygon fill=\"#000000\" stroke=\"#000000\" points=\"261.6958,-46.4132 258.1957,-36.4133 254.6958,-46.4133 261.6958,-46.4132\"/>\n",
       "</g>\n",
       "<!-- 6 -->\n",
       "<g id=\"node7\" class=\"node\">\n",
       "<title>6</title>\n",
       "<ellipse fill=\"none\" stroke=\"#000000\" cx=\"188.1957\" cy=\"-162\" rx=\"30.0121\" ry=\"18\"/>\n",
       "<text text-anchor=\"middle\" x=\"188.1957\" y=\"-157.8\" font-family=\"Times,serif\" font-size=\"14.00\" fill=\"#000000\">VP_p</text>\n",
       "</g>\n",
       "<!-- 6&#45;&gt;3 -->\n",
       "<g id=\"edge4\" class=\"edge\">\n",
       "<title>6&#45;&gt;3</title>\n",
       "<path fill=\"none\" stroke=\"#000000\" d=\"M187.691,-143.8314C187.4771,-136.131 187.2228,-126.9743 186.985,-118.4166\"/>\n",
       "<polygon fill=\"#000000\" stroke=\"#000000\" points=\"190.4836,-118.3122 186.7072,-108.4133 183.4863,-118.5066 190.4836,-118.3122\"/>\n",
       "</g>\n",
       "<!-- 6&#45;&gt;5 -->\n",
       "<g id=\"edge5\" class=\"edge\">\n",
       "<title>6&#45;&gt;5</title>\n",
       "<path fill=\"none\" stroke=\"#000000\" d=\"M203.3847,-146.3771C212.9245,-136.5647 225.3922,-123.7407 236.026,-112.8031\"/>\n",
       "<polygon fill=\"#000000\" stroke=\"#000000\" points=\"238.5751,-115.2022 243.0364,-105.5924 233.5561,-110.3226 238.5751,-115.2022\"/>\n",
       "</g>\n",
       "<!-- 7 -->\n",
       "<g id=\"node8\" class=\"node\">\n",
       "<title>7</title>\n",
       "<ellipse fill=\"none\" stroke=\"#000000\" cx=\"148.1957\" cy=\"-234\" rx=\"27\" ry=\"18\"/>\n",
       "<text text-anchor=\"middle\" x=\"148.1957\" y=\"-229.8\" font-family=\"Times,serif\" font-size=\"14.00\" fill=\"#000000\">S</text>\n",
       "</g>\n",
       "<!-- 7&#45;&gt;2 -->\n",
       "<g id=\"edge6\" class=\"edge\">\n",
       "<title>7&#45;&gt;2</title>\n",
       "<path fill=\"none\" stroke=\"#000000\" d=\"M138.9532,-216.937C134.3581,-208.4537 128.7007,-198.0092 123.5569,-188.513\"/>\n",
       "<polygon fill=\"#000000\" stroke=\"#000000\" points=\"126.4831,-186.5666 118.6427,-179.4407 120.3281,-189.9006 126.4831,-186.5666\"/>\n",
       "</g>\n",
       "<!-- 7&#45;&gt;6 -->\n",
       "<g id=\"edge7\" class=\"edge\">\n",
       "<title>7&#45;&gt;6</title>\n",
       "<path fill=\"none\" stroke=\"#000000\" d=\"M157.6751,-216.937C162.4372,-208.3654 168.3116,-197.7914 173.6309,-188.2165\"/>\n",
       "<polygon fill=\"#000000\" stroke=\"#000000\" points=\"176.7095,-189.882 178.5064,-179.4407 170.5904,-186.4825 176.7095,-189.882\"/>\n",
       "</g>\n",
       "</g>\n",
       "</svg>\n"
      ],
      "text/plain": [
       "<graphviz.dot.Digraph at 0x109ae96a0>"
      ]
     },
     "execution_count": 24,
     "metadata": {},
     "output_type": "execute_result"
    }
   ],
   "source": [
    "parsing.render_tree(parsing.filter_non_terminals(parse_result, cfg.n))"
   ]
  },
  {
   "cell_type": "markdown",
   "metadata": {
    "slideshow": {
     "slide_type": "slide"
    }
   },
   "source": [
    "## Ambiguity \n",
    "For real world grammars many phrases have **several legal parse trees**"
   ]
  },
  {
   "cell_type": "markdown",
   "metadata": {
    "slideshow": {
     "slide_type": "subslide"
    }
   },
   "source": [
    "Consider the following grammar and sentence"
   ]
  },
  {
   "cell_type": "code",
   "execution_count": 25,
   "metadata": {
    "slideshow": {
     "slide_type": "skip"
    }
   },
   "outputs": [],
   "source": [
    "amb_cfg = CFG.from_rules([\n",
    "        ('S',    ['Subj','VP']),\n",
    "        ('Subj', ['He']),\n",
    "        ('Verb', ['shot']),\n",
    "        ('VP',   ['Verb', 'Obj']),        ('VP', ['Verb', 'Obj', 'PP']),\n",
    "        ('PP',   ['in','his','pyjamas']),\n",
    "        ('Obj',  ['the','elephant']),     ('Obj', ['the','elephant','PP'])\n",
    "    ])\n",
    "amb_cnf_cfg = to_cnf(amb_cfg)\n",
    "amb_sentence = [\"He\", \"shot\", \"the\", \"elephant\", \"in\", \"his\", \"pyjamas\"]"
   ]
  },
  {
   "cell_type": "code",
   "execution_count": 26,
   "metadata": {
    "hideCode": true,
    "hidePrompt": true,
    "slideshow": {
     "slide_type": "subslide"
    }
   },
   "outputs": [
    {
     "data": {
      "text/html": [
       "<table style=\"display: inline-block;\"><tr><td>S</td><td>Subj VP</td></tr><tr><td>Subj</td><td>He</td></tr><tr><td>Verb</td><td>shot</td></tr></table> <table style=\"display: inline-block;\"><tr><td>VP</td><td>Verb Obj</td></tr><tr><td>VP</td><td>Verb Obj PP</td></tr><tr><td>PP</td><td>in his pyjamas</td></tr></table> <table style=\"display: inline-block;\"><tr><td>Obj</td><td>the elephant</td></tr><tr><td>Obj</td><td>the elephant PP</td></tr></table>"
      ],
      "text/plain": [
       "<__main__.CFG at 0x109ae0518>"
      ]
     },
     "execution_count": 26,
     "metadata": {},
     "output_type": "execute_result"
    }
   ],
   "source": [
    "amb_cfg"
   ]
  },
  {
   "cell_type": "code",
   "execution_count": 27,
   "metadata": {
    "hideCode": true,
    "hidePrompt": true,
    "slideshow": {
     "slide_type": "-"
    }
   },
   "outputs": [
    {
     "data": {
      "text/plain": [
       "['He', 'shot', 'the', 'elephant', 'in', 'his', 'pyjamas']"
      ]
     },
     "execution_count": 27,
     "metadata": {},
     "output_type": "execute_result"
    }
   ],
   "source": [
    "amb_sentence"
   ]
  },
  {
   "cell_type": "code",
   "execution_count": 28,
   "metadata": {
    "slideshow": {
     "slide_type": "skip"
    }
   },
   "outputs": [],
   "source": [
    "amb_trace = cyk(amb_cnf_cfg, amb_sentence)\n",
    "amb_parse_results = amb_trace[-1].derive_trees()\n",
    "def ambiguous_tree(num):\n",
    "    return parsing.render_tree(parsing.filter_non_terminals(amb_parse_results[num],amb_cfg.n)) # try results[1]"
   ]
  },
  {
   "cell_type": "code",
   "execution_count": 29,
   "metadata": {
    "slideshow": {
     "slide_type": "subslide"
    }
   },
   "outputs": [
    {
     "data": {
      "image/svg+xml": [
       "<?xml version=\"1.0\" encoding=\"UTF-8\" standalone=\"no\"?>\n",
       "<!DOCTYPE svg PUBLIC \"-//W3C//DTD SVG 1.1//EN\"\n",
       " \"http://www.w3.org/Graphics/SVG/1.1/DTD/svg11.dtd\">\n",
       "<!-- Generated by graphviz version 2.40.1 (20161225.0304)\n",
       " -->\n",
       "<!-- Title: %3 Pages: 1 -->\n",
       "<svg width=\"504pt\" height=\"260pt\"\n",
       " viewBox=\"0.00 0.00 503.58 260.00\" xmlns=\"http://www.w3.org/2000/svg\" xmlns:xlink=\"http://www.w3.org/1999/xlink\">\n",
       "<g id=\"graph0\" class=\"graph\" transform=\"scale(1 1) rotate(0) translate(4 256)\">\n",
       "<title>%3</title>\n",
       "<polygon fill=\"#ffffff\" stroke=\"transparent\" points=\"-4,4 -4,-256 499.5778,-256 499.5778,4 -4,4\"/>\n",
       "<!-- 0 -->\n",
       "<g id=\"node1\" class=\"node\">\n",
       "<title>0</title>\n",
       "<ellipse fill=\"none\" stroke=\"#000000\" cx=\"27\" cy=\"-90\" rx=\"27\" ry=\"18\"/>\n",
       "<text text-anchor=\"middle\" x=\"27\" y=\"-85.8\" font-family=\"Times,serif\" font-size=\"14.00\" fill=\"#000000\">He</text>\n",
       "</g>\n",
       "<!-- 1 -->\n",
       "<g id=\"node2\" class=\"node\">\n",
       "<title>1</title>\n",
       "<ellipse fill=\"none\" stroke=\"#000000\" cx=\"63\" cy=\"-162\" rx=\"27\" ry=\"18\"/>\n",
       "<text text-anchor=\"middle\" x=\"63\" y=\"-157.8\" font-family=\"Times,serif\" font-size=\"14.00\" fill=\"#000000\">Subj</text>\n",
       "</g>\n",
       "<!-- 1&#45;&gt;0 -->\n",
       "<g id=\"edge1\" class=\"edge\">\n",
       "<title>1&#45;&gt;0</title>\n",
       "<path fill=\"none\" stroke=\"#000000\" d=\"M54.2854,-144.5708C50.0403,-136.0807 44.8464,-125.6929 40.1337,-116.2674\"/>\n",
       "<polygon fill=\"#000000\" stroke=\"#000000\" points=\"43.237,-114.6477 35.6343,-107.2687 36.976,-117.7782 43.237,-114.6477\"/>\n",
       "</g>\n",
       "<!-- 2 -->\n",
       "<g id=\"node3\" class=\"node\">\n",
       "<title>2</title>\n",
       "<ellipse fill=\"none\" stroke=\"#000000\" cx=\"57\" cy=\"-18\" rx=\"27\" ry=\"18\"/>\n",
       "<text text-anchor=\"middle\" x=\"57\" y=\"-13.8\" font-family=\"Times,serif\" font-size=\"14.00\" fill=\"#000000\">shot</text>\n",
       "</g>\n",
       "<!-- 3 -->\n",
       "<g id=\"node4\" class=\"node\">\n",
       "<title>3</title>\n",
       "<ellipse fill=\"none\" stroke=\"#000000\" cx=\"99\" cy=\"-90\" rx=\"27\" ry=\"18\"/>\n",
       "<text text-anchor=\"middle\" x=\"99\" y=\"-85.8\" font-family=\"Times,serif\" font-size=\"14.00\" fill=\"#000000\">Verb</text>\n",
       "</g>\n",
       "<!-- 3&#45;&gt;2 -->\n",
       "<g id=\"edge2\" class=\"edge\">\n",
       "<title>3&#45;&gt;2</title>\n",
       "<path fill=\"none\" stroke=\"#000000\" d=\"M89.0466,-72.937C83.9729,-64.2393 77.6966,-53.4799 72.047,-43.7948\"/>\n",
       "<polygon fill=\"#000000\" stroke=\"#000000\" points=\"74.944,-41.8148 66.882,-34.9405 68.8975,-45.3419 74.944,-41.8148\"/>\n",
       "</g>\n",
       "<!-- 4 -->\n",
       "<g id=\"node5\" class=\"node\">\n",
       "<title>4</title>\n",
       "<ellipse fill=\"none\" stroke=\"#000000\" cx=\"129\" cy=\"-18\" rx=\"27\" ry=\"18\"/>\n",
       "<text text-anchor=\"middle\" x=\"129\" y=\"-13.8\" font-family=\"Times,serif\" font-size=\"14.00\" fill=\"#000000\">the</text>\n",
       "</g>\n",
       "<!-- 5 -->\n",
       "<g id=\"node6\" class=\"node\">\n",
       "<title>5</title>\n",
       "<ellipse fill=\"none\" stroke=\"#000000\" cx=\"214\" cy=\"-18\" rx=\"40.123\" ry=\"18\"/>\n",
       "<text text-anchor=\"middle\" x=\"214\" y=\"-13.8\" font-family=\"Times,serif\" font-size=\"14.00\" fill=\"#000000\">elephant</text>\n",
       "</g>\n",
       "<!-- 6 -->\n",
       "<g id=\"node7\" class=\"node\">\n",
       "<title>6</title>\n",
       "<ellipse fill=\"none\" stroke=\"#000000\" cx=\"171\" cy=\"-90\" rx=\"27\" ry=\"18\"/>\n",
       "<text text-anchor=\"middle\" x=\"171\" y=\"-85.8\" font-family=\"Times,serif\" font-size=\"14.00\" fill=\"#000000\">Obj</text>\n",
       "</g>\n",
       "<!-- 6&#45;&gt;4 -->\n",
       "<g id=\"edge3\" class=\"edge\">\n",
       "<title>6&#45;&gt;4</title>\n",
       "<path fill=\"none\" stroke=\"#000000\" d=\"M161.0466,-72.937C155.9729,-64.2393 149.6966,-53.4799 144.047,-43.7948\"/>\n",
       "<polygon fill=\"#000000\" stroke=\"#000000\" points=\"146.944,-41.8148 138.882,-34.9405 140.8975,-45.3419 146.944,-41.8148\"/>\n",
       "</g>\n",
       "<!-- 6&#45;&gt;5 -->\n",
       "<g id=\"edge4\" class=\"edge\">\n",
       "<title>6&#45;&gt;5</title>\n",
       "<path fill=\"none\" stroke=\"#000000\" d=\"M181.1904,-72.937C186.3096,-64.3654 192.6246,-53.7914 198.3429,-44.2165\"/>\n",
       "<polygon fill=\"#000000\" stroke=\"#000000\" points=\"201.4615,-45.8207 203.584,-35.4407 195.4517,-42.2315 201.4615,-45.8207\"/>\n",
       "</g>\n",
       "<!-- 7 -->\n",
       "<g id=\"node8\" class=\"node\">\n",
       "<title>7</title>\n",
       "<ellipse fill=\"none\" stroke=\"#000000\" cx=\"299\" cy=\"-18\" rx=\"27\" ry=\"18\"/>\n",
       "<text text-anchor=\"middle\" x=\"299\" y=\"-13.8\" font-family=\"Times,serif\" font-size=\"14.00\" fill=\"#000000\">in</text>\n",
       "</g>\n",
       "<!-- 8 -->\n",
       "<g id=\"node9\" class=\"node\">\n",
       "<title>8</title>\n",
       "<ellipse fill=\"none\" stroke=\"#000000\" cx=\"371\" cy=\"-18\" rx=\"27\" ry=\"18\"/>\n",
       "<text text-anchor=\"middle\" x=\"371\" y=\"-13.8\" font-family=\"Times,serif\" font-size=\"14.00\" fill=\"#000000\">his</text>\n",
       "</g>\n",
       "<!-- 9 -->\n",
       "<g id=\"node10\" class=\"node\">\n",
       "<title>9</title>\n",
       "<ellipse fill=\"none\" stroke=\"#000000\" cx=\"456\" cy=\"-18\" rx=\"39.6558\" ry=\"18\"/>\n",
       "<text text-anchor=\"middle\" x=\"456\" y=\"-13.8\" font-family=\"Times,serif\" font-size=\"14.00\" fill=\"#000000\">pyjamas</text>\n",
       "</g>\n",
       "<!-- 10 -->\n",
       "<g id=\"node11\" class=\"node\">\n",
       "<title>10</title>\n",
       "<ellipse fill=\"none\" stroke=\"#000000\" cx=\"335\" cy=\"-90\" rx=\"27\" ry=\"18\"/>\n",
       "<text text-anchor=\"middle\" x=\"335\" y=\"-85.8\" font-family=\"Times,serif\" font-size=\"14.00\" fill=\"#000000\">PP</text>\n",
       "</g>\n",
       "<!-- 10&#45;&gt;7 -->\n",
       "<g id=\"edge5\" class=\"edge\">\n",
       "<title>10&#45;&gt;7</title>\n",
       "<path fill=\"none\" stroke=\"#000000\" d=\"M326.2854,-72.5708C322.0403,-64.0807 316.8464,-53.6929 312.1337,-44.2674\"/>\n",
       "<polygon fill=\"#000000\" stroke=\"#000000\" points=\"315.237,-42.6477 307.6343,-35.2687 308.976,-45.7782 315.237,-42.6477\"/>\n",
       "</g>\n",
       "<!-- 10&#45;&gt;8 -->\n",
       "<g id=\"edge6\" class=\"edge\">\n",
       "<title>10&#45;&gt;8</title>\n",
       "<path fill=\"none\" stroke=\"#000000\" d=\"M343.7146,-72.5708C347.9597,-64.0807 353.1536,-53.6929 357.8663,-44.2674\"/>\n",
       "<polygon fill=\"#000000\" stroke=\"#000000\" points=\"361.024,-45.7782 362.3657,-35.2687 354.763,-42.6477 361.024,-45.7782\"/>\n",
       "</g>\n",
       "<!-- 10&#45;&gt;9 -->\n",
       "<g id=\"edge7\" class=\"edge\">\n",
       "<title>10&#45;&gt;9</title>\n",
       "<path fill=\"none\" stroke=\"#000000\" d=\"M355.2527,-77.9488C373.737,-66.9499 401.3946,-50.4925 423.0575,-37.6021\"/>\n",
       "<polygon fill=\"#000000\" stroke=\"#000000\" points=\"425.1265,-40.4438 431.9304,-32.3224 421.5469,-34.4283 425.1265,-40.4438\"/>\n",
       "</g>\n",
       "<!-- 11 -->\n",
       "<g id=\"node12\" class=\"node\">\n",
       "<title>11</title>\n",
       "<ellipse fill=\"none\" stroke=\"#000000\" cx=\"135\" cy=\"-162\" rx=\"27\" ry=\"18\"/>\n",
       "<text text-anchor=\"middle\" x=\"135\" y=\"-157.8\" font-family=\"Times,serif\" font-size=\"14.00\" fill=\"#000000\">VP</text>\n",
       "</g>\n",
       "<!-- 11&#45;&gt;3 -->\n",
       "<g id=\"edge8\" class=\"edge\">\n",
       "<title>11&#45;&gt;3</title>\n",
       "<path fill=\"none\" stroke=\"#000000\" d=\"M126.2854,-144.5708C122.0403,-136.0807 116.8464,-125.6929 112.1337,-116.2674\"/>\n",
       "<polygon fill=\"#000000\" stroke=\"#000000\" points=\"115.237,-114.6477 107.6343,-107.2687 108.976,-117.7782 115.237,-114.6477\"/>\n",
       "</g>\n",
       "<!-- 11&#45;&gt;6 -->\n",
       "<g id=\"edge9\" class=\"edge\">\n",
       "<title>11&#45;&gt;6</title>\n",
       "<path fill=\"none\" stroke=\"#000000\" d=\"M143.7146,-144.5708C147.9597,-136.0807 153.1536,-125.6929 157.8663,-116.2674\"/>\n",
       "<polygon fill=\"#000000\" stroke=\"#000000\" points=\"161.024,-117.7782 162.3657,-107.2687 154.763,-114.6477 161.024,-117.7782\"/>\n",
       "</g>\n",
       "<!-- 11&#45;&gt;10 -->\n",
       "<g id=\"edge10\" class=\"edge\">\n",
       "<title>11&#45;&gt;10</title>\n",
       "<path fill=\"none\" stroke=\"#000000\" d=\"M159.1247,-153.3151C194.6582,-140.5231 261.1986,-116.5685 301.4649,-102.0727\"/>\n",
       "<polygon fill=\"#000000\" stroke=\"#000000\" points=\"302.8778,-105.284 311.1011,-98.6036 300.5067,-98.6978 302.8778,-105.284\"/>\n",
       "</g>\n",
       "<!-- 12 -->\n",
       "<g id=\"node13\" class=\"node\">\n",
       "<title>12</title>\n",
       "<ellipse fill=\"none\" stroke=\"#000000\" cx=\"99\" cy=\"-234\" rx=\"27\" ry=\"18\"/>\n",
       "<text text-anchor=\"middle\" x=\"99\" y=\"-229.8\" font-family=\"Times,serif\" font-size=\"14.00\" fill=\"#000000\">S</text>\n",
       "</g>\n",
       "<!-- 12&#45;&gt;1 -->\n",
       "<g id=\"edge11\" class=\"edge\">\n",
       "<title>12&#45;&gt;1</title>\n",
       "<path fill=\"none\" stroke=\"#000000\" d=\"M90.2854,-216.5708C86.0403,-208.0807 80.8464,-197.6929 76.1337,-188.2674\"/>\n",
       "<polygon fill=\"#000000\" stroke=\"#000000\" points=\"79.237,-186.6477 71.6343,-179.2687 72.976,-189.7782 79.237,-186.6477\"/>\n",
       "</g>\n",
       "<!-- 12&#45;&gt;11 -->\n",
       "<g id=\"edge12\" class=\"edge\">\n",
       "<title>12&#45;&gt;11</title>\n",
       "<path fill=\"none\" stroke=\"#000000\" d=\"M107.7146,-216.5708C111.9597,-208.0807 117.1536,-197.6929 121.8663,-188.2674\"/>\n",
       "<polygon fill=\"#000000\" stroke=\"#000000\" points=\"125.024,-189.7782 126.3657,-179.2687 118.763,-186.6477 125.024,-189.7782\"/>\n",
       "</g>\n",
       "</g>\n",
       "</svg>\n"
      ],
      "text/plain": [
       "<graphviz.dot.Digraph at 0x108420080>"
      ]
     },
     "execution_count": 29,
     "metadata": {},
     "output_type": "execute_result"
    }
   ],
   "source": [
    "ambiguous_tree(1) # try tree 1 "
   ]
  },
  {
   "cell_type": "markdown",
   "metadata": {
    "slideshow": {
     "slide_type": "subslide"
    }
   },
   "source": [
    "**prepositional phrase attachment ambiguity**: \"in his pyjamas\" could be \n",
    "\n",
    "* in verb phrase (in pyjamas when shooting)\n",
    "* in noun phrase (elephant in pyjamas)\n"
   ]
  },
  {
   "cell_type": "markdown",
   "metadata": {
    "slideshow": {
     "slide_type": "fragment"
    }
   },
   "source": [
    "Both readings are grammatical, but one is **more probable**"
   ]
  },
  {
   "cell_type": "markdown",
   "metadata": {
    "slideshow": {
     "slide_type": "slide"
    }
   },
   "source": [
    "## Probabilistic Context Free Grammars\n",
    "[Probabilistic Context Free Grammars](http://www.cs.columbia.edu/~mcollins/courses/nlp2011/notes/pcfgs.pdf) (PFCGs) are Context Free Grammars in which rules have probabilities \n",
    "\n",
    "* A Context Free Grammar \\\\(G(N,\\Sigma,R,S)\\\\)\n",
    "* A parameter \\\\(\\param(\\alpha \\rightarrow \\beta) \\in \\[0,1\\]\\\\) for each rule  \\\\(\\alpha \\rightarrow \\beta \\in R\\\\) \n",
    "* For each left hand side \\\\(\\alpha \\in N\\\\) we require \\\\(\\sum_\\beta \\param(\\alpha \\rightarrow \\beta) = 1\\\\)"
   ]
  },
  {
   "cell_type": "markdown",
   "metadata": {
    "slideshow": {
     "slide_type": "subslide"
    }
   },
   "source": [
    "A PCFG defines probability for parse tree \\\\(\\mathbf{t}\\\\) containing the rules \\\\(\\alpha_1 \\rightarrow \\beta_1, \\ldots, \\alpha_n \\rightarrow \\beta_n\\\\):\n",
    "$$\n",
    "  \\newcommand{parse}{\\mathbf{t}}\n",
    "  p_{\\param}(\\parse) = \\prod_i^n \\param(\\alpha_i \\rightarrow \\beta_i) \n",
    "$$\n"
   ]
  },
  {
   "cell_type": "markdown",
   "metadata": {
    "slideshow": {
     "slide_type": "subslide"
    }
   },
   "source": [
    "Example PCFG:"
   ]
  },
  {
   "cell_type": "code",
   "execution_count": 30,
   "metadata": {
    "hideCode": true,
    "hidePrompt": true,
    "slideshow": {
     "slide_type": "-"
    }
   },
   "outputs": [
    {
     "data": {
      "text/html": [
       "<table style=\"display: inline-block;\"><tr><td>S</td><td>1.0</td><td>Subj VP</td></tr><tr><td>Subj</td><td>1.0</td><td>He</td></tr><tr><td>Verb</td><td>1.0</td><td>shot</td></tr></table> <table style=\"display: inline-block;\"><tr><td>VP</td><td>0.3</td><td>Verb Obj</td></tr><tr><td>VP</td><td>0.7</td><td>Verb Obj PP</td></tr><tr><td>PP</td><td>1.0</td><td>in his pyjamas</td></tr></table> <table style=\"display: inline-block;\"><tr><td>Obj</td><td>0.5</td><td>the elephant</td></tr><tr><td>Obj</td><td>0.5</td><td>the elephant PP</td></tr></table>"
      ],
      "text/plain": [
       "<__main__.PCFG at 0x109dcfb38>"
      ]
     },
     "execution_count": 30,
     "metadata": {},
     "output_type": "execute_result"
    }
   ],
   "source": [
    "pcfg = PCFG.from_rules([\n",
    "        ('S',    1.0, ['Subj','VP']),\n",
    "        ('Subj', 1.0, ['He']),\n",
    "        ('Verb', 1.0, ['shot']),\n",
    "        ('VP',   0.3, ['Verb', 'Obj']),        ('VP',  0.7, ['Verb', 'Obj', 'PP']),\n",
    "        ('PP',   1.0, ['in','his','pyjamas']),\n",
    "        ('Obj',  0.5, ['the','elephant']),     ('Obj', 0.5, ['the','elephant','PP'])\n",
    "    ])\n",
    "pcfg"
   ]
  },
  {
   "cell_type": "markdown",
   "metadata": {
    "slideshow": {
     "slide_type": "slide"
    }
   },
   "source": [
    "## Parsing\n",
    "\n",
    "For given sentence $\\x$, let $\\Ys(\\x,G)$ be all trees $\\mathbf{t}$ with $\\x$ as terminals:\n",
    "\n",
    "$$\n",
    "\\argmax_{\\mathbf{t} \\in \\Ys(\\x,G)} \\prob_\\params(\\mathbf{t}) \n",
    "$$\n"
   ]
  },
  {
   "cell_type": "markdown",
   "metadata": {
    "slideshow": {
     "slide_type": "subslide"
    }
   },
   "source": [
    "## CYK for PCFGs\n",
    "\n",
    "We can use a variant of the CYK algorithm to solve the prediction problem"
   ]
  },
  {
   "cell_type": "code",
   "execution_count": 31,
   "metadata": {
    "hideCode": true,
    "hidePrompt": true,
    "scrolled": true,
    "slideshow": {
     "slide_type": "subslide"
    }
   },
   "outputs": [
    {
     "data": {
      "text/html": [
       "<table style=\"display: inline-block;\"><tr><td>S</td><td>1.0</td><td>Subj VP</td></tr><tr><td>Subj</td><td>1.0</td><td>He</td></tr><tr><td>Verb</td><td>1.0</td><td>shot</td></tr><tr><td>VP</td><td>0.3</td><td>Verb Obj</td></tr><tr><td>VP</td><td>0.7</td><td>Verb VP_0</td></tr><tr><td>VP_0</td><td>1.0</td><td>Obj PP</td></tr></table> <table style=\"display: inline-block;\"><tr><td>PP_2</td><td>1.0</td><td>in</td></tr><tr><td>PP</td><td>1.0</td><td>PP_2 PP_1</td></tr><tr><td>PP_1_3</td><td>1.0</td><td>his</td></tr><tr><td>PP_1_4</td><td>1.0</td><td>pyjamas</td></tr><tr><td>PP_1</td><td>1.0</td><td>PP_1_3 PP_1_4</td></tr><tr><td>Obj_5</td><td>1.0</td><td>the</td></tr></table> <table style=\"display: inline-block;\"><tr><td>Obj_6</td><td>1.0</td><td>elephant</td></tr><tr><td>Obj</td><td>0.5</td><td>Obj_5 Obj_6</td></tr><tr><td>Obj_8</td><td>1.0</td><td>the</td></tr><tr><td>Obj</td><td>0.5</td><td>Obj_8 Obj_7</td></tr><tr><td>Obj_7_9</td><td>1.0</td><td>elephant</td></tr><tr><td>Obj_7</td><td>1.0</td><td>Obj_7_9 PP</td></tr></table>"
      ],
      "text/plain": [
       "<__main__.PCFG at 0x10a112e10>"
      ]
     },
     "execution_count": 31,
     "metadata": {},
     "output_type": "execute_result"
    }
   ],
   "source": [
    "cnf_pcfg"
   ]
  },
  {
   "cell_type": "code",
   "execution_count": 32,
   "metadata": {
    "hideCode": true,
    "hidePrompt": true,
    "scrolled": true,
    "slideshow": {
     "slide_type": "-"
    }
   },
   "outputs": [
    {
     "data": {
      "text/html": [
       "\n",
       "        <div id=\"70c49e82-a70a-11e7-b809-6c4008b6c404\" class=\"carousel\" data-ride=\"carousel\" data-interval=\"false\">\n",
       "          <!-- Controls -->\n",
       "          <a href=\"#70c49e82-a70a-11e7-b809-6c4008b6c404\" role=\"button2\" data-slide=\"prev\">Previous</a>\n",
       "          &nbsp\n",
       "          <a  href=\"#70c49e82-a70a-11e7-b809-6c4008b6c404\" role=\"button2\" data-slide=\"next\">Next</a>\n",
       "          <div class=\"carousel-inner\" role=\"listbox\">\n",
       "          <div class=\"item active\"><table><tr><td></td><td>0: He</td><td>1: shot</td><td>2: the</td><td>3: elephant</td><td>4: in</td><td>5: his</td><td>6: pyjamas</td></tr>\n",
       "<tr><td>0: He</td><td style=\"border:solid;\" bgcolor=\"white\"></td><td style=\"border:solid;\" bgcolor=\"white\"></td><td style=\"border:solid;\" bgcolor=\"white\"></td><td style=\"border:solid;\" bgcolor=\"white\"></td><td style=\"border:solid;\" bgcolor=\"white\"></td><td style=\"border:solid;\" bgcolor=\"white\"></td><td style=\"border:solid;\" bgcolor=\"white\"></td></tr>\n",
       "<tr><td>1: shot</td><td style=\"border:none;\" bgcolor=\"white\"></td><td style=\"border:solid;\" bgcolor=\"white\"></td><td style=\"border:solid;\" bgcolor=\"white\"></td><td style=\"border:solid;\" bgcolor=\"white\"></td><td style=\"border:solid;\" bgcolor=\"white\"></td><td style=\"border:solid;\" bgcolor=\"white\"></td><td style=\"border:solid;\" bgcolor=\"white\"></td></tr>\n",
       "<tr><td>2: the</td><td style=\"border:none;\" bgcolor=\"white\"></td><td style=\"border:none;\" bgcolor=\"white\"></td><td style=\"border:solid;\" bgcolor=\"white\"></td><td style=\"border:solid;\" bgcolor=\"white\"></td><td style=\"border:solid;\" bgcolor=\"white\"></td><td style=\"border:solid;\" bgcolor=\"white\"></td><td style=\"border:solid;\" bgcolor=\"white\"></td></tr>\n",
       "<tr><td>3: elephant</td><td style=\"border:none;\" bgcolor=\"white\"></td><td style=\"border:none;\" bgcolor=\"white\"></td><td style=\"border:none;\" bgcolor=\"white\"></td><td style=\"border:solid;\" bgcolor=\"white\"></td><td style=\"border:solid;\" bgcolor=\"white\"></td><td style=\"border:solid;\" bgcolor=\"white\"></td><td style=\"border:solid;\" bgcolor=\"white\"></td></tr>\n",
       "<tr><td>4: in</td><td style=\"border:none;\" bgcolor=\"white\"></td><td style=\"border:none;\" bgcolor=\"white\"></td><td style=\"border:none;\" bgcolor=\"white\"></td><td style=\"border:none;\" bgcolor=\"white\"></td><td style=\"border:solid;\" bgcolor=\"white\"></td><td style=\"border:solid;\" bgcolor=\"white\"></td><td style=\"border:solid;\" bgcolor=\"white\"></td></tr>\n",
       "<tr><td>5: his</td><td style=\"border:none;\" bgcolor=\"white\"></td><td style=\"border:none;\" bgcolor=\"white\"></td><td style=\"border:none;\" bgcolor=\"white\"></td><td style=\"border:none;\" bgcolor=\"white\"></td><td style=\"border:none;\" bgcolor=\"white\"></td><td style=\"border:solid;\" bgcolor=\"white\"></td><td style=\"border:solid;\" bgcolor=\"white\"></td></tr>\n",
       "<tr><td>6: pyjamas</td><td style=\"border:none;\" bgcolor=\"white\"></td><td style=\"border:none;\" bgcolor=\"white\"></td><td style=\"border:none;\" bgcolor=\"white\"></td><td style=\"border:none;\" bgcolor=\"white\"></td><td style=\"border:none;\" bgcolor=\"white\"></td><td style=\"border:none;\" bgcolor=\"white\"></td><td style=\"border:solid;\" bgcolor=\"white\"></td></tr></table> 1 / 112</div>\n",
       "<div class=\"item\"><table><tr><td></td><td>0: He</td><td>1: shot</td><td>2: the</td><td>3: elephant</td><td>4: in</td><td>5: his</td><td>6: pyjamas</td></tr>\n",
       "<tr><td>0: He</td><td style=\"border:solid;\" bgcolor=\"#C3C3C3\"></td><td style=\"border:solid;\" bgcolor=\"white\"></td><td style=\"border:solid;\" bgcolor=\"white\"></td><td style=\"border:solid;\" bgcolor=\"white\"></td><td style=\"border:solid;\" bgcolor=\"white\"></td><td style=\"border:solid;\" bgcolor=\"white\"></td><td style=\"border:solid;\" bgcolor=\"white\"></td></tr>\n",
       "<tr><td>1: shot</td><td style=\"border:none;\" bgcolor=\"white\"></td><td style=\"border:solid;\" bgcolor=\"white\"></td><td style=\"border:solid;\" bgcolor=\"white\"></td><td style=\"border:solid;\" bgcolor=\"white\"></td><td style=\"border:solid;\" bgcolor=\"white\"></td><td style=\"border:solid;\" bgcolor=\"white\"></td><td style=\"border:solid;\" bgcolor=\"white\"></td></tr>\n",
       "<tr><td>2: the</td><td style=\"border:none;\" bgcolor=\"white\"></td><td style=\"border:none;\" bgcolor=\"white\"></td><td style=\"border:solid;\" bgcolor=\"white\"></td><td style=\"border:solid;\" bgcolor=\"white\"></td><td style=\"border:solid;\" bgcolor=\"white\"></td><td style=\"border:solid;\" bgcolor=\"white\"></td><td style=\"border:solid;\" bgcolor=\"white\"></td></tr>\n",
       "<tr><td>3: elephant</td><td style=\"border:none;\" bgcolor=\"white\"></td><td style=\"border:none;\" bgcolor=\"white\"></td><td style=\"border:none;\" bgcolor=\"white\"></td><td style=\"border:solid;\" bgcolor=\"white\"></td><td style=\"border:solid;\" bgcolor=\"white\"></td><td style=\"border:solid;\" bgcolor=\"white\"></td><td style=\"border:solid;\" bgcolor=\"white\"></td></tr>\n",
       "<tr><td>4: in</td><td style=\"border:none;\" bgcolor=\"white\"></td><td style=\"border:none;\" bgcolor=\"white\"></td><td style=\"border:none;\" bgcolor=\"white\"></td><td style=\"border:none;\" bgcolor=\"white\"></td><td style=\"border:solid;\" bgcolor=\"white\"></td><td style=\"border:solid;\" bgcolor=\"white\"></td><td style=\"border:solid;\" bgcolor=\"white\"></td></tr>\n",
       "<tr><td>5: his</td><td style=\"border:none;\" bgcolor=\"white\"></td><td style=\"border:none;\" bgcolor=\"white\"></td><td style=\"border:none;\" bgcolor=\"white\"></td><td style=\"border:none;\" bgcolor=\"white\"></td><td style=\"border:none;\" bgcolor=\"white\"></td><td style=\"border:solid;\" bgcolor=\"white\"></td><td style=\"border:solid;\" bgcolor=\"white\"></td></tr>\n",
       "<tr><td>6: pyjamas</td><td style=\"border:none;\" bgcolor=\"white\"></td><td style=\"border:none;\" bgcolor=\"white\"></td><td style=\"border:none;\" bgcolor=\"white\"></td><td style=\"border:none;\" bgcolor=\"white\"></td><td style=\"border:none;\" bgcolor=\"white\"></td><td style=\"border:none;\" bgcolor=\"white\"></td><td style=\"border:solid;\" bgcolor=\"white\"></td></tr></table> 2 / 112</div>\n",
       "<div class=\"item\"><table><tr><td></td><td>0: He</td><td>1: shot</td><td>2: the</td><td>3: elephant</td><td>4: in</td><td>5: his</td><td>6: pyjamas</td></tr>\n",
       "<tr><td>0: He</td><td style=\"border:solid;\" bgcolor=\"#C3C3C3\"><font color=\"blue\">Subj: 0.00</font></td><td style=\"border:solid;\" bgcolor=\"white\"></td><td style=\"border:solid;\" bgcolor=\"white\"></td><td style=\"border:solid;\" bgcolor=\"white\"></td><td style=\"border:solid;\" bgcolor=\"white\"></td><td style=\"border:solid;\" bgcolor=\"white\"></td><td style=\"border:solid;\" bgcolor=\"white\"></td></tr>\n",
       "<tr><td>1: shot</td><td style=\"border:none;\" bgcolor=\"white\"></td><td style=\"border:solid;\" bgcolor=\"white\"></td><td style=\"border:solid;\" bgcolor=\"white\"></td><td style=\"border:solid;\" bgcolor=\"white\"></td><td style=\"border:solid;\" bgcolor=\"white\"></td><td style=\"border:solid;\" bgcolor=\"white\"></td><td style=\"border:solid;\" bgcolor=\"white\"></td></tr>\n",
       "<tr><td>2: the</td><td style=\"border:none;\" bgcolor=\"white\"></td><td style=\"border:none;\" bgcolor=\"white\"></td><td style=\"border:solid;\" bgcolor=\"white\"></td><td style=\"border:solid;\" bgcolor=\"white\"></td><td style=\"border:solid;\" bgcolor=\"white\"></td><td style=\"border:solid;\" bgcolor=\"white\"></td><td style=\"border:solid;\" bgcolor=\"white\"></td></tr>\n",
       "<tr><td>3: elephant</td><td style=\"border:none;\" bgcolor=\"white\"></td><td style=\"border:none;\" bgcolor=\"white\"></td><td style=\"border:none;\" bgcolor=\"white\"></td><td style=\"border:solid;\" bgcolor=\"white\"></td><td style=\"border:solid;\" bgcolor=\"white\"></td><td style=\"border:solid;\" bgcolor=\"white\"></td><td style=\"border:solid;\" bgcolor=\"white\"></td></tr>\n",
       "<tr><td>4: in</td><td style=\"border:none;\" bgcolor=\"white\"></td><td style=\"border:none;\" bgcolor=\"white\"></td><td style=\"border:none;\" bgcolor=\"white\"></td><td style=\"border:none;\" bgcolor=\"white\"></td><td style=\"border:solid;\" bgcolor=\"white\"></td><td style=\"border:solid;\" bgcolor=\"white\"></td><td style=\"border:solid;\" bgcolor=\"white\"></td></tr>\n",
       "<tr><td>5: his</td><td style=\"border:none;\" bgcolor=\"white\"></td><td style=\"border:none;\" bgcolor=\"white\"></td><td style=\"border:none;\" bgcolor=\"white\"></td><td style=\"border:none;\" bgcolor=\"white\"></td><td style=\"border:none;\" bgcolor=\"white\"></td><td style=\"border:solid;\" bgcolor=\"white\"></td><td style=\"border:solid;\" bgcolor=\"white\"></td></tr>\n",
       "<tr><td>6: pyjamas</td><td style=\"border:none;\" bgcolor=\"white\"></td><td style=\"border:none;\" bgcolor=\"white\"></td><td style=\"border:none;\" bgcolor=\"white\"></td><td style=\"border:none;\" bgcolor=\"white\"></td><td style=\"border:none;\" bgcolor=\"white\"></td><td style=\"border:none;\" bgcolor=\"white\"></td><td style=\"border:solid;\" bgcolor=\"white\"></td></tr></table> 3 / 112</div>\n",
       "<div class=\"item\"><table><tr><td></td><td>0: He</td><td>1: shot</td><td>2: the</td><td>3: elephant</td><td>4: in</td><td>5: his</td><td>6: pyjamas</td></tr>\n",
       "<tr><td>0: He</td><td style=\"border:solid;\" bgcolor=\"white\"><font color=\"blue\">Subj: 0.00</font></td><td style=\"border:solid;\" bgcolor=\"white\"></td><td style=\"border:solid;\" bgcolor=\"white\"></td><td style=\"border:solid;\" bgcolor=\"white\"></td><td style=\"border:solid;\" bgcolor=\"white\"></td><td style=\"border:solid;\" bgcolor=\"white\"></td><td style=\"border:solid;\" bgcolor=\"white\"></td></tr>\n",
       "<tr><td>1: shot</td><td style=\"border:none;\" bgcolor=\"white\"></td><td style=\"border:solid;\" bgcolor=\"#C3C3C3\"></td><td style=\"border:solid;\" bgcolor=\"white\"></td><td style=\"border:solid;\" bgcolor=\"white\"></td><td style=\"border:solid;\" bgcolor=\"white\"></td><td style=\"border:solid;\" bgcolor=\"white\"></td><td style=\"border:solid;\" bgcolor=\"white\"></td></tr>\n",
       "<tr><td>2: the</td><td style=\"border:none;\" bgcolor=\"white\"></td><td style=\"border:none;\" bgcolor=\"white\"></td><td style=\"border:solid;\" bgcolor=\"white\"></td><td style=\"border:solid;\" bgcolor=\"white\"></td><td style=\"border:solid;\" bgcolor=\"white\"></td><td style=\"border:solid;\" bgcolor=\"white\"></td><td style=\"border:solid;\" bgcolor=\"white\"></td></tr>\n",
       "<tr><td>3: elephant</td><td style=\"border:none;\" bgcolor=\"white\"></td><td style=\"border:none;\" bgcolor=\"white\"></td><td style=\"border:none;\" bgcolor=\"white\"></td><td style=\"border:solid;\" bgcolor=\"white\"></td><td style=\"border:solid;\" bgcolor=\"white\"></td><td style=\"border:solid;\" bgcolor=\"white\"></td><td style=\"border:solid;\" bgcolor=\"white\"></td></tr>\n",
       "<tr><td>4: in</td><td style=\"border:none;\" bgcolor=\"white\"></td><td style=\"border:none;\" bgcolor=\"white\"></td><td style=\"border:none;\" bgcolor=\"white\"></td><td style=\"border:none;\" bgcolor=\"white\"></td><td style=\"border:solid;\" bgcolor=\"white\"></td><td style=\"border:solid;\" bgcolor=\"white\"></td><td style=\"border:solid;\" bgcolor=\"white\"></td></tr>\n",
       "<tr><td>5: his</td><td style=\"border:none;\" bgcolor=\"white\"></td><td style=\"border:none;\" bgcolor=\"white\"></td><td style=\"border:none;\" bgcolor=\"white\"></td><td style=\"border:none;\" bgcolor=\"white\"></td><td style=\"border:none;\" bgcolor=\"white\"></td><td style=\"border:solid;\" bgcolor=\"white\"></td><td style=\"border:solid;\" bgcolor=\"white\"></td></tr>\n",
       "<tr><td>6: pyjamas</td><td style=\"border:none;\" bgcolor=\"white\"></td><td style=\"border:none;\" bgcolor=\"white\"></td><td style=\"border:none;\" bgcolor=\"white\"></td><td style=\"border:none;\" bgcolor=\"white\"></td><td style=\"border:none;\" bgcolor=\"white\"></td><td style=\"border:none;\" bgcolor=\"white\"></td><td style=\"border:solid;\" bgcolor=\"white\"></td></tr></table> 4 / 112</div>\n",
       "<div class=\"item\"><table><tr><td></td><td>0: He</td><td>1: shot</td><td>2: the</td><td>3: elephant</td><td>4: in</td><td>5: his</td><td>6: pyjamas</td></tr>\n",
       "<tr><td>0: He</td><td style=\"border:solid;\" bgcolor=\"white\"><font color=\"black\">Subj: 0.00</font></td><td style=\"border:solid;\" bgcolor=\"white\"></td><td style=\"border:solid;\" bgcolor=\"white\"></td><td style=\"border:solid;\" bgcolor=\"white\"></td><td style=\"border:solid;\" bgcolor=\"white\"></td><td style=\"border:solid;\" bgcolor=\"white\"></td><td style=\"border:solid;\" bgcolor=\"white\"></td></tr>\n",
       "<tr><td>1: shot</td><td style=\"border:none;\" bgcolor=\"white\"></td><td style=\"border:solid;\" bgcolor=\"#C3C3C3\"><font color=\"blue\">Verb: 0.00</font></td><td style=\"border:solid;\" bgcolor=\"white\"></td><td style=\"border:solid;\" bgcolor=\"white\"></td><td style=\"border:solid;\" bgcolor=\"white\"></td><td style=\"border:solid;\" bgcolor=\"white\"></td><td style=\"border:solid;\" bgcolor=\"white\"></td></tr>\n",
       "<tr><td>2: the</td><td style=\"border:none;\" bgcolor=\"white\"></td><td style=\"border:none;\" bgcolor=\"white\"></td><td style=\"border:solid;\" bgcolor=\"white\"></td><td style=\"border:solid;\" bgcolor=\"white\"></td><td style=\"border:solid;\" bgcolor=\"white\"></td><td style=\"border:solid;\" bgcolor=\"white\"></td><td style=\"border:solid;\" bgcolor=\"white\"></td></tr>\n",
       "<tr><td>3: elephant</td><td style=\"border:none;\" bgcolor=\"white\"></td><td style=\"border:none;\" bgcolor=\"white\"></td><td style=\"border:none;\" bgcolor=\"white\"></td><td style=\"border:solid;\" bgcolor=\"white\"></td><td style=\"border:solid;\" bgcolor=\"white\"></td><td style=\"border:solid;\" bgcolor=\"white\"></td><td style=\"border:solid;\" bgcolor=\"white\"></td></tr>\n",
       "<tr><td>4: in</td><td style=\"border:none;\" bgcolor=\"white\"></td><td style=\"border:none;\" bgcolor=\"white\"></td><td style=\"border:none;\" bgcolor=\"white\"></td><td style=\"border:none;\" bgcolor=\"white\"></td><td style=\"border:solid;\" bgcolor=\"white\"></td><td style=\"border:solid;\" bgcolor=\"white\"></td><td style=\"border:solid;\" bgcolor=\"white\"></td></tr>\n",
       "<tr><td>5: his</td><td style=\"border:none;\" bgcolor=\"white\"></td><td style=\"border:none;\" bgcolor=\"white\"></td><td style=\"border:none;\" bgcolor=\"white\"></td><td style=\"border:none;\" bgcolor=\"white\"></td><td style=\"border:none;\" bgcolor=\"white\"></td><td style=\"border:solid;\" bgcolor=\"white\"></td><td style=\"border:solid;\" bgcolor=\"white\"></td></tr>\n",
       "<tr><td>6: pyjamas</td><td style=\"border:none;\" bgcolor=\"white\"></td><td style=\"border:none;\" bgcolor=\"white\"></td><td style=\"border:none;\" bgcolor=\"white\"></td><td style=\"border:none;\" bgcolor=\"white\"></td><td style=\"border:none;\" bgcolor=\"white\"></td><td style=\"border:none;\" bgcolor=\"white\"></td><td style=\"border:solid;\" bgcolor=\"white\"></td></tr></table> 5 / 112</div>\n",
       "<div class=\"item\"><table><tr><td></td><td>0: He</td><td>1: shot</td><td>2: the</td><td>3: elephant</td><td>4: in</td><td>5: his</td><td>6: pyjamas</td></tr>\n",
       "<tr><td>0: He</td><td style=\"border:solid;\" bgcolor=\"white\"><font color=\"black\">Subj: 0.00</font></td><td style=\"border:solid;\" bgcolor=\"white\"></td><td style=\"border:solid;\" bgcolor=\"white\"></td><td style=\"border:solid;\" bgcolor=\"white\"></td><td style=\"border:solid;\" bgcolor=\"white\"></td><td style=\"border:solid;\" bgcolor=\"white\"></td><td style=\"border:solid;\" bgcolor=\"white\"></td></tr>\n",
       "<tr><td>1: shot</td><td style=\"border:none;\" bgcolor=\"white\"></td><td style=\"border:solid;\" bgcolor=\"white\"><font color=\"blue\">Verb: 0.00</font></td><td style=\"border:solid;\" bgcolor=\"white\"></td><td style=\"border:solid;\" bgcolor=\"white\"></td><td style=\"border:solid;\" bgcolor=\"white\"></td><td style=\"border:solid;\" bgcolor=\"white\"></td><td style=\"border:solid;\" bgcolor=\"white\"></td></tr>\n",
       "<tr><td>2: the</td><td style=\"border:none;\" bgcolor=\"white\"></td><td style=\"border:none;\" bgcolor=\"white\"></td><td style=\"border:solid;\" bgcolor=\"#C3C3C3\"></td><td style=\"border:solid;\" bgcolor=\"white\"></td><td style=\"border:solid;\" bgcolor=\"white\"></td><td style=\"border:solid;\" bgcolor=\"white\"></td><td style=\"border:solid;\" bgcolor=\"white\"></td></tr>\n",
       "<tr><td>3: elephant</td><td style=\"border:none;\" bgcolor=\"white\"></td><td style=\"border:none;\" bgcolor=\"white\"></td><td style=\"border:none;\" bgcolor=\"white\"></td><td style=\"border:solid;\" bgcolor=\"white\"></td><td style=\"border:solid;\" bgcolor=\"white\"></td><td style=\"border:solid;\" bgcolor=\"white\"></td><td style=\"border:solid;\" bgcolor=\"white\"></td></tr>\n",
       "<tr><td>4: in</td><td style=\"border:none;\" bgcolor=\"white\"></td><td style=\"border:none;\" bgcolor=\"white\"></td><td style=\"border:none;\" bgcolor=\"white\"></td><td style=\"border:none;\" bgcolor=\"white\"></td><td style=\"border:solid;\" bgcolor=\"white\"></td><td style=\"border:solid;\" bgcolor=\"white\"></td><td style=\"border:solid;\" bgcolor=\"white\"></td></tr>\n",
       "<tr><td>5: his</td><td style=\"border:none;\" bgcolor=\"white\"></td><td style=\"border:none;\" bgcolor=\"white\"></td><td style=\"border:none;\" bgcolor=\"white\"></td><td style=\"border:none;\" bgcolor=\"white\"></td><td style=\"border:none;\" bgcolor=\"white\"></td><td style=\"border:solid;\" bgcolor=\"white\"></td><td style=\"border:solid;\" bgcolor=\"white\"></td></tr>\n",
       "<tr><td>6: pyjamas</td><td style=\"border:none;\" bgcolor=\"white\"></td><td style=\"border:none;\" bgcolor=\"white\"></td><td style=\"border:none;\" bgcolor=\"white\"></td><td style=\"border:none;\" bgcolor=\"white\"></td><td style=\"border:none;\" bgcolor=\"white\"></td><td style=\"border:none;\" bgcolor=\"white\"></td><td style=\"border:solid;\" bgcolor=\"white\"></td></tr></table> 6 / 112</div>\n",
       "<div class=\"item\"><table><tr><td></td><td>0: He</td><td>1: shot</td><td>2: the</td><td>3: elephant</td><td>4: in</td><td>5: his</td><td>6: pyjamas</td></tr>\n",
       "<tr><td>0: He</td><td style=\"border:solid;\" bgcolor=\"white\"><font color=\"black\">Subj: 0.00</font></td><td style=\"border:solid;\" bgcolor=\"white\"></td><td style=\"border:solid;\" bgcolor=\"white\"></td><td style=\"border:solid;\" bgcolor=\"white\"></td><td style=\"border:solid;\" bgcolor=\"white\"></td><td style=\"border:solid;\" bgcolor=\"white\"></td><td style=\"border:solid;\" bgcolor=\"white\"></td></tr>\n",
       "<tr><td>1: shot</td><td style=\"border:none;\" bgcolor=\"white\"></td><td style=\"border:solid;\" bgcolor=\"white\"><font color=\"black\">Verb: 0.00</font></td><td style=\"border:solid;\" bgcolor=\"white\"></td><td style=\"border:solid;\" bgcolor=\"white\"></td><td style=\"border:solid;\" bgcolor=\"white\"></td><td style=\"border:solid;\" bgcolor=\"white\"></td><td style=\"border:solid;\" bgcolor=\"white\"></td></tr>\n",
       "<tr><td>2: the</td><td style=\"border:none;\" bgcolor=\"white\"></td><td style=\"border:none;\" bgcolor=\"white\"></td><td style=\"border:solid;\" bgcolor=\"#C3C3C3\"><font color=\"blue\">Obj_5: 0.00</font></td><td style=\"border:solid;\" bgcolor=\"white\"></td><td style=\"border:solid;\" bgcolor=\"white\"></td><td style=\"border:solid;\" bgcolor=\"white\"></td><td style=\"border:solid;\" bgcolor=\"white\"></td></tr>\n",
       "<tr><td>3: elephant</td><td style=\"border:none;\" bgcolor=\"white\"></td><td style=\"border:none;\" bgcolor=\"white\"></td><td style=\"border:none;\" bgcolor=\"white\"></td><td style=\"border:solid;\" bgcolor=\"white\"></td><td style=\"border:solid;\" bgcolor=\"white\"></td><td style=\"border:solid;\" bgcolor=\"white\"></td><td style=\"border:solid;\" bgcolor=\"white\"></td></tr>\n",
       "<tr><td>4: in</td><td style=\"border:none;\" bgcolor=\"white\"></td><td style=\"border:none;\" bgcolor=\"white\"></td><td style=\"border:none;\" bgcolor=\"white\"></td><td style=\"border:none;\" bgcolor=\"white\"></td><td style=\"border:solid;\" bgcolor=\"white\"></td><td style=\"border:solid;\" bgcolor=\"white\"></td><td style=\"border:solid;\" bgcolor=\"white\"></td></tr>\n",
       "<tr><td>5: his</td><td style=\"border:none;\" bgcolor=\"white\"></td><td style=\"border:none;\" bgcolor=\"white\"></td><td style=\"border:none;\" bgcolor=\"white\"></td><td style=\"border:none;\" bgcolor=\"white\"></td><td style=\"border:none;\" bgcolor=\"white\"></td><td style=\"border:solid;\" bgcolor=\"white\"></td><td style=\"border:solid;\" bgcolor=\"white\"></td></tr>\n",
       "<tr><td>6: pyjamas</td><td style=\"border:none;\" bgcolor=\"white\"></td><td style=\"border:none;\" bgcolor=\"white\"></td><td style=\"border:none;\" bgcolor=\"white\"></td><td style=\"border:none;\" bgcolor=\"white\"></td><td style=\"border:none;\" bgcolor=\"white\"></td><td style=\"border:none;\" bgcolor=\"white\"></td><td style=\"border:solid;\" bgcolor=\"white\"></td></tr></table> 7 / 112</div>\n",
       "<div class=\"item\"><table><tr><td></td><td>0: He</td><td>1: shot</td><td>2: the</td><td>3: elephant</td><td>4: in</td><td>5: his</td><td>6: pyjamas</td></tr>\n",
       "<tr><td>0: He</td><td style=\"border:solid;\" bgcolor=\"white\"><font color=\"black\">Subj: 0.00</font></td><td style=\"border:solid;\" bgcolor=\"white\"></td><td style=\"border:solid;\" bgcolor=\"white\"></td><td style=\"border:solid;\" bgcolor=\"white\"></td><td style=\"border:solid;\" bgcolor=\"white\"></td><td style=\"border:solid;\" bgcolor=\"white\"></td><td style=\"border:solid;\" bgcolor=\"white\"></td></tr>\n",
       "<tr><td>1: shot</td><td style=\"border:none;\" bgcolor=\"white\"></td><td style=\"border:solid;\" bgcolor=\"white\"><font color=\"black\">Verb: 0.00</font></td><td style=\"border:solid;\" bgcolor=\"white\"></td><td style=\"border:solid;\" bgcolor=\"white\"></td><td style=\"border:solid;\" bgcolor=\"white\"></td><td style=\"border:solid;\" bgcolor=\"white\"></td><td style=\"border:solid;\" bgcolor=\"white\"></td></tr>\n",
       "<tr><td>2: the</td><td style=\"border:none;\" bgcolor=\"white\"></td><td style=\"border:none;\" bgcolor=\"white\"></td><td style=\"border:solid;\" bgcolor=\"#C3C3C3\"><font color=\"black\">Obj_5: 0.00</font>, <font color=\"blue\">Obj_8: 0.00</font></td><td style=\"border:solid;\" bgcolor=\"white\"></td><td style=\"border:solid;\" bgcolor=\"white\"></td><td style=\"border:solid;\" bgcolor=\"white\"></td><td style=\"border:solid;\" bgcolor=\"white\"></td></tr>\n",
       "<tr><td>3: elephant</td><td style=\"border:none;\" bgcolor=\"white\"></td><td style=\"border:none;\" bgcolor=\"white\"></td><td style=\"border:none;\" bgcolor=\"white\"></td><td style=\"border:solid;\" bgcolor=\"white\"></td><td style=\"border:solid;\" bgcolor=\"white\"></td><td style=\"border:solid;\" bgcolor=\"white\"></td><td style=\"border:solid;\" bgcolor=\"white\"></td></tr>\n",
       "<tr><td>4: in</td><td style=\"border:none;\" bgcolor=\"white\"></td><td style=\"border:none;\" bgcolor=\"white\"></td><td style=\"border:none;\" bgcolor=\"white\"></td><td style=\"border:none;\" bgcolor=\"white\"></td><td style=\"border:solid;\" bgcolor=\"white\"></td><td style=\"border:solid;\" bgcolor=\"white\"></td><td style=\"border:solid;\" bgcolor=\"white\"></td></tr>\n",
       "<tr><td>5: his</td><td style=\"border:none;\" bgcolor=\"white\"></td><td style=\"border:none;\" bgcolor=\"white\"></td><td style=\"border:none;\" bgcolor=\"white\"></td><td style=\"border:none;\" bgcolor=\"white\"></td><td style=\"border:none;\" bgcolor=\"white\"></td><td style=\"border:solid;\" bgcolor=\"white\"></td><td style=\"border:solid;\" bgcolor=\"white\"></td></tr>\n",
       "<tr><td>6: pyjamas</td><td style=\"border:none;\" bgcolor=\"white\"></td><td style=\"border:none;\" bgcolor=\"white\"></td><td style=\"border:none;\" bgcolor=\"white\"></td><td style=\"border:none;\" bgcolor=\"white\"></td><td style=\"border:none;\" bgcolor=\"white\"></td><td style=\"border:none;\" bgcolor=\"white\"></td><td style=\"border:solid;\" bgcolor=\"white\"></td></tr></table> 8 / 112</div>\n",
       "<div class=\"item\"><table><tr><td></td><td>0: He</td><td>1: shot</td><td>2: the</td><td>3: elephant</td><td>4: in</td><td>5: his</td><td>6: pyjamas</td></tr>\n",
       "<tr><td>0: He</td><td style=\"border:solid;\" bgcolor=\"white\"><font color=\"black\">Subj: 0.00</font></td><td style=\"border:solid;\" bgcolor=\"white\"></td><td style=\"border:solid;\" bgcolor=\"white\"></td><td style=\"border:solid;\" bgcolor=\"white\"></td><td style=\"border:solid;\" bgcolor=\"white\"></td><td style=\"border:solid;\" bgcolor=\"white\"></td><td style=\"border:solid;\" bgcolor=\"white\"></td></tr>\n",
       "<tr><td>1: shot</td><td style=\"border:none;\" bgcolor=\"white\"></td><td style=\"border:solid;\" bgcolor=\"white\"><font color=\"black\">Verb: 0.00</font></td><td style=\"border:solid;\" bgcolor=\"white\"></td><td style=\"border:solid;\" bgcolor=\"white\"></td><td style=\"border:solid;\" bgcolor=\"white\"></td><td style=\"border:solid;\" bgcolor=\"white\"></td><td style=\"border:solid;\" bgcolor=\"white\"></td></tr>\n",
       "<tr><td>2: the</td><td style=\"border:none;\" bgcolor=\"white\"></td><td style=\"border:none;\" bgcolor=\"white\"></td><td style=\"border:solid;\" bgcolor=\"white\"><font color=\"black\">Obj_5: 0.00</font>, <font color=\"blue\">Obj_8: 0.00</font></td><td style=\"border:solid;\" bgcolor=\"white\"></td><td style=\"border:solid;\" bgcolor=\"white\"></td><td style=\"border:solid;\" bgcolor=\"white\"></td><td style=\"border:solid;\" bgcolor=\"white\"></td></tr>\n",
       "<tr><td>3: elephant</td><td style=\"border:none;\" bgcolor=\"white\"></td><td style=\"border:none;\" bgcolor=\"white\"></td><td style=\"border:none;\" bgcolor=\"white\"></td><td style=\"border:solid;\" bgcolor=\"#C3C3C3\"></td><td style=\"border:solid;\" bgcolor=\"white\"></td><td style=\"border:solid;\" bgcolor=\"white\"></td><td style=\"border:solid;\" bgcolor=\"white\"></td></tr>\n",
       "<tr><td>4: in</td><td style=\"border:none;\" bgcolor=\"white\"></td><td style=\"border:none;\" bgcolor=\"white\"></td><td style=\"border:none;\" bgcolor=\"white\"></td><td style=\"border:none;\" bgcolor=\"white\"></td><td style=\"border:solid;\" bgcolor=\"white\"></td><td style=\"border:solid;\" bgcolor=\"white\"></td><td style=\"border:solid;\" bgcolor=\"white\"></td></tr>\n",
       "<tr><td>5: his</td><td style=\"border:none;\" bgcolor=\"white\"></td><td style=\"border:none;\" bgcolor=\"white\"></td><td style=\"border:none;\" bgcolor=\"white\"></td><td style=\"border:none;\" bgcolor=\"white\"></td><td style=\"border:none;\" bgcolor=\"white\"></td><td style=\"border:solid;\" bgcolor=\"white\"></td><td style=\"border:solid;\" bgcolor=\"white\"></td></tr>\n",
       "<tr><td>6: pyjamas</td><td style=\"border:none;\" bgcolor=\"white\"></td><td style=\"border:none;\" bgcolor=\"white\"></td><td style=\"border:none;\" bgcolor=\"white\"></td><td style=\"border:none;\" bgcolor=\"white\"></td><td style=\"border:none;\" bgcolor=\"white\"></td><td style=\"border:none;\" bgcolor=\"white\"></td><td style=\"border:solid;\" bgcolor=\"white\"></td></tr></table> 9 / 112</div>\n",
       "<div class=\"item\"><table><tr><td></td><td>0: He</td><td>1: shot</td><td>2: the</td><td>3: elephant</td><td>4: in</td><td>5: his</td><td>6: pyjamas</td></tr>\n",
       "<tr><td>0: He</td><td style=\"border:solid;\" bgcolor=\"white\"><font color=\"black\">Subj: 0.00</font></td><td style=\"border:solid;\" bgcolor=\"white\"></td><td style=\"border:solid;\" bgcolor=\"white\"></td><td style=\"border:solid;\" bgcolor=\"white\"></td><td style=\"border:solid;\" bgcolor=\"white\"></td><td style=\"border:solid;\" bgcolor=\"white\"></td><td style=\"border:solid;\" bgcolor=\"white\"></td></tr>\n",
       "<tr><td>1: shot</td><td style=\"border:none;\" bgcolor=\"white\"></td><td style=\"border:solid;\" bgcolor=\"white\"><font color=\"black\">Verb: 0.00</font></td><td style=\"border:solid;\" bgcolor=\"white\"></td><td style=\"border:solid;\" bgcolor=\"white\"></td><td style=\"border:solid;\" bgcolor=\"white\"></td><td style=\"border:solid;\" bgcolor=\"white\"></td><td style=\"border:solid;\" bgcolor=\"white\"></td></tr>\n",
       "<tr><td>2: the</td><td style=\"border:none;\" bgcolor=\"white\"></td><td style=\"border:none;\" bgcolor=\"white\"></td><td style=\"border:solid;\" bgcolor=\"white\"><font color=\"black\">Obj_5: 0.00</font>, <font color=\"black\">Obj_8: 0.00</font></td><td style=\"border:solid;\" bgcolor=\"white\"></td><td style=\"border:solid;\" bgcolor=\"white\"></td><td style=\"border:solid;\" bgcolor=\"white\"></td><td style=\"border:solid;\" bgcolor=\"white\"></td></tr>\n",
       "<tr><td>3: elephant</td><td style=\"border:none;\" bgcolor=\"white\"></td><td style=\"border:none;\" bgcolor=\"white\"></td><td style=\"border:none;\" bgcolor=\"white\"></td><td style=\"border:solid;\" bgcolor=\"#C3C3C3\"><font color=\"blue\">Obj_6: 0.00</font></td><td style=\"border:solid;\" bgcolor=\"white\"></td><td style=\"border:solid;\" bgcolor=\"white\"></td><td style=\"border:solid;\" bgcolor=\"white\"></td></tr>\n",
       "<tr><td>4: in</td><td style=\"border:none;\" bgcolor=\"white\"></td><td style=\"border:none;\" bgcolor=\"white\"></td><td style=\"border:none;\" bgcolor=\"white\"></td><td style=\"border:none;\" bgcolor=\"white\"></td><td style=\"border:solid;\" bgcolor=\"white\"></td><td style=\"border:solid;\" bgcolor=\"white\"></td><td style=\"border:solid;\" bgcolor=\"white\"></td></tr>\n",
       "<tr><td>5: his</td><td style=\"border:none;\" bgcolor=\"white\"></td><td style=\"border:none;\" bgcolor=\"white\"></td><td style=\"border:none;\" bgcolor=\"white\"></td><td style=\"border:none;\" bgcolor=\"white\"></td><td style=\"border:none;\" bgcolor=\"white\"></td><td style=\"border:solid;\" bgcolor=\"white\"></td><td style=\"border:solid;\" bgcolor=\"white\"></td></tr>\n",
       "<tr><td>6: pyjamas</td><td style=\"border:none;\" bgcolor=\"white\"></td><td style=\"border:none;\" bgcolor=\"white\"></td><td style=\"border:none;\" bgcolor=\"white\"></td><td style=\"border:none;\" bgcolor=\"white\"></td><td style=\"border:none;\" bgcolor=\"white\"></td><td style=\"border:none;\" bgcolor=\"white\"></td><td style=\"border:solid;\" bgcolor=\"white\"></td></tr></table> 10 / 112</div>\n",
       "<div class=\"item\"><table><tr><td></td><td>0: He</td><td>1: shot</td><td>2: the</td><td>3: elephant</td><td>4: in</td><td>5: his</td><td>6: pyjamas</td></tr>\n",
       "<tr><td>0: He</td><td style=\"border:solid;\" bgcolor=\"white\"><font color=\"black\">Subj: 0.00</font></td><td style=\"border:solid;\" bgcolor=\"white\"></td><td style=\"border:solid;\" bgcolor=\"white\"></td><td style=\"border:solid;\" bgcolor=\"white\"></td><td style=\"border:solid;\" bgcolor=\"white\"></td><td style=\"border:solid;\" bgcolor=\"white\"></td><td style=\"border:solid;\" bgcolor=\"white\"></td></tr>\n",
       "<tr><td>1: shot</td><td style=\"border:none;\" bgcolor=\"white\"></td><td style=\"border:solid;\" bgcolor=\"white\"><font color=\"black\">Verb: 0.00</font></td><td style=\"border:solid;\" bgcolor=\"white\"></td><td style=\"border:solid;\" bgcolor=\"white\"></td><td style=\"border:solid;\" bgcolor=\"white\"></td><td style=\"border:solid;\" bgcolor=\"white\"></td><td style=\"border:solid;\" bgcolor=\"white\"></td></tr>\n",
       "<tr><td>2: the</td><td style=\"border:none;\" bgcolor=\"white\"></td><td style=\"border:none;\" bgcolor=\"white\"></td><td style=\"border:solid;\" bgcolor=\"white\"><font color=\"black\">Obj_5: 0.00</font>, <font color=\"black\">Obj_8: 0.00</font></td><td style=\"border:solid;\" bgcolor=\"white\"></td><td style=\"border:solid;\" bgcolor=\"white\"></td><td style=\"border:solid;\" bgcolor=\"white\"></td><td style=\"border:solid;\" bgcolor=\"white\"></td></tr>\n",
       "<tr><td>3: elephant</td><td style=\"border:none;\" bgcolor=\"white\"></td><td style=\"border:none;\" bgcolor=\"white\"></td><td style=\"border:none;\" bgcolor=\"white\"></td><td style=\"border:solid;\" bgcolor=\"#C3C3C3\"><font color=\"black\">Obj_6: 0.00</font>, <font color=\"blue\">Obj_7_9: 0.00</font></td><td style=\"border:solid;\" bgcolor=\"white\"></td><td style=\"border:solid;\" bgcolor=\"white\"></td><td style=\"border:solid;\" bgcolor=\"white\"></td></tr>\n",
       "<tr><td>4: in</td><td style=\"border:none;\" bgcolor=\"white\"></td><td style=\"border:none;\" bgcolor=\"white\"></td><td style=\"border:none;\" bgcolor=\"white\"></td><td style=\"border:none;\" bgcolor=\"white\"></td><td style=\"border:solid;\" bgcolor=\"white\"></td><td style=\"border:solid;\" bgcolor=\"white\"></td><td style=\"border:solid;\" bgcolor=\"white\"></td></tr>\n",
       "<tr><td>5: his</td><td style=\"border:none;\" bgcolor=\"white\"></td><td style=\"border:none;\" bgcolor=\"white\"></td><td style=\"border:none;\" bgcolor=\"white\"></td><td style=\"border:none;\" bgcolor=\"white\"></td><td style=\"border:none;\" bgcolor=\"white\"></td><td style=\"border:solid;\" bgcolor=\"white\"></td><td style=\"border:solid;\" bgcolor=\"white\"></td></tr>\n",
       "<tr><td>6: pyjamas</td><td style=\"border:none;\" bgcolor=\"white\"></td><td style=\"border:none;\" bgcolor=\"white\"></td><td style=\"border:none;\" bgcolor=\"white\"></td><td style=\"border:none;\" bgcolor=\"white\"></td><td style=\"border:none;\" bgcolor=\"white\"></td><td style=\"border:none;\" bgcolor=\"white\"></td><td style=\"border:solid;\" bgcolor=\"white\"></td></tr></table> 11 / 112</div>\n",
       "<div class=\"item\"><table><tr><td></td><td>0: He</td><td>1: shot</td><td>2: the</td><td>3: elephant</td><td>4: in</td><td>5: his</td><td>6: pyjamas</td></tr>\n",
       "<tr><td>0: He</td><td style=\"border:solid;\" bgcolor=\"white\"><font color=\"black\">Subj: 0.00</font></td><td style=\"border:solid;\" bgcolor=\"white\"></td><td style=\"border:solid;\" bgcolor=\"white\"></td><td style=\"border:solid;\" bgcolor=\"white\"></td><td style=\"border:solid;\" bgcolor=\"white\"></td><td style=\"border:solid;\" bgcolor=\"white\"></td><td style=\"border:solid;\" bgcolor=\"white\"></td></tr>\n",
       "<tr><td>1: shot</td><td style=\"border:none;\" bgcolor=\"white\"></td><td style=\"border:solid;\" bgcolor=\"white\"><font color=\"black\">Verb: 0.00</font></td><td style=\"border:solid;\" bgcolor=\"white\"></td><td style=\"border:solid;\" bgcolor=\"white\"></td><td style=\"border:solid;\" bgcolor=\"white\"></td><td style=\"border:solid;\" bgcolor=\"white\"></td><td style=\"border:solid;\" bgcolor=\"white\"></td></tr>\n",
       "<tr><td>2: the</td><td style=\"border:none;\" bgcolor=\"white\"></td><td style=\"border:none;\" bgcolor=\"white\"></td><td style=\"border:solid;\" bgcolor=\"white\"><font color=\"black\">Obj_5: 0.00</font>, <font color=\"black\">Obj_8: 0.00</font></td><td style=\"border:solid;\" bgcolor=\"white\"></td><td style=\"border:solid;\" bgcolor=\"white\"></td><td style=\"border:solid;\" bgcolor=\"white\"></td><td style=\"border:solid;\" bgcolor=\"white\"></td></tr>\n",
       "<tr><td>3: elephant</td><td style=\"border:none;\" bgcolor=\"white\"></td><td style=\"border:none;\" bgcolor=\"white\"></td><td style=\"border:none;\" bgcolor=\"white\"></td><td style=\"border:solid;\" bgcolor=\"white\"><font color=\"black\">Obj_6: 0.00</font>, <font color=\"blue\">Obj_7_9: 0.00</font></td><td style=\"border:solid;\" bgcolor=\"white\"></td><td style=\"border:solid;\" bgcolor=\"white\"></td><td style=\"border:solid;\" bgcolor=\"white\"></td></tr>\n",
       "<tr><td>4: in</td><td style=\"border:none;\" bgcolor=\"white\"></td><td style=\"border:none;\" bgcolor=\"white\"></td><td style=\"border:none;\" bgcolor=\"white\"></td><td style=\"border:none;\" bgcolor=\"white\"></td><td style=\"border:solid;\" bgcolor=\"#C3C3C3\"></td><td style=\"border:solid;\" bgcolor=\"white\"></td><td style=\"border:solid;\" bgcolor=\"white\"></td></tr>\n",
       "<tr><td>5: his</td><td style=\"border:none;\" bgcolor=\"white\"></td><td style=\"border:none;\" bgcolor=\"white\"></td><td style=\"border:none;\" bgcolor=\"white\"></td><td style=\"border:none;\" bgcolor=\"white\"></td><td style=\"border:none;\" bgcolor=\"white\"></td><td style=\"border:solid;\" bgcolor=\"white\"></td><td style=\"border:solid;\" bgcolor=\"white\"></td></tr>\n",
       "<tr><td>6: pyjamas</td><td style=\"border:none;\" bgcolor=\"white\"></td><td style=\"border:none;\" bgcolor=\"white\"></td><td style=\"border:none;\" bgcolor=\"white\"></td><td style=\"border:none;\" bgcolor=\"white\"></td><td style=\"border:none;\" bgcolor=\"white\"></td><td style=\"border:none;\" bgcolor=\"white\"></td><td style=\"border:solid;\" bgcolor=\"white\"></td></tr></table> 12 / 112</div>\n",
       "<div class=\"item\"><table><tr><td></td><td>0: He</td><td>1: shot</td><td>2: the</td><td>3: elephant</td><td>4: in</td><td>5: his</td><td>6: pyjamas</td></tr>\n",
       "<tr><td>0: He</td><td style=\"border:solid;\" bgcolor=\"white\"><font color=\"black\">Subj: 0.00</font></td><td style=\"border:solid;\" bgcolor=\"white\"></td><td style=\"border:solid;\" bgcolor=\"white\"></td><td style=\"border:solid;\" bgcolor=\"white\"></td><td style=\"border:solid;\" bgcolor=\"white\"></td><td style=\"border:solid;\" bgcolor=\"white\"></td><td style=\"border:solid;\" bgcolor=\"white\"></td></tr>\n",
       "<tr><td>1: shot</td><td style=\"border:none;\" bgcolor=\"white\"></td><td style=\"border:solid;\" bgcolor=\"white\"><font color=\"black\">Verb: 0.00</font></td><td style=\"border:solid;\" bgcolor=\"white\"></td><td style=\"border:solid;\" bgcolor=\"white\"></td><td style=\"border:solid;\" bgcolor=\"white\"></td><td style=\"border:solid;\" bgcolor=\"white\"></td><td style=\"border:solid;\" bgcolor=\"white\"></td></tr>\n",
       "<tr><td>2: the</td><td style=\"border:none;\" bgcolor=\"white\"></td><td style=\"border:none;\" bgcolor=\"white\"></td><td style=\"border:solid;\" bgcolor=\"white\"><font color=\"black\">Obj_5: 0.00</font>, <font color=\"black\">Obj_8: 0.00</font></td><td style=\"border:solid;\" bgcolor=\"white\"></td><td style=\"border:solid;\" bgcolor=\"white\"></td><td style=\"border:solid;\" bgcolor=\"white\"></td><td style=\"border:solid;\" bgcolor=\"white\"></td></tr>\n",
       "<tr><td>3: elephant</td><td style=\"border:none;\" bgcolor=\"white\"></td><td style=\"border:none;\" bgcolor=\"white\"></td><td style=\"border:none;\" bgcolor=\"white\"></td><td style=\"border:solid;\" bgcolor=\"white\"><font color=\"black\">Obj_6: 0.00</font>, <font color=\"black\">Obj_7_9: 0.00</font></td><td style=\"border:solid;\" bgcolor=\"white\"></td><td style=\"border:solid;\" bgcolor=\"white\"></td><td style=\"border:solid;\" bgcolor=\"white\"></td></tr>\n",
       "<tr><td>4: in</td><td style=\"border:none;\" bgcolor=\"white\"></td><td style=\"border:none;\" bgcolor=\"white\"></td><td style=\"border:none;\" bgcolor=\"white\"></td><td style=\"border:none;\" bgcolor=\"white\"></td><td style=\"border:solid;\" bgcolor=\"#C3C3C3\"><font color=\"blue\">PP_2: 0.00</font></td><td style=\"border:solid;\" bgcolor=\"white\"></td><td style=\"border:solid;\" bgcolor=\"white\"></td></tr>\n",
       "<tr><td>5: his</td><td style=\"border:none;\" bgcolor=\"white\"></td><td style=\"border:none;\" bgcolor=\"white\"></td><td style=\"border:none;\" bgcolor=\"white\"></td><td style=\"border:none;\" bgcolor=\"white\"></td><td style=\"border:none;\" bgcolor=\"white\"></td><td style=\"border:solid;\" bgcolor=\"white\"></td><td style=\"border:solid;\" bgcolor=\"white\"></td></tr>\n",
       "<tr><td>6: pyjamas</td><td style=\"border:none;\" bgcolor=\"white\"></td><td style=\"border:none;\" bgcolor=\"white\"></td><td style=\"border:none;\" bgcolor=\"white\"></td><td style=\"border:none;\" bgcolor=\"white\"></td><td style=\"border:none;\" bgcolor=\"white\"></td><td style=\"border:none;\" bgcolor=\"white\"></td><td style=\"border:solid;\" bgcolor=\"white\"></td></tr></table> 13 / 112</div>\n",
       "<div class=\"item\"><table><tr><td></td><td>0: He</td><td>1: shot</td><td>2: the</td><td>3: elephant</td><td>4: in</td><td>5: his</td><td>6: pyjamas</td></tr>\n",
       "<tr><td>0: He</td><td style=\"border:solid;\" bgcolor=\"white\"><font color=\"black\">Subj: 0.00</font></td><td style=\"border:solid;\" bgcolor=\"white\"></td><td style=\"border:solid;\" bgcolor=\"white\"></td><td style=\"border:solid;\" bgcolor=\"white\"></td><td style=\"border:solid;\" bgcolor=\"white\"></td><td style=\"border:solid;\" bgcolor=\"white\"></td><td style=\"border:solid;\" bgcolor=\"white\"></td></tr>\n",
       "<tr><td>1: shot</td><td style=\"border:none;\" bgcolor=\"white\"></td><td style=\"border:solid;\" bgcolor=\"white\"><font color=\"black\">Verb: 0.00</font></td><td style=\"border:solid;\" bgcolor=\"white\"></td><td style=\"border:solid;\" bgcolor=\"white\"></td><td style=\"border:solid;\" bgcolor=\"white\"></td><td style=\"border:solid;\" bgcolor=\"white\"></td><td style=\"border:solid;\" bgcolor=\"white\"></td></tr>\n",
       "<tr><td>2: the</td><td style=\"border:none;\" bgcolor=\"white\"></td><td style=\"border:none;\" bgcolor=\"white\"></td><td style=\"border:solid;\" bgcolor=\"white\"><font color=\"black\">Obj_5: 0.00</font>, <font color=\"black\">Obj_8: 0.00</font></td><td style=\"border:solid;\" bgcolor=\"white\"></td><td style=\"border:solid;\" bgcolor=\"white\"></td><td style=\"border:solid;\" bgcolor=\"white\"></td><td style=\"border:solid;\" bgcolor=\"white\"></td></tr>\n",
       "<tr><td>3: elephant</td><td style=\"border:none;\" bgcolor=\"white\"></td><td style=\"border:none;\" bgcolor=\"white\"></td><td style=\"border:none;\" bgcolor=\"white\"></td><td style=\"border:solid;\" bgcolor=\"white\"><font color=\"black\">Obj_6: 0.00</font>, <font color=\"black\">Obj_7_9: 0.00</font></td><td style=\"border:solid;\" bgcolor=\"white\"></td><td style=\"border:solid;\" bgcolor=\"white\"></td><td style=\"border:solid;\" bgcolor=\"white\"></td></tr>\n",
       "<tr><td>4: in</td><td style=\"border:none;\" bgcolor=\"white\"></td><td style=\"border:none;\" bgcolor=\"white\"></td><td style=\"border:none;\" bgcolor=\"white\"></td><td style=\"border:none;\" bgcolor=\"white\"></td><td style=\"border:solid;\" bgcolor=\"white\"><font color=\"blue\">PP_2: 0.00</font></td><td style=\"border:solid;\" bgcolor=\"white\"></td><td style=\"border:solid;\" bgcolor=\"white\"></td></tr>\n",
       "<tr><td>5: his</td><td style=\"border:none;\" bgcolor=\"white\"></td><td style=\"border:none;\" bgcolor=\"white\"></td><td style=\"border:none;\" bgcolor=\"white\"></td><td style=\"border:none;\" bgcolor=\"white\"></td><td style=\"border:none;\" bgcolor=\"white\"></td><td style=\"border:solid;\" bgcolor=\"#C3C3C3\"></td><td style=\"border:solid;\" bgcolor=\"white\"></td></tr>\n",
       "<tr><td>6: pyjamas</td><td style=\"border:none;\" bgcolor=\"white\"></td><td style=\"border:none;\" bgcolor=\"white\"></td><td style=\"border:none;\" bgcolor=\"white\"></td><td style=\"border:none;\" bgcolor=\"white\"></td><td style=\"border:none;\" bgcolor=\"white\"></td><td style=\"border:none;\" bgcolor=\"white\"></td><td style=\"border:solid;\" bgcolor=\"white\"></td></tr></table> 14 / 112</div>\n",
       "<div class=\"item\"><table><tr><td></td><td>0: He</td><td>1: shot</td><td>2: the</td><td>3: elephant</td><td>4: in</td><td>5: his</td><td>6: pyjamas</td></tr>\n",
       "<tr><td>0: He</td><td style=\"border:solid;\" bgcolor=\"white\"><font color=\"black\">Subj: 0.00</font></td><td style=\"border:solid;\" bgcolor=\"white\"></td><td style=\"border:solid;\" bgcolor=\"white\"></td><td style=\"border:solid;\" bgcolor=\"white\"></td><td style=\"border:solid;\" bgcolor=\"white\"></td><td style=\"border:solid;\" bgcolor=\"white\"></td><td style=\"border:solid;\" bgcolor=\"white\"></td></tr>\n",
       "<tr><td>1: shot</td><td style=\"border:none;\" bgcolor=\"white\"></td><td style=\"border:solid;\" bgcolor=\"white\"><font color=\"black\">Verb: 0.00</font></td><td style=\"border:solid;\" bgcolor=\"white\"></td><td style=\"border:solid;\" bgcolor=\"white\"></td><td style=\"border:solid;\" bgcolor=\"white\"></td><td style=\"border:solid;\" bgcolor=\"white\"></td><td style=\"border:solid;\" bgcolor=\"white\"></td></tr>\n",
       "<tr><td>2: the</td><td style=\"border:none;\" bgcolor=\"white\"></td><td style=\"border:none;\" bgcolor=\"white\"></td><td style=\"border:solid;\" bgcolor=\"white\"><font color=\"black\">Obj_5: 0.00</font>, <font color=\"black\">Obj_8: 0.00</font></td><td style=\"border:solid;\" bgcolor=\"white\"></td><td style=\"border:solid;\" bgcolor=\"white\"></td><td style=\"border:solid;\" bgcolor=\"white\"></td><td style=\"border:solid;\" bgcolor=\"white\"></td></tr>\n",
       "<tr><td>3: elephant</td><td style=\"border:none;\" bgcolor=\"white\"></td><td style=\"border:none;\" bgcolor=\"white\"></td><td style=\"border:none;\" bgcolor=\"white\"></td><td style=\"border:solid;\" bgcolor=\"white\"><font color=\"black\">Obj_6: 0.00</font>, <font color=\"black\">Obj_7_9: 0.00</font></td><td style=\"border:solid;\" bgcolor=\"white\"></td><td style=\"border:solid;\" bgcolor=\"white\"></td><td style=\"border:solid;\" bgcolor=\"white\"></td></tr>\n",
       "<tr><td>4: in</td><td style=\"border:none;\" bgcolor=\"white\"></td><td style=\"border:none;\" bgcolor=\"white\"></td><td style=\"border:none;\" bgcolor=\"white\"></td><td style=\"border:none;\" bgcolor=\"white\"></td><td style=\"border:solid;\" bgcolor=\"white\"><font color=\"black\">PP_2: 0.00</font></td><td style=\"border:solid;\" bgcolor=\"white\"></td><td style=\"border:solid;\" bgcolor=\"white\"></td></tr>\n",
       "<tr><td>5: his</td><td style=\"border:none;\" bgcolor=\"white\"></td><td style=\"border:none;\" bgcolor=\"white\"></td><td style=\"border:none;\" bgcolor=\"white\"></td><td style=\"border:none;\" bgcolor=\"white\"></td><td style=\"border:none;\" bgcolor=\"white\"></td><td style=\"border:solid;\" bgcolor=\"#C3C3C3\"><font color=\"blue\">PP_1_3: 0.00</font></td><td style=\"border:solid;\" bgcolor=\"white\"></td></tr>\n",
       "<tr><td>6: pyjamas</td><td style=\"border:none;\" bgcolor=\"white\"></td><td style=\"border:none;\" bgcolor=\"white\"></td><td style=\"border:none;\" bgcolor=\"white\"></td><td style=\"border:none;\" bgcolor=\"white\"></td><td style=\"border:none;\" bgcolor=\"white\"></td><td style=\"border:none;\" bgcolor=\"white\"></td><td style=\"border:solid;\" bgcolor=\"white\"></td></tr></table> 15 / 112</div>\n",
       "<div class=\"item\"><table><tr><td></td><td>0: He</td><td>1: shot</td><td>2: the</td><td>3: elephant</td><td>4: in</td><td>5: his</td><td>6: pyjamas</td></tr>\n",
       "<tr><td>0: He</td><td style=\"border:solid;\" bgcolor=\"white\"><font color=\"black\">Subj: 0.00</font></td><td style=\"border:solid;\" bgcolor=\"white\"></td><td style=\"border:solid;\" bgcolor=\"white\"></td><td style=\"border:solid;\" bgcolor=\"white\"></td><td style=\"border:solid;\" bgcolor=\"white\"></td><td style=\"border:solid;\" bgcolor=\"white\"></td><td style=\"border:solid;\" bgcolor=\"white\"></td></tr>\n",
       "<tr><td>1: shot</td><td style=\"border:none;\" bgcolor=\"white\"></td><td style=\"border:solid;\" bgcolor=\"white\"><font color=\"black\">Verb: 0.00</font></td><td style=\"border:solid;\" bgcolor=\"white\"></td><td style=\"border:solid;\" bgcolor=\"white\"></td><td style=\"border:solid;\" bgcolor=\"white\"></td><td style=\"border:solid;\" bgcolor=\"white\"></td><td style=\"border:solid;\" bgcolor=\"white\"></td></tr>\n",
       "<tr><td>2: the</td><td style=\"border:none;\" bgcolor=\"white\"></td><td style=\"border:none;\" bgcolor=\"white\"></td><td style=\"border:solid;\" bgcolor=\"white\"><font color=\"black\">Obj_5: 0.00</font>, <font color=\"black\">Obj_8: 0.00</font></td><td style=\"border:solid;\" bgcolor=\"white\"></td><td style=\"border:solid;\" bgcolor=\"white\"></td><td style=\"border:solid;\" bgcolor=\"white\"></td><td style=\"border:solid;\" bgcolor=\"white\"></td></tr>\n",
       "<tr><td>3: elephant</td><td style=\"border:none;\" bgcolor=\"white\"></td><td style=\"border:none;\" bgcolor=\"white\"></td><td style=\"border:none;\" bgcolor=\"white\"></td><td style=\"border:solid;\" bgcolor=\"white\"><font color=\"black\">Obj_6: 0.00</font>, <font color=\"black\">Obj_7_9: 0.00</font></td><td style=\"border:solid;\" bgcolor=\"white\"></td><td style=\"border:solid;\" bgcolor=\"white\"></td><td style=\"border:solid;\" bgcolor=\"white\"></td></tr>\n",
       "<tr><td>4: in</td><td style=\"border:none;\" bgcolor=\"white\"></td><td style=\"border:none;\" bgcolor=\"white\"></td><td style=\"border:none;\" bgcolor=\"white\"></td><td style=\"border:none;\" bgcolor=\"white\"></td><td style=\"border:solid;\" bgcolor=\"white\"><font color=\"black\">PP_2: 0.00</font></td><td style=\"border:solid;\" bgcolor=\"white\"></td><td style=\"border:solid;\" bgcolor=\"white\"></td></tr>\n",
       "<tr><td>5: his</td><td style=\"border:none;\" bgcolor=\"white\"></td><td style=\"border:none;\" bgcolor=\"white\"></td><td style=\"border:none;\" bgcolor=\"white\"></td><td style=\"border:none;\" bgcolor=\"white\"></td><td style=\"border:none;\" bgcolor=\"white\"></td><td style=\"border:solid;\" bgcolor=\"white\"><font color=\"blue\">PP_1_3: 0.00</font></td><td style=\"border:solid;\" bgcolor=\"white\"></td></tr>\n",
       "<tr><td>6: pyjamas</td><td style=\"border:none;\" bgcolor=\"white\"></td><td style=\"border:none;\" bgcolor=\"white\"></td><td style=\"border:none;\" bgcolor=\"white\"></td><td style=\"border:none;\" bgcolor=\"white\"></td><td style=\"border:none;\" bgcolor=\"white\"></td><td style=\"border:none;\" bgcolor=\"white\"></td><td style=\"border:solid;\" bgcolor=\"#C3C3C3\"></td></tr></table> 16 / 112</div>\n",
       "<div class=\"item\"><table><tr><td></td><td>0: He</td><td>1: shot</td><td>2: the</td><td>3: elephant</td><td>4: in</td><td>5: his</td><td>6: pyjamas</td></tr>\n",
       "<tr><td>0: He</td><td style=\"border:solid;\" bgcolor=\"white\"><font color=\"black\">Subj: 0.00</font></td><td style=\"border:solid;\" bgcolor=\"white\"></td><td style=\"border:solid;\" bgcolor=\"white\"></td><td style=\"border:solid;\" bgcolor=\"white\"></td><td style=\"border:solid;\" bgcolor=\"white\"></td><td style=\"border:solid;\" bgcolor=\"white\"></td><td style=\"border:solid;\" bgcolor=\"white\"></td></tr>\n",
       "<tr><td>1: shot</td><td style=\"border:none;\" bgcolor=\"white\"></td><td style=\"border:solid;\" bgcolor=\"white\"><font color=\"black\">Verb: 0.00</font></td><td style=\"border:solid;\" bgcolor=\"white\"></td><td style=\"border:solid;\" bgcolor=\"white\"></td><td style=\"border:solid;\" bgcolor=\"white\"></td><td style=\"border:solid;\" bgcolor=\"white\"></td><td style=\"border:solid;\" bgcolor=\"white\"></td></tr>\n",
       "<tr><td>2: the</td><td style=\"border:none;\" bgcolor=\"white\"></td><td style=\"border:none;\" bgcolor=\"white\"></td><td style=\"border:solid;\" bgcolor=\"white\"><font color=\"black\">Obj_5: 0.00</font>, <font color=\"black\">Obj_8: 0.00</font></td><td style=\"border:solid;\" bgcolor=\"white\"></td><td style=\"border:solid;\" bgcolor=\"white\"></td><td style=\"border:solid;\" bgcolor=\"white\"></td><td style=\"border:solid;\" bgcolor=\"white\"></td></tr>\n",
       "<tr><td>3: elephant</td><td style=\"border:none;\" bgcolor=\"white\"></td><td style=\"border:none;\" bgcolor=\"white\"></td><td style=\"border:none;\" bgcolor=\"white\"></td><td style=\"border:solid;\" bgcolor=\"white\"><font color=\"black\">Obj_6: 0.00</font>, <font color=\"black\">Obj_7_9: 0.00</font></td><td style=\"border:solid;\" bgcolor=\"white\"></td><td style=\"border:solid;\" bgcolor=\"white\"></td><td style=\"border:solid;\" bgcolor=\"white\"></td></tr>\n",
       "<tr><td>4: in</td><td style=\"border:none;\" bgcolor=\"white\"></td><td style=\"border:none;\" bgcolor=\"white\"></td><td style=\"border:none;\" bgcolor=\"white\"></td><td style=\"border:none;\" bgcolor=\"white\"></td><td style=\"border:solid;\" bgcolor=\"white\"><font color=\"black\">PP_2: 0.00</font></td><td style=\"border:solid;\" bgcolor=\"white\"></td><td style=\"border:solid;\" bgcolor=\"white\"></td></tr>\n",
       "<tr><td>5: his</td><td style=\"border:none;\" bgcolor=\"white\"></td><td style=\"border:none;\" bgcolor=\"white\"></td><td style=\"border:none;\" bgcolor=\"white\"></td><td style=\"border:none;\" bgcolor=\"white\"></td><td style=\"border:none;\" bgcolor=\"white\"></td><td style=\"border:solid;\" bgcolor=\"white\"><font color=\"black\">PP_1_3: 0.00</font></td><td style=\"border:solid;\" bgcolor=\"white\"></td></tr>\n",
       "<tr><td>6: pyjamas</td><td style=\"border:none;\" bgcolor=\"white\"></td><td style=\"border:none;\" bgcolor=\"white\"></td><td style=\"border:none;\" bgcolor=\"white\"></td><td style=\"border:none;\" bgcolor=\"white\"></td><td style=\"border:none;\" bgcolor=\"white\"></td><td style=\"border:none;\" bgcolor=\"white\"></td><td style=\"border:solid;\" bgcolor=\"#C3C3C3\"><font color=\"blue\">PP_1_4: 0.00</font></td></tr></table> 17 / 112</div>\n",
       "<div class=\"item\"><table><tr><td></td><td>0: He</td><td>1: shot</td><td>2: the</td><td>3: elephant</td><td>4: in</td><td>5: his</td><td>6: pyjamas</td></tr>\n",
       "<tr><td>0: He</td><td style=\"border:solid;\" bgcolor=\"#E1E1E1\"><font color=\"black\">Subj: 0.00</font></td><td style=\"border:solid;\" bgcolor=\"#C3C3C3\"></td><td style=\"border:solid;\" bgcolor=\"white\"></td><td style=\"border:solid;\" bgcolor=\"white\"></td><td style=\"border:solid;\" bgcolor=\"white\"></td><td style=\"border:solid;\" bgcolor=\"white\"></td><td style=\"border:solid;\" bgcolor=\"white\"></td></tr>\n",
       "<tr><td>1: shot</td><td style=\"border:none;\" bgcolor=\"white\"></td><td style=\"border:solid;\" bgcolor=\"#E1E1E1\"><font color=\"black\">Verb: 0.00</font></td><td style=\"border:solid;\" bgcolor=\"white\"></td><td style=\"border:solid;\" bgcolor=\"white\"></td><td style=\"border:solid;\" bgcolor=\"white\"></td><td style=\"border:solid;\" bgcolor=\"white\"></td><td style=\"border:solid;\" bgcolor=\"white\"></td></tr>\n",
       "<tr><td>2: the</td><td style=\"border:none;\" bgcolor=\"white\"></td><td style=\"border:none;\" bgcolor=\"white\"></td><td style=\"border:solid;\" bgcolor=\"white\"><font color=\"black\">Obj_5: 0.00</font>, <font color=\"black\">Obj_8: 0.00</font></td><td style=\"border:solid;\" bgcolor=\"white\"></td><td style=\"border:solid;\" bgcolor=\"white\"></td><td style=\"border:solid;\" bgcolor=\"white\"></td><td style=\"border:solid;\" bgcolor=\"white\"></td></tr>\n",
       "<tr><td>3: elephant</td><td style=\"border:none;\" bgcolor=\"white\"></td><td style=\"border:none;\" bgcolor=\"white\"></td><td style=\"border:none;\" bgcolor=\"white\"></td><td style=\"border:solid;\" bgcolor=\"white\"><font color=\"black\">Obj_6: 0.00</font>, <font color=\"black\">Obj_7_9: 0.00</font></td><td style=\"border:solid;\" bgcolor=\"white\"></td><td style=\"border:solid;\" bgcolor=\"white\"></td><td style=\"border:solid;\" bgcolor=\"white\"></td></tr>\n",
       "<tr><td>4: in</td><td style=\"border:none;\" bgcolor=\"white\"></td><td style=\"border:none;\" bgcolor=\"white\"></td><td style=\"border:none;\" bgcolor=\"white\"></td><td style=\"border:none;\" bgcolor=\"white\"></td><td style=\"border:solid;\" bgcolor=\"white\"><font color=\"black\">PP_2: 0.00</font></td><td style=\"border:solid;\" bgcolor=\"white\"></td><td style=\"border:solid;\" bgcolor=\"white\"></td></tr>\n",
       "<tr><td>5: his</td><td style=\"border:none;\" bgcolor=\"white\"></td><td style=\"border:none;\" bgcolor=\"white\"></td><td style=\"border:none;\" bgcolor=\"white\"></td><td style=\"border:none;\" bgcolor=\"white\"></td><td style=\"border:none;\" bgcolor=\"white\"></td><td style=\"border:solid;\" bgcolor=\"white\"><font color=\"black\">PP_1_3: 0.00</font></td><td style=\"border:solid;\" bgcolor=\"white\"></td></tr>\n",
       "<tr><td>6: pyjamas</td><td style=\"border:none;\" bgcolor=\"white\"></td><td style=\"border:none;\" bgcolor=\"white\"></td><td style=\"border:none;\" bgcolor=\"white\"></td><td style=\"border:none;\" bgcolor=\"white\"></td><td style=\"border:none;\" bgcolor=\"white\"></td><td style=\"border:none;\" bgcolor=\"white\"></td><td style=\"border:solid;\" bgcolor=\"white\"><font color=\"black\">PP_1_4: 0.00</font></td></tr></table> 18 / 112</div>\n",
       "<div class=\"item\"><table><tr><td></td><td>0: He</td><td>1: shot</td><td>2: the</td><td>3: elephant</td><td>4: in</td><td>5: his</td><td>6: pyjamas</td></tr>\n",
       "<tr><td>0: He</td><td style=\"border:solid;\" bgcolor=\"#E1E1E1\"><font color=\"red\">Subj: 0.00</font></td><td style=\"border:solid;\" bgcolor=\"#C3C3C3\"></td><td style=\"border:solid;\" bgcolor=\"white\"></td><td style=\"border:solid;\" bgcolor=\"white\"></td><td style=\"border:solid;\" bgcolor=\"white\"></td><td style=\"border:solid;\" bgcolor=\"white\"></td><td style=\"border:solid;\" bgcolor=\"white\"></td></tr>\n",
       "<tr><td>1: shot</td><td style=\"border:none;\" bgcolor=\"white\"></td><td style=\"border:solid;\" bgcolor=\"#E1E1E1\"><font color=\"red\">Verb: 0.00</font></td><td style=\"border:solid;\" bgcolor=\"white\"></td><td style=\"border:solid;\" bgcolor=\"white\"></td><td style=\"border:solid;\" bgcolor=\"white\"></td><td style=\"border:solid;\" bgcolor=\"white\"></td><td style=\"border:solid;\" bgcolor=\"white\"></td></tr>\n",
       "<tr><td>2: the</td><td style=\"border:none;\" bgcolor=\"white\"></td><td style=\"border:none;\" bgcolor=\"white\"></td><td style=\"border:solid;\" bgcolor=\"white\"><font color=\"black\">Obj_5: 0.00</font>, <font color=\"black\">Obj_8: 0.00</font></td><td style=\"border:solid;\" bgcolor=\"white\"></td><td style=\"border:solid;\" bgcolor=\"white\"></td><td style=\"border:solid;\" bgcolor=\"white\"></td><td style=\"border:solid;\" bgcolor=\"white\"></td></tr>\n",
       "<tr><td>3: elephant</td><td style=\"border:none;\" bgcolor=\"white\"></td><td style=\"border:none;\" bgcolor=\"white\"></td><td style=\"border:none;\" bgcolor=\"white\"></td><td style=\"border:solid;\" bgcolor=\"white\"><font color=\"black\">Obj_6: 0.00</font>, <font color=\"black\">Obj_7_9: 0.00</font></td><td style=\"border:solid;\" bgcolor=\"white\"></td><td style=\"border:solid;\" bgcolor=\"white\"></td><td style=\"border:solid;\" bgcolor=\"white\"></td></tr>\n",
       "<tr><td>4: in</td><td style=\"border:none;\" bgcolor=\"white\"></td><td style=\"border:none;\" bgcolor=\"white\"></td><td style=\"border:none;\" bgcolor=\"white\"></td><td style=\"border:none;\" bgcolor=\"white\"></td><td style=\"border:solid;\" bgcolor=\"white\"><font color=\"black\">PP_2: 0.00</font></td><td style=\"border:solid;\" bgcolor=\"white\"></td><td style=\"border:solid;\" bgcolor=\"white\"></td></tr>\n",
       "<tr><td>5: his</td><td style=\"border:none;\" bgcolor=\"white\"></td><td style=\"border:none;\" bgcolor=\"white\"></td><td style=\"border:none;\" bgcolor=\"white\"></td><td style=\"border:none;\" bgcolor=\"white\"></td><td style=\"border:none;\" bgcolor=\"white\"></td><td style=\"border:solid;\" bgcolor=\"white\"><font color=\"black\">PP_1_3: 0.00</font></td><td style=\"border:solid;\" bgcolor=\"white\"></td></tr>\n",
       "<tr><td>6: pyjamas</td><td style=\"border:none;\" bgcolor=\"white\"></td><td style=\"border:none;\" bgcolor=\"white\"></td><td style=\"border:none;\" bgcolor=\"white\"></td><td style=\"border:none;\" bgcolor=\"white\"></td><td style=\"border:none;\" bgcolor=\"white\"></td><td style=\"border:none;\" bgcolor=\"white\"></td><td style=\"border:solid;\" bgcolor=\"white\"><font color=\"black\">PP_1_4: 0.00</font></td></tr></table> 19 / 112</div>\n",
       "<div class=\"item\"><table><tr><td></td><td>0: He</td><td>1: shot</td><td>2: the</td><td>3: elephant</td><td>4: in</td><td>5: his</td><td>6: pyjamas</td></tr>\n",
       "<tr><td>0: He</td><td style=\"border:solid;\" bgcolor=\"white\"><font color=\"black\">Subj: 0.00</font></td><td style=\"border:solid;\" bgcolor=\"white\"></td><td style=\"border:solid;\" bgcolor=\"white\"></td><td style=\"border:solid;\" bgcolor=\"white\"></td><td style=\"border:solid;\" bgcolor=\"white\"></td><td style=\"border:solid;\" bgcolor=\"white\"></td><td style=\"border:solid;\" bgcolor=\"white\"></td></tr>\n",
       "<tr><td>1: shot</td><td style=\"border:none;\" bgcolor=\"white\"></td><td style=\"border:solid;\" bgcolor=\"#E1E1E1\"><font color=\"black\">Verb: 0.00</font></td><td style=\"border:solid;\" bgcolor=\"#C3C3C3\"></td><td style=\"border:solid;\" bgcolor=\"white\"></td><td style=\"border:solid;\" bgcolor=\"white\"></td><td style=\"border:solid;\" bgcolor=\"white\"></td><td style=\"border:solid;\" bgcolor=\"white\"></td></tr>\n",
       "<tr><td>2: the</td><td style=\"border:none;\" bgcolor=\"white\"></td><td style=\"border:none;\" bgcolor=\"white\"></td><td style=\"border:solid;\" bgcolor=\"#E1E1E1\"><font color=\"black\">Obj_5: 0.00</font>, <font color=\"black\">Obj_8: 0.00</font></td><td style=\"border:solid;\" bgcolor=\"white\"></td><td style=\"border:solid;\" bgcolor=\"white\"></td><td style=\"border:solid;\" bgcolor=\"white\"></td><td style=\"border:solid;\" bgcolor=\"white\"></td></tr>\n",
       "<tr><td>3: elephant</td><td style=\"border:none;\" bgcolor=\"white\"></td><td style=\"border:none;\" bgcolor=\"white\"></td><td style=\"border:none;\" bgcolor=\"white\"></td><td style=\"border:solid;\" bgcolor=\"white\"><font color=\"black\">Obj_6: 0.00</font>, <font color=\"black\">Obj_7_9: 0.00</font></td><td style=\"border:solid;\" bgcolor=\"white\"></td><td style=\"border:solid;\" bgcolor=\"white\"></td><td style=\"border:solid;\" bgcolor=\"white\"></td></tr>\n",
       "<tr><td>4: in</td><td style=\"border:none;\" bgcolor=\"white\"></td><td style=\"border:none;\" bgcolor=\"white\"></td><td style=\"border:none;\" bgcolor=\"white\"></td><td style=\"border:none;\" bgcolor=\"white\"></td><td style=\"border:solid;\" bgcolor=\"white\"><font color=\"black\">PP_2: 0.00</font></td><td style=\"border:solid;\" bgcolor=\"white\"></td><td style=\"border:solid;\" bgcolor=\"white\"></td></tr>\n",
       "<tr><td>5: his</td><td style=\"border:none;\" bgcolor=\"white\"></td><td style=\"border:none;\" bgcolor=\"white\"></td><td style=\"border:none;\" bgcolor=\"white\"></td><td style=\"border:none;\" bgcolor=\"white\"></td><td style=\"border:none;\" bgcolor=\"white\"></td><td style=\"border:solid;\" bgcolor=\"white\"><font color=\"black\">PP_1_3: 0.00</font></td><td style=\"border:solid;\" bgcolor=\"white\"></td></tr>\n",
       "<tr><td>6: pyjamas</td><td style=\"border:none;\" bgcolor=\"white\"></td><td style=\"border:none;\" bgcolor=\"white\"></td><td style=\"border:none;\" bgcolor=\"white\"></td><td style=\"border:none;\" bgcolor=\"white\"></td><td style=\"border:none;\" bgcolor=\"white\"></td><td style=\"border:none;\" bgcolor=\"white\"></td><td style=\"border:solid;\" bgcolor=\"white\"><font color=\"black\">PP_1_4: 0.00</font></td></tr></table> 20 / 112</div>\n",
       "<div class=\"item\"><table><tr><td></td><td>0: He</td><td>1: shot</td><td>2: the</td><td>3: elephant</td><td>4: in</td><td>5: his</td><td>6: pyjamas</td></tr>\n",
       "<tr><td>0: He</td><td style=\"border:solid;\" bgcolor=\"white\"><font color=\"black\">Subj: 0.00</font></td><td style=\"border:solid;\" bgcolor=\"white\"></td><td style=\"border:solid;\" bgcolor=\"white\"></td><td style=\"border:solid;\" bgcolor=\"white\"></td><td style=\"border:solid;\" bgcolor=\"white\"></td><td style=\"border:solid;\" bgcolor=\"white\"></td><td style=\"border:solid;\" bgcolor=\"white\"></td></tr>\n",
       "<tr><td>1: shot</td><td style=\"border:none;\" bgcolor=\"white\"></td><td style=\"border:solid;\" bgcolor=\"#E1E1E1\"><font color=\"red\">Verb: 0.00</font></td><td style=\"border:solid;\" bgcolor=\"#C3C3C3\"></td><td style=\"border:solid;\" bgcolor=\"white\"></td><td style=\"border:solid;\" bgcolor=\"white\"></td><td style=\"border:solid;\" bgcolor=\"white\"></td><td style=\"border:solid;\" bgcolor=\"white\"></td></tr>\n",
       "<tr><td>2: the</td><td style=\"border:none;\" bgcolor=\"white\"></td><td style=\"border:none;\" bgcolor=\"white\"></td><td style=\"border:solid;\" bgcolor=\"#E1E1E1\"><font color=\"red\">Obj_5: 0.00</font>, <font color=\"black\">Obj_8: 0.00</font></td><td style=\"border:solid;\" bgcolor=\"white\"></td><td style=\"border:solid;\" bgcolor=\"white\"></td><td style=\"border:solid;\" bgcolor=\"white\"></td><td style=\"border:solid;\" bgcolor=\"white\"></td></tr>\n",
       "<tr><td>3: elephant</td><td style=\"border:none;\" bgcolor=\"white\"></td><td style=\"border:none;\" bgcolor=\"white\"></td><td style=\"border:none;\" bgcolor=\"white\"></td><td style=\"border:solid;\" bgcolor=\"white\"><font color=\"black\">Obj_6: 0.00</font>, <font color=\"black\">Obj_7_9: 0.00</font></td><td style=\"border:solid;\" bgcolor=\"white\"></td><td style=\"border:solid;\" bgcolor=\"white\"></td><td style=\"border:solid;\" bgcolor=\"white\"></td></tr>\n",
       "<tr><td>4: in</td><td style=\"border:none;\" bgcolor=\"white\"></td><td style=\"border:none;\" bgcolor=\"white\"></td><td style=\"border:none;\" bgcolor=\"white\"></td><td style=\"border:none;\" bgcolor=\"white\"></td><td style=\"border:solid;\" bgcolor=\"white\"><font color=\"black\">PP_2: 0.00</font></td><td style=\"border:solid;\" bgcolor=\"white\"></td><td style=\"border:solid;\" bgcolor=\"white\"></td></tr>\n",
       "<tr><td>5: his</td><td style=\"border:none;\" bgcolor=\"white\"></td><td style=\"border:none;\" bgcolor=\"white\"></td><td style=\"border:none;\" bgcolor=\"white\"></td><td style=\"border:none;\" bgcolor=\"white\"></td><td style=\"border:none;\" bgcolor=\"white\"></td><td style=\"border:solid;\" bgcolor=\"white\"><font color=\"black\">PP_1_3: 0.00</font></td><td style=\"border:solid;\" bgcolor=\"white\"></td></tr>\n",
       "<tr><td>6: pyjamas</td><td style=\"border:none;\" bgcolor=\"white\"></td><td style=\"border:none;\" bgcolor=\"white\"></td><td style=\"border:none;\" bgcolor=\"white\"></td><td style=\"border:none;\" bgcolor=\"white\"></td><td style=\"border:none;\" bgcolor=\"white\"></td><td style=\"border:none;\" bgcolor=\"white\"></td><td style=\"border:solid;\" bgcolor=\"white\"><font color=\"black\">PP_1_4: 0.00</font></td></tr></table> 21 / 112</div>\n",
       "<div class=\"item\"><table><tr><td></td><td>0: He</td><td>1: shot</td><td>2: the</td><td>3: elephant</td><td>4: in</td><td>5: his</td><td>6: pyjamas</td></tr>\n",
       "<tr><td>0: He</td><td style=\"border:solid;\" bgcolor=\"white\"><font color=\"black\">Subj: 0.00</font></td><td style=\"border:solid;\" bgcolor=\"white\"></td><td style=\"border:solid;\" bgcolor=\"white\"></td><td style=\"border:solid;\" bgcolor=\"white\"></td><td style=\"border:solid;\" bgcolor=\"white\"></td><td style=\"border:solid;\" bgcolor=\"white\"></td><td style=\"border:solid;\" bgcolor=\"white\"></td></tr>\n",
       "<tr><td>1: shot</td><td style=\"border:none;\" bgcolor=\"white\"></td><td style=\"border:solid;\" bgcolor=\"#E1E1E1\"><font color=\"red\">Verb: 0.00</font></td><td style=\"border:solid;\" bgcolor=\"#C3C3C3\"></td><td style=\"border:solid;\" bgcolor=\"white\"></td><td style=\"border:solid;\" bgcolor=\"white\"></td><td style=\"border:solid;\" bgcolor=\"white\"></td><td style=\"border:solid;\" bgcolor=\"white\"></td></tr>\n",
       "<tr><td>2: the</td><td style=\"border:none;\" bgcolor=\"white\"></td><td style=\"border:none;\" bgcolor=\"white\"></td><td style=\"border:solid;\" bgcolor=\"#E1E1E1\"><font color=\"black\">Obj_5: 0.00</font>, <font color=\"red\">Obj_8: 0.00</font></td><td style=\"border:solid;\" bgcolor=\"white\"></td><td style=\"border:solid;\" bgcolor=\"white\"></td><td style=\"border:solid;\" bgcolor=\"white\"></td><td style=\"border:solid;\" bgcolor=\"white\"></td></tr>\n",
       "<tr><td>3: elephant</td><td style=\"border:none;\" bgcolor=\"white\"></td><td style=\"border:none;\" bgcolor=\"white\"></td><td style=\"border:none;\" bgcolor=\"white\"></td><td style=\"border:solid;\" bgcolor=\"white\"><font color=\"black\">Obj_6: 0.00</font>, <font color=\"black\">Obj_7_9: 0.00</font></td><td style=\"border:solid;\" bgcolor=\"white\"></td><td style=\"border:solid;\" bgcolor=\"white\"></td><td style=\"border:solid;\" bgcolor=\"white\"></td></tr>\n",
       "<tr><td>4: in</td><td style=\"border:none;\" bgcolor=\"white\"></td><td style=\"border:none;\" bgcolor=\"white\"></td><td style=\"border:none;\" bgcolor=\"white\"></td><td style=\"border:none;\" bgcolor=\"white\"></td><td style=\"border:solid;\" bgcolor=\"white\"><font color=\"black\">PP_2: 0.00</font></td><td style=\"border:solid;\" bgcolor=\"white\"></td><td style=\"border:solid;\" bgcolor=\"white\"></td></tr>\n",
       "<tr><td>5: his</td><td style=\"border:none;\" bgcolor=\"white\"></td><td style=\"border:none;\" bgcolor=\"white\"></td><td style=\"border:none;\" bgcolor=\"white\"></td><td style=\"border:none;\" bgcolor=\"white\"></td><td style=\"border:none;\" bgcolor=\"white\"></td><td style=\"border:solid;\" bgcolor=\"white\"><font color=\"black\">PP_1_3: 0.00</font></td><td style=\"border:solid;\" bgcolor=\"white\"></td></tr>\n",
       "<tr><td>6: pyjamas</td><td style=\"border:none;\" bgcolor=\"white\"></td><td style=\"border:none;\" bgcolor=\"white\"></td><td style=\"border:none;\" bgcolor=\"white\"></td><td style=\"border:none;\" bgcolor=\"white\"></td><td style=\"border:none;\" bgcolor=\"white\"></td><td style=\"border:none;\" bgcolor=\"white\"></td><td style=\"border:solid;\" bgcolor=\"white\"><font color=\"black\">PP_1_4: 0.00</font></td></tr></table> 22 / 112</div>\n",
       "<div class=\"item\"><table><tr><td></td><td>0: He</td><td>1: shot</td><td>2: the</td><td>3: elephant</td><td>4: in</td><td>5: his</td><td>6: pyjamas</td></tr>\n",
       "<tr><td>0: He</td><td style=\"border:solid;\" bgcolor=\"white\"><font color=\"black\">Subj: 0.00</font></td><td style=\"border:solid;\" bgcolor=\"white\"></td><td style=\"border:solid;\" bgcolor=\"white\"></td><td style=\"border:solid;\" bgcolor=\"white\"></td><td style=\"border:solid;\" bgcolor=\"white\"></td><td style=\"border:solid;\" bgcolor=\"white\"></td><td style=\"border:solid;\" bgcolor=\"white\"></td></tr>\n",
       "<tr><td>1: shot</td><td style=\"border:none;\" bgcolor=\"white\"></td><td style=\"border:solid;\" bgcolor=\"white\"><font color=\"black\">Verb: 0.00</font></td><td style=\"border:solid;\" bgcolor=\"white\"></td><td style=\"border:solid;\" bgcolor=\"white\"></td><td style=\"border:solid;\" bgcolor=\"white\"></td><td style=\"border:solid;\" bgcolor=\"white\"></td><td style=\"border:solid;\" bgcolor=\"white\"></td></tr>\n",
       "<tr><td>2: the</td><td style=\"border:none;\" bgcolor=\"white\"></td><td style=\"border:none;\" bgcolor=\"white\"></td><td style=\"border:solid;\" bgcolor=\"#E1E1E1\"><font color=\"black\">Obj_5: 0.00</font>, <font color=\"black\">Obj_8: 0.00</font></td><td style=\"border:solid;\" bgcolor=\"#C3C3C3\"></td><td style=\"border:solid;\" bgcolor=\"white\"></td><td style=\"border:solid;\" bgcolor=\"white\"></td><td style=\"border:solid;\" bgcolor=\"white\"></td></tr>\n",
       "<tr><td>3: elephant</td><td style=\"border:none;\" bgcolor=\"white\"></td><td style=\"border:none;\" bgcolor=\"white\"></td><td style=\"border:none;\" bgcolor=\"white\"></td><td style=\"border:solid;\" bgcolor=\"#E1E1E1\"><font color=\"black\">Obj_6: 0.00</font>, <font color=\"black\">Obj_7_9: 0.00</font></td><td style=\"border:solid;\" bgcolor=\"white\"></td><td style=\"border:solid;\" bgcolor=\"white\"></td><td style=\"border:solid;\" bgcolor=\"white\"></td></tr>\n",
       "<tr><td>4: in</td><td style=\"border:none;\" bgcolor=\"white\"></td><td style=\"border:none;\" bgcolor=\"white\"></td><td style=\"border:none;\" bgcolor=\"white\"></td><td style=\"border:none;\" bgcolor=\"white\"></td><td style=\"border:solid;\" bgcolor=\"white\"><font color=\"black\">PP_2: 0.00</font></td><td style=\"border:solid;\" bgcolor=\"white\"></td><td style=\"border:solid;\" bgcolor=\"white\"></td></tr>\n",
       "<tr><td>5: his</td><td style=\"border:none;\" bgcolor=\"white\"></td><td style=\"border:none;\" bgcolor=\"white\"></td><td style=\"border:none;\" bgcolor=\"white\"></td><td style=\"border:none;\" bgcolor=\"white\"></td><td style=\"border:none;\" bgcolor=\"white\"></td><td style=\"border:solid;\" bgcolor=\"white\"><font color=\"black\">PP_1_3: 0.00</font></td><td style=\"border:solid;\" bgcolor=\"white\"></td></tr>\n",
       "<tr><td>6: pyjamas</td><td style=\"border:none;\" bgcolor=\"white\"></td><td style=\"border:none;\" bgcolor=\"white\"></td><td style=\"border:none;\" bgcolor=\"white\"></td><td style=\"border:none;\" bgcolor=\"white\"></td><td style=\"border:none;\" bgcolor=\"white\"></td><td style=\"border:none;\" bgcolor=\"white\"></td><td style=\"border:solid;\" bgcolor=\"white\"><font color=\"black\">PP_1_4: 0.00</font></td></tr></table> 23 / 112</div>\n",
       "<div class=\"item\"><table><tr><td></td><td>0: He</td><td>1: shot</td><td>2: the</td><td>3: elephant</td><td>4: in</td><td>5: his</td><td>6: pyjamas</td></tr>\n",
       "<tr><td>0: He</td><td style=\"border:solid;\" bgcolor=\"white\"><font color=\"black\">Subj: 0.00</font></td><td style=\"border:solid;\" bgcolor=\"white\"></td><td style=\"border:solid;\" bgcolor=\"white\"></td><td style=\"border:solid;\" bgcolor=\"white\"></td><td style=\"border:solid;\" bgcolor=\"white\"></td><td style=\"border:solid;\" bgcolor=\"white\"></td><td style=\"border:solid;\" bgcolor=\"white\"></td></tr>\n",
       "<tr><td>1: shot</td><td style=\"border:none;\" bgcolor=\"white\"></td><td style=\"border:solid;\" bgcolor=\"white\"><font color=\"black\">Verb: 0.00</font></td><td style=\"border:solid;\" bgcolor=\"white\"></td><td style=\"border:solid;\" bgcolor=\"white\"></td><td style=\"border:solid;\" bgcolor=\"white\"></td><td style=\"border:solid;\" bgcolor=\"white\"></td><td style=\"border:solid;\" bgcolor=\"white\"></td></tr>\n",
       "<tr><td>2: the</td><td style=\"border:none;\" bgcolor=\"white\"></td><td style=\"border:none;\" bgcolor=\"white\"></td><td style=\"border:solid;\" bgcolor=\"#E1E1E1\"><font color=\"red\">Obj_5: 0.00</font>, <font color=\"black\">Obj_8: 0.00</font></td><td style=\"border:solid;\" bgcolor=\"#C3C3C3\"></td><td style=\"border:solid;\" bgcolor=\"white\"></td><td style=\"border:solid;\" bgcolor=\"white\"></td><td style=\"border:solid;\" bgcolor=\"white\"></td></tr>\n",
       "<tr><td>3: elephant</td><td style=\"border:none;\" bgcolor=\"white\"></td><td style=\"border:none;\" bgcolor=\"white\"></td><td style=\"border:none;\" bgcolor=\"white\"></td><td style=\"border:solid;\" bgcolor=\"#E1E1E1\"><font color=\"red\">Obj_6: 0.00</font>, <font color=\"black\">Obj_7_9: 0.00</font></td><td style=\"border:solid;\" bgcolor=\"white\"></td><td style=\"border:solid;\" bgcolor=\"white\"></td><td style=\"border:solid;\" bgcolor=\"white\"></td></tr>\n",
       "<tr><td>4: in</td><td style=\"border:none;\" bgcolor=\"white\"></td><td style=\"border:none;\" bgcolor=\"white\"></td><td style=\"border:none;\" bgcolor=\"white\"></td><td style=\"border:none;\" bgcolor=\"white\"></td><td style=\"border:solid;\" bgcolor=\"white\"><font color=\"black\">PP_2: 0.00</font></td><td style=\"border:solid;\" bgcolor=\"white\"></td><td style=\"border:solid;\" bgcolor=\"white\"></td></tr>\n",
       "<tr><td>5: his</td><td style=\"border:none;\" bgcolor=\"white\"></td><td style=\"border:none;\" bgcolor=\"white\"></td><td style=\"border:none;\" bgcolor=\"white\"></td><td style=\"border:none;\" bgcolor=\"white\"></td><td style=\"border:none;\" bgcolor=\"white\"></td><td style=\"border:solid;\" bgcolor=\"white\"><font color=\"black\">PP_1_3: 0.00</font></td><td style=\"border:solid;\" bgcolor=\"white\"></td></tr>\n",
       "<tr><td>6: pyjamas</td><td style=\"border:none;\" bgcolor=\"white\"></td><td style=\"border:none;\" bgcolor=\"white\"></td><td style=\"border:none;\" bgcolor=\"white\"></td><td style=\"border:none;\" bgcolor=\"white\"></td><td style=\"border:none;\" bgcolor=\"white\"></td><td style=\"border:none;\" bgcolor=\"white\"></td><td style=\"border:solid;\" bgcolor=\"white\"><font color=\"black\">PP_1_4: 0.00</font></td></tr></table> 24 / 112</div>\n",
       "<div class=\"item\"><table><tr><td></td><td>0: He</td><td>1: shot</td><td>2: the</td><td>3: elephant</td><td>4: in</td><td>5: his</td><td>6: pyjamas</td></tr>\n",
       "<tr><td>0: He</td><td style=\"border:solid;\" bgcolor=\"white\"><font color=\"black\">Subj: 0.00</font></td><td style=\"border:solid;\" bgcolor=\"white\"></td><td style=\"border:solid;\" bgcolor=\"white\"></td><td style=\"border:solid;\" bgcolor=\"white\"></td><td style=\"border:solid;\" bgcolor=\"white\"></td><td style=\"border:solid;\" bgcolor=\"white\"></td><td style=\"border:solid;\" bgcolor=\"white\"></td></tr>\n",
       "<tr><td>1: shot</td><td style=\"border:none;\" bgcolor=\"white\"></td><td style=\"border:solid;\" bgcolor=\"white\"><font color=\"black\">Verb: 0.00</font></td><td style=\"border:solid;\" bgcolor=\"white\"></td><td style=\"border:solid;\" bgcolor=\"white\"></td><td style=\"border:solid;\" bgcolor=\"white\"></td><td style=\"border:solid;\" bgcolor=\"white\"></td><td style=\"border:solid;\" bgcolor=\"white\"></td></tr>\n",
       "<tr><td>2: the</td><td style=\"border:none;\" bgcolor=\"white\"></td><td style=\"border:none;\" bgcolor=\"white\"></td><td style=\"border:solid;\" bgcolor=\"#E1E1E1\"><font color=\"red\">Obj_5: 0.00</font>, <font color=\"black\">Obj_8: 0.00</font></td><td style=\"border:solid;\" bgcolor=\"#C3C3C3\"><font color=\"blue\">Obj: -0.69</font></td><td style=\"border:solid;\" bgcolor=\"white\"></td><td style=\"border:solid;\" bgcolor=\"white\"></td><td style=\"border:solid;\" bgcolor=\"white\"></td></tr>\n",
       "<tr><td>3: elephant</td><td style=\"border:none;\" bgcolor=\"white\"></td><td style=\"border:none;\" bgcolor=\"white\"></td><td style=\"border:none;\" bgcolor=\"white\"></td><td style=\"border:solid;\" bgcolor=\"#E1E1E1\"><font color=\"red\">Obj_6: 0.00</font>, <font color=\"black\">Obj_7_9: 0.00</font></td><td style=\"border:solid;\" bgcolor=\"white\"></td><td style=\"border:solid;\" bgcolor=\"white\"></td><td style=\"border:solid;\" bgcolor=\"white\"></td></tr>\n",
       "<tr><td>4: in</td><td style=\"border:none;\" bgcolor=\"white\"></td><td style=\"border:none;\" bgcolor=\"white\"></td><td style=\"border:none;\" bgcolor=\"white\"></td><td style=\"border:none;\" bgcolor=\"white\"></td><td style=\"border:solid;\" bgcolor=\"white\"><font color=\"black\">PP_2: 0.00</font></td><td style=\"border:solid;\" bgcolor=\"white\"></td><td style=\"border:solid;\" bgcolor=\"white\"></td></tr>\n",
       "<tr><td>5: his</td><td style=\"border:none;\" bgcolor=\"white\"></td><td style=\"border:none;\" bgcolor=\"white\"></td><td style=\"border:none;\" bgcolor=\"white\"></td><td style=\"border:none;\" bgcolor=\"white\"></td><td style=\"border:none;\" bgcolor=\"white\"></td><td style=\"border:solid;\" bgcolor=\"white\"><font color=\"black\">PP_1_3: 0.00</font></td><td style=\"border:solid;\" bgcolor=\"white\"></td></tr>\n",
       "<tr><td>6: pyjamas</td><td style=\"border:none;\" bgcolor=\"white\"></td><td style=\"border:none;\" bgcolor=\"white\"></td><td style=\"border:none;\" bgcolor=\"white\"></td><td style=\"border:none;\" bgcolor=\"white\"></td><td style=\"border:none;\" bgcolor=\"white\"></td><td style=\"border:none;\" bgcolor=\"white\"></td><td style=\"border:solid;\" bgcolor=\"white\"><font color=\"black\">PP_1_4: 0.00</font></td></tr></table> 25 / 112</div>\n",
       "<div class=\"item\"><table><tr><td></td><td>0: He</td><td>1: shot</td><td>2: the</td><td>3: elephant</td><td>4: in</td><td>5: his</td><td>6: pyjamas</td></tr>\n",
       "<tr><td>0: He</td><td style=\"border:solid;\" bgcolor=\"white\"><font color=\"black\">Subj: 0.00</font></td><td style=\"border:solid;\" bgcolor=\"white\"></td><td style=\"border:solid;\" bgcolor=\"white\"></td><td style=\"border:solid;\" bgcolor=\"white\"></td><td style=\"border:solid;\" bgcolor=\"white\"></td><td style=\"border:solid;\" bgcolor=\"white\"></td><td style=\"border:solid;\" bgcolor=\"white\"></td></tr>\n",
       "<tr><td>1: shot</td><td style=\"border:none;\" bgcolor=\"white\"></td><td style=\"border:solid;\" bgcolor=\"white\"><font color=\"black\">Verb: 0.00</font></td><td style=\"border:solid;\" bgcolor=\"white\"></td><td style=\"border:solid;\" bgcolor=\"white\"></td><td style=\"border:solid;\" bgcolor=\"white\"></td><td style=\"border:solid;\" bgcolor=\"white\"></td><td style=\"border:solid;\" bgcolor=\"white\"></td></tr>\n",
       "<tr><td>2: the</td><td style=\"border:none;\" bgcolor=\"white\"></td><td style=\"border:none;\" bgcolor=\"white\"></td><td style=\"border:solid;\" bgcolor=\"#E1E1E1\"><font color=\"red\">Obj_5: 0.00</font>, <font color=\"black\">Obj_8: 0.00</font></td><td style=\"border:solid;\" bgcolor=\"#C3C3C3\"><font color=\"black\">Obj: -0.69</font></td><td style=\"border:solid;\" bgcolor=\"white\"></td><td style=\"border:solid;\" bgcolor=\"white\"></td><td style=\"border:solid;\" bgcolor=\"white\"></td></tr>\n",
       "<tr><td>3: elephant</td><td style=\"border:none;\" bgcolor=\"white\"></td><td style=\"border:none;\" bgcolor=\"white\"></td><td style=\"border:none;\" bgcolor=\"white\"></td><td style=\"border:solid;\" bgcolor=\"#E1E1E1\"><font color=\"black\">Obj_6: 0.00</font>, <font color=\"red\">Obj_7_9: 0.00</font></td><td style=\"border:solid;\" bgcolor=\"white\"></td><td style=\"border:solid;\" bgcolor=\"white\"></td><td style=\"border:solid;\" bgcolor=\"white\"></td></tr>\n",
       "<tr><td>4: in</td><td style=\"border:none;\" bgcolor=\"white\"></td><td style=\"border:none;\" bgcolor=\"white\"></td><td style=\"border:none;\" bgcolor=\"white\"></td><td style=\"border:none;\" bgcolor=\"white\"></td><td style=\"border:solid;\" bgcolor=\"white\"><font color=\"black\">PP_2: 0.00</font></td><td style=\"border:solid;\" bgcolor=\"white\"></td><td style=\"border:solid;\" bgcolor=\"white\"></td></tr>\n",
       "<tr><td>5: his</td><td style=\"border:none;\" bgcolor=\"white\"></td><td style=\"border:none;\" bgcolor=\"white\"></td><td style=\"border:none;\" bgcolor=\"white\"></td><td style=\"border:none;\" bgcolor=\"white\"></td><td style=\"border:none;\" bgcolor=\"white\"></td><td style=\"border:solid;\" bgcolor=\"white\"><font color=\"black\">PP_1_3: 0.00</font></td><td style=\"border:solid;\" bgcolor=\"white\"></td></tr>\n",
       "<tr><td>6: pyjamas</td><td style=\"border:none;\" bgcolor=\"white\"></td><td style=\"border:none;\" bgcolor=\"white\"></td><td style=\"border:none;\" bgcolor=\"white\"></td><td style=\"border:none;\" bgcolor=\"white\"></td><td style=\"border:none;\" bgcolor=\"white\"></td><td style=\"border:none;\" bgcolor=\"white\"></td><td style=\"border:solid;\" bgcolor=\"white\"><font color=\"black\">PP_1_4: 0.00</font></td></tr></table> 26 / 112</div>\n",
       "<div class=\"item\"><table><tr><td></td><td>0: He</td><td>1: shot</td><td>2: the</td><td>3: elephant</td><td>4: in</td><td>5: his</td><td>6: pyjamas</td></tr>\n",
       "<tr><td>0: He</td><td style=\"border:solid;\" bgcolor=\"white\"><font color=\"black\">Subj: 0.00</font></td><td style=\"border:solid;\" bgcolor=\"white\"></td><td style=\"border:solid;\" bgcolor=\"white\"></td><td style=\"border:solid;\" bgcolor=\"white\"></td><td style=\"border:solid;\" bgcolor=\"white\"></td><td style=\"border:solid;\" bgcolor=\"white\"></td><td style=\"border:solid;\" bgcolor=\"white\"></td></tr>\n",
       "<tr><td>1: shot</td><td style=\"border:none;\" bgcolor=\"white\"></td><td style=\"border:solid;\" bgcolor=\"white\"><font color=\"black\">Verb: 0.00</font></td><td style=\"border:solid;\" bgcolor=\"white\"></td><td style=\"border:solid;\" bgcolor=\"white\"></td><td style=\"border:solid;\" bgcolor=\"white\"></td><td style=\"border:solid;\" bgcolor=\"white\"></td><td style=\"border:solid;\" bgcolor=\"white\"></td></tr>\n",
       "<tr><td>2: the</td><td style=\"border:none;\" bgcolor=\"white\"></td><td style=\"border:none;\" bgcolor=\"white\"></td><td style=\"border:solid;\" bgcolor=\"#E1E1E1\"><font color=\"black\">Obj_5: 0.00</font>, <font color=\"red\">Obj_8: 0.00</font></td><td style=\"border:solid;\" bgcolor=\"#C3C3C3\"><font color=\"black\">Obj: -0.69</font></td><td style=\"border:solid;\" bgcolor=\"white\"></td><td style=\"border:solid;\" bgcolor=\"white\"></td><td style=\"border:solid;\" bgcolor=\"white\"></td></tr>\n",
       "<tr><td>3: elephant</td><td style=\"border:none;\" bgcolor=\"white\"></td><td style=\"border:none;\" bgcolor=\"white\"></td><td style=\"border:none;\" bgcolor=\"white\"></td><td style=\"border:solid;\" bgcolor=\"#E1E1E1\"><font color=\"red\">Obj_6: 0.00</font>, <font color=\"black\">Obj_7_9: 0.00</font></td><td style=\"border:solid;\" bgcolor=\"white\"></td><td style=\"border:solid;\" bgcolor=\"white\"></td><td style=\"border:solid;\" bgcolor=\"white\"></td></tr>\n",
       "<tr><td>4: in</td><td style=\"border:none;\" bgcolor=\"white\"></td><td style=\"border:none;\" bgcolor=\"white\"></td><td style=\"border:none;\" bgcolor=\"white\"></td><td style=\"border:none;\" bgcolor=\"white\"></td><td style=\"border:solid;\" bgcolor=\"white\"><font color=\"black\">PP_2: 0.00</font></td><td style=\"border:solid;\" bgcolor=\"white\"></td><td style=\"border:solid;\" bgcolor=\"white\"></td></tr>\n",
       "<tr><td>5: his</td><td style=\"border:none;\" bgcolor=\"white\"></td><td style=\"border:none;\" bgcolor=\"white\"></td><td style=\"border:none;\" bgcolor=\"white\"></td><td style=\"border:none;\" bgcolor=\"white\"></td><td style=\"border:none;\" bgcolor=\"white\"></td><td style=\"border:solid;\" bgcolor=\"white\"><font color=\"black\">PP_1_3: 0.00</font></td><td style=\"border:solid;\" bgcolor=\"white\"></td></tr>\n",
       "<tr><td>6: pyjamas</td><td style=\"border:none;\" bgcolor=\"white\"></td><td style=\"border:none;\" bgcolor=\"white\"></td><td style=\"border:none;\" bgcolor=\"white\"></td><td style=\"border:none;\" bgcolor=\"white\"></td><td style=\"border:none;\" bgcolor=\"white\"></td><td style=\"border:none;\" bgcolor=\"white\"></td><td style=\"border:solid;\" bgcolor=\"white\"><font color=\"black\">PP_1_4: 0.00</font></td></tr></table> 27 / 112</div>\n",
       "<div class=\"item\"><table><tr><td></td><td>0: He</td><td>1: shot</td><td>2: the</td><td>3: elephant</td><td>4: in</td><td>5: his</td><td>6: pyjamas</td></tr>\n",
       "<tr><td>0: He</td><td style=\"border:solid;\" bgcolor=\"white\"><font color=\"black\">Subj: 0.00</font></td><td style=\"border:solid;\" bgcolor=\"white\"></td><td style=\"border:solid;\" bgcolor=\"white\"></td><td style=\"border:solid;\" bgcolor=\"white\"></td><td style=\"border:solid;\" bgcolor=\"white\"></td><td style=\"border:solid;\" bgcolor=\"white\"></td><td style=\"border:solid;\" bgcolor=\"white\"></td></tr>\n",
       "<tr><td>1: shot</td><td style=\"border:none;\" bgcolor=\"white\"></td><td style=\"border:solid;\" bgcolor=\"white\"><font color=\"black\">Verb: 0.00</font></td><td style=\"border:solid;\" bgcolor=\"white\"></td><td style=\"border:solid;\" bgcolor=\"white\"></td><td style=\"border:solid;\" bgcolor=\"white\"></td><td style=\"border:solid;\" bgcolor=\"white\"></td><td style=\"border:solid;\" bgcolor=\"white\"></td></tr>\n",
       "<tr><td>2: the</td><td style=\"border:none;\" bgcolor=\"white\"></td><td style=\"border:none;\" bgcolor=\"white\"></td><td style=\"border:solid;\" bgcolor=\"#E1E1E1\"><font color=\"black\">Obj_5: 0.00</font>, <font color=\"red\">Obj_8: 0.00</font></td><td style=\"border:solid;\" bgcolor=\"#C3C3C3\"><font color=\"black\">Obj: -0.69</font></td><td style=\"border:solid;\" bgcolor=\"white\"></td><td style=\"border:solid;\" bgcolor=\"white\"></td><td style=\"border:solid;\" bgcolor=\"white\"></td></tr>\n",
       "<tr><td>3: elephant</td><td style=\"border:none;\" bgcolor=\"white\"></td><td style=\"border:none;\" bgcolor=\"white\"></td><td style=\"border:none;\" bgcolor=\"white\"></td><td style=\"border:solid;\" bgcolor=\"#E1E1E1\"><font color=\"black\">Obj_6: 0.00</font>, <font color=\"red\">Obj_7_9: 0.00</font></td><td style=\"border:solid;\" bgcolor=\"white\"></td><td style=\"border:solid;\" bgcolor=\"white\"></td><td style=\"border:solid;\" bgcolor=\"white\"></td></tr>\n",
       "<tr><td>4: in</td><td style=\"border:none;\" bgcolor=\"white\"></td><td style=\"border:none;\" bgcolor=\"white\"></td><td style=\"border:none;\" bgcolor=\"white\"></td><td style=\"border:none;\" bgcolor=\"white\"></td><td style=\"border:solid;\" bgcolor=\"white\"><font color=\"black\">PP_2: 0.00</font></td><td style=\"border:solid;\" bgcolor=\"white\"></td><td style=\"border:solid;\" bgcolor=\"white\"></td></tr>\n",
       "<tr><td>5: his</td><td style=\"border:none;\" bgcolor=\"white\"></td><td style=\"border:none;\" bgcolor=\"white\"></td><td style=\"border:none;\" bgcolor=\"white\"></td><td style=\"border:none;\" bgcolor=\"white\"></td><td style=\"border:none;\" bgcolor=\"white\"></td><td style=\"border:solid;\" bgcolor=\"white\"><font color=\"black\">PP_1_3: 0.00</font></td><td style=\"border:solid;\" bgcolor=\"white\"></td></tr>\n",
       "<tr><td>6: pyjamas</td><td style=\"border:none;\" bgcolor=\"white\"></td><td style=\"border:none;\" bgcolor=\"white\"></td><td style=\"border:none;\" bgcolor=\"white\"></td><td style=\"border:none;\" bgcolor=\"white\"></td><td style=\"border:none;\" bgcolor=\"white\"></td><td style=\"border:none;\" bgcolor=\"white\"></td><td style=\"border:solid;\" bgcolor=\"white\"><font color=\"black\">PP_1_4: 0.00</font></td></tr></table> 28 / 112</div>\n",
       "<div class=\"item\"><table><tr><td></td><td>0: He</td><td>1: shot</td><td>2: the</td><td>3: elephant</td><td>4: in</td><td>5: his</td><td>6: pyjamas</td></tr>\n",
       "<tr><td>0: He</td><td style=\"border:solid;\" bgcolor=\"white\"><font color=\"black\">Subj: 0.00</font></td><td style=\"border:solid;\" bgcolor=\"white\"></td><td style=\"border:solid;\" bgcolor=\"white\"></td><td style=\"border:solid;\" bgcolor=\"white\"></td><td style=\"border:solid;\" bgcolor=\"white\"></td><td style=\"border:solid;\" bgcolor=\"white\"></td><td style=\"border:solid;\" bgcolor=\"white\"></td></tr>\n",
       "<tr><td>1: shot</td><td style=\"border:none;\" bgcolor=\"white\"></td><td style=\"border:solid;\" bgcolor=\"white\"><font color=\"black\">Verb: 0.00</font></td><td style=\"border:solid;\" bgcolor=\"white\"></td><td style=\"border:solid;\" bgcolor=\"white\"></td><td style=\"border:solid;\" bgcolor=\"white\"></td><td style=\"border:solid;\" bgcolor=\"white\"></td><td style=\"border:solid;\" bgcolor=\"white\"></td></tr>\n",
       "<tr><td>2: the</td><td style=\"border:none;\" bgcolor=\"white\"></td><td style=\"border:none;\" bgcolor=\"white\"></td><td style=\"border:solid;\" bgcolor=\"white\"><font color=\"black\">Obj_5: 0.00</font>, <font color=\"black\">Obj_8: 0.00</font></td><td style=\"border:solid;\" bgcolor=\"white\"><font color=\"black\">Obj: -0.69</font></td><td style=\"border:solid;\" bgcolor=\"white\"></td><td style=\"border:solid;\" bgcolor=\"white\"></td><td style=\"border:solid;\" bgcolor=\"white\"></td></tr>\n",
       "<tr><td>3: elephant</td><td style=\"border:none;\" bgcolor=\"white\"></td><td style=\"border:none;\" bgcolor=\"white\"></td><td style=\"border:none;\" bgcolor=\"white\"></td><td style=\"border:solid;\" bgcolor=\"#E1E1E1\"><font color=\"black\">Obj_6: 0.00</font>, <font color=\"black\">Obj_7_9: 0.00</font></td><td style=\"border:solid;\" bgcolor=\"#C3C3C3\"></td><td style=\"border:solid;\" bgcolor=\"white\"></td><td style=\"border:solid;\" bgcolor=\"white\"></td></tr>\n",
       "<tr><td>4: in</td><td style=\"border:none;\" bgcolor=\"white\"></td><td style=\"border:none;\" bgcolor=\"white\"></td><td style=\"border:none;\" bgcolor=\"white\"></td><td style=\"border:none;\" bgcolor=\"white\"></td><td style=\"border:solid;\" bgcolor=\"#E1E1E1\"><font color=\"black\">PP_2: 0.00</font></td><td style=\"border:solid;\" bgcolor=\"white\"></td><td style=\"border:solid;\" bgcolor=\"white\"></td></tr>\n",
       "<tr><td>5: his</td><td style=\"border:none;\" bgcolor=\"white\"></td><td style=\"border:none;\" bgcolor=\"white\"></td><td style=\"border:none;\" bgcolor=\"white\"></td><td style=\"border:none;\" bgcolor=\"white\"></td><td style=\"border:none;\" bgcolor=\"white\"></td><td style=\"border:solid;\" bgcolor=\"white\"><font color=\"black\">PP_1_3: 0.00</font></td><td style=\"border:solid;\" bgcolor=\"white\"></td></tr>\n",
       "<tr><td>6: pyjamas</td><td style=\"border:none;\" bgcolor=\"white\"></td><td style=\"border:none;\" bgcolor=\"white\"></td><td style=\"border:none;\" bgcolor=\"white\"></td><td style=\"border:none;\" bgcolor=\"white\"></td><td style=\"border:none;\" bgcolor=\"white\"></td><td style=\"border:none;\" bgcolor=\"white\"></td><td style=\"border:solid;\" bgcolor=\"white\"><font color=\"black\">PP_1_4: 0.00</font></td></tr></table> 29 / 112</div>\n",
       "<div class=\"item\"><table><tr><td></td><td>0: He</td><td>1: shot</td><td>2: the</td><td>3: elephant</td><td>4: in</td><td>5: his</td><td>6: pyjamas</td></tr>\n",
       "<tr><td>0: He</td><td style=\"border:solid;\" bgcolor=\"white\"><font color=\"black\">Subj: 0.00</font></td><td style=\"border:solid;\" bgcolor=\"white\"></td><td style=\"border:solid;\" bgcolor=\"white\"></td><td style=\"border:solid;\" bgcolor=\"white\"></td><td style=\"border:solid;\" bgcolor=\"white\"></td><td style=\"border:solid;\" bgcolor=\"white\"></td><td style=\"border:solid;\" bgcolor=\"white\"></td></tr>\n",
       "<tr><td>1: shot</td><td style=\"border:none;\" bgcolor=\"white\"></td><td style=\"border:solid;\" bgcolor=\"white\"><font color=\"black\">Verb: 0.00</font></td><td style=\"border:solid;\" bgcolor=\"white\"></td><td style=\"border:solid;\" bgcolor=\"white\"></td><td style=\"border:solid;\" bgcolor=\"white\"></td><td style=\"border:solid;\" bgcolor=\"white\"></td><td style=\"border:solid;\" bgcolor=\"white\"></td></tr>\n",
       "<tr><td>2: the</td><td style=\"border:none;\" bgcolor=\"white\"></td><td style=\"border:none;\" bgcolor=\"white\"></td><td style=\"border:solid;\" bgcolor=\"white\"><font color=\"black\">Obj_5: 0.00</font>, <font color=\"black\">Obj_8: 0.00</font></td><td style=\"border:solid;\" bgcolor=\"white\"><font color=\"black\">Obj: -0.69</font></td><td style=\"border:solid;\" bgcolor=\"white\"></td><td style=\"border:solid;\" bgcolor=\"white\"></td><td style=\"border:solid;\" bgcolor=\"white\"></td></tr>\n",
       "<tr><td>3: elephant</td><td style=\"border:none;\" bgcolor=\"white\"></td><td style=\"border:none;\" bgcolor=\"white\"></td><td style=\"border:none;\" bgcolor=\"white\"></td><td style=\"border:solid;\" bgcolor=\"#E1E1E1\"><font color=\"red\">Obj_6: 0.00</font>, <font color=\"black\">Obj_7_9: 0.00</font></td><td style=\"border:solid;\" bgcolor=\"#C3C3C3\"></td><td style=\"border:solid;\" bgcolor=\"white\"></td><td style=\"border:solid;\" bgcolor=\"white\"></td></tr>\n",
       "<tr><td>4: in</td><td style=\"border:none;\" bgcolor=\"white\"></td><td style=\"border:none;\" bgcolor=\"white\"></td><td style=\"border:none;\" bgcolor=\"white\"></td><td style=\"border:none;\" bgcolor=\"white\"></td><td style=\"border:solid;\" bgcolor=\"#E1E1E1\"><font color=\"red\">PP_2: 0.00</font></td><td style=\"border:solid;\" bgcolor=\"white\"></td><td style=\"border:solid;\" bgcolor=\"white\"></td></tr>\n",
       "<tr><td>5: his</td><td style=\"border:none;\" bgcolor=\"white\"></td><td style=\"border:none;\" bgcolor=\"white\"></td><td style=\"border:none;\" bgcolor=\"white\"></td><td style=\"border:none;\" bgcolor=\"white\"></td><td style=\"border:none;\" bgcolor=\"white\"></td><td style=\"border:solid;\" bgcolor=\"white\"><font color=\"black\">PP_1_3: 0.00</font></td><td style=\"border:solid;\" bgcolor=\"white\"></td></tr>\n",
       "<tr><td>6: pyjamas</td><td style=\"border:none;\" bgcolor=\"white\"></td><td style=\"border:none;\" bgcolor=\"white\"></td><td style=\"border:none;\" bgcolor=\"white\"></td><td style=\"border:none;\" bgcolor=\"white\"></td><td style=\"border:none;\" bgcolor=\"white\"></td><td style=\"border:none;\" bgcolor=\"white\"></td><td style=\"border:solid;\" bgcolor=\"white\"><font color=\"black\">PP_1_4: 0.00</font></td></tr></table> 30 / 112</div>\n",
       "<div class=\"item\"><table><tr><td></td><td>0: He</td><td>1: shot</td><td>2: the</td><td>3: elephant</td><td>4: in</td><td>5: his</td><td>6: pyjamas</td></tr>\n",
       "<tr><td>0: He</td><td style=\"border:solid;\" bgcolor=\"white\"><font color=\"black\">Subj: 0.00</font></td><td style=\"border:solid;\" bgcolor=\"white\"></td><td style=\"border:solid;\" bgcolor=\"white\"></td><td style=\"border:solid;\" bgcolor=\"white\"></td><td style=\"border:solid;\" bgcolor=\"white\"></td><td style=\"border:solid;\" bgcolor=\"white\"></td><td style=\"border:solid;\" bgcolor=\"white\"></td></tr>\n",
       "<tr><td>1: shot</td><td style=\"border:none;\" bgcolor=\"white\"></td><td style=\"border:solid;\" bgcolor=\"white\"><font color=\"black\">Verb: 0.00</font></td><td style=\"border:solid;\" bgcolor=\"white\"></td><td style=\"border:solid;\" bgcolor=\"white\"></td><td style=\"border:solid;\" bgcolor=\"white\"></td><td style=\"border:solid;\" bgcolor=\"white\"></td><td style=\"border:solid;\" bgcolor=\"white\"></td></tr>\n",
       "<tr><td>2: the</td><td style=\"border:none;\" bgcolor=\"white\"></td><td style=\"border:none;\" bgcolor=\"white\"></td><td style=\"border:solid;\" bgcolor=\"white\"><font color=\"black\">Obj_5: 0.00</font>, <font color=\"black\">Obj_8: 0.00</font></td><td style=\"border:solid;\" bgcolor=\"white\"><font color=\"black\">Obj: -0.69</font></td><td style=\"border:solid;\" bgcolor=\"white\"></td><td style=\"border:solid;\" bgcolor=\"white\"></td><td style=\"border:solid;\" bgcolor=\"white\"></td></tr>\n",
       "<tr><td>3: elephant</td><td style=\"border:none;\" bgcolor=\"white\"></td><td style=\"border:none;\" bgcolor=\"white\"></td><td style=\"border:none;\" bgcolor=\"white\"></td><td style=\"border:solid;\" bgcolor=\"#E1E1E1\"><font color=\"black\">Obj_6: 0.00</font>, <font color=\"red\">Obj_7_9: 0.00</font></td><td style=\"border:solid;\" bgcolor=\"#C3C3C3\"></td><td style=\"border:solid;\" bgcolor=\"white\"></td><td style=\"border:solid;\" bgcolor=\"white\"></td></tr>\n",
       "<tr><td>4: in</td><td style=\"border:none;\" bgcolor=\"white\"></td><td style=\"border:none;\" bgcolor=\"white\"></td><td style=\"border:none;\" bgcolor=\"white\"></td><td style=\"border:none;\" bgcolor=\"white\"></td><td style=\"border:solid;\" bgcolor=\"#E1E1E1\"><font color=\"red\">PP_2: 0.00</font></td><td style=\"border:solid;\" bgcolor=\"white\"></td><td style=\"border:solid;\" bgcolor=\"white\"></td></tr>\n",
       "<tr><td>5: his</td><td style=\"border:none;\" bgcolor=\"white\"></td><td style=\"border:none;\" bgcolor=\"white\"></td><td style=\"border:none;\" bgcolor=\"white\"></td><td style=\"border:none;\" bgcolor=\"white\"></td><td style=\"border:none;\" bgcolor=\"white\"></td><td style=\"border:solid;\" bgcolor=\"white\"><font color=\"black\">PP_1_3: 0.00</font></td><td style=\"border:solid;\" bgcolor=\"white\"></td></tr>\n",
       "<tr><td>6: pyjamas</td><td style=\"border:none;\" bgcolor=\"white\"></td><td style=\"border:none;\" bgcolor=\"white\"></td><td style=\"border:none;\" bgcolor=\"white\"></td><td style=\"border:none;\" bgcolor=\"white\"></td><td style=\"border:none;\" bgcolor=\"white\"></td><td style=\"border:none;\" bgcolor=\"white\"></td><td style=\"border:solid;\" bgcolor=\"white\"><font color=\"black\">PP_1_4: 0.00</font></td></tr></table> 31 / 112</div>\n",
       "<div class=\"item\"><table><tr><td></td><td>0: He</td><td>1: shot</td><td>2: the</td><td>3: elephant</td><td>4: in</td><td>5: his</td><td>6: pyjamas</td></tr>\n",
       "<tr><td>0: He</td><td style=\"border:solid;\" bgcolor=\"white\"><font color=\"black\">Subj: 0.00</font></td><td style=\"border:solid;\" bgcolor=\"white\"></td><td style=\"border:solid;\" bgcolor=\"white\"></td><td style=\"border:solid;\" bgcolor=\"white\"></td><td style=\"border:solid;\" bgcolor=\"white\"></td><td style=\"border:solid;\" bgcolor=\"white\"></td><td style=\"border:solid;\" bgcolor=\"white\"></td></tr>\n",
       "<tr><td>1: shot</td><td style=\"border:none;\" bgcolor=\"white\"></td><td style=\"border:solid;\" bgcolor=\"white\"><font color=\"black\">Verb: 0.00</font></td><td style=\"border:solid;\" bgcolor=\"white\"></td><td style=\"border:solid;\" bgcolor=\"white\"></td><td style=\"border:solid;\" bgcolor=\"white\"></td><td style=\"border:solid;\" bgcolor=\"white\"></td><td style=\"border:solid;\" bgcolor=\"white\"></td></tr>\n",
       "<tr><td>2: the</td><td style=\"border:none;\" bgcolor=\"white\"></td><td style=\"border:none;\" bgcolor=\"white\"></td><td style=\"border:solid;\" bgcolor=\"white\"><font color=\"black\">Obj_5: 0.00</font>, <font color=\"black\">Obj_8: 0.00</font></td><td style=\"border:solid;\" bgcolor=\"white\"><font color=\"black\">Obj: -0.69</font></td><td style=\"border:solid;\" bgcolor=\"white\"></td><td style=\"border:solid;\" bgcolor=\"white\"></td><td style=\"border:solid;\" bgcolor=\"white\"></td></tr>\n",
       "<tr><td>3: elephant</td><td style=\"border:none;\" bgcolor=\"white\"></td><td style=\"border:none;\" bgcolor=\"white\"></td><td style=\"border:none;\" bgcolor=\"white\"></td><td style=\"border:solid;\" bgcolor=\"white\"><font color=\"black\">Obj_6: 0.00</font>, <font color=\"black\">Obj_7_9: 0.00</font></td><td style=\"border:solid;\" bgcolor=\"white\"></td><td style=\"border:solid;\" bgcolor=\"white\"></td><td style=\"border:solid;\" bgcolor=\"white\"></td></tr>\n",
       "<tr><td>4: in</td><td style=\"border:none;\" bgcolor=\"white\"></td><td style=\"border:none;\" bgcolor=\"white\"></td><td style=\"border:none;\" bgcolor=\"white\"></td><td style=\"border:none;\" bgcolor=\"white\"></td><td style=\"border:solid;\" bgcolor=\"#E1E1E1\"><font color=\"black\">PP_2: 0.00</font></td><td style=\"border:solid;\" bgcolor=\"#C3C3C3\"></td><td style=\"border:solid;\" bgcolor=\"white\"></td></tr>\n",
       "<tr><td>5: his</td><td style=\"border:none;\" bgcolor=\"white\"></td><td style=\"border:none;\" bgcolor=\"white\"></td><td style=\"border:none;\" bgcolor=\"white\"></td><td style=\"border:none;\" bgcolor=\"white\"></td><td style=\"border:none;\" bgcolor=\"white\"></td><td style=\"border:solid;\" bgcolor=\"#E1E1E1\"><font color=\"black\">PP_1_3: 0.00</font></td><td style=\"border:solid;\" bgcolor=\"white\"></td></tr>\n",
       "<tr><td>6: pyjamas</td><td style=\"border:none;\" bgcolor=\"white\"></td><td style=\"border:none;\" bgcolor=\"white\"></td><td style=\"border:none;\" bgcolor=\"white\"></td><td style=\"border:none;\" bgcolor=\"white\"></td><td style=\"border:none;\" bgcolor=\"white\"></td><td style=\"border:none;\" bgcolor=\"white\"></td><td style=\"border:solid;\" bgcolor=\"white\"><font color=\"black\">PP_1_4: 0.00</font></td></tr></table> 32 / 112</div>\n",
       "<div class=\"item\"><table><tr><td></td><td>0: He</td><td>1: shot</td><td>2: the</td><td>3: elephant</td><td>4: in</td><td>5: his</td><td>6: pyjamas</td></tr>\n",
       "<tr><td>0: He</td><td style=\"border:solid;\" bgcolor=\"white\"><font color=\"black\">Subj: 0.00</font></td><td style=\"border:solid;\" bgcolor=\"white\"></td><td style=\"border:solid;\" bgcolor=\"white\"></td><td style=\"border:solid;\" bgcolor=\"white\"></td><td style=\"border:solid;\" bgcolor=\"white\"></td><td style=\"border:solid;\" bgcolor=\"white\"></td><td style=\"border:solid;\" bgcolor=\"white\"></td></tr>\n",
       "<tr><td>1: shot</td><td style=\"border:none;\" bgcolor=\"white\"></td><td style=\"border:solid;\" bgcolor=\"white\"><font color=\"black\">Verb: 0.00</font></td><td style=\"border:solid;\" bgcolor=\"white\"></td><td style=\"border:solid;\" bgcolor=\"white\"></td><td style=\"border:solid;\" bgcolor=\"white\"></td><td style=\"border:solid;\" bgcolor=\"white\"></td><td style=\"border:solid;\" bgcolor=\"white\"></td></tr>\n",
       "<tr><td>2: the</td><td style=\"border:none;\" bgcolor=\"white\"></td><td style=\"border:none;\" bgcolor=\"white\"></td><td style=\"border:solid;\" bgcolor=\"white\"><font color=\"black\">Obj_5: 0.00</font>, <font color=\"black\">Obj_8: 0.00</font></td><td style=\"border:solid;\" bgcolor=\"white\"><font color=\"black\">Obj: -0.69</font></td><td style=\"border:solid;\" bgcolor=\"white\"></td><td style=\"border:solid;\" bgcolor=\"white\"></td><td style=\"border:solid;\" bgcolor=\"white\"></td></tr>\n",
       "<tr><td>3: elephant</td><td style=\"border:none;\" bgcolor=\"white\"></td><td style=\"border:none;\" bgcolor=\"white\"></td><td style=\"border:none;\" bgcolor=\"white\"></td><td style=\"border:solid;\" bgcolor=\"white\"><font color=\"black\">Obj_6: 0.00</font>, <font color=\"black\">Obj_7_9: 0.00</font></td><td style=\"border:solid;\" bgcolor=\"white\"></td><td style=\"border:solid;\" bgcolor=\"white\"></td><td style=\"border:solid;\" bgcolor=\"white\"></td></tr>\n",
       "<tr><td>4: in</td><td style=\"border:none;\" bgcolor=\"white\"></td><td style=\"border:none;\" bgcolor=\"white\"></td><td style=\"border:none;\" bgcolor=\"white\"></td><td style=\"border:none;\" bgcolor=\"white\"></td><td style=\"border:solid;\" bgcolor=\"#E1E1E1\"><font color=\"red\">PP_2: 0.00</font></td><td style=\"border:solid;\" bgcolor=\"#C3C3C3\"></td><td style=\"border:solid;\" bgcolor=\"white\"></td></tr>\n",
       "<tr><td>5: his</td><td style=\"border:none;\" bgcolor=\"white\"></td><td style=\"border:none;\" bgcolor=\"white\"></td><td style=\"border:none;\" bgcolor=\"white\"></td><td style=\"border:none;\" bgcolor=\"white\"></td><td style=\"border:none;\" bgcolor=\"white\"></td><td style=\"border:solid;\" bgcolor=\"#E1E1E1\"><font color=\"red\">PP_1_3: 0.00</font></td><td style=\"border:solid;\" bgcolor=\"white\"></td></tr>\n",
       "<tr><td>6: pyjamas</td><td style=\"border:none;\" bgcolor=\"white\"></td><td style=\"border:none;\" bgcolor=\"white\"></td><td style=\"border:none;\" bgcolor=\"white\"></td><td style=\"border:none;\" bgcolor=\"white\"></td><td style=\"border:none;\" bgcolor=\"white\"></td><td style=\"border:none;\" bgcolor=\"white\"></td><td style=\"border:solid;\" bgcolor=\"white\"><font color=\"black\">PP_1_4: 0.00</font></td></tr></table> 33 / 112</div>\n",
       "<div class=\"item\"><table><tr><td></td><td>0: He</td><td>1: shot</td><td>2: the</td><td>3: elephant</td><td>4: in</td><td>5: his</td><td>6: pyjamas</td></tr>\n",
       "<tr><td>0: He</td><td style=\"border:solid;\" bgcolor=\"white\"><font color=\"black\">Subj: 0.00</font></td><td style=\"border:solid;\" bgcolor=\"white\"></td><td style=\"border:solid;\" bgcolor=\"white\"></td><td style=\"border:solid;\" bgcolor=\"white\"></td><td style=\"border:solid;\" bgcolor=\"white\"></td><td style=\"border:solid;\" bgcolor=\"white\"></td><td style=\"border:solid;\" bgcolor=\"white\"></td></tr>\n",
       "<tr><td>1: shot</td><td style=\"border:none;\" bgcolor=\"white\"></td><td style=\"border:solid;\" bgcolor=\"white\"><font color=\"black\">Verb: 0.00</font></td><td style=\"border:solid;\" bgcolor=\"white\"></td><td style=\"border:solid;\" bgcolor=\"white\"></td><td style=\"border:solid;\" bgcolor=\"white\"></td><td style=\"border:solid;\" bgcolor=\"white\"></td><td style=\"border:solid;\" bgcolor=\"white\"></td></tr>\n",
       "<tr><td>2: the</td><td style=\"border:none;\" bgcolor=\"white\"></td><td style=\"border:none;\" bgcolor=\"white\"></td><td style=\"border:solid;\" bgcolor=\"white\"><font color=\"black\">Obj_5: 0.00</font>, <font color=\"black\">Obj_8: 0.00</font></td><td style=\"border:solid;\" bgcolor=\"white\"><font color=\"black\">Obj: -0.69</font></td><td style=\"border:solid;\" bgcolor=\"white\"></td><td style=\"border:solid;\" bgcolor=\"white\"></td><td style=\"border:solid;\" bgcolor=\"white\"></td></tr>\n",
       "<tr><td>3: elephant</td><td style=\"border:none;\" bgcolor=\"white\"></td><td style=\"border:none;\" bgcolor=\"white\"></td><td style=\"border:none;\" bgcolor=\"white\"></td><td style=\"border:solid;\" bgcolor=\"white\"><font color=\"black\">Obj_6: 0.00</font>, <font color=\"black\">Obj_7_9: 0.00</font></td><td style=\"border:solid;\" bgcolor=\"white\"></td><td style=\"border:solid;\" bgcolor=\"white\"></td><td style=\"border:solid;\" bgcolor=\"white\"></td></tr>\n",
       "<tr><td>4: in</td><td style=\"border:none;\" bgcolor=\"white\"></td><td style=\"border:none;\" bgcolor=\"white\"></td><td style=\"border:none;\" bgcolor=\"white\"></td><td style=\"border:none;\" bgcolor=\"white\"></td><td style=\"border:solid;\" bgcolor=\"white\"><font color=\"black\">PP_2: 0.00</font></td><td style=\"border:solid;\" bgcolor=\"white\"></td><td style=\"border:solid;\" bgcolor=\"white\"></td></tr>\n",
       "<tr><td>5: his</td><td style=\"border:none;\" bgcolor=\"white\"></td><td style=\"border:none;\" bgcolor=\"white\"></td><td style=\"border:none;\" bgcolor=\"white\"></td><td style=\"border:none;\" bgcolor=\"white\"></td><td style=\"border:none;\" bgcolor=\"white\"></td><td style=\"border:solid;\" bgcolor=\"#E1E1E1\"><font color=\"black\">PP_1_3: 0.00</font></td><td style=\"border:solid;\" bgcolor=\"#C3C3C3\"></td></tr>\n",
       "<tr><td>6: pyjamas</td><td style=\"border:none;\" bgcolor=\"white\"></td><td style=\"border:none;\" bgcolor=\"white\"></td><td style=\"border:none;\" bgcolor=\"white\"></td><td style=\"border:none;\" bgcolor=\"white\"></td><td style=\"border:none;\" bgcolor=\"white\"></td><td style=\"border:none;\" bgcolor=\"white\"></td><td style=\"border:solid;\" bgcolor=\"#E1E1E1\"><font color=\"black\">PP_1_4: 0.00</font></td></tr></table> 34 / 112</div>\n",
       "<div class=\"item\"><table><tr><td></td><td>0: He</td><td>1: shot</td><td>2: the</td><td>3: elephant</td><td>4: in</td><td>5: his</td><td>6: pyjamas</td></tr>\n",
       "<tr><td>0: He</td><td style=\"border:solid;\" bgcolor=\"white\"><font color=\"black\">Subj: 0.00</font></td><td style=\"border:solid;\" bgcolor=\"white\"></td><td style=\"border:solid;\" bgcolor=\"white\"></td><td style=\"border:solid;\" bgcolor=\"white\"></td><td style=\"border:solid;\" bgcolor=\"white\"></td><td style=\"border:solid;\" bgcolor=\"white\"></td><td style=\"border:solid;\" bgcolor=\"white\"></td></tr>\n",
       "<tr><td>1: shot</td><td style=\"border:none;\" bgcolor=\"white\"></td><td style=\"border:solid;\" bgcolor=\"white\"><font color=\"black\">Verb: 0.00</font></td><td style=\"border:solid;\" bgcolor=\"white\"></td><td style=\"border:solid;\" bgcolor=\"white\"></td><td style=\"border:solid;\" bgcolor=\"white\"></td><td style=\"border:solid;\" bgcolor=\"white\"></td><td style=\"border:solid;\" bgcolor=\"white\"></td></tr>\n",
       "<tr><td>2: the</td><td style=\"border:none;\" bgcolor=\"white\"></td><td style=\"border:none;\" bgcolor=\"white\"></td><td style=\"border:solid;\" bgcolor=\"white\"><font color=\"black\">Obj_5: 0.00</font>, <font color=\"black\">Obj_8: 0.00</font></td><td style=\"border:solid;\" bgcolor=\"white\"><font color=\"black\">Obj: -0.69</font></td><td style=\"border:solid;\" bgcolor=\"white\"></td><td style=\"border:solid;\" bgcolor=\"white\"></td><td style=\"border:solid;\" bgcolor=\"white\"></td></tr>\n",
       "<tr><td>3: elephant</td><td style=\"border:none;\" bgcolor=\"white\"></td><td style=\"border:none;\" bgcolor=\"white\"></td><td style=\"border:none;\" bgcolor=\"white\"></td><td style=\"border:solid;\" bgcolor=\"white\"><font color=\"black\">Obj_6: 0.00</font>, <font color=\"black\">Obj_7_9: 0.00</font></td><td style=\"border:solid;\" bgcolor=\"white\"></td><td style=\"border:solid;\" bgcolor=\"white\"></td><td style=\"border:solid;\" bgcolor=\"white\"></td></tr>\n",
       "<tr><td>4: in</td><td style=\"border:none;\" bgcolor=\"white\"></td><td style=\"border:none;\" bgcolor=\"white\"></td><td style=\"border:none;\" bgcolor=\"white\"></td><td style=\"border:none;\" bgcolor=\"white\"></td><td style=\"border:solid;\" bgcolor=\"white\"><font color=\"black\">PP_2: 0.00</font></td><td style=\"border:solid;\" bgcolor=\"white\"></td><td style=\"border:solid;\" bgcolor=\"white\"></td></tr>\n",
       "<tr><td>5: his</td><td style=\"border:none;\" bgcolor=\"white\"></td><td style=\"border:none;\" bgcolor=\"white\"></td><td style=\"border:none;\" bgcolor=\"white\"></td><td style=\"border:none;\" bgcolor=\"white\"></td><td style=\"border:none;\" bgcolor=\"white\"></td><td style=\"border:solid;\" bgcolor=\"#E1E1E1\"><font color=\"red\">PP_1_3: 0.00</font></td><td style=\"border:solid;\" bgcolor=\"#C3C3C3\"></td></tr>\n",
       "<tr><td>6: pyjamas</td><td style=\"border:none;\" bgcolor=\"white\"></td><td style=\"border:none;\" bgcolor=\"white\"></td><td style=\"border:none;\" bgcolor=\"white\"></td><td style=\"border:none;\" bgcolor=\"white\"></td><td style=\"border:none;\" bgcolor=\"white\"></td><td style=\"border:none;\" bgcolor=\"white\"></td><td style=\"border:solid;\" bgcolor=\"#E1E1E1\"><font color=\"red\">PP_1_4: 0.00</font></td></tr></table> 35 / 112</div>\n",
       "<div class=\"item\"><table><tr><td></td><td>0: He</td><td>1: shot</td><td>2: the</td><td>3: elephant</td><td>4: in</td><td>5: his</td><td>6: pyjamas</td></tr>\n",
       "<tr><td>0: He</td><td style=\"border:solid;\" bgcolor=\"white\"><font color=\"black\">Subj: 0.00</font></td><td style=\"border:solid;\" bgcolor=\"white\"></td><td style=\"border:solid;\" bgcolor=\"white\"></td><td style=\"border:solid;\" bgcolor=\"white\"></td><td style=\"border:solid;\" bgcolor=\"white\"></td><td style=\"border:solid;\" bgcolor=\"white\"></td><td style=\"border:solid;\" bgcolor=\"white\"></td></tr>\n",
       "<tr><td>1: shot</td><td style=\"border:none;\" bgcolor=\"white\"></td><td style=\"border:solid;\" bgcolor=\"white\"><font color=\"black\">Verb: 0.00</font></td><td style=\"border:solid;\" bgcolor=\"white\"></td><td style=\"border:solid;\" bgcolor=\"white\"></td><td style=\"border:solid;\" bgcolor=\"white\"></td><td style=\"border:solid;\" bgcolor=\"white\"></td><td style=\"border:solid;\" bgcolor=\"white\"></td></tr>\n",
       "<tr><td>2: the</td><td style=\"border:none;\" bgcolor=\"white\"></td><td style=\"border:none;\" bgcolor=\"white\"></td><td style=\"border:solid;\" bgcolor=\"white\"><font color=\"black\">Obj_5: 0.00</font>, <font color=\"black\">Obj_8: 0.00</font></td><td style=\"border:solid;\" bgcolor=\"white\"><font color=\"black\">Obj: -0.69</font></td><td style=\"border:solid;\" bgcolor=\"white\"></td><td style=\"border:solid;\" bgcolor=\"white\"></td><td style=\"border:solid;\" bgcolor=\"white\"></td></tr>\n",
       "<tr><td>3: elephant</td><td style=\"border:none;\" bgcolor=\"white\"></td><td style=\"border:none;\" bgcolor=\"white\"></td><td style=\"border:none;\" bgcolor=\"white\"></td><td style=\"border:solid;\" bgcolor=\"white\"><font color=\"black\">Obj_6: 0.00</font>, <font color=\"black\">Obj_7_9: 0.00</font></td><td style=\"border:solid;\" bgcolor=\"white\"></td><td style=\"border:solid;\" bgcolor=\"white\"></td><td style=\"border:solid;\" bgcolor=\"white\"></td></tr>\n",
       "<tr><td>4: in</td><td style=\"border:none;\" bgcolor=\"white\"></td><td style=\"border:none;\" bgcolor=\"white\"></td><td style=\"border:none;\" bgcolor=\"white\"></td><td style=\"border:none;\" bgcolor=\"white\"></td><td style=\"border:solid;\" bgcolor=\"white\"><font color=\"black\">PP_2: 0.00</font></td><td style=\"border:solid;\" bgcolor=\"white\"></td><td style=\"border:solid;\" bgcolor=\"white\"></td></tr>\n",
       "<tr><td>5: his</td><td style=\"border:none;\" bgcolor=\"white\"></td><td style=\"border:none;\" bgcolor=\"white\"></td><td style=\"border:none;\" bgcolor=\"white\"></td><td style=\"border:none;\" bgcolor=\"white\"></td><td style=\"border:none;\" bgcolor=\"white\"></td><td style=\"border:solid;\" bgcolor=\"#E1E1E1\"><font color=\"red\">PP_1_3: 0.00</font></td><td style=\"border:solid;\" bgcolor=\"#C3C3C3\"><font color=\"blue\">PP_1: 0.00</font></td></tr>\n",
       "<tr><td>6: pyjamas</td><td style=\"border:none;\" bgcolor=\"white\"></td><td style=\"border:none;\" bgcolor=\"white\"></td><td style=\"border:none;\" bgcolor=\"white\"></td><td style=\"border:none;\" bgcolor=\"white\"></td><td style=\"border:none;\" bgcolor=\"white\"></td><td style=\"border:none;\" bgcolor=\"white\"></td><td style=\"border:solid;\" bgcolor=\"#E1E1E1\"><font color=\"red\">PP_1_4: 0.00</font></td></tr></table> 36 / 112</div>\n",
       "<div class=\"item\"><table><tr><td></td><td>0: He</td><td>1: shot</td><td>2: the</td><td>3: elephant</td><td>4: in</td><td>5: his</td><td>6: pyjamas</td></tr>\n",
       "<tr><td>0: He</td><td style=\"border:solid;\" bgcolor=\"#E1E1E1\"><font color=\"black\">Subj: 0.00</font></td><td style=\"border:solid;\" bgcolor=\"white\"></td><td style=\"border:solid;\" bgcolor=\"#C3C3C3\"></td><td style=\"border:solid;\" bgcolor=\"white\"></td><td style=\"border:solid;\" bgcolor=\"white\"></td><td style=\"border:solid;\" bgcolor=\"white\"></td><td style=\"border:solid;\" bgcolor=\"white\"></td></tr>\n",
       "<tr><td>1: shot</td><td style=\"border:none;\" bgcolor=\"white\"></td><td style=\"border:solid;\" bgcolor=\"white\"><font color=\"black\">Verb: 0.00</font></td><td style=\"border:solid;\" bgcolor=\"#E1E1E1\"></td><td style=\"border:solid;\" bgcolor=\"white\"></td><td style=\"border:solid;\" bgcolor=\"white\"></td><td style=\"border:solid;\" bgcolor=\"white\"></td><td style=\"border:solid;\" bgcolor=\"white\"></td></tr>\n",
       "<tr><td>2: the</td><td style=\"border:none;\" bgcolor=\"white\"></td><td style=\"border:none;\" bgcolor=\"white\"></td><td style=\"border:solid;\" bgcolor=\"white\"><font color=\"black\">Obj_5: 0.00</font>, <font color=\"black\">Obj_8: 0.00</font></td><td style=\"border:solid;\" bgcolor=\"white\"><font color=\"black\">Obj: -0.69</font></td><td style=\"border:solid;\" bgcolor=\"white\"></td><td style=\"border:solid;\" bgcolor=\"white\"></td><td style=\"border:solid;\" bgcolor=\"white\"></td></tr>\n",
       "<tr><td>3: elephant</td><td style=\"border:none;\" bgcolor=\"white\"></td><td style=\"border:none;\" bgcolor=\"white\"></td><td style=\"border:none;\" bgcolor=\"white\"></td><td style=\"border:solid;\" bgcolor=\"white\"><font color=\"black\">Obj_6: 0.00</font>, <font color=\"black\">Obj_7_9: 0.00</font></td><td style=\"border:solid;\" bgcolor=\"white\"></td><td style=\"border:solid;\" bgcolor=\"white\"></td><td style=\"border:solid;\" bgcolor=\"white\"></td></tr>\n",
       "<tr><td>4: in</td><td style=\"border:none;\" bgcolor=\"white\"></td><td style=\"border:none;\" bgcolor=\"white\"></td><td style=\"border:none;\" bgcolor=\"white\"></td><td style=\"border:none;\" bgcolor=\"white\"></td><td style=\"border:solid;\" bgcolor=\"white\"><font color=\"black\">PP_2: 0.00</font></td><td style=\"border:solid;\" bgcolor=\"white\"></td><td style=\"border:solid;\" bgcolor=\"white\"></td></tr>\n",
       "<tr><td>5: his</td><td style=\"border:none;\" bgcolor=\"white\"></td><td style=\"border:none;\" bgcolor=\"white\"></td><td style=\"border:none;\" bgcolor=\"white\"></td><td style=\"border:none;\" bgcolor=\"white\"></td><td style=\"border:none;\" bgcolor=\"white\"></td><td style=\"border:solid;\" bgcolor=\"white\"><font color=\"black\">PP_1_3: 0.00</font></td><td style=\"border:solid;\" bgcolor=\"white\"><font color=\"black\">PP_1: 0.00</font></td></tr>\n",
       "<tr><td>6: pyjamas</td><td style=\"border:none;\" bgcolor=\"white\"></td><td style=\"border:none;\" bgcolor=\"white\"></td><td style=\"border:none;\" bgcolor=\"white\"></td><td style=\"border:none;\" bgcolor=\"white\"></td><td style=\"border:none;\" bgcolor=\"white\"></td><td style=\"border:none;\" bgcolor=\"white\"></td><td style=\"border:solid;\" bgcolor=\"white\"><font color=\"black\">PP_1_4: 0.00</font></td></tr></table> 37 / 112</div>\n",
       "<div class=\"item\"><table><tr><td></td><td>0: He</td><td>1: shot</td><td>2: the</td><td>3: elephant</td><td>4: in</td><td>5: his</td><td>6: pyjamas</td></tr>\n",
       "<tr><td>0: He</td><td style=\"border:solid;\" bgcolor=\"white\"><font color=\"black\">Subj: 0.00</font></td><td style=\"border:solid;\" bgcolor=\"#E1E1E1\"></td><td style=\"border:solid;\" bgcolor=\"#C3C3C3\"></td><td style=\"border:solid;\" bgcolor=\"white\"></td><td style=\"border:solid;\" bgcolor=\"white\"></td><td style=\"border:solid;\" bgcolor=\"white\"></td><td style=\"border:solid;\" bgcolor=\"white\"></td></tr>\n",
       "<tr><td>1: shot</td><td style=\"border:none;\" bgcolor=\"white\"></td><td style=\"border:solid;\" bgcolor=\"white\"><font color=\"black\">Verb: 0.00</font></td><td style=\"border:solid;\" bgcolor=\"white\"></td><td style=\"border:solid;\" bgcolor=\"white\"></td><td style=\"border:solid;\" bgcolor=\"white\"></td><td style=\"border:solid;\" bgcolor=\"white\"></td><td style=\"border:solid;\" bgcolor=\"white\"></td></tr>\n",
       "<tr><td>2: the</td><td style=\"border:none;\" bgcolor=\"white\"></td><td style=\"border:none;\" bgcolor=\"white\"></td><td style=\"border:solid;\" bgcolor=\"#E1E1E1\"><font color=\"black\">Obj_5: 0.00</font>, <font color=\"black\">Obj_8: 0.00</font></td><td style=\"border:solid;\" bgcolor=\"white\"><font color=\"black\">Obj: -0.69</font></td><td style=\"border:solid;\" bgcolor=\"white\"></td><td style=\"border:solid;\" bgcolor=\"white\"></td><td style=\"border:solid;\" bgcolor=\"white\"></td></tr>\n",
       "<tr><td>3: elephant</td><td style=\"border:none;\" bgcolor=\"white\"></td><td style=\"border:none;\" bgcolor=\"white\"></td><td style=\"border:none;\" bgcolor=\"white\"></td><td style=\"border:solid;\" bgcolor=\"white\"><font color=\"black\">Obj_6: 0.00</font>, <font color=\"black\">Obj_7_9: 0.00</font></td><td style=\"border:solid;\" bgcolor=\"white\"></td><td style=\"border:solid;\" bgcolor=\"white\"></td><td style=\"border:solid;\" bgcolor=\"white\"></td></tr>\n",
       "<tr><td>4: in</td><td style=\"border:none;\" bgcolor=\"white\"></td><td style=\"border:none;\" bgcolor=\"white\"></td><td style=\"border:none;\" bgcolor=\"white\"></td><td style=\"border:none;\" bgcolor=\"white\"></td><td style=\"border:solid;\" bgcolor=\"white\"><font color=\"black\">PP_2: 0.00</font></td><td style=\"border:solid;\" bgcolor=\"white\"></td><td style=\"border:solid;\" bgcolor=\"white\"></td></tr>\n",
       "<tr><td>5: his</td><td style=\"border:none;\" bgcolor=\"white\"></td><td style=\"border:none;\" bgcolor=\"white\"></td><td style=\"border:none;\" bgcolor=\"white\"></td><td style=\"border:none;\" bgcolor=\"white\"></td><td style=\"border:none;\" bgcolor=\"white\"></td><td style=\"border:solid;\" bgcolor=\"white\"><font color=\"black\">PP_1_3: 0.00</font></td><td style=\"border:solid;\" bgcolor=\"white\"><font color=\"black\">PP_1: 0.00</font></td></tr>\n",
       "<tr><td>6: pyjamas</td><td style=\"border:none;\" bgcolor=\"white\"></td><td style=\"border:none;\" bgcolor=\"white\"></td><td style=\"border:none;\" bgcolor=\"white\"></td><td style=\"border:none;\" bgcolor=\"white\"></td><td style=\"border:none;\" bgcolor=\"white\"></td><td style=\"border:none;\" bgcolor=\"white\"></td><td style=\"border:solid;\" bgcolor=\"white\"><font color=\"black\">PP_1_4: 0.00</font></td></tr></table> 38 / 112</div>\n",
       "<div class=\"item\"><table><tr><td></td><td>0: He</td><td>1: shot</td><td>2: the</td><td>3: elephant</td><td>4: in</td><td>5: his</td><td>6: pyjamas</td></tr>\n",
       "<tr><td>0: He</td><td style=\"border:solid;\" bgcolor=\"white\"><font color=\"black\">Subj: 0.00</font></td><td style=\"border:solid;\" bgcolor=\"white\"></td><td style=\"border:solid;\" bgcolor=\"white\"></td><td style=\"border:solid;\" bgcolor=\"white\"></td><td style=\"border:solid;\" bgcolor=\"white\"></td><td style=\"border:solid;\" bgcolor=\"white\"></td><td style=\"border:solid;\" bgcolor=\"white\"></td></tr>\n",
       "<tr><td>1: shot</td><td style=\"border:none;\" bgcolor=\"white\"></td><td style=\"border:solid;\" bgcolor=\"#E1E1E1\"><font color=\"black\">Verb: 0.00</font></td><td style=\"border:solid;\" bgcolor=\"white\"></td><td style=\"border:solid;\" bgcolor=\"#C3C3C3\"></td><td style=\"border:solid;\" bgcolor=\"white\"></td><td style=\"border:solid;\" bgcolor=\"white\"></td><td style=\"border:solid;\" bgcolor=\"white\"></td></tr>\n",
       "<tr><td>2: the</td><td style=\"border:none;\" bgcolor=\"white\"></td><td style=\"border:none;\" bgcolor=\"white\"></td><td style=\"border:solid;\" bgcolor=\"white\"><font color=\"black\">Obj_5: 0.00</font>, <font color=\"black\">Obj_8: 0.00</font></td><td style=\"border:solid;\" bgcolor=\"#E1E1E1\"><font color=\"black\">Obj: -0.69</font></td><td style=\"border:solid;\" bgcolor=\"white\"></td><td style=\"border:solid;\" bgcolor=\"white\"></td><td style=\"border:solid;\" bgcolor=\"white\"></td></tr>\n",
       "<tr><td>3: elephant</td><td style=\"border:none;\" bgcolor=\"white\"></td><td style=\"border:none;\" bgcolor=\"white\"></td><td style=\"border:none;\" bgcolor=\"white\"></td><td style=\"border:solid;\" bgcolor=\"white\"><font color=\"black\">Obj_6: 0.00</font>, <font color=\"black\">Obj_7_9: 0.00</font></td><td style=\"border:solid;\" bgcolor=\"white\"></td><td style=\"border:solid;\" bgcolor=\"white\"></td><td style=\"border:solid;\" bgcolor=\"white\"></td></tr>\n",
       "<tr><td>4: in</td><td style=\"border:none;\" bgcolor=\"white\"></td><td style=\"border:none;\" bgcolor=\"white\"></td><td style=\"border:none;\" bgcolor=\"white\"></td><td style=\"border:none;\" bgcolor=\"white\"></td><td style=\"border:solid;\" bgcolor=\"white\"><font color=\"black\">PP_2: 0.00</font></td><td style=\"border:solid;\" bgcolor=\"white\"></td><td style=\"border:solid;\" bgcolor=\"white\"></td></tr>\n",
       "<tr><td>5: his</td><td style=\"border:none;\" bgcolor=\"white\"></td><td style=\"border:none;\" bgcolor=\"white\"></td><td style=\"border:none;\" bgcolor=\"white\"></td><td style=\"border:none;\" bgcolor=\"white\"></td><td style=\"border:none;\" bgcolor=\"white\"></td><td style=\"border:solid;\" bgcolor=\"white\"><font color=\"black\">PP_1_3: 0.00</font></td><td style=\"border:solid;\" bgcolor=\"white\"><font color=\"black\">PP_1: 0.00</font></td></tr>\n",
       "<tr><td>6: pyjamas</td><td style=\"border:none;\" bgcolor=\"white\"></td><td style=\"border:none;\" bgcolor=\"white\"></td><td style=\"border:none;\" bgcolor=\"white\"></td><td style=\"border:none;\" bgcolor=\"white\"></td><td style=\"border:none;\" bgcolor=\"white\"></td><td style=\"border:none;\" bgcolor=\"white\"></td><td style=\"border:solid;\" bgcolor=\"white\"><font color=\"black\">PP_1_4: 0.00</font></td></tr></table> 39 / 112</div>\n",
       "<div class=\"item\"><table><tr><td></td><td>0: He</td><td>1: shot</td><td>2: the</td><td>3: elephant</td><td>4: in</td><td>5: his</td><td>6: pyjamas</td></tr>\n",
       "<tr><td>0: He</td><td style=\"border:solid;\" bgcolor=\"white\"><font color=\"black\">Subj: 0.00</font></td><td style=\"border:solid;\" bgcolor=\"white\"></td><td style=\"border:solid;\" bgcolor=\"white\"></td><td style=\"border:solid;\" bgcolor=\"white\"></td><td style=\"border:solid;\" bgcolor=\"white\"></td><td style=\"border:solid;\" bgcolor=\"white\"></td><td style=\"border:solid;\" bgcolor=\"white\"></td></tr>\n",
       "<tr><td>1: shot</td><td style=\"border:none;\" bgcolor=\"white\"></td><td style=\"border:solid;\" bgcolor=\"#E1E1E1\"><font color=\"red\">Verb: 0.00</font></td><td style=\"border:solid;\" bgcolor=\"white\"></td><td style=\"border:solid;\" bgcolor=\"#C3C3C3\"></td><td style=\"border:solid;\" bgcolor=\"white\"></td><td style=\"border:solid;\" bgcolor=\"white\"></td><td style=\"border:solid;\" bgcolor=\"white\"></td></tr>\n",
       "<tr><td>2: the</td><td style=\"border:none;\" bgcolor=\"white\"></td><td style=\"border:none;\" bgcolor=\"white\"></td><td style=\"border:solid;\" bgcolor=\"white\"><font color=\"black\">Obj_5: 0.00</font>, <font color=\"black\">Obj_8: 0.00</font></td><td style=\"border:solid;\" bgcolor=\"#E1E1E1\"><font color=\"red\">Obj: -0.69</font></td><td style=\"border:solid;\" bgcolor=\"white\"></td><td style=\"border:solid;\" bgcolor=\"white\"></td><td style=\"border:solid;\" bgcolor=\"white\"></td></tr>\n",
       "<tr><td>3: elephant</td><td style=\"border:none;\" bgcolor=\"white\"></td><td style=\"border:none;\" bgcolor=\"white\"></td><td style=\"border:none;\" bgcolor=\"white\"></td><td style=\"border:solid;\" bgcolor=\"white\"><font color=\"black\">Obj_6: 0.00</font>, <font color=\"black\">Obj_7_9: 0.00</font></td><td style=\"border:solid;\" bgcolor=\"white\"></td><td style=\"border:solid;\" bgcolor=\"white\"></td><td style=\"border:solid;\" bgcolor=\"white\"></td></tr>\n",
       "<tr><td>4: in</td><td style=\"border:none;\" bgcolor=\"white\"></td><td style=\"border:none;\" bgcolor=\"white\"></td><td style=\"border:none;\" bgcolor=\"white\"></td><td style=\"border:none;\" bgcolor=\"white\"></td><td style=\"border:solid;\" bgcolor=\"white\"><font color=\"black\">PP_2: 0.00</font></td><td style=\"border:solid;\" bgcolor=\"white\"></td><td style=\"border:solid;\" bgcolor=\"white\"></td></tr>\n",
       "<tr><td>5: his</td><td style=\"border:none;\" bgcolor=\"white\"></td><td style=\"border:none;\" bgcolor=\"white\"></td><td style=\"border:none;\" bgcolor=\"white\"></td><td style=\"border:none;\" bgcolor=\"white\"></td><td style=\"border:none;\" bgcolor=\"white\"></td><td style=\"border:solid;\" bgcolor=\"white\"><font color=\"black\">PP_1_3: 0.00</font></td><td style=\"border:solid;\" bgcolor=\"white\"><font color=\"black\">PP_1: 0.00</font></td></tr>\n",
       "<tr><td>6: pyjamas</td><td style=\"border:none;\" bgcolor=\"white\"></td><td style=\"border:none;\" bgcolor=\"white\"></td><td style=\"border:none;\" bgcolor=\"white\"></td><td style=\"border:none;\" bgcolor=\"white\"></td><td style=\"border:none;\" bgcolor=\"white\"></td><td style=\"border:none;\" bgcolor=\"white\"></td><td style=\"border:solid;\" bgcolor=\"white\"><font color=\"black\">PP_1_4: 0.00</font></td></tr></table> 40 / 112</div>\n",
       "<div class=\"item\"><table><tr><td></td><td>0: He</td><td>1: shot</td><td>2: the</td><td>3: elephant</td><td>4: in</td><td>5: his</td><td>6: pyjamas</td></tr>\n",
       "<tr><td>0: He</td><td style=\"border:solid;\" bgcolor=\"white\"><font color=\"black\">Subj: 0.00</font></td><td style=\"border:solid;\" bgcolor=\"white\"></td><td style=\"border:solid;\" bgcolor=\"white\"></td><td style=\"border:solid;\" bgcolor=\"white\"></td><td style=\"border:solid;\" bgcolor=\"white\"></td><td style=\"border:solid;\" bgcolor=\"white\"></td><td style=\"border:solid;\" bgcolor=\"white\"></td></tr>\n",
       "<tr><td>1: shot</td><td style=\"border:none;\" bgcolor=\"white\"></td><td style=\"border:solid;\" bgcolor=\"#E1E1E1\"><font color=\"red\">Verb: 0.00</font></td><td style=\"border:solid;\" bgcolor=\"white\"></td><td style=\"border:solid;\" bgcolor=\"#C3C3C3\"><font color=\"blue\">VP: -1.90</font></td><td style=\"border:solid;\" bgcolor=\"white\"></td><td style=\"border:solid;\" bgcolor=\"white\"></td><td style=\"border:solid;\" bgcolor=\"white\"></td></tr>\n",
       "<tr><td>2: the</td><td style=\"border:none;\" bgcolor=\"white\"></td><td style=\"border:none;\" bgcolor=\"white\"></td><td style=\"border:solid;\" bgcolor=\"white\"><font color=\"black\">Obj_5: 0.00</font>, <font color=\"black\">Obj_8: 0.00</font></td><td style=\"border:solid;\" bgcolor=\"#E1E1E1\"><font color=\"red\">Obj: -0.69</font></td><td style=\"border:solid;\" bgcolor=\"white\"></td><td style=\"border:solid;\" bgcolor=\"white\"></td><td style=\"border:solid;\" bgcolor=\"white\"></td></tr>\n",
       "<tr><td>3: elephant</td><td style=\"border:none;\" bgcolor=\"white\"></td><td style=\"border:none;\" bgcolor=\"white\"></td><td style=\"border:none;\" bgcolor=\"white\"></td><td style=\"border:solid;\" bgcolor=\"white\"><font color=\"black\">Obj_6: 0.00</font>, <font color=\"black\">Obj_7_9: 0.00</font></td><td style=\"border:solid;\" bgcolor=\"white\"></td><td style=\"border:solid;\" bgcolor=\"white\"></td><td style=\"border:solid;\" bgcolor=\"white\"></td></tr>\n",
       "<tr><td>4: in</td><td style=\"border:none;\" bgcolor=\"white\"></td><td style=\"border:none;\" bgcolor=\"white\"></td><td style=\"border:none;\" bgcolor=\"white\"></td><td style=\"border:none;\" bgcolor=\"white\"></td><td style=\"border:solid;\" bgcolor=\"white\"><font color=\"black\">PP_2: 0.00</font></td><td style=\"border:solid;\" bgcolor=\"white\"></td><td style=\"border:solid;\" bgcolor=\"white\"></td></tr>\n",
       "<tr><td>5: his</td><td style=\"border:none;\" bgcolor=\"white\"></td><td style=\"border:none;\" bgcolor=\"white\"></td><td style=\"border:none;\" bgcolor=\"white\"></td><td style=\"border:none;\" bgcolor=\"white\"></td><td style=\"border:none;\" bgcolor=\"white\"></td><td style=\"border:solid;\" bgcolor=\"white\"><font color=\"black\">PP_1_3: 0.00</font></td><td style=\"border:solid;\" bgcolor=\"white\"><font color=\"black\">PP_1: 0.00</font></td></tr>\n",
       "<tr><td>6: pyjamas</td><td style=\"border:none;\" bgcolor=\"white\"></td><td style=\"border:none;\" bgcolor=\"white\"></td><td style=\"border:none;\" bgcolor=\"white\"></td><td style=\"border:none;\" bgcolor=\"white\"></td><td style=\"border:none;\" bgcolor=\"white\"></td><td style=\"border:none;\" bgcolor=\"white\"></td><td style=\"border:solid;\" bgcolor=\"white\"><font color=\"black\">PP_1_4: 0.00</font></td></tr></table> 41 / 112</div>\n",
       "<div class=\"item\"><table><tr><td></td><td>0: He</td><td>1: shot</td><td>2: the</td><td>3: elephant</td><td>4: in</td><td>5: his</td><td>6: pyjamas</td></tr>\n",
       "<tr><td>0: He</td><td style=\"border:solid;\" bgcolor=\"white\"><font color=\"black\">Subj: 0.00</font></td><td style=\"border:solid;\" bgcolor=\"white\"></td><td style=\"border:solid;\" bgcolor=\"white\"></td><td style=\"border:solid;\" bgcolor=\"white\"></td><td style=\"border:solid;\" bgcolor=\"white\"></td><td style=\"border:solid;\" bgcolor=\"white\"></td><td style=\"border:solid;\" bgcolor=\"white\"></td></tr>\n",
       "<tr><td>1: shot</td><td style=\"border:none;\" bgcolor=\"white\"></td><td style=\"border:solid;\" bgcolor=\"white\"><font color=\"black\">Verb: 0.00</font></td><td style=\"border:solid;\" bgcolor=\"#E1E1E1\"></td><td style=\"border:solid;\" bgcolor=\"#C3C3C3\"><font color=\"black\">VP: -1.90</font></td><td style=\"border:solid;\" bgcolor=\"white\"></td><td style=\"border:solid;\" bgcolor=\"white\"></td><td style=\"border:solid;\" bgcolor=\"white\"></td></tr>\n",
       "<tr><td>2: the</td><td style=\"border:none;\" bgcolor=\"white\"></td><td style=\"border:none;\" bgcolor=\"white\"></td><td style=\"border:solid;\" bgcolor=\"white\"><font color=\"black\">Obj_5: 0.00</font>, <font color=\"black\">Obj_8: 0.00</font></td><td style=\"border:solid;\" bgcolor=\"white\"><font color=\"black\">Obj: -0.69</font></td><td style=\"border:solid;\" bgcolor=\"white\"></td><td style=\"border:solid;\" bgcolor=\"white\"></td><td style=\"border:solid;\" bgcolor=\"white\"></td></tr>\n",
       "<tr><td>3: elephant</td><td style=\"border:none;\" bgcolor=\"white\"></td><td style=\"border:none;\" bgcolor=\"white\"></td><td style=\"border:none;\" bgcolor=\"white\"></td><td style=\"border:solid;\" bgcolor=\"#E1E1E1\"><font color=\"black\">Obj_6: 0.00</font>, <font color=\"black\">Obj_7_9: 0.00</font></td><td style=\"border:solid;\" bgcolor=\"white\"></td><td style=\"border:solid;\" bgcolor=\"white\"></td><td style=\"border:solid;\" bgcolor=\"white\"></td></tr>\n",
       "<tr><td>4: in</td><td style=\"border:none;\" bgcolor=\"white\"></td><td style=\"border:none;\" bgcolor=\"white\"></td><td style=\"border:none;\" bgcolor=\"white\"></td><td style=\"border:none;\" bgcolor=\"white\"></td><td style=\"border:solid;\" bgcolor=\"white\"><font color=\"black\">PP_2: 0.00</font></td><td style=\"border:solid;\" bgcolor=\"white\"></td><td style=\"border:solid;\" bgcolor=\"white\"></td></tr>\n",
       "<tr><td>5: his</td><td style=\"border:none;\" bgcolor=\"white\"></td><td style=\"border:none;\" bgcolor=\"white\"></td><td style=\"border:none;\" bgcolor=\"white\"></td><td style=\"border:none;\" bgcolor=\"white\"></td><td style=\"border:none;\" bgcolor=\"white\"></td><td style=\"border:solid;\" bgcolor=\"white\"><font color=\"black\">PP_1_3: 0.00</font></td><td style=\"border:solid;\" bgcolor=\"white\"><font color=\"black\">PP_1: 0.00</font></td></tr>\n",
       "<tr><td>6: pyjamas</td><td style=\"border:none;\" bgcolor=\"white\"></td><td style=\"border:none;\" bgcolor=\"white\"></td><td style=\"border:none;\" bgcolor=\"white\"></td><td style=\"border:none;\" bgcolor=\"white\"></td><td style=\"border:none;\" bgcolor=\"white\"></td><td style=\"border:none;\" bgcolor=\"white\"></td><td style=\"border:solid;\" bgcolor=\"white\"><font color=\"black\">PP_1_4: 0.00</font></td></tr></table> 42 / 112</div>\n",
       "<div class=\"item\"><table><tr><td></td><td>0: He</td><td>1: shot</td><td>2: the</td><td>3: elephant</td><td>4: in</td><td>5: his</td><td>6: pyjamas</td></tr>\n",
       "<tr><td>0: He</td><td style=\"border:solid;\" bgcolor=\"white\"><font color=\"black\">Subj: 0.00</font></td><td style=\"border:solid;\" bgcolor=\"white\"></td><td style=\"border:solid;\" bgcolor=\"white\"></td><td style=\"border:solid;\" bgcolor=\"white\"></td><td style=\"border:solid;\" bgcolor=\"white\"></td><td style=\"border:solid;\" bgcolor=\"white\"></td><td style=\"border:solid;\" bgcolor=\"white\"></td></tr>\n",
       "<tr><td>1: shot</td><td style=\"border:none;\" bgcolor=\"white\"></td><td style=\"border:solid;\" bgcolor=\"white\"><font color=\"black\">Verb: 0.00</font></td><td style=\"border:solid;\" bgcolor=\"white\"></td><td style=\"border:solid;\" bgcolor=\"white\"><font color=\"black\">VP: -1.90</font></td><td style=\"border:solid;\" bgcolor=\"white\"></td><td style=\"border:solid;\" bgcolor=\"white\"></td><td style=\"border:solid;\" bgcolor=\"white\"></td></tr>\n",
       "<tr><td>2: the</td><td style=\"border:none;\" bgcolor=\"white\"></td><td style=\"border:none;\" bgcolor=\"white\"></td><td style=\"border:solid;\" bgcolor=\"#E1E1E1\"><font color=\"black\">Obj_5: 0.00</font>, <font color=\"black\">Obj_8: 0.00</font></td><td style=\"border:solid;\" bgcolor=\"white\"><font color=\"black\">Obj: -0.69</font></td><td style=\"border:solid;\" bgcolor=\"#C3C3C3\"></td><td style=\"border:solid;\" bgcolor=\"white\"></td><td style=\"border:solid;\" bgcolor=\"white\"></td></tr>\n",
       "<tr><td>3: elephant</td><td style=\"border:none;\" bgcolor=\"white\"></td><td style=\"border:none;\" bgcolor=\"white\"></td><td style=\"border:none;\" bgcolor=\"white\"></td><td style=\"border:solid;\" bgcolor=\"white\"><font color=\"black\">Obj_6: 0.00</font>, <font color=\"black\">Obj_7_9: 0.00</font></td><td style=\"border:solid;\" bgcolor=\"#E1E1E1\"></td><td style=\"border:solid;\" bgcolor=\"white\"></td><td style=\"border:solid;\" bgcolor=\"white\"></td></tr>\n",
       "<tr><td>4: in</td><td style=\"border:none;\" bgcolor=\"white\"></td><td style=\"border:none;\" bgcolor=\"white\"></td><td style=\"border:none;\" bgcolor=\"white\"></td><td style=\"border:none;\" bgcolor=\"white\"></td><td style=\"border:solid;\" bgcolor=\"white\"><font color=\"black\">PP_2: 0.00</font></td><td style=\"border:solid;\" bgcolor=\"white\"></td><td style=\"border:solid;\" bgcolor=\"white\"></td></tr>\n",
       "<tr><td>5: his</td><td style=\"border:none;\" bgcolor=\"white\"></td><td style=\"border:none;\" bgcolor=\"white\"></td><td style=\"border:none;\" bgcolor=\"white\"></td><td style=\"border:none;\" bgcolor=\"white\"></td><td style=\"border:none;\" bgcolor=\"white\"></td><td style=\"border:solid;\" bgcolor=\"white\"><font color=\"black\">PP_1_3: 0.00</font></td><td style=\"border:solid;\" bgcolor=\"white\"><font color=\"black\">PP_1: 0.00</font></td></tr>\n",
       "<tr><td>6: pyjamas</td><td style=\"border:none;\" bgcolor=\"white\"></td><td style=\"border:none;\" bgcolor=\"white\"></td><td style=\"border:none;\" bgcolor=\"white\"></td><td style=\"border:none;\" bgcolor=\"white\"></td><td style=\"border:none;\" bgcolor=\"white\"></td><td style=\"border:none;\" bgcolor=\"white\"></td><td style=\"border:solid;\" bgcolor=\"white\"><font color=\"black\">PP_1_4: 0.00</font></td></tr></table> 43 / 112</div>\n",
       "<div class=\"item\"><table><tr><td></td><td>0: He</td><td>1: shot</td><td>2: the</td><td>3: elephant</td><td>4: in</td><td>5: his</td><td>6: pyjamas</td></tr>\n",
       "<tr><td>0: He</td><td style=\"border:solid;\" bgcolor=\"white\"><font color=\"black\">Subj: 0.00</font></td><td style=\"border:solid;\" bgcolor=\"white\"></td><td style=\"border:solid;\" bgcolor=\"white\"></td><td style=\"border:solid;\" bgcolor=\"white\"></td><td style=\"border:solid;\" bgcolor=\"white\"></td><td style=\"border:solid;\" bgcolor=\"white\"></td><td style=\"border:solid;\" bgcolor=\"white\"></td></tr>\n",
       "<tr><td>1: shot</td><td style=\"border:none;\" bgcolor=\"white\"></td><td style=\"border:solid;\" bgcolor=\"white\"><font color=\"black\">Verb: 0.00</font></td><td style=\"border:solid;\" bgcolor=\"white\"></td><td style=\"border:solid;\" bgcolor=\"white\"><font color=\"black\">VP: -1.90</font></td><td style=\"border:solid;\" bgcolor=\"white\"></td><td style=\"border:solid;\" bgcolor=\"white\"></td><td style=\"border:solid;\" bgcolor=\"white\"></td></tr>\n",
       "<tr><td>2: the</td><td style=\"border:none;\" bgcolor=\"white\"></td><td style=\"border:none;\" bgcolor=\"white\"></td><td style=\"border:solid;\" bgcolor=\"white\"><font color=\"black\">Obj_5: 0.00</font>, <font color=\"black\">Obj_8: 0.00</font></td><td style=\"border:solid;\" bgcolor=\"#E1E1E1\"><font color=\"black\">Obj: -0.69</font></td><td style=\"border:solid;\" bgcolor=\"#C3C3C3\"></td><td style=\"border:solid;\" bgcolor=\"white\"></td><td style=\"border:solid;\" bgcolor=\"white\"></td></tr>\n",
       "<tr><td>3: elephant</td><td style=\"border:none;\" bgcolor=\"white\"></td><td style=\"border:none;\" bgcolor=\"white\"></td><td style=\"border:none;\" bgcolor=\"white\"></td><td style=\"border:solid;\" bgcolor=\"white\"><font color=\"black\">Obj_6: 0.00</font>, <font color=\"black\">Obj_7_9: 0.00</font></td><td style=\"border:solid;\" bgcolor=\"white\"></td><td style=\"border:solid;\" bgcolor=\"white\"></td><td style=\"border:solid;\" bgcolor=\"white\"></td></tr>\n",
       "<tr><td>4: in</td><td style=\"border:none;\" bgcolor=\"white\"></td><td style=\"border:none;\" bgcolor=\"white\"></td><td style=\"border:none;\" bgcolor=\"white\"></td><td style=\"border:none;\" bgcolor=\"white\"></td><td style=\"border:solid;\" bgcolor=\"#E1E1E1\"><font color=\"black\">PP_2: 0.00</font></td><td style=\"border:solid;\" bgcolor=\"white\"></td><td style=\"border:solid;\" bgcolor=\"white\"></td></tr>\n",
       "<tr><td>5: his</td><td style=\"border:none;\" bgcolor=\"white\"></td><td style=\"border:none;\" bgcolor=\"white\"></td><td style=\"border:none;\" bgcolor=\"white\"></td><td style=\"border:none;\" bgcolor=\"white\"></td><td style=\"border:none;\" bgcolor=\"white\"></td><td style=\"border:solid;\" bgcolor=\"white\"><font color=\"black\">PP_1_3: 0.00</font></td><td style=\"border:solid;\" bgcolor=\"white\"><font color=\"black\">PP_1: 0.00</font></td></tr>\n",
       "<tr><td>6: pyjamas</td><td style=\"border:none;\" bgcolor=\"white\"></td><td style=\"border:none;\" bgcolor=\"white\"></td><td style=\"border:none;\" bgcolor=\"white\"></td><td style=\"border:none;\" bgcolor=\"white\"></td><td style=\"border:none;\" bgcolor=\"white\"></td><td style=\"border:none;\" bgcolor=\"white\"></td><td style=\"border:solid;\" bgcolor=\"white\"><font color=\"black\">PP_1_4: 0.00</font></td></tr></table> 44 / 112</div>\n",
       "<div class=\"item\"><table><tr><td></td><td>0: He</td><td>1: shot</td><td>2: the</td><td>3: elephant</td><td>4: in</td><td>5: his</td><td>6: pyjamas</td></tr>\n",
       "<tr><td>0: He</td><td style=\"border:solid;\" bgcolor=\"white\"><font color=\"black\">Subj: 0.00</font></td><td style=\"border:solid;\" bgcolor=\"white\"></td><td style=\"border:solid;\" bgcolor=\"white\"></td><td style=\"border:solid;\" bgcolor=\"white\"></td><td style=\"border:solid;\" bgcolor=\"white\"></td><td style=\"border:solid;\" bgcolor=\"white\"></td><td style=\"border:solid;\" bgcolor=\"white\"></td></tr>\n",
       "<tr><td>1: shot</td><td style=\"border:none;\" bgcolor=\"white\"></td><td style=\"border:solid;\" bgcolor=\"white\"><font color=\"black\">Verb: 0.00</font></td><td style=\"border:solid;\" bgcolor=\"white\"></td><td style=\"border:solid;\" bgcolor=\"white\"><font color=\"black\">VP: -1.90</font></td><td style=\"border:solid;\" bgcolor=\"white\"></td><td style=\"border:solid;\" bgcolor=\"white\"></td><td style=\"border:solid;\" bgcolor=\"white\"></td></tr>\n",
       "<tr><td>2: the</td><td style=\"border:none;\" bgcolor=\"white\"></td><td style=\"border:none;\" bgcolor=\"white\"></td><td style=\"border:solid;\" bgcolor=\"white\"><font color=\"black\">Obj_5: 0.00</font>, <font color=\"black\">Obj_8: 0.00</font></td><td style=\"border:solid;\" bgcolor=\"#E1E1E1\"><font color=\"red\">Obj: -0.69</font></td><td style=\"border:solid;\" bgcolor=\"#C3C3C3\"></td><td style=\"border:solid;\" bgcolor=\"white\"></td><td style=\"border:solid;\" bgcolor=\"white\"></td></tr>\n",
       "<tr><td>3: elephant</td><td style=\"border:none;\" bgcolor=\"white\"></td><td style=\"border:none;\" bgcolor=\"white\"></td><td style=\"border:none;\" bgcolor=\"white\"></td><td style=\"border:solid;\" bgcolor=\"white\"><font color=\"black\">Obj_6: 0.00</font>, <font color=\"black\">Obj_7_9: 0.00</font></td><td style=\"border:solid;\" bgcolor=\"white\"></td><td style=\"border:solid;\" bgcolor=\"white\"></td><td style=\"border:solid;\" bgcolor=\"white\"></td></tr>\n",
       "<tr><td>4: in</td><td style=\"border:none;\" bgcolor=\"white\"></td><td style=\"border:none;\" bgcolor=\"white\"></td><td style=\"border:none;\" bgcolor=\"white\"></td><td style=\"border:none;\" bgcolor=\"white\"></td><td style=\"border:solid;\" bgcolor=\"#E1E1E1\"><font color=\"red\">PP_2: 0.00</font></td><td style=\"border:solid;\" bgcolor=\"white\"></td><td style=\"border:solid;\" bgcolor=\"white\"></td></tr>\n",
       "<tr><td>5: his</td><td style=\"border:none;\" bgcolor=\"white\"></td><td style=\"border:none;\" bgcolor=\"white\"></td><td style=\"border:none;\" bgcolor=\"white\"></td><td style=\"border:none;\" bgcolor=\"white\"></td><td style=\"border:none;\" bgcolor=\"white\"></td><td style=\"border:solid;\" bgcolor=\"white\"><font color=\"black\">PP_1_3: 0.00</font></td><td style=\"border:solid;\" bgcolor=\"white\"><font color=\"black\">PP_1: 0.00</font></td></tr>\n",
       "<tr><td>6: pyjamas</td><td style=\"border:none;\" bgcolor=\"white\"></td><td style=\"border:none;\" bgcolor=\"white\"></td><td style=\"border:none;\" bgcolor=\"white\"></td><td style=\"border:none;\" bgcolor=\"white\"></td><td style=\"border:none;\" bgcolor=\"white\"></td><td style=\"border:none;\" bgcolor=\"white\"></td><td style=\"border:solid;\" bgcolor=\"white\"><font color=\"black\">PP_1_4: 0.00</font></td></tr></table> 45 / 112</div>\n",
       "<div class=\"item\"><table><tr><td></td><td>0: He</td><td>1: shot</td><td>2: the</td><td>3: elephant</td><td>4: in</td><td>5: his</td><td>6: pyjamas</td></tr>\n",
       "<tr><td>0: He</td><td style=\"border:solid;\" bgcolor=\"white\"><font color=\"black\">Subj: 0.00</font></td><td style=\"border:solid;\" bgcolor=\"white\"></td><td style=\"border:solid;\" bgcolor=\"white\"></td><td style=\"border:solid;\" bgcolor=\"white\"></td><td style=\"border:solid;\" bgcolor=\"white\"></td><td style=\"border:solid;\" bgcolor=\"white\"></td><td style=\"border:solid;\" bgcolor=\"white\"></td></tr>\n",
       "<tr><td>1: shot</td><td style=\"border:none;\" bgcolor=\"white\"></td><td style=\"border:solid;\" bgcolor=\"white\"><font color=\"black\">Verb: 0.00</font></td><td style=\"border:solid;\" bgcolor=\"white\"></td><td style=\"border:solid;\" bgcolor=\"white\"><font color=\"black\">VP: -1.90</font></td><td style=\"border:solid;\" bgcolor=\"white\"></td><td style=\"border:solid;\" bgcolor=\"white\"></td><td style=\"border:solid;\" bgcolor=\"white\"></td></tr>\n",
       "<tr><td>2: the</td><td style=\"border:none;\" bgcolor=\"white\"></td><td style=\"border:none;\" bgcolor=\"white\"></td><td style=\"border:solid;\" bgcolor=\"white\"><font color=\"black\">Obj_5: 0.00</font>, <font color=\"black\">Obj_8: 0.00</font></td><td style=\"border:solid;\" bgcolor=\"white\"><font color=\"black\">Obj: -0.69</font></td><td style=\"border:solid;\" bgcolor=\"white\"></td><td style=\"border:solid;\" bgcolor=\"white\"></td><td style=\"border:solid;\" bgcolor=\"white\"></td></tr>\n",
       "<tr><td>3: elephant</td><td style=\"border:none;\" bgcolor=\"white\"></td><td style=\"border:none;\" bgcolor=\"white\"></td><td style=\"border:none;\" bgcolor=\"white\"></td><td style=\"border:solid;\" bgcolor=\"#E1E1E1\"><font color=\"black\">Obj_6: 0.00</font>, <font color=\"black\">Obj_7_9: 0.00</font></td><td style=\"border:solid;\" bgcolor=\"white\"></td><td style=\"border:solid;\" bgcolor=\"#C3C3C3\"></td><td style=\"border:solid;\" bgcolor=\"white\"></td></tr>\n",
       "<tr><td>4: in</td><td style=\"border:none;\" bgcolor=\"white\"></td><td style=\"border:none;\" bgcolor=\"white\"></td><td style=\"border:none;\" bgcolor=\"white\"></td><td style=\"border:none;\" bgcolor=\"white\"></td><td style=\"border:solid;\" bgcolor=\"white\"><font color=\"black\">PP_2: 0.00</font></td><td style=\"border:solid;\" bgcolor=\"#E1E1E1\"></td><td style=\"border:solid;\" bgcolor=\"white\"></td></tr>\n",
       "<tr><td>5: his</td><td style=\"border:none;\" bgcolor=\"white\"></td><td style=\"border:none;\" bgcolor=\"white\"></td><td style=\"border:none;\" bgcolor=\"white\"></td><td style=\"border:none;\" bgcolor=\"white\"></td><td style=\"border:none;\" bgcolor=\"white\"></td><td style=\"border:solid;\" bgcolor=\"white\"><font color=\"black\">PP_1_3: 0.00</font></td><td style=\"border:solid;\" bgcolor=\"white\"><font color=\"black\">PP_1: 0.00</font></td></tr>\n",
       "<tr><td>6: pyjamas</td><td style=\"border:none;\" bgcolor=\"white\"></td><td style=\"border:none;\" bgcolor=\"white\"></td><td style=\"border:none;\" bgcolor=\"white\"></td><td style=\"border:none;\" bgcolor=\"white\"></td><td style=\"border:none;\" bgcolor=\"white\"></td><td style=\"border:none;\" bgcolor=\"white\"></td><td style=\"border:solid;\" bgcolor=\"white\"><font color=\"black\">PP_1_4: 0.00</font></td></tr></table> 46 / 112</div>\n",
       "<div class=\"item\"><table><tr><td></td><td>0: He</td><td>1: shot</td><td>2: the</td><td>3: elephant</td><td>4: in</td><td>5: his</td><td>6: pyjamas</td></tr>\n",
       "<tr><td>0: He</td><td style=\"border:solid;\" bgcolor=\"white\"><font color=\"black\">Subj: 0.00</font></td><td style=\"border:solid;\" bgcolor=\"white\"></td><td style=\"border:solid;\" bgcolor=\"white\"></td><td style=\"border:solid;\" bgcolor=\"white\"></td><td style=\"border:solid;\" bgcolor=\"white\"></td><td style=\"border:solid;\" bgcolor=\"white\"></td><td style=\"border:solid;\" bgcolor=\"white\"></td></tr>\n",
       "<tr><td>1: shot</td><td style=\"border:none;\" bgcolor=\"white\"></td><td style=\"border:solid;\" bgcolor=\"white\"><font color=\"black\">Verb: 0.00</font></td><td style=\"border:solid;\" bgcolor=\"white\"></td><td style=\"border:solid;\" bgcolor=\"white\"><font color=\"black\">VP: -1.90</font></td><td style=\"border:solid;\" bgcolor=\"white\"></td><td style=\"border:solid;\" bgcolor=\"white\"></td><td style=\"border:solid;\" bgcolor=\"white\"></td></tr>\n",
       "<tr><td>2: the</td><td style=\"border:none;\" bgcolor=\"white\"></td><td style=\"border:none;\" bgcolor=\"white\"></td><td style=\"border:solid;\" bgcolor=\"white\"><font color=\"black\">Obj_5: 0.00</font>, <font color=\"black\">Obj_8: 0.00</font></td><td style=\"border:solid;\" bgcolor=\"white\"><font color=\"black\">Obj: -0.69</font></td><td style=\"border:solid;\" bgcolor=\"white\"></td><td style=\"border:solid;\" bgcolor=\"white\"></td><td style=\"border:solid;\" bgcolor=\"white\"></td></tr>\n",
       "<tr><td>3: elephant</td><td style=\"border:none;\" bgcolor=\"white\"></td><td style=\"border:none;\" bgcolor=\"white\"></td><td style=\"border:none;\" bgcolor=\"white\"></td><td style=\"border:solid;\" bgcolor=\"white\"><font color=\"black\">Obj_6: 0.00</font>, <font color=\"black\">Obj_7_9: 0.00</font></td><td style=\"border:solid;\" bgcolor=\"#E1E1E1\"></td><td style=\"border:solid;\" bgcolor=\"#C3C3C3\"></td><td style=\"border:solid;\" bgcolor=\"white\"></td></tr>\n",
       "<tr><td>4: in</td><td style=\"border:none;\" bgcolor=\"white\"></td><td style=\"border:none;\" bgcolor=\"white\"></td><td style=\"border:none;\" bgcolor=\"white\"></td><td style=\"border:none;\" bgcolor=\"white\"></td><td style=\"border:solid;\" bgcolor=\"white\"><font color=\"black\">PP_2: 0.00</font></td><td style=\"border:solid;\" bgcolor=\"white\"></td><td style=\"border:solid;\" bgcolor=\"white\"></td></tr>\n",
       "<tr><td>5: his</td><td style=\"border:none;\" bgcolor=\"white\"></td><td style=\"border:none;\" bgcolor=\"white\"></td><td style=\"border:none;\" bgcolor=\"white\"></td><td style=\"border:none;\" bgcolor=\"white\"></td><td style=\"border:none;\" bgcolor=\"white\"></td><td style=\"border:solid;\" bgcolor=\"#E1E1E1\"><font color=\"black\">PP_1_3: 0.00</font></td><td style=\"border:solid;\" bgcolor=\"white\"><font color=\"black\">PP_1: 0.00</font></td></tr>\n",
       "<tr><td>6: pyjamas</td><td style=\"border:none;\" bgcolor=\"white\"></td><td style=\"border:none;\" bgcolor=\"white\"></td><td style=\"border:none;\" bgcolor=\"white\"></td><td style=\"border:none;\" bgcolor=\"white\"></td><td style=\"border:none;\" bgcolor=\"white\"></td><td style=\"border:none;\" bgcolor=\"white\"></td><td style=\"border:solid;\" bgcolor=\"white\"><font color=\"black\">PP_1_4: 0.00</font></td></tr></table> 47 / 112</div>\n",
       "<div class=\"item\"><table><tr><td></td><td>0: He</td><td>1: shot</td><td>2: the</td><td>3: elephant</td><td>4: in</td><td>5: his</td><td>6: pyjamas</td></tr>\n",
       "<tr><td>0: He</td><td style=\"border:solid;\" bgcolor=\"white\"><font color=\"black\">Subj: 0.00</font></td><td style=\"border:solid;\" bgcolor=\"white\"></td><td style=\"border:solid;\" bgcolor=\"white\"></td><td style=\"border:solid;\" bgcolor=\"white\"></td><td style=\"border:solid;\" bgcolor=\"white\"></td><td style=\"border:solid;\" bgcolor=\"white\"></td><td style=\"border:solid;\" bgcolor=\"white\"></td></tr>\n",
       "<tr><td>1: shot</td><td style=\"border:none;\" bgcolor=\"white\"></td><td style=\"border:solid;\" bgcolor=\"white\"><font color=\"black\">Verb: 0.00</font></td><td style=\"border:solid;\" bgcolor=\"white\"></td><td style=\"border:solid;\" bgcolor=\"white\"><font color=\"black\">VP: -1.90</font></td><td style=\"border:solid;\" bgcolor=\"white\"></td><td style=\"border:solid;\" bgcolor=\"white\"></td><td style=\"border:solid;\" bgcolor=\"white\"></td></tr>\n",
       "<tr><td>2: the</td><td style=\"border:none;\" bgcolor=\"white\"></td><td style=\"border:none;\" bgcolor=\"white\"></td><td style=\"border:solid;\" bgcolor=\"white\"><font color=\"black\">Obj_5: 0.00</font>, <font color=\"black\">Obj_8: 0.00</font></td><td style=\"border:solid;\" bgcolor=\"white\"><font color=\"black\">Obj: -0.69</font></td><td style=\"border:solid;\" bgcolor=\"white\"></td><td style=\"border:solid;\" bgcolor=\"white\"></td><td style=\"border:solid;\" bgcolor=\"white\"></td></tr>\n",
       "<tr><td>3: elephant</td><td style=\"border:none;\" bgcolor=\"white\"></td><td style=\"border:none;\" bgcolor=\"white\"></td><td style=\"border:none;\" bgcolor=\"white\"></td><td style=\"border:solid;\" bgcolor=\"white\"><font color=\"black\">Obj_6: 0.00</font>, <font color=\"black\">Obj_7_9: 0.00</font></td><td style=\"border:solid;\" bgcolor=\"white\"></td><td style=\"border:solid;\" bgcolor=\"white\"></td><td style=\"border:solid;\" bgcolor=\"white\"></td></tr>\n",
       "<tr><td>4: in</td><td style=\"border:none;\" bgcolor=\"white\"></td><td style=\"border:none;\" bgcolor=\"white\"></td><td style=\"border:none;\" bgcolor=\"white\"></td><td style=\"border:none;\" bgcolor=\"white\"></td><td style=\"border:solid;\" bgcolor=\"#E1E1E1\"><font color=\"black\">PP_2: 0.00</font></td><td style=\"border:solid;\" bgcolor=\"white\"></td><td style=\"border:solid;\" bgcolor=\"#C3C3C3\"></td></tr>\n",
       "<tr><td>5: his</td><td style=\"border:none;\" bgcolor=\"white\"></td><td style=\"border:none;\" bgcolor=\"white\"></td><td style=\"border:none;\" bgcolor=\"white\"></td><td style=\"border:none;\" bgcolor=\"white\"></td><td style=\"border:none;\" bgcolor=\"white\"></td><td style=\"border:solid;\" bgcolor=\"white\"><font color=\"black\">PP_1_3: 0.00</font></td><td style=\"border:solid;\" bgcolor=\"#E1E1E1\"><font color=\"black\">PP_1: 0.00</font></td></tr>\n",
       "<tr><td>6: pyjamas</td><td style=\"border:none;\" bgcolor=\"white\"></td><td style=\"border:none;\" bgcolor=\"white\"></td><td style=\"border:none;\" bgcolor=\"white\"></td><td style=\"border:none;\" bgcolor=\"white\"></td><td style=\"border:none;\" bgcolor=\"white\"></td><td style=\"border:none;\" bgcolor=\"white\"></td><td style=\"border:solid;\" bgcolor=\"white\"><font color=\"black\">PP_1_4: 0.00</font></td></tr></table> 48 / 112</div>\n",
       "<div class=\"item\"><table><tr><td></td><td>0: He</td><td>1: shot</td><td>2: the</td><td>3: elephant</td><td>4: in</td><td>5: his</td><td>6: pyjamas</td></tr>\n",
       "<tr><td>0: He</td><td style=\"border:solid;\" bgcolor=\"white\"><font color=\"black\">Subj: 0.00</font></td><td style=\"border:solid;\" bgcolor=\"white\"></td><td style=\"border:solid;\" bgcolor=\"white\"></td><td style=\"border:solid;\" bgcolor=\"white\"></td><td style=\"border:solid;\" bgcolor=\"white\"></td><td style=\"border:solid;\" bgcolor=\"white\"></td><td style=\"border:solid;\" bgcolor=\"white\"></td></tr>\n",
       "<tr><td>1: shot</td><td style=\"border:none;\" bgcolor=\"white\"></td><td style=\"border:solid;\" bgcolor=\"white\"><font color=\"black\">Verb: 0.00</font></td><td style=\"border:solid;\" bgcolor=\"white\"></td><td style=\"border:solid;\" bgcolor=\"white\"><font color=\"black\">VP: -1.90</font></td><td style=\"border:solid;\" bgcolor=\"white\"></td><td style=\"border:solid;\" bgcolor=\"white\"></td><td style=\"border:solid;\" bgcolor=\"white\"></td></tr>\n",
       "<tr><td>2: the</td><td style=\"border:none;\" bgcolor=\"white\"></td><td style=\"border:none;\" bgcolor=\"white\"></td><td style=\"border:solid;\" bgcolor=\"white\"><font color=\"black\">Obj_5: 0.00</font>, <font color=\"black\">Obj_8: 0.00</font></td><td style=\"border:solid;\" bgcolor=\"white\"><font color=\"black\">Obj: -0.69</font></td><td style=\"border:solid;\" bgcolor=\"white\"></td><td style=\"border:solid;\" bgcolor=\"white\"></td><td style=\"border:solid;\" bgcolor=\"white\"></td></tr>\n",
       "<tr><td>3: elephant</td><td style=\"border:none;\" bgcolor=\"white\"></td><td style=\"border:none;\" bgcolor=\"white\"></td><td style=\"border:none;\" bgcolor=\"white\"></td><td style=\"border:solid;\" bgcolor=\"white\"><font color=\"black\">Obj_6: 0.00</font>, <font color=\"black\">Obj_7_9: 0.00</font></td><td style=\"border:solid;\" bgcolor=\"white\"></td><td style=\"border:solid;\" bgcolor=\"white\"></td><td style=\"border:solid;\" bgcolor=\"white\"></td></tr>\n",
       "<tr><td>4: in</td><td style=\"border:none;\" bgcolor=\"white\"></td><td style=\"border:none;\" bgcolor=\"white\"></td><td style=\"border:none;\" bgcolor=\"white\"></td><td style=\"border:none;\" bgcolor=\"white\"></td><td style=\"border:solid;\" bgcolor=\"#E1E1E1\"><font color=\"red\">PP_2: 0.00</font></td><td style=\"border:solid;\" bgcolor=\"white\"></td><td style=\"border:solid;\" bgcolor=\"#C3C3C3\"></td></tr>\n",
       "<tr><td>5: his</td><td style=\"border:none;\" bgcolor=\"white\"></td><td style=\"border:none;\" bgcolor=\"white\"></td><td style=\"border:none;\" bgcolor=\"white\"></td><td style=\"border:none;\" bgcolor=\"white\"></td><td style=\"border:none;\" bgcolor=\"white\"></td><td style=\"border:solid;\" bgcolor=\"white\"><font color=\"black\">PP_1_3: 0.00</font></td><td style=\"border:solid;\" bgcolor=\"#E1E1E1\"><font color=\"red\">PP_1: 0.00</font></td></tr>\n",
       "<tr><td>6: pyjamas</td><td style=\"border:none;\" bgcolor=\"white\"></td><td style=\"border:none;\" bgcolor=\"white\"></td><td style=\"border:none;\" bgcolor=\"white\"></td><td style=\"border:none;\" bgcolor=\"white\"></td><td style=\"border:none;\" bgcolor=\"white\"></td><td style=\"border:none;\" bgcolor=\"white\"></td><td style=\"border:solid;\" bgcolor=\"white\"><font color=\"black\">PP_1_4: 0.00</font></td></tr></table> 49 / 112</div>\n",
       "<div class=\"item\"><table><tr><td></td><td>0: He</td><td>1: shot</td><td>2: the</td><td>3: elephant</td><td>4: in</td><td>5: his</td><td>6: pyjamas</td></tr>\n",
       "<tr><td>0: He</td><td style=\"border:solid;\" bgcolor=\"white\"><font color=\"black\">Subj: 0.00</font></td><td style=\"border:solid;\" bgcolor=\"white\"></td><td style=\"border:solid;\" bgcolor=\"white\"></td><td style=\"border:solid;\" bgcolor=\"white\"></td><td style=\"border:solid;\" bgcolor=\"white\"></td><td style=\"border:solid;\" bgcolor=\"white\"></td><td style=\"border:solid;\" bgcolor=\"white\"></td></tr>\n",
       "<tr><td>1: shot</td><td style=\"border:none;\" bgcolor=\"white\"></td><td style=\"border:solid;\" bgcolor=\"white\"><font color=\"black\">Verb: 0.00</font></td><td style=\"border:solid;\" bgcolor=\"white\"></td><td style=\"border:solid;\" bgcolor=\"white\"><font color=\"black\">VP: -1.90</font></td><td style=\"border:solid;\" bgcolor=\"white\"></td><td style=\"border:solid;\" bgcolor=\"white\"></td><td style=\"border:solid;\" bgcolor=\"white\"></td></tr>\n",
       "<tr><td>2: the</td><td style=\"border:none;\" bgcolor=\"white\"></td><td style=\"border:none;\" bgcolor=\"white\"></td><td style=\"border:solid;\" bgcolor=\"white\"><font color=\"black\">Obj_5: 0.00</font>, <font color=\"black\">Obj_8: 0.00</font></td><td style=\"border:solid;\" bgcolor=\"white\"><font color=\"black\">Obj: -0.69</font></td><td style=\"border:solid;\" bgcolor=\"white\"></td><td style=\"border:solid;\" bgcolor=\"white\"></td><td style=\"border:solid;\" bgcolor=\"white\"></td></tr>\n",
       "<tr><td>3: elephant</td><td style=\"border:none;\" bgcolor=\"white\"></td><td style=\"border:none;\" bgcolor=\"white\"></td><td style=\"border:none;\" bgcolor=\"white\"></td><td style=\"border:solid;\" bgcolor=\"white\"><font color=\"black\">Obj_6: 0.00</font>, <font color=\"black\">Obj_7_9: 0.00</font></td><td style=\"border:solid;\" bgcolor=\"white\"></td><td style=\"border:solid;\" bgcolor=\"white\"></td><td style=\"border:solid;\" bgcolor=\"white\"></td></tr>\n",
       "<tr><td>4: in</td><td style=\"border:none;\" bgcolor=\"white\"></td><td style=\"border:none;\" bgcolor=\"white\"></td><td style=\"border:none;\" bgcolor=\"white\"></td><td style=\"border:none;\" bgcolor=\"white\"></td><td style=\"border:solid;\" bgcolor=\"#E1E1E1\"><font color=\"red\">PP_2: 0.00</font></td><td style=\"border:solid;\" bgcolor=\"white\"></td><td style=\"border:solid;\" bgcolor=\"#C3C3C3\"><font color=\"blue\">PP: 0.00</font></td></tr>\n",
       "<tr><td>5: his</td><td style=\"border:none;\" bgcolor=\"white\"></td><td style=\"border:none;\" bgcolor=\"white\"></td><td style=\"border:none;\" bgcolor=\"white\"></td><td style=\"border:none;\" bgcolor=\"white\"></td><td style=\"border:none;\" bgcolor=\"white\"></td><td style=\"border:solid;\" bgcolor=\"white\"><font color=\"black\">PP_1_3: 0.00</font></td><td style=\"border:solid;\" bgcolor=\"#E1E1E1\"><font color=\"red\">PP_1: 0.00</font></td></tr>\n",
       "<tr><td>6: pyjamas</td><td style=\"border:none;\" bgcolor=\"white\"></td><td style=\"border:none;\" bgcolor=\"white\"></td><td style=\"border:none;\" bgcolor=\"white\"></td><td style=\"border:none;\" bgcolor=\"white\"></td><td style=\"border:none;\" bgcolor=\"white\"></td><td style=\"border:none;\" bgcolor=\"white\"></td><td style=\"border:solid;\" bgcolor=\"white\"><font color=\"black\">PP_1_4: 0.00</font></td></tr></table> 50 / 112</div>\n",
       "<div class=\"item\"><table><tr><td></td><td>0: He</td><td>1: shot</td><td>2: the</td><td>3: elephant</td><td>4: in</td><td>5: his</td><td>6: pyjamas</td></tr>\n",
       "<tr><td>0: He</td><td style=\"border:solid;\" bgcolor=\"white\"><font color=\"black\">Subj: 0.00</font></td><td style=\"border:solid;\" bgcolor=\"white\"></td><td style=\"border:solid;\" bgcolor=\"white\"></td><td style=\"border:solid;\" bgcolor=\"white\"></td><td style=\"border:solid;\" bgcolor=\"white\"></td><td style=\"border:solid;\" bgcolor=\"white\"></td><td style=\"border:solid;\" bgcolor=\"white\"></td></tr>\n",
       "<tr><td>1: shot</td><td style=\"border:none;\" bgcolor=\"white\"></td><td style=\"border:solid;\" bgcolor=\"white\"><font color=\"black\">Verb: 0.00</font></td><td style=\"border:solid;\" bgcolor=\"white\"></td><td style=\"border:solid;\" bgcolor=\"white\"><font color=\"black\">VP: -1.90</font></td><td style=\"border:solid;\" bgcolor=\"white\"></td><td style=\"border:solid;\" bgcolor=\"white\"></td><td style=\"border:solid;\" bgcolor=\"white\"></td></tr>\n",
       "<tr><td>2: the</td><td style=\"border:none;\" bgcolor=\"white\"></td><td style=\"border:none;\" bgcolor=\"white\"></td><td style=\"border:solid;\" bgcolor=\"white\"><font color=\"black\">Obj_5: 0.00</font>, <font color=\"black\">Obj_8: 0.00</font></td><td style=\"border:solid;\" bgcolor=\"white\"><font color=\"black\">Obj: -0.69</font></td><td style=\"border:solid;\" bgcolor=\"white\"></td><td style=\"border:solid;\" bgcolor=\"white\"></td><td style=\"border:solid;\" bgcolor=\"white\"></td></tr>\n",
       "<tr><td>3: elephant</td><td style=\"border:none;\" bgcolor=\"white\"></td><td style=\"border:none;\" bgcolor=\"white\"></td><td style=\"border:none;\" bgcolor=\"white\"></td><td style=\"border:solid;\" bgcolor=\"white\"><font color=\"black\">Obj_6: 0.00</font>, <font color=\"black\">Obj_7_9: 0.00</font></td><td style=\"border:solid;\" bgcolor=\"white\"></td><td style=\"border:solid;\" bgcolor=\"white\"></td><td style=\"border:solid;\" bgcolor=\"white\"></td></tr>\n",
       "<tr><td>4: in</td><td style=\"border:none;\" bgcolor=\"white\"></td><td style=\"border:none;\" bgcolor=\"white\"></td><td style=\"border:none;\" bgcolor=\"white\"></td><td style=\"border:none;\" bgcolor=\"white\"></td><td style=\"border:solid;\" bgcolor=\"white\"><font color=\"black\">PP_2: 0.00</font></td><td style=\"border:solid;\" bgcolor=\"#E1E1E1\"></td><td style=\"border:solid;\" bgcolor=\"#C3C3C3\"><font color=\"black\">PP: 0.00</font></td></tr>\n",
       "<tr><td>5: his</td><td style=\"border:none;\" bgcolor=\"white\"></td><td style=\"border:none;\" bgcolor=\"white\"></td><td style=\"border:none;\" bgcolor=\"white\"></td><td style=\"border:none;\" bgcolor=\"white\"></td><td style=\"border:none;\" bgcolor=\"white\"></td><td style=\"border:solid;\" bgcolor=\"white\"><font color=\"black\">PP_1_3: 0.00</font></td><td style=\"border:solid;\" bgcolor=\"white\"><font color=\"black\">PP_1: 0.00</font></td></tr>\n",
       "<tr><td>6: pyjamas</td><td style=\"border:none;\" bgcolor=\"white\"></td><td style=\"border:none;\" bgcolor=\"white\"></td><td style=\"border:none;\" bgcolor=\"white\"></td><td style=\"border:none;\" bgcolor=\"white\"></td><td style=\"border:none;\" bgcolor=\"white\"></td><td style=\"border:none;\" bgcolor=\"white\"></td><td style=\"border:solid;\" bgcolor=\"#E1E1E1\"><font color=\"black\">PP_1_4: 0.00</font></td></tr></table> 51 / 112</div>\n",
       "<div class=\"item\"><table><tr><td></td><td>0: He</td><td>1: shot</td><td>2: the</td><td>3: elephant</td><td>4: in</td><td>5: his</td><td>6: pyjamas</td></tr>\n",
       "<tr><td>0: He</td><td style=\"border:solid;\" bgcolor=\"#E1E1E1\"><font color=\"black\">Subj: 0.00</font></td><td style=\"border:solid;\" bgcolor=\"white\"></td><td style=\"border:solid;\" bgcolor=\"white\"></td><td style=\"border:solid;\" bgcolor=\"#C3C3C3\"></td><td style=\"border:solid;\" bgcolor=\"white\"></td><td style=\"border:solid;\" bgcolor=\"white\"></td><td style=\"border:solid;\" bgcolor=\"white\"></td></tr>\n",
       "<tr><td>1: shot</td><td style=\"border:none;\" bgcolor=\"white\"></td><td style=\"border:solid;\" bgcolor=\"white\"><font color=\"black\">Verb: 0.00</font></td><td style=\"border:solid;\" bgcolor=\"white\"></td><td style=\"border:solid;\" bgcolor=\"#E1E1E1\"><font color=\"black\">VP: -1.90</font></td><td style=\"border:solid;\" bgcolor=\"white\"></td><td style=\"border:solid;\" bgcolor=\"white\"></td><td style=\"border:solid;\" bgcolor=\"white\"></td></tr>\n",
       "<tr><td>2: the</td><td style=\"border:none;\" bgcolor=\"white\"></td><td style=\"border:none;\" bgcolor=\"white\"></td><td style=\"border:solid;\" bgcolor=\"white\"><font color=\"black\">Obj_5: 0.00</font>, <font color=\"black\">Obj_8: 0.00</font></td><td style=\"border:solid;\" bgcolor=\"white\"><font color=\"black\">Obj: -0.69</font></td><td style=\"border:solid;\" bgcolor=\"white\"></td><td style=\"border:solid;\" bgcolor=\"white\"></td><td style=\"border:solid;\" bgcolor=\"white\"></td></tr>\n",
       "<tr><td>3: elephant</td><td style=\"border:none;\" bgcolor=\"white\"></td><td style=\"border:none;\" bgcolor=\"white\"></td><td style=\"border:none;\" bgcolor=\"white\"></td><td style=\"border:solid;\" bgcolor=\"white\"><font color=\"black\">Obj_6: 0.00</font>, <font color=\"black\">Obj_7_9: 0.00</font></td><td style=\"border:solid;\" bgcolor=\"white\"></td><td style=\"border:solid;\" bgcolor=\"white\"></td><td style=\"border:solid;\" bgcolor=\"white\"></td></tr>\n",
       "<tr><td>4: in</td><td style=\"border:none;\" bgcolor=\"white\"></td><td style=\"border:none;\" bgcolor=\"white\"></td><td style=\"border:none;\" bgcolor=\"white\"></td><td style=\"border:none;\" bgcolor=\"white\"></td><td style=\"border:solid;\" bgcolor=\"white\"><font color=\"black\">PP_2: 0.00</font></td><td style=\"border:solid;\" bgcolor=\"white\"></td><td style=\"border:solid;\" bgcolor=\"white\"><font color=\"black\">PP: 0.00</font></td></tr>\n",
       "<tr><td>5: his</td><td style=\"border:none;\" bgcolor=\"white\"></td><td style=\"border:none;\" bgcolor=\"white\"></td><td style=\"border:none;\" bgcolor=\"white\"></td><td style=\"border:none;\" bgcolor=\"white\"></td><td style=\"border:none;\" bgcolor=\"white\"></td><td style=\"border:solid;\" bgcolor=\"white\"><font color=\"black\">PP_1_3: 0.00</font></td><td style=\"border:solid;\" bgcolor=\"white\"><font color=\"black\">PP_1: 0.00</font></td></tr>\n",
       "<tr><td>6: pyjamas</td><td style=\"border:none;\" bgcolor=\"white\"></td><td style=\"border:none;\" bgcolor=\"white\"></td><td style=\"border:none;\" bgcolor=\"white\"></td><td style=\"border:none;\" bgcolor=\"white\"></td><td style=\"border:none;\" bgcolor=\"white\"></td><td style=\"border:none;\" bgcolor=\"white\"></td><td style=\"border:solid;\" bgcolor=\"white\"><font color=\"black\">PP_1_4: 0.00</font></td></tr></table> 52 / 112</div>\n",
       "<div class=\"item\"><table><tr><td></td><td>0: He</td><td>1: shot</td><td>2: the</td><td>3: elephant</td><td>4: in</td><td>5: his</td><td>6: pyjamas</td></tr>\n",
       "<tr><td>0: He</td><td style=\"border:solid;\" bgcolor=\"#E1E1E1\"><font color=\"red\">Subj: 0.00</font></td><td style=\"border:solid;\" bgcolor=\"white\"></td><td style=\"border:solid;\" bgcolor=\"white\"></td><td style=\"border:solid;\" bgcolor=\"#C3C3C3\"></td><td style=\"border:solid;\" bgcolor=\"white\"></td><td style=\"border:solid;\" bgcolor=\"white\"></td><td style=\"border:solid;\" bgcolor=\"white\"></td></tr>\n",
       "<tr><td>1: shot</td><td style=\"border:none;\" bgcolor=\"white\"></td><td style=\"border:solid;\" bgcolor=\"white\"><font color=\"black\">Verb: 0.00</font></td><td style=\"border:solid;\" bgcolor=\"white\"></td><td style=\"border:solid;\" bgcolor=\"#E1E1E1\"><font color=\"red\">VP: -1.90</font></td><td style=\"border:solid;\" bgcolor=\"white\"></td><td style=\"border:solid;\" bgcolor=\"white\"></td><td style=\"border:solid;\" bgcolor=\"white\"></td></tr>\n",
       "<tr><td>2: the</td><td style=\"border:none;\" bgcolor=\"white\"></td><td style=\"border:none;\" bgcolor=\"white\"></td><td style=\"border:solid;\" bgcolor=\"white\"><font color=\"black\">Obj_5: 0.00</font>, <font color=\"black\">Obj_8: 0.00</font></td><td style=\"border:solid;\" bgcolor=\"white\"><font color=\"black\">Obj: -0.69</font></td><td style=\"border:solid;\" bgcolor=\"white\"></td><td style=\"border:solid;\" bgcolor=\"white\"></td><td style=\"border:solid;\" bgcolor=\"white\"></td></tr>\n",
       "<tr><td>3: elephant</td><td style=\"border:none;\" bgcolor=\"white\"></td><td style=\"border:none;\" bgcolor=\"white\"></td><td style=\"border:none;\" bgcolor=\"white\"></td><td style=\"border:solid;\" bgcolor=\"white\"><font color=\"black\">Obj_6: 0.00</font>, <font color=\"black\">Obj_7_9: 0.00</font></td><td style=\"border:solid;\" bgcolor=\"white\"></td><td style=\"border:solid;\" bgcolor=\"white\"></td><td style=\"border:solid;\" bgcolor=\"white\"></td></tr>\n",
       "<tr><td>4: in</td><td style=\"border:none;\" bgcolor=\"white\"></td><td style=\"border:none;\" bgcolor=\"white\"></td><td style=\"border:none;\" bgcolor=\"white\"></td><td style=\"border:none;\" bgcolor=\"white\"></td><td style=\"border:solid;\" bgcolor=\"white\"><font color=\"black\">PP_2: 0.00</font></td><td style=\"border:solid;\" bgcolor=\"white\"></td><td style=\"border:solid;\" bgcolor=\"white\"><font color=\"black\">PP: 0.00</font></td></tr>\n",
       "<tr><td>5: his</td><td style=\"border:none;\" bgcolor=\"white\"></td><td style=\"border:none;\" bgcolor=\"white\"></td><td style=\"border:none;\" bgcolor=\"white\"></td><td style=\"border:none;\" bgcolor=\"white\"></td><td style=\"border:none;\" bgcolor=\"white\"></td><td style=\"border:solid;\" bgcolor=\"white\"><font color=\"black\">PP_1_3: 0.00</font></td><td style=\"border:solid;\" bgcolor=\"white\"><font color=\"black\">PP_1: 0.00</font></td></tr>\n",
       "<tr><td>6: pyjamas</td><td style=\"border:none;\" bgcolor=\"white\"></td><td style=\"border:none;\" bgcolor=\"white\"></td><td style=\"border:none;\" bgcolor=\"white\"></td><td style=\"border:none;\" bgcolor=\"white\"></td><td style=\"border:none;\" bgcolor=\"white\"></td><td style=\"border:none;\" bgcolor=\"white\"></td><td style=\"border:solid;\" bgcolor=\"white\"><font color=\"black\">PP_1_4: 0.00</font></td></tr></table> 53 / 112</div>\n",
       "<div class=\"item\"><table><tr><td></td><td>0: He</td><td>1: shot</td><td>2: the</td><td>3: elephant</td><td>4: in</td><td>5: his</td><td>6: pyjamas</td></tr>\n",
       "<tr><td>0: He</td><td style=\"border:solid;\" bgcolor=\"#E1E1E1\"><font color=\"red\">Subj: 0.00</font></td><td style=\"border:solid;\" bgcolor=\"white\"></td><td style=\"border:solid;\" bgcolor=\"white\"></td><td style=\"border:solid;\" bgcolor=\"#C3C3C3\"><font color=\"blue\">S: -1.90</font></td><td style=\"border:solid;\" bgcolor=\"white\"></td><td style=\"border:solid;\" bgcolor=\"white\"></td><td style=\"border:solid;\" bgcolor=\"white\"></td></tr>\n",
       "<tr><td>1: shot</td><td style=\"border:none;\" bgcolor=\"white\"></td><td style=\"border:solid;\" bgcolor=\"white\"><font color=\"black\">Verb: 0.00</font></td><td style=\"border:solid;\" bgcolor=\"white\"></td><td style=\"border:solid;\" bgcolor=\"#E1E1E1\"><font color=\"red\">VP: -1.90</font></td><td style=\"border:solid;\" bgcolor=\"white\"></td><td style=\"border:solid;\" bgcolor=\"white\"></td><td style=\"border:solid;\" bgcolor=\"white\"></td></tr>\n",
       "<tr><td>2: the</td><td style=\"border:none;\" bgcolor=\"white\"></td><td style=\"border:none;\" bgcolor=\"white\"></td><td style=\"border:solid;\" bgcolor=\"white\"><font color=\"black\">Obj_5: 0.00</font>, <font color=\"black\">Obj_8: 0.00</font></td><td style=\"border:solid;\" bgcolor=\"white\"><font color=\"black\">Obj: -0.69</font></td><td style=\"border:solid;\" bgcolor=\"white\"></td><td style=\"border:solid;\" bgcolor=\"white\"></td><td style=\"border:solid;\" bgcolor=\"white\"></td></tr>\n",
       "<tr><td>3: elephant</td><td style=\"border:none;\" bgcolor=\"white\"></td><td style=\"border:none;\" bgcolor=\"white\"></td><td style=\"border:none;\" bgcolor=\"white\"></td><td style=\"border:solid;\" bgcolor=\"white\"><font color=\"black\">Obj_6: 0.00</font>, <font color=\"black\">Obj_7_9: 0.00</font></td><td style=\"border:solid;\" bgcolor=\"white\"></td><td style=\"border:solid;\" bgcolor=\"white\"></td><td style=\"border:solid;\" bgcolor=\"white\"></td></tr>\n",
       "<tr><td>4: in</td><td style=\"border:none;\" bgcolor=\"white\"></td><td style=\"border:none;\" bgcolor=\"white\"></td><td style=\"border:none;\" bgcolor=\"white\"></td><td style=\"border:none;\" bgcolor=\"white\"></td><td style=\"border:solid;\" bgcolor=\"white\"><font color=\"black\">PP_2: 0.00</font></td><td style=\"border:solid;\" bgcolor=\"white\"></td><td style=\"border:solid;\" bgcolor=\"white\"><font color=\"black\">PP: 0.00</font></td></tr>\n",
       "<tr><td>5: his</td><td style=\"border:none;\" bgcolor=\"white\"></td><td style=\"border:none;\" bgcolor=\"white\"></td><td style=\"border:none;\" bgcolor=\"white\"></td><td style=\"border:none;\" bgcolor=\"white\"></td><td style=\"border:none;\" bgcolor=\"white\"></td><td style=\"border:solid;\" bgcolor=\"white\"><font color=\"black\">PP_1_3: 0.00</font></td><td style=\"border:solid;\" bgcolor=\"white\"><font color=\"black\">PP_1: 0.00</font></td></tr>\n",
       "<tr><td>6: pyjamas</td><td style=\"border:none;\" bgcolor=\"white\"></td><td style=\"border:none;\" bgcolor=\"white\"></td><td style=\"border:none;\" bgcolor=\"white\"></td><td style=\"border:none;\" bgcolor=\"white\"></td><td style=\"border:none;\" bgcolor=\"white\"></td><td style=\"border:none;\" bgcolor=\"white\"></td><td style=\"border:solid;\" bgcolor=\"white\"><font color=\"black\">PP_1_4: 0.00</font></td></tr></table> 54 / 112</div>\n",
       "<div class=\"item\"><table><tr><td></td><td>0: He</td><td>1: shot</td><td>2: the</td><td>3: elephant</td><td>4: in</td><td>5: his</td><td>6: pyjamas</td></tr>\n",
       "<tr><td>0: He</td><td style=\"border:solid;\" bgcolor=\"white\"><font color=\"black\">Subj: 0.00</font></td><td style=\"border:solid;\" bgcolor=\"#E1E1E1\"></td><td style=\"border:solid;\" bgcolor=\"white\"></td><td style=\"border:solid;\" bgcolor=\"#C3C3C3\"><font color=\"black\">S: -1.90</font></td><td style=\"border:solid;\" bgcolor=\"white\"></td><td style=\"border:solid;\" bgcolor=\"white\"></td><td style=\"border:solid;\" bgcolor=\"white\"></td></tr>\n",
       "<tr><td>1: shot</td><td style=\"border:none;\" bgcolor=\"white\"></td><td style=\"border:solid;\" bgcolor=\"white\"><font color=\"black\">Verb: 0.00</font></td><td style=\"border:solid;\" bgcolor=\"white\"></td><td style=\"border:solid;\" bgcolor=\"white\"><font color=\"black\">VP: -1.90</font></td><td style=\"border:solid;\" bgcolor=\"white\"></td><td style=\"border:solid;\" bgcolor=\"white\"></td><td style=\"border:solid;\" bgcolor=\"white\"></td></tr>\n",
       "<tr><td>2: the</td><td style=\"border:none;\" bgcolor=\"white\"></td><td style=\"border:none;\" bgcolor=\"white\"></td><td style=\"border:solid;\" bgcolor=\"white\"><font color=\"black\">Obj_5: 0.00</font>, <font color=\"black\">Obj_8: 0.00</font></td><td style=\"border:solid;\" bgcolor=\"#E1E1E1\"><font color=\"black\">Obj: -0.69</font></td><td style=\"border:solid;\" bgcolor=\"white\"></td><td style=\"border:solid;\" bgcolor=\"white\"></td><td style=\"border:solid;\" bgcolor=\"white\"></td></tr>\n",
       "<tr><td>3: elephant</td><td style=\"border:none;\" bgcolor=\"white\"></td><td style=\"border:none;\" bgcolor=\"white\"></td><td style=\"border:none;\" bgcolor=\"white\"></td><td style=\"border:solid;\" bgcolor=\"white\"><font color=\"black\">Obj_6: 0.00</font>, <font color=\"black\">Obj_7_9: 0.00</font></td><td style=\"border:solid;\" bgcolor=\"white\"></td><td style=\"border:solid;\" bgcolor=\"white\"></td><td style=\"border:solid;\" bgcolor=\"white\"></td></tr>\n",
       "<tr><td>4: in</td><td style=\"border:none;\" bgcolor=\"white\"></td><td style=\"border:none;\" bgcolor=\"white\"></td><td style=\"border:none;\" bgcolor=\"white\"></td><td style=\"border:none;\" bgcolor=\"white\"></td><td style=\"border:solid;\" bgcolor=\"white\"><font color=\"black\">PP_2: 0.00</font></td><td style=\"border:solid;\" bgcolor=\"white\"></td><td style=\"border:solid;\" bgcolor=\"white\"><font color=\"black\">PP: 0.00</font></td></tr>\n",
       "<tr><td>5: his</td><td style=\"border:none;\" bgcolor=\"white\"></td><td style=\"border:none;\" bgcolor=\"white\"></td><td style=\"border:none;\" bgcolor=\"white\"></td><td style=\"border:none;\" bgcolor=\"white\"></td><td style=\"border:none;\" bgcolor=\"white\"></td><td style=\"border:solid;\" bgcolor=\"white\"><font color=\"black\">PP_1_3: 0.00</font></td><td style=\"border:solid;\" bgcolor=\"white\"><font color=\"black\">PP_1: 0.00</font></td></tr>\n",
       "<tr><td>6: pyjamas</td><td style=\"border:none;\" bgcolor=\"white\"></td><td style=\"border:none;\" bgcolor=\"white\"></td><td style=\"border:none;\" bgcolor=\"white\"></td><td style=\"border:none;\" bgcolor=\"white\"></td><td style=\"border:none;\" bgcolor=\"white\"></td><td style=\"border:none;\" bgcolor=\"white\"></td><td style=\"border:solid;\" bgcolor=\"white\"><font color=\"black\">PP_1_4: 0.00</font></td></tr></table> 55 / 112</div>\n",
       "<div class=\"item\"><table><tr><td></td><td>0: He</td><td>1: shot</td><td>2: the</td><td>3: elephant</td><td>4: in</td><td>5: his</td><td>6: pyjamas</td></tr>\n",
       "<tr><td>0: He</td><td style=\"border:solid;\" bgcolor=\"white\"><font color=\"black\">Subj: 0.00</font></td><td style=\"border:solid;\" bgcolor=\"white\"></td><td style=\"border:solid;\" bgcolor=\"#E1E1E1\"></td><td style=\"border:solid;\" bgcolor=\"#C3C3C3\"><font color=\"black\">S: -1.90</font></td><td style=\"border:solid;\" bgcolor=\"white\"></td><td style=\"border:solid;\" bgcolor=\"white\"></td><td style=\"border:solid;\" bgcolor=\"white\"></td></tr>\n",
       "<tr><td>1: shot</td><td style=\"border:none;\" bgcolor=\"white\"></td><td style=\"border:solid;\" bgcolor=\"white\"><font color=\"black\">Verb: 0.00</font></td><td style=\"border:solid;\" bgcolor=\"white\"></td><td style=\"border:solid;\" bgcolor=\"white\"><font color=\"black\">VP: -1.90</font></td><td style=\"border:solid;\" bgcolor=\"white\"></td><td style=\"border:solid;\" bgcolor=\"white\"></td><td style=\"border:solid;\" bgcolor=\"white\"></td></tr>\n",
       "<tr><td>2: the</td><td style=\"border:none;\" bgcolor=\"white\"></td><td style=\"border:none;\" bgcolor=\"white\"></td><td style=\"border:solid;\" bgcolor=\"white\"><font color=\"black\">Obj_5: 0.00</font>, <font color=\"black\">Obj_8: 0.00</font></td><td style=\"border:solid;\" bgcolor=\"white\"><font color=\"black\">Obj: -0.69</font></td><td style=\"border:solid;\" bgcolor=\"white\"></td><td style=\"border:solid;\" bgcolor=\"white\"></td><td style=\"border:solid;\" bgcolor=\"white\"></td></tr>\n",
       "<tr><td>3: elephant</td><td style=\"border:none;\" bgcolor=\"white\"></td><td style=\"border:none;\" bgcolor=\"white\"></td><td style=\"border:none;\" bgcolor=\"white\"></td><td style=\"border:solid;\" bgcolor=\"#E1E1E1\"><font color=\"black\">Obj_6: 0.00</font>, <font color=\"black\">Obj_7_9: 0.00</font></td><td style=\"border:solid;\" bgcolor=\"white\"></td><td style=\"border:solid;\" bgcolor=\"white\"></td><td style=\"border:solid;\" bgcolor=\"white\"></td></tr>\n",
       "<tr><td>4: in</td><td style=\"border:none;\" bgcolor=\"white\"></td><td style=\"border:none;\" bgcolor=\"white\"></td><td style=\"border:none;\" bgcolor=\"white\"></td><td style=\"border:none;\" bgcolor=\"white\"></td><td style=\"border:solid;\" bgcolor=\"white\"><font color=\"black\">PP_2: 0.00</font></td><td style=\"border:solid;\" bgcolor=\"white\"></td><td style=\"border:solid;\" bgcolor=\"white\"><font color=\"black\">PP: 0.00</font></td></tr>\n",
       "<tr><td>5: his</td><td style=\"border:none;\" bgcolor=\"white\"></td><td style=\"border:none;\" bgcolor=\"white\"></td><td style=\"border:none;\" bgcolor=\"white\"></td><td style=\"border:none;\" bgcolor=\"white\"></td><td style=\"border:none;\" bgcolor=\"white\"></td><td style=\"border:solid;\" bgcolor=\"white\"><font color=\"black\">PP_1_3: 0.00</font></td><td style=\"border:solid;\" bgcolor=\"white\"><font color=\"black\">PP_1: 0.00</font></td></tr>\n",
       "<tr><td>6: pyjamas</td><td style=\"border:none;\" bgcolor=\"white\"></td><td style=\"border:none;\" bgcolor=\"white\"></td><td style=\"border:none;\" bgcolor=\"white\"></td><td style=\"border:none;\" bgcolor=\"white\"></td><td style=\"border:none;\" bgcolor=\"white\"></td><td style=\"border:none;\" bgcolor=\"white\"></td><td style=\"border:solid;\" bgcolor=\"white\"><font color=\"black\">PP_1_4: 0.00</font></td></tr></table> 56 / 112</div>\n",
       "<div class=\"item\"><table><tr><td></td><td>0: He</td><td>1: shot</td><td>2: the</td><td>3: elephant</td><td>4: in</td><td>5: his</td><td>6: pyjamas</td></tr>\n",
       "<tr><td>0: He</td><td style=\"border:solid;\" bgcolor=\"white\"><font color=\"black\">Subj: 0.00</font></td><td style=\"border:solid;\" bgcolor=\"white\"></td><td style=\"border:solid;\" bgcolor=\"white\"></td><td style=\"border:solid;\" bgcolor=\"white\"><font color=\"black\">S: -1.90</font></td><td style=\"border:solid;\" bgcolor=\"white\"></td><td style=\"border:solid;\" bgcolor=\"white\"></td><td style=\"border:solid;\" bgcolor=\"white\"></td></tr>\n",
       "<tr><td>1: shot</td><td style=\"border:none;\" bgcolor=\"white\"></td><td style=\"border:solid;\" bgcolor=\"#E1E1E1\"><font color=\"black\">Verb: 0.00</font></td><td style=\"border:solid;\" bgcolor=\"white\"></td><td style=\"border:solid;\" bgcolor=\"white\"><font color=\"black\">VP: -1.90</font></td><td style=\"border:solid;\" bgcolor=\"#C3C3C3\"></td><td style=\"border:solid;\" bgcolor=\"white\"></td><td style=\"border:solid;\" bgcolor=\"white\"></td></tr>\n",
       "<tr><td>2: the</td><td style=\"border:none;\" bgcolor=\"white\"></td><td style=\"border:none;\" bgcolor=\"white\"></td><td style=\"border:solid;\" bgcolor=\"white\"><font color=\"black\">Obj_5: 0.00</font>, <font color=\"black\">Obj_8: 0.00</font></td><td style=\"border:solid;\" bgcolor=\"white\"><font color=\"black\">Obj: -0.69</font></td><td style=\"border:solid;\" bgcolor=\"#E1E1E1\"></td><td style=\"border:solid;\" bgcolor=\"white\"></td><td style=\"border:solid;\" bgcolor=\"white\"></td></tr>\n",
       "<tr><td>3: elephant</td><td style=\"border:none;\" bgcolor=\"white\"></td><td style=\"border:none;\" bgcolor=\"white\"></td><td style=\"border:none;\" bgcolor=\"white\"></td><td style=\"border:solid;\" bgcolor=\"white\"><font color=\"black\">Obj_6: 0.00</font>, <font color=\"black\">Obj_7_9: 0.00</font></td><td style=\"border:solid;\" bgcolor=\"white\"></td><td style=\"border:solid;\" bgcolor=\"white\"></td><td style=\"border:solid;\" bgcolor=\"white\"></td></tr>\n",
       "<tr><td>4: in</td><td style=\"border:none;\" bgcolor=\"white\"></td><td style=\"border:none;\" bgcolor=\"white\"></td><td style=\"border:none;\" bgcolor=\"white\"></td><td style=\"border:none;\" bgcolor=\"white\"></td><td style=\"border:solid;\" bgcolor=\"white\"><font color=\"black\">PP_2: 0.00</font></td><td style=\"border:solid;\" bgcolor=\"white\"></td><td style=\"border:solid;\" bgcolor=\"white\"><font color=\"black\">PP: 0.00</font></td></tr>\n",
       "<tr><td>5: his</td><td style=\"border:none;\" bgcolor=\"white\"></td><td style=\"border:none;\" bgcolor=\"white\"></td><td style=\"border:none;\" bgcolor=\"white\"></td><td style=\"border:none;\" bgcolor=\"white\"></td><td style=\"border:none;\" bgcolor=\"white\"></td><td style=\"border:solid;\" bgcolor=\"white\"><font color=\"black\">PP_1_3: 0.00</font></td><td style=\"border:solid;\" bgcolor=\"white\"><font color=\"black\">PP_1: 0.00</font></td></tr>\n",
       "<tr><td>6: pyjamas</td><td style=\"border:none;\" bgcolor=\"white\"></td><td style=\"border:none;\" bgcolor=\"white\"></td><td style=\"border:none;\" bgcolor=\"white\"></td><td style=\"border:none;\" bgcolor=\"white\"></td><td style=\"border:none;\" bgcolor=\"white\"></td><td style=\"border:none;\" bgcolor=\"white\"></td><td style=\"border:solid;\" bgcolor=\"white\"><font color=\"black\">PP_1_4: 0.00</font></td></tr></table> 57 / 112</div>\n",
       "<div class=\"item\"><table><tr><td></td><td>0: He</td><td>1: shot</td><td>2: the</td><td>3: elephant</td><td>4: in</td><td>5: his</td><td>6: pyjamas</td></tr>\n",
       "<tr><td>0: He</td><td style=\"border:solid;\" bgcolor=\"white\"><font color=\"black\">Subj: 0.00</font></td><td style=\"border:solid;\" bgcolor=\"white\"></td><td style=\"border:solid;\" bgcolor=\"white\"></td><td style=\"border:solid;\" bgcolor=\"white\"><font color=\"black\">S: -1.90</font></td><td style=\"border:solid;\" bgcolor=\"white\"></td><td style=\"border:solid;\" bgcolor=\"white\"></td><td style=\"border:solid;\" bgcolor=\"white\"></td></tr>\n",
       "<tr><td>1: shot</td><td style=\"border:none;\" bgcolor=\"white\"></td><td style=\"border:solid;\" bgcolor=\"white\"><font color=\"black\">Verb: 0.00</font></td><td style=\"border:solid;\" bgcolor=\"#E1E1E1\"></td><td style=\"border:solid;\" bgcolor=\"white\"><font color=\"black\">VP: -1.90</font></td><td style=\"border:solid;\" bgcolor=\"#C3C3C3\"></td><td style=\"border:solid;\" bgcolor=\"white\"></td><td style=\"border:solid;\" bgcolor=\"white\"></td></tr>\n",
       "<tr><td>2: the</td><td style=\"border:none;\" bgcolor=\"white\"></td><td style=\"border:none;\" bgcolor=\"white\"></td><td style=\"border:solid;\" bgcolor=\"white\"><font color=\"black\">Obj_5: 0.00</font>, <font color=\"black\">Obj_8: 0.00</font></td><td style=\"border:solid;\" bgcolor=\"white\"><font color=\"black\">Obj: -0.69</font></td><td style=\"border:solid;\" bgcolor=\"white\"></td><td style=\"border:solid;\" bgcolor=\"white\"></td><td style=\"border:solid;\" bgcolor=\"white\"></td></tr>\n",
       "<tr><td>3: elephant</td><td style=\"border:none;\" bgcolor=\"white\"></td><td style=\"border:none;\" bgcolor=\"white\"></td><td style=\"border:none;\" bgcolor=\"white\"></td><td style=\"border:solid;\" bgcolor=\"white\"><font color=\"black\">Obj_6: 0.00</font>, <font color=\"black\">Obj_7_9: 0.00</font></td><td style=\"border:solid;\" bgcolor=\"#E1E1E1\"></td><td style=\"border:solid;\" bgcolor=\"white\"></td><td style=\"border:solid;\" bgcolor=\"white\"></td></tr>\n",
       "<tr><td>4: in</td><td style=\"border:none;\" bgcolor=\"white\"></td><td style=\"border:none;\" bgcolor=\"white\"></td><td style=\"border:none;\" bgcolor=\"white\"></td><td style=\"border:none;\" bgcolor=\"white\"></td><td style=\"border:solid;\" bgcolor=\"white\"><font color=\"black\">PP_2: 0.00</font></td><td style=\"border:solid;\" bgcolor=\"white\"></td><td style=\"border:solid;\" bgcolor=\"white\"><font color=\"black\">PP: 0.00</font></td></tr>\n",
       "<tr><td>5: his</td><td style=\"border:none;\" bgcolor=\"white\"></td><td style=\"border:none;\" bgcolor=\"white\"></td><td style=\"border:none;\" bgcolor=\"white\"></td><td style=\"border:none;\" bgcolor=\"white\"></td><td style=\"border:none;\" bgcolor=\"white\"></td><td style=\"border:solid;\" bgcolor=\"white\"><font color=\"black\">PP_1_3: 0.00</font></td><td style=\"border:solid;\" bgcolor=\"white\"><font color=\"black\">PP_1: 0.00</font></td></tr>\n",
       "<tr><td>6: pyjamas</td><td style=\"border:none;\" bgcolor=\"white\"></td><td style=\"border:none;\" bgcolor=\"white\"></td><td style=\"border:none;\" bgcolor=\"white\"></td><td style=\"border:none;\" bgcolor=\"white\"></td><td style=\"border:none;\" bgcolor=\"white\"></td><td style=\"border:none;\" bgcolor=\"white\"></td><td style=\"border:solid;\" bgcolor=\"white\"><font color=\"black\">PP_1_4: 0.00</font></td></tr></table> 58 / 112</div>\n",
       "<div class=\"item\"><table><tr><td></td><td>0: He</td><td>1: shot</td><td>2: the</td><td>3: elephant</td><td>4: in</td><td>5: his</td><td>6: pyjamas</td></tr>\n",
       "<tr><td>0: He</td><td style=\"border:solid;\" bgcolor=\"white\"><font color=\"black\">Subj: 0.00</font></td><td style=\"border:solid;\" bgcolor=\"white\"></td><td style=\"border:solid;\" bgcolor=\"white\"></td><td style=\"border:solid;\" bgcolor=\"white\"><font color=\"black\">S: -1.90</font></td><td style=\"border:solid;\" bgcolor=\"white\"></td><td style=\"border:solid;\" bgcolor=\"white\"></td><td style=\"border:solid;\" bgcolor=\"white\"></td></tr>\n",
       "<tr><td>1: shot</td><td style=\"border:none;\" bgcolor=\"white\"></td><td style=\"border:solid;\" bgcolor=\"white\"><font color=\"black\">Verb: 0.00</font></td><td style=\"border:solid;\" bgcolor=\"white\"></td><td style=\"border:solid;\" bgcolor=\"#E1E1E1\"><font color=\"black\">VP: -1.90</font></td><td style=\"border:solid;\" bgcolor=\"#C3C3C3\"></td><td style=\"border:solid;\" bgcolor=\"white\"></td><td style=\"border:solid;\" bgcolor=\"white\"></td></tr>\n",
       "<tr><td>2: the</td><td style=\"border:none;\" bgcolor=\"white\"></td><td style=\"border:none;\" bgcolor=\"white\"></td><td style=\"border:solid;\" bgcolor=\"white\"><font color=\"black\">Obj_5: 0.00</font>, <font color=\"black\">Obj_8: 0.00</font></td><td style=\"border:solid;\" bgcolor=\"white\"><font color=\"black\">Obj: -0.69</font></td><td style=\"border:solid;\" bgcolor=\"white\"></td><td style=\"border:solid;\" bgcolor=\"white\"></td><td style=\"border:solid;\" bgcolor=\"white\"></td></tr>\n",
       "<tr><td>3: elephant</td><td style=\"border:none;\" bgcolor=\"white\"></td><td style=\"border:none;\" bgcolor=\"white\"></td><td style=\"border:none;\" bgcolor=\"white\"></td><td style=\"border:solid;\" bgcolor=\"white\"><font color=\"black\">Obj_6: 0.00</font>, <font color=\"black\">Obj_7_9: 0.00</font></td><td style=\"border:solid;\" bgcolor=\"white\"></td><td style=\"border:solid;\" bgcolor=\"white\"></td><td style=\"border:solid;\" bgcolor=\"white\"></td></tr>\n",
       "<tr><td>4: in</td><td style=\"border:none;\" bgcolor=\"white\"></td><td style=\"border:none;\" bgcolor=\"white\"></td><td style=\"border:none;\" bgcolor=\"white\"></td><td style=\"border:none;\" bgcolor=\"white\"></td><td style=\"border:solid;\" bgcolor=\"#E1E1E1\"><font color=\"black\">PP_2: 0.00</font></td><td style=\"border:solid;\" bgcolor=\"white\"></td><td style=\"border:solid;\" bgcolor=\"white\"><font color=\"black\">PP: 0.00</font></td></tr>\n",
       "<tr><td>5: his</td><td style=\"border:none;\" bgcolor=\"white\"></td><td style=\"border:none;\" bgcolor=\"white\"></td><td style=\"border:none;\" bgcolor=\"white\"></td><td style=\"border:none;\" bgcolor=\"white\"></td><td style=\"border:none;\" bgcolor=\"white\"></td><td style=\"border:solid;\" bgcolor=\"white\"><font color=\"black\">PP_1_3: 0.00</font></td><td style=\"border:solid;\" bgcolor=\"white\"><font color=\"black\">PP_1: 0.00</font></td></tr>\n",
       "<tr><td>6: pyjamas</td><td style=\"border:none;\" bgcolor=\"white\"></td><td style=\"border:none;\" bgcolor=\"white\"></td><td style=\"border:none;\" bgcolor=\"white\"></td><td style=\"border:none;\" bgcolor=\"white\"></td><td style=\"border:none;\" bgcolor=\"white\"></td><td style=\"border:none;\" bgcolor=\"white\"></td><td style=\"border:solid;\" bgcolor=\"white\"><font color=\"black\">PP_1_4: 0.00</font></td></tr></table> 59 / 112</div>\n",
       "<div class=\"item\"><table><tr><td></td><td>0: He</td><td>1: shot</td><td>2: the</td><td>3: elephant</td><td>4: in</td><td>5: his</td><td>6: pyjamas</td></tr>\n",
       "<tr><td>0: He</td><td style=\"border:solid;\" bgcolor=\"white\"><font color=\"black\">Subj: 0.00</font></td><td style=\"border:solid;\" bgcolor=\"white\"></td><td style=\"border:solid;\" bgcolor=\"white\"></td><td style=\"border:solid;\" bgcolor=\"white\"><font color=\"black\">S: -1.90</font></td><td style=\"border:solid;\" bgcolor=\"white\"></td><td style=\"border:solid;\" bgcolor=\"white\"></td><td style=\"border:solid;\" bgcolor=\"white\"></td></tr>\n",
       "<tr><td>1: shot</td><td style=\"border:none;\" bgcolor=\"white\"></td><td style=\"border:solid;\" bgcolor=\"white\"><font color=\"black\">Verb: 0.00</font></td><td style=\"border:solid;\" bgcolor=\"white\"></td><td style=\"border:solid;\" bgcolor=\"#E1E1E1\"><font color=\"red\">VP: -1.90</font></td><td style=\"border:solid;\" bgcolor=\"#C3C3C3\"></td><td style=\"border:solid;\" bgcolor=\"white\"></td><td style=\"border:solid;\" bgcolor=\"white\"></td></tr>\n",
       "<tr><td>2: the</td><td style=\"border:none;\" bgcolor=\"white\"></td><td style=\"border:none;\" bgcolor=\"white\"></td><td style=\"border:solid;\" bgcolor=\"white\"><font color=\"black\">Obj_5: 0.00</font>, <font color=\"black\">Obj_8: 0.00</font></td><td style=\"border:solid;\" bgcolor=\"white\"><font color=\"black\">Obj: -0.69</font></td><td style=\"border:solid;\" bgcolor=\"white\"></td><td style=\"border:solid;\" bgcolor=\"white\"></td><td style=\"border:solid;\" bgcolor=\"white\"></td></tr>\n",
       "<tr><td>3: elephant</td><td style=\"border:none;\" bgcolor=\"white\"></td><td style=\"border:none;\" bgcolor=\"white\"></td><td style=\"border:none;\" bgcolor=\"white\"></td><td style=\"border:solid;\" bgcolor=\"white\"><font color=\"black\">Obj_6: 0.00</font>, <font color=\"black\">Obj_7_9: 0.00</font></td><td style=\"border:solid;\" bgcolor=\"white\"></td><td style=\"border:solid;\" bgcolor=\"white\"></td><td style=\"border:solid;\" bgcolor=\"white\"></td></tr>\n",
       "<tr><td>4: in</td><td style=\"border:none;\" bgcolor=\"white\"></td><td style=\"border:none;\" bgcolor=\"white\"></td><td style=\"border:none;\" bgcolor=\"white\"></td><td style=\"border:none;\" bgcolor=\"white\"></td><td style=\"border:solid;\" bgcolor=\"#E1E1E1\"><font color=\"red\">PP_2: 0.00</font></td><td style=\"border:solid;\" bgcolor=\"white\"></td><td style=\"border:solid;\" bgcolor=\"white\"><font color=\"black\">PP: 0.00</font></td></tr>\n",
       "<tr><td>5: his</td><td style=\"border:none;\" bgcolor=\"white\"></td><td style=\"border:none;\" bgcolor=\"white\"></td><td style=\"border:none;\" bgcolor=\"white\"></td><td style=\"border:none;\" bgcolor=\"white\"></td><td style=\"border:none;\" bgcolor=\"white\"></td><td style=\"border:solid;\" bgcolor=\"white\"><font color=\"black\">PP_1_3: 0.00</font></td><td style=\"border:solid;\" bgcolor=\"white\"><font color=\"black\">PP_1: 0.00</font></td></tr>\n",
       "<tr><td>6: pyjamas</td><td style=\"border:none;\" bgcolor=\"white\"></td><td style=\"border:none;\" bgcolor=\"white\"></td><td style=\"border:none;\" bgcolor=\"white\"></td><td style=\"border:none;\" bgcolor=\"white\"></td><td style=\"border:none;\" bgcolor=\"white\"></td><td style=\"border:none;\" bgcolor=\"white\"></td><td style=\"border:solid;\" bgcolor=\"white\"><font color=\"black\">PP_1_4: 0.00</font></td></tr></table> 60 / 112</div>\n",
       "<div class=\"item\"><table><tr><td></td><td>0: He</td><td>1: shot</td><td>2: the</td><td>3: elephant</td><td>4: in</td><td>5: his</td><td>6: pyjamas</td></tr>\n",
       "<tr><td>0: He</td><td style=\"border:solid;\" bgcolor=\"white\"><font color=\"black\">Subj: 0.00</font></td><td style=\"border:solid;\" bgcolor=\"white\"></td><td style=\"border:solid;\" bgcolor=\"white\"></td><td style=\"border:solid;\" bgcolor=\"white\"><font color=\"black\">S: -1.90</font></td><td style=\"border:solid;\" bgcolor=\"white\"></td><td style=\"border:solid;\" bgcolor=\"white\"></td><td style=\"border:solid;\" bgcolor=\"white\"></td></tr>\n",
       "<tr><td>1: shot</td><td style=\"border:none;\" bgcolor=\"white\"></td><td style=\"border:solid;\" bgcolor=\"white\"><font color=\"black\">Verb: 0.00</font></td><td style=\"border:solid;\" bgcolor=\"white\"></td><td style=\"border:solid;\" bgcolor=\"white\"><font color=\"black\">VP: -1.90</font></td><td style=\"border:solid;\" bgcolor=\"white\"></td><td style=\"border:solid;\" bgcolor=\"white\"></td><td style=\"border:solid;\" bgcolor=\"white\"></td></tr>\n",
       "<tr><td>2: the</td><td style=\"border:none;\" bgcolor=\"white\"></td><td style=\"border:none;\" bgcolor=\"white\"></td><td style=\"border:solid;\" bgcolor=\"#E1E1E1\"><font color=\"black\">Obj_5: 0.00</font>, <font color=\"black\">Obj_8: 0.00</font></td><td style=\"border:solid;\" bgcolor=\"white\"><font color=\"black\">Obj: -0.69</font></td><td style=\"border:solid;\" bgcolor=\"white\"></td><td style=\"border:solid;\" bgcolor=\"#C3C3C3\"></td><td style=\"border:solid;\" bgcolor=\"white\"></td></tr>\n",
       "<tr><td>3: elephant</td><td style=\"border:none;\" bgcolor=\"white\"></td><td style=\"border:none;\" bgcolor=\"white\"></td><td style=\"border:none;\" bgcolor=\"white\"></td><td style=\"border:solid;\" bgcolor=\"white\"><font color=\"black\">Obj_6: 0.00</font>, <font color=\"black\">Obj_7_9: 0.00</font></td><td style=\"border:solid;\" bgcolor=\"white\"></td><td style=\"border:solid;\" bgcolor=\"#E1E1E1\"></td><td style=\"border:solid;\" bgcolor=\"white\"></td></tr>\n",
       "<tr><td>4: in</td><td style=\"border:none;\" bgcolor=\"white\"></td><td style=\"border:none;\" bgcolor=\"white\"></td><td style=\"border:none;\" bgcolor=\"white\"></td><td style=\"border:none;\" bgcolor=\"white\"></td><td style=\"border:solid;\" bgcolor=\"white\"><font color=\"black\">PP_2: 0.00</font></td><td style=\"border:solid;\" bgcolor=\"white\"></td><td style=\"border:solid;\" bgcolor=\"white\"><font color=\"black\">PP: 0.00</font></td></tr>\n",
       "<tr><td>5: his</td><td style=\"border:none;\" bgcolor=\"white\"></td><td style=\"border:none;\" bgcolor=\"white\"></td><td style=\"border:none;\" bgcolor=\"white\"></td><td style=\"border:none;\" bgcolor=\"white\"></td><td style=\"border:none;\" bgcolor=\"white\"></td><td style=\"border:solid;\" bgcolor=\"white\"><font color=\"black\">PP_1_3: 0.00</font></td><td style=\"border:solid;\" bgcolor=\"white\"><font color=\"black\">PP_1: 0.00</font></td></tr>\n",
       "<tr><td>6: pyjamas</td><td style=\"border:none;\" bgcolor=\"white\"></td><td style=\"border:none;\" bgcolor=\"white\"></td><td style=\"border:none;\" bgcolor=\"white\"></td><td style=\"border:none;\" bgcolor=\"white\"></td><td style=\"border:none;\" bgcolor=\"white\"></td><td style=\"border:none;\" bgcolor=\"white\"></td><td style=\"border:solid;\" bgcolor=\"white\"><font color=\"black\">PP_1_4: 0.00</font></td></tr></table> 61 / 112</div>\n",
       "<div class=\"item\"><table><tr><td></td><td>0: He</td><td>1: shot</td><td>2: the</td><td>3: elephant</td><td>4: in</td><td>5: his</td><td>6: pyjamas</td></tr>\n",
       "<tr><td>0: He</td><td style=\"border:solid;\" bgcolor=\"white\"><font color=\"black\">Subj: 0.00</font></td><td style=\"border:solid;\" bgcolor=\"white\"></td><td style=\"border:solid;\" bgcolor=\"white\"></td><td style=\"border:solid;\" bgcolor=\"white\"><font color=\"black\">S: -1.90</font></td><td style=\"border:solid;\" bgcolor=\"white\"></td><td style=\"border:solid;\" bgcolor=\"white\"></td><td style=\"border:solid;\" bgcolor=\"white\"></td></tr>\n",
       "<tr><td>1: shot</td><td style=\"border:none;\" bgcolor=\"white\"></td><td style=\"border:solid;\" bgcolor=\"white\"><font color=\"black\">Verb: 0.00</font></td><td style=\"border:solid;\" bgcolor=\"white\"></td><td style=\"border:solid;\" bgcolor=\"white\"><font color=\"black\">VP: -1.90</font></td><td style=\"border:solid;\" bgcolor=\"white\"></td><td style=\"border:solid;\" bgcolor=\"white\"></td><td style=\"border:solid;\" bgcolor=\"white\"></td></tr>\n",
       "<tr><td>2: the</td><td style=\"border:none;\" bgcolor=\"white\"></td><td style=\"border:none;\" bgcolor=\"white\"></td><td style=\"border:solid;\" bgcolor=\"white\"><font color=\"black\">Obj_5: 0.00</font>, <font color=\"black\">Obj_8: 0.00</font></td><td style=\"border:solid;\" bgcolor=\"#E1E1E1\"><font color=\"black\">Obj: -0.69</font></td><td style=\"border:solid;\" bgcolor=\"white\"></td><td style=\"border:solid;\" bgcolor=\"#C3C3C3\"></td><td style=\"border:solid;\" bgcolor=\"white\"></td></tr>\n",
       "<tr><td>3: elephant</td><td style=\"border:none;\" bgcolor=\"white\"></td><td style=\"border:none;\" bgcolor=\"white\"></td><td style=\"border:none;\" bgcolor=\"white\"></td><td style=\"border:solid;\" bgcolor=\"white\"><font color=\"black\">Obj_6: 0.00</font>, <font color=\"black\">Obj_7_9: 0.00</font></td><td style=\"border:solid;\" bgcolor=\"white\"></td><td style=\"border:solid;\" bgcolor=\"white\"></td><td style=\"border:solid;\" bgcolor=\"white\"></td></tr>\n",
       "<tr><td>4: in</td><td style=\"border:none;\" bgcolor=\"white\"></td><td style=\"border:none;\" bgcolor=\"white\"></td><td style=\"border:none;\" bgcolor=\"white\"></td><td style=\"border:none;\" bgcolor=\"white\"></td><td style=\"border:solid;\" bgcolor=\"white\"><font color=\"black\">PP_2: 0.00</font></td><td style=\"border:solid;\" bgcolor=\"#E1E1E1\"></td><td style=\"border:solid;\" bgcolor=\"white\"><font color=\"black\">PP: 0.00</font></td></tr>\n",
       "<tr><td>5: his</td><td style=\"border:none;\" bgcolor=\"white\"></td><td style=\"border:none;\" bgcolor=\"white\"></td><td style=\"border:none;\" bgcolor=\"white\"></td><td style=\"border:none;\" bgcolor=\"white\"></td><td style=\"border:none;\" bgcolor=\"white\"></td><td style=\"border:solid;\" bgcolor=\"white\"><font color=\"black\">PP_1_3: 0.00</font></td><td style=\"border:solid;\" bgcolor=\"white\"><font color=\"black\">PP_1: 0.00</font></td></tr>\n",
       "<tr><td>6: pyjamas</td><td style=\"border:none;\" bgcolor=\"white\"></td><td style=\"border:none;\" bgcolor=\"white\"></td><td style=\"border:none;\" bgcolor=\"white\"></td><td style=\"border:none;\" bgcolor=\"white\"></td><td style=\"border:none;\" bgcolor=\"white\"></td><td style=\"border:none;\" bgcolor=\"white\"></td><td style=\"border:solid;\" bgcolor=\"white\"><font color=\"black\">PP_1_4: 0.00</font></td></tr></table> 62 / 112</div>\n",
       "<div class=\"item\"><table><tr><td></td><td>0: He</td><td>1: shot</td><td>2: the</td><td>3: elephant</td><td>4: in</td><td>5: his</td><td>6: pyjamas</td></tr>\n",
       "<tr><td>0: He</td><td style=\"border:solid;\" bgcolor=\"white\"><font color=\"black\">Subj: 0.00</font></td><td style=\"border:solid;\" bgcolor=\"white\"></td><td style=\"border:solid;\" bgcolor=\"white\"></td><td style=\"border:solid;\" bgcolor=\"white\"><font color=\"black\">S: -1.90</font></td><td style=\"border:solid;\" bgcolor=\"white\"></td><td style=\"border:solid;\" bgcolor=\"white\"></td><td style=\"border:solid;\" bgcolor=\"white\"></td></tr>\n",
       "<tr><td>1: shot</td><td style=\"border:none;\" bgcolor=\"white\"></td><td style=\"border:solid;\" bgcolor=\"white\"><font color=\"black\">Verb: 0.00</font></td><td style=\"border:solid;\" bgcolor=\"white\"></td><td style=\"border:solid;\" bgcolor=\"white\"><font color=\"black\">VP: -1.90</font></td><td style=\"border:solid;\" bgcolor=\"white\"></td><td style=\"border:solid;\" bgcolor=\"white\"></td><td style=\"border:solid;\" bgcolor=\"white\"></td></tr>\n",
       "<tr><td>2: the</td><td style=\"border:none;\" bgcolor=\"white\"></td><td style=\"border:none;\" bgcolor=\"white\"></td><td style=\"border:solid;\" bgcolor=\"white\"><font color=\"black\">Obj_5: 0.00</font>, <font color=\"black\">Obj_8: 0.00</font></td><td style=\"border:solid;\" bgcolor=\"white\"><font color=\"black\">Obj: -0.69</font></td><td style=\"border:solid;\" bgcolor=\"#E1E1E1\"></td><td style=\"border:solid;\" bgcolor=\"#C3C3C3\"></td><td style=\"border:solid;\" bgcolor=\"white\"></td></tr>\n",
       "<tr><td>3: elephant</td><td style=\"border:none;\" bgcolor=\"white\"></td><td style=\"border:none;\" bgcolor=\"white\"></td><td style=\"border:none;\" bgcolor=\"white\"></td><td style=\"border:solid;\" bgcolor=\"white\"><font color=\"black\">Obj_6: 0.00</font>, <font color=\"black\">Obj_7_9: 0.00</font></td><td style=\"border:solid;\" bgcolor=\"white\"></td><td style=\"border:solid;\" bgcolor=\"white\"></td><td style=\"border:solid;\" bgcolor=\"white\"></td></tr>\n",
       "<tr><td>4: in</td><td style=\"border:none;\" bgcolor=\"white\"></td><td style=\"border:none;\" bgcolor=\"white\"></td><td style=\"border:none;\" bgcolor=\"white\"></td><td style=\"border:none;\" bgcolor=\"white\"></td><td style=\"border:solid;\" bgcolor=\"white\"><font color=\"black\">PP_2: 0.00</font></td><td style=\"border:solid;\" bgcolor=\"white\"></td><td style=\"border:solid;\" bgcolor=\"white\"><font color=\"black\">PP: 0.00</font></td></tr>\n",
       "<tr><td>5: his</td><td style=\"border:none;\" bgcolor=\"white\"></td><td style=\"border:none;\" bgcolor=\"white\"></td><td style=\"border:none;\" bgcolor=\"white\"></td><td style=\"border:none;\" bgcolor=\"white\"></td><td style=\"border:none;\" bgcolor=\"white\"></td><td style=\"border:solid;\" bgcolor=\"#E1E1E1\"><font color=\"black\">PP_1_3: 0.00</font></td><td style=\"border:solid;\" bgcolor=\"white\"><font color=\"black\">PP_1: 0.00</font></td></tr>\n",
       "<tr><td>6: pyjamas</td><td style=\"border:none;\" bgcolor=\"white\"></td><td style=\"border:none;\" bgcolor=\"white\"></td><td style=\"border:none;\" bgcolor=\"white\"></td><td style=\"border:none;\" bgcolor=\"white\"></td><td style=\"border:none;\" bgcolor=\"white\"></td><td style=\"border:none;\" bgcolor=\"white\"></td><td style=\"border:solid;\" bgcolor=\"white\"><font color=\"black\">PP_1_4: 0.00</font></td></tr></table> 63 / 112</div>\n",
       "<div class=\"item\"><table><tr><td></td><td>0: He</td><td>1: shot</td><td>2: the</td><td>3: elephant</td><td>4: in</td><td>5: his</td><td>6: pyjamas</td></tr>\n",
       "<tr><td>0: He</td><td style=\"border:solid;\" bgcolor=\"white\"><font color=\"black\">Subj: 0.00</font></td><td style=\"border:solid;\" bgcolor=\"white\"></td><td style=\"border:solid;\" bgcolor=\"white\"></td><td style=\"border:solid;\" bgcolor=\"white\"><font color=\"black\">S: -1.90</font></td><td style=\"border:solid;\" bgcolor=\"white\"></td><td style=\"border:solid;\" bgcolor=\"white\"></td><td style=\"border:solid;\" bgcolor=\"white\"></td></tr>\n",
       "<tr><td>1: shot</td><td style=\"border:none;\" bgcolor=\"white\"></td><td style=\"border:solid;\" bgcolor=\"white\"><font color=\"black\">Verb: 0.00</font></td><td style=\"border:solid;\" bgcolor=\"white\"></td><td style=\"border:solid;\" bgcolor=\"white\"><font color=\"black\">VP: -1.90</font></td><td style=\"border:solid;\" bgcolor=\"white\"></td><td style=\"border:solid;\" bgcolor=\"white\"></td><td style=\"border:solid;\" bgcolor=\"white\"></td></tr>\n",
       "<tr><td>2: the</td><td style=\"border:none;\" bgcolor=\"white\"></td><td style=\"border:none;\" bgcolor=\"white\"></td><td style=\"border:solid;\" bgcolor=\"white\"><font color=\"black\">Obj_5: 0.00</font>, <font color=\"black\">Obj_8: 0.00</font></td><td style=\"border:solid;\" bgcolor=\"white\"><font color=\"black\">Obj: -0.69</font></td><td style=\"border:solid;\" bgcolor=\"white\"></td><td style=\"border:solid;\" bgcolor=\"white\"></td><td style=\"border:solid;\" bgcolor=\"white\"></td></tr>\n",
       "<tr><td>3: elephant</td><td style=\"border:none;\" bgcolor=\"white\"></td><td style=\"border:none;\" bgcolor=\"white\"></td><td style=\"border:none;\" bgcolor=\"white\"></td><td style=\"border:solid;\" bgcolor=\"#E1E1E1\"><font color=\"black\">Obj_6: 0.00</font>, <font color=\"black\">Obj_7_9: 0.00</font></td><td style=\"border:solid;\" bgcolor=\"white\"></td><td style=\"border:solid;\" bgcolor=\"white\"></td><td style=\"border:solid;\" bgcolor=\"#C3C3C3\"></td></tr>\n",
       "<tr><td>4: in</td><td style=\"border:none;\" bgcolor=\"white\"></td><td style=\"border:none;\" bgcolor=\"white\"></td><td style=\"border:none;\" bgcolor=\"white\"></td><td style=\"border:none;\" bgcolor=\"white\"></td><td style=\"border:solid;\" bgcolor=\"white\"><font color=\"black\">PP_2: 0.00</font></td><td style=\"border:solid;\" bgcolor=\"white\"></td><td style=\"border:solid;\" bgcolor=\"#E1E1E1\"><font color=\"black\">PP: 0.00</font></td></tr>\n",
       "<tr><td>5: his</td><td style=\"border:none;\" bgcolor=\"white\"></td><td style=\"border:none;\" bgcolor=\"white\"></td><td style=\"border:none;\" bgcolor=\"white\"></td><td style=\"border:none;\" bgcolor=\"white\"></td><td style=\"border:none;\" bgcolor=\"white\"></td><td style=\"border:solid;\" bgcolor=\"white\"><font color=\"black\">PP_1_3: 0.00</font></td><td style=\"border:solid;\" bgcolor=\"white\"><font color=\"black\">PP_1: 0.00</font></td></tr>\n",
       "<tr><td>6: pyjamas</td><td style=\"border:none;\" bgcolor=\"white\"></td><td style=\"border:none;\" bgcolor=\"white\"></td><td style=\"border:none;\" bgcolor=\"white\"></td><td style=\"border:none;\" bgcolor=\"white\"></td><td style=\"border:none;\" bgcolor=\"white\"></td><td style=\"border:none;\" bgcolor=\"white\"></td><td style=\"border:solid;\" bgcolor=\"white\"><font color=\"black\">PP_1_4: 0.00</font></td></tr></table> 64 / 112</div>\n",
       "<div class=\"item\"><table><tr><td></td><td>0: He</td><td>1: shot</td><td>2: the</td><td>3: elephant</td><td>4: in</td><td>5: his</td><td>6: pyjamas</td></tr>\n",
       "<tr><td>0: He</td><td style=\"border:solid;\" bgcolor=\"white\"><font color=\"black\">Subj: 0.00</font></td><td style=\"border:solid;\" bgcolor=\"white\"></td><td style=\"border:solid;\" bgcolor=\"white\"></td><td style=\"border:solid;\" bgcolor=\"white\"><font color=\"black\">S: -1.90</font></td><td style=\"border:solid;\" bgcolor=\"white\"></td><td style=\"border:solid;\" bgcolor=\"white\"></td><td style=\"border:solid;\" bgcolor=\"white\"></td></tr>\n",
       "<tr><td>1: shot</td><td style=\"border:none;\" bgcolor=\"white\"></td><td style=\"border:solid;\" bgcolor=\"white\"><font color=\"black\">Verb: 0.00</font></td><td style=\"border:solid;\" bgcolor=\"white\"></td><td style=\"border:solid;\" bgcolor=\"white\"><font color=\"black\">VP: -1.90</font></td><td style=\"border:solid;\" bgcolor=\"white\"></td><td style=\"border:solid;\" bgcolor=\"white\"></td><td style=\"border:solid;\" bgcolor=\"white\"></td></tr>\n",
       "<tr><td>2: the</td><td style=\"border:none;\" bgcolor=\"white\"></td><td style=\"border:none;\" bgcolor=\"white\"></td><td style=\"border:solid;\" bgcolor=\"white\"><font color=\"black\">Obj_5: 0.00</font>, <font color=\"black\">Obj_8: 0.00</font></td><td style=\"border:solid;\" bgcolor=\"white\"><font color=\"black\">Obj: -0.69</font></td><td style=\"border:solid;\" bgcolor=\"white\"></td><td style=\"border:solid;\" bgcolor=\"white\"></td><td style=\"border:solid;\" bgcolor=\"white\"></td></tr>\n",
       "<tr><td>3: elephant</td><td style=\"border:none;\" bgcolor=\"white\"></td><td style=\"border:none;\" bgcolor=\"white\"></td><td style=\"border:none;\" bgcolor=\"white\"></td><td style=\"border:solid;\" bgcolor=\"#E1E1E1\"><font color=\"red\">Obj_6: 0.00</font>, <font color=\"black\">Obj_7_9: 0.00</font></td><td style=\"border:solid;\" bgcolor=\"white\"></td><td style=\"border:solid;\" bgcolor=\"white\"></td><td style=\"border:solid;\" bgcolor=\"#C3C3C3\"></td></tr>\n",
       "<tr><td>4: in</td><td style=\"border:none;\" bgcolor=\"white\"></td><td style=\"border:none;\" bgcolor=\"white\"></td><td style=\"border:none;\" bgcolor=\"white\"></td><td style=\"border:none;\" bgcolor=\"white\"></td><td style=\"border:solid;\" bgcolor=\"white\"><font color=\"black\">PP_2: 0.00</font></td><td style=\"border:solid;\" bgcolor=\"white\"></td><td style=\"border:solid;\" bgcolor=\"#E1E1E1\"><font color=\"red\">PP: 0.00</font></td></tr>\n",
       "<tr><td>5: his</td><td style=\"border:none;\" bgcolor=\"white\"></td><td style=\"border:none;\" bgcolor=\"white\"></td><td style=\"border:none;\" bgcolor=\"white\"></td><td style=\"border:none;\" bgcolor=\"white\"></td><td style=\"border:none;\" bgcolor=\"white\"></td><td style=\"border:solid;\" bgcolor=\"white\"><font color=\"black\">PP_1_3: 0.00</font></td><td style=\"border:solid;\" bgcolor=\"white\"><font color=\"black\">PP_1: 0.00</font></td></tr>\n",
       "<tr><td>6: pyjamas</td><td style=\"border:none;\" bgcolor=\"white\"></td><td style=\"border:none;\" bgcolor=\"white\"></td><td style=\"border:none;\" bgcolor=\"white\"></td><td style=\"border:none;\" bgcolor=\"white\"></td><td style=\"border:none;\" bgcolor=\"white\"></td><td style=\"border:none;\" bgcolor=\"white\"></td><td style=\"border:solid;\" bgcolor=\"white\"><font color=\"black\">PP_1_4: 0.00</font></td></tr></table> 65 / 112</div>\n",
       "<div class=\"item\"><table><tr><td></td><td>0: He</td><td>1: shot</td><td>2: the</td><td>3: elephant</td><td>4: in</td><td>5: his</td><td>6: pyjamas</td></tr>\n",
       "<tr><td>0: He</td><td style=\"border:solid;\" bgcolor=\"white\"><font color=\"black\">Subj: 0.00</font></td><td style=\"border:solid;\" bgcolor=\"white\"></td><td style=\"border:solid;\" bgcolor=\"white\"></td><td style=\"border:solid;\" bgcolor=\"white\"><font color=\"black\">S: -1.90</font></td><td style=\"border:solid;\" bgcolor=\"white\"></td><td style=\"border:solid;\" bgcolor=\"white\"></td><td style=\"border:solid;\" bgcolor=\"white\"></td></tr>\n",
       "<tr><td>1: shot</td><td style=\"border:none;\" bgcolor=\"white\"></td><td style=\"border:solid;\" bgcolor=\"white\"><font color=\"black\">Verb: 0.00</font></td><td style=\"border:solid;\" bgcolor=\"white\"></td><td style=\"border:solid;\" bgcolor=\"white\"><font color=\"black\">VP: -1.90</font></td><td style=\"border:solid;\" bgcolor=\"white\"></td><td style=\"border:solid;\" bgcolor=\"white\"></td><td style=\"border:solid;\" bgcolor=\"white\"></td></tr>\n",
       "<tr><td>2: the</td><td style=\"border:none;\" bgcolor=\"white\"></td><td style=\"border:none;\" bgcolor=\"white\"></td><td style=\"border:solid;\" bgcolor=\"white\"><font color=\"black\">Obj_5: 0.00</font>, <font color=\"black\">Obj_8: 0.00</font></td><td style=\"border:solid;\" bgcolor=\"white\"><font color=\"black\">Obj: -0.69</font></td><td style=\"border:solid;\" bgcolor=\"white\"></td><td style=\"border:solid;\" bgcolor=\"white\"></td><td style=\"border:solid;\" bgcolor=\"white\"></td></tr>\n",
       "<tr><td>3: elephant</td><td style=\"border:none;\" bgcolor=\"white\"></td><td style=\"border:none;\" bgcolor=\"white\"></td><td style=\"border:none;\" bgcolor=\"white\"></td><td style=\"border:solid;\" bgcolor=\"#E1E1E1\"><font color=\"black\">Obj_6: 0.00</font>, <font color=\"red\">Obj_7_9: 0.00</font></td><td style=\"border:solid;\" bgcolor=\"white\"></td><td style=\"border:solid;\" bgcolor=\"white\"></td><td style=\"border:solid;\" bgcolor=\"#C3C3C3\"></td></tr>\n",
       "<tr><td>4: in</td><td style=\"border:none;\" bgcolor=\"white\"></td><td style=\"border:none;\" bgcolor=\"white\"></td><td style=\"border:none;\" bgcolor=\"white\"></td><td style=\"border:none;\" bgcolor=\"white\"></td><td style=\"border:solid;\" bgcolor=\"white\"><font color=\"black\">PP_2: 0.00</font></td><td style=\"border:solid;\" bgcolor=\"white\"></td><td style=\"border:solid;\" bgcolor=\"#E1E1E1\"><font color=\"red\">PP: 0.00</font></td></tr>\n",
       "<tr><td>5: his</td><td style=\"border:none;\" bgcolor=\"white\"></td><td style=\"border:none;\" bgcolor=\"white\"></td><td style=\"border:none;\" bgcolor=\"white\"></td><td style=\"border:none;\" bgcolor=\"white\"></td><td style=\"border:none;\" bgcolor=\"white\"></td><td style=\"border:solid;\" bgcolor=\"white\"><font color=\"black\">PP_1_3: 0.00</font></td><td style=\"border:solid;\" bgcolor=\"white\"><font color=\"black\">PP_1: 0.00</font></td></tr>\n",
       "<tr><td>6: pyjamas</td><td style=\"border:none;\" bgcolor=\"white\"></td><td style=\"border:none;\" bgcolor=\"white\"></td><td style=\"border:none;\" bgcolor=\"white\"></td><td style=\"border:none;\" bgcolor=\"white\"></td><td style=\"border:none;\" bgcolor=\"white\"></td><td style=\"border:none;\" bgcolor=\"white\"></td><td style=\"border:solid;\" bgcolor=\"white\"><font color=\"black\">PP_1_4: 0.00</font></td></tr></table> 66 / 112</div>\n",
       "<div class=\"item\"><table><tr><td></td><td>0: He</td><td>1: shot</td><td>2: the</td><td>3: elephant</td><td>4: in</td><td>5: his</td><td>6: pyjamas</td></tr>\n",
       "<tr><td>0: He</td><td style=\"border:solid;\" bgcolor=\"white\"><font color=\"black\">Subj: 0.00</font></td><td style=\"border:solid;\" bgcolor=\"white\"></td><td style=\"border:solid;\" bgcolor=\"white\"></td><td style=\"border:solid;\" bgcolor=\"white\"><font color=\"black\">S: -1.90</font></td><td style=\"border:solid;\" bgcolor=\"white\"></td><td style=\"border:solid;\" bgcolor=\"white\"></td><td style=\"border:solid;\" bgcolor=\"white\"></td></tr>\n",
       "<tr><td>1: shot</td><td style=\"border:none;\" bgcolor=\"white\"></td><td style=\"border:solid;\" bgcolor=\"white\"><font color=\"black\">Verb: 0.00</font></td><td style=\"border:solid;\" bgcolor=\"white\"></td><td style=\"border:solid;\" bgcolor=\"white\"><font color=\"black\">VP: -1.90</font></td><td style=\"border:solid;\" bgcolor=\"white\"></td><td style=\"border:solid;\" bgcolor=\"white\"></td><td style=\"border:solid;\" bgcolor=\"white\"></td></tr>\n",
       "<tr><td>2: the</td><td style=\"border:none;\" bgcolor=\"white\"></td><td style=\"border:none;\" bgcolor=\"white\"></td><td style=\"border:solid;\" bgcolor=\"white\"><font color=\"black\">Obj_5: 0.00</font>, <font color=\"black\">Obj_8: 0.00</font></td><td style=\"border:solid;\" bgcolor=\"white\"><font color=\"black\">Obj: -0.69</font></td><td style=\"border:solid;\" bgcolor=\"white\"></td><td style=\"border:solid;\" bgcolor=\"white\"></td><td style=\"border:solid;\" bgcolor=\"white\"></td></tr>\n",
       "<tr><td>3: elephant</td><td style=\"border:none;\" bgcolor=\"white\"></td><td style=\"border:none;\" bgcolor=\"white\"></td><td style=\"border:none;\" bgcolor=\"white\"></td><td style=\"border:solid;\" bgcolor=\"#E1E1E1\"><font color=\"black\">Obj_6: 0.00</font>, <font color=\"red\">Obj_7_9: 0.00</font></td><td style=\"border:solid;\" bgcolor=\"white\"></td><td style=\"border:solid;\" bgcolor=\"white\"></td><td style=\"border:solid;\" bgcolor=\"#C3C3C3\"><font color=\"blue\">Obj_7: 0.00</font></td></tr>\n",
       "<tr><td>4: in</td><td style=\"border:none;\" bgcolor=\"white\"></td><td style=\"border:none;\" bgcolor=\"white\"></td><td style=\"border:none;\" bgcolor=\"white\"></td><td style=\"border:none;\" bgcolor=\"white\"></td><td style=\"border:solid;\" bgcolor=\"white\"><font color=\"black\">PP_2: 0.00</font></td><td style=\"border:solid;\" bgcolor=\"white\"></td><td style=\"border:solid;\" bgcolor=\"#E1E1E1\"><font color=\"red\">PP: 0.00</font></td></tr>\n",
       "<tr><td>5: his</td><td style=\"border:none;\" bgcolor=\"white\"></td><td style=\"border:none;\" bgcolor=\"white\"></td><td style=\"border:none;\" bgcolor=\"white\"></td><td style=\"border:none;\" bgcolor=\"white\"></td><td style=\"border:none;\" bgcolor=\"white\"></td><td style=\"border:solid;\" bgcolor=\"white\"><font color=\"black\">PP_1_3: 0.00</font></td><td style=\"border:solid;\" bgcolor=\"white\"><font color=\"black\">PP_1: 0.00</font></td></tr>\n",
       "<tr><td>6: pyjamas</td><td style=\"border:none;\" bgcolor=\"white\"></td><td style=\"border:none;\" bgcolor=\"white\"></td><td style=\"border:none;\" bgcolor=\"white\"></td><td style=\"border:none;\" bgcolor=\"white\"></td><td style=\"border:none;\" bgcolor=\"white\"></td><td style=\"border:none;\" bgcolor=\"white\"></td><td style=\"border:solid;\" bgcolor=\"white\"><font color=\"black\">PP_1_4: 0.00</font></td></tr></table> 67 / 112</div>\n",
       "<div class=\"item\"><table><tr><td></td><td>0: He</td><td>1: shot</td><td>2: the</td><td>3: elephant</td><td>4: in</td><td>5: his</td><td>6: pyjamas</td></tr>\n",
       "<tr><td>0: He</td><td style=\"border:solid;\" bgcolor=\"white\"><font color=\"black\">Subj: 0.00</font></td><td style=\"border:solid;\" bgcolor=\"white\"></td><td style=\"border:solid;\" bgcolor=\"white\"></td><td style=\"border:solid;\" bgcolor=\"white\"><font color=\"black\">S: -1.90</font></td><td style=\"border:solid;\" bgcolor=\"white\"></td><td style=\"border:solid;\" bgcolor=\"white\"></td><td style=\"border:solid;\" bgcolor=\"white\"></td></tr>\n",
       "<tr><td>1: shot</td><td style=\"border:none;\" bgcolor=\"white\"></td><td style=\"border:solid;\" bgcolor=\"white\"><font color=\"black\">Verb: 0.00</font></td><td style=\"border:solid;\" bgcolor=\"white\"></td><td style=\"border:solid;\" bgcolor=\"white\"><font color=\"black\">VP: -1.90</font></td><td style=\"border:solid;\" bgcolor=\"white\"></td><td style=\"border:solid;\" bgcolor=\"white\"></td><td style=\"border:solid;\" bgcolor=\"white\"></td></tr>\n",
       "<tr><td>2: the</td><td style=\"border:none;\" bgcolor=\"white\"></td><td style=\"border:none;\" bgcolor=\"white\"></td><td style=\"border:solid;\" bgcolor=\"white\"><font color=\"black\">Obj_5: 0.00</font>, <font color=\"black\">Obj_8: 0.00</font></td><td style=\"border:solid;\" bgcolor=\"white\"><font color=\"black\">Obj: -0.69</font></td><td style=\"border:solid;\" bgcolor=\"white\"></td><td style=\"border:solid;\" bgcolor=\"white\"></td><td style=\"border:solid;\" bgcolor=\"white\"></td></tr>\n",
       "<tr><td>3: elephant</td><td style=\"border:none;\" bgcolor=\"white\"></td><td style=\"border:none;\" bgcolor=\"white\"></td><td style=\"border:none;\" bgcolor=\"white\"></td><td style=\"border:solid;\" bgcolor=\"white\"><font color=\"black\">Obj_6: 0.00</font>, <font color=\"black\">Obj_7_9: 0.00</font></td><td style=\"border:solid;\" bgcolor=\"#E1E1E1\"></td><td style=\"border:solid;\" bgcolor=\"white\"></td><td style=\"border:solid;\" bgcolor=\"#C3C3C3\"><font color=\"black\">Obj_7: 0.00</font></td></tr>\n",
       "<tr><td>4: in</td><td style=\"border:none;\" bgcolor=\"white\"></td><td style=\"border:none;\" bgcolor=\"white\"></td><td style=\"border:none;\" bgcolor=\"white\"></td><td style=\"border:none;\" bgcolor=\"white\"></td><td style=\"border:solid;\" bgcolor=\"white\"><font color=\"black\">PP_2: 0.00</font></td><td style=\"border:solid;\" bgcolor=\"white\"></td><td style=\"border:solid;\" bgcolor=\"white\"><font color=\"black\">PP: 0.00</font></td></tr>\n",
       "<tr><td>5: his</td><td style=\"border:none;\" bgcolor=\"white\"></td><td style=\"border:none;\" bgcolor=\"white\"></td><td style=\"border:none;\" bgcolor=\"white\"></td><td style=\"border:none;\" bgcolor=\"white\"></td><td style=\"border:none;\" bgcolor=\"white\"></td><td style=\"border:solid;\" bgcolor=\"white\"><font color=\"black\">PP_1_3: 0.00</font></td><td style=\"border:solid;\" bgcolor=\"#E1E1E1\"><font color=\"black\">PP_1: 0.00</font></td></tr>\n",
       "<tr><td>6: pyjamas</td><td style=\"border:none;\" bgcolor=\"white\"></td><td style=\"border:none;\" bgcolor=\"white\"></td><td style=\"border:none;\" bgcolor=\"white\"></td><td style=\"border:none;\" bgcolor=\"white\"></td><td style=\"border:none;\" bgcolor=\"white\"></td><td style=\"border:none;\" bgcolor=\"white\"></td><td style=\"border:solid;\" bgcolor=\"white\"><font color=\"black\">PP_1_4: 0.00</font></td></tr></table> 68 / 112</div>\n",
       "<div class=\"item\"><table><tr><td></td><td>0: He</td><td>1: shot</td><td>2: the</td><td>3: elephant</td><td>4: in</td><td>5: his</td><td>6: pyjamas</td></tr>\n",
       "<tr><td>0: He</td><td style=\"border:solid;\" bgcolor=\"white\"><font color=\"black\">Subj: 0.00</font></td><td style=\"border:solid;\" bgcolor=\"white\"></td><td style=\"border:solid;\" bgcolor=\"white\"></td><td style=\"border:solid;\" bgcolor=\"white\"><font color=\"black\">S: -1.90</font></td><td style=\"border:solid;\" bgcolor=\"white\"></td><td style=\"border:solid;\" bgcolor=\"white\"></td><td style=\"border:solid;\" bgcolor=\"white\"></td></tr>\n",
       "<tr><td>1: shot</td><td style=\"border:none;\" bgcolor=\"white\"></td><td style=\"border:solid;\" bgcolor=\"white\"><font color=\"black\">Verb: 0.00</font></td><td style=\"border:solid;\" bgcolor=\"white\"></td><td style=\"border:solid;\" bgcolor=\"white\"><font color=\"black\">VP: -1.90</font></td><td style=\"border:solid;\" bgcolor=\"white\"></td><td style=\"border:solid;\" bgcolor=\"white\"></td><td style=\"border:solid;\" bgcolor=\"white\"></td></tr>\n",
       "<tr><td>2: the</td><td style=\"border:none;\" bgcolor=\"white\"></td><td style=\"border:none;\" bgcolor=\"white\"></td><td style=\"border:solid;\" bgcolor=\"white\"><font color=\"black\">Obj_5: 0.00</font>, <font color=\"black\">Obj_8: 0.00</font></td><td style=\"border:solid;\" bgcolor=\"white\"><font color=\"black\">Obj: -0.69</font></td><td style=\"border:solid;\" bgcolor=\"white\"></td><td style=\"border:solid;\" bgcolor=\"white\"></td><td style=\"border:solid;\" bgcolor=\"white\"></td></tr>\n",
       "<tr><td>3: elephant</td><td style=\"border:none;\" bgcolor=\"white\"></td><td style=\"border:none;\" bgcolor=\"white\"></td><td style=\"border:none;\" bgcolor=\"white\"></td><td style=\"border:solid;\" bgcolor=\"white\"><font color=\"black\">Obj_6: 0.00</font>, <font color=\"black\">Obj_7_9: 0.00</font></td><td style=\"border:solid;\" bgcolor=\"white\"></td><td style=\"border:solid;\" bgcolor=\"#E1E1E1\"></td><td style=\"border:solid;\" bgcolor=\"#C3C3C3\"><font color=\"black\">Obj_7: 0.00</font></td></tr>\n",
       "<tr><td>4: in</td><td style=\"border:none;\" bgcolor=\"white\"></td><td style=\"border:none;\" bgcolor=\"white\"></td><td style=\"border:none;\" bgcolor=\"white\"></td><td style=\"border:none;\" bgcolor=\"white\"></td><td style=\"border:solid;\" bgcolor=\"white\"><font color=\"black\">PP_2: 0.00</font></td><td style=\"border:solid;\" bgcolor=\"white\"></td><td style=\"border:solid;\" bgcolor=\"white\"><font color=\"black\">PP: 0.00</font></td></tr>\n",
       "<tr><td>5: his</td><td style=\"border:none;\" bgcolor=\"white\"></td><td style=\"border:none;\" bgcolor=\"white\"></td><td style=\"border:none;\" bgcolor=\"white\"></td><td style=\"border:none;\" bgcolor=\"white\"></td><td style=\"border:none;\" bgcolor=\"white\"></td><td style=\"border:solid;\" bgcolor=\"white\"><font color=\"black\">PP_1_3: 0.00</font></td><td style=\"border:solid;\" bgcolor=\"white\"><font color=\"black\">PP_1: 0.00</font></td></tr>\n",
       "<tr><td>6: pyjamas</td><td style=\"border:none;\" bgcolor=\"white\"></td><td style=\"border:none;\" bgcolor=\"white\"></td><td style=\"border:none;\" bgcolor=\"white\"></td><td style=\"border:none;\" bgcolor=\"white\"></td><td style=\"border:none;\" bgcolor=\"white\"></td><td style=\"border:none;\" bgcolor=\"white\"></td><td style=\"border:solid;\" bgcolor=\"#E1E1E1\"><font color=\"black\">PP_1_4: 0.00</font></td></tr></table> 69 / 112</div>\n",
       "<div class=\"item\"><table><tr><td></td><td>0: He</td><td>1: shot</td><td>2: the</td><td>3: elephant</td><td>4: in</td><td>5: his</td><td>6: pyjamas</td></tr>\n",
       "<tr><td>0: He</td><td style=\"border:solid;\" bgcolor=\"#E1E1E1\"><font color=\"black\">Subj: 0.00</font></td><td style=\"border:solid;\" bgcolor=\"white\"></td><td style=\"border:solid;\" bgcolor=\"white\"></td><td style=\"border:solid;\" bgcolor=\"white\"><font color=\"black\">S: -1.90</font></td><td style=\"border:solid;\" bgcolor=\"#C3C3C3\"></td><td style=\"border:solid;\" bgcolor=\"white\"></td><td style=\"border:solid;\" bgcolor=\"white\"></td></tr>\n",
       "<tr><td>1: shot</td><td style=\"border:none;\" bgcolor=\"white\"></td><td style=\"border:solid;\" bgcolor=\"white\"><font color=\"black\">Verb: 0.00</font></td><td style=\"border:solid;\" bgcolor=\"white\"></td><td style=\"border:solid;\" bgcolor=\"white\"><font color=\"black\">VP: -1.90</font></td><td style=\"border:solid;\" bgcolor=\"#E1E1E1\"></td><td style=\"border:solid;\" bgcolor=\"white\"></td><td style=\"border:solid;\" bgcolor=\"white\"></td></tr>\n",
       "<tr><td>2: the</td><td style=\"border:none;\" bgcolor=\"white\"></td><td style=\"border:none;\" bgcolor=\"white\"></td><td style=\"border:solid;\" bgcolor=\"white\"><font color=\"black\">Obj_5: 0.00</font>, <font color=\"black\">Obj_8: 0.00</font></td><td style=\"border:solid;\" bgcolor=\"white\"><font color=\"black\">Obj: -0.69</font></td><td style=\"border:solid;\" bgcolor=\"white\"></td><td style=\"border:solid;\" bgcolor=\"white\"></td><td style=\"border:solid;\" bgcolor=\"white\"></td></tr>\n",
       "<tr><td>3: elephant</td><td style=\"border:none;\" bgcolor=\"white\"></td><td style=\"border:none;\" bgcolor=\"white\"></td><td style=\"border:none;\" bgcolor=\"white\"></td><td style=\"border:solid;\" bgcolor=\"white\"><font color=\"black\">Obj_6: 0.00</font>, <font color=\"black\">Obj_7_9: 0.00</font></td><td style=\"border:solid;\" bgcolor=\"white\"></td><td style=\"border:solid;\" bgcolor=\"white\"></td><td style=\"border:solid;\" bgcolor=\"white\"><font color=\"black\">Obj_7: 0.00</font></td></tr>\n",
       "<tr><td>4: in</td><td style=\"border:none;\" bgcolor=\"white\"></td><td style=\"border:none;\" bgcolor=\"white\"></td><td style=\"border:none;\" bgcolor=\"white\"></td><td style=\"border:none;\" bgcolor=\"white\"></td><td style=\"border:solid;\" bgcolor=\"white\"><font color=\"black\">PP_2: 0.00</font></td><td style=\"border:solid;\" bgcolor=\"white\"></td><td style=\"border:solid;\" bgcolor=\"white\"><font color=\"black\">PP: 0.00</font></td></tr>\n",
       "<tr><td>5: his</td><td style=\"border:none;\" bgcolor=\"white\"></td><td style=\"border:none;\" bgcolor=\"white\"></td><td style=\"border:none;\" bgcolor=\"white\"></td><td style=\"border:none;\" bgcolor=\"white\"></td><td style=\"border:none;\" bgcolor=\"white\"></td><td style=\"border:solid;\" bgcolor=\"white\"><font color=\"black\">PP_1_3: 0.00</font></td><td style=\"border:solid;\" bgcolor=\"white\"><font color=\"black\">PP_1: 0.00</font></td></tr>\n",
       "<tr><td>6: pyjamas</td><td style=\"border:none;\" bgcolor=\"white\"></td><td style=\"border:none;\" bgcolor=\"white\"></td><td style=\"border:none;\" bgcolor=\"white\"></td><td style=\"border:none;\" bgcolor=\"white\"></td><td style=\"border:none;\" bgcolor=\"white\"></td><td style=\"border:none;\" bgcolor=\"white\"></td><td style=\"border:solid;\" bgcolor=\"white\"><font color=\"black\">PP_1_4: 0.00</font></td></tr></table> 70 / 112</div>\n",
       "<div class=\"item\"><table><tr><td></td><td>0: He</td><td>1: shot</td><td>2: the</td><td>3: elephant</td><td>4: in</td><td>5: his</td><td>6: pyjamas</td></tr>\n",
       "<tr><td>0: He</td><td style=\"border:solid;\" bgcolor=\"white\"><font color=\"black\">Subj: 0.00</font></td><td style=\"border:solid;\" bgcolor=\"#E1E1E1\"></td><td style=\"border:solid;\" bgcolor=\"white\"></td><td style=\"border:solid;\" bgcolor=\"white\"><font color=\"black\">S: -1.90</font></td><td style=\"border:solid;\" bgcolor=\"#C3C3C3\"></td><td style=\"border:solid;\" bgcolor=\"white\"></td><td style=\"border:solid;\" bgcolor=\"white\"></td></tr>\n",
       "<tr><td>1: shot</td><td style=\"border:none;\" bgcolor=\"white\"></td><td style=\"border:solid;\" bgcolor=\"white\"><font color=\"black\">Verb: 0.00</font></td><td style=\"border:solid;\" bgcolor=\"white\"></td><td style=\"border:solid;\" bgcolor=\"white\"><font color=\"black\">VP: -1.90</font></td><td style=\"border:solid;\" bgcolor=\"white\"></td><td style=\"border:solid;\" bgcolor=\"white\"></td><td style=\"border:solid;\" bgcolor=\"white\"></td></tr>\n",
       "<tr><td>2: the</td><td style=\"border:none;\" bgcolor=\"white\"></td><td style=\"border:none;\" bgcolor=\"white\"></td><td style=\"border:solid;\" bgcolor=\"white\"><font color=\"black\">Obj_5: 0.00</font>, <font color=\"black\">Obj_8: 0.00</font></td><td style=\"border:solid;\" bgcolor=\"white\"><font color=\"black\">Obj: -0.69</font></td><td style=\"border:solid;\" bgcolor=\"#E1E1E1\"></td><td style=\"border:solid;\" bgcolor=\"white\"></td><td style=\"border:solid;\" bgcolor=\"white\"></td></tr>\n",
       "<tr><td>3: elephant</td><td style=\"border:none;\" bgcolor=\"white\"></td><td style=\"border:none;\" bgcolor=\"white\"></td><td style=\"border:none;\" bgcolor=\"white\"></td><td style=\"border:solid;\" bgcolor=\"white\"><font color=\"black\">Obj_6: 0.00</font>, <font color=\"black\">Obj_7_9: 0.00</font></td><td style=\"border:solid;\" bgcolor=\"white\"></td><td style=\"border:solid;\" bgcolor=\"white\"></td><td style=\"border:solid;\" bgcolor=\"white\"><font color=\"black\">Obj_7: 0.00</font></td></tr>\n",
       "<tr><td>4: in</td><td style=\"border:none;\" bgcolor=\"white\"></td><td style=\"border:none;\" bgcolor=\"white\"></td><td style=\"border:none;\" bgcolor=\"white\"></td><td style=\"border:none;\" bgcolor=\"white\"></td><td style=\"border:solid;\" bgcolor=\"white\"><font color=\"black\">PP_2: 0.00</font></td><td style=\"border:solid;\" bgcolor=\"white\"></td><td style=\"border:solid;\" bgcolor=\"white\"><font color=\"black\">PP: 0.00</font></td></tr>\n",
       "<tr><td>5: his</td><td style=\"border:none;\" bgcolor=\"white\"></td><td style=\"border:none;\" bgcolor=\"white\"></td><td style=\"border:none;\" bgcolor=\"white\"></td><td style=\"border:none;\" bgcolor=\"white\"></td><td style=\"border:none;\" bgcolor=\"white\"></td><td style=\"border:solid;\" bgcolor=\"white\"><font color=\"black\">PP_1_3: 0.00</font></td><td style=\"border:solid;\" bgcolor=\"white\"><font color=\"black\">PP_1: 0.00</font></td></tr>\n",
       "<tr><td>6: pyjamas</td><td style=\"border:none;\" bgcolor=\"white\"></td><td style=\"border:none;\" bgcolor=\"white\"></td><td style=\"border:none;\" bgcolor=\"white\"></td><td style=\"border:none;\" bgcolor=\"white\"></td><td style=\"border:none;\" bgcolor=\"white\"></td><td style=\"border:none;\" bgcolor=\"white\"></td><td style=\"border:solid;\" bgcolor=\"white\"><font color=\"black\">PP_1_4: 0.00</font></td></tr></table> 71 / 112</div>\n",
       "<div class=\"item\"><table><tr><td></td><td>0: He</td><td>1: shot</td><td>2: the</td><td>3: elephant</td><td>4: in</td><td>5: his</td><td>6: pyjamas</td></tr>\n",
       "<tr><td>0: He</td><td style=\"border:solid;\" bgcolor=\"white\"><font color=\"black\">Subj: 0.00</font></td><td style=\"border:solid;\" bgcolor=\"white\"></td><td style=\"border:solid;\" bgcolor=\"#E1E1E1\"></td><td style=\"border:solid;\" bgcolor=\"white\"><font color=\"black\">S: -1.90</font></td><td style=\"border:solid;\" bgcolor=\"#C3C3C3\"></td><td style=\"border:solid;\" bgcolor=\"white\"></td><td style=\"border:solid;\" bgcolor=\"white\"></td></tr>\n",
       "<tr><td>1: shot</td><td style=\"border:none;\" bgcolor=\"white\"></td><td style=\"border:solid;\" bgcolor=\"white\"><font color=\"black\">Verb: 0.00</font></td><td style=\"border:solid;\" bgcolor=\"white\"></td><td style=\"border:solid;\" bgcolor=\"white\"><font color=\"black\">VP: -1.90</font></td><td style=\"border:solid;\" bgcolor=\"white\"></td><td style=\"border:solid;\" bgcolor=\"white\"></td><td style=\"border:solid;\" bgcolor=\"white\"></td></tr>\n",
       "<tr><td>2: the</td><td style=\"border:none;\" bgcolor=\"white\"></td><td style=\"border:none;\" bgcolor=\"white\"></td><td style=\"border:solid;\" bgcolor=\"white\"><font color=\"black\">Obj_5: 0.00</font>, <font color=\"black\">Obj_8: 0.00</font></td><td style=\"border:solid;\" bgcolor=\"white\"><font color=\"black\">Obj: -0.69</font></td><td style=\"border:solid;\" bgcolor=\"white\"></td><td style=\"border:solid;\" bgcolor=\"white\"></td><td style=\"border:solid;\" bgcolor=\"white\"></td></tr>\n",
       "<tr><td>3: elephant</td><td style=\"border:none;\" bgcolor=\"white\"></td><td style=\"border:none;\" bgcolor=\"white\"></td><td style=\"border:none;\" bgcolor=\"white\"></td><td style=\"border:solid;\" bgcolor=\"white\"><font color=\"black\">Obj_6: 0.00</font>, <font color=\"black\">Obj_7_9: 0.00</font></td><td style=\"border:solid;\" bgcolor=\"#E1E1E1\"></td><td style=\"border:solid;\" bgcolor=\"white\"></td><td style=\"border:solid;\" bgcolor=\"white\"><font color=\"black\">Obj_7: 0.00</font></td></tr>\n",
       "<tr><td>4: in</td><td style=\"border:none;\" bgcolor=\"white\"></td><td style=\"border:none;\" bgcolor=\"white\"></td><td style=\"border:none;\" bgcolor=\"white\"></td><td style=\"border:none;\" bgcolor=\"white\"></td><td style=\"border:solid;\" bgcolor=\"white\"><font color=\"black\">PP_2: 0.00</font></td><td style=\"border:solid;\" bgcolor=\"white\"></td><td style=\"border:solid;\" bgcolor=\"white\"><font color=\"black\">PP: 0.00</font></td></tr>\n",
       "<tr><td>5: his</td><td style=\"border:none;\" bgcolor=\"white\"></td><td style=\"border:none;\" bgcolor=\"white\"></td><td style=\"border:none;\" bgcolor=\"white\"></td><td style=\"border:none;\" bgcolor=\"white\"></td><td style=\"border:none;\" bgcolor=\"white\"></td><td style=\"border:solid;\" bgcolor=\"white\"><font color=\"black\">PP_1_3: 0.00</font></td><td style=\"border:solid;\" bgcolor=\"white\"><font color=\"black\">PP_1: 0.00</font></td></tr>\n",
       "<tr><td>6: pyjamas</td><td style=\"border:none;\" bgcolor=\"white\"></td><td style=\"border:none;\" bgcolor=\"white\"></td><td style=\"border:none;\" bgcolor=\"white\"></td><td style=\"border:none;\" bgcolor=\"white\"></td><td style=\"border:none;\" bgcolor=\"white\"></td><td style=\"border:none;\" bgcolor=\"white\"></td><td style=\"border:solid;\" bgcolor=\"white\"><font color=\"black\">PP_1_4: 0.00</font></td></tr></table> 72 / 112</div>\n",
       "<div class=\"item\"><table><tr><td></td><td>0: He</td><td>1: shot</td><td>2: the</td><td>3: elephant</td><td>4: in</td><td>5: his</td><td>6: pyjamas</td></tr>\n",
       "<tr><td>0: He</td><td style=\"border:solid;\" bgcolor=\"white\"><font color=\"black\">Subj: 0.00</font></td><td style=\"border:solid;\" bgcolor=\"white\"></td><td style=\"border:solid;\" bgcolor=\"white\"></td><td style=\"border:solid;\" bgcolor=\"#E1E1E1\"><font color=\"black\">S: -1.90</font></td><td style=\"border:solid;\" bgcolor=\"#C3C3C3\"></td><td style=\"border:solid;\" bgcolor=\"white\"></td><td style=\"border:solid;\" bgcolor=\"white\"></td></tr>\n",
       "<tr><td>1: shot</td><td style=\"border:none;\" bgcolor=\"white\"></td><td style=\"border:solid;\" bgcolor=\"white\"><font color=\"black\">Verb: 0.00</font></td><td style=\"border:solid;\" bgcolor=\"white\"></td><td style=\"border:solid;\" bgcolor=\"white\"><font color=\"black\">VP: -1.90</font></td><td style=\"border:solid;\" bgcolor=\"white\"></td><td style=\"border:solid;\" bgcolor=\"white\"></td><td style=\"border:solid;\" bgcolor=\"white\"></td></tr>\n",
       "<tr><td>2: the</td><td style=\"border:none;\" bgcolor=\"white\"></td><td style=\"border:none;\" bgcolor=\"white\"></td><td style=\"border:solid;\" bgcolor=\"white\"><font color=\"black\">Obj_5: 0.00</font>, <font color=\"black\">Obj_8: 0.00</font></td><td style=\"border:solid;\" bgcolor=\"white\"><font color=\"black\">Obj: -0.69</font></td><td style=\"border:solid;\" bgcolor=\"white\"></td><td style=\"border:solid;\" bgcolor=\"white\"></td><td style=\"border:solid;\" bgcolor=\"white\"></td></tr>\n",
       "<tr><td>3: elephant</td><td style=\"border:none;\" bgcolor=\"white\"></td><td style=\"border:none;\" bgcolor=\"white\"></td><td style=\"border:none;\" bgcolor=\"white\"></td><td style=\"border:solid;\" bgcolor=\"white\"><font color=\"black\">Obj_6: 0.00</font>, <font color=\"black\">Obj_7_9: 0.00</font></td><td style=\"border:solid;\" bgcolor=\"white\"></td><td style=\"border:solid;\" bgcolor=\"white\"></td><td style=\"border:solid;\" bgcolor=\"white\"><font color=\"black\">Obj_7: 0.00</font></td></tr>\n",
       "<tr><td>4: in</td><td style=\"border:none;\" bgcolor=\"white\"></td><td style=\"border:none;\" bgcolor=\"white\"></td><td style=\"border:none;\" bgcolor=\"white\"></td><td style=\"border:none;\" bgcolor=\"white\"></td><td style=\"border:solid;\" bgcolor=\"#E1E1E1\"><font color=\"black\">PP_2: 0.00</font></td><td style=\"border:solid;\" bgcolor=\"white\"></td><td style=\"border:solid;\" bgcolor=\"white\"><font color=\"black\">PP: 0.00</font></td></tr>\n",
       "<tr><td>5: his</td><td style=\"border:none;\" bgcolor=\"white\"></td><td style=\"border:none;\" bgcolor=\"white\"></td><td style=\"border:none;\" bgcolor=\"white\"></td><td style=\"border:none;\" bgcolor=\"white\"></td><td style=\"border:none;\" bgcolor=\"white\"></td><td style=\"border:solid;\" bgcolor=\"white\"><font color=\"black\">PP_1_3: 0.00</font></td><td style=\"border:solid;\" bgcolor=\"white\"><font color=\"black\">PP_1: 0.00</font></td></tr>\n",
       "<tr><td>6: pyjamas</td><td style=\"border:none;\" bgcolor=\"white\"></td><td style=\"border:none;\" bgcolor=\"white\"></td><td style=\"border:none;\" bgcolor=\"white\"></td><td style=\"border:none;\" bgcolor=\"white\"></td><td style=\"border:none;\" bgcolor=\"white\"></td><td style=\"border:none;\" bgcolor=\"white\"></td><td style=\"border:solid;\" bgcolor=\"white\"><font color=\"black\">PP_1_4: 0.00</font></td></tr></table> 73 / 112</div>\n",
       "<div class=\"item\"><table><tr><td></td><td>0: He</td><td>1: shot</td><td>2: the</td><td>3: elephant</td><td>4: in</td><td>5: his</td><td>6: pyjamas</td></tr>\n",
       "<tr><td>0: He</td><td style=\"border:solid;\" bgcolor=\"white\"><font color=\"black\">Subj: 0.00</font></td><td style=\"border:solid;\" bgcolor=\"white\"></td><td style=\"border:solid;\" bgcolor=\"white\"></td><td style=\"border:solid;\" bgcolor=\"#E1E1E1\"><font color=\"red\">S: -1.90</font></td><td style=\"border:solid;\" bgcolor=\"#C3C3C3\"></td><td style=\"border:solid;\" bgcolor=\"white\"></td><td style=\"border:solid;\" bgcolor=\"white\"></td></tr>\n",
       "<tr><td>1: shot</td><td style=\"border:none;\" bgcolor=\"white\"></td><td style=\"border:solid;\" bgcolor=\"white\"><font color=\"black\">Verb: 0.00</font></td><td style=\"border:solid;\" bgcolor=\"white\"></td><td style=\"border:solid;\" bgcolor=\"white\"><font color=\"black\">VP: -1.90</font></td><td style=\"border:solid;\" bgcolor=\"white\"></td><td style=\"border:solid;\" bgcolor=\"white\"></td><td style=\"border:solid;\" bgcolor=\"white\"></td></tr>\n",
       "<tr><td>2: the</td><td style=\"border:none;\" bgcolor=\"white\"></td><td style=\"border:none;\" bgcolor=\"white\"></td><td style=\"border:solid;\" bgcolor=\"white\"><font color=\"black\">Obj_5: 0.00</font>, <font color=\"black\">Obj_8: 0.00</font></td><td style=\"border:solid;\" bgcolor=\"white\"><font color=\"black\">Obj: -0.69</font></td><td style=\"border:solid;\" bgcolor=\"white\"></td><td style=\"border:solid;\" bgcolor=\"white\"></td><td style=\"border:solid;\" bgcolor=\"white\"></td></tr>\n",
       "<tr><td>3: elephant</td><td style=\"border:none;\" bgcolor=\"white\"></td><td style=\"border:none;\" bgcolor=\"white\"></td><td style=\"border:none;\" bgcolor=\"white\"></td><td style=\"border:solid;\" bgcolor=\"white\"><font color=\"black\">Obj_6: 0.00</font>, <font color=\"black\">Obj_7_9: 0.00</font></td><td style=\"border:solid;\" bgcolor=\"white\"></td><td style=\"border:solid;\" bgcolor=\"white\"></td><td style=\"border:solid;\" bgcolor=\"white\"><font color=\"black\">Obj_7: 0.00</font></td></tr>\n",
       "<tr><td>4: in</td><td style=\"border:none;\" bgcolor=\"white\"></td><td style=\"border:none;\" bgcolor=\"white\"></td><td style=\"border:none;\" bgcolor=\"white\"></td><td style=\"border:none;\" bgcolor=\"white\"></td><td style=\"border:solid;\" bgcolor=\"#E1E1E1\"><font color=\"red\">PP_2: 0.00</font></td><td style=\"border:solid;\" bgcolor=\"white\"></td><td style=\"border:solid;\" bgcolor=\"white\"><font color=\"black\">PP: 0.00</font></td></tr>\n",
       "<tr><td>5: his</td><td style=\"border:none;\" bgcolor=\"white\"></td><td style=\"border:none;\" bgcolor=\"white\"></td><td style=\"border:none;\" bgcolor=\"white\"></td><td style=\"border:none;\" bgcolor=\"white\"></td><td style=\"border:none;\" bgcolor=\"white\"></td><td style=\"border:solid;\" bgcolor=\"white\"><font color=\"black\">PP_1_3: 0.00</font></td><td style=\"border:solid;\" bgcolor=\"white\"><font color=\"black\">PP_1: 0.00</font></td></tr>\n",
       "<tr><td>6: pyjamas</td><td style=\"border:none;\" bgcolor=\"white\"></td><td style=\"border:none;\" bgcolor=\"white\"></td><td style=\"border:none;\" bgcolor=\"white\"></td><td style=\"border:none;\" bgcolor=\"white\"></td><td style=\"border:none;\" bgcolor=\"white\"></td><td style=\"border:none;\" bgcolor=\"white\"></td><td style=\"border:solid;\" bgcolor=\"white\"><font color=\"black\">PP_1_4: 0.00</font></td></tr></table> 74 / 112</div>\n",
       "<div class=\"item\"><table><tr><td></td><td>0: He</td><td>1: shot</td><td>2: the</td><td>3: elephant</td><td>4: in</td><td>5: his</td><td>6: pyjamas</td></tr>\n",
       "<tr><td>0: He</td><td style=\"border:solid;\" bgcolor=\"white\"><font color=\"black\">Subj: 0.00</font></td><td style=\"border:solid;\" bgcolor=\"white\"></td><td style=\"border:solid;\" bgcolor=\"white\"></td><td style=\"border:solid;\" bgcolor=\"white\"><font color=\"black\">S: -1.90</font></td><td style=\"border:solid;\" bgcolor=\"white\"></td><td style=\"border:solid;\" bgcolor=\"white\"></td><td style=\"border:solid;\" bgcolor=\"white\"></td></tr>\n",
       "<tr><td>1: shot</td><td style=\"border:none;\" bgcolor=\"white\"></td><td style=\"border:solid;\" bgcolor=\"#E1E1E1\"><font color=\"black\">Verb: 0.00</font></td><td style=\"border:solid;\" bgcolor=\"white\"></td><td style=\"border:solid;\" bgcolor=\"white\"><font color=\"black\">VP: -1.90</font></td><td style=\"border:solid;\" bgcolor=\"white\"></td><td style=\"border:solid;\" bgcolor=\"#C3C3C3\"></td><td style=\"border:solid;\" bgcolor=\"white\"></td></tr>\n",
       "<tr><td>2: the</td><td style=\"border:none;\" bgcolor=\"white\"></td><td style=\"border:none;\" bgcolor=\"white\"></td><td style=\"border:solid;\" bgcolor=\"white\"><font color=\"black\">Obj_5: 0.00</font>, <font color=\"black\">Obj_8: 0.00</font></td><td style=\"border:solid;\" bgcolor=\"white\"><font color=\"black\">Obj: -0.69</font></td><td style=\"border:solid;\" bgcolor=\"white\"></td><td style=\"border:solid;\" bgcolor=\"#E1E1E1\"></td><td style=\"border:solid;\" bgcolor=\"white\"></td></tr>\n",
       "<tr><td>3: elephant</td><td style=\"border:none;\" bgcolor=\"white\"></td><td style=\"border:none;\" bgcolor=\"white\"></td><td style=\"border:none;\" bgcolor=\"white\"></td><td style=\"border:solid;\" bgcolor=\"white\"><font color=\"black\">Obj_6: 0.00</font>, <font color=\"black\">Obj_7_9: 0.00</font></td><td style=\"border:solid;\" bgcolor=\"white\"></td><td style=\"border:solid;\" bgcolor=\"white\"></td><td style=\"border:solid;\" bgcolor=\"white\"><font color=\"black\">Obj_7: 0.00</font></td></tr>\n",
       "<tr><td>4: in</td><td style=\"border:none;\" bgcolor=\"white\"></td><td style=\"border:none;\" bgcolor=\"white\"></td><td style=\"border:none;\" bgcolor=\"white\"></td><td style=\"border:none;\" bgcolor=\"white\"></td><td style=\"border:solid;\" bgcolor=\"white\"><font color=\"black\">PP_2: 0.00</font></td><td style=\"border:solid;\" bgcolor=\"white\"></td><td style=\"border:solid;\" bgcolor=\"white\"><font color=\"black\">PP: 0.00</font></td></tr>\n",
       "<tr><td>5: his</td><td style=\"border:none;\" bgcolor=\"white\"></td><td style=\"border:none;\" bgcolor=\"white\"></td><td style=\"border:none;\" bgcolor=\"white\"></td><td style=\"border:none;\" bgcolor=\"white\"></td><td style=\"border:none;\" bgcolor=\"white\"></td><td style=\"border:solid;\" bgcolor=\"white\"><font color=\"black\">PP_1_3: 0.00</font></td><td style=\"border:solid;\" bgcolor=\"white\"><font color=\"black\">PP_1: 0.00</font></td></tr>\n",
       "<tr><td>6: pyjamas</td><td style=\"border:none;\" bgcolor=\"white\"></td><td style=\"border:none;\" bgcolor=\"white\"></td><td style=\"border:none;\" bgcolor=\"white\"></td><td style=\"border:none;\" bgcolor=\"white\"></td><td style=\"border:none;\" bgcolor=\"white\"></td><td style=\"border:none;\" bgcolor=\"white\"></td><td style=\"border:solid;\" bgcolor=\"white\"><font color=\"black\">PP_1_4: 0.00</font></td></tr></table> 75 / 112</div>\n",
       "<div class=\"item\"><table><tr><td></td><td>0: He</td><td>1: shot</td><td>2: the</td><td>3: elephant</td><td>4: in</td><td>5: his</td><td>6: pyjamas</td></tr>\n",
       "<tr><td>0: He</td><td style=\"border:solid;\" bgcolor=\"white\"><font color=\"black\">Subj: 0.00</font></td><td style=\"border:solid;\" bgcolor=\"white\"></td><td style=\"border:solid;\" bgcolor=\"white\"></td><td style=\"border:solid;\" bgcolor=\"white\"><font color=\"black\">S: -1.90</font></td><td style=\"border:solid;\" bgcolor=\"white\"></td><td style=\"border:solid;\" bgcolor=\"white\"></td><td style=\"border:solid;\" bgcolor=\"white\"></td></tr>\n",
       "<tr><td>1: shot</td><td style=\"border:none;\" bgcolor=\"white\"></td><td style=\"border:solid;\" bgcolor=\"white\"><font color=\"black\">Verb: 0.00</font></td><td style=\"border:solid;\" bgcolor=\"#E1E1E1\"></td><td style=\"border:solid;\" bgcolor=\"white\"><font color=\"black\">VP: -1.90</font></td><td style=\"border:solid;\" bgcolor=\"white\"></td><td style=\"border:solid;\" bgcolor=\"#C3C3C3\"></td><td style=\"border:solid;\" bgcolor=\"white\"></td></tr>\n",
       "<tr><td>2: the</td><td style=\"border:none;\" bgcolor=\"white\"></td><td style=\"border:none;\" bgcolor=\"white\"></td><td style=\"border:solid;\" bgcolor=\"white\"><font color=\"black\">Obj_5: 0.00</font>, <font color=\"black\">Obj_8: 0.00</font></td><td style=\"border:solid;\" bgcolor=\"white\"><font color=\"black\">Obj: -0.69</font></td><td style=\"border:solid;\" bgcolor=\"white\"></td><td style=\"border:solid;\" bgcolor=\"white\"></td><td style=\"border:solid;\" bgcolor=\"white\"></td></tr>\n",
       "<tr><td>3: elephant</td><td style=\"border:none;\" bgcolor=\"white\"></td><td style=\"border:none;\" bgcolor=\"white\"></td><td style=\"border:none;\" bgcolor=\"white\"></td><td style=\"border:solid;\" bgcolor=\"white\"><font color=\"black\">Obj_6: 0.00</font>, <font color=\"black\">Obj_7_9: 0.00</font></td><td style=\"border:solid;\" bgcolor=\"white\"></td><td style=\"border:solid;\" bgcolor=\"#E1E1E1\"></td><td style=\"border:solid;\" bgcolor=\"white\"><font color=\"black\">Obj_7: 0.00</font></td></tr>\n",
       "<tr><td>4: in</td><td style=\"border:none;\" bgcolor=\"white\"></td><td style=\"border:none;\" bgcolor=\"white\"></td><td style=\"border:none;\" bgcolor=\"white\"></td><td style=\"border:none;\" bgcolor=\"white\"></td><td style=\"border:solid;\" bgcolor=\"white\"><font color=\"black\">PP_2: 0.00</font></td><td style=\"border:solid;\" bgcolor=\"white\"></td><td style=\"border:solid;\" bgcolor=\"white\"><font color=\"black\">PP: 0.00</font></td></tr>\n",
       "<tr><td>5: his</td><td style=\"border:none;\" bgcolor=\"white\"></td><td style=\"border:none;\" bgcolor=\"white\"></td><td style=\"border:none;\" bgcolor=\"white\"></td><td style=\"border:none;\" bgcolor=\"white\"></td><td style=\"border:none;\" bgcolor=\"white\"></td><td style=\"border:solid;\" bgcolor=\"white\"><font color=\"black\">PP_1_3: 0.00</font></td><td style=\"border:solid;\" bgcolor=\"white\"><font color=\"black\">PP_1: 0.00</font></td></tr>\n",
       "<tr><td>6: pyjamas</td><td style=\"border:none;\" bgcolor=\"white\"></td><td style=\"border:none;\" bgcolor=\"white\"></td><td style=\"border:none;\" bgcolor=\"white\"></td><td style=\"border:none;\" bgcolor=\"white\"></td><td style=\"border:none;\" bgcolor=\"white\"></td><td style=\"border:none;\" bgcolor=\"white\"></td><td style=\"border:solid;\" bgcolor=\"white\"><font color=\"black\">PP_1_4: 0.00</font></td></tr></table> 76 / 112</div>\n",
       "<div class=\"item\"><table><tr><td></td><td>0: He</td><td>1: shot</td><td>2: the</td><td>3: elephant</td><td>4: in</td><td>5: his</td><td>6: pyjamas</td></tr>\n",
       "<tr><td>0: He</td><td style=\"border:solid;\" bgcolor=\"white\"><font color=\"black\">Subj: 0.00</font></td><td style=\"border:solid;\" bgcolor=\"white\"></td><td style=\"border:solid;\" bgcolor=\"white\"></td><td style=\"border:solid;\" bgcolor=\"white\"><font color=\"black\">S: -1.90</font></td><td style=\"border:solid;\" bgcolor=\"white\"></td><td style=\"border:solid;\" bgcolor=\"white\"></td><td style=\"border:solid;\" bgcolor=\"white\"></td></tr>\n",
       "<tr><td>1: shot</td><td style=\"border:none;\" bgcolor=\"white\"></td><td style=\"border:solid;\" bgcolor=\"white\"><font color=\"black\">Verb: 0.00</font></td><td style=\"border:solid;\" bgcolor=\"white\"></td><td style=\"border:solid;\" bgcolor=\"#E1E1E1\"><font color=\"black\">VP: -1.90</font></td><td style=\"border:solid;\" bgcolor=\"white\"></td><td style=\"border:solid;\" bgcolor=\"#C3C3C3\"></td><td style=\"border:solid;\" bgcolor=\"white\"></td></tr>\n",
       "<tr><td>2: the</td><td style=\"border:none;\" bgcolor=\"white\"></td><td style=\"border:none;\" bgcolor=\"white\"></td><td style=\"border:solid;\" bgcolor=\"white\"><font color=\"black\">Obj_5: 0.00</font>, <font color=\"black\">Obj_8: 0.00</font></td><td style=\"border:solid;\" bgcolor=\"white\"><font color=\"black\">Obj: -0.69</font></td><td style=\"border:solid;\" bgcolor=\"white\"></td><td style=\"border:solid;\" bgcolor=\"white\"></td><td style=\"border:solid;\" bgcolor=\"white\"></td></tr>\n",
       "<tr><td>3: elephant</td><td style=\"border:none;\" bgcolor=\"white\"></td><td style=\"border:none;\" bgcolor=\"white\"></td><td style=\"border:none;\" bgcolor=\"white\"></td><td style=\"border:solid;\" bgcolor=\"white\"><font color=\"black\">Obj_6: 0.00</font>, <font color=\"black\">Obj_7_9: 0.00</font></td><td style=\"border:solid;\" bgcolor=\"white\"></td><td style=\"border:solid;\" bgcolor=\"white\"></td><td style=\"border:solid;\" bgcolor=\"white\"><font color=\"black\">Obj_7: 0.00</font></td></tr>\n",
       "<tr><td>4: in</td><td style=\"border:none;\" bgcolor=\"white\"></td><td style=\"border:none;\" bgcolor=\"white\"></td><td style=\"border:none;\" bgcolor=\"white\"></td><td style=\"border:none;\" bgcolor=\"white\"></td><td style=\"border:solid;\" bgcolor=\"white\"><font color=\"black\">PP_2: 0.00</font></td><td style=\"border:solid;\" bgcolor=\"#E1E1E1\"></td><td style=\"border:solid;\" bgcolor=\"white\"><font color=\"black\">PP: 0.00</font></td></tr>\n",
       "<tr><td>5: his</td><td style=\"border:none;\" bgcolor=\"white\"></td><td style=\"border:none;\" bgcolor=\"white\"></td><td style=\"border:none;\" bgcolor=\"white\"></td><td style=\"border:none;\" bgcolor=\"white\"></td><td style=\"border:none;\" bgcolor=\"white\"></td><td style=\"border:solid;\" bgcolor=\"white\"><font color=\"black\">PP_1_3: 0.00</font></td><td style=\"border:solid;\" bgcolor=\"white\"><font color=\"black\">PP_1: 0.00</font></td></tr>\n",
       "<tr><td>6: pyjamas</td><td style=\"border:none;\" bgcolor=\"white\"></td><td style=\"border:none;\" bgcolor=\"white\"></td><td style=\"border:none;\" bgcolor=\"white\"></td><td style=\"border:none;\" bgcolor=\"white\"></td><td style=\"border:none;\" bgcolor=\"white\"></td><td style=\"border:none;\" bgcolor=\"white\"></td><td style=\"border:solid;\" bgcolor=\"white\"><font color=\"black\">PP_1_4: 0.00</font></td></tr></table> 77 / 112</div>\n",
       "<div class=\"item\"><table><tr><td></td><td>0: He</td><td>1: shot</td><td>2: the</td><td>3: elephant</td><td>4: in</td><td>5: his</td><td>6: pyjamas</td></tr>\n",
       "<tr><td>0: He</td><td style=\"border:solid;\" bgcolor=\"white\"><font color=\"black\">Subj: 0.00</font></td><td style=\"border:solid;\" bgcolor=\"white\"></td><td style=\"border:solid;\" bgcolor=\"white\"></td><td style=\"border:solid;\" bgcolor=\"white\"><font color=\"black\">S: -1.90</font></td><td style=\"border:solid;\" bgcolor=\"white\"></td><td style=\"border:solid;\" bgcolor=\"white\"></td><td style=\"border:solid;\" bgcolor=\"white\"></td></tr>\n",
       "<tr><td>1: shot</td><td style=\"border:none;\" bgcolor=\"white\"></td><td style=\"border:solid;\" bgcolor=\"white\"><font color=\"black\">Verb: 0.00</font></td><td style=\"border:solid;\" bgcolor=\"white\"></td><td style=\"border:solid;\" bgcolor=\"white\"><font color=\"black\">VP: -1.90</font></td><td style=\"border:solid;\" bgcolor=\"#E1E1E1\"></td><td style=\"border:solid;\" bgcolor=\"#C3C3C3\"></td><td style=\"border:solid;\" bgcolor=\"white\"></td></tr>\n",
       "<tr><td>2: the</td><td style=\"border:none;\" bgcolor=\"white\"></td><td style=\"border:none;\" bgcolor=\"white\"></td><td style=\"border:solid;\" bgcolor=\"white\"><font color=\"black\">Obj_5: 0.00</font>, <font color=\"black\">Obj_8: 0.00</font></td><td style=\"border:solid;\" bgcolor=\"white\"><font color=\"black\">Obj: -0.69</font></td><td style=\"border:solid;\" bgcolor=\"white\"></td><td style=\"border:solid;\" bgcolor=\"white\"></td><td style=\"border:solid;\" bgcolor=\"white\"></td></tr>\n",
       "<tr><td>3: elephant</td><td style=\"border:none;\" bgcolor=\"white\"></td><td style=\"border:none;\" bgcolor=\"white\"></td><td style=\"border:none;\" bgcolor=\"white\"></td><td style=\"border:solid;\" bgcolor=\"white\"><font color=\"black\">Obj_6: 0.00</font>, <font color=\"black\">Obj_7_9: 0.00</font></td><td style=\"border:solid;\" bgcolor=\"white\"></td><td style=\"border:solid;\" bgcolor=\"white\"></td><td style=\"border:solid;\" bgcolor=\"white\"><font color=\"black\">Obj_7: 0.00</font></td></tr>\n",
       "<tr><td>4: in</td><td style=\"border:none;\" bgcolor=\"white\"></td><td style=\"border:none;\" bgcolor=\"white\"></td><td style=\"border:none;\" bgcolor=\"white\"></td><td style=\"border:none;\" bgcolor=\"white\"></td><td style=\"border:solid;\" bgcolor=\"white\"><font color=\"black\">PP_2: 0.00</font></td><td style=\"border:solid;\" bgcolor=\"white\"></td><td style=\"border:solid;\" bgcolor=\"white\"><font color=\"black\">PP: 0.00</font></td></tr>\n",
       "<tr><td>5: his</td><td style=\"border:none;\" bgcolor=\"white\"></td><td style=\"border:none;\" bgcolor=\"white\"></td><td style=\"border:none;\" bgcolor=\"white\"></td><td style=\"border:none;\" bgcolor=\"white\"></td><td style=\"border:none;\" bgcolor=\"white\"></td><td style=\"border:solid;\" bgcolor=\"#E1E1E1\"><font color=\"black\">PP_1_3: 0.00</font></td><td style=\"border:solid;\" bgcolor=\"white\"><font color=\"black\">PP_1: 0.00</font></td></tr>\n",
       "<tr><td>6: pyjamas</td><td style=\"border:none;\" bgcolor=\"white\"></td><td style=\"border:none;\" bgcolor=\"white\"></td><td style=\"border:none;\" bgcolor=\"white\"></td><td style=\"border:none;\" bgcolor=\"white\"></td><td style=\"border:none;\" bgcolor=\"white\"></td><td style=\"border:none;\" bgcolor=\"white\"></td><td style=\"border:solid;\" bgcolor=\"white\"><font color=\"black\">PP_1_4: 0.00</font></td></tr></table> 78 / 112</div>\n",
       "<div class=\"item\"><table><tr><td></td><td>0: He</td><td>1: shot</td><td>2: the</td><td>3: elephant</td><td>4: in</td><td>5: his</td><td>6: pyjamas</td></tr>\n",
       "<tr><td>0: He</td><td style=\"border:solid;\" bgcolor=\"white\"><font color=\"black\">Subj: 0.00</font></td><td style=\"border:solid;\" bgcolor=\"white\"></td><td style=\"border:solid;\" bgcolor=\"white\"></td><td style=\"border:solid;\" bgcolor=\"white\"><font color=\"black\">S: -1.90</font></td><td style=\"border:solid;\" bgcolor=\"white\"></td><td style=\"border:solid;\" bgcolor=\"white\"></td><td style=\"border:solid;\" bgcolor=\"white\"></td></tr>\n",
       "<tr><td>1: shot</td><td style=\"border:none;\" bgcolor=\"white\"></td><td style=\"border:solid;\" bgcolor=\"white\"><font color=\"black\">Verb: 0.00</font></td><td style=\"border:solid;\" bgcolor=\"white\"></td><td style=\"border:solid;\" bgcolor=\"white\"><font color=\"black\">VP: -1.90</font></td><td style=\"border:solid;\" bgcolor=\"white\"></td><td style=\"border:solid;\" bgcolor=\"white\"></td><td style=\"border:solid;\" bgcolor=\"white\"></td></tr>\n",
       "<tr><td>2: the</td><td style=\"border:none;\" bgcolor=\"white\"></td><td style=\"border:none;\" bgcolor=\"white\"></td><td style=\"border:solid;\" bgcolor=\"#E1E1E1\"><font color=\"black\">Obj_5: 0.00</font>, <font color=\"black\">Obj_8: 0.00</font></td><td style=\"border:solid;\" bgcolor=\"white\"><font color=\"black\">Obj: -0.69</font></td><td style=\"border:solid;\" bgcolor=\"white\"></td><td style=\"border:solid;\" bgcolor=\"white\"></td><td style=\"border:solid;\" bgcolor=\"#C3C3C3\"></td></tr>\n",
       "<tr><td>3: elephant</td><td style=\"border:none;\" bgcolor=\"white\"></td><td style=\"border:none;\" bgcolor=\"white\"></td><td style=\"border:none;\" bgcolor=\"white\"></td><td style=\"border:solid;\" bgcolor=\"white\"><font color=\"black\">Obj_6: 0.00</font>, <font color=\"black\">Obj_7_9: 0.00</font></td><td style=\"border:solid;\" bgcolor=\"white\"></td><td style=\"border:solid;\" bgcolor=\"white\"></td><td style=\"border:solid;\" bgcolor=\"#E1E1E1\"><font color=\"black\">Obj_7: 0.00</font></td></tr>\n",
       "<tr><td>4: in</td><td style=\"border:none;\" bgcolor=\"white\"></td><td style=\"border:none;\" bgcolor=\"white\"></td><td style=\"border:none;\" bgcolor=\"white\"></td><td style=\"border:none;\" bgcolor=\"white\"></td><td style=\"border:solid;\" bgcolor=\"white\"><font color=\"black\">PP_2: 0.00</font></td><td style=\"border:solid;\" bgcolor=\"white\"></td><td style=\"border:solid;\" bgcolor=\"white\"><font color=\"black\">PP: 0.00</font></td></tr>\n",
       "<tr><td>5: his</td><td style=\"border:none;\" bgcolor=\"white\"></td><td style=\"border:none;\" bgcolor=\"white\"></td><td style=\"border:none;\" bgcolor=\"white\"></td><td style=\"border:none;\" bgcolor=\"white\"></td><td style=\"border:none;\" bgcolor=\"white\"></td><td style=\"border:solid;\" bgcolor=\"white\"><font color=\"black\">PP_1_3: 0.00</font></td><td style=\"border:solid;\" bgcolor=\"white\"><font color=\"black\">PP_1: 0.00</font></td></tr>\n",
       "<tr><td>6: pyjamas</td><td style=\"border:none;\" bgcolor=\"white\"></td><td style=\"border:none;\" bgcolor=\"white\"></td><td style=\"border:none;\" bgcolor=\"white\"></td><td style=\"border:none;\" bgcolor=\"white\"></td><td style=\"border:none;\" bgcolor=\"white\"></td><td style=\"border:none;\" bgcolor=\"white\"></td><td style=\"border:solid;\" bgcolor=\"white\"><font color=\"black\">PP_1_4: 0.00</font></td></tr></table> 79 / 112</div>\n",
       "<div class=\"item\"><table><tr><td></td><td>0: He</td><td>1: shot</td><td>2: the</td><td>3: elephant</td><td>4: in</td><td>5: his</td><td>6: pyjamas</td></tr>\n",
       "<tr><td>0: He</td><td style=\"border:solid;\" bgcolor=\"white\"><font color=\"black\">Subj: 0.00</font></td><td style=\"border:solid;\" bgcolor=\"white\"></td><td style=\"border:solid;\" bgcolor=\"white\"></td><td style=\"border:solid;\" bgcolor=\"white\"><font color=\"black\">S: -1.90</font></td><td style=\"border:solid;\" bgcolor=\"white\"></td><td style=\"border:solid;\" bgcolor=\"white\"></td><td style=\"border:solid;\" bgcolor=\"white\"></td></tr>\n",
       "<tr><td>1: shot</td><td style=\"border:none;\" bgcolor=\"white\"></td><td style=\"border:solid;\" bgcolor=\"white\"><font color=\"black\">Verb: 0.00</font></td><td style=\"border:solid;\" bgcolor=\"white\"></td><td style=\"border:solid;\" bgcolor=\"white\"><font color=\"black\">VP: -1.90</font></td><td style=\"border:solid;\" bgcolor=\"white\"></td><td style=\"border:solid;\" bgcolor=\"white\"></td><td style=\"border:solid;\" bgcolor=\"white\"></td></tr>\n",
       "<tr><td>2: the</td><td style=\"border:none;\" bgcolor=\"white\"></td><td style=\"border:none;\" bgcolor=\"white\"></td><td style=\"border:solid;\" bgcolor=\"#E1E1E1\"><font color=\"red\">Obj_5: 0.00</font>, <font color=\"black\">Obj_8: 0.00</font></td><td style=\"border:solid;\" bgcolor=\"white\"><font color=\"black\">Obj: -0.69</font></td><td style=\"border:solid;\" bgcolor=\"white\"></td><td style=\"border:solid;\" bgcolor=\"white\"></td><td style=\"border:solid;\" bgcolor=\"#C3C3C3\"></td></tr>\n",
       "<tr><td>3: elephant</td><td style=\"border:none;\" bgcolor=\"white\"></td><td style=\"border:none;\" bgcolor=\"white\"></td><td style=\"border:none;\" bgcolor=\"white\"></td><td style=\"border:solid;\" bgcolor=\"white\"><font color=\"black\">Obj_6: 0.00</font>, <font color=\"black\">Obj_7_9: 0.00</font></td><td style=\"border:solid;\" bgcolor=\"white\"></td><td style=\"border:solid;\" bgcolor=\"white\"></td><td style=\"border:solid;\" bgcolor=\"#E1E1E1\"><font color=\"red\">Obj_7: 0.00</font></td></tr>\n",
       "<tr><td>4: in</td><td style=\"border:none;\" bgcolor=\"white\"></td><td style=\"border:none;\" bgcolor=\"white\"></td><td style=\"border:none;\" bgcolor=\"white\"></td><td style=\"border:none;\" bgcolor=\"white\"></td><td style=\"border:solid;\" bgcolor=\"white\"><font color=\"black\">PP_2: 0.00</font></td><td style=\"border:solid;\" bgcolor=\"white\"></td><td style=\"border:solid;\" bgcolor=\"white\"><font color=\"black\">PP: 0.00</font></td></tr>\n",
       "<tr><td>5: his</td><td style=\"border:none;\" bgcolor=\"white\"></td><td style=\"border:none;\" bgcolor=\"white\"></td><td style=\"border:none;\" bgcolor=\"white\"></td><td style=\"border:none;\" bgcolor=\"white\"></td><td style=\"border:none;\" bgcolor=\"white\"></td><td style=\"border:solid;\" bgcolor=\"white\"><font color=\"black\">PP_1_3: 0.00</font></td><td style=\"border:solid;\" bgcolor=\"white\"><font color=\"black\">PP_1: 0.00</font></td></tr>\n",
       "<tr><td>6: pyjamas</td><td style=\"border:none;\" bgcolor=\"white\"></td><td style=\"border:none;\" bgcolor=\"white\"></td><td style=\"border:none;\" bgcolor=\"white\"></td><td style=\"border:none;\" bgcolor=\"white\"></td><td style=\"border:none;\" bgcolor=\"white\"></td><td style=\"border:none;\" bgcolor=\"white\"></td><td style=\"border:solid;\" bgcolor=\"white\"><font color=\"black\">PP_1_4: 0.00</font></td></tr></table> 80 / 112</div>\n",
       "<div class=\"item\"><table><tr><td></td><td>0: He</td><td>1: shot</td><td>2: the</td><td>3: elephant</td><td>4: in</td><td>5: his</td><td>6: pyjamas</td></tr>\n",
       "<tr><td>0: He</td><td style=\"border:solid;\" bgcolor=\"white\"><font color=\"black\">Subj: 0.00</font></td><td style=\"border:solid;\" bgcolor=\"white\"></td><td style=\"border:solid;\" bgcolor=\"white\"></td><td style=\"border:solid;\" bgcolor=\"white\"><font color=\"black\">S: -1.90</font></td><td style=\"border:solid;\" bgcolor=\"white\"></td><td style=\"border:solid;\" bgcolor=\"white\"></td><td style=\"border:solid;\" bgcolor=\"white\"></td></tr>\n",
       "<tr><td>1: shot</td><td style=\"border:none;\" bgcolor=\"white\"></td><td style=\"border:solid;\" bgcolor=\"white\"><font color=\"black\">Verb: 0.00</font></td><td style=\"border:solid;\" bgcolor=\"white\"></td><td style=\"border:solid;\" bgcolor=\"white\"><font color=\"black\">VP: -1.90</font></td><td style=\"border:solid;\" bgcolor=\"white\"></td><td style=\"border:solid;\" bgcolor=\"white\"></td><td style=\"border:solid;\" bgcolor=\"white\"></td></tr>\n",
       "<tr><td>2: the</td><td style=\"border:none;\" bgcolor=\"white\"></td><td style=\"border:none;\" bgcolor=\"white\"></td><td style=\"border:solid;\" bgcolor=\"#E1E1E1\"><font color=\"black\">Obj_5: 0.00</font>, <font color=\"red\">Obj_8: 0.00</font></td><td style=\"border:solid;\" bgcolor=\"white\"><font color=\"black\">Obj: -0.69</font></td><td style=\"border:solid;\" bgcolor=\"white\"></td><td style=\"border:solid;\" bgcolor=\"white\"></td><td style=\"border:solid;\" bgcolor=\"#C3C3C3\"></td></tr>\n",
       "<tr><td>3: elephant</td><td style=\"border:none;\" bgcolor=\"white\"></td><td style=\"border:none;\" bgcolor=\"white\"></td><td style=\"border:none;\" bgcolor=\"white\"></td><td style=\"border:solid;\" bgcolor=\"white\"><font color=\"black\">Obj_6: 0.00</font>, <font color=\"black\">Obj_7_9: 0.00</font></td><td style=\"border:solid;\" bgcolor=\"white\"></td><td style=\"border:solid;\" bgcolor=\"white\"></td><td style=\"border:solid;\" bgcolor=\"#E1E1E1\"><font color=\"red\">Obj_7: 0.00</font></td></tr>\n",
       "<tr><td>4: in</td><td style=\"border:none;\" bgcolor=\"white\"></td><td style=\"border:none;\" bgcolor=\"white\"></td><td style=\"border:none;\" bgcolor=\"white\"></td><td style=\"border:none;\" bgcolor=\"white\"></td><td style=\"border:solid;\" bgcolor=\"white\"><font color=\"black\">PP_2: 0.00</font></td><td style=\"border:solid;\" bgcolor=\"white\"></td><td style=\"border:solid;\" bgcolor=\"white\"><font color=\"black\">PP: 0.00</font></td></tr>\n",
       "<tr><td>5: his</td><td style=\"border:none;\" bgcolor=\"white\"></td><td style=\"border:none;\" bgcolor=\"white\"></td><td style=\"border:none;\" bgcolor=\"white\"></td><td style=\"border:none;\" bgcolor=\"white\"></td><td style=\"border:none;\" bgcolor=\"white\"></td><td style=\"border:solid;\" bgcolor=\"white\"><font color=\"black\">PP_1_3: 0.00</font></td><td style=\"border:solid;\" bgcolor=\"white\"><font color=\"black\">PP_1: 0.00</font></td></tr>\n",
       "<tr><td>6: pyjamas</td><td style=\"border:none;\" bgcolor=\"white\"></td><td style=\"border:none;\" bgcolor=\"white\"></td><td style=\"border:none;\" bgcolor=\"white\"></td><td style=\"border:none;\" bgcolor=\"white\"></td><td style=\"border:none;\" bgcolor=\"white\"></td><td style=\"border:none;\" bgcolor=\"white\"></td><td style=\"border:solid;\" bgcolor=\"white\"><font color=\"black\">PP_1_4: 0.00</font></td></tr></table> 81 / 112</div>\n",
       "<div class=\"item\"><table><tr><td></td><td>0: He</td><td>1: shot</td><td>2: the</td><td>3: elephant</td><td>4: in</td><td>5: his</td><td>6: pyjamas</td></tr>\n",
       "<tr><td>0: He</td><td style=\"border:solid;\" bgcolor=\"white\"><font color=\"black\">Subj: 0.00</font></td><td style=\"border:solid;\" bgcolor=\"white\"></td><td style=\"border:solid;\" bgcolor=\"white\"></td><td style=\"border:solid;\" bgcolor=\"white\"><font color=\"black\">S: -1.90</font></td><td style=\"border:solid;\" bgcolor=\"white\"></td><td style=\"border:solid;\" bgcolor=\"white\"></td><td style=\"border:solid;\" bgcolor=\"white\"></td></tr>\n",
       "<tr><td>1: shot</td><td style=\"border:none;\" bgcolor=\"white\"></td><td style=\"border:solid;\" bgcolor=\"white\"><font color=\"black\">Verb: 0.00</font></td><td style=\"border:solid;\" bgcolor=\"white\"></td><td style=\"border:solid;\" bgcolor=\"white\"><font color=\"black\">VP: -1.90</font></td><td style=\"border:solid;\" bgcolor=\"white\"></td><td style=\"border:solid;\" bgcolor=\"white\"></td><td style=\"border:solid;\" bgcolor=\"white\"></td></tr>\n",
       "<tr><td>2: the</td><td style=\"border:none;\" bgcolor=\"white\"></td><td style=\"border:none;\" bgcolor=\"white\"></td><td style=\"border:solid;\" bgcolor=\"#E1E1E1\"><font color=\"black\">Obj_5: 0.00</font>, <font color=\"red\">Obj_8: 0.00</font></td><td style=\"border:solid;\" bgcolor=\"white\"><font color=\"black\">Obj: -0.69</font></td><td style=\"border:solid;\" bgcolor=\"white\"></td><td style=\"border:solid;\" bgcolor=\"white\"></td><td style=\"border:solid;\" bgcolor=\"#C3C3C3\"><font color=\"blue\">Obj: -0.69</font></td></tr>\n",
       "<tr><td>3: elephant</td><td style=\"border:none;\" bgcolor=\"white\"></td><td style=\"border:none;\" bgcolor=\"white\"></td><td style=\"border:none;\" bgcolor=\"white\"></td><td style=\"border:solid;\" bgcolor=\"white\"><font color=\"black\">Obj_6: 0.00</font>, <font color=\"black\">Obj_7_9: 0.00</font></td><td style=\"border:solid;\" bgcolor=\"white\"></td><td style=\"border:solid;\" bgcolor=\"white\"></td><td style=\"border:solid;\" bgcolor=\"#E1E1E1\"><font color=\"red\">Obj_7: 0.00</font></td></tr>\n",
       "<tr><td>4: in</td><td style=\"border:none;\" bgcolor=\"white\"></td><td style=\"border:none;\" bgcolor=\"white\"></td><td style=\"border:none;\" bgcolor=\"white\"></td><td style=\"border:none;\" bgcolor=\"white\"></td><td style=\"border:solid;\" bgcolor=\"white\"><font color=\"black\">PP_2: 0.00</font></td><td style=\"border:solid;\" bgcolor=\"white\"></td><td style=\"border:solid;\" bgcolor=\"white\"><font color=\"black\">PP: 0.00</font></td></tr>\n",
       "<tr><td>5: his</td><td style=\"border:none;\" bgcolor=\"white\"></td><td style=\"border:none;\" bgcolor=\"white\"></td><td style=\"border:none;\" bgcolor=\"white\"></td><td style=\"border:none;\" bgcolor=\"white\"></td><td style=\"border:none;\" bgcolor=\"white\"></td><td style=\"border:solid;\" bgcolor=\"white\"><font color=\"black\">PP_1_3: 0.00</font></td><td style=\"border:solid;\" bgcolor=\"white\"><font color=\"black\">PP_1: 0.00</font></td></tr>\n",
       "<tr><td>6: pyjamas</td><td style=\"border:none;\" bgcolor=\"white\"></td><td style=\"border:none;\" bgcolor=\"white\"></td><td style=\"border:none;\" bgcolor=\"white\"></td><td style=\"border:none;\" bgcolor=\"white\"></td><td style=\"border:none;\" bgcolor=\"white\"></td><td style=\"border:none;\" bgcolor=\"white\"></td><td style=\"border:solid;\" bgcolor=\"white\"><font color=\"black\">PP_1_4: 0.00</font></td></tr></table> 82 / 112</div>\n",
       "<div class=\"item\"><table><tr><td></td><td>0: He</td><td>1: shot</td><td>2: the</td><td>3: elephant</td><td>4: in</td><td>5: his</td><td>6: pyjamas</td></tr>\n",
       "<tr><td>0: He</td><td style=\"border:solid;\" bgcolor=\"white\"><font color=\"black\">Subj: 0.00</font></td><td style=\"border:solid;\" bgcolor=\"white\"></td><td style=\"border:solid;\" bgcolor=\"white\"></td><td style=\"border:solid;\" bgcolor=\"white\"><font color=\"black\">S: -1.90</font></td><td style=\"border:solid;\" bgcolor=\"white\"></td><td style=\"border:solid;\" bgcolor=\"white\"></td><td style=\"border:solid;\" bgcolor=\"white\"></td></tr>\n",
       "<tr><td>1: shot</td><td style=\"border:none;\" bgcolor=\"white\"></td><td style=\"border:solid;\" bgcolor=\"white\"><font color=\"black\">Verb: 0.00</font></td><td style=\"border:solid;\" bgcolor=\"white\"></td><td style=\"border:solid;\" bgcolor=\"white\"><font color=\"black\">VP: -1.90</font></td><td style=\"border:solid;\" bgcolor=\"white\"></td><td style=\"border:solid;\" bgcolor=\"white\"></td><td style=\"border:solid;\" bgcolor=\"white\"></td></tr>\n",
       "<tr><td>2: the</td><td style=\"border:none;\" bgcolor=\"white\"></td><td style=\"border:none;\" bgcolor=\"white\"></td><td style=\"border:solid;\" bgcolor=\"white\"><font color=\"black\">Obj_5: 0.00</font>, <font color=\"black\">Obj_8: 0.00</font></td><td style=\"border:solid;\" bgcolor=\"#E1E1E1\"><font color=\"black\">Obj: -0.69</font></td><td style=\"border:solid;\" bgcolor=\"white\"></td><td style=\"border:solid;\" bgcolor=\"white\"></td><td style=\"border:solid;\" bgcolor=\"#C3C3C3\"><font color=\"black\">Obj: -0.69</font></td></tr>\n",
       "<tr><td>3: elephant</td><td style=\"border:none;\" bgcolor=\"white\"></td><td style=\"border:none;\" bgcolor=\"white\"></td><td style=\"border:none;\" bgcolor=\"white\"></td><td style=\"border:solid;\" bgcolor=\"white\"><font color=\"black\">Obj_6: 0.00</font>, <font color=\"black\">Obj_7_9: 0.00</font></td><td style=\"border:solid;\" bgcolor=\"white\"></td><td style=\"border:solid;\" bgcolor=\"white\"></td><td style=\"border:solid;\" bgcolor=\"white\"><font color=\"black\">Obj_7: 0.00</font></td></tr>\n",
       "<tr><td>4: in</td><td style=\"border:none;\" bgcolor=\"white\"></td><td style=\"border:none;\" bgcolor=\"white\"></td><td style=\"border:none;\" bgcolor=\"white\"></td><td style=\"border:none;\" bgcolor=\"white\"></td><td style=\"border:solid;\" bgcolor=\"white\"><font color=\"black\">PP_2: 0.00</font></td><td style=\"border:solid;\" bgcolor=\"white\"></td><td style=\"border:solid;\" bgcolor=\"#E1E1E1\"><font color=\"black\">PP: 0.00</font></td></tr>\n",
       "<tr><td>5: his</td><td style=\"border:none;\" bgcolor=\"white\"></td><td style=\"border:none;\" bgcolor=\"white\"></td><td style=\"border:none;\" bgcolor=\"white\"></td><td style=\"border:none;\" bgcolor=\"white\"></td><td style=\"border:none;\" bgcolor=\"white\"></td><td style=\"border:solid;\" bgcolor=\"white\"><font color=\"black\">PP_1_3: 0.00</font></td><td style=\"border:solid;\" bgcolor=\"white\"><font color=\"black\">PP_1: 0.00</font></td></tr>\n",
       "<tr><td>6: pyjamas</td><td style=\"border:none;\" bgcolor=\"white\"></td><td style=\"border:none;\" bgcolor=\"white\"></td><td style=\"border:none;\" bgcolor=\"white\"></td><td style=\"border:none;\" bgcolor=\"white\"></td><td style=\"border:none;\" bgcolor=\"white\"></td><td style=\"border:none;\" bgcolor=\"white\"></td><td style=\"border:solid;\" bgcolor=\"white\"><font color=\"black\">PP_1_4: 0.00</font></td></tr></table> 83 / 112</div>\n",
       "<div class=\"item\"><table><tr><td></td><td>0: He</td><td>1: shot</td><td>2: the</td><td>3: elephant</td><td>4: in</td><td>5: his</td><td>6: pyjamas</td></tr>\n",
       "<tr><td>0: He</td><td style=\"border:solid;\" bgcolor=\"white\"><font color=\"black\">Subj: 0.00</font></td><td style=\"border:solid;\" bgcolor=\"white\"></td><td style=\"border:solid;\" bgcolor=\"white\"></td><td style=\"border:solid;\" bgcolor=\"white\"><font color=\"black\">S: -1.90</font></td><td style=\"border:solid;\" bgcolor=\"white\"></td><td style=\"border:solid;\" bgcolor=\"white\"></td><td style=\"border:solid;\" bgcolor=\"white\"></td></tr>\n",
       "<tr><td>1: shot</td><td style=\"border:none;\" bgcolor=\"white\"></td><td style=\"border:solid;\" bgcolor=\"white\"><font color=\"black\">Verb: 0.00</font></td><td style=\"border:solid;\" bgcolor=\"white\"></td><td style=\"border:solid;\" bgcolor=\"white\"><font color=\"black\">VP: -1.90</font></td><td style=\"border:solid;\" bgcolor=\"white\"></td><td style=\"border:solid;\" bgcolor=\"white\"></td><td style=\"border:solid;\" bgcolor=\"white\"></td></tr>\n",
       "<tr><td>2: the</td><td style=\"border:none;\" bgcolor=\"white\"></td><td style=\"border:none;\" bgcolor=\"white\"></td><td style=\"border:solid;\" bgcolor=\"white\"><font color=\"black\">Obj_5: 0.00</font>, <font color=\"black\">Obj_8: 0.00</font></td><td style=\"border:solid;\" bgcolor=\"#E1E1E1\"><font color=\"red\">Obj: -0.69</font></td><td style=\"border:solid;\" bgcolor=\"white\"></td><td style=\"border:solid;\" bgcolor=\"white\"></td><td style=\"border:solid;\" bgcolor=\"#C3C3C3\"><font color=\"black\">Obj: -0.69</font></td></tr>\n",
       "<tr><td>3: elephant</td><td style=\"border:none;\" bgcolor=\"white\"></td><td style=\"border:none;\" bgcolor=\"white\"></td><td style=\"border:none;\" bgcolor=\"white\"></td><td style=\"border:solid;\" bgcolor=\"white\"><font color=\"black\">Obj_6: 0.00</font>, <font color=\"black\">Obj_7_9: 0.00</font></td><td style=\"border:solid;\" bgcolor=\"white\"></td><td style=\"border:solid;\" bgcolor=\"white\"></td><td style=\"border:solid;\" bgcolor=\"white\"><font color=\"black\">Obj_7: 0.00</font></td></tr>\n",
       "<tr><td>4: in</td><td style=\"border:none;\" bgcolor=\"white\"></td><td style=\"border:none;\" bgcolor=\"white\"></td><td style=\"border:none;\" bgcolor=\"white\"></td><td style=\"border:none;\" bgcolor=\"white\"></td><td style=\"border:solid;\" bgcolor=\"white\"><font color=\"black\">PP_2: 0.00</font></td><td style=\"border:solid;\" bgcolor=\"white\"></td><td style=\"border:solid;\" bgcolor=\"#E1E1E1\"><font color=\"red\">PP: 0.00</font></td></tr>\n",
       "<tr><td>5: his</td><td style=\"border:none;\" bgcolor=\"white\"></td><td style=\"border:none;\" bgcolor=\"white\"></td><td style=\"border:none;\" bgcolor=\"white\"></td><td style=\"border:none;\" bgcolor=\"white\"></td><td style=\"border:none;\" bgcolor=\"white\"></td><td style=\"border:solid;\" bgcolor=\"white\"><font color=\"black\">PP_1_3: 0.00</font></td><td style=\"border:solid;\" bgcolor=\"white\"><font color=\"black\">PP_1: 0.00</font></td></tr>\n",
       "<tr><td>6: pyjamas</td><td style=\"border:none;\" bgcolor=\"white\"></td><td style=\"border:none;\" bgcolor=\"white\"></td><td style=\"border:none;\" bgcolor=\"white\"></td><td style=\"border:none;\" bgcolor=\"white\"></td><td style=\"border:none;\" bgcolor=\"white\"></td><td style=\"border:none;\" bgcolor=\"white\"></td><td style=\"border:solid;\" bgcolor=\"white\"><font color=\"black\">PP_1_4: 0.00</font></td></tr></table> 84 / 112</div>\n",
       "<div class=\"item\"><table><tr><td></td><td>0: He</td><td>1: shot</td><td>2: the</td><td>3: elephant</td><td>4: in</td><td>5: his</td><td>6: pyjamas</td></tr>\n",
       "<tr><td>0: He</td><td style=\"border:solid;\" bgcolor=\"white\"><font color=\"black\">Subj: 0.00</font></td><td style=\"border:solid;\" bgcolor=\"white\"></td><td style=\"border:solid;\" bgcolor=\"white\"></td><td style=\"border:solid;\" bgcolor=\"white\"><font color=\"black\">S: -1.90</font></td><td style=\"border:solid;\" bgcolor=\"white\"></td><td style=\"border:solid;\" bgcolor=\"white\"></td><td style=\"border:solid;\" bgcolor=\"white\"></td></tr>\n",
       "<tr><td>1: shot</td><td style=\"border:none;\" bgcolor=\"white\"></td><td style=\"border:solid;\" bgcolor=\"white\"><font color=\"black\">Verb: 0.00</font></td><td style=\"border:solid;\" bgcolor=\"white\"></td><td style=\"border:solid;\" bgcolor=\"white\"><font color=\"black\">VP: -1.90</font></td><td style=\"border:solid;\" bgcolor=\"white\"></td><td style=\"border:solid;\" bgcolor=\"white\"></td><td style=\"border:solid;\" bgcolor=\"white\"></td></tr>\n",
       "<tr><td>2: the</td><td style=\"border:none;\" bgcolor=\"white\"></td><td style=\"border:none;\" bgcolor=\"white\"></td><td style=\"border:solid;\" bgcolor=\"white\"><font color=\"black\">Obj_5: 0.00</font>, <font color=\"black\">Obj_8: 0.00</font></td><td style=\"border:solid;\" bgcolor=\"#E1E1E1\"><font color=\"red\">Obj: -0.69</font></td><td style=\"border:solid;\" bgcolor=\"white\"></td><td style=\"border:solid;\" bgcolor=\"white\"></td><td style=\"border:solid;\" bgcolor=\"#C3C3C3\"><font color=\"black\">Obj: -0.69</font>, <font color=\"blue\">VP_0: -0.69</font></td></tr>\n",
       "<tr><td>3: elephant</td><td style=\"border:none;\" bgcolor=\"white\"></td><td style=\"border:none;\" bgcolor=\"white\"></td><td style=\"border:none;\" bgcolor=\"white\"></td><td style=\"border:solid;\" bgcolor=\"white\"><font color=\"black\">Obj_6: 0.00</font>, <font color=\"black\">Obj_7_9: 0.00</font></td><td style=\"border:solid;\" bgcolor=\"white\"></td><td style=\"border:solid;\" bgcolor=\"white\"></td><td style=\"border:solid;\" bgcolor=\"white\"><font color=\"black\">Obj_7: 0.00</font></td></tr>\n",
       "<tr><td>4: in</td><td style=\"border:none;\" bgcolor=\"white\"></td><td style=\"border:none;\" bgcolor=\"white\"></td><td style=\"border:none;\" bgcolor=\"white\"></td><td style=\"border:none;\" bgcolor=\"white\"></td><td style=\"border:solid;\" bgcolor=\"white\"><font color=\"black\">PP_2: 0.00</font></td><td style=\"border:solid;\" bgcolor=\"white\"></td><td style=\"border:solid;\" bgcolor=\"#E1E1E1\"><font color=\"red\">PP: 0.00</font></td></tr>\n",
       "<tr><td>5: his</td><td style=\"border:none;\" bgcolor=\"white\"></td><td style=\"border:none;\" bgcolor=\"white\"></td><td style=\"border:none;\" bgcolor=\"white\"></td><td style=\"border:none;\" bgcolor=\"white\"></td><td style=\"border:none;\" bgcolor=\"white\"></td><td style=\"border:solid;\" bgcolor=\"white\"><font color=\"black\">PP_1_3: 0.00</font></td><td style=\"border:solid;\" bgcolor=\"white\"><font color=\"black\">PP_1: 0.00</font></td></tr>\n",
       "<tr><td>6: pyjamas</td><td style=\"border:none;\" bgcolor=\"white\"></td><td style=\"border:none;\" bgcolor=\"white\"></td><td style=\"border:none;\" bgcolor=\"white\"></td><td style=\"border:none;\" bgcolor=\"white\"></td><td style=\"border:none;\" bgcolor=\"white\"></td><td style=\"border:none;\" bgcolor=\"white\"></td><td style=\"border:solid;\" bgcolor=\"white\"><font color=\"black\">PP_1_4: 0.00</font></td></tr></table> 85 / 112</div>\n",
       "<div class=\"item\"><table><tr><td></td><td>0: He</td><td>1: shot</td><td>2: the</td><td>3: elephant</td><td>4: in</td><td>5: his</td><td>6: pyjamas</td></tr>\n",
       "<tr><td>0: He</td><td style=\"border:solid;\" bgcolor=\"white\"><font color=\"black\">Subj: 0.00</font></td><td style=\"border:solid;\" bgcolor=\"white\"></td><td style=\"border:solid;\" bgcolor=\"white\"></td><td style=\"border:solid;\" bgcolor=\"white\"><font color=\"black\">S: -1.90</font></td><td style=\"border:solid;\" bgcolor=\"white\"></td><td style=\"border:solid;\" bgcolor=\"white\"></td><td style=\"border:solid;\" bgcolor=\"white\"></td></tr>\n",
       "<tr><td>1: shot</td><td style=\"border:none;\" bgcolor=\"white\"></td><td style=\"border:solid;\" bgcolor=\"white\"><font color=\"black\">Verb: 0.00</font></td><td style=\"border:solid;\" bgcolor=\"white\"></td><td style=\"border:solid;\" bgcolor=\"white\"><font color=\"black\">VP: -1.90</font></td><td style=\"border:solid;\" bgcolor=\"white\"></td><td style=\"border:solid;\" bgcolor=\"white\"></td><td style=\"border:solid;\" bgcolor=\"white\"></td></tr>\n",
       "<tr><td>2: the</td><td style=\"border:none;\" bgcolor=\"white\"></td><td style=\"border:none;\" bgcolor=\"white\"></td><td style=\"border:solid;\" bgcolor=\"white\"><font color=\"black\">Obj_5: 0.00</font>, <font color=\"black\">Obj_8: 0.00</font></td><td style=\"border:solid;\" bgcolor=\"white\"><font color=\"black\">Obj: -0.69</font></td><td style=\"border:solid;\" bgcolor=\"#E1E1E1\"></td><td style=\"border:solid;\" bgcolor=\"white\"></td><td style=\"border:solid;\" bgcolor=\"#C3C3C3\"><font color=\"black\">Obj: -0.69</font>, <font color=\"black\">VP_0: -0.69</font></td></tr>\n",
       "<tr><td>3: elephant</td><td style=\"border:none;\" bgcolor=\"white\"></td><td style=\"border:none;\" bgcolor=\"white\"></td><td style=\"border:none;\" bgcolor=\"white\"></td><td style=\"border:solid;\" bgcolor=\"white\"><font color=\"black\">Obj_6: 0.00</font>, <font color=\"black\">Obj_7_9: 0.00</font></td><td style=\"border:solid;\" bgcolor=\"white\"></td><td style=\"border:solid;\" bgcolor=\"white\"></td><td style=\"border:solid;\" bgcolor=\"white\"><font color=\"black\">Obj_7: 0.00</font></td></tr>\n",
       "<tr><td>4: in</td><td style=\"border:none;\" bgcolor=\"white\"></td><td style=\"border:none;\" bgcolor=\"white\"></td><td style=\"border:none;\" bgcolor=\"white\"></td><td style=\"border:none;\" bgcolor=\"white\"></td><td style=\"border:solid;\" bgcolor=\"white\"><font color=\"black\">PP_2: 0.00</font></td><td style=\"border:solid;\" bgcolor=\"white\"></td><td style=\"border:solid;\" bgcolor=\"white\"><font color=\"black\">PP: 0.00</font></td></tr>\n",
       "<tr><td>5: his</td><td style=\"border:none;\" bgcolor=\"white\"></td><td style=\"border:none;\" bgcolor=\"white\"></td><td style=\"border:none;\" bgcolor=\"white\"></td><td style=\"border:none;\" bgcolor=\"white\"></td><td style=\"border:none;\" bgcolor=\"white\"></td><td style=\"border:solid;\" bgcolor=\"white\"><font color=\"black\">PP_1_3: 0.00</font></td><td style=\"border:solid;\" bgcolor=\"#E1E1E1\"><font color=\"black\">PP_1: 0.00</font></td></tr>\n",
       "<tr><td>6: pyjamas</td><td style=\"border:none;\" bgcolor=\"white\"></td><td style=\"border:none;\" bgcolor=\"white\"></td><td style=\"border:none;\" bgcolor=\"white\"></td><td style=\"border:none;\" bgcolor=\"white\"></td><td style=\"border:none;\" bgcolor=\"white\"></td><td style=\"border:none;\" bgcolor=\"white\"></td><td style=\"border:solid;\" bgcolor=\"white\"><font color=\"black\">PP_1_4: 0.00</font></td></tr></table> 86 / 112</div>\n",
       "<div class=\"item\"><table><tr><td></td><td>0: He</td><td>1: shot</td><td>2: the</td><td>3: elephant</td><td>4: in</td><td>5: his</td><td>6: pyjamas</td></tr>\n",
       "<tr><td>0: He</td><td style=\"border:solid;\" bgcolor=\"white\"><font color=\"black\">Subj: 0.00</font></td><td style=\"border:solid;\" bgcolor=\"white\"></td><td style=\"border:solid;\" bgcolor=\"white\"></td><td style=\"border:solid;\" bgcolor=\"white\"><font color=\"black\">S: -1.90</font></td><td style=\"border:solid;\" bgcolor=\"white\"></td><td style=\"border:solid;\" bgcolor=\"white\"></td><td style=\"border:solid;\" bgcolor=\"white\"></td></tr>\n",
       "<tr><td>1: shot</td><td style=\"border:none;\" bgcolor=\"white\"></td><td style=\"border:solid;\" bgcolor=\"white\"><font color=\"black\">Verb: 0.00</font></td><td style=\"border:solid;\" bgcolor=\"white\"></td><td style=\"border:solid;\" bgcolor=\"white\"><font color=\"black\">VP: -1.90</font></td><td style=\"border:solid;\" bgcolor=\"white\"></td><td style=\"border:solid;\" bgcolor=\"white\"></td><td style=\"border:solid;\" bgcolor=\"white\"></td></tr>\n",
       "<tr><td>2: the</td><td style=\"border:none;\" bgcolor=\"white\"></td><td style=\"border:none;\" bgcolor=\"white\"></td><td style=\"border:solid;\" bgcolor=\"white\"><font color=\"black\">Obj_5: 0.00</font>, <font color=\"black\">Obj_8: 0.00</font></td><td style=\"border:solid;\" bgcolor=\"white\"><font color=\"black\">Obj: -0.69</font></td><td style=\"border:solid;\" bgcolor=\"white\"></td><td style=\"border:solid;\" bgcolor=\"#E1E1E1\"></td><td style=\"border:solid;\" bgcolor=\"#C3C3C3\"><font color=\"black\">Obj: -0.69</font>, <font color=\"black\">VP_0: -0.69</font></td></tr>\n",
       "<tr><td>3: elephant</td><td style=\"border:none;\" bgcolor=\"white\"></td><td style=\"border:none;\" bgcolor=\"white\"></td><td style=\"border:none;\" bgcolor=\"white\"></td><td style=\"border:solid;\" bgcolor=\"white\"><font color=\"black\">Obj_6: 0.00</font>, <font color=\"black\">Obj_7_9: 0.00</font></td><td style=\"border:solid;\" bgcolor=\"white\"></td><td style=\"border:solid;\" bgcolor=\"white\"></td><td style=\"border:solid;\" bgcolor=\"white\"><font color=\"black\">Obj_7: 0.00</font></td></tr>\n",
       "<tr><td>4: in</td><td style=\"border:none;\" bgcolor=\"white\"></td><td style=\"border:none;\" bgcolor=\"white\"></td><td style=\"border:none;\" bgcolor=\"white\"></td><td style=\"border:none;\" bgcolor=\"white\"></td><td style=\"border:solid;\" bgcolor=\"white\"><font color=\"black\">PP_2: 0.00</font></td><td style=\"border:solid;\" bgcolor=\"white\"></td><td style=\"border:solid;\" bgcolor=\"white\"><font color=\"black\">PP: 0.00</font></td></tr>\n",
       "<tr><td>5: his</td><td style=\"border:none;\" bgcolor=\"white\"></td><td style=\"border:none;\" bgcolor=\"white\"></td><td style=\"border:none;\" bgcolor=\"white\"></td><td style=\"border:none;\" bgcolor=\"white\"></td><td style=\"border:none;\" bgcolor=\"white\"></td><td style=\"border:solid;\" bgcolor=\"white\"><font color=\"black\">PP_1_3: 0.00</font></td><td style=\"border:solid;\" bgcolor=\"white\"><font color=\"black\">PP_1: 0.00</font></td></tr>\n",
       "<tr><td>6: pyjamas</td><td style=\"border:none;\" bgcolor=\"white\"></td><td style=\"border:none;\" bgcolor=\"white\"></td><td style=\"border:none;\" bgcolor=\"white\"></td><td style=\"border:none;\" bgcolor=\"white\"></td><td style=\"border:none;\" bgcolor=\"white\"></td><td style=\"border:none;\" bgcolor=\"white\"></td><td style=\"border:solid;\" bgcolor=\"#E1E1E1\"><font color=\"black\">PP_1_4: 0.00</font></td></tr></table> 87 / 112</div>\n",
       "<div class=\"item\"><table><tr><td></td><td>0: He</td><td>1: shot</td><td>2: the</td><td>3: elephant</td><td>4: in</td><td>5: his</td><td>6: pyjamas</td></tr>\n",
       "<tr><td>0: He</td><td style=\"border:solid;\" bgcolor=\"#E1E1E1\"><font color=\"black\">Subj: 0.00</font></td><td style=\"border:solid;\" bgcolor=\"white\"></td><td style=\"border:solid;\" bgcolor=\"white\"></td><td style=\"border:solid;\" bgcolor=\"white\"><font color=\"black\">S: -1.90</font></td><td style=\"border:solid;\" bgcolor=\"white\"></td><td style=\"border:solid;\" bgcolor=\"#C3C3C3\"></td><td style=\"border:solid;\" bgcolor=\"white\"></td></tr>\n",
       "<tr><td>1: shot</td><td style=\"border:none;\" bgcolor=\"white\"></td><td style=\"border:solid;\" bgcolor=\"white\"><font color=\"black\">Verb: 0.00</font></td><td style=\"border:solid;\" bgcolor=\"white\"></td><td style=\"border:solid;\" bgcolor=\"white\"><font color=\"black\">VP: -1.90</font></td><td style=\"border:solid;\" bgcolor=\"white\"></td><td style=\"border:solid;\" bgcolor=\"#E1E1E1\"></td><td style=\"border:solid;\" bgcolor=\"white\"></td></tr>\n",
       "<tr><td>2: the</td><td style=\"border:none;\" bgcolor=\"white\"></td><td style=\"border:none;\" bgcolor=\"white\"></td><td style=\"border:solid;\" bgcolor=\"white\"><font color=\"black\">Obj_5: 0.00</font>, <font color=\"black\">Obj_8: 0.00</font></td><td style=\"border:solid;\" bgcolor=\"white\"><font color=\"black\">Obj: -0.69</font></td><td style=\"border:solid;\" bgcolor=\"white\"></td><td style=\"border:solid;\" bgcolor=\"white\"></td><td style=\"border:solid;\" bgcolor=\"white\"><font color=\"black\">Obj: -0.69</font>, <font color=\"black\">VP_0: -0.69</font></td></tr>\n",
       "<tr><td>3: elephant</td><td style=\"border:none;\" bgcolor=\"white\"></td><td style=\"border:none;\" bgcolor=\"white\"></td><td style=\"border:none;\" bgcolor=\"white\"></td><td style=\"border:solid;\" bgcolor=\"white\"><font color=\"black\">Obj_6: 0.00</font>, <font color=\"black\">Obj_7_9: 0.00</font></td><td style=\"border:solid;\" bgcolor=\"white\"></td><td style=\"border:solid;\" bgcolor=\"white\"></td><td style=\"border:solid;\" bgcolor=\"white\"><font color=\"black\">Obj_7: 0.00</font></td></tr>\n",
       "<tr><td>4: in</td><td style=\"border:none;\" bgcolor=\"white\"></td><td style=\"border:none;\" bgcolor=\"white\"></td><td style=\"border:none;\" bgcolor=\"white\"></td><td style=\"border:none;\" bgcolor=\"white\"></td><td style=\"border:solid;\" bgcolor=\"white\"><font color=\"black\">PP_2: 0.00</font></td><td style=\"border:solid;\" bgcolor=\"white\"></td><td style=\"border:solid;\" bgcolor=\"white\"><font color=\"black\">PP: 0.00</font></td></tr>\n",
       "<tr><td>5: his</td><td style=\"border:none;\" bgcolor=\"white\"></td><td style=\"border:none;\" bgcolor=\"white\"></td><td style=\"border:none;\" bgcolor=\"white\"></td><td style=\"border:none;\" bgcolor=\"white\"></td><td style=\"border:none;\" bgcolor=\"white\"></td><td style=\"border:solid;\" bgcolor=\"white\"><font color=\"black\">PP_1_3: 0.00</font></td><td style=\"border:solid;\" bgcolor=\"white\"><font color=\"black\">PP_1: 0.00</font></td></tr>\n",
       "<tr><td>6: pyjamas</td><td style=\"border:none;\" bgcolor=\"white\"></td><td style=\"border:none;\" bgcolor=\"white\"></td><td style=\"border:none;\" bgcolor=\"white\"></td><td style=\"border:none;\" bgcolor=\"white\"></td><td style=\"border:none;\" bgcolor=\"white\"></td><td style=\"border:none;\" bgcolor=\"white\"></td><td style=\"border:solid;\" bgcolor=\"white\"><font color=\"black\">PP_1_4: 0.00</font></td></tr></table> 88 / 112</div>\n",
       "<div class=\"item\"><table><tr><td></td><td>0: He</td><td>1: shot</td><td>2: the</td><td>3: elephant</td><td>4: in</td><td>5: his</td><td>6: pyjamas</td></tr>\n",
       "<tr><td>0: He</td><td style=\"border:solid;\" bgcolor=\"white\"><font color=\"black\">Subj: 0.00</font></td><td style=\"border:solid;\" bgcolor=\"#E1E1E1\"></td><td style=\"border:solid;\" bgcolor=\"white\"></td><td style=\"border:solid;\" bgcolor=\"white\"><font color=\"black\">S: -1.90</font></td><td style=\"border:solid;\" bgcolor=\"white\"></td><td style=\"border:solid;\" bgcolor=\"#C3C3C3\"></td><td style=\"border:solid;\" bgcolor=\"white\"></td></tr>\n",
       "<tr><td>1: shot</td><td style=\"border:none;\" bgcolor=\"white\"></td><td style=\"border:solid;\" bgcolor=\"white\"><font color=\"black\">Verb: 0.00</font></td><td style=\"border:solid;\" bgcolor=\"white\"></td><td style=\"border:solid;\" bgcolor=\"white\"><font color=\"black\">VP: -1.90</font></td><td style=\"border:solid;\" bgcolor=\"white\"></td><td style=\"border:solid;\" bgcolor=\"white\"></td><td style=\"border:solid;\" bgcolor=\"white\"></td></tr>\n",
       "<tr><td>2: the</td><td style=\"border:none;\" bgcolor=\"white\"></td><td style=\"border:none;\" bgcolor=\"white\"></td><td style=\"border:solid;\" bgcolor=\"white\"><font color=\"black\">Obj_5: 0.00</font>, <font color=\"black\">Obj_8: 0.00</font></td><td style=\"border:solid;\" bgcolor=\"white\"><font color=\"black\">Obj: -0.69</font></td><td style=\"border:solid;\" bgcolor=\"white\"></td><td style=\"border:solid;\" bgcolor=\"#E1E1E1\"></td><td style=\"border:solid;\" bgcolor=\"white\"><font color=\"black\">Obj: -0.69</font>, <font color=\"black\">VP_0: -0.69</font></td></tr>\n",
       "<tr><td>3: elephant</td><td style=\"border:none;\" bgcolor=\"white\"></td><td style=\"border:none;\" bgcolor=\"white\"></td><td style=\"border:none;\" bgcolor=\"white\"></td><td style=\"border:solid;\" bgcolor=\"white\"><font color=\"black\">Obj_6: 0.00</font>, <font color=\"black\">Obj_7_9: 0.00</font></td><td style=\"border:solid;\" bgcolor=\"white\"></td><td style=\"border:solid;\" bgcolor=\"white\"></td><td style=\"border:solid;\" bgcolor=\"white\"><font color=\"black\">Obj_7: 0.00</font></td></tr>\n",
       "<tr><td>4: in</td><td style=\"border:none;\" bgcolor=\"white\"></td><td style=\"border:none;\" bgcolor=\"white\"></td><td style=\"border:none;\" bgcolor=\"white\"></td><td style=\"border:none;\" bgcolor=\"white\"></td><td style=\"border:solid;\" bgcolor=\"white\"><font color=\"black\">PP_2: 0.00</font></td><td style=\"border:solid;\" bgcolor=\"white\"></td><td style=\"border:solid;\" bgcolor=\"white\"><font color=\"black\">PP: 0.00</font></td></tr>\n",
       "<tr><td>5: his</td><td style=\"border:none;\" bgcolor=\"white\"></td><td style=\"border:none;\" bgcolor=\"white\"></td><td style=\"border:none;\" bgcolor=\"white\"></td><td style=\"border:none;\" bgcolor=\"white\"></td><td style=\"border:none;\" bgcolor=\"white\"></td><td style=\"border:solid;\" bgcolor=\"white\"><font color=\"black\">PP_1_3: 0.00</font></td><td style=\"border:solid;\" bgcolor=\"white\"><font color=\"black\">PP_1: 0.00</font></td></tr>\n",
       "<tr><td>6: pyjamas</td><td style=\"border:none;\" bgcolor=\"white\"></td><td style=\"border:none;\" bgcolor=\"white\"></td><td style=\"border:none;\" bgcolor=\"white\"></td><td style=\"border:none;\" bgcolor=\"white\"></td><td style=\"border:none;\" bgcolor=\"white\"></td><td style=\"border:none;\" bgcolor=\"white\"></td><td style=\"border:solid;\" bgcolor=\"white\"><font color=\"black\">PP_1_4: 0.00</font></td></tr></table> 89 / 112</div>\n",
       "<div class=\"item\"><table><tr><td></td><td>0: He</td><td>1: shot</td><td>2: the</td><td>3: elephant</td><td>4: in</td><td>5: his</td><td>6: pyjamas</td></tr>\n",
       "<tr><td>0: He</td><td style=\"border:solid;\" bgcolor=\"white\"><font color=\"black\">Subj: 0.00</font></td><td style=\"border:solid;\" bgcolor=\"white\"></td><td style=\"border:solid;\" bgcolor=\"#E1E1E1\"></td><td style=\"border:solid;\" bgcolor=\"white\"><font color=\"black\">S: -1.90</font></td><td style=\"border:solid;\" bgcolor=\"white\"></td><td style=\"border:solid;\" bgcolor=\"#C3C3C3\"></td><td style=\"border:solid;\" bgcolor=\"white\"></td></tr>\n",
       "<tr><td>1: shot</td><td style=\"border:none;\" bgcolor=\"white\"></td><td style=\"border:solid;\" bgcolor=\"white\"><font color=\"black\">Verb: 0.00</font></td><td style=\"border:solid;\" bgcolor=\"white\"></td><td style=\"border:solid;\" bgcolor=\"white\"><font color=\"black\">VP: -1.90</font></td><td style=\"border:solid;\" bgcolor=\"white\"></td><td style=\"border:solid;\" bgcolor=\"white\"></td><td style=\"border:solid;\" bgcolor=\"white\"></td></tr>\n",
       "<tr><td>2: the</td><td style=\"border:none;\" bgcolor=\"white\"></td><td style=\"border:none;\" bgcolor=\"white\"></td><td style=\"border:solid;\" bgcolor=\"white\"><font color=\"black\">Obj_5: 0.00</font>, <font color=\"black\">Obj_8: 0.00</font></td><td style=\"border:solid;\" bgcolor=\"white\"><font color=\"black\">Obj: -0.69</font></td><td style=\"border:solid;\" bgcolor=\"white\"></td><td style=\"border:solid;\" bgcolor=\"white\"></td><td style=\"border:solid;\" bgcolor=\"white\"><font color=\"black\">Obj: -0.69</font>, <font color=\"black\">VP_0: -0.69</font></td></tr>\n",
       "<tr><td>3: elephant</td><td style=\"border:none;\" bgcolor=\"white\"></td><td style=\"border:none;\" bgcolor=\"white\"></td><td style=\"border:none;\" bgcolor=\"white\"></td><td style=\"border:solid;\" bgcolor=\"white\"><font color=\"black\">Obj_6: 0.00</font>, <font color=\"black\">Obj_7_9: 0.00</font></td><td style=\"border:solid;\" bgcolor=\"white\"></td><td style=\"border:solid;\" bgcolor=\"#E1E1E1\"></td><td style=\"border:solid;\" bgcolor=\"white\"><font color=\"black\">Obj_7: 0.00</font></td></tr>\n",
       "<tr><td>4: in</td><td style=\"border:none;\" bgcolor=\"white\"></td><td style=\"border:none;\" bgcolor=\"white\"></td><td style=\"border:none;\" bgcolor=\"white\"></td><td style=\"border:none;\" bgcolor=\"white\"></td><td style=\"border:solid;\" bgcolor=\"white\"><font color=\"black\">PP_2: 0.00</font></td><td style=\"border:solid;\" bgcolor=\"white\"></td><td style=\"border:solid;\" bgcolor=\"white\"><font color=\"black\">PP: 0.00</font></td></tr>\n",
       "<tr><td>5: his</td><td style=\"border:none;\" bgcolor=\"white\"></td><td style=\"border:none;\" bgcolor=\"white\"></td><td style=\"border:none;\" bgcolor=\"white\"></td><td style=\"border:none;\" bgcolor=\"white\"></td><td style=\"border:none;\" bgcolor=\"white\"></td><td style=\"border:solid;\" bgcolor=\"white\"><font color=\"black\">PP_1_3: 0.00</font></td><td style=\"border:solid;\" bgcolor=\"white\"><font color=\"black\">PP_1: 0.00</font></td></tr>\n",
       "<tr><td>6: pyjamas</td><td style=\"border:none;\" bgcolor=\"white\"></td><td style=\"border:none;\" bgcolor=\"white\"></td><td style=\"border:none;\" bgcolor=\"white\"></td><td style=\"border:none;\" bgcolor=\"white\"></td><td style=\"border:none;\" bgcolor=\"white\"></td><td style=\"border:none;\" bgcolor=\"white\"></td><td style=\"border:solid;\" bgcolor=\"white\"><font color=\"black\">PP_1_4: 0.00</font></td></tr></table> 90 / 112</div>\n",
       "<div class=\"item\"><table><tr><td></td><td>0: He</td><td>1: shot</td><td>2: the</td><td>3: elephant</td><td>4: in</td><td>5: his</td><td>6: pyjamas</td></tr>\n",
       "<tr><td>0: He</td><td style=\"border:solid;\" bgcolor=\"white\"><font color=\"black\">Subj: 0.00</font></td><td style=\"border:solid;\" bgcolor=\"white\"></td><td style=\"border:solid;\" bgcolor=\"white\"></td><td style=\"border:solid;\" bgcolor=\"#E1E1E1\"><font color=\"black\">S: -1.90</font></td><td style=\"border:solid;\" bgcolor=\"white\"></td><td style=\"border:solid;\" bgcolor=\"#C3C3C3\"></td><td style=\"border:solid;\" bgcolor=\"white\"></td></tr>\n",
       "<tr><td>1: shot</td><td style=\"border:none;\" bgcolor=\"white\"></td><td style=\"border:solid;\" bgcolor=\"white\"><font color=\"black\">Verb: 0.00</font></td><td style=\"border:solid;\" bgcolor=\"white\"></td><td style=\"border:solid;\" bgcolor=\"white\"><font color=\"black\">VP: -1.90</font></td><td style=\"border:solid;\" bgcolor=\"white\"></td><td style=\"border:solid;\" bgcolor=\"white\"></td><td style=\"border:solid;\" bgcolor=\"white\"></td></tr>\n",
       "<tr><td>2: the</td><td style=\"border:none;\" bgcolor=\"white\"></td><td style=\"border:none;\" bgcolor=\"white\"></td><td style=\"border:solid;\" bgcolor=\"white\"><font color=\"black\">Obj_5: 0.00</font>, <font color=\"black\">Obj_8: 0.00</font></td><td style=\"border:solid;\" bgcolor=\"white\"><font color=\"black\">Obj: -0.69</font></td><td style=\"border:solid;\" bgcolor=\"white\"></td><td style=\"border:solid;\" bgcolor=\"white\"></td><td style=\"border:solid;\" bgcolor=\"white\"><font color=\"black\">Obj: -0.69</font>, <font color=\"black\">VP_0: -0.69</font></td></tr>\n",
       "<tr><td>3: elephant</td><td style=\"border:none;\" bgcolor=\"white\"></td><td style=\"border:none;\" bgcolor=\"white\"></td><td style=\"border:none;\" bgcolor=\"white\"></td><td style=\"border:solid;\" bgcolor=\"white\"><font color=\"black\">Obj_6: 0.00</font>, <font color=\"black\">Obj_7_9: 0.00</font></td><td style=\"border:solid;\" bgcolor=\"white\"></td><td style=\"border:solid;\" bgcolor=\"white\"></td><td style=\"border:solid;\" bgcolor=\"white\"><font color=\"black\">Obj_7: 0.00</font></td></tr>\n",
       "<tr><td>4: in</td><td style=\"border:none;\" bgcolor=\"white\"></td><td style=\"border:none;\" bgcolor=\"white\"></td><td style=\"border:none;\" bgcolor=\"white\"></td><td style=\"border:none;\" bgcolor=\"white\"></td><td style=\"border:solid;\" bgcolor=\"white\"><font color=\"black\">PP_2: 0.00</font></td><td style=\"border:solid;\" bgcolor=\"#E1E1E1\"></td><td style=\"border:solid;\" bgcolor=\"white\"><font color=\"black\">PP: 0.00</font></td></tr>\n",
       "<tr><td>5: his</td><td style=\"border:none;\" bgcolor=\"white\"></td><td style=\"border:none;\" bgcolor=\"white\"></td><td style=\"border:none;\" bgcolor=\"white\"></td><td style=\"border:none;\" bgcolor=\"white\"></td><td style=\"border:none;\" bgcolor=\"white\"></td><td style=\"border:solid;\" bgcolor=\"white\"><font color=\"black\">PP_1_3: 0.00</font></td><td style=\"border:solid;\" bgcolor=\"white\"><font color=\"black\">PP_1: 0.00</font></td></tr>\n",
       "<tr><td>6: pyjamas</td><td style=\"border:none;\" bgcolor=\"white\"></td><td style=\"border:none;\" bgcolor=\"white\"></td><td style=\"border:none;\" bgcolor=\"white\"></td><td style=\"border:none;\" bgcolor=\"white\"></td><td style=\"border:none;\" bgcolor=\"white\"></td><td style=\"border:none;\" bgcolor=\"white\"></td><td style=\"border:solid;\" bgcolor=\"white\"><font color=\"black\">PP_1_4: 0.00</font></td></tr></table> 91 / 112</div>\n",
       "<div class=\"item\"><table><tr><td></td><td>0: He</td><td>1: shot</td><td>2: the</td><td>3: elephant</td><td>4: in</td><td>5: his</td><td>6: pyjamas</td></tr>\n",
       "<tr><td>0: He</td><td style=\"border:solid;\" bgcolor=\"white\"><font color=\"black\">Subj: 0.00</font></td><td style=\"border:solid;\" bgcolor=\"white\"></td><td style=\"border:solid;\" bgcolor=\"white\"></td><td style=\"border:solid;\" bgcolor=\"white\"><font color=\"black\">S: -1.90</font></td><td style=\"border:solid;\" bgcolor=\"#E1E1E1\"></td><td style=\"border:solid;\" bgcolor=\"#C3C3C3\"></td><td style=\"border:solid;\" bgcolor=\"white\"></td></tr>\n",
       "<tr><td>1: shot</td><td style=\"border:none;\" bgcolor=\"white\"></td><td style=\"border:solid;\" bgcolor=\"white\"><font color=\"black\">Verb: 0.00</font></td><td style=\"border:solid;\" bgcolor=\"white\"></td><td style=\"border:solid;\" bgcolor=\"white\"><font color=\"black\">VP: -1.90</font></td><td style=\"border:solid;\" bgcolor=\"white\"></td><td style=\"border:solid;\" bgcolor=\"white\"></td><td style=\"border:solid;\" bgcolor=\"white\"></td></tr>\n",
       "<tr><td>2: the</td><td style=\"border:none;\" bgcolor=\"white\"></td><td style=\"border:none;\" bgcolor=\"white\"></td><td style=\"border:solid;\" bgcolor=\"white\"><font color=\"black\">Obj_5: 0.00</font>, <font color=\"black\">Obj_8: 0.00</font></td><td style=\"border:solid;\" bgcolor=\"white\"><font color=\"black\">Obj: -0.69</font></td><td style=\"border:solid;\" bgcolor=\"white\"></td><td style=\"border:solid;\" bgcolor=\"white\"></td><td style=\"border:solid;\" bgcolor=\"white\"><font color=\"black\">Obj: -0.69</font>, <font color=\"black\">VP_0: -0.69</font></td></tr>\n",
       "<tr><td>3: elephant</td><td style=\"border:none;\" bgcolor=\"white\"></td><td style=\"border:none;\" bgcolor=\"white\"></td><td style=\"border:none;\" bgcolor=\"white\"></td><td style=\"border:solid;\" bgcolor=\"white\"><font color=\"black\">Obj_6: 0.00</font>, <font color=\"black\">Obj_7_9: 0.00</font></td><td style=\"border:solid;\" bgcolor=\"white\"></td><td style=\"border:solid;\" bgcolor=\"white\"></td><td style=\"border:solid;\" bgcolor=\"white\"><font color=\"black\">Obj_7: 0.00</font></td></tr>\n",
       "<tr><td>4: in</td><td style=\"border:none;\" bgcolor=\"white\"></td><td style=\"border:none;\" bgcolor=\"white\"></td><td style=\"border:none;\" bgcolor=\"white\"></td><td style=\"border:none;\" bgcolor=\"white\"></td><td style=\"border:solid;\" bgcolor=\"white\"><font color=\"black\">PP_2: 0.00</font></td><td style=\"border:solid;\" bgcolor=\"white\"></td><td style=\"border:solid;\" bgcolor=\"white\"><font color=\"black\">PP: 0.00</font></td></tr>\n",
       "<tr><td>5: his</td><td style=\"border:none;\" bgcolor=\"white\"></td><td style=\"border:none;\" bgcolor=\"white\"></td><td style=\"border:none;\" bgcolor=\"white\"></td><td style=\"border:none;\" bgcolor=\"white\"></td><td style=\"border:none;\" bgcolor=\"white\"></td><td style=\"border:solid;\" bgcolor=\"#E1E1E1\"><font color=\"black\">PP_1_3: 0.00</font></td><td style=\"border:solid;\" bgcolor=\"white\"><font color=\"black\">PP_1: 0.00</font></td></tr>\n",
       "<tr><td>6: pyjamas</td><td style=\"border:none;\" bgcolor=\"white\"></td><td style=\"border:none;\" bgcolor=\"white\"></td><td style=\"border:none;\" bgcolor=\"white\"></td><td style=\"border:none;\" bgcolor=\"white\"></td><td style=\"border:none;\" bgcolor=\"white\"></td><td style=\"border:none;\" bgcolor=\"white\"></td><td style=\"border:solid;\" bgcolor=\"white\"><font color=\"black\">PP_1_4: 0.00</font></td></tr></table> 92 / 112</div>\n",
       "<div class=\"item\"><table><tr><td></td><td>0: He</td><td>1: shot</td><td>2: the</td><td>3: elephant</td><td>4: in</td><td>5: his</td><td>6: pyjamas</td></tr>\n",
       "<tr><td>0: He</td><td style=\"border:solid;\" bgcolor=\"white\"><font color=\"black\">Subj: 0.00</font></td><td style=\"border:solid;\" bgcolor=\"white\"></td><td style=\"border:solid;\" bgcolor=\"white\"></td><td style=\"border:solid;\" bgcolor=\"white\"><font color=\"black\">S: -1.90</font></td><td style=\"border:solid;\" bgcolor=\"white\"></td><td style=\"border:solid;\" bgcolor=\"white\"></td><td style=\"border:solid;\" bgcolor=\"white\"></td></tr>\n",
       "<tr><td>1: shot</td><td style=\"border:none;\" bgcolor=\"white\"></td><td style=\"border:solid;\" bgcolor=\"#E1E1E1\"><font color=\"black\">Verb: 0.00</font></td><td style=\"border:solid;\" bgcolor=\"white\"></td><td style=\"border:solid;\" bgcolor=\"white\"><font color=\"black\">VP: -1.90</font></td><td style=\"border:solid;\" bgcolor=\"white\"></td><td style=\"border:solid;\" bgcolor=\"white\"></td><td style=\"border:solid;\" bgcolor=\"#C3C3C3\"></td></tr>\n",
       "<tr><td>2: the</td><td style=\"border:none;\" bgcolor=\"white\"></td><td style=\"border:none;\" bgcolor=\"white\"></td><td style=\"border:solid;\" bgcolor=\"white\"><font color=\"black\">Obj_5: 0.00</font>, <font color=\"black\">Obj_8: 0.00</font></td><td style=\"border:solid;\" bgcolor=\"white\"><font color=\"black\">Obj: -0.69</font></td><td style=\"border:solid;\" bgcolor=\"white\"></td><td style=\"border:solid;\" bgcolor=\"white\"></td><td style=\"border:solid;\" bgcolor=\"#E1E1E1\"><font color=\"black\">Obj: -0.69</font>, <font color=\"black\">VP_0: -0.69</font></td></tr>\n",
       "<tr><td>3: elephant</td><td style=\"border:none;\" bgcolor=\"white\"></td><td style=\"border:none;\" bgcolor=\"white\"></td><td style=\"border:none;\" bgcolor=\"white\"></td><td style=\"border:solid;\" bgcolor=\"white\"><font color=\"black\">Obj_6: 0.00</font>, <font color=\"black\">Obj_7_9: 0.00</font></td><td style=\"border:solid;\" bgcolor=\"white\"></td><td style=\"border:solid;\" bgcolor=\"white\"></td><td style=\"border:solid;\" bgcolor=\"white\"><font color=\"black\">Obj_7: 0.00</font></td></tr>\n",
       "<tr><td>4: in</td><td style=\"border:none;\" bgcolor=\"white\"></td><td style=\"border:none;\" bgcolor=\"white\"></td><td style=\"border:none;\" bgcolor=\"white\"></td><td style=\"border:none;\" bgcolor=\"white\"></td><td style=\"border:solid;\" bgcolor=\"white\"><font color=\"black\">PP_2: 0.00</font></td><td style=\"border:solid;\" bgcolor=\"white\"></td><td style=\"border:solid;\" bgcolor=\"white\"><font color=\"black\">PP: 0.00</font></td></tr>\n",
       "<tr><td>5: his</td><td style=\"border:none;\" bgcolor=\"white\"></td><td style=\"border:none;\" bgcolor=\"white\"></td><td style=\"border:none;\" bgcolor=\"white\"></td><td style=\"border:none;\" bgcolor=\"white\"></td><td style=\"border:none;\" bgcolor=\"white\"></td><td style=\"border:solid;\" bgcolor=\"white\"><font color=\"black\">PP_1_3: 0.00</font></td><td style=\"border:solid;\" bgcolor=\"white\"><font color=\"black\">PP_1: 0.00</font></td></tr>\n",
       "<tr><td>6: pyjamas</td><td style=\"border:none;\" bgcolor=\"white\"></td><td style=\"border:none;\" bgcolor=\"white\"></td><td style=\"border:none;\" bgcolor=\"white\"></td><td style=\"border:none;\" bgcolor=\"white\"></td><td style=\"border:none;\" bgcolor=\"white\"></td><td style=\"border:none;\" bgcolor=\"white\"></td><td style=\"border:solid;\" bgcolor=\"white\"><font color=\"black\">PP_1_4: 0.00</font></td></tr></table> 93 / 112</div>\n",
       "<div class=\"item\"><table><tr><td></td><td>0: He</td><td>1: shot</td><td>2: the</td><td>3: elephant</td><td>4: in</td><td>5: his</td><td>6: pyjamas</td></tr>\n",
       "<tr><td>0: He</td><td style=\"border:solid;\" bgcolor=\"white\"><font color=\"black\">Subj: 0.00</font></td><td style=\"border:solid;\" bgcolor=\"white\"></td><td style=\"border:solid;\" bgcolor=\"white\"></td><td style=\"border:solid;\" bgcolor=\"white\"><font color=\"black\">S: -1.90</font></td><td style=\"border:solid;\" bgcolor=\"white\"></td><td style=\"border:solid;\" bgcolor=\"white\"></td><td style=\"border:solid;\" bgcolor=\"white\"></td></tr>\n",
       "<tr><td>1: shot</td><td style=\"border:none;\" bgcolor=\"white\"></td><td style=\"border:solid;\" bgcolor=\"#E1E1E1\"><font color=\"red\">Verb: 0.00</font></td><td style=\"border:solid;\" bgcolor=\"white\"></td><td style=\"border:solid;\" bgcolor=\"white\"><font color=\"black\">VP: -1.90</font></td><td style=\"border:solid;\" bgcolor=\"white\"></td><td style=\"border:solid;\" bgcolor=\"white\"></td><td style=\"border:solid;\" bgcolor=\"#C3C3C3\"></td></tr>\n",
       "<tr><td>2: the</td><td style=\"border:none;\" bgcolor=\"white\"></td><td style=\"border:none;\" bgcolor=\"white\"></td><td style=\"border:solid;\" bgcolor=\"white\"><font color=\"black\">Obj_5: 0.00</font>, <font color=\"black\">Obj_8: 0.00</font></td><td style=\"border:solid;\" bgcolor=\"white\"><font color=\"black\">Obj: -0.69</font></td><td style=\"border:solid;\" bgcolor=\"white\"></td><td style=\"border:solid;\" bgcolor=\"white\"></td><td style=\"border:solid;\" bgcolor=\"#E1E1E1\"><font color=\"red\">Obj: -0.69</font>, <font color=\"black\">VP_0: -0.69</font></td></tr>\n",
       "<tr><td>3: elephant</td><td style=\"border:none;\" bgcolor=\"white\"></td><td style=\"border:none;\" bgcolor=\"white\"></td><td style=\"border:none;\" bgcolor=\"white\"></td><td style=\"border:solid;\" bgcolor=\"white\"><font color=\"black\">Obj_6: 0.00</font>, <font color=\"black\">Obj_7_9: 0.00</font></td><td style=\"border:solid;\" bgcolor=\"white\"></td><td style=\"border:solid;\" bgcolor=\"white\"></td><td style=\"border:solid;\" bgcolor=\"white\"><font color=\"black\">Obj_7: 0.00</font></td></tr>\n",
       "<tr><td>4: in</td><td style=\"border:none;\" bgcolor=\"white\"></td><td style=\"border:none;\" bgcolor=\"white\"></td><td style=\"border:none;\" bgcolor=\"white\"></td><td style=\"border:none;\" bgcolor=\"white\"></td><td style=\"border:solid;\" bgcolor=\"white\"><font color=\"black\">PP_2: 0.00</font></td><td style=\"border:solid;\" bgcolor=\"white\"></td><td style=\"border:solid;\" bgcolor=\"white\"><font color=\"black\">PP: 0.00</font></td></tr>\n",
       "<tr><td>5: his</td><td style=\"border:none;\" bgcolor=\"white\"></td><td style=\"border:none;\" bgcolor=\"white\"></td><td style=\"border:none;\" bgcolor=\"white\"></td><td style=\"border:none;\" bgcolor=\"white\"></td><td style=\"border:none;\" bgcolor=\"white\"></td><td style=\"border:solid;\" bgcolor=\"white\"><font color=\"black\">PP_1_3: 0.00</font></td><td style=\"border:solid;\" bgcolor=\"white\"><font color=\"black\">PP_1: 0.00</font></td></tr>\n",
       "<tr><td>6: pyjamas</td><td style=\"border:none;\" bgcolor=\"white\"></td><td style=\"border:none;\" bgcolor=\"white\"></td><td style=\"border:none;\" bgcolor=\"white\"></td><td style=\"border:none;\" bgcolor=\"white\"></td><td style=\"border:none;\" bgcolor=\"white\"></td><td style=\"border:none;\" bgcolor=\"white\"></td><td style=\"border:solid;\" bgcolor=\"white\"><font color=\"black\">PP_1_4: 0.00</font></td></tr></table> 94 / 112</div>\n",
       "<div class=\"item\"><table><tr><td></td><td>0: He</td><td>1: shot</td><td>2: the</td><td>3: elephant</td><td>4: in</td><td>5: his</td><td>6: pyjamas</td></tr>\n",
       "<tr><td>0: He</td><td style=\"border:solid;\" bgcolor=\"white\"><font color=\"black\">Subj: 0.00</font></td><td style=\"border:solid;\" bgcolor=\"white\"></td><td style=\"border:solid;\" bgcolor=\"white\"></td><td style=\"border:solid;\" bgcolor=\"white\"><font color=\"black\">S: -1.90</font></td><td style=\"border:solid;\" bgcolor=\"white\"></td><td style=\"border:solid;\" bgcolor=\"white\"></td><td style=\"border:solid;\" bgcolor=\"white\"></td></tr>\n",
       "<tr><td>1: shot</td><td style=\"border:none;\" bgcolor=\"white\"></td><td style=\"border:solid;\" bgcolor=\"#E1E1E1\"><font color=\"red\">Verb: 0.00</font></td><td style=\"border:solid;\" bgcolor=\"white\"></td><td style=\"border:solid;\" bgcolor=\"white\"><font color=\"black\">VP: -1.90</font></td><td style=\"border:solid;\" bgcolor=\"white\"></td><td style=\"border:solid;\" bgcolor=\"white\"></td><td style=\"border:solid;\" bgcolor=\"#C3C3C3\"><font color=\"blue\">VP: -1.90</font></td></tr>\n",
       "<tr><td>2: the</td><td style=\"border:none;\" bgcolor=\"white\"></td><td style=\"border:none;\" bgcolor=\"white\"></td><td style=\"border:solid;\" bgcolor=\"white\"><font color=\"black\">Obj_5: 0.00</font>, <font color=\"black\">Obj_8: 0.00</font></td><td style=\"border:solid;\" bgcolor=\"white\"><font color=\"black\">Obj: -0.69</font></td><td style=\"border:solid;\" bgcolor=\"white\"></td><td style=\"border:solid;\" bgcolor=\"white\"></td><td style=\"border:solid;\" bgcolor=\"#E1E1E1\"><font color=\"red\">Obj: -0.69</font>, <font color=\"black\">VP_0: -0.69</font></td></tr>\n",
       "<tr><td>3: elephant</td><td style=\"border:none;\" bgcolor=\"white\"></td><td style=\"border:none;\" bgcolor=\"white\"></td><td style=\"border:none;\" bgcolor=\"white\"></td><td style=\"border:solid;\" bgcolor=\"white\"><font color=\"black\">Obj_6: 0.00</font>, <font color=\"black\">Obj_7_9: 0.00</font></td><td style=\"border:solid;\" bgcolor=\"white\"></td><td style=\"border:solid;\" bgcolor=\"white\"></td><td style=\"border:solid;\" bgcolor=\"white\"><font color=\"black\">Obj_7: 0.00</font></td></tr>\n",
       "<tr><td>4: in</td><td style=\"border:none;\" bgcolor=\"white\"></td><td style=\"border:none;\" bgcolor=\"white\"></td><td style=\"border:none;\" bgcolor=\"white\"></td><td style=\"border:none;\" bgcolor=\"white\"></td><td style=\"border:solid;\" bgcolor=\"white\"><font color=\"black\">PP_2: 0.00</font></td><td style=\"border:solid;\" bgcolor=\"white\"></td><td style=\"border:solid;\" bgcolor=\"white\"><font color=\"black\">PP: 0.00</font></td></tr>\n",
       "<tr><td>5: his</td><td style=\"border:none;\" bgcolor=\"white\"></td><td style=\"border:none;\" bgcolor=\"white\"></td><td style=\"border:none;\" bgcolor=\"white\"></td><td style=\"border:none;\" bgcolor=\"white\"></td><td style=\"border:none;\" bgcolor=\"white\"></td><td style=\"border:solid;\" bgcolor=\"white\"><font color=\"black\">PP_1_3: 0.00</font></td><td style=\"border:solid;\" bgcolor=\"white\"><font color=\"black\">PP_1: 0.00</font></td></tr>\n",
       "<tr><td>6: pyjamas</td><td style=\"border:none;\" bgcolor=\"white\"></td><td style=\"border:none;\" bgcolor=\"white\"></td><td style=\"border:none;\" bgcolor=\"white\"></td><td style=\"border:none;\" bgcolor=\"white\"></td><td style=\"border:none;\" bgcolor=\"white\"></td><td style=\"border:none;\" bgcolor=\"white\"></td><td style=\"border:solid;\" bgcolor=\"white\"><font color=\"black\">PP_1_4: 0.00</font></td></tr></table> 95 / 112</div>\n",
       "<div class=\"item\"><table><tr><td></td><td>0: He</td><td>1: shot</td><td>2: the</td><td>3: elephant</td><td>4: in</td><td>5: his</td><td>6: pyjamas</td></tr>\n",
       "<tr><td>0: He</td><td style=\"border:solid;\" bgcolor=\"white\"><font color=\"black\">Subj: 0.00</font></td><td style=\"border:solid;\" bgcolor=\"white\"></td><td style=\"border:solid;\" bgcolor=\"white\"></td><td style=\"border:solid;\" bgcolor=\"white\"><font color=\"black\">S: -1.90</font></td><td style=\"border:solid;\" bgcolor=\"white\"></td><td style=\"border:solid;\" bgcolor=\"white\"></td><td style=\"border:solid;\" bgcolor=\"white\"></td></tr>\n",
       "<tr><td>1: shot</td><td style=\"border:none;\" bgcolor=\"white\"></td><td style=\"border:solid;\" bgcolor=\"#E1E1E1\"><font color=\"red\">Verb: 0.00</font></td><td style=\"border:solid;\" bgcolor=\"white\"></td><td style=\"border:solid;\" bgcolor=\"white\"><font color=\"black\">VP: -1.90</font></td><td style=\"border:solid;\" bgcolor=\"white\"></td><td style=\"border:solid;\" bgcolor=\"white\"></td><td style=\"border:solid;\" bgcolor=\"#C3C3C3\"><font color=\"black\">VP: -1.90</font></td></tr>\n",
       "<tr><td>2: the</td><td style=\"border:none;\" bgcolor=\"white\"></td><td style=\"border:none;\" bgcolor=\"white\"></td><td style=\"border:solid;\" bgcolor=\"white\"><font color=\"black\">Obj_5: 0.00</font>, <font color=\"black\">Obj_8: 0.00</font></td><td style=\"border:solid;\" bgcolor=\"white\"><font color=\"black\">Obj: -0.69</font></td><td style=\"border:solid;\" bgcolor=\"white\"></td><td style=\"border:solid;\" bgcolor=\"white\"></td><td style=\"border:solid;\" bgcolor=\"#E1E1E1\"><font color=\"black\">Obj: -0.69</font>, <font color=\"red\">VP_0: -0.69</font></td></tr>\n",
       "<tr><td>3: elephant</td><td style=\"border:none;\" bgcolor=\"white\"></td><td style=\"border:none;\" bgcolor=\"white\"></td><td style=\"border:none;\" bgcolor=\"white\"></td><td style=\"border:solid;\" bgcolor=\"white\"><font color=\"black\">Obj_6: 0.00</font>, <font color=\"black\">Obj_7_9: 0.00</font></td><td style=\"border:solid;\" bgcolor=\"white\"></td><td style=\"border:solid;\" bgcolor=\"white\"></td><td style=\"border:solid;\" bgcolor=\"white\"><font color=\"black\">Obj_7: 0.00</font></td></tr>\n",
       "<tr><td>4: in</td><td style=\"border:none;\" bgcolor=\"white\"></td><td style=\"border:none;\" bgcolor=\"white\"></td><td style=\"border:none;\" bgcolor=\"white\"></td><td style=\"border:none;\" bgcolor=\"white\"></td><td style=\"border:solid;\" bgcolor=\"white\"><font color=\"black\">PP_2: 0.00</font></td><td style=\"border:solid;\" bgcolor=\"white\"></td><td style=\"border:solid;\" bgcolor=\"white\"><font color=\"black\">PP: 0.00</font></td></tr>\n",
       "<tr><td>5: his</td><td style=\"border:none;\" bgcolor=\"white\"></td><td style=\"border:none;\" bgcolor=\"white\"></td><td style=\"border:none;\" bgcolor=\"white\"></td><td style=\"border:none;\" bgcolor=\"white\"></td><td style=\"border:none;\" bgcolor=\"white\"></td><td style=\"border:solid;\" bgcolor=\"white\"><font color=\"black\">PP_1_3: 0.00</font></td><td style=\"border:solid;\" bgcolor=\"white\"><font color=\"black\">PP_1: 0.00</font></td></tr>\n",
       "<tr><td>6: pyjamas</td><td style=\"border:none;\" bgcolor=\"white\"></td><td style=\"border:none;\" bgcolor=\"white\"></td><td style=\"border:none;\" bgcolor=\"white\"></td><td style=\"border:none;\" bgcolor=\"white\"></td><td style=\"border:none;\" bgcolor=\"white\"></td><td style=\"border:none;\" bgcolor=\"white\"></td><td style=\"border:solid;\" bgcolor=\"white\"><font color=\"black\">PP_1_4: 0.00</font></td></tr></table> 96 / 112</div>\n",
       "<div class=\"item\"><table><tr><td></td><td>0: He</td><td>1: shot</td><td>2: the</td><td>3: elephant</td><td>4: in</td><td>5: his</td><td>6: pyjamas</td></tr>\n",
       "<tr><td>0: He</td><td style=\"border:solid;\" bgcolor=\"white\"><font color=\"black\">Subj: 0.00</font></td><td style=\"border:solid;\" bgcolor=\"white\"></td><td style=\"border:solid;\" bgcolor=\"white\"></td><td style=\"border:solid;\" bgcolor=\"white\"><font color=\"black\">S: -1.90</font></td><td style=\"border:solid;\" bgcolor=\"white\"></td><td style=\"border:solid;\" bgcolor=\"white\"></td><td style=\"border:solid;\" bgcolor=\"white\"></td></tr>\n",
       "<tr><td>1: shot</td><td style=\"border:none;\" bgcolor=\"white\"></td><td style=\"border:solid;\" bgcolor=\"#E1E1E1\"><font color=\"red\">Verb: 0.00</font></td><td style=\"border:solid;\" bgcolor=\"white\"></td><td style=\"border:solid;\" bgcolor=\"white\"><font color=\"black\">VP: -1.90</font></td><td style=\"border:solid;\" bgcolor=\"white\"></td><td style=\"border:solid;\" bgcolor=\"white\"></td><td style=\"border:solid;\" bgcolor=\"#C3C3C3\"><font color=\"blue\">VP: -1.05</font></td></tr>\n",
       "<tr><td>2: the</td><td style=\"border:none;\" bgcolor=\"white\"></td><td style=\"border:none;\" bgcolor=\"white\"></td><td style=\"border:solid;\" bgcolor=\"white\"><font color=\"black\">Obj_5: 0.00</font>, <font color=\"black\">Obj_8: 0.00</font></td><td style=\"border:solid;\" bgcolor=\"white\"><font color=\"black\">Obj: -0.69</font></td><td style=\"border:solid;\" bgcolor=\"white\"></td><td style=\"border:solid;\" bgcolor=\"white\"></td><td style=\"border:solid;\" bgcolor=\"#E1E1E1\"><font color=\"black\">Obj: -0.69</font>, <font color=\"red\">VP_0: -0.69</font></td></tr>\n",
       "<tr><td>3: elephant</td><td style=\"border:none;\" bgcolor=\"white\"></td><td style=\"border:none;\" bgcolor=\"white\"></td><td style=\"border:none;\" bgcolor=\"white\"></td><td style=\"border:solid;\" bgcolor=\"white\"><font color=\"black\">Obj_6: 0.00</font>, <font color=\"black\">Obj_7_9: 0.00</font></td><td style=\"border:solid;\" bgcolor=\"white\"></td><td style=\"border:solid;\" bgcolor=\"white\"></td><td style=\"border:solid;\" bgcolor=\"white\"><font color=\"black\">Obj_7: 0.00</font></td></tr>\n",
       "<tr><td>4: in</td><td style=\"border:none;\" bgcolor=\"white\"></td><td style=\"border:none;\" bgcolor=\"white\"></td><td style=\"border:none;\" bgcolor=\"white\"></td><td style=\"border:none;\" bgcolor=\"white\"></td><td style=\"border:solid;\" bgcolor=\"white\"><font color=\"black\">PP_2: 0.00</font></td><td style=\"border:solid;\" bgcolor=\"white\"></td><td style=\"border:solid;\" bgcolor=\"white\"><font color=\"black\">PP: 0.00</font></td></tr>\n",
       "<tr><td>5: his</td><td style=\"border:none;\" bgcolor=\"white\"></td><td style=\"border:none;\" bgcolor=\"white\"></td><td style=\"border:none;\" bgcolor=\"white\"></td><td style=\"border:none;\" bgcolor=\"white\"></td><td style=\"border:none;\" bgcolor=\"white\"></td><td style=\"border:solid;\" bgcolor=\"white\"><font color=\"black\">PP_1_3: 0.00</font></td><td style=\"border:solid;\" bgcolor=\"white\"><font color=\"black\">PP_1: 0.00</font></td></tr>\n",
       "<tr><td>6: pyjamas</td><td style=\"border:none;\" bgcolor=\"white\"></td><td style=\"border:none;\" bgcolor=\"white\"></td><td style=\"border:none;\" bgcolor=\"white\"></td><td style=\"border:none;\" bgcolor=\"white\"></td><td style=\"border:none;\" bgcolor=\"white\"></td><td style=\"border:none;\" bgcolor=\"white\"></td><td style=\"border:solid;\" bgcolor=\"white\"><font color=\"black\">PP_1_4: 0.00</font></td></tr></table> 97 / 112</div>\n",
       "<div class=\"item\"><table><tr><td></td><td>0: He</td><td>1: shot</td><td>2: the</td><td>3: elephant</td><td>4: in</td><td>5: his</td><td>6: pyjamas</td></tr>\n",
       "<tr><td>0: He</td><td style=\"border:solid;\" bgcolor=\"white\"><font color=\"black\">Subj: 0.00</font></td><td style=\"border:solid;\" bgcolor=\"white\"></td><td style=\"border:solid;\" bgcolor=\"white\"></td><td style=\"border:solid;\" bgcolor=\"white\"><font color=\"black\">S: -1.90</font></td><td style=\"border:solid;\" bgcolor=\"white\"></td><td style=\"border:solid;\" bgcolor=\"white\"></td><td style=\"border:solid;\" bgcolor=\"white\"></td></tr>\n",
       "<tr><td>1: shot</td><td style=\"border:none;\" bgcolor=\"white\"></td><td style=\"border:solid;\" bgcolor=\"white\"><font color=\"black\">Verb: 0.00</font></td><td style=\"border:solid;\" bgcolor=\"#E1E1E1\"></td><td style=\"border:solid;\" bgcolor=\"white\"><font color=\"black\">VP: -1.90</font></td><td style=\"border:solid;\" bgcolor=\"white\"></td><td style=\"border:solid;\" bgcolor=\"white\"></td><td style=\"border:solid;\" bgcolor=\"#C3C3C3\"><font color=\"black\">VP: -1.05</font></td></tr>\n",
       "<tr><td>2: the</td><td style=\"border:none;\" bgcolor=\"white\"></td><td style=\"border:none;\" bgcolor=\"white\"></td><td style=\"border:solid;\" bgcolor=\"white\"><font color=\"black\">Obj_5: 0.00</font>, <font color=\"black\">Obj_8: 0.00</font></td><td style=\"border:solid;\" bgcolor=\"white\"><font color=\"black\">Obj: -0.69</font></td><td style=\"border:solid;\" bgcolor=\"white\"></td><td style=\"border:solid;\" bgcolor=\"white\"></td><td style=\"border:solid;\" bgcolor=\"white\"><font color=\"black\">Obj: -0.69</font>, <font color=\"black\">VP_0: -0.69</font></td></tr>\n",
       "<tr><td>3: elephant</td><td style=\"border:none;\" bgcolor=\"white\"></td><td style=\"border:none;\" bgcolor=\"white\"></td><td style=\"border:none;\" bgcolor=\"white\"></td><td style=\"border:solid;\" bgcolor=\"white\"><font color=\"black\">Obj_6: 0.00</font>, <font color=\"black\">Obj_7_9: 0.00</font></td><td style=\"border:solid;\" bgcolor=\"white\"></td><td style=\"border:solid;\" bgcolor=\"white\"></td><td style=\"border:solid;\" bgcolor=\"#E1E1E1\"><font color=\"black\">Obj_7: 0.00</font></td></tr>\n",
       "<tr><td>4: in</td><td style=\"border:none;\" bgcolor=\"white\"></td><td style=\"border:none;\" bgcolor=\"white\"></td><td style=\"border:none;\" bgcolor=\"white\"></td><td style=\"border:none;\" bgcolor=\"white\"></td><td style=\"border:solid;\" bgcolor=\"white\"><font color=\"black\">PP_2: 0.00</font></td><td style=\"border:solid;\" bgcolor=\"white\"></td><td style=\"border:solid;\" bgcolor=\"white\"><font color=\"black\">PP: 0.00</font></td></tr>\n",
       "<tr><td>5: his</td><td style=\"border:none;\" bgcolor=\"white\"></td><td style=\"border:none;\" bgcolor=\"white\"></td><td style=\"border:none;\" bgcolor=\"white\"></td><td style=\"border:none;\" bgcolor=\"white\"></td><td style=\"border:none;\" bgcolor=\"white\"></td><td style=\"border:solid;\" bgcolor=\"white\"><font color=\"black\">PP_1_3: 0.00</font></td><td style=\"border:solid;\" bgcolor=\"white\"><font color=\"black\">PP_1: 0.00</font></td></tr>\n",
       "<tr><td>6: pyjamas</td><td style=\"border:none;\" bgcolor=\"white\"></td><td style=\"border:none;\" bgcolor=\"white\"></td><td style=\"border:none;\" bgcolor=\"white\"></td><td style=\"border:none;\" bgcolor=\"white\"></td><td style=\"border:none;\" bgcolor=\"white\"></td><td style=\"border:none;\" bgcolor=\"white\"></td><td style=\"border:solid;\" bgcolor=\"white\"><font color=\"black\">PP_1_4: 0.00</font></td></tr></table> 98 / 112</div>\n",
       "<div class=\"item\"><table><tr><td></td><td>0: He</td><td>1: shot</td><td>2: the</td><td>3: elephant</td><td>4: in</td><td>5: his</td><td>6: pyjamas</td></tr>\n",
       "<tr><td>0: He</td><td style=\"border:solid;\" bgcolor=\"white\"><font color=\"black\">Subj: 0.00</font></td><td style=\"border:solid;\" bgcolor=\"white\"></td><td style=\"border:solid;\" bgcolor=\"white\"></td><td style=\"border:solid;\" bgcolor=\"white\"><font color=\"black\">S: -1.90</font></td><td style=\"border:solid;\" bgcolor=\"white\"></td><td style=\"border:solid;\" bgcolor=\"white\"></td><td style=\"border:solid;\" bgcolor=\"white\"></td></tr>\n",
       "<tr><td>1: shot</td><td style=\"border:none;\" bgcolor=\"white\"></td><td style=\"border:solid;\" bgcolor=\"white\"><font color=\"black\">Verb: 0.00</font></td><td style=\"border:solid;\" bgcolor=\"white\"></td><td style=\"border:solid;\" bgcolor=\"#E1E1E1\"><font color=\"black\">VP: -1.90</font></td><td style=\"border:solid;\" bgcolor=\"white\"></td><td style=\"border:solid;\" bgcolor=\"white\"></td><td style=\"border:solid;\" bgcolor=\"#C3C3C3\"><font color=\"black\">VP: -1.05</font></td></tr>\n",
       "<tr><td>2: the</td><td style=\"border:none;\" bgcolor=\"white\"></td><td style=\"border:none;\" bgcolor=\"white\"></td><td style=\"border:solid;\" bgcolor=\"white\"><font color=\"black\">Obj_5: 0.00</font>, <font color=\"black\">Obj_8: 0.00</font></td><td style=\"border:solid;\" bgcolor=\"white\"><font color=\"black\">Obj: -0.69</font></td><td style=\"border:solid;\" bgcolor=\"white\"></td><td style=\"border:solid;\" bgcolor=\"white\"></td><td style=\"border:solid;\" bgcolor=\"white\"><font color=\"black\">Obj: -0.69</font>, <font color=\"black\">VP_0: -0.69</font></td></tr>\n",
       "<tr><td>3: elephant</td><td style=\"border:none;\" bgcolor=\"white\"></td><td style=\"border:none;\" bgcolor=\"white\"></td><td style=\"border:none;\" bgcolor=\"white\"></td><td style=\"border:solid;\" bgcolor=\"white\"><font color=\"black\">Obj_6: 0.00</font>, <font color=\"black\">Obj_7_9: 0.00</font></td><td style=\"border:solid;\" bgcolor=\"white\"></td><td style=\"border:solid;\" bgcolor=\"white\"></td><td style=\"border:solid;\" bgcolor=\"white\"><font color=\"black\">Obj_7: 0.00</font></td></tr>\n",
       "<tr><td>4: in</td><td style=\"border:none;\" bgcolor=\"white\"></td><td style=\"border:none;\" bgcolor=\"white\"></td><td style=\"border:none;\" bgcolor=\"white\"></td><td style=\"border:none;\" bgcolor=\"white\"></td><td style=\"border:solid;\" bgcolor=\"white\"><font color=\"black\">PP_2: 0.00</font></td><td style=\"border:solid;\" bgcolor=\"white\"></td><td style=\"border:solid;\" bgcolor=\"#E1E1E1\"><font color=\"black\">PP: 0.00</font></td></tr>\n",
       "<tr><td>5: his</td><td style=\"border:none;\" bgcolor=\"white\"></td><td style=\"border:none;\" bgcolor=\"white\"></td><td style=\"border:none;\" bgcolor=\"white\"></td><td style=\"border:none;\" bgcolor=\"white\"></td><td style=\"border:none;\" bgcolor=\"white\"></td><td style=\"border:solid;\" bgcolor=\"white\"><font color=\"black\">PP_1_3: 0.00</font></td><td style=\"border:solid;\" bgcolor=\"white\"><font color=\"black\">PP_1: 0.00</font></td></tr>\n",
       "<tr><td>6: pyjamas</td><td style=\"border:none;\" bgcolor=\"white\"></td><td style=\"border:none;\" bgcolor=\"white\"></td><td style=\"border:none;\" bgcolor=\"white\"></td><td style=\"border:none;\" bgcolor=\"white\"></td><td style=\"border:none;\" bgcolor=\"white\"></td><td style=\"border:none;\" bgcolor=\"white\"></td><td style=\"border:solid;\" bgcolor=\"white\"><font color=\"black\">PP_1_4: 0.00</font></td></tr></table> 99 / 112</div>\n",
       "<div class=\"item\"><table><tr><td></td><td>0: He</td><td>1: shot</td><td>2: the</td><td>3: elephant</td><td>4: in</td><td>5: his</td><td>6: pyjamas</td></tr>\n",
       "<tr><td>0: He</td><td style=\"border:solid;\" bgcolor=\"white\"><font color=\"black\">Subj: 0.00</font></td><td style=\"border:solid;\" bgcolor=\"white\"></td><td style=\"border:solid;\" bgcolor=\"white\"></td><td style=\"border:solid;\" bgcolor=\"white\"><font color=\"black\">S: -1.90</font></td><td style=\"border:solid;\" bgcolor=\"white\"></td><td style=\"border:solid;\" bgcolor=\"white\"></td><td style=\"border:solid;\" bgcolor=\"white\"></td></tr>\n",
       "<tr><td>1: shot</td><td style=\"border:none;\" bgcolor=\"white\"></td><td style=\"border:solid;\" bgcolor=\"white\"><font color=\"black\">Verb: 0.00</font></td><td style=\"border:solid;\" bgcolor=\"white\"></td><td style=\"border:solid;\" bgcolor=\"#E1E1E1\"><font color=\"red\">VP: -1.90</font></td><td style=\"border:solid;\" bgcolor=\"white\"></td><td style=\"border:solid;\" bgcolor=\"white\"></td><td style=\"border:solid;\" bgcolor=\"#C3C3C3\"><font color=\"black\">VP: -1.05</font></td></tr>\n",
       "<tr><td>2: the</td><td style=\"border:none;\" bgcolor=\"white\"></td><td style=\"border:none;\" bgcolor=\"white\"></td><td style=\"border:solid;\" bgcolor=\"white\"><font color=\"black\">Obj_5: 0.00</font>, <font color=\"black\">Obj_8: 0.00</font></td><td style=\"border:solid;\" bgcolor=\"white\"><font color=\"black\">Obj: -0.69</font></td><td style=\"border:solid;\" bgcolor=\"white\"></td><td style=\"border:solid;\" bgcolor=\"white\"></td><td style=\"border:solid;\" bgcolor=\"white\"><font color=\"black\">Obj: -0.69</font>, <font color=\"black\">VP_0: -0.69</font></td></tr>\n",
       "<tr><td>3: elephant</td><td style=\"border:none;\" bgcolor=\"white\"></td><td style=\"border:none;\" bgcolor=\"white\"></td><td style=\"border:none;\" bgcolor=\"white\"></td><td style=\"border:solid;\" bgcolor=\"white\"><font color=\"black\">Obj_6: 0.00</font>, <font color=\"black\">Obj_7_9: 0.00</font></td><td style=\"border:solid;\" bgcolor=\"white\"></td><td style=\"border:solid;\" bgcolor=\"white\"></td><td style=\"border:solid;\" bgcolor=\"white\"><font color=\"black\">Obj_7: 0.00</font></td></tr>\n",
       "<tr><td>4: in</td><td style=\"border:none;\" bgcolor=\"white\"></td><td style=\"border:none;\" bgcolor=\"white\"></td><td style=\"border:none;\" bgcolor=\"white\"></td><td style=\"border:none;\" bgcolor=\"white\"></td><td style=\"border:solid;\" bgcolor=\"white\"><font color=\"black\">PP_2: 0.00</font></td><td style=\"border:solid;\" bgcolor=\"white\"></td><td style=\"border:solid;\" bgcolor=\"#E1E1E1\"><font color=\"red\">PP: 0.00</font></td></tr>\n",
       "<tr><td>5: his</td><td style=\"border:none;\" bgcolor=\"white\"></td><td style=\"border:none;\" bgcolor=\"white\"></td><td style=\"border:none;\" bgcolor=\"white\"></td><td style=\"border:none;\" bgcolor=\"white\"></td><td style=\"border:none;\" bgcolor=\"white\"></td><td style=\"border:solid;\" bgcolor=\"white\"><font color=\"black\">PP_1_3: 0.00</font></td><td style=\"border:solid;\" bgcolor=\"white\"><font color=\"black\">PP_1: 0.00</font></td></tr>\n",
       "<tr><td>6: pyjamas</td><td style=\"border:none;\" bgcolor=\"white\"></td><td style=\"border:none;\" bgcolor=\"white\"></td><td style=\"border:none;\" bgcolor=\"white\"></td><td style=\"border:none;\" bgcolor=\"white\"></td><td style=\"border:none;\" bgcolor=\"white\"></td><td style=\"border:none;\" bgcolor=\"white\"></td><td style=\"border:solid;\" bgcolor=\"white\"><font color=\"black\">PP_1_4: 0.00</font></td></tr></table> 100 / 112</div>\n",
       "<div class=\"item\"><table><tr><td></td><td>0: He</td><td>1: shot</td><td>2: the</td><td>3: elephant</td><td>4: in</td><td>5: his</td><td>6: pyjamas</td></tr>\n",
       "<tr><td>0: He</td><td style=\"border:solid;\" bgcolor=\"white\"><font color=\"black\">Subj: 0.00</font></td><td style=\"border:solid;\" bgcolor=\"white\"></td><td style=\"border:solid;\" bgcolor=\"white\"></td><td style=\"border:solid;\" bgcolor=\"white\"><font color=\"black\">S: -1.90</font></td><td style=\"border:solid;\" bgcolor=\"white\"></td><td style=\"border:solid;\" bgcolor=\"white\"></td><td style=\"border:solid;\" bgcolor=\"white\"></td></tr>\n",
       "<tr><td>1: shot</td><td style=\"border:none;\" bgcolor=\"white\"></td><td style=\"border:solid;\" bgcolor=\"white\"><font color=\"black\">Verb: 0.00</font></td><td style=\"border:solid;\" bgcolor=\"white\"></td><td style=\"border:solid;\" bgcolor=\"white\"><font color=\"black\">VP: -1.90</font></td><td style=\"border:solid;\" bgcolor=\"#E1E1E1\"></td><td style=\"border:solid;\" bgcolor=\"white\"></td><td style=\"border:solid;\" bgcolor=\"#C3C3C3\"><font color=\"black\">VP: -1.05</font></td></tr>\n",
       "<tr><td>2: the</td><td style=\"border:none;\" bgcolor=\"white\"></td><td style=\"border:none;\" bgcolor=\"white\"></td><td style=\"border:solid;\" bgcolor=\"white\"><font color=\"black\">Obj_5: 0.00</font>, <font color=\"black\">Obj_8: 0.00</font></td><td style=\"border:solid;\" bgcolor=\"white\"><font color=\"black\">Obj: -0.69</font></td><td style=\"border:solid;\" bgcolor=\"white\"></td><td style=\"border:solid;\" bgcolor=\"white\"></td><td style=\"border:solid;\" bgcolor=\"white\"><font color=\"black\">Obj: -0.69</font>, <font color=\"black\">VP_0: -0.69</font></td></tr>\n",
       "<tr><td>3: elephant</td><td style=\"border:none;\" bgcolor=\"white\"></td><td style=\"border:none;\" bgcolor=\"white\"></td><td style=\"border:none;\" bgcolor=\"white\"></td><td style=\"border:solid;\" bgcolor=\"white\"><font color=\"black\">Obj_6: 0.00</font>, <font color=\"black\">Obj_7_9: 0.00</font></td><td style=\"border:solid;\" bgcolor=\"white\"></td><td style=\"border:solid;\" bgcolor=\"white\"></td><td style=\"border:solid;\" bgcolor=\"white\"><font color=\"black\">Obj_7: 0.00</font></td></tr>\n",
       "<tr><td>4: in</td><td style=\"border:none;\" bgcolor=\"white\"></td><td style=\"border:none;\" bgcolor=\"white\"></td><td style=\"border:none;\" bgcolor=\"white\"></td><td style=\"border:none;\" bgcolor=\"white\"></td><td style=\"border:solid;\" bgcolor=\"white\"><font color=\"black\">PP_2: 0.00</font></td><td style=\"border:solid;\" bgcolor=\"white\"></td><td style=\"border:solid;\" bgcolor=\"white\"><font color=\"black\">PP: 0.00</font></td></tr>\n",
       "<tr><td>5: his</td><td style=\"border:none;\" bgcolor=\"white\"></td><td style=\"border:none;\" bgcolor=\"white\"></td><td style=\"border:none;\" bgcolor=\"white\"></td><td style=\"border:none;\" bgcolor=\"white\"></td><td style=\"border:none;\" bgcolor=\"white\"></td><td style=\"border:solid;\" bgcolor=\"white\"><font color=\"black\">PP_1_3: 0.00</font></td><td style=\"border:solid;\" bgcolor=\"#E1E1E1\"><font color=\"black\">PP_1: 0.00</font></td></tr>\n",
       "<tr><td>6: pyjamas</td><td style=\"border:none;\" bgcolor=\"white\"></td><td style=\"border:none;\" bgcolor=\"white\"></td><td style=\"border:none;\" bgcolor=\"white\"></td><td style=\"border:none;\" bgcolor=\"white\"></td><td style=\"border:none;\" bgcolor=\"white\"></td><td style=\"border:none;\" bgcolor=\"white\"></td><td style=\"border:solid;\" bgcolor=\"white\"><font color=\"black\">PP_1_4: 0.00</font></td></tr></table> 101 / 112</div>\n",
       "<div class=\"item\"><table><tr><td></td><td>0: He</td><td>1: shot</td><td>2: the</td><td>3: elephant</td><td>4: in</td><td>5: his</td><td>6: pyjamas</td></tr>\n",
       "<tr><td>0: He</td><td style=\"border:solid;\" bgcolor=\"white\"><font color=\"black\">Subj: 0.00</font></td><td style=\"border:solid;\" bgcolor=\"white\"></td><td style=\"border:solid;\" bgcolor=\"white\"></td><td style=\"border:solid;\" bgcolor=\"white\"><font color=\"black\">S: -1.90</font></td><td style=\"border:solid;\" bgcolor=\"white\"></td><td style=\"border:solid;\" bgcolor=\"white\"></td><td style=\"border:solid;\" bgcolor=\"white\"></td></tr>\n",
       "<tr><td>1: shot</td><td style=\"border:none;\" bgcolor=\"white\"></td><td style=\"border:solid;\" bgcolor=\"white\"><font color=\"black\">Verb: 0.00</font></td><td style=\"border:solid;\" bgcolor=\"white\"></td><td style=\"border:solid;\" bgcolor=\"white\"><font color=\"black\">VP: -1.90</font></td><td style=\"border:solid;\" bgcolor=\"white\"></td><td style=\"border:solid;\" bgcolor=\"#E1E1E1\"></td><td style=\"border:solid;\" bgcolor=\"#C3C3C3\"><font color=\"black\">VP: -1.05</font></td></tr>\n",
       "<tr><td>2: the</td><td style=\"border:none;\" bgcolor=\"white\"></td><td style=\"border:none;\" bgcolor=\"white\"></td><td style=\"border:solid;\" bgcolor=\"white\"><font color=\"black\">Obj_5: 0.00</font>, <font color=\"black\">Obj_8: 0.00</font></td><td style=\"border:solid;\" bgcolor=\"white\"><font color=\"black\">Obj: -0.69</font></td><td style=\"border:solid;\" bgcolor=\"white\"></td><td style=\"border:solid;\" bgcolor=\"white\"></td><td style=\"border:solid;\" bgcolor=\"white\"><font color=\"black\">Obj: -0.69</font>, <font color=\"black\">VP_0: -0.69</font></td></tr>\n",
       "<tr><td>3: elephant</td><td style=\"border:none;\" bgcolor=\"white\"></td><td style=\"border:none;\" bgcolor=\"white\"></td><td style=\"border:none;\" bgcolor=\"white\"></td><td style=\"border:solid;\" bgcolor=\"white\"><font color=\"black\">Obj_6: 0.00</font>, <font color=\"black\">Obj_7_9: 0.00</font></td><td style=\"border:solid;\" bgcolor=\"white\"></td><td style=\"border:solid;\" bgcolor=\"white\"></td><td style=\"border:solid;\" bgcolor=\"white\"><font color=\"black\">Obj_7: 0.00</font></td></tr>\n",
       "<tr><td>4: in</td><td style=\"border:none;\" bgcolor=\"white\"></td><td style=\"border:none;\" bgcolor=\"white\"></td><td style=\"border:none;\" bgcolor=\"white\"></td><td style=\"border:none;\" bgcolor=\"white\"></td><td style=\"border:solid;\" bgcolor=\"white\"><font color=\"black\">PP_2: 0.00</font></td><td style=\"border:solid;\" bgcolor=\"white\"></td><td style=\"border:solid;\" bgcolor=\"white\"><font color=\"black\">PP: 0.00</font></td></tr>\n",
       "<tr><td>5: his</td><td style=\"border:none;\" bgcolor=\"white\"></td><td style=\"border:none;\" bgcolor=\"white\"></td><td style=\"border:none;\" bgcolor=\"white\"></td><td style=\"border:none;\" bgcolor=\"white\"></td><td style=\"border:none;\" bgcolor=\"white\"></td><td style=\"border:solid;\" bgcolor=\"white\"><font color=\"black\">PP_1_3: 0.00</font></td><td style=\"border:solid;\" bgcolor=\"white\"><font color=\"black\">PP_1: 0.00</font></td></tr>\n",
       "<tr><td>6: pyjamas</td><td style=\"border:none;\" bgcolor=\"white\"></td><td style=\"border:none;\" bgcolor=\"white\"></td><td style=\"border:none;\" bgcolor=\"white\"></td><td style=\"border:none;\" bgcolor=\"white\"></td><td style=\"border:none;\" bgcolor=\"white\"></td><td style=\"border:none;\" bgcolor=\"white\"></td><td style=\"border:solid;\" bgcolor=\"#E1E1E1\"><font color=\"black\">PP_1_4: 0.00</font></td></tr></table> 102 / 112</div>\n",
       "<div class=\"item\"><table><tr><td></td><td>0: He</td><td>1: shot</td><td>2: the</td><td>3: elephant</td><td>4: in</td><td>5: his</td><td>6: pyjamas</td></tr>\n",
       "<tr><td>0: He</td><td style=\"border:solid;\" bgcolor=\"#E1E1E1\"><font color=\"black\">Subj: 0.00</font></td><td style=\"border:solid;\" bgcolor=\"white\"></td><td style=\"border:solid;\" bgcolor=\"white\"></td><td style=\"border:solid;\" bgcolor=\"white\"><font color=\"black\">S: -1.90</font></td><td style=\"border:solid;\" bgcolor=\"white\"></td><td style=\"border:solid;\" bgcolor=\"white\"></td><td style=\"border:solid;\" bgcolor=\"#C3C3C3\"></td></tr>\n",
       "<tr><td>1: shot</td><td style=\"border:none;\" bgcolor=\"white\"></td><td style=\"border:solid;\" bgcolor=\"white\"><font color=\"black\">Verb: 0.00</font></td><td style=\"border:solid;\" bgcolor=\"white\"></td><td style=\"border:solid;\" bgcolor=\"white\"><font color=\"black\">VP: -1.90</font></td><td style=\"border:solid;\" bgcolor=\"white\"></td><td style=\"border:solid;\" bgcolor=\"white\"></td><td style=\"border:solid;\" bgcolor=\"#E1E1E1\"><font color=\"black\">VP: -1.05</font></td></tr>\n",
       "<tr><td>2: the</td><td style=\"border:none;\" bgcolor=\"white\"></td><td style=\"border:none;\" bgcolor=\"white\"></td><td style=\"border:solid;\" bgcolor=\"white\"><font color=\"black\">Obj_5: 0.00</font>, <font color=\"black\">Obj_8: 0.00</font></td><td style=\"border:solid;\" bgcolor=\"white\"><font color=\"black\">Obj: -0.69</font></td><td style=\"border:solid;\" bgcolor=\"white\"></td><td style=\"border:solid;\" bgcolor=\"white\"></td><td style=\"border:solid;\" bgcolor=\"white\"><font color=\"black\">Obj: -0.69</font>, <font color=\"black\">VP_0: -0.69</font></td></tr>\n",
       "<tr><td>3: elephant</td><td style=\"border:none;\" bgcolor=\"white\"></td><td style=\"border:none;\" bgcolor=\"white\"></td><td style=\"border:none;\" bgcolor=\"white\"></td><td style=\"border:solid;\" bgcolor=\"white\"><font color=\"black\">Obj_6: 0.00</font>, <font color=\"black\">Obj_7_9: 0.00</font></td><td style=\"border:solid;\" bgcolor=\"white\"></td><td style=\"border:solid;\" bgcolor=\"white\"></td><td style=\"border:solid;\" bgcolor=\"white\"><font color=\"black\">Obj_7: 0.00</font></td></tr>\n",
       "<tr><td>4: in</td><td style=\"border:none;\" bgcolor=\"white\"></td><td style=\"border:none;\" bgcolor=\"white\"></td><td style=\"border:none;\" bgcolor=\"white\"></td><td style=\"border:none;\" bgcolor=\"white\"></td><td style=\"border:solid;\" bgcolor=\"white\"><font color=\"black\">PP_2: 0.00</font></td><td style=\"border:solid;\" bgcolor=\"white\"></td><td style=\"border:solid;\" bgcolor=\"white\"><font color=\"black\">PP: 0.00</font></td></tr>\n",
       "<tr><td>5: his</td><td style=\"border:none;\" bgcolor=\"white\"></td><td style=\"border:none;\" bgcolor=\"white\"></td><td style=\"border:none;\" bgcolor=\"white\"></td><td style=\"border:none;\" bgcolor=\"white\"></td><td style=\"border:none;\" bgcolor=\"white\"></td><td style=\"border:solid;\" bgcolor=\"white\"><font color=\"black\">PP_1_3: 0.00</font></td><td style=\"border:solid;\" bgcolor=\"white\"><font color=\"black\">PP_1: 0.00</font></td></tr>\n",
       "<tr><td>6: pyjamas</td><td style=\"border:none;\" bgcolor=\"white\"></td><td style=\"border:none;\" bgcolor=\"white\"></td><td style=\"border:none;\" bgcolor=\"white\"></td><td style=\"border:none;\" bgcolor=\"white\"></td><td style=\"border:none;\" bgcolor=\"white\"></td><td style=\"border:none;\" bgcolor=\"white\"></td><td style=\"border:solid;\" bgcolor=\"white\"><font color=\"black\">PP_1_4: 0.00</font></td></tr></table> 103 / 112</div>\n",
       "<div class=\"item\"><table><tr><td></td><td>0: He</td><td>1: shot</td><td>2: the</td><td>3: elephant</td><td>4: in</td><td>5: his</td><td>6: pyjamas</td></tr>\n",
       "<tr><td>0: He</td><td style=\"border:solid;\" bgcolor=\"#E1E1E1\"><font color=\"red\">Subj: 0.00</font></td><td style=\"border:solid;\" bgcolor=\"white\"></td><td style=\"border:solid;\" bgcolor=\"white\"></td><td style=\"border:solid;\" bgcolor=\"white\"><font color=\"black\">S: -1.90</font></td><td style=\"border:solid;\" bgcolor=\"white\"></td><td style=\"border:solid;\" bgcolor=\"white\"></td><td style=\"border:solid;\" bgcolor=\"#C3C3C3\"></td></tr>\n",
       "<tr><td>1: shot</td><td style=\"border:none;\" bgcolor=\"white\"></td><td style=\"border:solid;\" bgcolor=\"white\"><font color=\"black\">Verb: 0.00</font></td><td style=\"border:solid;\" bgcolor=\"white\"></td><td style=\"border:solid;\" bgcolor=\"white\"><font color=\"black\">VP: -1.90</font></td><td style=\"border:solid;\" bgcolor=\"white\"></td><td style=\"border:solid;\" bgcolor=\"white\"></td><td style=\"border:solid;\" bgcolor=\"#E1E1E1\"><font color=\"red\">VP: -1.05</font></td></tr>\n",
       "<tr><td>2: the</td><td style=\"border:none;\" bgcolor=\"white\"></td><td style=\"border:none;\" bgcolor=\"white\"></td><td style=\"border:solid;\" bgcolor=\"white\"><font color=\"black\">Obj_5: 0.00</font>, <font color=\"black\">Obj_8: 0.00</font></td><td style=\"border:solid;\" bgcolor=\"white\"><font color=\"black\">Obj: -0.69</font></td><td style=\"border:solid;\" bgcolor=\"white\"></td><td style=\"border:solid;\" bgcolor=\"white\"></td><td style=\"border:solid;\" bgcolor=\"white\"><font color=\"black\">Obj: -0.69</font>, <font color=\"black\">VP_0: -0.69</font></td></tr>\n",
       "<tr><td>3: elephant</td><td style=\"border:none;\" bgcolor=\"white\"></td><td style=\"border:none;\" bgcolor=\"white\"></td><td style=\"border:none;\" bgcolor=\"white\"></td><td style=\"border:solid;\" bgcolor=\"white\"><font color=\"black\">Obj_6: 0.00</font>, <font color=\"black\">Obj_7_9: 0.00</font></td><td style=\"border:solid;\" bgcolor=\"white\"></td><td style=\"border:solid;\" bgcolor=\"white\"></td><td style=\"border:solid;\" bgcolor=\"white\"><font color=\"black\">Obj_7: 0.00</font></td></tr>\n",
       "<tr><td>4: in</td><td style=\"border:none;\" bgcolor=\"white\"></td><td style=\"border:none;\" bgcolor=\"white\"></td><td style=\"border:none;\" bgcolor=\"white\"></td><td style=\"border:none;\" bgcolor=\"white\"></td><td style=\"border:solid;\" bgcolor=\"white\"><font color=\"black\">PP_2: 0.00</font></td><td style=\"border:solid;\" bgcolor=\"white\"></td><td style=\"border:solid;\" bgcolor=\"white\"><font color=\"black\">PP: 0.00</font></td></tr>\n",
       "<tr><td>5: his</td><td style=\"border:none;\" bgcolor=\"white\"></td><td style=\"border:none;\" bgcolor=\"white\"></td><td style=\"border:none;\" bgcolor=\"white\"></td><td style=\"border:none;\" bgcolor=\"white\"></td><td style=\"border:none;\" bgcolor=\"white\"></td><td style=\"border:solid;\" bgcolor=\"white\"><font color=\"black\">PP_1_3: 0.00</font></td><td style=\"border:solid;\" bgcolor=\"white\"><font color=\"black\">PP_1: 0.00</font></td></tr>\n",
       "<tr><td>6: pyjamas</td><td style=\"border:none;\" bgcolor=\"white\"></td><td style=\"border:none;\" bgcolor=\"white\"></td><td style=\"border:none;\" bgcolor=\"white\"></td><td style=\"border:none;\" bgcolor=\"white\"></td><td style=\"border:none;\" bgcolor=\"white\"></td><td style=\"border:none;\" bgcolor=\"white\"></td><td style=\"border:solid;\" bgcolor=\"white\"><font color=\"black\">PP_1_4: 0.00</font></td></tr></table> 104 / 112</div>\n",
       "<div class=\"item\"><table><tr><td></td><td>0: He</td><td>1: shot</td><td>2: the</td><td>3: elephant</td><td>4: in</td><td>5: his</td><td>6: pyjamas</td></tr>\n",
       "<tr><td>0: He</td><td style=\"border:solid;\" bgcolor=\"#E1E1E1\"><font color=\"red\">Subj: 0.00</font></td><td style=\"border:solid;\" bgcolor=\"white\"></td><td style=\"border:solid;\" bgcolor=\"white\"></td><td style=\"border:solid;\" bgcolor=\"white\"><font color=\"black\">S: -1.90</font></td><td style=\"border:solid;\" bgcolor=\"white\"></td><td style=\"border:solid;\" bgcolor=\"white\"></td><td style=\"border:solid;\" bgcolor=\"#C3C3C3\"><font color=\"blue\">S: -1.05</font></td></tr>\n",
       "<tr><td>1: shot</td><td style=\"border:none;\" bgcolor=\"white\"></td><td style=\"border:solid;\" bgcolor=\"white\"><font color=\"black\">Verb: 0.00</font></td><td style=\"border:solid;\" bgcolor=\"white\"></td><td style=\"border:solid;\" bgcolor=\"white\"><font color=\"black\">VP: -1.90</font></td><td style=\"border:solid;\" bgcolor=\"white\"></td><td style=\"border:solid;\" bgcolor=\"white\"></td><td style=\"border:solid;\" bgcolor=\"#E1E1E1\"><font color=\"red\">VP: -1.05</font></td></tr>\n",
       "<tr><td>2: the</td><td style=\"border:none;\" bgcolor=\"white\"></td><td style=\"border:none;\" bgcolor=\"white\"></td><td style=\"border:solid;\" bgcolor=\"white\"><font color=\"black\">Obj_5: 0.00</font>, <font color=\"black\">Obj_8: 0.00</font></td><td style=\"border:solid;\" bgcolor=\"white\"><font color=\"black\">Obj: -0.69</font></td><td style=\"border:solid;\" bgcolor=\"white\"></td><td style=\"border:solid;\" bgcolor=\"white\"></td><td style=\"border:solid;\" bgcolor=\"white\"><font color=\"black\">Obj: -0.69</font>, <font color=\"black\">VP_0: -0.69</font></td></tr>\n",
       "<tr><td>3: elephant</td><td style=\"border:none;\" bgcolor=\"white\"></td><td style=\"border:none;\" bgcolor=\"white\"></td><td style=\"border:none;\" bgcolor=\"white\"></td><td style=\"border:solid;\" bgcolor=\"white\"><font color=\"black\">Obj_6: 0.00</font>, <font color=\"black\">Obj_7_9: 0.00</font></td><td style=\"border:solid;\" bgcolor=\"white\"></td><td style=\"border:solid;\" bgcolor=\"white\"></td><td style=\"border:solid;\" bgcolor=\"white\"><font color=\"black\">Obj_7: 0.00</font></td></tr>\n",
       "<tr><td>4: in</td><td style=\"border:none;\" bgcolor=\"white\"></td><td style=\"border:none;\" bgcolor=\"white\"></td><td style=\"border:none;\" bgcolor=\"white\"></td><td style=\"border:none;\" bgcolor=\"white\"></td><td style=\"border:solid;\" bgcolor=\"white\"><font color=\"black\">PP_2: 0.00</font></td><td style=\"border:solid;\" bgcolor=\"white\"></td><td style=\"border:solid;\" bgcolor=\"white\"><font color=\"black\">PP: 0.00</font></td></tr>\n",
       "<tr><td>5: his</td><td style=\"border:none;\" bgcolor=\"white\"></td><td style=\"border:none;\" bgcolor=\"white\"></td><td style=\"border:none;\" bgcolor=\"white\"></td><td style=\"border:none;\" bgcolor=\"white\"></td><td style=\"border:none;\" bgcolor=\"white\"></td><td style=\"border:solid;\" bgcolor=\"white\"><font color=\"black\">PP_1_3: 0.00</font></td><td style=\"border:solid;\" bgcolor=\"white\"><font color=\"black\">PP_1: 0.00</font></td></tr>\n",
       "<tr><td>6: pyjamas</td><td style=\"border:none;\" bgcolor=\"white\"></td><td style=\"border:none;\" bgcolor=\"white\"></td><td style=\"border:none;\" bgcolor=\"white\"></td><td style=\"border:none;\" bgcolor=\"white\"></td><td style=\"border:none;\" bgcolor=\"white\"></td><td style=\"border:none;\" bgcolor=\"white\"></td><td style=\"border:solid;\" bgcolor=\"white\"><font color=\"black\">PP_1_4: 0.00</font></td></tr></table> 105 / 112</div>\n",
       "<div class=\"item\"><table><tr><td></td><td>0: He</td><td>1: shot</td><td>2: the</td><td>3: elephant</td><td>4: in</td><td>5: his</td><td>6: pyjamas</td></tr>\n",
       "<tr><td>0: He</td><td style=\"border:solid;\" bgcolor=\"white\"><font color=\"black\">Subj: 0.00</font></td><td style=\"border:solid;\" bgcolor=\"#E1E1E1\"></td><td style=\"border:solid;\" bgcolor=\"white\"></td><td style=\"border:solid;\" bgcolor=\"white\"><font color=\"black\">S: -1.90</font></td><td style=\"border:solid;\" bgcolor=\"white\"></td><td style=\"border:solid;\" bgcolor=\"white\"></td><td style=\"border:solid;\" bgcolor=\"#C3C3C3\"><font color=\"black\">S: -1.05</font></td></tr>\n",
       "<tr><td>1: shot</td><td style=\"border:none;\" bgcolor=\"white\"></td><td style=\"border:solid;\" bgcolor=\"white\"><font color=\"black\">Verb: 0.00</font></td><td style=\"border:solid;\" bgcolor=\"white\"></td><td style=\"border:solid;\" bgcolor=\"white\"><font color=\"black\">VP: -1.90</font></td><td style=\"border:solid;\" bgcolor=\"white\"></td><td style=\"border:solid;\" bgcolor=\"white\"></td><td style=\"border:solid;\" bgcolor=\"white\"><font color=\"black\">VP: -1.05</font></td></tr>\n",
       "<tr><td>2: the</td><td style=\"border:none;\" bgcolor=\"white\"></td><td style=\"border:none;\" bgcolor=\"white\"></td><td style=\"border:solid;\" bgcolor=\"white\"><font color=\"black\">Obj_5: 0.00</font>, <font color=\"black\">Obj_8: 0.00</font></td><td style=\"border:solid;\" bgcolor=\"white\"><font color=\"black\">Obj: -0.69</font></td><td style=\"border:solid;\" bgcolor=\"white\"></td><td style=\"border:solid;\" bgcolor=\"white\"></td><td style=\"border:solid;\" bgcolor=\"#E1E1E1\"><font color=\"black\">Obj: -0.69</font>, <font color=\"black\">VP_0: -0.69</font></td></tr>\n",
       "<tr><td>3: elephant</td><td style=\"border:none;\" bgcolor=\"white\"></td><td style=\"border:none;\" bgcolor=\"white\"></td><td style=\"border:none;\" bgcolor=\"white\"></td><td style=\"border:solid;\" bgcolor=\"white\"><font color=\"black\">Obj_6: 0.00</font>, <font color=\"black\">Obj_7_9: 0.00</font></td><td style=\"border:solid;\" bgcolor=\"white\"></td><td style=\"border:solid;\" bgcolor=\"white\"></td><td style=\"border:solid;\" bgcolor=\"white\"><font color=\"black\">Obj_7: 0.00</font></td></tr>\n",
       "<tr><td>4: in</td><td style=\"border:none;\" bgcolor=\"white\"></td><td style=\"border:none;\" bgcolor=\"white\"></td><td style=\"border:none;\" bgcolor=\"white\"></td><td style=\"border:none;\" bgcolor=\"white\"></td><td style=\"border:solid;\" bgcolor=\"white\"><font color=\"black\">PP_2: 0.00</font></td><td style=\"border:solid;\" bgcolor=\"white\"></td><td style=\"border:solid;\" bgcolor=\"white\"><font color=\"black\">PP: 0.00</font></td></tr>\n",
       "<tr><td>5: his</td><td style=\"border:none;\" bgcolor=\"white\"></td><td style=\"border:none;\" bgcolor=\"white\"></td><td style=\"border:none;\" bgcolor=\"white\"></td><td style=\"border:none;\" bgcolor=\"white\"></td><td style=\"border:none;\" bgcolor=\"white\"></td><td style=\"border:solid;\" bgcolor=\"white\"><font color=\"black\">PP_1_3: 0.00</font></td><td style=\"border:solid;\" bgcolor=\"white\"><font color=\"black\">PP_1: 0.00</font></td></tr>\n",
       "<tr><td>6: pyjamas</td><td style=\"border:none;\" bgcolor=\"white\"></td><td style=\"border:none;\" bgcolor=\"white\"></td><td style=\"border:none;\" bgcolor=\"white\"></td><td style=\"border:none;\" bgcolor=\"white\"></td><td style=\"border:none;\" bgcolor=\"white\"></td><td style=\"border:none;\" bgcolor=\"white\"></td><td style=\"border:solid;\" bgcolor=\"white\"><font color=\"black\">PP_1_4: 0.00</font></td></tr></table> 106 / 112</div>\n",
       "<div class=\"item\"><table><tr><td></td><td>0: He</td><td>1: shot</td><td>2: the</td><td>3: elephant</td><td>4: in</td><td>5: his</td><td>6: pyjamas</td></tr>\n",
       "<tr><td>0: He</td><td style=\"border:solid;\" bgcolor=\"white\"><font color=\"black\">Subj: 0.00</font></td><td style=\"border:solid;\" bgcolor=\"white\"></td><td style=\"border:solid;\" bgcolor=\"#E1E1E1\"></td><td style=\"border:solid;\" bgcolor=\"white\"><font color=\"black\">S: -1.90</font></td><td style=\"border:solid;\" bgcolor=\"white\"></td><td style=\"border:solid;\" bgcolor=\"white\"></td><td style=\"border:solid;\" bgcolor=\"#C3C3C3\"><font color=\"black\">S: -1.05</font></td></tr>\n",
       "<tr><td>1: shot</td><td style=\"border:none;\" bgcolor=\"white\"></td><td style=\"border:solid;\" bgcolor=\"white\"><font color=\"black\">Verb: 0.00</font></td><td style=\"border:solid;\" bgcolor=\"white\"></td><td style=\"border:solid;\" bgcolor=\"white\"><font color=\"black\">VP: -1.90</font></td><td style=\"border:solid;\" bgcolor=\"white\"></td><td style=\"border:solid;\" bgcolor=\"white\"></td><td style=\"border:solid;\" bgcolor=\"white\"><font color=\"black\">VP: -1.05</font></td></tr>\n",
       "<tr><td>2: the</td><td style=\"border:none;\" bgcolor=\"white\"></td><td style=\"border:none;\" bgcolor=\"white\"></td><td style=\"border:solid;\" bgcolor=\"white\"><font color=\"black\">Obj_5: 0.00</font>, <font color=\"black\">Obj_8: 0.00</font></td><td style=\"border:solid;\" bgcolor=\"white\"><font color=\"black\">Obj: -0.69</font></td><td style=\"border:solid;\" bgcolor=\"white\"></td><td style=\"border:solid;\" bgcolor=\"white\"></td><td style=\"border:solid;\" bgcolor=\"white\"><font color=\"black\">Obj: -0.69</font>, <font color=\"black\">VP_0: -0.69</font></td></tr>\n",
       "<tr><td>3: elephant</td><td style=\"border:none;\" bgcolor=\"white\"></td><td style=\"border:none;\" bgcolor=\"white\"></td><td style=\"border:none;\" bgcolor=\"white\"></td><td style=\"border:solid;\" bgcolor=\"white\"><font color=\"black\">Obj_6: 0.00</font>, <font color=\"black\">Obj_7_9: 0.00</font></td><td style=\"border:solid;\" bgcolor=\"white\"></td><td style=\"border:solid;\" bgcolor=\"white\"></td><td style=\"border:solid;\" bgcolor=\"#E1E1E1\"><font color=\"black\">Obj_7: 0.00</font></td></tr>\n",
       "<tr><td>4: in</td><td style=\"border:none;\" bgcolor=\"white\"></td><td style=\"border:none;\" bgcolor=\"white\"></td><td style=\"border:none;\" bgcolor=\"white\"></td><td style=\"border:none;\" bgcolor=\"white\"></td><td style=\"border:solid;\" bgcolor=\"white\"><font color=\"black\">PP_2: 0.00</font></td><td style=\"border:solid;\" bgcolor=\"white\"></td><td style=\"border:solid;\" bgcolor=\"white\"><font color=\"black\">PP: 0.00</font></td></tr>\n",
       "<tr><td>5: his</td><td style=\"border:none;\" bgcolor=\"white\"></td><td style=\"border:none;\" bgcolor=\"white\"></td><td style=\"border:none;\" bgcolor=\"white\"></td><td style=\"border:none;\" bgcolor=\"white\"></td><td style=\"border:none;\" bgcolor=\"white\"></td><td style=\"border:solid;\" bgcolor=\"white\"><font color=\"black\">PP_1_3: 0.00</font></td><td style=\"border:solid;\" bgcolor=\"white\"><font color=\"black\">PP_1: 0.00</font></td></tr>\n",
       "<tr><td>6: pyjamas</td><td style=\"border:none;\" bgcolor=\"white\"></td><td style=\"border:none;\" bgcolor=\"white\"></td><td style=\"border:none;\" bgcolor=\"white\"></td><td style=\"border:none;\" bgcolor=\"white\"></td><td style=\"border:none;\" bgcolor=\"white\"></td><td style=\"border:none;\" bgcolor=\"white\"></td><td style=\"border:solid;\" bgcolor=\"white\"><font color=\"black\">PP_1_4: 0.00</font></td></tr></table> 107 / 112</div>\n",
       "<div class=\"item\"><table><tr><td></td><td>0: He</td><td>1: shot</td><td>2: the</td><td>3: elephant</td><td>4: in</td><td>5: his</td><td>6: pyjamas</td></tr>\n",
       "<tr><td>0: He</td><td style=\"border:solid;\" bgcolor=\"white\"><font color=\"black\">Subj: 0.00</font></td><td style=\"border:solid;\" bgcolor=\"white\"></td><td style=\"border:solid;\" bgcolor=\"white\"></td><td style=\"border:solid;\" bgcolor=\"#E1E1E1\"><font color=\"black\">S: -1.90</font></td><td style=\"border:solid;\" bgcolor=\"white\"></td><td style=\"border:solid;\" bgcolor=\"white\"></td><td style=\"border:solid;\" bgcolor=\"#C3C3C3\"><font color=\"black\">S: -1.05</font></td></tr>\n",
       "<tr><td>1: shot</td><td style=\"border:none;\" bgcolor=\"white\"></td><td style=\"border:solid;\" bgcolor=\"white\"><font color=\"black\">Verb: 0.00</font></td><td style=\"border:solid;\" bgcolor=\"white\"></td><td style=\"border:solid;\" bgcolor=\"white\"><font color=\"black\">VP: -1.90</font></td><td style=\"border:solid;\" bgcolor=\"white\"></td><td style=\"border:solid;\" bgcolor=\"white\"></td><td style=\"border:solid;\" bgcolor=\"white\"><font color=\"black\">VP: -1.05</font></td></tr>\n",
       "<tr><td>2: the</td><td style=\"border:none;\" bgcolor=\"white\"></td><td style=\"border:none;\" bgcolor=\"white\"></td><td style=\"border:solid;\" bgcolor=\"white\"><font color=\"black\">Obj_5: 0.00</font>, <font color=\"black\">Obj_8: 0.00</font></td><td style=\"border:solid;\" bgcolor=\"white\"><font color=\"black\">Obj: -0.69</font></td><td style=\"border:solid;\" bgcolor=\"white\"></td><td style=\"border:solid;\" bgcolor=\"white\"></td><td style=\"border:solid;\" bgcolor=\"white\"><font color=\"black\">Obj: -0.69</font>, <font color=\"black\">VP_0: -0.69</font></td></tr>\n",
       "<tr><td>3: elephant</td><td style=\"border:none;\" bgcolor=\"white\"></td><td style=\"border:none;\" bgcolor=\"white\"></td><td style=\"border:none;\" bgcolor=\"white\"></td><td style=\"border:solid;\" bgcolor=\"white\"><font color=\"black\">Obj_6: 0.00</font>, <font color=\"black\">Obj_7_9: 0.00</font></td><td style=\"border:solid;\" bgcolor=\"white\"></td><td style=\"border:solid;\" bgcolor=\"white\"></td><td style=\"border:solid;\" bgcolor=\"white\"><font color=\"black\">Obj_7: 0.00</font></td></tr>\n",
       "<tr><td>4: in</td><td style=\"border:none;\" bgcolor=\"white\"></td><td style=\"border:none;\" bgcolor=\"white\"></td><td style=\"border:none;\" bgcolor=\"white\"></td><td style=\"border:none;\" bgcolor=\"white\"></td><td style=\"border:solid;\" bgcolor=\"white\"><font color=\"black\">PP_2: 0.00</font></td><td style=\"border:solid;\" bgcolor=\"white\"></td><td style=\"border:solid;\" bgcolor=\"#E1E1E1\"><font color=\"black\">PP: 0.00</font></td></tr>\n",
       "<tr><td>5: his</td><td style=\"border:none;\" bgcolor=\"white\"></td><td style=\"border:none;\" bgcolor=\"white\"></td><td style=\"border:none;\" bgcolor=\"white\"></td><td style=\"border:none;\" bgcolor=\"white\"></td><td style=\"border:none;\" bgcolor=\"white\"></td><td style=\"border:solid;\" bgcolor=\"white\"><font color=\"black\">PP_1_3: 0.00</font></td><td style=\"border:solid;\" bgcolor=\"white\"><font color=\"black\">PP_1: 0.00</font></td></tr>\n",
       "<tr><td>6: pyjamas</td><td style=\"border:none;\" bgcolor=\"white\"></td><td style=\"border:none;\" bgcolor=\"white\"></td><td style=\"border:none;\" bgcolor=\"white\"></td><td style=\"border:none;\" bgcolor=\"white\"></td><td style=\"border:none;\" bgcolor=\"white\"></td><td style=\"border:none;\" bgcolor=\"white\"></td><td style=\"border:solid;\" bgcolor=\"white\"><font color=\"black\">PP_1_4: 0.00</font></td></tr></table> 108 / 112</div>\n",
       "<div class=\"item\"><table><tr><td></td><td>0: He</td><td>1: shot</td><td>2: the</td><td>3: elephant</td><td>4: in</td><td>5: his</td><td>6: pyjamas</td></tr>\n",
       "<tr><td>0: He</td><td style=\"border:solid;\" bgcolor=\"white\"><font color=\"black\">Subj: 0.00</font></td><td style=\"border:solid;\" bgcolor=\"white\"></td><td style=\"border:solid;\" bgcolor=\"white\"></td><td style=\"border:solid;\" bgcolor=\"#E1E1E1\"><font color=\"red\">S: -1.90</font></td><td style=\"border:solid;\" bgcolor=\"white\"></td><td style=\"border:solid;\" bgcolor=\"white\"></td><td style=\"border:solid;\" bgcolor=\"#C3C3C3\"><font color=\"black\">S: -1.05</font></td></tr>\n",
       "<tr><td>1: shot</td><td style=\"border:none;\" bgcolor=\"white\"></td><td style=\"border:solid;\" bgcolor=\"white\"><font color=\"black\">Verb: 0.00</font></td><td style=\"border:solid;\" bgcolor=\"white\"></td><td style=\"border:solid;\" bgcolor=\"white\"><font color=\"black\">VP: -1.90</font></td><td style=\"border:solid;\" bgcolor=\"white\"></td><td style=\"border:solid;\" bgcolor=\"white\"></td><td style=\"border:solid;\" bgcolor=\"white\"><font color=\"black\">VP: -1.05</font></td></tr>\n",
       "<tr><td>2: the</td><td style=\"border:none;\" bgcolor=\"white\"></td><td style=\"border:none;\" bgcolor=\"white\"></td><td style=\"border:solid;\" bgcolor=\"white\"><font color=\"black\">Obj_5: 0.00</font>, <font color=\"black\">Obj_8: 0.00</font></td><td style=\"border:solid;\" bgcolor=\"white\"><font color=\"black\">Obj: -0.69</font></td><td style=\"border:solid;\" bgcolor=\"white\"></td><td style=\"border:solid;\" bgcolor=\"white\"></td><td style=\"border:solid;\" bgcolor=\"white\"><font color=\"black\">Obj: -0.69</font>, <font color=\"black\">VP_0: -0.69</font></td></tr>\n",
       "<tr><td>3: elephant</td><td style=\"border:none;\" bgcolor=\"white\"></td><td style=\"border:none;\" bgcolor=\"white\"></td><td style=\"border:none;\" bgcolor=\"white\"></td><td style=\"border:solid;\" bgcolor=\"white\"><font color=\"black\">Obj_6: 0.00</font>, <font color=\"black\">Obj_7_9: 0.00</font></td><td style=\"border:solid;\" bgcolor=\"white\"></td><td style=\"border:solid;\" bgcolor=\"white\"></td><td style=\"border:solid;\" bgcolor=\"white\"><font color=\"black\">Obj_7: 0.00</font></td></tr>\n",
       "<tr><td>4: in</td><td style=\"border:none;\" bgcolor=\"white\"></td><td style=\"border:none;\" bgcolor=\"white\"></td><td style=\"border:none;\" bgcolor=\"white\"></td><td style=\"border:none;\" bgcolor=\"white\"></td><td style=\"border:solid;\" bgcolor=\"white\"><font color=\"black\">PP_2: 0.00</font></td><td style=\"border:solid;\" bgcolor=\"white\"></td><td style=\"border:solid;\" bgcolor=\"#E1E1E1\"><font color=\"red\">PP: 0.00</font></td></tr>\n",
       "<tr><td>5: his</td><td style=\"border:none;\" bgcolor=\"white\"></td><td style=\"border:none;\" bgcolor=\"white\"></td><td style=\"border:none;\" bgcolor=\"white\"></td><td style=\"border:none;\" bgcolor=\"white\"></td><td style=\"border:none;\" bgcolor=\"white\"></td><td style=\"border:solid;\" bgcolor=\"white\"><font color=\"black\">PP_1_3: 0.00</font></td><td style=\"border:solid;\" bgcolor=\"white\"><font color=\"black\">PP_1: 0.00</font></td></tr>\n",
       "<tr><td>6: pyjamas</td><td style=\"border:none;\" bgcolor=\"white\"></td><td style=\"border:none;\" bgcolor=\"white\"></td><td style=\"border:none;\" bgcolor=\"white\"></td><td style=\"border:none;\" bgcolor=\"white\"></td><td style=\"border:none;\" bgcolor=\"white\"></td><td style=\"border:none;\" bgcolor=\"white\"></td><td style=\"border:solid;\" bgcolor=\"white\"><font color=\"black\">PP_1_4: 0.00</font></td></tr></table> 109 / 112</div>\n",
       "<div class=\"item\"><table><tr><td></td><td>0: He</td><td>1: shot</td><td>2: the</td><td>3: elephant</td><td>4: in</td><td>5: his</td><td>6: pyjamas</td></tr>\n",
       "<tr><td>0: He</td><td style=\"border:solid;\" bgcolor=\"white\"><font color=\"black\">Subj: 0.00</font></td><td style=\"border:solid;\" bgcolor=\"white\"></td><td style=\"border:solid;\" bgcolor=\"white\"></td><td style=\"border:solid;\" bgcolor=\"white\"><font color=\"black\">S: -1.90</font></td><td style=\"border:solid;\" bgcolor=\"#E1E1E1\"></td><td style=\"border:solid;\" bgcolor=\"white\"></td><td style=\"border:solid;\" bgcolor=\"#C3C3C3\"><font color=\"black\">S: -1.05</font></td></tr>\n",
       "<tr><td>1: shot</td><td style=\"border:none;\" bgcolor=\"white\"></td><td style=\"border:solid;\" bgcolor=\"white\"><font color=\"black\">Verb: 0.00</font></td><td style=\"border:solid;\" bgcolor=\"white\"></td><td style=\"border:solid;\" bgcolor=\"white\"><font color=\"black\">VP: -1.90</font></td><td style=\"border:solid;\" bgcolor=\"white\"></td><td style=\"border:solid;\" bgcolor=\"white\"></td><td style=\"border:solid;\" bgcolor=\"white\"><font color=\"black\">VP: -1.05</font></td></tr>\n",
       "<tr><td>2: the</td><td style=\"border:none;\" bgcolor=\"white\"></td><td style=\"border:none;\" bgcolor=\"white\"></td><td style=\"border:solid;\" bgcolor=\"white\"><font color=\"black\">Obj_5: 0.00</font>, <font color=\"black\">Obj_8: 0.00</font></td><td style=\"border:solid;\" bgcolor=\"white\"><font color=\"black\">Obj: -0.69</font></td><td style=\"border:solid;\" bgcolor=\"white\"></td><td style=\"border:solid;\" bgcolor=\"white\"></td><td style=\"border:solid;\" bgcolor=\"white\"><font color=\"black\">Obj: -0.69</font>, <font color=\"black\">VP_0: -0.69</font></td></tr>\n",
       "<tr><td>3: elephant</td><td style=\"border:none;\" bgcolor=\"white\"></td><td style=\"border:none;\" bgcolor=\"white\"></td><td style=\"border:none;\" bgcolor=\"white\"></td><td style=\"border:solid;\" bgcolor=\"white\"><font color=\"black\">Obj_6: 0.00</font>, <font color=\"black\">Obj_7_9: 0.00</font></td><td style=\"border:solid;\" bgcolor=\"white\"></td><td style=\"border:solid;\" bgcolor=\"white\"></td><td style=\"border:solid;\" bgcolor=\"white\"><font color=\"black\">Obj_7: 0.00</font></td></tr>\n",
       "<tr><td>4: in</td><td style=\"border:none;\" bgcolor=\"white\"></td><td style=\"border:none;\" bgcolor=\"white\"></td><td style=\"border:none;\" bgcolor=\"white\"></td><td style=\"border:none;\" bgcolor=\"white\"></td><td style=\"border:solid;\" bgcolor=\"white\"><font color=\"black\">PP_2: 0.00</font></td><td style=\"border:solid;\" bgcolor=\"white\"></td><td style=\"border:solid;\" bgcolor=\"white\"><font color=\"black\">PP: 0.00</font></td></tr>\n",
       "<tr><td>5: his</td><td style=\"border:none;\" bgcolor=\"white\"></td><td style=\"border:none;\" bgcolor=\"white\"></td><td style=\"border:none;\" bgcolor=\"white\"></td><td style=\"border:none;\" bgcolor=\"white\"></td><td style=\"border:none;\" bgcolor=\"white\"></td><td style=\"border:solid;\" bgcolor=\"white\"><font color=\"black\">PP_1_3: 0.00</font></td><td style=\"border:solid;\" bgcolor=\"#E1E1E1\"><font color=\"black\">PP_1: 0.00</font></td></tr>\n",
       "<tr><td>6: pyjamas</td><td style=\"border:none;\" bgcolor=\"white\"></td><td style=\"border:none;\" bgcolor=\"white\"></td><td style=\"border:none;\" bgcolor=\"white\"></td><td style=\"border:none;\" bgcolor=\"white\"></td><td style=\"border:none;\" bgcolor=\"white\"></td><td style=\"border:none;\" bgcolor=\"white\"></td><td style=\"border:solid;\" bgcolor=\"white\"><font color=\"black\">PP_1_4: 0.00</font></td></tr></table> 110 / 112</div>\n",
       "<div class=\"item\"><table><tr><td></td><td>0: He</td><td>1: shot</td><td>2: the</td><td>3: elephant</td><td>4: in</td><td>5: his</td><td>6: pyjamas</td></tr>\n",
       "<tr><td>0: He</td><td style=\"border:solid;\" bgcolor=\"white\"><font color=\"black\">Subj: 0.00</font></td><td style=\"border:solid;\" bgcolor=\"white\"></td><td style=\"border:solid;\" bgcolor=\"white\"></td><td style=\"border:solid;\" bgcolor=\"white\"><font color=\"black\">S: -1.90</font></td><td style=\"border:solid;\" bgcolor=\"white\"></td><td style=\"border:solid;\" bgcolor=\"#E1E1E1\"></td><td style=\"border:solid;\" bgcolor=\"#C3C3C3\"><font color=\"black\">S: -1.05</font></td></tr>\n",
       "<tr><td>1: shot</td><td style=\"border:none;\" bgcolor=\"white\"></td><td style=\"border:solid;\" bgcolor=\"white\"><font color=\"black\">Verb: 0.00</font></td><td style=\"border:solid;\" bgcolor=\"white\"></td><td style=\"border:solid;\" bgcolor=\"white\"><font color=\"black\">VP: -1.90</font></td><td style=\"border:solid;\" bgcolor=\"white\"></td><td style=\"border:solid;\" bgcolor=\"white\"></td><td style=\"border:solid;\" bgcolor=\"white\"><font color=\"black\">VP: -1.05</font></td></tr>\n",
       "<tr><td>2: the</td><td style=\"border:none;\" bgcolor=\"white\"></td><td style=\"border:none;\" bgcolor=\"white\"></td><td style=\"border:solid;\" bgcolor=\"white\"><font color=\"black\">Obj_5: 0.00</font>, <font color=\"black\">Obj_8: 0.00</font></td><td style=\"border:solid;\" bgcolor=\"white\"><font color=\"black\">Obj: -0.69</font></td><td style=\"border:solid;\" bgcolor=\"white\"></td><td style=\"border:solid;\" bgcolor=\"white\"></td><td style=\"border:solid;\" bgcolor=\"white\"><font color=\"black\">Obj: -0.69</font>, <font color=\"black\">VP_0: -0.69</font></td></tr>\n",
       "<tr><td>3: elephant</td><td style=\"border:none;\" bgcolor=\"white\"></td><td style=\"border:none;\" bgcolor=\"white\"></td><td style=\"border:none;\" bgcolor=\"white\"></td><td style=\"border:solid;\" bgcolor=\"white\"><font color=\"black\">Obj_6: 0.00</font>, <font color=\"black\">Obj_7_9: 0.00</font></td><td style=\"border:solid;\" bgcolor=\"white\"></td><td style=\"border:solid;\" bgcolor=\"white\"></td><td style=\"border:solid;\" bgcolor=\"white\"><font color=\"black\">Obj_7: 0.00</font></td></tr>\n",
       "<tr><td>4: in</td><td style=\"border:none;\" bgcolor=\"white\"></td><td style=\"border:none;\" bgcolor=\"white\"></td><td style=\"border:none;\" bgcolor=\"white\"></td><td style=\"border:none;\" bgcolor=\"white\"></td><td style=\"border:solid;\" bgcolor=\"white\"><font color=\"black\">PP_2: 0.00</font></td><td style=\"border:solid;\" bgcolor=\"white\"></td><td style=\"border:solid;\" bgcolor=\"white\"><font color=\"black\">PP: 0.00</font></td></tr>\n",
       "<tr><td>5: his</td><td style=\"border:none;\" bgcolor=\"white\"></td><td style=\"border:none;\" bgcolor=\"white\"></td><td style=\"border:none;\" bgcolor=\"white\"></td><td style=\"border:none;\" bgcolor=\"white\"></td><td style=\"border:none;\" bgcolor=\"white\"></td><td style=\"border:solid;\" bgcolor=\"white\"><font color=\"black\">PP_1_3: 0.00</font></td><td style=\"border:solid;\" bgcolor=\"white\"><font color=\"black\">PP_1: 0.00</font></td></tr>\n",
       "<tr><td>6: pyjamas</td><td style=\"border:none;\" bgcolor=\"white\"></td><td style=\"border:none;\" bgcolor=\"white\"></td><td style=\"border:none;\" bgcolor=\"white\"></td><td style=\"border:none;\" bgcolor=\"white\"></td><td style=\"border:none;\" bgcolor=\"white\"></td><td style=\"border:none;\" bgcolor=\"white\"></td><td style=\"border:solid;\" bgcolor=\"#E1E1E1\"><font color=\"black\">PP_1_4: 0.00</font></td></tr></table> 111 / 112</div>\n",
       "<div class=\"item\"><table><tr><td></td><td>0: He</td><td>1: shot</td><td>2: the</td><td>3: elephant</td><td>4: in</td><td>5: his</td><td>6: pyjamas</td></tr>\n",
       "<tr><td>0: He</td><td style=\"border:solid;\" bgcolor=\"white\"><font color=\"black\">Subj: 0.00</font></td><td style=\"border:solid;\" bgcolor=\"white\"></td><td style=\"border:solid;\" bgcolor=\"white\"></td><td style=\"border:solid;\" bgcolor=\"white\"><font color=\"black\">S: -1.90</font></td><td style=\"border:solid;\" bgcolor=\"white\"></td><td style=\"border:solid;\" bgcolor=\"white\"></td><td style=\"border:solid;\" bgcolor=\"white\"><font color=\"black\">S: -1.05</font></td></tr>\n",
       "<tr><td>1: shot</td><td style=\"border:none;\" bgcolor=\"white\"></td><td style=\"border:solid;\" bgcolor=\"white\"><font color=\"black\">Verb: 0.00</font></td><td style=\"border:solid;\" bgcolor=\"white\"></td><td style=\"border:solid;\" bgcolor=\"white\"><font color=\"black\">VP: -1.90</font></td><td style=\"border:solid;\" bgcolor=\"white\"></td><td style=\"border:solid;\" bgcolor=\"white\"></td><td style=\"border:solid;\" bgcolor=\"white\"><font color=\"black\">VP: -1.05</font></td></tr>\n",
       "<tr><td>2: the</td><td style=\"border:none;\" bgcolor=\"white\"></td><td style=\"border:none;\" bgcolor=\"white\"></td><td style=\"border:solid;\" bgcolor=\"white\"><font color=\"black\">Obj_5: 0.00</font>, <font color=\"black\">Obj_8: 0.00</font></td><td style=\"border:solid;\" bgcolor=\"white\"><font color=\"black\">Obj: -0.69</font></td><td style=\"border:solid;\" bgcolor=\"white\"></td><td style=\"border:solid;\" bgcolor=\"white\"></td><td style=\"border:solid;\" bgcolor=\"white\"><font color=\"black\">Obj: -0.69</font>, <font color=\"black\">VP_0: -0.69</font></td></tr>\n",
       "<tr><td>3: elephant</td><td style=\"border:none;\" bgcolor=\"white\"></td><td style=\"border:none;\" bgcolor=\"white\"></td><td style=\"border:none;\" bgcolor=\"white\"></td><td style=\"border:solid;\" bgcolor=\"white\"><font color=\"black\">Obj_6: 0.00</font>, <font color=\"black\">Obj_7_9: 0.00</font></td><td style=\"border:solid;\" bgcolor=\"white\"></td><td style=\"border:solid;\" bgcolor=\"white\"></td><td style=\"border:solid;\" bgcolor=\"white\"><font color=\"black\">Obj_7: 0.00</font></td></tr>\n",
       "<tr><td>4: in</td><td style=\"border:none;\" bgcolor=\"white\"></td><td style=\"border:none;\" bgcolor=\"white\"></td><td style=\"border:none;\" bgcolor=\"white\"></td><td style=\"border:none;\" bgcolor=\"white\"></td><td style=\"border:solid;\" bgcolor=\"white\"><font color=\"black\">PP_2: 0.00</font></td><td style=\"border:solid;\" bgcolor=\"white\"></td><td style=\"border:solid;\" bgcolor=\"white\"><font color=\"black\">PP: 0.00</font></td></tr>\n",
       "<tr><td>5: his</td><td style=\"border:none;\" bgcolor=\"white\"></td><td style=\"border:none;\" bgcolor=\"white\"></td><td style=\"border:none;\" bgcolor=\"white\"></td><td style=\"border:none;\" bgcolor=\"white\"></td><td style=\"border:none;\" bgcolor=\"white\"></td><td style=\"border:solid;\" bgcolor=\"white\"><font color=\"black\">PP_1_3: 0.00</font></td><td style=\"border:solid;\" bgcolor=\"white\"><font color=\"black\">PP_1: 0.00</font></td></tr>\n",
       "<tr><td>6: pyjamas</td><td style=\"border:none;\" bgcolor=\"white\"></td><td style=\"border:none;\" bgcolor=\"white\"></td><td style=\"border:none;\" bgcolor=\"white\"></td><td style=\"border:none;\" bgcolor=\"white\"></td><td style=\"border:none;\" bgcolor=\"white\"></td><td style=\"border:none;\" bgcolor=\"white\"></td><td style=\"border:solid;\" bgcolor=\"white\"><font color=\"black\">PP_1_4: 0.00</font></td></tr></table> 112 / 112</div>\n",
       "          </div>\n",
       "        </div>\n",
       "        "
      ],
      "text/plain": [
       "<statnlpbook.util.Carousel at 0x109ae3cc0>"
      ]
     },
     "execution_count": 32,
     "metadata": {},
     "output_type": "execute_result"
    }
   ],
   "source": [
    "util.Carousel(pcyk_trace)"
   ]
  },
  {
   "cell_type": "markdown",
   "metadata": {
    "slideshow": {
     "slide_type": "subslide"
    }
   },
   "source": [
    "Runtime with respect to sentence length? "
   ]
  },
  {
   "cell_type": "markdown",
   "metadata": {
    "slideshow": {
     "slide_type": "subslide"
    }
   },
   "source": [
    "Resolve parse by going backwards ... "
   ]
  },
  {
   "cell_type": "code",
   "execution_count": 33,
   "metadata": {
    "hideCode": true,
    "hidePrompt": true,
    "slideshow": {
     "slide_type": "-"
    }
   },
   "outputs": [
    {
     "data": {
      "image/svg+xml": [
       "<?xml version=\"1.0\" encoding=\"UTF-8\" standalone=\"no\"?>\n",
       "<!DOCTYPE svg PUBLIC \"-//W3C//DTD SVG 1.1//EN\"\n",
       " \"http://www.w3.org/Graphics/SVG/1.1/DTD/svg11.dtd\">\n",
       "<!-- Generated by graphviz version 2.40.1 (20161225.0304)\n",
       " -->\n",
       "<!-- Title: %3 Pages: 1 -->\n",
       "<svg width=\"504pt\" height=\"260pt\"\n",
       " viewBox=\"0.00 0.00 503.58 260.00\" xmlns=\"http://www.w3.org/2000/svg\" xmlns:xlink=\"http://www.w3.org/1999/xlink\">\n",
       "<g id=\"graph0\" class=\"graph\" transform=\"scale(1 1) rotate(0) translate(4 256)\">\n",
       "<title>%3</title>\n",
       "<polygon fill=\"#ffffff\" stroke=\"transparent\" points=\"-4,4 -4,-256 499.5778,-256 499.5778,4 -4,4\"/>\n",
       "<!-- 0 -->\n",
       "<g id=\"node1\" class=\"node\">\n",
       "<title>0</title>\n",
       "<ellipse fill=\"none\" stroke=\"#000000\" cx=\"27\" cy=\"-90\" rx=\"27\" ry=\"18\"/>\n",
       "<text text-anchor=\"middle\" x=\"27\" y=\"-85.8\" font-family=\"Times,serif\" font-size=\"14.00\" fill=\"#000000\">He</text>\n",
       "</g>\n",
       "<!-- 1 -->\n",
       "<g id=\"node2\" class=\"node\">\n",
       "<title>1</title>\n",
       "<ellipse fill=\"none\" stroke=\"#000000\" cx=\"63\" cy=\"-162\" rx=\"27\" ry=\"18\"/>\n",
       "<text text-anchor=\"middle\" x=\"63\" y=\"-157.8\" font-family=\"Times,serif\" font-size=\"14.00\" fill=\"#000000\">Subj</text>\n",
       "</g>\n",
       "<!-- 1&#45;&gt;0 -->\n",
       "<g id=\"edge1\" class=\"edge\">\n",
       "<title>1&#45;&gt;0</title>\n",
       "<path fill=\"none\" stroke=\"#000000\" d=\"M54.2854,-144.5708C50.0403,-136.0807 44.8464,-125.6929 40.1337,-116.2674\"/>\n",
       "<polygon fill=\"#000000\" stroke=\"#000000\" points=\"43.237,-114.6477 35.6343,-107.2687 36.976,-117.7782 43.237,-114.6477\"/>\n",
       "</g>\n",
       "<!-- 2 -->\n",
       "<g id=\"node3\" class=\"node\">\n",
       "<title>2</title>\n",
       "<ellipse fill=\"none\" stroke=\"#000000\" cx=\"57\" cy=\"-18\" rx=\"27\" ry=\"18\"/>\n",
       "<text text-anchor=\"middle\" x=\"57\" y=\"-13.8\" font-family=\"Times,serif\" font-size=\"14.00\" fill=\"#000000\">shot</text>\n",
       "</g>\n",
       "<!-- 3 -->\n",
       "<g id=\"node4\" class=\"node\">\n",
       "<title>3</title>\n",
       "<ellipse fill=\"none\" stroke=\"#000000\" cx=\"99\" cy=\"-90\" rx=\"27\" ry=\"18\"/>\n",
       "<text text-anchor=\"middle\" x=\"99\" y=\"-85.8\" font-family=\"Times,serif\" font-size=\"14.00\" fill=\"#000000\">Verb</text>\n",
       "</g>\n",
       "<!-- 3&#45;&gt;2 -->\n",
       "<g id=\"edge2\" class=\"edge\">\n",
       "<title>3&#45;&gt;2</title>\n",
       "<path fill=\"none\" stroke=\"#000000\" d=\"M89.0466,-72.937C83.9729,-64.2393 77.6966,-53.4799 72.047,-43.7948\"/>\n",
       "<polygon fill=\"#000000\" stroke=\"#000000\" points=\"74.944,-41.8148 66.882,-34.9405 68.8975,-45.3419 74.944,-41.8148\"/>\n",
       "</g>\n",
       "<!-- 4 -->\n",
       "<g id=\"node5\" class=\"node\">\n",
       "<title>4</title>\n",
       "<ellipse fill=\"none\" stroke=\"#000000\" cx=\"129\" cy=\"-18\" rx=\"27\" ry=\"18\"/>\n",
       "<text text-anchor=\"middle\" x=\"129\" y=\"-13.8\" font-family=\"Times,serif\" font-size=\"14.00\" fill=\"#000000\">the</text>\n",
       "</g>\n",
       "<!-- 5 -->\n",
       "<g id=\"node6\" class=\"node\">\n",
       "<title>5</title>\n",
       "<ellipse fill=\"none\" stroke=\"#000000\" cx=\"214\" cy=\"-18\" rx=\"40.123\" ry=\"18\"/>\n",
       "<text text-anchor=\"middle\" x=\"214\" y=\"-13.8\" font-family=\"Times,serif\" font-size=\"14.00\" fill=\"#000000\">elephant</text>\n",
       "</g>\n",
       "<!-- 6 -->\n",
       "<g id=\"node7\" class=\"node\">\n",
       "<title>6</title>\n",
       "<ellipse fill=\"none\" stroke=\"#000000\" cx=\"171\" cy=\"-90\" rx=\"27\" ry=\"18\"/>\n",
       "<text text-anchor=\"middle\" x=\"171\" y=\"-85.8\" font-family=\"Times,serif\" font-size=\"14.00\" fill=\"#000000\">Obj</text>\n",
       "</g>\n",
       "<!-- 6&#45;&gt;4 -->\n",
       "<g id=\"edge3\" class=\"edge\">\n",
       "<title>6&#45;&gt;4</title>\n",
       "<path fill=\"none\" stroke=\"#000000\" d=\"M161.0466,-72.937C155.9729,-64.2393 149.6966,-53.4799 144.047,-43.7948\"/>\n",
       "<polygon fill=\"#000000\" stroke=\"#000000\" points=\"146.944,-41.8148 138.882,-34.9405 140.8975,-45.3419 146.944,-41.8148\"/>\n",
       "</g>\n",
       "<!-- 6&#45;&gt;5 -->\n",
       "<g id=\"edge4\" class=\"edge\">\n",
       "<title>6&#45;&gt;5</title>\n",
       "<path fill=\"none\" stroke=\"#000000\" d=\"M181.1904,-72.937C186.3096,-64.3654 192.6246,-53.7914 198.3429,-44.2165\"/>\n",
       "<polygon fill=\"#000000\" stroke=\"#000000\" points=\"201.4615,-45.8207 203.584,-35.4407 195.4517,-42.2315 201.4615,-45.8207\"/>\n",
       "</g>\n",
       "<!-- 7 -->\n",
       "<g id=\"node8\" class=\"node\">\n",
       "<title>7</title>\n",
       "<ellipse fill=\"none\" stroke=\"#000000\" cx=\"299\" cy=\"-18\" rx=\"27\" ry=\"18\"/>\n",
       "<text text-anchor=\"middle\" x=\"299\" y=\"-13.8\" font-family=\"Times,serif\" font-size=\"14.00\" fill=\"#000000\">in</text>\n",
       "</g>\n",
       "<!-- 8 -->\n",
       "<g id=\"node9\" class=\"node\">\n",
       "<title>8</title>\n",
       "<ellipse fill=\"none\" stroke=\"#000000\" cx=\"371\" cy=\"-18\" rx=\"27\" ry=\"18\"/>\n",
       "<text text-anchor=\"middle\" x=\"371\" y=\"-13.8\" font-family=\"Times,serif\" font-size=\"14.00\" fill=\"#000000\">his</text>\n",
       "</g>\n",
       "<!-- 9 -->\n",
       "<g id=\"node10\" class=\"node\">\n",
       "<title>9</title>\n",
       "<ellipse fill=\"none\" stroke=\"#000000\" cx=\"456\" cy=\"-18\" rx=\"39.6558\" ry=\"18\"/>\n",
       "<text text-anchor=\"middle\" x=\"456\" y=\"-13.8\" font-family=\"Times,serif\" font-size=\"14.00\" fill=\"#000000\">pyjamas</text>\n",
       "</g>\n",
       "<!-- 10 -->\n",
       "<g id=\"node11\" class=\"node\">\n",
       "<title>10</title>\n",
       "<ellipse fill=\"none\" stroke=\"#000000\" cx=\"335\" cy=\"-90\" rx=\"27\" ry=\"18\"/>\n",
       "<text text-anchor=\"middle\" x=\"335\" y=\"-85.8\" font-family=\"Times,serif\" font-size=\"14.00\" fill=\"#000000\">PP</text>\n",
       "</g>\n",
       "<!-- 10&#45;&gt;7 -->\n",
       "<g id=\"edge5\" class=\"edge\">\n",
       "<title>10&#45;&gt;7</title>\n",
       "<path fill=\"none\" stroke=\"#000000\" d=\"M326.2854,-72.5708C322.0403,-64.0807 316.8464,-53.6929 312.1337,-44.2674\"/>\n",
       "<polygon fill=\"#000000\" stroke=\"#000000\" points=\"315.237,-42.6477 307.6343,-35.2687 308.976,-45.7782 315.237,-42.6477\"/>\n",
       "</g>\n",
       "<!-- 10&#45;&gt;8 -->\n",
       "<g id=\"edge6\" class=\"edge\">\n",
       "<title>10&#45;&gt;8</title>\n",
       "<path fill=\"none\" stroke=\"#000000\" d=\"M343.7146,-72.5708C347.9597,-64.0807 353.1536,-53.6929 357.8663,-44.2674\"/>\n",
       "<polygon fill=\"#000000\" stroke=\"#000000\" points=\"361.024,-45.7782 362.3657,-35.2687 354.763,-42.6477 361.024,-45.7782\"/>\n",
       "</g>\n",
       "<!-- 10&#45;&gt;9 -->\n",
       "<g id=\"edge7\" class=\"edge\">\n",
       "<title>10&#45;&gt;9</title>\n",
       "<path fill=\"none\" stroke=\"#000000\" d=\"M355.2527,-77.9488C373.737,-66.9499 401.3946,-50.4925 423.0575,-37.6021\"/>\n",
       "<polygon fill=\"#000000\" stroke=\"#000000\" points=\"425.1265,-40.4438 431.9304,-32.3224 421.5469,-34.4283 425.1265,-40.4438\"/>\n",
       "</g>\n",
       "<!-- 11 -->\n",
       "<g id=\"node12\" class=\"node\">\n",
       "<title>11</title>\n",
       "<ellipse fill=\"none\" stroke=\"#000000\" cx=\"135\" cy=\"-162\" rx=\"27\" ry=\"18\"/>\n",
       "<text text-anchor=\"middle\" x=\"135\" y=\"-157.8\" font-family=\"Times,serif\" font-size=\"14.00\" fill=\"#000000\">VP</text>\n",
       "</g>\n",
       "<!-- 11&#45;&gt;3 -->\n",
       "<g id=\"edge8\" class=\"edge\">\n",
       "<title>11&#45;&gt;3</title>\n",
       "<path fill=\"none\" stroke=\"#000000\" d=\"M126.2854,-144.5708C122.0403,-136.0807 116.8464,-125.6929 112.1337,-116.2674\"/>\n",
       "<polygon fill=\"#000000\" stroke=\"#000000\" points=\"115.237,-114.6477 107.6343,-107.2687 108.976,-117.7782 115.237,-114.6477\"/>\n",
       "</g>\n",
       "<!-- 11&#45;&gt;6 -->\n",
       "<g id=\"edge9\" class=\"edge\">\n",
       "<title>11&#45;&gt;6</title>\n",
       "<path fill=\"none\" stroke=\"#000000\" d=\"M143.7146,-144.5708C147.9597,-136.0807 153.1536,-125.6929 157.8663,-116.2674\"/>\n",
       "<polygon fill=\"#000000\" stroke=\"#000000\" points=\"161.024,-117.7782 162.3657,-107.2687 154.763,-114.6477 161.024,-117.7782\"/>\n",
       "</g>\n",
       "<!-- 11&#45;&gt;10 -->\n",
       "<g id=\"edge10\" class=\"edge\">\n",
       "<title>11&#45;&gt;10</title>\n",
       "<path fill=\"none\" stroke=\"#000000\" d=\"M159.1247,-153.3151C194.6582,-140.5231 261.1986,-116.5685 301.4649,-102.0727\"/>\n",
       "<polygon fill=\"#000000\" stroke=\"#000000\" points=\"302.8778,-105.284 311.1011,-98.6036 300.5067,-98.6978 302.8778,-105.284\"/>\n",
       "</g>\n",
       "<!-- 12 -->\n",
       "<g id=\"node13\" class=\"node\">\n",
       "<title>12</title>\n",
       "<ellipse fill=\"none\" stroke=\"#000000\" cx=\"99\" cy=\"-234\" rx=\"27\" ry=\"18\"/>\n",
       "<text text-anchor=\"middle\" x=\"99\" y=\"-229.8\" font-family=\"Times,serif\" font-size=\"14.00\" fill=\"#000000\">S</text>\n",
       "</g>\n",
       "<!-- 12&#45;&gt;1 -->\n",
       "<g id=\"edge11\" class=\"edge\">\n",
       "<title>12&#45;&gt;1</title>\n",
       "<path fill=\"none\" stroke=\"#000000\" d=\"M90.2854,-216.5708C86.0403,-208.0807 80.8464,-197.6929 76.1337,-188.2674\"/>\n",
       "<polygon fill=\"#000000\" stroke=\"#000000\" points=\"79.237,-186.6477 71.6343,-179.2687 72.976,-189.7782 79.237,-186.6477\"/>\n",
       "</g>\n",
       "<!-- 12&#45;&gt;11 -->\n",
       "<g id=\"edge12\" class=\"edge\">\n",
       "<title>12&#45;&gt;11</title>\n",
       "<path fill=\"none\" stroke=\"#000000\" d=\"M107.7146,-216.5708C111.9597,-208.0807 117.1536,-197.6929 121.8663,-188.2674\"/>\n",
       "<polygon fill=\"#000000\" stroke=\"#000000\" points=\"125.024,-189.7782 126.3657,-179.2687 118.763,-186.6477 125.024,-189.7782\"/>\n",
       "</g>\n",
       "</g>\n",
       "</svg>\n"
      ],
      "text/plain": [
       "<graphviz.dot.Digraph at 0x10a23d240>"
      ]
     },
     "execution_count": 33,
     "metadata": {},
     "output_type": "execute_result"
    }
   ],
   "source": [
    "pcyk_trace = pcyk(cnf_pcfg, amb_sentence)\n",
    "parsing.render_tree(parsing.filter_non_terminals(pcyk_trace[-1].derive_trees()[0],pcfg.cfg.n))"
   ]
  },
  {
   "cell_type": "markdown",
   "metadata": {
    "slideshow": {
     "slide_type": "slide"
    }
   },
   "source": [
    "## Learning\n",
    "\n",
    "Learning for PCFGs :\n",
    "\n",
    "1. What should the rules in the grammar be?\n",
    "2. What should the probabilities associated with these rules be?"
   ]
  },
  {
   "cell_type": "markdown",
   "metadata": {
    "slideshow": {
     "slide_type": "subslide"
    }
   },
   "source": [
    "Need corpus of parse trees $\\train=(\\parse_1, \\ldots, \\parse_n)$ \n",
    "\n",
    "* English: [Penn Treebank Project](https://www.cis.upenn.edu/~treebank/) parses for the 1989 Wall Street Journal (among other sources). \n",
    "* Other languages: e.g. [Chinese](https://catalog.ldc.upenn.edu/LDC2013T21)\n",
    "* Other domains: e.g. [Biomedical Papers](www.nactem.ac.uk/aNT/genia.html)\n",
    "\n",
    "Annotation expensive and need experts, major bottleneck in parsing research. "
   ]
  },
  {
   "cell_type": "markdown",
   "metadata": {
    "slideshow": {
     "slide_type": "subslide"
    }
   },
   "source": [
    "To learn the parameters $\\params$ of the model we can again use the maximum-likelihood criterium:\n",
    "\n",
    "$$\n",
    "\\params^* = \\argmax_\\params \\sum_{\\parse \\in \\train} \\log \\prob_\\params(\\parse)\n",
    "$$"
   ]
  },
  {
   "cell_type": "markdown",
   "metadata": {
    "slideshow": {
     "slide_type": "subslide"
    }
   },
   "source": [
    "Amounts to **counting**\n",
    "\n",
    "$$\n",
    "  \\param(\\alpha \\rightarrow \\beta) = \\frac{\\counts{\\train}{\\alpha \\rightarrow \\beta}}{\\counts{\\train}{\\alpha}}\n",
    "$$\n",
    "\n",
    "Details omitted here, as you have seen this before"
   ]
  },
  {
   "cell_type": "markdown",
   "metadata": {
    "slideshow": {
     "slide_type": "slide"
    }
   },
   "source": [
    "## Advanced: Parent Annotation\n",
    "\n",
    "In practice \n",
    "\n",
    "* Let $X^Y$ be a non-terminal $X$ with parent $Y$\n",
    "* **Grandparents** matter\n",
    "    * $NP^{VP} \\rightarrow NP \\: PP$ vs \n",
    "    * $NP^{PP} \\rightarrow NP \\: PP$  \n",
    "* Can be captured by labelling nodes in training trees with their parent\n",
    "    * Same machinery"
   ]
  },
  {
   "cell_type": "markdown",
   "metadata": {
    "slideshow": {
     "slide_type": "slide"
    }
   },
   "source": [
    "## Advanced: Head Driven PCFG\n",
    "\n",
    "In practice \n",
    "\n",
    "* **VP NP** is not necessarily less or more likely than **VP NP PP**\n",
    "* But **elephant** in **pyjamas** is very unlikely\n",
    "* PCFGs must model relations between important words (\"heads\")\n",
    "    * $PP^{NP(\\text{elephant})} \\rightarrow IN \\: NP(\\text{pyjamas})$ vs\n",
    "    * $PP^{VP(\\text{shot})} \\rightarrow IN \\: NP(\\text{pyjamas})$\n",
    "* Needs more complex model and search algorithms\n",
    "* Simpler: **dependency parsing**"
   ]
  },
  {
   "cell_type": "markdown",
   "metadata": {
    "slideshow": {
     "slide_type": "slide"
    }
   },
   "source": [
    "## Background Material\n",
    "\n",
    "* [Mike Collins' PCFG lecture](http://www.cs.columbia.edu/~mcollins/courses/nlp2011/notes/pcfgs.pdf)\n",
    "* Jurafsky & Martin, Chapter 12, Statistical Parsing"
   ]
  }
 ],
 "metadata": {
  "celltoolbar": "Slideshow",
  "kernelspec": {
   "display_name": "Python 3",
   "language": "python",
   "name": "python3"
  },
  "language_info": {
   "codemirror_mode": {
    "name": "ipython",
    "version": 3
   },
   "file_extension": ".py",
   "mimetype": "text/x-python",
   "name": "python",
   "nbconvert_exporter": "python",
   "pygments_lexer": "ipython3",
   "version": "3.6.2"
  }
 },
 "nbformat": 4,
 "nbformat_minor": 1
}
