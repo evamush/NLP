{
 "cells": [
  {
   "cell_type": "code",
   "execution_count": 1,
   "metadata": {
    "slideshow": {
     "slide_type": "skip"
    }
   },
   "outputs": [],
   "source": [
    "%%capture\n",
    "%load_ext autoreload\n",
    "%autoreload 2\n",
    "import sys\n",
    "sys.path.append(\"..\")\n",
    "import statnlpbook.util as util\n",
    "import statnlpbook.parsing as parsing\n",
    "from statnlpbook.transition import *\n",
    "\n",
    "util.execute_notebook('Transition-based dependency parsing.ipynb')"
   ]
  },
  {
   "cell_type": "markdown",
   "metadata": {
    "slideshow": {
     "slide_type": "skip"
    }
   },
   "source": [
    "<!---\n",
    "Latex Macros\n",
    "-->\n",
    "$$\n",
    "\\newcommand{\\Xs}{\\mathcal{X}}\n",
    "\\newcommand{\\Ys}{\\mathcal{Y}}\n",
    "\\newcommand{\\y}{\\mathbf{y}}\n",
    "\\newcommand{\\balpha}{\\boldsymbol{\\alpha}}\n",
    "\\newcommand{\\bbeta}{\\boldsymbol{\\beta}}\n",
    "\\newcommand{\\aligns}{\\mathbf{a}}\n",
    "\\newcommand{\\align}{a}\n",
    "\\newcommand{\\source}{\\mathbf{s}}\n",
    "\\newcommand{\\target}{\\mathbf{t}}\n",
    "\\newcommand{\\ssource}{s}\n",
    "\\newcommand{\\starget}{t}\n",
    "\\newcommand{\\repr}{\\mathbf{f}}\n",
    "\\newcommand{\\repry}{\\mathbf{g}}\n",
    "\\newcommand{\\x}{\\mathbf{x}}\n",
    "\\newcommand{\\prob}{p}\n",
    "\\newcommand{\\a}{\\alpha}\n",
    "\\newcommand{\\b}{\\beta}\n",
    "\\newcommand{\\vocab}{V}\n",
    "\\newcommand{\\params}{\\boldsymbol{\\theta}}\n",
    "\\newcommand{\\param}{\\theta}\n",
    "\\DeclareMathOperator{\\perplexity}{PP}\n",
    "\\DeclareMathOperator{\\argmax}{argmax}\n",
    "\\DeclareMathOperator{\\argmin}{argmin}\n",
    "\\newcommand{\\train}{\\mathcal{D}}\n",
    "\\newcommand{\\counts}[2]{\\#_{#1}(#2) }\n",
    "\\newcommand{\\length}[1]{\\text{length}(#1) }\n",
    "\\newcommand{\\indi}{\\mathbb{I}}\n",
    "$$"
   ]
  },
  {
   "cell_type": "markdown",
   "metadata": {
    "slideshow": {
     "slide_type": "slide"
    }
   },
   "source": [
    "# Dependency Parsing"
   ]
  },
  {
   "cell_type": "markdown",
   "metadata": {
    "slideshow": {
     "slide_type": "slide"
    }
   },
   "source": [
    "##  Motivation \n",
    "\n",
    "Constituent Parsers **more complex than needed**:\n",
    "* Often we only need grammatical **relations between words**\n",
    "* Annotation **costly** and **error prone**\n",
    "    * Should \"Cadbury Dairy Milk\" be a flat tree, or \"(Cadbury (Dairy Milk))\"?"
   ]
  },
  {
   "cell_type": "markdown",
   "metadata": {
    "slideshow": {
     "slide_type": "subslide"
    }
   },
   "source": [
    "**Dependency Parsing** addresses this...\n",
    "\n",
    "[Stanford CoreNLP parser](http://nlp.stanford.edu:8080/corenlp/)\n",
    "\n",
    "[spaCy](https://demos.explosion.ai/displacy/)"
   ]
  },
  {
   "cell_type": "markdown",
   "metadata": {
    "slideshow": {
     "slide_type": "subslide"
    }
   },
   "source": [
    "## Anatomy of a Dependency Tree\n",
    "\n",
    "* Nodes:\n",
    "    * Tokens of sentence\n",
    "    * a ROOT node (akin to the S symbol in CFGs)\n",
    "* Edges:\n",
    "    * Directed from token child to ** syntactic head**\n",
    "    * Each **non-ROOT **token has **exactly one parent**\n",
    "        * the word that controls its syntactic function, or\n",
    "        * the word \"it depends on\"\n",
    "* ROOT **has no parent**"
   ]
  },
  {
   "cell_type": "markdown",
   "metadata": {
    "slideshow": {
     "slide_type": "subslide"
    }
   },
   "source": [
    "### Example"
   ]
  },
  {
   "cell_type": "code",
   "execution_count": 2,
   "metadata": {
    "slideshow": {
     "slide_type": "-"
    }
   },
   "outputs": [
    {
     "data": {
      "text/html": [
       "\n",
       "    <div id='displacy3' style=\"overflow: scroll; width: 1000px;\"></div>\n",
       "    <script>\n",
       "    $(function() {\n",
       "    requirejs.config({\n",
       "        paths: {\n",
       "            'displaCy': ['/files/node_modules/displacy/displacy'],\n",
       "                                                  // strip .js ^, require adds it back\n",
       "        },\n",
       "    });\n",
       "    require(['displaCy'], function() {\n",
       "        console.log(\"Loaded :)\");\n",
       "        const displacy = new displaCy('http://localhost:8000', {\n",
       "            container: '#displacy3',\n",
       "            format: 'spacy',\n",
       "            distance: 150,\n",
       "            offsetX: 0,\n",
       "            wordSpacing: 20,\n",
       "            arrowSpacing: 3,\n",
       "\n",
       "        });\n",
       "        const parse = {\n",
       "            arcs: [{\"start\": 1, \"end\": 2, \"label\": \"amod\", \"dir\": \"left\"}, {\"start\": 6, \"end\": 8, \"label\": \"pmod\", \"dir\": \"right\"}, {\"start\": 4, \"end\": 5, \"label\": \"amod\", \"dir\": \"left\"}, {\"start\": 7, \"end\": 8, \"label\": \"amod\", \"dir\": \"left\"}, {\"start\": 0, \"end\": 9, \"label\": \"p\", \"dir\": \"right\"}, {\"start\": 3, \"end\": 5, \"label\": \"dobj\", \"dir\": \"right\"}, {\"start\": 2, \"end\": 3, \"label\": \"nsubj\", \"dir\": \"left\"}, {\"start\": 5, \"end\": 6, \"label\": \"prep\", \"dir\": \"right\"}, {\"start\": 0, \"end\": 3, \"label\": \"root\", \"dir\": \"right\"}],\n",
       "            words: [{\"text\": \"ROOT\"}, {\"text\": \"Economic\"}, {\"text\": \"news\"}, {\"text\": \"had\"}, {\"text\": \"little\"}, {\"text\": \"effect\"}, {\"text\": \"on\"}, {\"text\": \"financial\"}, {\"text\": \"markets\"}, {\"text\": \".\"}]\n",
       "        };\n",
       "\n",
       "        displacy.render(parse, {\n",
       "            uniqueId: 'render_displacy3'\n",
       "            //color: '#ff0000'\n",
       "        });\n",
       "        return {};\n",
       "    });\n",
       "    });\n",
       "    </script>"
      ],
      "text/plain": [
       "<IPython.core.display.HTML object>"
      ]
     },
     "execution_count": 2,
     "metadata": {},
     "output_type": "execute_result"
    }
   ],
   "source": [
    "tokens = [\"ROOT\", \"Economic\", \"news\", \"had\", \"little\", \"effect\", \"on\", \"financial\", \"markets\", \".\"]\n",
    "arcs = set([(0,3, \"root\"), (0,9,\"p\"), (2,1,\"amod\"),(3,2,\"nsubj\"), (3, 5, \"dobj\"), (5,4,\"amod\"), (5,6, \"prep\"), (6,8,\"pmod\"), (8,7,\"amod\")])\n",
    "\n",
    "render_displacy(*transition.to_displacy_graph(arcs, tokens),\"1000px\")"
   ]
  },
  {
   "cell_type": "markdown",
   "metadata": {
    "slideshow": {
     "slide_type": "slide"
    }
   },
   "source": [
    "## Dependency Parsing Approaches"
   ]
  },
  {
   "cell_type": "markdown",
   "metadata": {
    "slideshow": {
     "slide_type": "subslide"
    }
   },
   "source": [
    "### Graph-Based Parsing\n",
    "* define $s_\\params(\\x,\\y)$ over input sentences $\\Xs$ and dependency graphs $\\Ys$\n",
    "* parsing: $\\argmax_\\y s_\\params(\\x,\\y)$\n",
    "* frame as **finding maximum spanning trees** or other graph problems"
   ]
  },
  {
   "cell_type": "markdown",
   "metadata": {
    "slideshow": {
     "slide_type": "subslide"
    }
   },
   "source": [
    "### Transition-Based Parsing\n",
    "* learn to perform the right action / transition in a bottom-up left right parser\n",
    "* Train classifiers $s_\\params(\\x,y)$ where $y$ is an action, and $\\x$ is solution built so far, and the remaining sentence\n"
   ]
  },
  {
   "cell_type": "markdown",
   "metadata": {
    "slideshow": {
     "slide_type": "fragment"
    }
   },
   "source": [
    "Currently the state-of-the-art..."
   ]
  },
  {
   "cell_type": "markdown",
   "metadata": {
    "slideshow": {
     "slide_type": "subslide"
    }
   },
   "source": [
    "## Parsing State \n",
    "Akin to bottom up parsing for CFGs..."
   ]
  },
  {
   "cell_type": "markdown",
   "metadata": {
    "slideshow": {
     "slide_type": "subslide"
    }
   },
   "source": [
    "A token \n",
    "### Buffer\n",
    "of **remaining tokens**"
   ]
  },
  {
   "cell_type": "code",
   "execution_count": 5,
   "metadata": {
    "scrolled": false,
    "slideshow": {
     "slide_type": "-"
    }
   },
   "outputs": [
    {
     "data": {
      "text/html": [
       "<table><tr><td>buffer</td><td>stack</td><td>parse</td><td>action</td></tr>\n",
       "<tr><td>ROOT Economic news had little effect on financial markets .</td><td></td><td>\n",
       "    <div id='displacy6' style=\"overflow: scroll; width: 500px;\"></div>\n",
       "    <script>\n",
       "    $(function() {\n",
       "    requirejs.config({\n",
       "        paths: {\n",
       "            'displaCy': ['/files/node_modules/displacy/displacy'],\n",
       "                                                  // strip .js ^, require adds it back\n",
       "        },\n",
       "    });\n",
       "    require(['displaCy'], function() {\n",
       "        console.log(\"Loaded :)\");\n",
       "        const displacy = new displaCy('http://localhost:8000', {\n",
       "            container: '#displacy6',\n",
       "            format: 'spacy',\n",
       "            distance: 150,\n",
       "            offsetX: 0,\n",
       "            wordSpacing: 20,\n",
       "            arrowSpacing: 3,\n",
       "\n",
       "        });\n",
       "        const parse = {\n",
       "            arcs: [],\n",
       "            words: [{\"text\": \"ROOT\"}]\n",
       "        };\n",
       "\n",
       "        displacy.render(parse, {\n",
       "            uniqueId: 'render_displacy6'\n",
       "            //color: '#ff0000'\n",
       "        });\n",
       "        return {};\n",
       "    });\n",
       "    });\n",
       "    </script></td><td>INIT</td></tr></table>"
      ],
      "text/plain": [
       "<statnlpbook.transition.render_transitions_displacy.<locals>.Output at 0x7f38c1d39c18>"
      ]
     },
     "execution_count": 5,
     "metadata": {},
     "output_type": "execute_result"
    }
   ],
   "source": [
    "render_transitions_displacy(transitions[0:1], tokenized_sentence)"
   ]
  },
  {
   "cell_type": "markdown",
   "metadata": {
    "slideshow": {
     "slide_type": "subslide"
    }
   },
   "source": [
    "A token \n",
    "### Stack\n",
    "of earlier tokens to **attach to later**"
   ]
  },
  {
   "cell_type": "code",
   "execution_count": 4,
   "metadata": {
    "scrolled": true,
    "slideshow": {
     "slide_type": "-"
    }
   },
   "outputs": [
    {
     "data": {
      "text/html": [
       "<table><tr><td>buffer</td><td>stack</td><td>parse</td><td>action</td></tr>\n",
       "<tr><td>news had little effect on financial markets .</td><td>ROOT Economic</td><td>\n",
       "    <div id='displacy5' style=\"overflow: scroll; width: 500px;\"></div>\n",
       "    <script>\n",
       "    $(function() {\n",
       "    requirejs.config({\n",
       "        paths: {\n",
       "            'displaCy': ['/files/node_modules/displacy/displacy'],\n",
       "                                                  // strip .js ^, require adds it back\n",
       "        },\n",
       "    });\n",
       "    require(['displaCy'], function() {\n",
       "        console.log(\"Loaded :)\");\n",
       "        const displacy = new displaCy('http://localhost:8000', {\n",
       "            container: '#displacy5',\n",
       "            format: 'spacy',\n",
       "            distance: 150,\n",
       "            offsetX: 0,\n",
       "            wordSpacing: 20,\n",
       "            arrowSpacing: 3,\n",
       "\n",
       "        });\n",
       "        const parse = {\n",
       "            arcs: [],\n",
       "            words: [{\"text\": \"ROOT\"}, {\"text\": \"Economic\"}, {\"text\": \"news\"}]\n",
       "        };\n",
       "\n",
       "        displacy.render(parse, {\n",
       "            uniqueId: 'render_displacy5'\n",
       "            //color: '#ff0000'\n",
       "        });\n",
       "        return {};\n",
       "    });\n",
       "    });\n",
       "    </script></td><td>shift</td></tr></table>"
      ],
      "text/plain": [
       "<statnlpbook.transition.render_transitions_displacy.<locals>.Output at 0x1130ed860>"
      ]
     },
     "execution_count": 4,
     "metadata": {},
     "output_type": "execute_result"
    }
   ],
   "source": [
    "render_transitions_displacy(transitions[2:3],tokenized_sentence)"
   ]
  },
  {
   "cell_type": "markdown",
   "metadata": {
    "slideshow": {
     "slide_type": "subslide"
    }
   },
   "source": [
    "A current \n",
    "### Parse \n",
    "built so far"
   ]
  },
  {
   "cell_type": "code",
   "execution_count": 4,
   "metadata": {
    "slideshow": {
     "slide_type": "-"
    }
   },
   "outputs": [
    {
     "data": {
      "text/html": [
       "<table><tr><td>buffer</td><td>stack</td><td>parse</td><td>action</td></tr>\n",
       "<tr><td>on financial markets .</td><td>ROOT had effect</td><td>\n",
       "    <div id='displacy5' style=\"overflow: scroll; width: 500px;\"></div>\n",
       "    <script>\n",
       "    $(function() {\n",
       "    requirejs.config({\n",
       "        paths: {\n",
       "            'displaCy': ['/files/node_modules/displacy/displacy'],\n",
       "                                                  // strip .js ^, require adds it back\n",
       "        },\n",
       "    });\n",
       "    require(['displaCy'], function() {\n",
       "        console.log(\"Loaded :)\");\n",
       "        const displacy = new displaCy('http://localhost:8000', {\n",
       "            container: '#displacy5',\n",
       "            format: 'spacy',\n",
       "            distance: 150,\n",
       "            offsetX: 0,\n",
       "            wordSpacing: 20,\n",
       "            arrowSpacing: 3,\n",
       "\n",
       "        });\n",
       "        const parse = {\n",
       "            arcs: [{\"start\": 1, \"end\": 2, \"label\": \"amod\", \"dir\": \"left\"}, {\"start\": 4, \"end\": 5, \"label\": \"amod\", \"dir\": \"left\"}, {\"start\": 2, \"end\": 3, \"label\": \"nsubj\", \"dir\": \"left\"}, {\"start\": 3, \"end\": 5, \"label\": \"dobj\", \"dir\": \"right\"}, {\"start\": 0, \"end\": 3, \"label\": \"root\", \"dir\": \"right\"}],\n",
       "            words: [{\"text\": \"ROOT\"}, {\"text\": \"Economic\"}, {\"text\": \"news\"}, {\"text\": \"had\"}, {\"text\": \"little\"}, {\"text\": \"effect\"}, {\"text\": \"on\"}]\n",
       "        };\n",
       "\n",
       "        displacy.render(parse, {\n",
       "            uniqueId: 'render_displacy5'\n",
       "            //color: '#ff0000'\n",
       "        });\n",
       "        return {};\n",
       "    });\n",
       "    });\n",
       "    </script></td><td>rightArc-dobj</td></tr></table>"
      ],
      "text/plain": [
       "<statnlpbook.transition.render_transitions_displacy.<locals>.Output at 0x7f38c1d39b00>"
      ]
     },
     "execution_count": 4,
     "metadata": {},
     "output_type": "execute_result"
    }
   ],
   "source": [
    "render_transitions_displacy(transitions[9:10], tokenized_sentence)"
   ]
  },
  {
   "cell_type": "markdown",
   "metadata": {
    "slideshow": {
     "slide_type": "subslide"
    }
   },
   "source": [
    "We use the following \n",
    "### Actions"
   ]
  },
  {
   "cell_type": "markdown",
   "metadata": {
    "slideshow": {
     "slide_type": "subslide"
    }
   },
   "source": [
    "### Shift\n",
    "\n",
    "push the word at the top of the buffer to the stack \n",
    "\n",
    "$$\n",
    "(S, i|B, A)\\rightarrow(S|i, B, A)\n",
    "$$"
   ]
  },
  {
   "cell_type": "code",
   "execution_count": 6,
   "metadata": {
    "scrolled": true,
    "slideshow": {
     "slide_type": "-"
    }
   },
   "outputs": [
    {
     "data": {
      "text/html": [
       "<table><tr><td>buffer</td><td>stack</td><td>parse</td><td>action</td></tr>\n",
       "<tr><td>ROOT Economic news had little effect on financial markets .</td><td></td><td>\n",
       "    <div id='displacy7' style=\"overflow: scroll; width: 500px;\"></div>\n",
       "    <script>\n",
       "    $(function() {\n",
       "    requirejs.config({\n",
       "        paths: {\n",
       "            'displaCy': ['/files/node_modules/displacy/displacy'],\n",
       "                                                  // strip .js ^, require adds it back\n",
       "        },\n",
       "    });\n",
       "    require(['displaCy'], function() {\n",
       "        console.log(\"Loaded :)\");\n",
       "        const displacy = new displaCy('http://localhost:8000', {\n",
       "            container: '#displacy7',\n",
       "            format: 'spacy',\n",
       "            distance: 150,\n",
       "            offsetX: 0,\n",
       "            wordSpacing: 20,\n",
       "            arrowSpacing: 3,\n",
       "\n",
       "        });\n",
       "        const parse = {\n",
       "            arcs: [],\n",
       "            words: [{\"text\": \"ROOT\"}]\n",
       "        };\n",
       "\n",
       "        displacy.render(parse, {\n",
       "            uniqueId: 'render_displacy7'\n",
       "            //color: '#ff0000'\n",
       "        });\n",
       "        return {};\n",
       "    });\n",
       "    });\n",
       "    </script></td><td>INIT</td></tr>\n",
       "<tr><td>Economic news had little effect on financial markets .</td><td>ROOT</td><td>\n",
       "    <div id='displacy8' style=\"overflow: scroll; width: 500px;\"></div>\n",
       "    <script>\n",
       "    $(function() {\n",
       "    requirejs.config({\n",
       "        paths: {\n",
       "            'displaCy': ['/files/node_modules/displacy/displacy'],\n",
       "                                                  // strip .js ^, require adds it back\n",
       "        },\n",
       "    });\n",
       "    require(['displaCy'], function() {\n",
       "        console.log(\"Loaded :)\");\n",
       "        const displacy = new displaCy('http://localhost:8000', {\n",
       "            container: '#displacy8',\n",
       "            format: 'spacy',\n",
       "            distance: 150,\n",
       "            offsetX: 0,\n",
       "            wordSpacing: 20,\n",
       "            arrowSpacing: 3,\n",
       "\n",
       "        });\n",
       "        const parse = {\n",
       "            arcs: [],\n",
       "            words: [{\"text\": \"ROOT\"}, {\"text\": \"Economic\"}]\n",
       "        };\n",
       "\n",
       "        displacy.render(parse, {\n",
       "            uniqueId: 'render_displacy8'\n",
       "            //color: '#ff0000'\n",
       "        });\n",
       "        return {};\n",
       "    });\n",
       "    });\n",
       "    </script></td><td>shift</td></tr></table>"
      ],
      "text/plain": [
       "<statnlpbook.transition.render_transitions_displacy.<locals>.Output at 0x1130ed978>"
      ]
     },
     "execution_count": 6,
     "metadata": {},
     "output_type": "execute_result"
    }
   ],
   "source": [
    "render_transitions_displacy(transitions[0:2], tokenized_sentence)"
   ]
  },
  {
   "cell_type": "markdown",
   "metadata": {
    "slideshow": {
     "slide_type": "subslide"
    }
   },
   "source": [
    "### Reduce\n",
    "\n",
    "pop the word at the top of the stack if it has a head \n",
    "\n",
    "$$\n",
    "(S|i, B, A)\\rightarrow(S, B, A)\n",
    "$$"
   ]
  },
  {
   "cell_type": "code",
   "execution_count": 7,
   "metadata": {
    "scrolled": false,
    "slideshow": {
     "slide_type": "-"
    }
   },
   "outputs": [
    {
     "data": {
      "text/html": [
       "<table><tr><td>buffer</td><td>stack</td><td>parse</td><td>action</td></tr>\n",
       "<tr><td>.</td><td>ROOT had effect on markets</td><td>\n",
       "    <div id='displacy9' style=\"overflow: scroll; width: 500px;\"></div>\n",
       "    <script>\n",
       "    $(function() {\n",
       "    requirejs.config({\n",
       "        paths: {\n",
       "            'displaCy': ['/files/node_modules/displacy/displacy'],\n",
       "                                                  // strip .js ^, require adds it back\n",
       "        },\n",
       "    });\n",
       "    require(['displaCy'], function() {\n",
       "        console.log(\"Loaded :)\");\n",
       "        const displacy = new displaCy('http://localhost:8000', {\n",
       "            container: '#displacy9',\n",
       "            format: 'spacy',\n",
       "            distance: 150,\n",
       "            offsetX: 0,\n",
       "            wordSpacing: 20,\n",
       "            arrowSpacing: 3,\n",
       "\n",
       "        });\n",
       "        const parse = {\n",
       "            arcs: [{\"start\": 6, \"end\": 8, \"label\": \"pmod\", \"dir\": \"right\"}, {\"start\": 0, \"end\": 3, \"label\": \"root\", \"dir\": \"right\"}, {\"start\": 3, \"end\": 5, \"label\": \"dobj\", \"dir\": \"right\"}, {\"start\": 7, \"end\": 8, \"label\": \"amod\", \"dir\": \"left\"}, {\"start\": 2, \"end\": 3, \"label\": \"nsubj\", \"dir\": \"left\"}, {\"start\": 4, \"end\": 5, \"label\": \"amod\", \"dir\": \"left\"}, {\"start\": 1, \"end\": 2, \"label\": \"amod\", \"dir\": \"left\"}, {\"start\": 5, \"end\": 6, \"label\": \"prep\", \"dir\": \"right\"}],\n",
       "            words: [{\"text\": \"ROOT\"}, {\"text\": \"Economic\"}, {\"text\": \"news\"}, {\"text\": \"had\"}, {\"text\": \"little\"}, {\"text\": \"effect\"}, {\"text\": \"on\"}, {\"text\": \"financial\"}, {\"text\": \"markets\"}, {\"text\": \".\"}]\n",
       "        };\n",
       "\n",
       "        displacy.render(parse, {\n",
       "            uniqueId: 'render_displacy9'\n",
       "            //color: '#ff0000'\n",
       "        });\n",
       "        return {};\n",
       "    });\n",
       "    });\n",
       "    </script></td><td>rightArc-pmod</td></tr>\n",
       "<tr><td>.</td><td>ROOT had effect on</td><td>\n",
       "    <div id='displacy10' style=\"overflow: scroll; width: 500px;\"></div>\n",
       "    <script>\n",
       "    $(function() {\n",
       "    requirejs.config({\n",
       "        paths: {\n",
       "            'displaCy': ['/files/node_modules/displacy/displacy'],\n",
       "                                                  // strip .js ^, require adds it back\n",
       "        },\n",
       "    });\n",
       "    require(['displaCy'], function() {\n",
       "        console.log(\"Loaded :)\");\n",
       "        const displacy = new displaCy('http://localhost:8000', {\n",
       "            container: '#displacy10',\n",
       "            format: 'spacy',\n",
       "            distance: 150,\n",
       "            offsetX: 0,\n",
       "            wordSpacing: 20,\n",
       "            arrowSpacing: 3,\n",
       "\n",
       "        });\n",
       "        const parse = {\n",
       "            arcs: [{\"start\": 6, \"end\": 8, \"label\": \"pmod\", \"dir\": \"right\"}, {\"start\": 0, \"end\": 3, \"label\": \"root\", \"dir\": \"right\"}, {\"start\": 3, \"end\": 5, \"label\": \"dobj\", \"dir\": \"right\"}, {\"start\": 7, \"end\": 8, \"label\": \"amod\", \"dir\": \"left\"}, {\"start\": 2, \"end\": 3, \"label\": \"nsubj\", \"dir\": \"left\"}, {\"start\": 4, \"end\": 5, \"label\": \"amod\", \"dir\": \"left\"}, {\"start\": 1, \"end\": 2, \"label\": \"amod\", \"dir\": \"left\"}, {\"start\": 5, \"end\": 6, \"label\": \"prep\", \"dir\": \"right\"}],\n",
       "            words: [{\"text\": \"ROOT\"}, {\"text\": \"Economic\"}, {\"text\": \"news\"}, {\"text\": \"had\"}, {\"text\": \"little\"}, {\"text\": \"effect\"}, {\"text\": \"on\"}, {\"text\": \"financial\"}, {\"text\": \"markets\"}, {\"text\": \".\"}]\n",
       "        };\n",
       "\n",
       "        displacy.render(parse, {\n",
       "            uniqueId: 'render_displacy10'\n",
       "            //color: '#ff0000'\n",
       "        });\n",
       "        return {};\n",
       "    });\n",
       "    });\n",
       "    </script></td><td>reduce</td></tr></table>"
      ],
      "text/plain": [
       "<statnlpbook.transition.render_transitions_displacy.<locals>.Output at 0x1130ed6d8>"
      ]
     },
     "execution_count": 7,
     "metadata": {},
     "output_type": "execute_result"
    }
   ],
   "source": [
    "render_transitions_displacy(transitions[13:15], tokenized_sentence)"
   ]
  },
  {
   "cell_type": "markdown",
   "metadata": {
    "slideshow": {
     "slide_type": "subslide"
    }
   },
   "source": [
    "## rightArc-[label]\n",
    "\n",
    "add labeled arc from top of stack \\\\(i\\\\) to top of the buffer \\\\(j\\\\) \n",
    "\n",
    "$$\n",
    "(S|i, j|B, A) \\rightarrow (S|i|j, B, A\\cup\\{(i,j,l)\\})\n",
    "$$\n"
   ]
  },
  {
   "cell_type": "code",
   "execution_count": 8,
   "metadata": {
    "scrolled": true,
    "slideshow": {
     "slide_type": "-"
    }
   },
   "outputs": [
    {
     "data": {
      "text/html": [
       "<table><tr><td>buffer</td><td>stack</td><td>parse</td><td>action</td></tr>\n",
       "<tr><td>had little effect on financial markets .</td><td>ROOT</td><td>\n",
       "    <div id='displacy11' style=\"overflow: scroll; width: 500px;\"></div>\n",
       "    <script>\n",
       "    $(function() {\n",
       "    requirejs.config({\n",
       "        paths: {\n",
       "            'displaCy': ['/files/node_modules/displacy/displacy'],\n",
       "                                                  // strip .js ^, require adds it back\n",
       "        },\n",
       "    });\n",
       "    require(['displaCy'], function() {\n",
       "        console.log(\"Loaded :)\");\n",
       "        const displacy = new displaCy('http://localhost:8000', {\n",
       "            container: '#displacy11',\n",
       "            format: 'spacy',\n",
       "            distance: 150,\n",
       "            offsetX: 0,\n",
       "            wordSpacing: 20,\n",
       "            arrowSpacing: 3,\n",
       "\n",
       "        });\n",
       "        const parse = {\n",
       "            arcs: [{\"start\": 1, \"end\": 2, \"label\": \"amod\", \"dir\": \"left\"}, {\"start\": 2, \"end\": 3, \"label\": \"nsubj\", \"dir\": \"left\"}],\n",
       "            words: [{\"text\": \"ROOT\"}, {\"text\": \"Economic\"}, {\"text\": \"news\"}, {\"text\": \"had\"}]\n",
       "        };\n",
       "\n",
       "        displacy.render(parse, {\n",
       "            uniqueId: 'render_displacy11'\n",
       "            //color: '#ff0000'\n",
       "        });\n",
       "        return {};\n",
       "    });\n",
       "    });\n",
       "    </script></td><td>leftArc-nsubj</td></tr>\n",
       "<tr><td>little effect on financial markets .</td><td>ROOT had</td><td>\n",
       "    <div id='displacy12' style=\"overflow: scroll; width: 500px;\"></div>\n",
       "    <script>\n",
       "    $(function() {\n",
       "    requirejs.config({\n",
       "        paths: {\n",
       "            'displaCy': ['/files/node_modules/displacy/displacy'],\n",
       "                                                  // strip .js ^, require adds it back\n",
       "        },\n",
       "    });\n",
       "    require(['displaCy'], function() {\n",
       "        console.log(\"Loaded :)\");\n",
       "        const displacy = new displaCy('http://localhost:8000', {\n",
       "            container: '#displacy12',\n",
       "            format: 'spacy',\n",
       "            distance: 150,\n",
       "            offsetX: 0,\n",
       "            wordSpacing: 20,\n",
       "            arrowSpacing: 3,\n",
       "\n",
       "        });\n",
       "        const parse = {\n",
       "            arcs: [{\"start\": 0, \"end\": 3, \"label\": \"root\", \"dir\": \"right\"}, {\"start\": 1, \"end\": 2, \"label\": \"amod\", \"dir\": \"left\"}, {\"start\": 2, \"end\": 3, \"label\": \"nsubj\", \"dir\": \"left\"}],\n",
       "            words: [{\"text\": \"ROOT\"}, {\"text\": \"Economic\"}, {\"text\": \"news\"}, {\"text\": \"had\"}, {\"text\": \"little\"}]\n",
       "        };\n",
       "\n",
       "        displacy.render(parse, {\n",
       "            uniqueId: 'render_displacy12'\n",
       "            //color: '#ff0000'\n",
       "        });\n",
       "        return {};\n",
       "    });\n",
       "    });\n",
       "    </script></td><td>rightArc-root</td></tr></table>"
      ],
      "text/plain": [
       "<statnlpbook.transition.render_transitions_displacy.<locals>.Output at 0x1130ed400>"
      ]
     },
     "execution_count": 8,
     "metadata": {},
     "output_type": "execute_result"
    }
   ],
   "source": [
    "render_transitions_displacy(transitions[5:7], tokenized_sentence)"
   ]
  },
  {
   "cell_type": "markdown",
   "metadata": {
    "slideshow": {
     "slide_type": "subslide"
    }
   },
   "source": [
    "### leftArc-[label] \n",
    "\n",
    "add labeled arc from top of buffer, \\\\(j\\\\), to top of stack, \\\\(i\\\\), if \\\\(i\\\\) has no head \n",
    "\n",
    "$$\n",
    "(S|i, j|B, A) \\rightarrow (S, j|B, A\\cup\\{(j,i,l)\\})\n",
    "$$\n"
   ]
  },
  {
   "cell_type": "code",
   "execution_count": 9,
   "metadata": {
    "scrolled": true,
    "slideshow": {
     "slide_type": "-"
    }
   },
   "outputs": [
    {
     "data": {
      "text/html": [
       "<table><tr><td>buffer</td><td>stack</td><td>parse</td><td>action</td></tr>\n",
       "<tr><td>news had little effect on financial markets .</td><td>ROOT Economic</td><td>\n",
       "    <div id='displacy13' style=\"overflow: scroll; width: 500px;\"></div>\n",
       "    <script>\n",
       "    $(function() {\n",
       "    requirejs.config({\n",
       "        paths: {\n",
       "            'displaCy': ['/files/node_modules/displacy/displacy'],\n",
       "                                                  // strip .js ^, require adds it back\n",
       "        },\n",
       "    });\n",
       "    require(['displaCy'], function() {\n",
       "        console.log(\"Loaded :)\");\n",
       "        const displacy = new displaCy('http://localhost:8000', {\n",
       "            container: '#displacy13',\n",
       "            format: 'spacy',\n",
       "            distance: 150,\n",
       "            offsetX: 0,\n",
       "            wordSpacing: 20,\n",
       "            arrowSpacing: 3,\n",
       "\n",
       "        });\n",
       "        const parse = {\n",
       "            arcs: [],\n",
       "            words: [{\"text\": \"ROOT\"}, {\"text\": \"Economic\"}, {\"text\": \"news\"}]\n",
       "        };\n",
       "\n",
       "        displacy.render(parse, {\n",
       "            uniqueId: 'render_displacy13'\n",
       "            //color: '#ff0000'\n",
       "        });\n",
       "        return {};\n",
       "    });\n",
       "    });\n",
       "    </script></td><td>shift</td></tr>\n",
       "<tr><td>news had little effect on financial markets .</td><td>ROOT</td><td>\n",
       "    <div id='displacy14' style=\"overflow: scroll; width: 500px;\"></div>\n",
       "    <script>\n",
       "    $(function() {\n",
       "    requirejs.config({\n",
       "        paths: {\n",
       "            'displaCy': ['/files/node_modules/displacy/displacy'],\n",
       "                                                  // strip .js ^, require adds it back\n",
       "        },\n",
       "    });\n",
       "    require(['displaCy'], function() {\n",
       "        console.log(\"Loaded :)\");\n",
       "        const displacy = new displaCy('http://localhost:8000', {\n",
       "            container: '#displacy14',\n",
       "            format: 'spacy',\n",
       "            distance: 150,\n",
       "            offsetX: 0,\n",
       "            wordSpacing: 20,\n",
       "            arrowSpacing: 3,\n",
       "\n",
       "        });\n",
       "        const parse = {\n",
       "            arcs: [{\"start\": 1, \"end\": 2, \"label\": \"amod\", \"dir\": \"left\"}],\n",
       "            words: [{\"text\": \"ROOT\"}, {\"text\": \"Economic\"}, {\"text\": \"news\"}]\n",
       "        };\n",
       "\n",
       "        displacy.render(parse, {\n",
       "            uniqueId: 'render_displacy14'\n",
       "            //color: '#ff0000'\n",
       "        });\n",
       "        return {};\n",
       "    });\n",
       "    });\n",
       "    </script></td><td>leftArc-amod</td></tr></table>"
      ],
      "text/plain": [
       "<statnlpbook.transition.render_transitions_displacy.<locals>.Output at 0x1130ed7b8>"
      ]
     },
     "execution_count": 9,
     "metadata": {},
     "output_type": "execute_result"
    }
   ],
   "source": [
    "render_transitions_displacy(transitions[2:4], tokenized_sentence)"
   ]
  },
  {
   "cell_type": "markdown",
   "metadata": {
    "slideshow": {
     "slide_type": "subslide"
    }
   },
   "source": [
    "## Full Example"
   ]
  },
  {
   "cell_type": "code",
   "execution_count": 10,
   "metadata": {
    "scrolled": true,
    "slideshow": {
     "slide_type": "-"
    }
   },
   "outputs": [
    {
     "data": {
      "text/html": [
       "<table><tr><td>buffer</td><td>stack</td><td>parse</td><td>action</td></tr>\n",
       "<tr><td>ROOT Economic news had little effect on financial markets .</td><td></td><td>\n",
       "    <div id='displacy15' style=\"overflow: scroll; width: 500px;\"></div>\n",
       "    <script>\n",
       "    $(function() {\n",
       "    requirejs.config({\n",
       "        paths: {\n",
       "            'displaCy': ['/files/node_modules/displacy/displacy'],\n",
       "                                                  // strip .js ^, require adds it back\n",
       "        },\n",
       "    });\n",
       "    require(['displaCy'], function() {\n",
       "        console.log(\"Loaded :)\");\n",
       "        const displacy = new displaCy('http://localhost:8000', {\n",
       "            container: '#displacy15',\n",
       "            format: 'spacy',\n",
       "            distance: 150,\n",
       "            offsetX: 0,\n",
       "            wordSpacing: 20,\n",
       "            arrowSpacing: 3,\n",
       "\n",
       "        });\n",
       "        const parse = {\n",
       "            arcs: [],\n",
       "            words: [{\"text\": \"ROOT\"}]\n",
       "        };\n",
       "\n",
       "        displacy.render(parse, {\n",
       "            uniqueId: 'render_displacy15'\n",
       "            //color: '#ff0000'\n",
       "        });\n",
       "        return {};\n",
       "    });\n",
       "    });\n",
       "    </script></td><td>INIT</td></tr>\n",
       "<tr><td>Economic news had little effect on financial markets .</td><td>ROOT</td><td>\n",
       "    <div id='displacy16' style=\"overflow: scroll; width: 500px;\"></div>\n",
       "    <script>\n",
       "    $(function() {\n",
       "    requirejs.config({\n",
       "        paths: {\n",
       "            'displaCy': ['/files/node_modules/displacy/displacy'],\n",
       "                                                  // strip .js ^, require adds it back\n",
       "        },\n",
       "    });\n",
       "    require(['displaCy'], function() {\n",
       "        console.log(\"Loaded :)\");\n",
       "        const displacy = new displaCy('http://localhost:8000', {\n",
       "            container: '#displacy16',\n",
       "            format: 'spacy',\n",
       "            distance: 150,\n",
       "            offsetX: 0,\n",
       "            wordSpacing: 20,\n",
       "            arrowSpacing: 3,\n",
       "\n",
       "        });\n",
       "        const parse = {\n",
       "            arcs: [],\n",
       "            words: [{\"text\": \"ROOT\"}, {\"text\": \"Economic\"}]\n",
       "        };\n",
       "\n",
       "        displacy.render(parse, {\n",
       "            uniqueId: 'render_displacy16'\n",
       "            //color: '#ff0000'\n",
       "        });\n",
       "        return {};\n",
       "    });\n",
       "    });\n",
       "    </script></td><td>shift</td></tr>\n",
       "<tr><td>news had little effect on financial markets .</td><td>ROOT Economic</td><td>\n",
       "    <div id='displacy17' style=\"overflow: scroll; width: 500px;\"></div>\n",
       "    <script>\n",
       "    $(function() {\n",
       "    requirejs.config({\n",
       "        paths: {\n",
       "            'displaCy': ['/files/node_modules/displacy/displacy'],\n",
       "                                                  // strip .js ^, require adds it back\n",
       "        },\n",
       "    });\n",
       "    require(['displaCy'], function() {\n",
       "        console.log(\"Loaded :)\");\n",
       "        const displacy = new displaCy('http://localhost:8000', {\n",
       "            container: '#displacy17',\n",
       "            format: 'spacy',\n",
       "            distance: 150,\n",
       "            offsetX: 0,\n",
       "            wordSpacing: 20,\n",
       "            arrowSpacing: 3,\n",
       "\n",
       "        });\n",
       "        const parse = {\n",
       "            arcs: [],\n",
       "            words: [{\"text\": \"ROOT\"}, {\"text\": \"Economic\"}, {\"text\": \"news\"}]\n",
       "        };\n",
       "\n",
       "        displacy.render(parse, {\n",
       "            uniqueId: 'render_displacy17'\n",
       "            //color: '#ff0000'\n",
       "        });\n",
       "        return {};\n",
       "    });\n",
       "    });\n",
       "    </script></td><td>shift</td></tr>\n",
       "<tr><td>news had little effect on financial markets .</td><td>ROOT</td><td>\n",
       "    <div id='displacy18' style=\"overflow: scroll; width: 500px;\"></div>\n",
       "    <script>\n",
       "    $(function() {\n",
       "    requirejs.config({\n",
       "        paths: {\n",
       "            'displaCy': ['/files/node_modules/displacy/displacy'],\n",
       "                                                  // strip .js ^, require adds it back\n",
       "        },\n",
       "    });\n",
       "    require(['displaCy'], function() {\n",
       "        console.log(\"Loaded :)\");\n",
       "        const displacy = new displaCy('http://localhost:8000', {\n",
       "            container: '#displacy18',\n",
       "            format: 'spacy',\n",
       "            distance: 150,\n",
       "            offsetX: 0,\n",
       "            wordSpacing: 20,\n",
       "            arrowSpacing: 3,\n",
       "\n",
       "        });\n",
       "        const parse = {\n",
       "            arcs: [{\"start\": 1, \"end\": 2, \"label\": \"amod\", \"dir\": \"left\"}],\n",
       "            words: [{\"text\": \"ROOT\"}, {\"text\": \"Economic\"}, {\"text\": \"news\"}]\n",
       "        };\n",
       "\n",
       "        displacy.render(parse, {\n",
       "            uniqueId: 'render_displacy18'\n",
       "            //color: '#ff0000'\n",
       "        });\n",
       "        return {};\n",
       "    });\n",
       "    });\n",
       "    </script></td><td>leftArc-amod</td></tr>\n",
       "<tr><td>had little effect on financial markets .</td><td>ROOT news</td><td>\n",
       "    <div id='displacy19' style=\"overflow: scroll; width: 500px;\"></div>\n",
       "    <script>\n",
       "    $(function() {\n",
       "    requirejs.config({\n",
       "        paths: {\n",
       "            'displaCy': ['/files/node_modules/displacy/displacy'],\n",
       "                                                  // strip .js ^, require adds it back\n",
       "        },\n",
       "    });\n",
       "    require(['displaCy'], function() {\n",
       "        console.log(\"Loaded :)\");\n",
       "        const displacy = new displaCy('http://localhost:8000', {\n",
       "            container: '#displacy19',\n",
       "            format: 'spacy',\n",
       "            distance: 150,\n",
       "            offsetX: 0,\n",
       "            wordSpacing: 20,\n",
       "            arrowSpacing: 3,\n",
       "\n",
       "        });\n",
       "        const parse = {\n",
       "            arcs: [{\"start\": 1, \"end\": 2, \"label\": \"amod\", \"dir\": \"left\"}],\n",
       "            words: [{\"text\": \"ROOT\"}, {\"text\": \"Economic\"}, {\"text\": \"news\"}, {\"text\": \"had\"}]\n",
       "        };\n",
       "\n",
       "        displacy.render(parse, {\n",
       "            uniqueId: 'render_displacy19'\n",
       "            //color: '#ff0000'\n",
       "        });\n",
       "        return {};\n",
       "    });\n",
       "    });\n",
       "    </script></td><td>shift</td></tr>\n",
       "<tr><td>had little effect on financial markets .</td><td>ROOT</td><td>\n",
       "    <div id='displacy20' style=\"overflow: scroll; width: 500px;\"></div>\n",
       "    <script>\n",
       "    $(function() {\n",
       "    requirejs.config({\n",
       "        paths: {\n",
       "            'displaCy': ['/files/node_modules/displacy/displacy'],\n",
       "                                                  // strip .js ^, require adds it back\n",
       "        },\n",
       "    });\n",
       "    require(['displaCy'], function() {\n",
       "        console.log(\"Loaded :)\");\n",
       "        const displacy = new displaCy('http://localhost:8000', {\n",
       "            container: '#displacy20',\n",
       "            format: 'spacy',\n",
       "            distance: 150,\n",
       "            offsetX: 0,\n",
       "            wordSpacing: 20,\n",
       "            arrowSpacing: 3,\n",
       "\n",
       "        });\n",
       "        const parse = {\n",
       "            arcs: [{\"start\": 1, \"end\": 2, \"label\": \"amod\", \"dir\": \"left\"}, {\"start\": 2, \"end\": 3, \"label\": \"nsubj\", \"dir\": \"left\"}],\n",
       "            words: [{\"text\": \"ROOT\"}, {\"text\": \"Economic\"}, {\"text\": \"news\"}, {\"text\": \"had\"}]\n",
       "        };\n",
       "\n",
       "        displacy.render(parse, {\n",
       "            uniqueId: 'render_displacy20'\n",
       "            //color: '#ff0000'\n",
       "        });\n",
       "        return {};\n",
       "    });\n",
       "    });\n",
       "    </script></td><td>leftArc-nsubj</td></tr>\n",
       "<tr><td>little effect on financial markets .</td><td>ROOT had</td><td>\n",
       "    <div id='displacy21' style=\"overflow: scroll; width: 500px;\"></div>\n",
       "    <script>\n",
       "    $(function() {\n",
       "    requirejs.config({\n",
       "        paths: {\n",
       "            'displaCy': ['/files/node_modules/displacy/displacy'],\n",
       "                                                  // strip .js ^, require adds it back\n",
       "        },\n",
       "    });\n",
       "    require(['displaCy'], function() {\n",
       "        console.log(\"Loaded :)\");\n",
       "        const displacy = new displaCy('http://localhost:8000', {\n",
       "            container: '#displacy21',\n",
       "            format: 'spacy',\n",
       "            distance: 150,\n",
       "            offsetX: 0,\n",
       "            wordSpacing: 20,\n",
       "            arrowSpacing: 3,\n",
       "\n",
       "        });\n",
       "        const parse = {\n",
       "            arcs: [{\"start\": 0, \"end\": 3, \"label\": \"root\", \"dir\": \"right\"}, {\"start\": 1, \"end\": 2, \"label\": \"amod\", \"dir\": \"left\"}, {\"start\": 2, \"end\": 3, \"label\": \"nsubj\", \"dir\": \"left\"}],\n",
       "            words: [{\"text\": \"ROOT\"}, {\"text\": \"Economic\"}, {\"text\": \"news\"}, {\"text\": \"had\"}, {\"text\": \"little\"}]\n",
       "        };\n",
       "\n",
       "        displacy.render(parse, {\n",
       "            uniqueId: 'render_displacy21'\n",
       "            //color: '#ff0000'\n",
       "        });\n",
       "        return {};\n",
       "    });\n",
       "    });\n",
       "    </script></td><td>rightArc-root</td></tr>\n",
       "<tr><td>effect on financial markets .</td><td>ROOT had little</td><td>\n",
       "    <div id='displacy22' style=\"overflow: scroll; width: 500px;\"></div>\n",
       "    <script>\n",
       "    $(function() {\n",
       "    requirejs.config({\n",
       "        paths: {\n",
       "            'displaCy': ['/files/node_modules/displacy/displacy'],\n",
       "                                                  // strip .js ^, require adds it back\n",
       "        },\n",
       "    });\n",
       "    require(['displaCy'], function() {\n",
       "        console.log(\"Loaded :)\");\n",
       "        const displacy = new displaCy('http://localhost:8000', {\n",
       "            container: '#displacy22',\n",
       "            format: 'spacy',\n",
       "            distance: 150,\n",
       "            offsetX: 0,\n",
       "            wordSpacing: 20,\n",
       "            arrowSpacing: 3,\n",
       "\n",
       "        });\n",
       "        const parse = {\n",
       "            arcs: [{\"start\": 0, \"end\": 3, \"label\": \"root\", \"dir\": \"right\"}, {\"start\": 1, \"end\": 2, \"label\": \"amod\", \"dir\": \"left\"}, {\"start\": 2, \"end\": 3, \"label\": \"nsubj\", \"dir\": \"left\"}],\n",
       "            words: [{\"text\": \"ROOT\"}, {\"text\": \"Economic\"}, {\"text\": \"news\"}, {\"text\": \"had\"}, {\"text\": \"little\"}, {\"text\": \"effect\"}]\n",
       "        };\n",
       "\n",
       "        displacy.render(parse, {\n",
       "            uniqueId: 'render_displacy22'\n",
       "            //color: '#ff0000'\n",
       "        });\n",
       "        return {};\n",
       "    });\n",
       "    });\n",
       "    </script></td><td>shift</td></tr>\n",
       "<tr><td>effect on financial markets .</td><td>ROOT had</td><td>\n",
       "    <div id='displacy23' style=\"overflow: scroll; width: 500px;\"></div>\n",
       "    <script>\n",
       "    $(function() {\n",
       "    requirejs.config({\n",
       "        paths: {\n",
       "            'displaCy': ['/files/node_modules/displacy/displacy'],\n",
       "                                                  // strip .js ^, require adds it back\n",
       "        },\n",
       "    });\n",
       "    require(['displaCy'], function() {\n",
       "        console.log(\"Loaded :)\");\n",
       "        const displacy = new displaCy('http://localhost:8000', {\n",
       "            container: '#displacy23',\n",
       "            format: 'spacy',\n",
       "            distance: 150,\n",
       "            offsetX: 0,\n",
       "            wordSpacing: 20,\n",
       "            arrowSpacing: 3,\n",
       "\n",
       "        });\n",
       "        const parse = {\n",
       "            arcs: [{\"start\": 0, \"end\": 3, \"label\": \"root\", \"dir\": \"right\"}, {\"start\": 1, \"end\": 2, \"label\": \"amod\", \"dir\": \"left\"}, {\"start\": 2, \"end\": 3, \"label\": \"nsubj\", \"dir\": \"left\"}, {\"start\": 4, \"end\": 5, \"label\": \"amod\", \"dir\": \"left\"}],\n",
       "            words: [{\"text\": \"ROOT\"}, {\"text\": \"Economic\"}, {\"text\": \"news\"}, {\"text\": \"had\"}, {\"text\": \"little\"}, {\"text\": \"effect\"}]\n",
       "        };\n",
       "\n",
       "        displacy.render(parse, {\n",
       "            uniqueId: 'render_displacy23'\n",
       "            //color: '#ff0000'\n",
       "        });\n",
       "        return {};\n",
       "    });\n",
       "    });\n",
       "    </script></td><td>leftArc-amod</td></tr>\n",
       "<tr><td>on financial markets .</td><td>ROOT had effect</td><td>\n",
       "    <div id='displacy24' style=\"overflow: scroll; width: 500px;\"></div>\n",
       "    <script>\n",
       "    $(function() {\n",
       "    requirejs.config({\n",
       "        paths: {\n",
       "            'displaCy': ['/files/node_modules/displacy/displacy'],\n",
       "                                                  // strip .js ^, require adds it back\n",
       "        },\n",
       "    });\n",
       "    require(['displaCy'], function() {\n",
       "        console.log(\"Loaded :)\");\n",
       "        const displacy = new displaCy('http://localhost:8000', {\n",
       "            container: '#displacy24',\n",
       "            format: 'spacy',\n",
       "            distance: 150,\n",
       "            offsetX: 0,\n",
       "            wordSpacing: 20,\n",
       "            arrowSpacing: 3,\n",
       "\n",
       "        });\n",
       "        const parse = {\n",
       "            arcs: [{\"start\": 0, \"end\": 3, \"label\": \"root\", \"dir\": \"right\"}, {\"start\": 3, \"end\": 5, \"label\": \"dobj\", \"dir\": \"right\"}, {\"start\": 2, \"end\": 3, \"label\": \"nsubj\", \"dir\": \"left\"}, {\"start\": 4, \"end\": 5, \"label\": \"amod\", \"dir\": \"left\"}, {\"start\": 1, \"end\": 2, \"label\": \"amod\", \"dir\": \"left\"}],\n",
       "            words: [{\"text\": \"ROOT\"}, {\"text\": \"Economic\"}, {\"text\": \"news\"}, {\"text\": \"had\"}, {\"text\": \"little\"}, {\"text\": \"effect\"}, {\"text\": \"on\"}]\n",
       "        };\n",
       "\n",
       "        displacy.render(parse, {\n",
       "            uniqueId: 'render_displacy24'\n",
       "            //color: '#ff0000'\n",
       "        });\n",
       "        return {};\n",
       "    });\n",
       "    });\n",
       "    </script></td><td>rightArc-dobj</td></tr>\n",
       "<tr><td>financial markets .</td><td>ROOT had effect on</td><td>\n",
       "    <div id='displacy25' style=\"overflow: scroll; width: 500px;\"></div>\n",
       "    <script>\n",
       "    $(function() {\n",
       "    requirejs.config({\n",
       "        paths: {\n",
       "            'displaCy': ['/files/node_modules/displacy/displacy'],\n",
       "                                                  // strip .js ^, require adds it back\n",
       "        },\n",
       "    });\n",
       "    require(['displaCy'], function() {\n",
       "        console.log(\"Loaded :)\");\n",
       "        const displacy = new displaCy('http://localhost:8000', {\n",
       "            container: '#displacy25',\n",
       "            format: 'spacy',\n",
       "            distance: 150,\n",
       "            offsetX: 0,\n",
       "            wordSpacing: 20,\n",
       "            arrowSpacing: 3,\n",
       "\n",
       "        });\n",
       "        const parse = {\n",
       "            arcs: [{\"start\": 0, \"end\": 3, \"label\": \"root\", \"dir\": \"right\"}, {\"start\": 3, \"end\": 5, \"label\": \"dobj\", \"dir\": \"right\"}, {\"start\": 2, \"end\": 3, \"label\": \"nsubj\", \"dir\": \"left\"}, {\"start\": 4, \"end\": 5, \"label\": \"amod\", \"dir\": \"left\"}, {\"start\": 1, \"end\": 2, \"label\": \"amod\", \"dir\": \"left\"}, {\"start\": 5, \"end\": 6, \"label\": \"prep\", \"dir\": \"right\"}],\n",
       "            words: [{\"text\": \"ROOT\"}, {\"text\": \"Economic\"}, {\"text\": \"news\"}, {\"text\": \"had\"}, {\"text\": \"little\"}, {\"text\": \"effect\"}, {\"text\": \"on\"}, {\"text\": \"financial\"}]\n",
       "        };\n",
       "\n",
       "        displacy.render(parse, {\n",
       "            uniqueId: 'render_displacy25'\n",
       "            //color: '#ff0000'\n",
       "        });\n",
       "        return {};\n",
       "    });\n",
       "    });\n",
       "    </script></td><td>rightArc-prep</td></tr>\n",
       "<tr><td>markets .</td><td>ROOT had effect on financial</td><td>\n",
       "    <div id='displacy26' style=\"overflow: scroll; width: 500px;\"></div>\n",
       "    <script>\n",
       "    $(function() {\n",
       "    requirejs.config({\n",
       "        paths: {\n",
       "            'displaCy': ['/files/node_modules/displacy/displacy'],\n",
       "                                                  // strip .js ^, require adds it back\n",
       "        },\n",
       "    });\n",
       "    require(['displaCy'], function() {\n",
       "        console.log(\"Loaded :)\");\n",
       "        const displacy = new displaCy('http://localhost:8000', {\n",
       "            container: '#displacy26',\n",
       "            format: 'spacy',\n",
       "            distance: 150,\n",
       "            offsetX: 0,\n",
       "            wordSpacing: 20,\n",
       "            arrowSpacing: 3,\n",
       "\n",
       "        });\n",
       "        const parse = {\n",
       "            arcs: [{\"start\": 0, \"end\": 3, \"label\": \"root\", \"dir\": \"right\"}, {\"start\": 3, \"end\": 5, \"label\": \"dobj\", \"dir\": \"right\"}, {\"start\": 2, \"end\": 3, \"label\": \"nsubj\", \"dir\": \"left\"}, {\"start\": 4, \"end\": 5, \"label\": \"amod\", \"dir\": \"left\"}, {\"start\": 1, \"end\": 2, \"label\": \"amod\", \"dir\": \"left\"}, {\"start\": 5, \"end\": 6, \"label\": \"prep\", \"dir\": \"right\"}],\n",
       "            words: [{\"text\": \"ROOT\"}, {\"text\": \"Economic\"}, {\"text\": \"news\"}, {\"text\": \"had\"}, {\"text\": \"little\"}, {\"text\": \"effect\"}, {\"text\": \"on\"}, {\"text\": \"financial\"}, {\"text\": \"markets\"}]\n",
       "        };\n",
       "\n",
       "        displacy.render(parse, {\n",
       "            uniqueId: 'render_displacy26'\n",
       "            //color: '#ff0000'\n",
       "        });\n",
       "        return {};\n",
       "    });\n",
       "    });\n",
       "    </script></td><td>shift</td></tr>\n",
       "<tr><td>markets .</td><td>ROOT had effect on</td><td>\n",
       "    <div id='displacy27' style=\"overflow: scroll; width: 500px;\"></div>\n",
       "    <script>\n",
       "    $(function() {\n",
       "    requirejs.config({\n",
       "        paths: {\n",
       "            'displaCy': ['/files/node_modules/displacy/displacy'],\n",
       "                                                  // strip .js ^, require adds it back\n",
       "        },\n",
       "    });\n",
       "    require(['displaCy'], function() {\n",
       "        console.log(\"Loaded :)\");\n",
       "        const displacy = new displaCy('http://localhost:8000', {\n",
       "            container: '#displacy27',\n",
       "            format: 'spacy',\n",
       "            distance: 150,\n",
       "            offsetX: 0,\n",
       "            wordSpacing: 20,\n",
       "            arrowSpacing: 3,\n",
       "\n",
       "        });\n",
       "        const parse = {\n",
       "            arcs: [{\"start\": 0, \"end\": 3, \"label\": \"root\", \"dir\": \"right\"}, {\"start\": 3, \"end\": 5, \"label\": \"dobj\", \"dir\": \"right\"}, {\"start\": 7, \"end\": 8, \"label\": \"amod\", \"dir\": \"left\"}, {\"start\": 2, \"end\": 3, \"label\": \"nsubj\", \"dir\": \"left\"}, {\"start\": 4, \"end\": 5, \"label\": \"amod\", \"dir\": \"left\"}, {\"start\": 1, \"end\": 2, \"label\": \"amod\", \"dir\": \"left\"}, {\"start\": 5, \"end\": 6, \"label\": \"prep\", \"dir\": \"right\"}],\n",
       "            words: [{\"text\": \"ROOT\"}, {\"text\": \"Economic\"}, {\"text\": \"news\"}, {\"text\": \"had\"}, {\"text\": \"little\"}, {\"text\": \"effect\"}, {\"text\": \"on\"}, {\"text\": \"financial\"}, {\"text\": \"markets\"}]\n",
       "        };\n",
       "\n",
       "        displacy.render(parse, {\n",
       "            uniqueId: 'render_displacy27'\n",
       "            //color: '#ff0000'\n",
       "        });\n",
       "        return {};\n",
       "    });\n",
       "    });\n",
       "    </script></td><td>leftArc-amod</td></tr>\n",
       "<tr><td>.</td><td>ROOT had effect on markets</td><td>\n",
       "    <div id='displacy28' style=\"overflow: scroll; width: 500px;\"></div>\n",
       "    <script>\n",
       "    $(function() {\n",
       "    requirejs.config({\n",
       "        paths: {\n",
       "            'displaCy': ['/files/node_modules/displacy/displacy'],\n",
       "                                                  // strip .js ^, require adds it back\n",
       "        },\n",
       "    });\n",
       "    require(['displaCy'], function() {\n",
       "        console.log(\"Loaded :)\");\n",
       "        const displacy = new displaCy('http://localhost:8000', {\n",
       "            container: '#displacy28',\n",
       "            format: 'spacy',\n",
       "            distance: 150,\n",
       "            offsetX: 0,\n",
       "            wordSpacing: 20,\n",
       "            arrowSpacing: 3,\n",
       "\n",
       "        });\n",
       "        const parse = {\n",
       "            arcs: [{\"start\": 6, \"end\": 8, \"label\": \"pmod\", \"dir\": \"right\"}, {\"start\": 0, \"end\": 3, \"label\": \"root\", \"dir\": \"right\"}, {\"start\": 3, \"end\": 5, \"label\": \"dobj\", \"dir\": \"right\"}, {\"start\": 7, \"end\": 8, \"label\": \"amod\", \"dir\": \"left\"}, {\"start\": 2, \"end\": 3, \"label\": \"nsubj\", \"dir\": \"left\"}, {\"start\": 4, \"end\": 5, \"label\": \"amod\", \"dir\": \"left\"}, {\"start\": 1, \"end\": 2, \"label\": \"amod\", \"dir\": \"left\"}, {\"start\": 5, \"end\": 6, \"label\": \"prep\", \"dir\": \"right\"}],\n",
       "            words: [{\"text\": \"ROOT\"}, {\"text\": \"Economic\"}, {\"text\": \"news\"}, {\"text\": \"had\"}, {\"text\": \"little\"}, {\"text\": \"effect\"}, {\"text\": \"on\"}, {\"text\": \"financial\"}, {\"text\": \"markets\"}, {\"text\": \".\"}]\n",
       "        };\n",
       "\n",
       "        displacy.render(parse, {\n",
       "            uniqueId: 'render_displacy28'\n",
       "            //color: '#ff0000'\n",
       "        });\n",
       "        return {};\n",
       "    });\n",
       "    });\n",
       "    </script></td><td>rightArc-pmod</td></tr>\n",
       "<tr><td>.</td><td>ROOT had effect on</td><td>\n",
       "    <div id='displacy29' style=\"overflow: scroll; width: 500px;\"></div>\n",
       "    <script>\n",
       "    $(function() {\n",
       "    requirejs.config({\n",
       "        paths: {\n",
       "            'displaCy': ['/files/node_modules/displacy/displacy'],\n",
       "                                                  // strip .js ^, require adds it back\n",
       "        },\n",
       "    });\n",
       "    require(['displaCy'], function() {\n",
       "        console.log(\"Loaded :)\");\n",
       "        const displacy = new displaCy('http://localhost:8000', {\n",
       "            container: '#displacy29',\n",
       "            format: 'spacy',\n",
       "            distance: 150,\n",
       "            offsetX: 0,\n",
       "            wordSpacing: 20,\n",
       "            arrowSpacing: 3,\n",
       "\n",
       "        });\n",
       "        const parse = {\n",
       "            arcs: [{\"start\": 6, \"end\": 8, \"label\": \"pmod\", \"dir\": \"right\"}, {\"start\": 0, \"end\": 3, \"label\": \"root\", \"dir\": \"right\"}, {\"start\": 3, \"end\": 5, \"label\": \"dobj\", \"dir\": \"right\"}, {\"start\": 7, \"end\": 8, \"label\": \"amod\", \"dir\": \"left\"}, {\"start\": 2, \"end\": 3, \"label\": \"nsubj\", \"dir\": \"left\"}, {\"start\": 4, \"end\": 5, \"label\": \"amod\", \"dir\": \"left\"}, {\"start\": 1, \"end\": 2, \"label\": \"amod\", \"dir\": \"left\"}, {\"start\": 5, \"end\": 6, \"label\": \"prep\", \"dir\": \"right\"}],\n",
       "            words: [{\"text\": \"ROOT\"}, {\"text\": \"Economic\"}, {\"text\": \"news\"}, {\"text\": \"had\"}, {\"text\": \"little\"}, {\"text\": \"effect\"}, {\"text\": \"on\"}, {\"text\": \"financial\"}, {\"text\": \"markets\"}, {\"text\": \".\"}]\n",
       "        };\n",
       "\n",
       "        displacy.render(parse, {\n",
       "            uniqueId: 'render_displacy29'\n",
       "            //color: '#ff0000'\n",
       "        });\n",
       "        return {};\n",
       "    });\n",
       "    });\n",
       "    </script></td><td>reduce</td></tr>\n",
       "<tr><td>.</td><td>ROOT had effect</td><td>\n",
       "    <div id='displacy30' style=\"overflow: scroll; width: 500px;\"></div>\n",
       "    <script>\n",
       "    $(function() {\n",
       "    requirejs.config({\n",
       "        paths: {\n",
       "            'displaCy': ['/files/node_modules/displacy/displacy'],\n",
       "                                                  // strip .js ^, require adds it back\n",
       "        },\n",
       "    });\n",
       "    require(['displaCy'], function() {\n",
       "        console.log(\"Loaded :)\");\n",
       "        const displacy = new displaCy('http://localhost:8000', {\n",
       "            container: '#displacy30',\n",
       "            format: 'spacy',\n",
       "            distance: 150,\n",
       "            offsetX: 0,\n",
       "            wordSpacing: 20,\n",
       "            arrowSpacing: 3,\n",
       "\n",
       "        });\n",
       "        const parse = {\n",
       "            arcs: [{\"start\": 6, \"end\": 8, \"label\": \"pmod\", \"dir\": \"right\"}, {\"start\": 0, \"end\": 3, \"label\": \"root\", \"dir\": \"right\"}, {\"start\": 3, \"end\": 5, \"label\": \"dobj\", \"dir\": \"right\"}, {\"start\": 7, \"end\": 8, \"label\": \"amod\", \"dir\": \"left\"}, {\"start\": 2, \"end\": 3, \"label\": \"nsubj\", \"dir\": \"left\"}, {\"start\": 4, \"end\": 5, \"label\": \"amod\", \"dir\": \"left\"}, {\"start\": 1, \"end\": 2, \"label\": \"amod\", \"dir\": \"left\"}, {\"start\": 5, \"end\": 6, \"label\": \"prep\", \"dir\": \"right\"}],\n",
       "            words: [{\"text\": \"ROOT\"}, {\"text\": \"Economic\"}, {\"text\": \"news\"}, {\"text\": \"had\"}, {\"text\": \"little\"}, {\"text\": \"effect\"}, {\"text\": \"on\"}, {\"text\": \"financial\"}, {\"text\": \"markets\"}, {\"text\": \".\"}]\n",
       "        };\n",
       "\n",
       "        displacy.render(parse, {\n",
       "            uniqueId: 'render_displacy30'\n",
       "            //color: '#ff0000'\n",
       "        });\n",
       "        return {};\n",
       "    });\n",
       "    });\n",
       "    </script></td><td>reduce</td></tr>\n",
       "<tr><td>.</td><td>ROOT had</td><td>\n",
       "    <div id='displacy31' style=\"overflow: scroll; width: 500px;\"></div>\n",
       "    <script>\n",
       "    $(function() {\n",
       "    requirejs.config({\n",
       "        paths: {\n",
       "            'displaCy': ['/files/node_modules/displacy/displacy'],\n",
       "                                                  // strip .js ^, require adds it back\n",
       "        },\n",
       "    });\n",
       "    require(['displaCy'], function() {\n",
       "        console.log(\"Loaded :)\");\n",
       "        const displacy = new displaCy('http://localhost:8000', {\n",
       "            container: '#displacy31',\n",
       "            format: 'spacy',\n",
       "            distance: 150,\n",
       "            offsetX: 0,\n",
       "            wordSpacing: 20,\n",
       "            arrowSpacing: 3,\n",
       "\n",
       "        });\n",
       "        const parse = {\n",
       "            arcs: [{\"start\": 6, \"end\": 8, \"label\": \"pmod\", \"dir\": \"right\"}, {\"start\": 0, \"end\": 3, \"label\": \"root\", \"dir\": \"right\"}, {\"start\": 3, \"end\": 5, \"label\": \"dobj\", \"dir\": \"right\"}, {\"start\": 7, \"end\": 8, \"label\": \"amod\", \"dir\": \"left\"}, {\"start\": 2, \"end\": 3, \"label\": \"nsubj\", \"dir\": \"left\"}, {\"start\": 4, \"end\": 5, \"label\": \"amod\", \"dir\": \"left\"}, {\"start\": 1, \"end\": 2, \"label\": \"amod\", \"dir\": \"left\"}, {\"start\": 5, \"end\": 6, \"label\": \"prep\", \"dir\": \"right\"}],\n",
       "            words: [{\"text\": \"ROOT\"}, {\"text\": \"Economic\"}, {\"text\": \"news\"}, {\"text\": \"had\"}, {\"text\": \"little\"}, {\"text\": \"effect\"}, {\"text\": \"on\"}, {\"text\": \"financial\"}, {\"text\": \"markets\"}, {\"text\": \".\"}]\n",
       "        };\n",
       "\n",
       "        displacy.render(parse, {\n",
       "            uniqueId: 'render_displacy31'\n",
       "            //color: '#ff0000'\n",
       "        });\n",
       "        return {};\n",
       "    });\n",
       "    });\n",
       "    </script></td><td>reduce</td></tr>\n",
       "<tr><td>.</td><td>ROOT</td><td>\n",
       "    <div id='displacy32' style=\"overflow: scroll; width: 500px;\"></div>\n",
       "    <script>\n",
       "    $(function() {\n",
       "    requirejs.config({\n",
       "        paths: {\n",
       "            'displaCy': ['/files/node_modules/displacy/displacy'],\n",
       "                                                  // strip .js ^, require adds it back\n",
       "        },\n",
       "    });\n",
       "    require(['displaCy'], function() {\n",
       "        console.log(\"Loaded :)\");\n",
       "        const displacy = new displaCy('http://localhost:8000', {\n",
       "            container: '#displacy32',\n",
       "            format: 'spacy',\n",
       "            distance: 150,\n",
       "            offsetX: 0,\n",
       "            wordSpacing: 20,\n",
       "            arrowSpacing: 3,\n",
       "\n",
       "        });\n",
       "        const parse = {\n",
       "            arcs: [{\"start\": 6, \"end\": 8, \"label\": \"pmod\", \"dir\": \"right\"}, {\"start\": 0, \"end\": 3, \"label\": \"root\", \"dir\": \"right\"}, {\"start\": 3, \"end\": 5, \"label\": \"dobj\", \"dir\": \"right\"}, {\"start\": 7, \"end\": 8, \"label\": \"amod\", \"dir\": \"left\"}, {\"start\": 2, \"end\": 3, \"label\": \"nsubj\", \"dir\": \"left\"}, {\"start\": 4, \"end\": 5, \"label\": \"amod\", \"dir\": \"left\"}, {\"start\": 1, \"end\": 2, \"label\": \"amod\", \"dir\": \"left\"}, {\"start\": 5, \"end\": 6, \"label\": \"prep\", \"dir\": \"right\"}],\n",
       "            words: [{\"text\": \"ROOT\"}, {\"text\": \"Economic\"}, {\"text\": \"news\"}, {\"text\": \"had\"}, {\"text\": \"little\"}, {\"text\": \"effect\"}, {\"text\": \"on\"}, {\"text\": \"financial\"}, {\"text\": \"markets\"}, {\"text\": \".\"}]\n",
       "        };\n",
       "\n",
       "        displacy.render(parse, {\n",
       "            uniqueId: 'render_displacy32'\n",
       "            //color: '#ff0000'\n",
       "        });\n",
       "        return {};\n",
       "    });\n",
       "    });\n",
       "    </script></td><td>reduce</td></tr>\n",
       "<tr><td></td><td>ROOT .</td><td>\n",
       "    <div id='displacy33' style=\"overflow: scroll; width: 500px;\"></div>\n",
       "    <script>\n",
       "    $(function() {\n",
       "    requirejs.config({\n",
       "        paths: {\n",
       "            'displaCy': ['/files/node_modules/displacy/displacy'],\n",
       "                                                  // strip .js ^, require adds it back\n",
       "        },\n",
       "    });\n",
       "    require(['displaCy'], function() {\n",
       "        console.log(\"Loaded :)\");\n",
       "        const displacy = new displaCy('http://localhost:8000', {\n",
       "            container: '#displacy33',\n",
       "            format: 'spacy',\n",
       "            distance: 150,\n",
       "            offsetX: 0,\n",
       "            wordSpacing: 20,\n",
       "            arrowSpacing: 3,\n",
       "\n",
       "        });\n",
       "        const parse = {\n",
       "            arcs: [{\"start\": 6, \"end\": 8, \"label\": \"pmod\", \"dir\": \"right\"}, {\"start\": 0, \"end\": 3, \"label\": \"root\", \"dir\": \"right\"}, {\"start\": 3, \"end\": 5, \"label\": \"dobj\", \"dir\": \"right\"}, {\"start\": 7, \"end\": 8, \"label\": \"amod\", \"dir\": \"left\"}, {\"start\": 0, \"end\": 9, \"label\": \"p\", \"dir\": \"right\"}, {\"start\": 2, \"end\": 3, \"label\": \"nsubj\", \"dir\": \"left\"}, {\"start\": 4, \"end\": 5, \"label\": \"amod\", \"dir\": \"left\"}, {\"start\": 1, \"end\": 2, \"label\": \"amod\", \"dir\": \"left\"}, {\"start\": 5, \"end\": 6, \"label\": \"prep\", \"dir\": \"right\"}],\n",
       "            words: [{\"text\": \"ROOT\"}, {\"text\": \"Economic\"}, {\"text\": \"news\"}, {\"text\": \"had\"}, {\"text\": \"little\"}, {\"text\": \"effect\"}, {\"text\": \"on\"}, {\"text\": \"financial\"}, {\"text\": \"markets\"}, {\"text\": \".\"}]\n",
       "        };\n",
       "\n",
       "        displacy.render(parse, {\n",
       "            uniqueId: 'render_displacy33'\n",
       "            //color: '#ff0000'\n",
       "        });\n",
       "        return {};\n",
       "    });\n",
       "    });\n",
       "    </script></td><td>rightArc-p</td></tr>\n",
       "<tr><td></td><td>ROOT .</td><td>\n",
       "    <div id='displacy34' style=\"overflow: scroll; width: 500px;\"></div>\n",
       "    <script>\n",
       "    $(function() {\n",
       "    requirejs.config({\n",
       "        paths: {\n",
       "            'displaCy': ['/files/node_modules/displacy/displacy'],\n",
       "                                                  // strip .js ^, require adds it back\n",
       "        },\n",
       "    });\n",
       "    require(['displaCy'], function() {\n",
       "        console.log(\"Loaded :)\");\n",
       "        const displacy = new displaCy('http://localhost:8000', {\n",
       "            container: '#displacy34',\n",
       "            format: 'spacy',\n",
       "            distance: 150,\n",
       "            offsetX: 0,\n",
       "            wordSpacing: 20,\n",
       "            arrowSpacing: 3,\n",
       "\n",
       "        });\n",
       "        const parse = {\n",
       "            arcs: [{\"start\": 6, \"end\": 8, \"label\": \"pmod\", \"dir\": \"right\"}, {\"start\": 0, \"end\": 3, \"label\": \"root\", \"dir\": \"right\"}, {\"start\": 3, \"end\": 5, \"label\": \"dobj\", \"dir\": \"right\"}, {\"start\": 7, \"end\": 8, \"label\": \"amod\", \"dir\": \"left\"}, {\"start\": 0, \"end\": 9, \"label\": \"p\", \"dir\": \"right\"}, {\"start\": 2, \"end\": 3, \"label\": \"nsubj\", \"dir\": \"left\"}, {\"start\": 4, \"end\": 5, \"label\": \"amod\", \"dir\": \"left\"}, {\"start\": 1, \"end\": 2, \"label\": \"amod\", \"dir\": \"left\"}, {\"start\": 5, \"end\": 6, \"label\": \"prep\", \"dir\": \"right\"}],\n",
       "            words: [{\"text\": \"ROOT\"}, {\"text\": \"Economic\"}, {\"text\": \"news\"}, {\"text\": \"had\"}, {\"text\": \"little\"}, {\"text\": \"effect\"}, {\"text\": \"on\"}, {\"text\": \"financial\"}, {\"text\": \"markets\"}, {\"text\": \".\"}]\n",
       "        };\n",
       "\n",
       "        displacy.render(parse, {\n",
       "            uniqueId: 'render_displacy34'\n",
       "            //color: '#ff0000'\n",
       "        });\n",
       "        return {};\n",
       "    });\n",
       "    });\n",
       "    </script></td><td>TERMINAL</td></tr></table>"
      ],
      "text/plain": [
       "<statnlpbook.transition.render_transitions_displacy.<locals>.Output at 0x1130ed668>"
      ]
     },
     "execution_count": 10,
     "metadata": {},
     "output_type": "execute_result"
    }
   ],
   "source": [
    "render_transitions_displacy(transitions[:], tokenized_sentence)"
   ]
  },
  {
   "cell_type": "markdown",
   "metadata": {
    "slideshow": {
     "slide_type": "slide"
    }
   },
   "source": [
    "## Machine Learning\n",
    "\n",
    "How to decide what action to take? \n",
    "\n",
    "* Learn a discriminative classifier $s(\\x,y)$ where $\\x$ is a representation of buffer, stack and parse. \n",
    "* Current state-of-the-art systems use neural networks as classifiers (e.g. Parsey McParseFace)\n",
    "* Extremely fast (linear in sentence length)"
   ]
  },
  {
   "cell_type": "markdown",
   "metadata": {
    "slideshow": {
     "slide_type": "slide"
    }
   },
   "source": [
    "## Summary\n",
    "\n",
    "* Dependency parsing predicts word-to-word dependencies \n",
    "* simpler annotations\n",
    "* faster parsing\n",
    "* sufficient for most down-stream applications"
   ]
  },
  {
   "cell_type": "markdown",
   "metadata": {
    "slideshow": {
     "slide_type": "slide"
    }
   },
   "source": [
    "## Background Material\n",
    "\n",
    "* [Mike Collins' PCFG lecture](http://www.cs.columbia.edu/~mcollins/courses/nlp2011/notes/pcfgs.pdf)\n",
    "* Jurafsky & Martin, Chapter 12, Statistical Parsing"
   ]
  }
 ],
 "metadata": {
  "celltoolbar": "Slideshow",
  "kernelspec": {
   "display_name": "Python 3",
   "language": "python",
   "name": "python3"
  },
  "language_info": {
   "codemirror_mode": {
    "name": "ipython",
    "version": 3
   },
   "file_extension": ".py",
   "mimetype": "text/x-python",
   "name": "python",
   "nbconvert_exporter": "python",
   "pygments_lexer": "ipython3",
   "version": "3.6.2"
  }
 },
 "nbformat": 4,
 "nbformat_minor": 1
}
