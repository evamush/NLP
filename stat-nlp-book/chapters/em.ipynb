{
 "cells": [
  {
   "cell_type": "markdown",
   "metadata": {},
   "source": [
    "<!---\n",
    "Latex Macros\n",
    "-->\n",
    "$$\n",
    "\\newcommand{\\Xs}{\\mathcal{X}}\n",
    "\\newcommand{\\Ys}{\\mathcal{Y}}\n",
    "\\newcommand{\\y}{\\mathbf{y}}\n",
    "\\newcommand{\\balpha}{\\boldsymbol{\\alpha}}\n",
    "\\newcommand{\\bbeta}{\\boldsymbol{\\beta}}\n",
    "\\newcommand{\\aligns}{\\mathbf{a}}\n",
    "\\newcommand{\\align}{a}\n",
    "\\newcommand{\\source}{\\mathbf{s}}\n",
    "\\newcommand{\\target}{\\mathbf{t}}\n",
    "\\newcommand{\\ssource}{s}\n",
    "\\newcommand{\\starget}{t}\n",
    "\\newcommand{\\repr}{\\mathbf{f}}\n",
    "\\newcommand{\\repry}{\\mathbf{g}}\n",
    "\\newcommand{\\x}{\\mathbf{x}}\n",
    "\\newcommand{\\prob}{p}\n",
    "\\newcommand{\\vocab}{V}\n",
    "\\newcommand{\\params}{\\boldsymbol{\\theta}}\n",
    "\\newcommand{\\param}{\\theta}\n",
    "\\DeclareMathOperator{\\perplexity}{PP}\n",
    "\\DeclareMathOperator{\\argmax}{argmax}\n",
    "\\DeclareMathOperator{\\argmin}{argmin}\n",
    "\\newcommand{\\train}{\\mathcal{D}}\n",
    "\\newcommand{\\counts}[2]{\\#_{#1}(#2) }\n",
    "\\newcommand{\\length}[1]{\\text{length}(#1) }\n",
    "\\newcommand{\\indi}{\\mathbb{I}}\n",
    "$$"
   ]
  },
  {
   "cell_type": "code",
   "execution_count": 95,
   "metadata": {
    "collapsed": true
   },
   "outputs": [],
   "source": [
    "%%capture\n",
    "%load_ext autoreload\n",
    "%autoreload 2\n",
    "%matplotlib inline\n",
    "# %cd .. \n",
    "import sys\n",
    "sys.path.append(\"..\")\n",
    "import statnlpbook.util as util\n",
    "import statnlpbook.em as em\n",
    "import matplotlib.pyplot as plt\n",
    "import mpld3\n",
    "import numpy as np"
   ]
  },
  {
   "cell_type": "markdown",
   "metadata": {},
   "source": [
    "<!---\n",
    "Latex Macros\n",
    "-->\n",
    "$$\n",
    "\\newcommand{\\Xs}{\\mathcal{X}}\n",
    "\\newcommand{\\Ys}{\\mathcal{Y}}\n",
    "\\newcommand{\\y}{\\mathbf{y}}\n",
    "\\newcommand{\\z}{\\mathbf{z}}\n",
    "\\newcommand{\\balpha}{\\boldsymbol{\\alpha}}\n",
    "\\newcommand{\\bbeta}{\\boldsymbol{\\beta}}\n",
    "\\newcommand{\\aligns}{\\mathbf{a}}\n",
    "\\newcommand{\\align}{a}\n",
    "\\newcommand{\\source}{\\mathbf{s}}\n",
    "\\newcommand{\\target}{\\mathbf{t}}\n",
    "\\newcommand{\\ssource}{s}\n",
    "\\newcommand{\\starget}{t}\n",
    "\\newcommand{\\repr}{\\mathbf{f}}\n",
    "\\newcommand{\\repry}{\\mathbf{g}}\n",
    "\\newcommand{\\x}{\\mathbf{x}}\n",
    "\\newcommand{\\X}{\\mathbf{X}}\n",
    "\\newcommand{\\parents}{\\mathrm{par}}\n",
    "\\newcommand{\\dom}{\\mathrm{dom}}\n",
    "\\newcommand{\\prob}{p}\n",
    "\\newcommand{\\vocab}{V}\n",
    "\\newcommand{\\params}{\\boldsymbol{\\theta}}\n",
    "\\newcommand{\\param}{\\theta}\n",
    "\\DeclareMathOperator{\\perplexity}{PP}\n",
    "\\DeclareMathOperator{\\argmax}{argmax}\n",
    "\\DeclareMathOperator{\\argmin}{argmin}\n",
    "\\newcommand{\\train}{\\mathcal{D}}\n",
    "\\newcommand{\\counts}[2]{\\#_{#1}(#2) }\n",
    "\\newcommand{\\length}[1]{\\text{length}(#1) }\n",
    "\\newcommand{\\indi}{\\mathbb{I}}\n",
    "\\newcommand{\\duals}{\\boldsymbol{\\lambda}}\n",
    "\\newcommand{\\lagrang}{\\mathcal{L}}\n",
    "$$"
   ]
  },
  {
   "cell_type": "markdown",
   "metadata": {},
   "source": [
    "# Expectation Maximisation Algorithm\n",
    "\n",
    "[Maximum likelihood estimation](mle.ipynb) is an effective tool to learn model parameters when your data is fully observed. For example, when training a [language model](language_models.ipynb) we fully observe all words in the training set, and when training a [syntactic parser](parsing.ipynb) on a treebank we have access to the full parse tree of each training instance. However, in many scenarios this is not the case. When training [machine translation](word_mt.ipynb) models we often require alignments between the source sentence words and those in the target sentence. However, the standard corpora out there do not provide these alignments as they are too expensive to annotate in scale. Likewise, we might want to classify text documents into different document classes, and do have some training documents, but without annotated document classes.\n",
    "\n",
    "Let us consider a model $\\prob_\\params(\\x,\\z)$, and a dataset $\\train = \\x_1 \\ldots \\x_n$ consisting only of $\\x$ data but no information about the latent $\\z$. For example, $\\x$ could be a pair of sentences, and $\\z$ an alignment between the sentences, as in chapter [machine translation](word_mt.ipynb). In unsupervised text classification $\\x$ would be a document, and $\\z=z$ a document label.\n",
    "\n",
    "To make this more concrete, let us consider the following scenario. We would like to classify (or cluster) documents about food into two classes $\\mathrm{c}_1$ and $\\mathrm{c}_2$. To keep things simple, each word in the document is either $\\mathrm{nattoo}$, a [healthy but slightly smelly Japanese food](https://en.wikipedia.org/wiki/Natt%C5%8D) made of fermented soybeans, $\\mathrm{pizza}$ or $\\mathrm{fries}$. The dataset we are looking at has a tendency to either mostly talk about healthy food (nattoo), or mostly about unhealty food (fries and pizza), and we would like our model to distinguish between these to cases. The model $\\prob^\\mathrm{food}_\\params()$ itself is a [Naive Bayes](TODO) model and generates the words of a document independently conditioned on the document class $z\\in\\{\\mathrm{c}_1,\\mathrm{c}_2\\}$:\n",
    "\n",
    "$$\n",
    "\\newcommand{\\foodprob}{\\prob^\\mathrm{food}_\\params}\n",
    "\\foodprob(\\x,z) = \\foodprob(z) \\prod_{x \\in \\x} \\foodprob(x|z) = \\theta_z \\prod_{x \\in \\x} \\theta_{x|z}\n",
    "$$\n",
    "\n",
    "In python we can formulate this as follows. Notice how we implement the model in log-space for numerical stability."
   ]
  },
  {
   "cell_type": "code",
   "execution_count": 107,
   "metadata": {},
   "outputs": [
    {
     "data": {
      "text/plain": [
       "0.04000000000000001"
      ]
     },
     "execution_count": 107,
     "metadata": {},
     "output_type": "execute_result"
    }
   ],
   "source": [
    "from math import log, exp\n",
    "\n",
    "# Domains and values\n",
    "z_domain = ['c1','c2']\n",
    "x_domain = ['nattoo','pizza','fries']\n",
    "c1, c2 = z_domain\n",
    "n, p, f = x_domain\n",
    "\n",
    "def prob(x, z, theta):\n",
    "    \"\"\"\n",
    "    Calculate probability of p_\\theta(x,z).\n",
    "    Args:\n",
    "        x: list of words of the document, should be in `x_domain`\n",
    "        z: class label, should be in `z_domain`\n",
    "    Returns:\n",
    "        probability p(x,z) given the parameters.\n",
    "    \"\"\"\n",
    "    theta_x, theta_z = theta\n",
    "    bias = log(theta_z[z])\n",
    "    ll = sum([log(theta_x[x_i, z]) for x_i in x])\n",
    "    return exp(bias + ll)\n",
    "\n",
    "def create_theta(prob_c1, prob_c2, \n",
    "                 n_c1, p_c1, f_c1, \n",
    "                 n_c2, p_c2, f_c2):\n",
    "    \"\"\"\n",
    "    Construct a theta parameter vector. \n",
    "    \"\"\"\n",
    "    theta_z = { c1: prob_c1, c2: prob_c2}\n",
    "    theta_x = { (n, c1): n_c1, (p, c1): p_c1, (f, c1): f_c1, \n",
    "                (n, c2): n_c2, (p, c2): p_c2, (f, c2): f_c2}\n",
    "    return theta_x, theta_z\n",
    "    \n",
    "\n",
    "theta = create_theta(0.5,0.5, 0.3, 0.5, 0.2, 0.1, 0.4, 0.5)\n",
    "prob([p,p,f], c2, theta)"
   ]
  },
  {
   "cell_type": "markdown",
   "metadata": {},
   "source": [
    "## Marginal Log-Likelihood\n",
    "As before using our [structured prediction recipe](structured_prediction.ipynb), we would like to find good parameters $\\params^*$ by defining some training objective over $\\train$ and $\\params$. Inspired by the [Maximum likelihood estimation](mle.ipynb) approach, a natural candidate for this objective is the *marginal* log-likelihood of the data. This likelihood arises by marginalising out the latent variable $\\z$ for each training instance. Assuming again that the sample is generated IID, we get:\n",
    "\n",
    "$$\n",
    "  M_\\params(\\train) = \\log(\\prob_\\params(\\train)) = \\sum_{\\x \\in \\train} \\log(\\sum_\\z \\prob_\\params(\\x,\\z))\n",
    "$$\n",
    "\n",
    "Unfortunately this objective has two problems when compared to the standard log-likelihood. First, there is no closed-form solution to it. In the case of the log-likelihood we could find an optimal $\\params^*$ simply by counting, but no such solution exists for the marginal log-likelihood. Second, the objective is non-concave, meaning that there can be several local optima. This means that any iterative solution one can apply to maximising it (such as [SGD](sgd.ipynb)) is not guaranteed to find a globally optimal $\\params^*$.   \n",
    "\n",
    "Let us visualise this objective for our running example. We will do so by choosing two points in the parameter space $\\params_1$ and $\\params_2$, and then visualise the behaviour of the loss on the line between these points. \n",
    "\n",
    "First let us define the marginal log likelihood:"
   ]
  },
  {
   "cell_type": "code",
   "execution_count": 3,
   "metadata": {},
   "outputs": [
    {
     "data": {
      "text/plain": [
       "-2.8645501413202457"
      ]
     },
     "execution_count": 3,
     "metadata": {},
     "output_type": "execute_result"
    }
   ],
   "source": [
    "def marginal_ll(data, theta):\n",
    "    \"\"\"\n",
    "    Calculate the marginal log-likelihood of the given `data` using parameter `theta`.\n",
    "    Args:\n",
    "        data: list of documents, where each document is a list of words. \n",
    "        theta: parameters to use.  \n",
    "    \"\"\"\n",
    "    return sum([log(prob(x,c1,theta) + prob(x,c2,theta)) for x in data]) / len(data)\n",
    "\n",
    "marginal_ll([[p,p,f],[n,n]], theta)"
   ]
  },
  {
   "cell_type": "markdown",
   "metadata": {},
   "source": [
    "Let us plot the marginal log-likelihood on the line between a $\\params_1$ and $\\params_2$."
   ]
  },
  {
   "cell_type": "code",
   "execution_count": 83,
   "metadata": {},
   "outputs": [
    {
     "data": {
      "text/html": [
       "\n",
       "\n",
       "<style>\n",
       "\n",
       "</style>\n",
       "\n",
       "<div id=\"fig_el499944415523206560158569\"></div>\n",
       "<script>\n",
       "function mpld3_load_lib(url, callback){\n",
       "  var s = document.createElement('script');\n",
       "  s.src = url;\n",
       "  s.async = true;\n",
       "  s.onreadystatechange = s.onload = callback;\n",
       "  s.onerror = function(){console.warn(\"failed to load library \" + url);};\n",
       "  document.getElementsByTagName(\"head\")[0].appendChild(s);\n",
       "}\n",
       "\n",
       "if(typeof(mpld3) !== \"undefined\" && mpld3._mpld3IsLoaded){\n",
       "   // already loaded: just create the figure\n",
       "   !function(mpld3){\n",
       "       \n",
       "       mpld3.draw_figure(\"fig_el499944415523206560158569\", {\"width\": 480.0, \"id\": \"el49994441552320\", \"height\": 320.0, \"axes\": [{\"axes\": [{\"fontsize\": 10.0, \"tickvalues\": null, \"nticks\": 6, \"position\": \"bottom\", \"tickformat\": null, \"grid\": {\"gridOn\": false}, \"scale\": \"linear\"}, {\"fontsize\": 10.0, \"tickvalues\": null, \"nticks\": 7, \"position\": \"left\", \"tickformat\": null, \"grid\": {\"gridOn\": false}, \"scale\": \"linear\"}], \"sharex\": [], \"yscale\": \"linear\", \"xscale\": \"linear\", \"axesbgalpha\": null, \"zoomable\": true, \"texts\": [], \"xlim\": [0.0, 1.0], \"ydomain\": [-8.5, -5.5], \"paths\": [], \"xdomain\": [0.0, 1.0], \"id\": \"el49994436900608\", \"markers\": [], \"lines\": [{\"yindex\": 1, \"id\": \"el49994438691008\", \"coordinates\": \"data\", \"linewidth\": 1.0, \"color\": \"#0000FF\", \"zorder\": 2, \"alpha\": 1, \"data\": \"data01\", \"dasharray\": \"10,0\", \"xindex\": 0}], \"sharey\": [], \"bbox\": [0.125, 0.125, 0.775, 0.775], \"axesbg\": \"#FFFFFF\", \"ylim\": [-8.5, -5.5], \"collections\": [], \"images\": []}], \"data\": {\"data01\": [[0.01, -7.732067882273188], [0.0198989898989899, -7.094229356990748], [0.029797979797979796, -6.741210821974245], [0.039696969696969696, -6.505646155819414], [0.049595959595959596, -6.33480635295174], [0.059494949494949496, -6.205152566304794], [0.06939393939393938, -6.10411444642071], [0.07929292929292929, -6.0241845359153965], [0.08919191919191918, -5.96051944326361], [0.09909090909090908, -5.909812221947884], [0.10898989898989898, -5.869704460209562], [0.11888888888888888, -5.838454955076418], [0.12878787878787878, -5.814741265693634], [0.1386868686868687, -5.7975348672846865], [0.1485858585858586, -5.786019347012583], [0.15848484848484848, -5.779534923947978], [0.16838383838383839, -5.777539684194761], [0.1782828282828283, -5.779581772514631], [0.18818181818181817, -5.785278963291982], [0.19808080808080808, -5.794303318592675], [0.207979797979798, -5.806369424020516], [0.21787878787878787, -5.8212251847962975], [0.22777777777777777, -5.838644481931919], [0.23767676767676768, -5.858421198715963], [0.24757575757575756, -5.8803642707445585], [0.25747474747474747, -5.904293512632502], [0.2673737373737374, -5.930036046412987], [0.2772727272727273, -5.9574232100511395], [0.2871717171717172, -5.9862878655640905], [0.29707070707070704, -6.0164620587820865], [0.30696969696969695, -6.04777500901767], [0.31686868686868686, -6.08005142783349], [0.32676767676767676, -6.113110181742205], [0.33666666666666667, -6.146763323294426], [0.3465656565656566, -6.18081551736034], [0.3564646464646465, -6.215063883109809], [0.36636363636363634, -6.249298256311607], [0.37626262626262624, -6.283301851371131], [0.38616161616161615, -6.316852270306583], [0.39606060606060606, -6.349722771656164], [0.40595959595959596, -6.381683684085722], [0.41585858585858587, -6.412503837486427], [0.4257575757575757, -6.441951899334445], [0.43565656565656563, -6.469797554209738], [0.44555555555555554, -6.495812551531254], [0.45545454545454545, -6.519771762766342], [0.46535353535353535, -6.541454514513483], [0.47525252525252526, -6.560646566205793], [0.4851515151515151, -6.577143141631473], [0.495050505050505, -6.5907533641621505], [0.5049494949494949, -6.601306262500786], [0.5148484848484849, -6.6086582110670165], [0.5247474747474747, -6.612701290486259], [0.5346464646464646, -6.613371683327057], [0.5445454545454546, -6.610656967339413], [0.5544444444444444, -6.604601133152273], [0.5643434343434344, -6.595306385065805], [0.5742424242424242, -6.582931250520126], [0.5841414141414141, -6.567685114132279], [0.594040404040404, -6.549819851095594], [0.6039393939393939, -6.529619622421659], [0.6138383838383838, -6.5073900355487995], [0.6237373737373737, -6.483447774885927], [0.6336363636363637, -6.458111538949268], [0.6435353535353535, -6.431694781477096], [0.6534343434343434, -6.404500430659149], [0.6633333333333333, -6.376817509148889], [0.6732323232323232, -6.3489194183983955], [0.6831313131313131, -6.321063577878782], [0.693030303030303, -6.293492102467018], [0.702929292929293, -6.266433235725479], [0.7128282828282828, -6.240103312171123], [0.7227272727272727, -6.214709083048928], [0.7326262626262626, -6.1904502987536105], [0.7425252525252525, -6.167522492923655], [0.7524242424242424, -6.146119957788645], [0.7623232323232323, -6.126438939122457], [0.7722222222222221, -6.1086811149186815], [0.7821212121212121, -6.093057458241365], [0.792020202020202, -6.079792625947846], [0.8019191919191919, -6.0691300665389685], [0.8118181818181818, -6.061338109468018], [0.8217171717171717, -6.0567173951043545], [0.8316161616161616, -6.055610144695976], [0.8415151515151514, -6.058411977521253], [0.8514141414141414, -6.065587297814314], [0.8613131313131313, -6.07768976415644], [0.8712121212121212, -6.0953901357581515], [0.8811111111111111, -6.1195150740833855], [0.891010101010101, -6.151102659148589], [0.9009090909090909, -6.191484229708152], [0.9108080808080807, -6.242409265123008], [0.9207070707070707, -6.306243867497469], [0.9306060606060605, -6.386302122542023], [0.9405050505050505, -6.487434043899623], [0.9504040404040404, -6.61715322703705], [0.9603030303030302, -6.788035707269377], [0.9702020202020202, -7.02362559571873], [0.98010101010101, -7.376656769138962], [0.99, -8.01449985459042]]}, \"plugins\": [{\"type\": \"reset\"}, {\"enabled\": false, \"type\": \"zoom\", \"button\": true}, {\"enabled\": false, \"type\": \"boxzoom\", \"button\": true}]});\n",
       "   }(mpld3);\n",
       "}else if(typeof define === \"function\" && define.amd){\n",
       "   // require.js is available: use it to load d3/mpld3\n",
       "   require.config({paths: {d3: \"https://mpld3.github.io/js/d3.v3.min\"}});\n",
       "   require([\"d3\"], function(d3){\n",
       "      window.d3 = d3;\n",
       "      mpld3_load_lib(\"https://mpld3.github.io/js/mpld3.v0.2.js\", function(){\n",
       "         \n",
       "         mpld3.draw_figure(\"fig_el499944415523206560158569\", {\"width\": 480.0, \"id\": \"el49994441552320\", \"height\": 320.0, \"axes\": [{\"axes\": [{\"fontsize\": 10.0, \"tickvalues\": null, \"nticks\": 6, \"position\": \"bottom\", \"tickformat\": null, \"grid\": {\"gridOn\": false}, \"scale\": \"linear\"}, {\"fontsize\": 10.0, \"tickvalues\": null, \"nticks\": 7, \"position\": \"left\", \"tickformat\": null, \"grid\": {\"gridOn\": false}, \"scale\": \"linear\"}], \"sharex\": [], \"yscale\": \"linear\", \"xscale\": \"linear\", \"axesbgalpha\": null, \"zoomable\": true, \"texts\": [], \"xlim\": [0.0, 1.0], \"ydomain\": [-8.5, -5.5], \"paths\": [], \"xdomain\": [0.0, 1.0], \"id\": \"el49994436900608\", \"markers\": [], \"lines\": [{\"yindex\": 1, \"id\": \"el49994438691008\", \"coordinates\": \"data\", \"linewidth\": 1.0, \"color\": \"#0000FF\", \"zorder\": 2, \"alpha\": 1, \"data\": \"data01\", \"dasharray\": \"10,0\", \"xindex\": 0}], \"sharey\": [], \"bbox\": [0.125, 0.125, 0.775, 0.775], \"axesbg\": \"#FFFFFF\", \"ylim\": [-8.5, -5.5], \"collections\": [], \"images\": []}], \"data\": {\"data01\": [[0.01, -7.732067882273188], [0.0198989898989899, -7.094229356990748], [0.029797979797979796, -6.741210821974245], [0.039696969696969696, -6.505646155819414], [0.049595959595959596, -6.33480635295174], [0.059494949494949496, -6.205152566304794], [0.06939393939393938, -6.10411444642071], [0.07929292929292929, -6.0241845359153965], [0.08919191919191918, -5.96051944326361], [0.09909090909090908, -5.909812221947884], [0.10898989898989898, -5.869704460209562], [0.11888888888888888, -5.838454955076418], [0.12878787878787878, -5.814741265693634], [0.1386868686868687, -5.7975348672846865], [0.1485858585858586, -5.786019347012583], [0.15848484848484848, -5.779534923947978], [0.16838383838383839, -5.777539684194761], [0.1782828282828283, -5.779581772514631], [0.18818181818181817, -5.785278963291982], [0.19808080808080808, -5.794303318592675], [0.207979797979798, -5.806369424020516], [0.21787878787878787, -5.8212251847962975], [0.22777777777777777, -5.838644481931919], [0.23767676767676768, -5.858421198715963], [0.24757575757575756, -5.8803642707445585], [0.25747474747474747, -5.904293512632502], [0.2673737373737374, -5.930036046412987], [0.2772727272727273, -5.9574232100511395], [0.2871717171717172, -5.9862878655640905], [0.29707070707070704, -6.0164620587820865], [0.30696969696969695, -6.04777500901767], [0.31686868686868686, -6.08005142783349], [0.32676767676767676, -6.113110181742205], [0.33666666666666667, -6.146763323294426], [0.3465656565656566, -6.18081551736034], [0.3564646464646465, -6.215063883109809], [0.36636363636363634, -6.249298256311607], [0.37626262626262624, -6.283301851371131], [0.38616161616161615, -6.316852270306583], [0.39606060606060606, -6.349722771656164], [0.40595959595959596, -6.381683684085722], [0.41585858585858587, -6.412503837486427], [0.4257575757575757, -6.441951899334445], [0.43565656565656563, -6.469797554209738], [0.44555555555555554, -6.495812551531254], [0.45545454545454545, -6.519771762766342], [0.46535353535353535, -6.541454514513483], [0.47525252525252526, -6.560646566205793], [0.4851515151515151, -6.577143141631473], [0.495050505050505, -6.5907533641621505], [0.5049494949494949, -6.601306262500786], [0.5148484848484849, -6.6086582110670165], [0.5247474747474747, -6.612701290486259], [0.5346464646464646, -6.613371683327057], [0.5445454545454546, -6.610656967339413], [0.5544444444444444, -6.604601133152273], [0.5643434343434344, -6.595306385065805], [0.5742424242424242, -6.582931250520126], [0.5841414141414141, -6.567685114132279], [0.594040404040404, -6.549819851095594], [0.6039393939393939, -6.529619622421659], [0.6138383838383838, -6.5073900355487995], [0.6237373737373737, -6.483447774885927], [0.6336363636363637, -6.458111538949268], [0.6435353535353535, -6.431694781477096], [0.6534343434343434, -6.404500430659149], [0.6633333333333333, -6.376817509148889], [0.6732323232323232, -6.3489194183983955], [0.6831313131313131, -6.321063577878782], [0.693030303030303, -6.293492102467018], [0.702929292929293, -6.266433235725479], [0.7128282828282828, -6.240103312171123], [0.7227272727272727, -6.214709083048928], [0.7326262626262626, -6.1904502987536105], [0.7425252525252525, -6.167522492923655], [0.7524242424242424, -6.146119957788645], [0.7623232323232323, -6.126438939122457], [0.7722222222222221, -6.1086811149186815], [0.7821212121212121, -6.093057458241365], [0.792020202020202, -6.079792625947846], [0.8019191919191919, -6.0691300665389685], [0.8118181818181818, -6.061338109468018], [0.8217171717171717, -6.0567173951043545], [0.8316161616161616, -6.055610144695976], [0.8415151515151514, -6.058411977521253], [0.8514141414141414, -6.065587297814314], [0.8613131313131313, -6.07768976415644], [0.8712121212121212, -6.0953901357581515], [0.8811111111111111, -6.1195150740833855], [0.891010101010101, -6.151102659148589], [0.9009090909090909, -6.191484229708152], [0.9108080808080807, -6.242409265123008], [0.9207070707070707, -6.306243867497469], [0.9306060606060605, -6.386302122542023], [0.9405050505050505, -6.487434043899623], [0.9504040404040404, -6.61715322703705], [0.9603030303030302, -6.788035707269377], [0.9702020202020202, -7.02362559571873], [0.98010101010101, -7.376656769138962], [0.99, -8.01449985459042]]}, \"plugins\": [{\"type\": \"reset\"}, {\"enabled\": false, \"type\": \"zoom\", \"button\": true}, {\"enabled\": false, \"type\": \"boxzoom\", \"button\": true}]});\n",
       "      });\n",
       "    });\n",
       "}else{\n",
       "    // require.js not available: dynamically load d3 & mpld3\n",
       "    mpld3_load_lib(\"https://mpld3.github.io/js/d3.v3.min.js\", function(){\n",
       "         mpld3_load_lib(\"https://mpld3.github.io/js/mpld3.v0.2.js\", function(){\n",
       "                 \n",
       "                 mpld3.draw_figure(\"fig_el499944415523206560158569\", {\"width\": 480.0, \"id\": \"el49994441552320\", \"height\": 320.0, \"axes\": [{\"axes\": [{\"fontsize\": 10.0, \"tickvalues\": null, \"nticks\": 6, \"position\": \"bottom\", \"tickformat\": null, \"grid\": {\"gridOn\": false}, \"scale\": \"linear\"}, {\"fontsize\": 10.0, \"tickvalues\": null, \"nticks\": 7, \"position\": \"left\", \"tickformat\": null, \"grid\": {\"gridOn\": false}, \"scale\": \"linear\"}], \"sharex\": [], \"yscale\": \"linear\", \"xscale\": \"linear\", \"axesbgalpha\": null, \"zoomable\": true, \"texts\": [], \"xlim\": [0.0, 1.0], \"ydomain\": [-8.5, -5.5], \"paths\": [], \"xdomain\": [0.0, 1.0], \"id\": \"el49994436900608\", \"markers\": [], \"lines\": [{\"yindex\": 1, \"id\": \"el49994438691008\", \"coordinates\": \"data\", \"linewidth\": 1.0, \"color\": \"#0000FF\", \"zorder\": 2, \"alpha\": 1, \"data\": \"data01\", \"dasharray\": \"10,0\", \"xindex\": 0}], \"sharey\": [], \"bbox\": [0.125, 0.125, 0.775, 0.775], \"axesbg\": \"#FFFFFF\", \"ylim\": [-8.5, -5.5], \"collections\": [], \"images\": []}], \"data\": {\"data01\": [[0.01, -7.732067882273188], [0.0198989898989899, -7.094229356990748], [0.029797979797979796, -6.741210821974245], [0.039696969696969696, -6.505646155819414], [0.049595959595959596, -6.33480635295174], [0.059494949494949496, -6.205152566304794], [0.06939393939393938, -6.10411444642071], [0.07929292929292929, -6.0241845359153965], [0.08919191919191918, -5.96051944326361], [0.09909090909090908, -5.909812221947884], [0.10898989898989898, -5.869704460209562], [0.11888888888888888, -5.838454955076418], [0.12878787878787878, -5.814741265693634], [0.1386868686868687, -5.7975348672846865], [0.1485858585858586, -5.786019347012583], [0.15848484848484848, -5.779534923947978], [0.16838383838383839, -5.777539684194761], [0.1782828282828283, -5.779581772514631], [0.18818181818181817, -5.785278963291982], [0.19808080808080808, -5.794303318592675], [0.207979797979798, -5.806369424020516], [0.21787878787878787, -5.8212251847962975], [0.22777777777777777, -5.838644481931919], [0.23767676767676768, -5.858421198715963], [0.24757575757575756, -5.8803642707445585], [0.25747474747474747, -5.904293512632502], [0.2673737373737374, -5.930036046412987], [0.2772727272727273, -5.9574232100511395], [0.2871717171717172, -5.9862878655640905], [0.29707070707070704, -6.0164620587820865], [0.30696969696969695, -6.04777500901767], [0.31686868686868686, -6.08005142783349], [0.32676767676767676, -6.113110181742205], [0.33666666666666667, -6.146763323294426], [0.3465656565656566, -6.18081551736034], [0.3564646464646465, -6.215063883109809], [0.36636363636363634, -6.249298256311607], [0.37626262626262624, -6.283301851371131], [0.38616161616161615, -6.316852270306583], [0.39606060606060606, -6.349722771656164], [0.40595959595959596, -6.381683684085722], [0.41585858585858587, -6.412503837486427], [0.4257575757575757, -6.441951899334445], [0.43565656565656563, -6.469797554209738], [0.44555555555555554, -6.495812551531254], [0.45545454545454545, -6.519771762766342], [0.46535353535353535, -6.541454514513483], [0.47525252525252526, -6.560646566205793], [0.4851515151515151, -6.577143141631473], [0.495050505050505, -6.5907533641621505], [0.5049494949494949, -6.601306262500786], [0.5148484848484849, -6.6086582110670165], [0.5247474747474747, -6.612701290486259], [0.5346464646464646, -6.613371683327057], [0.5445454545454546, -6.610656967339413], [0.5544444444444444, -6.604601133152273], [0.5643434343434344, -6.595306385065805], [0.5742424242424242, -6.582931250520126], [0.5841414141414141, -6.567685114132279], [0.594040404040404, -6.549819851095594], [0.6039393939393939, -6.529619622421659], [0.6138383838383838, -6.5073900355487995], [0.6237373737373737, -6.483447774885927], [0.6336363636363637, -6.458111538949268], [0.6435353535353535, -6.431694781477096], [0.6534343434343434, -6.404500430659149], [0.6633333333333333, -6.376817509148889], [0.6732323232323232, -6.3489194183983955], [0.6831313131313131, -6.321063577878782], [0.693030303030303, -6.293492102467018], [0.702929292929293, -6.266433235725479], [0.7128282828282828, -6.240103312171123], [0.7227272727272727, -6.214709083048928], [0.7326262626262626, -6.1904502987536105], [0.7425252525252525, -6.167522492923655], [0.7524242424242424, -6.146119957788645], [0.7623232323232323, -6.126438939122457], [0.7722222222222221, -6.1086811149186815], [0.7821212121212121, -6.093057458241365], [0.792020202020202, -6.079792625947846], [0.8019191919191919, -6.0691300665389685], [0.8118181818181818, -6.061338109468018], [0.8217171717171717, -6.0567173951043545], [0.8316161616161616, -6.055610144695976], [0.8415151515151514, -6.058411977521253], [0.8514141414141414, -6.065587297814314], [0.8613131313131313, -6.07768976415644], [0.8712121212121212, -6.0953901357581515], [0.8811111111111111, -6.1195150740833855], [0.891010101010101, -6.151102659148589], [0.9009090909090909, -6.191484229708152], [0.9108080808080807, -6.242409265123008], [0.9207070707070707, -6.306243867497469], [0.9306060606060605, -6.386302122542023], [0.9405050505050505, -6.487434043899623], [0.9504040404040404, -6.61715322703705], [0.9603030303030302, -6.788035707269377], [0.9702020202020202, -7.02362559571873], [0.98010101010101, -7.376656769138962], [0.99, -8.01449985459042]]}, \"plugins\": [{\"type\": \"reset\"}, {\"enabled\": false, \"type\": \"zoom\", \"button\": true}, {\"enabled\": false, \"type\": \"boxzoom\", \"button\": true}]});\n",
       "            })\n",
       "         });\n",
       "}\n",
       "</script>"
      ],
      "text/plain": [
       "<IPython.core.display.HTML object>"
      ]
     },
     "execution_count": 83,
     "metadata": {},
     "output_type": "execute_result"
    }
   ],
   "source": [
    "theta1 = create_theta(0.3, 0.7, 0.0, 0.3, 0.7, 1.0, 0.0, 0.0)\n",
    "theta2 = create_theta(0.3, 0.7, 1.0, 0.0, 0.0, 0.0, 0.3, 0.7)\n",
    "\n",
    "em.plot_1D(lambda theta: marginal_ll(dataset, theta), theta1, theta2, ylim=[-8.5,-5.5])"
   ]
  },
  {
   "cell_type": "markdown",
   "metadata": {},
   "source": [
    "You can see the non-concavity of the objective, as there are two local optima. These essentially stem from the symmetry of the model: whether you call one cluster $\\mathrm{c}_1$ or $\\mathrm{c}_1$ will make no difference in the probability you assign to the data. \n",
    "\n",
    "How can we at least find one of these local optima? A classic approach to this problem relies on a deriving a lower bound to the marginal log-likelihood. "
   ]
  },
  {
   "cell_type": "markdown",
   "metadata": {},
   "source": [
    "## A Lower Bound on the Marginal Log-Likelihood\n",
    "Let us assume an arbitrary distribution $q(\\z|\\x)$. With this distribution, and using Jenssen's inequality, we can define a lower bound as follows: \n",
    "$$\n",
    "M_\\params(\\train) \n",
    "  = \\sum_{\\x \\in \\train} \\log(\\sum_\\z \\prob_\\params(\\x,\\z)) \\\\ \n",
    "  = \\sum_{\\x \\in \\train} \\log(\\sum_\\z q(\\z|\\x) \\frac{\\prob_\\params(\\x,\\z)}{q(\\z|\\x)})\n",
    "  \\geq \\sum_{\\x \\in \\train} \\sum_\\z q(\\z|\\x) \\log(\\frac{\\prob_\\params(\\x,\\z)}{q(\\z|\\x)}) =: B_{q,\\params}(\\train).\n",
    "$$\n",
    "\n",
    "What $q$ to choose? The one that gets $B$ maximally close to $M$. But given that $M$ is non-concave and $B_{q_\\params}(\\train)$ is concave, the bound cannot be tight everywhere. We need to choose a point $\\params$ at which the bound is as close as possibly. Let $\\params'$ be such a point. \n",
    "\n",
    "We want to find a $q$ that maximises $B_{q,\\params'}(\\train)$. Since $\\prob_\\params(\\x,\\z) = \\prob_\\params(\\z|\\x) \\prob_\\params(\\x)$ we can maximise \n",
    "\n",
    "$$\n",
    "\\sum_{\\x \\in \\train} \\sum_\\z q(z) \\log(\\frac{\\prob_{\\params'}(\\z|\\x)}{q(\\z)}) + \\log(\\prob_{\\params'}(\\x)).\n",
    "$$ \n",
    "\n",
    "The second term in the sum is constant with respect to $q$, and the first one is the negative KL divergence between $q$ and $\\prob_\\params(\\z|\\x)$. The distribution that minimises KL divergence (and hence maximises the negative KL divergence) is the distribution itself. Hence the closest lower bound can be determined by setting $q(\\z|\\x)=\\prob_{\\params'}(\\z|\\x)$, the conditional distribution over $\\z$ based on the given parameters $\\params'$. \n",
    "\n",
    "Let us plot this bound for given $\\params'$."
   ]
  },
  {
   "cell_type": "code",
   "execution_count": 84,
   "metadata": {},
   "outputs": [
    {
     "data": {
      "text/html": [
       "\n",
       "\n",
       "<style>\n",
       "\n",
       "</style>\n",
       "\n",
       "<div id=\"fig_el499944436845923293841845\"></div>\n",
       "<script>\n",
       "function mpld3_load_lib(url, callback){\n",
       "  var s = document.createElement('script');\n",
       "  s.src = url;\n",
       "  s.async = true;\n",
       "  s.onreadystatechange = s.onload = callback;\n",
       "  s.onerror = function(){console.warn(\"failed to load library \" + url);};\n",
       "  document.getElementsByTagName(\"head\")[0].appendChild(s);\n",
       "}\n",
       "\n",
       "if(typeof(mpld3) !== \"undefined\" && mpld3._mpld3IsLoaded){\n",
       "   // already loaded: just create the figure\n",
       "   !function(mpld3){\n",
       "       \n",
       "       mpld3.draw_figure(\"fig_el499944436845923293841845\", {\"width\": 480.0, \"id\": \"el49994443684592\", \"height\": 320.0, \"axes\": [{\"axes\": [{\"fontsize\": 10.0, \"tickvalues\": null, \"nticks\": 6, \"position\": \"bottom\", \"tickformat\": null, \"grid\": {\"gridOn\": false}, \"scale\": \"linear\"}, {\"fontsize\": 10.0, \"tickvalues\": null, \"nticks\": 7, \"position\": \"left\", \"tickformat\": null, \"grid\": {\"gridOn\": false}, \"scale\": \"linear\"}], \"sharex\": [], \"yscale\": \"linear\", \"xscale\": \"linear\", \"axesbgalpha\": null, \"zoomable\": true, \"texts\": [], \"xlim\": [0.0, 1.0], \"ydomain\": [-8.5, -5.5], \"paths\": [], \"xdomain\": [0.0, 1.0], \"id\": \"el49994443645824\", \"markers\": [], \"lines\": [{\"yindex\": 1, \"id\": \"el49994440415872\", \"coordinates\": \"data\", \"linewidth\": 1.0, \"color\": \"#0000FF\", \"zorder\": 2, \"alpha\": 1, \"data\": \"data01\", \"dasharray\": \"10,0\", \"xindex\": 0}, {\"yindex\": 2, \"id\": \"el49994440416208\", \"coordinates\": \"data\", \"linewidth\": 1.0, \"color\": \"#007F00\", \"zorder\": 2, \"alpha\": 1, \"data\": \"data01\", \"dasharray\": \"10,0\", \"xindex\": 0}], \"sharey\": [], \"bbox\": [0.125, 0.125, 0.775, 0.775], \"axesbg\": \"#FFFFFF\", \"ylim\": [-8.5, -5.5], \"collections\": [], \"images\": []}], \"data\": {\"data01\": [[0.01, -7.732067882273188, -10.155084783619541], [0.0198989898989899, -7.094229356990748, -9.082749850370325], [0.029797979797979796, -6.741210821974245, -8.472121341414521], [0.039696969696969696, -6.505646155819414, -8.05166433097353], [0.049595959595959596, -6.33480635295174, -7.73582827836542], [0.059494949494949496, -6.205152566304794, -7.486420510496206], [0.06939393939393938, -6.10411444642071, -7.283044068393358], [0.07929292929292929, -6.0241845359153965, -7.113516781146427], [0.08919191919191918, -5.96051944326361, -6.969979659696758], [0.09909090909090908, -5.909812221947884, -6.847067684437385], [0.10898989898989898, -5.869704460209562, -6.740956234911767], [0.11888888888888888, -5.838454955076418, -6.6488238301442735], [0.12878787878787878, -5.814741265693634, -6.56853048914407], [0.1386868686868687, -5.7975348672846865, -6.498415544961646], [0.1485858585858586, -5.786019347012583, -6.437165340562384], [0.15848484848484848, -5.779534923947978, -6.3837236903628956], [0.16838383838383839, -5.777539684194761, -6.33722952482736], [0.1782828282828283, -5.779581772514631, -6.296972382352332], [0.18818181818181817, -5.785278963291982, -6.262359951884356], [0.19808080808080808, -5.794303318592675, -6.23289395401259], [0.207979797979798, -5.806369424020516, -6.20815191775695], [0.21787878787878787, -5.8212251847962975, -6.1877732066545805], [0.22777777777777777, -5.838644481931919, -6.171448160585467], [0.23767676767676768, -5.858421198715963, -6.158909557823221], [0.24757575757575756, -5.8803642707445585, -6.149925829344059], [0.25747474747474747, -5.904293512632502, -6.144295613522039], [0.2673737373737374, -5.930036046412987, -6.141843348274634], [0.2772727272727273, -5.9574232100511395, -6.1424156749494125], [0.2871717171717172, -5.9862878655640905, -6.145878483782845], [0.29707070707070704, -6.0164620587820865, -6.152114471238405], [0.30696969696969695, -6.04777500901767, -6.161021109392569], [0.31686868686868686, -6.08005142783349, -6.172508949819755], [0.32676767676767676, -6.113110181742205, -6.186500201232055], [0.33666666666666667, -6.146763323294426, -6.202927532930405], [0.3465656565656566, -6.18081551736034, -6.221733065967215], [0.3564646464646465, -6.215063883109809, -6.24286752155803], [0.36636363636363634, -6.249298256311607, -6.266289502257659], [0.37626262626262624, -6.283301851371131, -6.291964886134809], [0.38616161616161615, -6.316852270306583, -6.3198663179352925], [0.39606060606060606, -6.349722771656164, -6.349972784239644], [0.40595959595959596, -6.381683684085722, -6.382269262063626], [0.41585858585858587, -6.412503837486427, -6.416746432347694], [0.4257575757575757, -6.441951899334445, -6.453400451431932], [0.43565656565656563, -6.469797554209738, -6.492232774992636], [0.44555555555555554, -6.495812551531254, -6.533250030085546], [0.45545454545454545, -6.519771762766342, -6.576463931946189], [0.46535353535353535, -6.541454514513483, -6.62189124307847], [0.47525252525252526, -6.560646566205793, -6.669553772950117], [0.4851515151515151, -6.577143141631473, -6.71947841733424], [0.495050505050505, -6.5907533641621505, -6.7716972370133215], [0.5049494949494949, -6.601306262500786, -6.826247576215724], [0.5148484848484849, -6.6086582110670165, -6.883172221804319], [0.5247474747474747, -6.612701290486259, -6.942519604900792], [0.5346464646464646, -6.613371683327057, -7.004344047325858], [0.5445454545454546, -6.610656967339413, -7.068706055985049], [0.5544444444444444, -6.604601133152273, -7.135672669153234], [0.5643434343434344, -6.595306385065805, -7.205317859533168], [0.5742424242424242, -6.582931250520126, -7.27772300001227], [0.5841414141414141, -6.567685114132279, -7.35297739925132], [0.594040404040404, -6.549819851095594, -7.431178915649184], [0.6039393939393939, -6.529619622421659, -7.512434659888695], [0.6138383838383838, -6.5073900355487995, -7.596861798241856], [0.6237373737373737, -6.483447774885927, -7.68458847117392], [0.6336363636363637, -6.458111538949268, -7.775754844632222], [0.6435353535353535, -6.431694781477096, -7.870514314859175], [0.6534343434343434, -6.404500430659149, -7.969034891785927], [0.6633333333333333, -6.376817509148889, -8.071500791245077], [0.6732323232323232, -6.3489194183983955, -8.17811427264884], [0.6831313131313131, -6.321063577878782, -8.28909776675429], [0.693030303030303, -6.293492102467018, -8.404696348129082], [0.702929292929293, -6.266433235725479, -8.52518061953628], [0.7128282828282828, -6.240103312171123, -8.650850091473927], [0.7227272727272727, -6.214709083048928, -8.782037160613246], [0.7326262626262626, -6.1904502987536105, -8.919111817350041], [0.7425252525252525, -6.167522492923655, -9.062487247144498], [0.7524242424242424, -6.146119957788645, -9.212626535597364], [0.7623232323232323, -6.126438939122457, -9.370050747271145], [0.7722222222222221, -6.1086811149186815, -9.535348728782637], [0.7821212121212121, -6.093057458241365, -9.709189095857894], [0.792020202020202, -6.079792625947846, -9.892335013858535], [0.8019191919191919, -6.0691300665389685, -10.08566258962641], [0.8118181818181818, -6.061338109468018, -10.29018398639756], [0.8217171717171717, -6.0567173951043545, -10.50707679469221], [0.8316161616161616, -6.055610144695976, -10.737721806045075], [0.8415151515151514, -6.058411977521253, -10.983752248557208], [0.8514141414141414, -6.065587297814314, -11.247118927011854], [0.8613131313131313, -6.07768976415644, -11.530177859145985], [0.8712121212121212, -6.0953901357581515, -11.835810425071164], [0.8811111111111111, -6.1195150740833855, -12.167591670862508], [0.891010101010101, -6.151102659148589, -12.530031957154582], [0.9009090909090909, -6.191484229708152, -12.928933999340947], [0.9108080808080807, -6.242409265123008, -13.371938466847793], [0.9207070707070707, -6.306243867497469, -13.869391900650294], [0.9306060606060605, -6.386302122542023, -14.435796434786704], [0.9405050505050505, -6.487434043899623, -15.09238284343085], [0.9504040404040404, -6.61715322703705, -15.872046323994615], [0.9603030303030302, -6.788035707269377, -16.829847218824465], [0.9702020202020202, -7.02362559571873, -18.06886318049837], [0.98010101010101, -7.376656769138962, -19.819956518217683], [0.99, -8.01449985459042, -22.815829025125595]]}, \"plugins\": [{\"type\": \"reset\"}, {\"enabled\": false, \"type\": \"zoom\", \"button\": true}, {\"enabled\": false, \"type\": \"boxzoom\", \"button\": true}]});\n",
       "   }(mpld3);\n",
       "}else if(typeof define === \"function\" && define.amd){\n",
       "   // require.js is available: use it to load d3/mpld3\n",
       "   require.config({paths: {d3: \"https://mpld3.github.io/js/d3.v3.min\"}});\n",
       "   require([\"d3\"], function(d3){\n",
       "      window.d3 = d3;\n",
       "      mpld3_load_lib(\"https://mpld3.github.io/js/mpld3.v0.2.js\", function(){\n",
       "         \n",
       "         mpld3.draw_figure(\"fig_el499944436845923293841845\", {\"width\": 480.0, \"id\": \"el49994443684592\", \"height\": 320.0, \"axes\": [{\"axes\": [{\"fontsize\": 10.0, \"tickvalues\": null, \"nticks\": 6, \"position\": \"bottom\", \"tickformat\": null, \"grid\": {\"gridOn\": false}, \"scale\": \"linear\"}, {\"fontsize\": 10.0, \"tickvalues\": null, \"nticks\": 7, \"position\": \"left\", \"tickformat\": null, \"grid\": {\"gridOn\": false}, \"scale\": \"linear\"}], \"sharex\": [], \"yscale\": \"linear\", \"xscale\": \"linear\", \"axesbgalpha\": null, \"zoomable\": true, \"texts\": [], \"xlim\": [0.0, 1.0], \"ydomain\": [-8.5, -5.5], \"paths\": [], \"xdomain\": [0.0, 1.0], \"id\": \"el49994443645824\", \"markers\": [], \"lines\": [{\"yindex\": 1, \"id\": \"el49994440415872\", \"coordinates\": \"data\", \"linewidth\": 1.0, \"color\": \"#0000FF\", \"zorder\": 2, \"alpha\": 1, \"data\": \"data01\", \"dasharray\": \"10,0\", \"xindex\": 0}, {\"yindex\": 2, \"id\": \"el49994440416208\", \"coordinates\": \"data\", \"linewidth\": 1.0, \"color\": \"#007F00\", \"zorder\": 2, \"alpha\": 1, \"data\": \"data01\", \"dasharray\": \"10,0\", \"xindex\": 0}], \"sharey\": [], \"bbox\": [0.125, 0.125, 0.775, 0.775], \"axesbg\": \"#FFFFFF\", \"ylim\": [-8.5, -5.5], \"collections\": [], \"images\": []}], \"data\": {\"data01\": [[0.01, -7.732067882273188, -10.155084783619541], [0.0198989898989899, -7.094229356990748, -9.082749850370325], [0.029797979797979796, -6.741210821974245, -8.472121341414521], [0.039696969696969696, -6.505646155819414, -8.05166433097353], [0.049595959595959596, -6.33480635295174, -7.73582827836542], [0.059494949494949496, -6.205152566304794, -7.486420510496206], [0.06939393939393938, -6.10411444642071, -7.283044068393358], [0.07929292929292929, -6.0241845359153965, -7.113516781146427], [0.08919191919191918, -5.96051944326361, -6.969979659696758], [0.09909090909090908, -5.909812221947884, -6.847067684437385], [0.10898989898989898, -5.869704460209562, -6.740956234911767], [0.11888888888888888, -5.838454955076418, -6.6488238301442735], [0.12878787878787878, -5.814741265693634, -6.56853048914407], [0.1386868686868687, -5.7975348672846865, -6.498415544961646], [0.1485858585858586, -5.786019347012583, -6.437165340562384], [0.15848484848484848, -5.779534923947978, -6.3837236903628956], [0.16838383838383839, -5.777539684194761, -6.33722952482736], [0.1782828282828283, -5.779581772514631, -6.296972382352332], [0.18818181818181817, -5.785278963291982, -6.262359951884356], [0.19808080808080808, -5.794303318592675, -6.23289395401259], [0.207979797979798, -5.806369424020516, -6.20815191775695], [0.21787878787878787, -5.8212251847962975, -6.1877732066545805], [0.22777777777777777, -5.838644481931919, -6.171448160585467], [0.23767676767676768, -5.858421198715963, -6.158909557823221], [0.24757575757575756, -5.8803642707445585, -6.149925829344059], [0.25747474747474747, -5.904293512632502, -6.144295613522039], [0.2673737373737374, -5.930036046412987, -6.141843348274634], [0.2772727272727273, -5.9574232100511395, -6.1424156749494125], [0.2871717171717172, -5.9862878655640905, -6.145878483782845], [0.29707070707070704, -6.0164620587820865, -6.152114471238405], [0.30696969696969695, -6.04777500901767, -6.161021109392569], [0.31686868686868686, -6.08005142783349, -6.172508949819755], [0.32676767676767676, -6.113110181742205, -6.186500201232055], [0.33666666666666667, -6.146763323294426, -6.202927532930405], [0.3465656565656566, -6.18081551736034, -6.221733065967215], [0.3564646464646465, -6.215063883109809, -6.24286752155803], [0.36636363636363634, -6.249298256311607, -6.266289502257659], [0.37626262626262624, -6.283301851371131, -6.291964886134809], [0.38616161616161615, -6.316852270306583, -6.3198663179352925], [0.39606060606060606, -6.349722771656164, -6.349972784239644], [0.40595959595959596, -6.381683684085722, -6.382269262063626], [0.41585858585858587, -6.412503837486427, -6.416746432347694], [0.4257575757575757, -6.441951899334445, -6.453400451431932], [0.43565656565656563, -6.469797554209738, -6.492232774992636], [0.44555555555555554, -6.495812551531254, -6.533250030085546], [0.45545454545454545, -6.519771762766342, -6.576463931946189], [0.46535353535353535, -6.541454514513483, -6.62189124307847], [0.47525252525252526, -6.560646566205793, -6.669553772950117], [0.4851515151515151, -6.577143141631473, -6.71947841733424], [0.495050505050505, -6.5907533641621505, -6.7716972370133215], [0.5049494949494949, -6.601306262500786, -6.826247576215724], [0.5148484848484849, -6.6086582110670165, -6.883172221804319], [0.5247474747474747, -6.612701290486259, -6.942519604900792], [0.5346464646464646, -6.613371683327057, -7.004344047325858], [0.5445454545454546, -6.610656967339413, -7.068706055985049], [0.5544444444444444, -6.604601133152273, -7.135672669153234], [0.5643434343434344, -6.595306385065805, -7.205317859533168], [0.5742424242424242, -6.582931250520126, -7.27772300001227], [0.5841414141414141, -6.567685114132279, -7.35297739925132], [0.594040404040404, -6.549819851095594, -7.431178915649184], [0.6039393939393939, -6.529619622421659, -7.512434659888695], [0.6138383838383838, -6.5073900355487995, -7.596861798241856], [0.6237373737373737, -6.483447774885927, -7.68458847117392], [0.6336363636363637, -6.458111538949268, -7.775754844632222], [0.6435353535353535, -6.431694781477096, -7.870514314859175], [0.6534343434343434, -6.404500430659149, -7.969034891785927], [0.6633333333333333, -6.376817509148889, -8.071500791245077], [0.6732323232323232, -6.3489194183983955, -8.17811427264884], [0.6831313131313131, -6.321063577878782, -8.28909776675429], [0.693030303030303, -6.293492102467018, -8.404696348129082], [0.702929292929293, -6.266433235725479, -8.52518061953628], [0.7128282828282828, -6.240103312171123, -8.650850091473927], [0.7227272727272727, -6.214709083048928, -8.782037160613246], [0.7326262626262626, -6.1904502987536105, -8.919111817350041], [0.7425252525252525, -6.167522492923655, -9.062487247144498], [0.7524242424242424, -6.146119957788645, -9.212626535597364], [0.7623232323232323, -6.126438939122457, -9.370050747271145], [0.7722222222222221, -6.1086811149186815, -9.535348728782637], [0.7821212121212121, -6.093057458241365, -9.709189095857894], [0.792020202020202, -6.079792625947846, -9.892335013858535], [0.8019191919191919, -6.0691300665389685, -10.08566258962641], [0.8118181818181818, -6.061338109468018, -10.29018398639756], [0.8217171717171717, -6.0567173951043545, -10.50707679469221], [0.8316161616161616, -6.055610144695976, -10.737721806045075], [0.8415151515151514, -6.058411977521253, -10.983752248557208], [0.8514141414141414, -6.065587297814314, -11.247118927011854], [0.8613131313131313, -6.07768976415644, -11.530177859145985], [0.8712121212121212, -6.0953901357581515, -11.835810425071164], [0.8811111111111111, -6.1195150740833855, -12.167591670862508], [0.891010101010101, -6.151102659148589, -12.530031957154582], [0.9009090909090909, -6.191484229708152, -12.928933999340947], [0.9108080808080807, -6.242409265123008, -13.371938466847793], [0.9207070707070707, -6.306243867497469, -13.869391900650294], [0.9306060606060605, -6.386302122542023, -14.435796434786704], [0.9405050505050505, -6.487434043899623, -15.09238284343085], [0.9504040404040404, -6.61715322703705, -15.872046323994615], [0.9603030303030302, -6.788035707269377, -16.829847218824465], [0.9702020202020202, -7.02362559571873, -18.06886318049837], [0.98010101010101, -7.376656769138962, -19.819956518217683], [0.99, -8.01449985459042, -22.815829025125595]]}, \"plugins\": [{\"type\": \"reset\"}, {\"enabled\": false, \"type\": \"zoom\", \"button\": true}, {\"enabled\": false, \"type\": \"boxzoom\", \"button\": true}]});\n",
       "      });\n",
       "    });\n",
       "}else{\n",
       "    // require.js not available: dynamically load d3 & mpld3\n",
       "    mpld3_load_lib(\"https://mpld3.github.io/js/d3.v3.min.js\", function(){\n",
       "         mpld3_load_lib(\"https://mpld3.github.io/js/mpld3.v0.2.js\", function(){\n",
       "                 \n",
       "                 mpld3.draw_figure(\"fig_el499944436845923293841845\", {\"width\": 480.0, \"id\": \"el49994443684592\", \"height\": 320.0, \"axes\": [{\"axes\": [{\"fontsize\": 10.0, \"tickvalues\": null, \"nticks\": 6, \"position\": \"bottom\", \"tickformat\": null, \"grid\": {\"gridOn\": false}, \"scale\": \"linear\"}, {\"fontsize\": 10.0, \"tickvalues\": null, \"nticks\": 7, \"position\": \"left\", \"tickformat\": null, \"grid\": {\"gridOn\": false}, \"scale\": \"linear\"}], \"sharex\": [], \"yscale\": \"linear\", \"xscale\": \"linear\", \"axesbgalpha\": null, \"zoomable\": true, \"texts\": [], \"xlim\": [0.0, 1.0], \"ydomain\": [-8.5, -5.5], \"paths\": [], \"xdomain\": [0.0, 1.0], \"id\": \"el49994443645824\", \"markers\": [], \"lines\": [{\"yindex\": 1, \"id\": \"el49994440415872\", \"coordinates\": \"data\", \"linewidth\": 1.0, \"color\": \"#0000FF\", \"zorder\": 2, \"alpha\": 1, \"data\": \"data01\", \"dasharray\": \"10,0\", \"xindex\": 0}, {\"yindex\": 2, \"id\": \"el49994440416208\", \"coordinates\": \"data\", \"linewidth\": 1.0, \"color\": \"#007F00\", \"zorder\": 2, \"alpha\": 1, \"data\": \"data01\", \"dasharray\": \"10,0\", \"xindex\": 0}], \"sharey\": [], \"bbox\": [0.125, 0.125, 0.775, 0.775], \"axesbg\": \"#FFFFFF\", \"ylim\": [-8.5, -5.5], \"collections\": [], \"images\": []}], \"data\": {\"data01\": [[0.01, -7.732067882273188, -10.155084783619541], [0.0198989898989899, -7.094229356990748, -9.082749850370325], [0.029797979797979796, -6.741210821974245, -8.472121341414521], [0.039696969696969696, -6.505646155819414, -8.05166433097353], [0.049595959595959596, -6.33480635295174, -7.73582827836542], [0.059494949494949496, -6.205152566304794, -7.486420510496206], [0.06939393939393938, -6.10411444642071, -7.283044068393358], [0.07929292929292929, -6.0241845359153965, -7.113516781146427], [0.08919191919191918, -5.96051944326361, -6.969979659696758], [0.09909090909090908, -5.909812221947884, -6.847067684437385], [0.10898989898989898, -5.869704460209562, -6.740956234911767], [0.11888888888888888, -5.838454955076418, -6.6488238301442735], [0.12878787878787878, -5.814741265693634, -6.56853048914407], [0.1386868686868687, -5.7975348672846865, -6.498415544961646], [0.1485858585858586, -5.786019347012583, -6.437165340562384], [0.15848484848484848, -5.779534923947978, -6.3837236903628956], [0.16838383838383839, -5.777539684194761, -6.33722952482736], [0.1782828282828283, -5.779581772514631, -6.296972382352332], [0.18818181818181817, -5.785278963291982, -6.262359951884356], [0.19808080808080808, -5.794303318592675, -6.23289395401259], [0.207979797979798, -5.806369424020516, -6.20815191775695], [0.21787878787878787, -5.8212251847962975, -6.1877732066545805], [0.22777777777777777, -5.838644481931919, -6.171448160585467], [0.23767676767676768, -5.858421198715963, -6.158909557823221], [0.24757575757575756, -5.8803642707445585, -6.149925829344059], [0.25747474747474747, -5.904293512632502, -6.144295613522039], [0.2673737373737374, -5.930036046412987, -6.141843348274634], [0.2772727272727273, -5.9574232100511395, -6.1424156749494125], [0.2871717171717172, -5.9862878655640905, -6.145878483782845], [0.29707070707070704, -6.0164620587820865, -6.152114471238405], [0.30696969696969695, -6.04777500901767, -6.161021109392569], [0.31686868686868686, -6.08005142783349, -6.172508949819755], [0.32676767676767676, -6.113110181742205, -6.186500201232055], [0.33666666666666667, -6.146763323294426, -6.202927532930405], [0.3465656565656566, -6.18081551736034, -6.221733065967215], [0.3564646464646465, -6.215063883109809, -6.24286752155803], [0.36636363636363634, -6.249298256311607, -6.266289502257659], [0.37626262626262624, -6.283301851371131, -6.291964886134809], [0.38616161616161615, -6.316852270306583, -6.3198663179352925], [0.39606060606060606, -6.349722771656164, -6.349972784239644], [0.40595959595959596, -6.381683684085722, -6.382269262063626], [0.41585858585858587, -6.412503837486427, -6.416746432347694], [0.4257575757575757, -6.441951899334445, -6.453400451431932], [0.43565656565656563, -6.469797554209738, -6.492232774992636], [0.44555555555555554, -6.495812551531254, -6.533250030085546], [0.45545454545454545, -6.519771762766342, -6.576463931946189], [0.46535353535353535, -6.541454514513483, -6.62189124307847], [0.47525252525252526, -6.560646566205793, -6.669553772950117], [0.4851515151515151, -6.577143141631473, -6.71947841733424], [0.495050505050505, -6.5907533641621505, -6.7716972370133215], [0.5049494949494949, -6.601306262500786, -6.826247576215724], [0.5148484848484849, -6.6086582110670165, -6.883172221804319], [0.5247474747474747, -6.612701290486259, -6.942519604900792], [0.5346464646464646, -6.613371683327057, -7.004344047325858], [0.5445454545454546, -6.610656967339413, -7.068706055985049], [0.5544444444444444, -6.604601133152273, -7.135672669153234], [0.5643434343434344, -6.595306385065805, -7.205317859533168], [0.5742424242424242, -6.582931250520126, -7.27772300001227], [0.5841414141414141, -6.567685114132279, -7.35297739925132], [0.594040404040404, -6.549819851095594, -7.431178915649184], [0.6039393939393939, -6.529619622421659, -7.512434659888695], [0.6138383838383838, -6.5073900355487995, -7.596861798241856], [0.6237373737373737, -6.483447774885927, -7.68458847117392], [0.6336363636363637, -6.458111538949268, -7.775754844632222], [0.6435353535353535, -6.431694781477096, -7.870514314859175], [0.6534343434343434, -6.404500430659149, -7.969034891785927], [0.6633333333333333, -6.376817509148889, -8.071500791245077], [0.6732323232323232, -6.3489194183983955, -8.17811427264884], [0.6831313131313131, -6.321063577878782, -8.28909776675429], [0.693030303030303, -6.293492102467018, -8.404696348129082], [0.702929292929293, -6.266433235725479, -8.52518061953628], [0.7128282828282828, -6.240103312171123, -8.650850091473927], [0.7227272727272727, -6.214709083048928, -8.782037160613246], [0.7326262626262626, -6.1904502987536105, -8.919111817350041], [0.7425252525252525, -6.167522492923655, -9.062487247144498], [0.7524242424242424, -6.146119957788645, -9.212626535597364], [0.7623232323232323, -6.126438939122457, -9.370050747271145], [0.7722222222222221, -6.1086811149186815, -9.535348728782637], [0.7821212121212121, -6.093057458241365, -9.709189095857894], [0.792020202020202, -6.079792625947846, -9.892335013858535], [0.8019191919191919, -6.0691300665389685, -10.08566258962641], [0.8118181818181818, -6.061338109468018, -10.29018398639756], [0.8217171717171717, -6.0567173951043545, -10.50707679469221], [0.8316161616161616, -6.055610144695976, -10.737721806045075], [0.8415151515151514, -6.058411977521253, -10.983752248557208], [0.8514141414141414, -6.065587297814314, -11.247118927011854], [0.8613131313131313, -6.07768976415644, -11.530177859145985], [0.8712121212121212, -6.0953901357581515, -11.835810425071164], [0.8811111111111111, -6.1195150740833855, -12.167591670862508], [0.891010101010101, -6.151102659148589, -12.530031957154582], [0.9009090909090909, -6.191484229708152, -12.928933999340947], [0.9108080808080807, -6.242409265123008, -13.371938466847793], [0.9207070707070707, -6.306243867497469, -13.869391900650294], [0.9306060606060605, -6.386302122542023, -14.435796434786704], [0.9405050505050505, -6.487434043899623, -15.09238284343085], [0.9504040404040404, -6.61715322703705, -15.872046323994615], [0.9603030303030302, -6.788035707269377, -16.829847218824465], [0.9702020202020202, -7.02362559571873, -18.06886318049837], [0.98010101010101, -7.376656769138962, -19.819956518217683], [0.99, -8.01449985459042, -22.815829025125595]]}, \"plugins\": [{\"type\": \"reset\"}, {\"enabled\": false, \"type\": \"zoom\", \"button\": true}, {\"enabled\": false, \"type\": \"boxzoom\", \"button\": true}]});\n",
       "            })\n",
       "         });\n",
       "}\n",
       "</script>"
      ],
      "text/plain": [
       "<IPython.core.display.HTML object>"
      ]
     },
     "execution_count": 84,
     "metadata": {},
     "output_type": "execute_result"
    }
   ],
   "source": [
    "current_theta = add_theta(0.4, theta1, 0.6, theta2)\n",
    "\n",
    "def calculate_class_distributions(data, theta):\n",
    "    result = []\n",
    "    for x in data:\n",
    "        norm = prob(x,c1,theta) + prob(x,c2,theta)\n",
    "        # E Step\n",
    "        q = {\n",
    "            c1: prob(x,c1,theta) / norm,\n",
    "            c2: prob(x,c2,theta) / norm\n",
    "        }\n",
    "        result.append(q)\n",
    "    return result\n",
    "\n",
    "current_q = calculate_class_distributions(dataset, current_theta)\n",
    "\n",
    "def marginal_ll_bound(data, theta, q_data = current_q):\n",
    "    loss = 0.0\n",
    "    for x,q in zip(data,q_data):\n",
    "        loss += q[c1] * log(prob(x,c1,theta) / q[c1]) + q[c2] * log(prob(x,c2,theta) / q[c2])\n",
    "    return loss / len(data)\n",
    "\n",
    "em.plot_1D(lambda theta: marginal_ll(dataset, theta), theta1, theta2, \n",
    "           loss2=lambda theta:marginal_ll_bound(dataset,theta), ylim=[-8.5,-5.5])"
   ]
  },
  {
   "cell_type": "markdown",
   "metadata": {},
   "source": [
    "This lower bound seems to be concave, with a single maximum. In fact, it is easy to see that $B_{q_\\params}(\\train)$ is a weighted version of the (joint) log-likelihood as defined in the [MLE chapter](mle.ipynb). As such it has a single maximum, and we can find the optimum easily, but more on that later.\n",
    "\n",
    "As can be seen in the figure, the bound is not just close at $\\params'$, it coincides with the original objective. This can be easily shown to always hold:\n",
    "\n",
    "$$\n",
    "\\sum_\\z \\prob_\\params(\\z|\\x) \\log\\left(\\frac{\\prob_\\params(\\x,\\z)}{\\prob_\\params(\\z|\\x)}\\right) = \\sum_\\z \\prob_\\params(\\z|\\x) \\log\\left(\\frac{\\prob_\\params(\\z|\\x) \\prob_\\params(\\x)}{\\prob_\\params(\\z|\\x)} \\right) = \\log(\\prob_\\params(\\x)) \\sum_\\z \\prob_\\params(\\z|\\x) = \\log(\\prob_\\params(\\x)) )\n",
    "$$"
   ]
  },
  {
   "cell_type": "markdown",
   "metadata": {},
   "source": [
    "## Maximising the Marginal Log-likelihood\n",
    "The fact that the lower bound coincides with the objective at the chosen point $\\params'$, and that the lower bound itself is easy to optimise given that it is a weighted log-likelihood with close-form solution, suggests a simple algorithm to find a (local) optimum of the objective. Simply choose an initial $\\params'$, determine the lower bound, find the optimum of this lower bound, call it $\\params'$ and repeat until convergence. This algorithm is the Expectation Maximisation (EM) algorithm, and it is named that way for reasons we explain below. It is relatively easy to show that this algorithm increases the marginal likelihood in each step, see for example Mike Collin's note. It is a little more involved to show that under mild conditions this algorithm converges to a local optimum, and we point the reader to [Wu](http://web.stanford.edu/class/ee378b/papers/wu-em.pdf)'s in-depth analysis.\n",
    "\n",
    "Before we describe the algorithm in more detail we should point out that when choosing $\\params$ to optimise the bound $B_{q,\\params}(\\train)$ we can simplify the bound to:\n",
    "$$\n",
    "\\sum_{\\x \\in \\train} \\sum_\\z q(\\z|\\x) \\log(\\frac{\\prob_\\params(\\x,\\z)}{q(\\z|\\x)}) \\propto \n",
    "\\sum_{\\x \\in \\train} \\sum_\\z q(\\z|\\x) \\log(\\prob_\\params(\\x,\\z)) = \\sum_{\\x \\in \\train} E_{q(\\z|x)}\\left[\\prob_\\params(\\x,\\z)\\right].\n",
    "$$\n",
    "That is, we can drop terms that do not involve $\\params$, and then get an *expected* version of the standard log-likelihood. It is this expectation that gives the algorithm its name.\n",
    "\n",
    "Let us formalise the EM algorithm:\n",
    "\n",
    "* **Input**:\n",
    "    * Initial parameter $\\params_1$\n",
    "* **Initialisation**\n",
    "    * $i\\leftarrow 1$\n",
    "* **while** not converged:\n",
    "    * Expectation-Step:\n",
    "        * Calculate the lower bound. This means calcuating the **expected** log-likelihood, and generally involves calculating a representation of the conditional probabilities $\\prob_{\\params_i}(\\z|\\x)$ that is convenient for optimising the expected log-likelihood in the M-Step.\n",
    "    * Maximisation-Step:\n",
    "        * Maximise the lower bound. This means finding the parameters that **maximise** the current expected log-likelihood. Often there is a closed form solution to this problem, and it involves weighted counting. \n",
    "    * $i\\leftarrow i + 1$\n",
    "        "
   ]
  },
  {
   "cell_type": "markdown",
   "metadata": {},
   "source": [
    "Let us implement the EM algorithm for our example task and model. \n",
    "\n",
    "#### E-Step \n",
    "Calculating the conditional probabilities $q(z|x)=\\prob_{\\params_i}(z|\\x)$ that make up the expectation is easy: we can calculate $\\prob_{\\params_i}(\\x,z)$ for each class $z$, and then normalise these values to sum up to one:\n",
    "$$\n",
    "  q(z|x) = \\frac{\\prob_{\\params_i}(\\x,z)}{\\sum_{z'} \\prob_{\\params_i}(\\x,z')} \n",
    "$$\n",
    "\n",
    "#### M-Step\n",
    "The M-Step requires us to maximise the expected log-likelihood, using the distributions calculated in the E-Step. The solution is similar to the closed form solution of the [MLE](mle.ipynb) objective (and can be derived accordingly by the reader). It only differs by using weighted counts instead of hard counts:\n",
    "\n",
    "$$\n",
    "\\theta_{x|z} = \\frac{ \\sum_{\\x \\in \\train} q(z|\\x) \\sum_{x_i \\in \\x }\\indi(x_i = x)}{\\sum_{\\x \\in \\train} q(z|\\x) |\\x|}\n",
    "$$\n",
    "\n",
    "The $\\theta_z$ parameters can be calculated accordingly.\n",
    "\n",
    "In Python we can implement this algorithm as follows. Notice that we are re-using the `calculate_class_distributions` function from above."
   ]
  },
  {
   "cell_type": "code",
   "execution_count": 104,
   "metadata": {
    "collapsed": true
   },
   "outputs": [],
   "source": [
    "from collections import defaultdict\n",
    "\n",
    "def e_step(data,theta):\n",
    "    return calculate_class_distributions(data, theta)\n",
    "\n",
    "def m_step(x_data,q_data):\n",
    "    counts = defaultdict(float)\n",
    "    norm = defaultdict(float)\n",
    "    class_counts = defaultdict(float)\n",
    "    for x,q in zip(x_data, q_data):\n",
    "        for z in z_domain:\n",
    "            class_counts[z] += q[z]\n",
    "            for x_i in x:\n",
    "                norm[z] += q[z]\n",
    "                counts[x_i, z] += q[z]\n",
    "    theta_c = dict([(z,class_counts[z] / len(x_data)) for z in z_domain])\n",
    "    theta_x = dict([((x,z),counts[x,z] / norm[z]) for z in z_domain for x in x_domain])\n",
    "    return theta_x, theta_c\n",
    "\n",
    "def em_algorithm(data, init_theta, iterations = 10):\n",
    "    current_theta = init_theta\n",
    "    current_q = None\n",
    "    result = []\n",
    "    for _ in range(0, iterations):\n",
    "        current_q = e_step(data, current_theta)\n",
    "        current_theta = m_step(data, current_q)\n",
    "        current_marg_ll = marginal_ll(data, current_theta)\n",
    "        current_bound = marginal_ll_bound(data, current_theta, current_q)\n",
    "        result.append((current_q, current_theta, current_marg_ll, current_bound))\n",
    "    return result"
   ]
  },
  {
   "cell_type": "markdown",
   "metadata": {},
   "source": [
    "Let us run the EM algorithm on some example data and observe the result."
   ]
  },
  {
   "cell_type": "code",
   "execution_count": 105,
   "metadata": {},
   "outputs": [
    {
     "data": {
      "text/plain": [
       "([{'c1': 0.001366599986274166, 'c2': 0.9986334000137259},\n",
       "  {'c1': 0.998991046664316, 'c2': 0.001008953335683917},\n",
       "  {'c1': 0.0010386235810250118, 'c2': 0.998961376418975}],\n",
       " ({('fries', 'c1'): 0.1252610897436444,\n",
       "   ('fries', 'c2'): 0.2856617554537877,\n",
       "   ('nattoo', 'c1'): 0.7487542865225054,\n",
       "   ('nattoo', 'c2'): 0.1432040502542796,\n",
       "   ('pizza', 'c1'): 0.12598462373385083,\n",
       "   ('pizza', 'c2'): 0.5711341942919325},\n",
       "  {'c1': 0.33379875674387166, 'c2': 0.6662012432561283}),\n",
       " -7.056983528691977,\n",
       " -7.0569835287024105)"
      ]
     },
     "execution_count": 105,
     "metadata": {},
     "output_type": "execute_result"
    }
   ],
   "source": [
    "data = [[p,p,p,p,p,n],[n,n,n,n,n,n,f,p],[f,f,f,f,p,p,p,n]]\n",
    "iterations = em_algorithm(data, current_theta, 5)\n",
    "iterations[-1]"
   ]
  },
  {
   "cell_type": "markdown",
   "metadata": {},
   "source": [
    "We can see that the model learnt to assign the 'unhealthy' documents 1 and 3, consisting primarily of pizza and fries, to class `c1` and the healthy 'natto' document to cluster `c2`. \n",
    "\n",
    "To see how quickly the algorithm converges we can observe the behaviour of the lower bound and the marginal log-likelihood. "
   ]
  },
  {
   "cell_type": "code",
   "execution_count": 106,
   "metadata": {},
   "outputs": [
    {
     "data": {
      "text/html": [
       "\n",
       "\n",
       "<style>\n",
       "\n",
       "</style>\n",
       "\n",
       "<div id=\"fig_el49994445899352828130009\"></div>\n",
       "<script>\n",
       "function mpld3_load_lib(url, callback){\n",
       "  var s = document.createElement('script');\n",
       "  s.src = url;\n",
       "  s.async = true;\n",
       "  s.onreadystatechange = s.onload = callback;\n",
       "  s.onerror = function(){console.warn(\"failed to load library \" + url);};\n",
       "  document.getElementsByTagName(\"head\")[0].appendChild(s);\n",
       "}\n",
       "\n",
       "if(typeof(mpld3) !== \"undefined\" && mpld3._mpld3IsLoaded){\n",
       "   // already loaded: just create the figure\n",
       "   !function(mpld3){\n",
       "       \n",
       "       mpld3.draw_figure(\"fig_el49994445899352828130009\", {\"width\": 480.0, \"id\": \"el49994445899352\", \"height\": 320.0, \"axes\": [{\"axes\": [{\"fontsize\": 10.0, \"tickvalues\": null, \"nticks\": 9, \"position\": \"bottom\", \"tickformat\": null, \"grid\": {\"gridOn\": false}, \"scale\": \"linear\"}, {\"fontsize\": 10.0, \"tickvalues\": null, \"nticks\": 6, \"position\": \"left\", \"tickformat\": null, \"grid\": {\"gridOn\": false}, \"scale\": \"linear\"}], \"sharex\": [], \"yscale\": \"linear\", \"xscale\": \"linear\", \"axesbgalpha\": null, \"zoomable\": true, \"texts\": [{\"id\": \"el49994471396952\", \"zorder\": 1000003.0, \"text\": \"None\", \"fontsize\": 10.0, \"coordinates\": \"axes\", \"position\": [-0.16129032258064518, -0.16129032258064516], \"color\": \"#000000\", \"rotation\": -0.0, \"v_baseline\": \"auto\", \"alpha\": 1, \"h_anchor\": \"start\"}, {\"id\": \"el49994471370528\", \"zorder\": 1000003.0, \"text\": \"marg_ll\", \"fontsize\": 12.0, \"coordinates\": \"axes\", \"position\": [0.834005376344086, 0.9112903225806451], \"color\": \"#000000\", \"rotation\": -0.0, \"v_baseline\": \"auto\", \"alpha\": 1, \"h_anchor\": \"start\"}, {\"id\": \"el49994471373440\", \"zorder\": 1000003.0, \"text\": \"bound\", \"fontsize\": 12.0, \"coordinates\": \"axes\", \"position\": [0.834005376344086, 0.831989247311828], \"color\": \"#000000\", \"rotation\": -0.0, \"v_baseline\": \"auto\", \"alpha\": 1, \"h_anchor\": \"start\"}], \"xlim\": [0.0, 4.0], \"ydomain\": [-7.5, -7.05], \"paths\": [{\"yindex\": 1, \"id\": \"el49994471353128\", \"edgecolor\": \"#000000\", \"edgewidth\": 1.0, \"facecolor\": \"#FFFFFF\", \"dasharray\": \"10,0\", \"xindex\": 0, \"pathcodes\": [\"M\", \"L\", \"L\", \"L\", \"Z\"], \"coordinates\": \"axes\", \"zorder\": 1000001.0, \"data\": \"data03\", \"alpha\": 1}], \"xdomain\": [0.0, 4.0], \"id\": \"el49994445899072\", \"markers\": [], \"lines\": [{\"yindex\": 1, \"id\": \"el49994471332312\", \"coordinates\": \"data\", \"linewidth\": 1.0, \"color\": \"#0000FF\", \"zorder\": 2, \"alpha\": 1, \"data\": \"data01\", \"dasharray\": \"10,0\", \"xindex\": 0}, {\"yindex\": 2, \"id\": \"el49994445897896\", \"coordinates\": \"data\", \"linewidth\": 1.0, \"color\": \"#007F00\", \"zorder\": 2, \"alpha\": 1, \"data\": \"data01\", \"dasharray\": \"10,0\", \"xindex\": 0}, {\"yindex\": 1, \"id\": \"el49994471371704\", \"coordinates\": \"axes\", \"linewidth\": 1.0, \"color\": \"#0000FF\", \"zorder\": 1000002.0, \"alpha\": 1, \"data\": \"data02\", \"dasharray\": \"10,0\", \"xindex\": 0}, {\"yindex\": 2, \"id\": \"el49994471395104\", \"coordinates\": \"axes\", \"linewidth\": 1.0, \"color\": \"#007F00\", \"zorder\": 1000002.0, \"alpha\": 1, \"data\": \"data02\", \"dasharray\": \"10,0\", \"xindex\": 0}], \"sharey\": [], \"bbox\": [0.125, 0.125, 0.775, 0.775], \"axesbg\": \"#FFFFFF\", \"ylim\": [-7.5, -7.05], \"collections\": [], \"images\": []}], \"data\": {\"data01\": [[0.0, -7.236559390124026, -7.466185455579574], [1.0, -7.058778110988764, -7.0799615482417595], [2.0, -7.056984235895101, -7.05701953920049], [3.0, -7.0569835290489875, -7.056983543049204], [4.0, -7.056983528691977, -7.0569835287024105]], \"data02\": [[0.7443996415770608, 0.9301075268817204, 0.8508064516129032], [0.7945788530465949, 0.9301075268817204, 0.8508064516129032]], \"data03\": [[0.7193100358422939, 0.7983870967741935], [0.9820788530465949, 0.7983870967741935], [0.9820788530465949, 0.9731182795698926], [0.7193100358422939, 0.9731182795698926]]}, \"plugins\": [{\"type\": \"reset\"}, {\"enabled\": false, \"type\": \"zoom\", \"button\": true}, {\"enabled\": false, \"type\": \"boxzoom\", \"button\": true}]});\n",
       "   }(mpld3);\n",
       "}else if(typeof define === \"function\" && define.amd){\n",
       "   // require.js is available: use it to load d3/mpld3\n",
       "   require.config({paths: {d3: \"https://mpld3.github.io/js/d3.v3.min\"}});\n",
       "   require([\"d3\"], function(d3){\n",
       "      window.d3 = d3;\n",
       "      mpld3_load_lib(\"https://mpld3.github.io/js/mpld3.v0.2.js\", function(){\n",
       "         \n",
       "         mpld3.draw_figure(\"fig_el49994445899352828130009\", {\"width\": 480.0, \"id\": \"el49994445899352\", \"height\": 320.0, \"axes\": [{\"axes\": [{\"fontsize\": 10.0, \"tickvalues\": null, \"nticks\": 9, \"position\": \"bottom\", \"tickformat\": null, \"grid\": {\"gridOn\": false}, \"scale\": \"linear\"}, {\"fontsize\": 10.0, \"tickvalues\": null, \"nticks\": 6, \"position\": \"left\", \"tickformat\": null, \"grid\": {\"gridOn\": false}, \"scale\": \"linear\"}], \"sharex\": [], \"yscale\": \"linear\", \"xscale\": \"linear\", \"axesbgalpha\": null, \"zoomable\": true, \"texts\": [{\"id\": \"el49994471396952\", \"zorder\": 1000003.0, \"text\": \"None\", \"fontsize\": 10.0, \"coordinates\": \"axes\", \"position\": [-0.16129032258064518, -0.16129032258064516], \"color\": \"#000000\", \"rotation\": -0.0, \"v_baseline\": \"auto\", \"alpha\": 1, \"h_anchor\": \"start\"}, {\"id\": \"el49994471370528\", \"zorder\": 1000003.0, \"text\": \"marg_ll\", \"fontsize\": 12.0, \"coordinates\": \"axes\", \"position\": [0.834005376344086, 0.9112903225806451], \"color\": \"#000000\", \"rotation\": -0.0, \"v_baseline\": \"auto\", \"alpha\": 1, \"h_anchor\": \"start\"}, {\"id\": \"el49994471373440\", \"zorder\": 1000003.0, \"text\": \"bound\", \"fontsize\": 12.0, \"coordinates\": \"axes\", \"position\": [0.834005376344086, 0.831989247311828], \"color\": \"#000000\", \"rotation\": -0.0, \"v_baseline\": \"auto\", \"alpha\": 1, \"h_anchor\": \"start\"}], \"xlim\": [0.0, 4.0], \"ydomain\": [-7.5, -7.05], \"paths\": [{\"yindex\": 1, \"id\": \"el49994471353128\", \"edgecolor\": \"#000000\", \"edgewidth\": 1.0, \"facecolor\": \"#FFFFFF\", \"dasharray\": \"10,0\", \"xindex\": 0, \"pathcodes\": [\"M\", \"L\", \"L\", \"L\", \"Z\"], \"coordinates\": \"axes\", \"zorder\": 1000001.0, \"data\": \"data03\", \"alpha\": 1}], \"xdomain\": [0.0, 4.0], \"id\": \"el49994445899072\", \"markers\": [], \"lines\": [{\"yindex\": 1, \"id\": \"el49994471332312\", \"coordinates\": \"data\", \"linewidth\": 1.0, \"color\": \"#0000FF\", \"zorder\": 2, \"alpha\": 1, \"data\": \"data01\", \"dasharray\": \"10,0\", \"xindex\": 0}, {\"yindex\": 2, \"id\": \"el49994445897896\", \"coordinates\": \"data\", \"linewidth\": 1.0, \"color\": \"#007F00\", \"zorder\": 2, \"alpha\": 1, \"data\": \"data01\", \"dasharray\": \"10,0\", \"xindex\": 0}, {\"yindex\": 1, \"id\": \"el49994471371704\", \"coordinates\": \"axes\", \"linewidth\": 1.0, \"color\": \"#0000FF\", \"zorder\": 1000002.0, \"alpha\": 1, \"data\": \"data02\", \"dasharray\": \"10,0\", \"xindex\": 0}, {\"yindex\": 2, \"id\": \"el49994471395104\", \"coordinates\": \"axes\", \"linewidth\": 1.0, \"color\": \"#007F00\", \"zorder\": 1000002.0, \"alpha\": 1, \"data\": \"data02\", \"dasharray\": \"10,0\", \"xindex\": 0}], \"sharey\": [], \"bbox\": [0.125, 0.125, 0.775, 0.775], \"axesbg\": \"#FFFFFF\", \"ylim\": [-7.5, -7.05], \"collections\": [], \"images\": []}], \"data\": {\"data01\": [[0.0, -7.236559390124026, -7.466185455579574], [1.0, -7.058778110988764, -7.0799615482417595], [2.0, -7.056984235895101, -7.05701953920049], [3.0, -7.0569835290489875, -7.056983543049204], [4.0, -7.056983528691977, -7.0569835287024105]], \"data02\": [[0.7443996415770608, 0.9301075268817204, 0.8508064516129032], [0.7945788530465949, 0.9301075268817204, 0.8508064516129032]], \"data03\": [[0.7193100358422939, 0.7983870967741935], [0.9820788530465949, 0.7983870967741935], [0.9820788530465949, 0.9731182795698926], [0.7193100358422939, 0.9731182795698926]]}, \"plugins\": [{\"type\": \"reset\"}, {\"enabled\": false, \"type\": \"zoom\", \"button\": true}, {\"enabled\": false, \"type\": \"boxzoom\", \"button\": true}]});\n",
       "      });\n",
       "    });\n",
       "}else{\n",
       "    // require.js not available: dynamically load d3 & mpld3\n",
       "    mpld3_load_lib(\"https://mpld3.github.io/js/d3.v3.min.js\", function(){\n",
       "         mpld3_load_lib(\"https://mpld3.github.io/js/mpld3.v0.2.js\", function(){\n",
       "                 \n",
       "                 mpld3.draw_figure(\"fig_el49994445899352828130009\", {\"width\": 480.0, \"id\": \"el49994445899352\", \"height\": 320.0, \"axes\": [{\"axes\": [{\"fontsize\": 10.0, \"tickvalues\": null, \"nticks\": 9, \"position\": \"bottom\", \"tickformat\": null, \"grid\": {\"gridOn\": false}, \"scale\": \"linear\"}, {\"fontsize\": 10.0, \"tickvalues\": null, \"nticks\": 6, \"position\": \"left\", \"tickformat\": null, \"grid\": {\"gridOn\": false}, \"scale\": \"linear\"}], \"sharex\": [], \"yscale\": \"linear\", \"xscale\": \"linear\", \"axesbgalpha\": null, \"zoomable\": true, \"texts\": [{\"id\": \"el49994471396952\", \"zorder\": 1000003.0, \"text\": \"None\", \"fontsize\": 10.0, \"coordinates\": \"axes\", \"position\": [-0.16129032258064518, -0.16129032258064516], \"color\": \"#000000\", \"rotation\": -0.0, \"v_baseline\": \"auto\", \"alpha\": 1, \"h_anchor\": \"start\"}, {\"id\": \"el49994471370528\", \"zorder\": 1000003.0, \"text\": \"marg_ll\", \"fontsize\": 12.0, \"coordinates\": \"axes\", \"position\": [0.834005376344086, 0.9112903225806451], \"color\": \"#000000\", \"rotation\": -0.0, \"v_baseline\": \"auto\", \"alpha\": 1, \"h_anchor\": \"start\"}, {\"id\": \"el49994471373440\", \"zorder\": 1000003.0, \"text\": \"bound\", \"fontsize\": 12.0, \"coordinates\": \"axes\", \"position\": [0.834005376344086, 0.831989247311828], \"color\": \"#000000\", \"rotation\": -0.0, \"v_baseline\": \"auto\", \"alpha\": 1, \"h_anchor\": \"start\"}], \"xlim\": [0.0, 4.0], \"ydomain\": [-7.5, -7.05], \"paths\": [{\"yindex\": 1, \"id\": \"el49994471353128\", \"edgecolor\": \"#000000\", \"edgewidth\": 1.0, \"facecolor\": \"#FFFFFF\", \"dasharray\": \"10,0\", \"xindex\": 0, \"pathcodes\": [\"M\", \"L\", \"L\", \"L\", \"Z\"], \"coordinates\": \"axes\", \"zorder\": 1000001.0, \"data\": \"data03\", \"alpha\": 1}], \"xdomain\": [0.0, 4.0], \"id\": \"el49994445899072\", \"markers\": [], \"lines\": [{\"yindex\": 1, \"id\": \"el49994471332312\", \"coordinates\": \"data\", \"linewidth\": 1.0, \"color\": \"#0000FF\", \"zorder\": 2, \"alpha\": 1, \"data\": \"data01\", \"dasharray\": \"10,0\", \"xindex\": 0}, {\"yindex\": 2, \"id\": \"el49994445897896\", \"coordinates\": \"data\", \"linewidth\": 1.0, \"color\": \"#007F00\", \"zorder\": 2, \"alpha\": 1, \"data\": \"data01\", \"dasharray\": \"10,0\", \"xindex\": 0}, {\"yindex\": 1, \"id\": \"el49994471371704\", \"coordinates\": \"axes\", \"linewidth\": 1.0, \"color\": \"#0000FF\", \"zorder\": 1000002.0, \"alpha\": 1, \"data\": \"data02\", \"dasharray\": \"10,0\", \"xindex\": 0}, {\"yindex\": 2, \"id\": \"el49994471395104\", \"coordinates\": \"axes\", \"linewidth\": 1.0, \"color\": \"#007F00\", \"zorder\": 1000002.0, \"alpha\": 1, \"data\": \"data02\", \"dasharray\": \"10,0\", \"xindex\": 0}], \"sharey\": [], \"bbox\": [0.125, 0.125, 0.775, 0.775], \"axesbg\": \"#FFFFFF\", \"ylim\": [-7.5, -7.05], \"collections\": [], \"images\": []}], \"data\": {\"data01\": [[0.0, -7.236559390124026, -7.466185455579574], [1.0, -7.058778110988764, -7.0799615482417595], [2.0, -7.056984235895101, -7.05701953920049], [3.0, -7.0569835290489875, -7.056983543049204], [4.0, -7.056983528691977, -7.0569835287024105]], \"data02\": [[0.7443996415770608, 0.9301075268817204, 0.8508064516129032], [0.7945788530465949, 0.9301075268817204, 0.8508064516129032]], \"data03\": [[0.7193100358422939, 0.7983870967741935], [0.9820788530465949, 0.7983870967741935], [0.9820788530465949, 0.9731182795698926], [0.7193100358422939, 0.9731182795698926]]}, \"plugins\": [{\"type\": \"reset\"}, {\"enabled\": false, \"type\": \"zoom\", \"button\": true}, {\"enabled\": false, \"type\": \"boxzoom\", \"button\": true}]});\n",
       "            })\n",
       "         });\n",
       "}\n",
       "</script>"
      ],
      "text/plain": [
       "<IPython.core.display.HTML object>"
      ]
     },
     "execution_count": 106,
     "metadata": {},
     "output_type": "execute_result"
    }
   ],
   "source": [
    "fig = plt.figure()\n",
    "plt.plot(range(0, len(iterations)), [iteration[2] for iteration in iterations], label='marg_ll')\n",
    "plt.plot(range(0, len(iterations)), [iteration[3] for iteration in iterations], label='bound')\n",
    "plt.legend()\n",
    "mpld3.display(fig)"
   ]
  },
  {
   "cell_type": "markdown",
   "metadata": {},
   "source": [
    "We see that the bound indeed is a lower bound of the of the marginal log-likelihood, and both objectives are converging very quickly to a local optimum. "
   ]
  },
  {
   "cell_type": "markdown",
   "metadata": {},
   "source": [
    "## Background Material\n",
    "* Michael Collin's [lecture notes on EM](http://www.cs.columbia.edu/~mcollins/em.pdf)\n",
    "* K. Nigal, A. McCallum, S. Thrun, T. Mitchell, [Text Classification from Labeled and Unlabeled Documents using EM](http://www.kamalnigam.com/papers/emcat-mlj99.pdf), Machine Learning, 2000\n",
    "* Jurafsky & Martin, [Hidden Markov Models](https://web.stanford.edu/~jurafsky/slp3/8.pdf)"
   ]
  }
 ],
 "metadata": {
  "kernelspec": {
   "display_name": "Python 3",
   "language": "python",
   "name": "python3"
  },
  "language_info": {
   "codemirror_mode": {
    "name": "ipython",
    "version": 3
   },
   "file_extension": ".py",
   "mimetype": "text/x-python",
   "name": "python",
   "nbconvert_exporter": "python",
   "pygments_lexer": "ipython3",
   "version": "3.6.2"
  }
 },
 "nbformat": 4,
 "nbformat_minor": 1
}
