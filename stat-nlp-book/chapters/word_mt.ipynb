{
 "cells": [
  {
   "cell_type": "code",
   "execution_count": 1,
   "metadata": {
    "run_control": {
     "frozen": false,
     "read_only": false
    }
   },
   "outputs": [],
   "source": [
    "%%capture\n",
    "%load_ext autoreload\n",
    "%autoreload 2\n",
    "%matplotlib inline\n",
    "%load_ext tikzmagic\n",
    "# %cd .. \n",
    "import sys\n",
    "sys.path.append(\"..\")\n",
    "import statnlpbook.util as util\n",
    "import matplotlib\n",
    "import matplotlib.pyplot as plt\n",
    "from statnlpbook.lm import *\n",
    "from statnlpbook.util import safe_log as log\n",
    "import statnlpbook.mt as mt\n",
    "# util.execute_notebook('word_mt.ipynb')\n",
    "# matplotlib.rcParams['figure.figsize'] = (10.0, 6.0)\n",
    "# import tikzmagic"
   ]
  },
  {
   "cell_type": "markdown",
   "metadata": {},
   "source": [
    "<!---\n",
    "Latex Macros\n",
    "-->\n",
    "$$\n",
    "\\newcommand{\\Xs}{\\mathcal{X}}\n",
    "\\newcommand{\\Ys}{\\mathcal{Y}}\n",
    "\\newcommand{\\y}{\\mathbf{y}}\n",
    "\\newcommand{\\balpha}{\\boldsymbol{\\alpha}}\n",
    "\\newcommand{\\bbeta}{\\boldsymbol{\\beta}}\n",
    "\\newcommand{\\aligns}{\\mathbf{a}}\n",
    "\\newcommand{\\align}{a}\n",
    "\\newcommand{\\source}{\\mathbf{s}}\n",
    "\\newcommand{\\target}{\\mathbf{t}}\n",
    "\\newcommand{\\ssource}{s}\n",
    "\\newcommand{\\starget}{t}\n",
    "\\newcommand{\\repr}{\\mathbf{f}}\n",
    "\\newcommand{\\repry}{\\mathbf{g}}\n",
    "\\newcommand{\\x}{\\mathbf{x}}\n",
    "\\newcommand{\\prob}{p}\n",
    "\\newcommand{\\vocab}{V}\n",
    "\\newcommand{\\params}{\\boldsymbol{\\theta}}\n",
    "\\newcommand{\\param}{\\theta}\n",
    "\\DeclareMathOperator{\\perplexity}{PP}\n",
    "\\DeclareMathOperator{\\argmax}{argmax}\n",
    "\\DeclareMathOperator{\\argmin}{argmin}\n",
    "\\newcommand{\\train}{\\mathcal{D}}\n",
    "\\newcommand{\\counts}[2]{\\#_{#1}(#2) }\n",
    "\\newcommand{\\length}[1]{\\text{length}(#1) }\n",
    "\\newcommand{\\indi}{\\mathbb{I}}\n",
    "$$"
   ]
  },
  {
   "cell_type": "markdown",
   "metadata": {},
   "source": [
    "# Word-based Machine Translation\n",
    "\n",
    "Machine Translation (MT) is one of the canonical NLP applications, and one that nowadays most people are familiar with, primarily through online translation services of the major search engine providers. While there is still some way to go before machines can provide fluent and flawless translations, in particular for more distant language pairs like English and Japanese, progress in this field has been remarkable. \n",
    "\n",
    "In this chapter we will illustrate the foundations of this progress, and focus on word-based machine translation models. In such models words are the basic unit of translation. Nowadays the field has mostly moved to phrase and syntax-based approaches (and fully neural methods), but the word-based approach is still important, both from a foundational point of view, and as sub-component in more complex approaches.\n",
    "\n",
    "## MT as Structured Prediction\n",
    "\n",
    "Formally we will see MT as the task of translating a _source_ sentence $\\source$ to a _target_ sentence $\\target$. We can tackle the problem using the [structured prediction recipe](structured_prediction.ipynb): We define a parametrised model $s_\\params(\\target,\\source)$ that measures how well a target  $\\target$ sentence matches a source sentence $\\source$, learn the parameters $\\params$ from training data, and then find\n",
    "\n",
    "\\begin{equation}\\label{decode-mt}\n",
    "\\argmax_\\target s_\\params(\\target,\\source)\n",
    "\\end{equation}\n",
    "\n",
    "as translation of $\\source$. Different _statistical_ MT approaches, in this view, differ primarily in how $s$ is defined, $\\params$ are learned, and how the $\\argmax$ is found."
   ]
  },
  {
   "cell_type": "markdown",
   "metadata": {},
   "source": [
    "## Noisy Channel Model for MT\n",
    "\n",
    "Many Word-based MT systems, as well as those based on more advanced representations, rely on a [Noisy Channel](https://www.dropbox.com/s/gfucv538m6anmgd/NoisyChannel.pdf?dl=0) model as choice for the scoring function $s_\\params$. In this approach to MT we effectively model the translation process *in reverse*. That is, we assume that a probabilistic process (the speaker's brain) first generates the target sentence $\\target$ according to the distribution $\\prob(\\target)$. Then the target sentence $\\target$ is transmitted through a _noisy channel_ $\\prob(\\source|\\target)$ that translates $\\target$ into $\\source$. \n",
    "\n",
    "Hence translation is seen as adding noise to a clean $\\target$. This _generative story_ defines a _joint distribution_ over target and source sentences $\\prob(\\source,\\target) = \\prob(\\target) \\prob(\\source|\\target)$."
   ]
  },
  {
   "cell_type": "code",
   "execution_count": 2,
   "metadata": {
    "run_control": {
     "frozen": false,
     "read_only": false
    }
   },
   "outputs": [
    {
     "data": {
      "image/png": "[encoded data removed]"
     },
     "metadata": {},
     "output_type": "display_data"
    }
   ],
   "source": [
    "%%tikz\n",
    "\\tikzset{every node/.style={font=\\sffamily,white}} \n",
    "\\node[fill=blue] at (0,0) (a) {Sender}; \n",
    "\\node[fill=blue] at (3,0) (b) {Channel}; \n",
    "\\node[fill=blue] at (6,0) (c) {Receiver}; \n",
    "\\draw[->] (a) -- (b) node [midway,above,font=\\scriptsize,black]{$p(\\mathbf{t})$}; \n",
    "\\draw[->] (b) -- (c) node [midway,above,font=\\scriptsize,black]{$p(\\mathbf{s}|\\mathbf{t})$};"
   ]
  },
  {
   "cell_type": "markdown",
   "metadata": {},
   "source": [
    "We can in turn operate this distribution in the direction we actually care about: to infer a target sentence $\\target$ given a source sentence $\\source$ we find the _maximum a posteriori_ sentence\n",
    "\n",
    "\\begin{equation}\n",
    "\\label{decode-nc}\n",
    "\\target^* = \\argmax_\\target \\prob(\\target | \\source) = \\argmax_\\target \\prob(\\target) \\, \\prob(\\source | \\target). \n",
    "\\end{equation}\n",
    "\n",
    "For the structured prediction recipe this means setting \n",
    "\n",
    "$$\n",
    "s_\\params(\\target,\\source) = \\prob(\\target) \\, \\prob(\\source | \\target). \n",
    "$$\n",
    "\n",
    "In the noisy channel approach for MT the distribution $\\prob(\\target)$ that generates the target sentence is usually referred to as [language model](/template/statnlpbook/01_tasks/01_languagemodels), and the noisy channel is called the _translation model_. As we have discussed language models earlier, in this chapter we focus on the translation model $\\prob(\\source|\\target)$."
   ]
  },
  {
   "cell_type": "markdown",
   "metadata": {},
   "source": [
    "## A Naive Baseline Translation Model\n",
    "The most straightforward translation model translates words one-by-one, in the order of appearance:\n",
    "$$\n",
    "\\prob_\\params^\\text{Naive}(\\ssource|\\starget) = \\prod_i^{\\length{\\source}} \\param_{\\ssource_i,\\starget_i}\n",
    "$$\n",
    "where $\\param_{\\ssource,\\starget} $ is the probability of translating $\\starget$ as $\\ssource$. $\\params$ is often referred to as *translation table*.\n",
    "\n",
    "For many language pairs one can acquire training sets $\\train=\\left( \\left(\\source_i,\\target_i\\right) \\right)_{i=1}^n $ of paired source and target sentences. For example, for French and English the [Aligned Hansards](http://www.isi.edu/natural-language/download/hansard/) of the Parliament of Canada can be used. Given such a training set $\\train$ we can learn the parameters $\\params$ using the [Maximum Likelhood estimator](/template/statnlpbook/02_methods/0x_mle). In the case of our Naive model this amounts to setting\n",
    "$$\n",
    "\\param_{\\ssource,\\starget} = \\frac{\\counts{\\train}{s,t}}{\\counts{\\train}{t}} \n",
    "$$\n",
    "Here $\\counts{\\train}{s,t}$ is the number of times we see target word $t$ translated as source word $s$, and $\\counts{\\train}{t}$ the number of times we the target word $t$ in total.\n",
    "\n",
    "### Training the Naive Model\n",
    "Let us prepare some toy data to show how to train this naive model."
   ]
  },
  {
   "cell_type": "code",
   "execution_count": 3,
   "metadata": {
    "run_control": {
     "frozen": false,
     "read_only": false
    }
   },
   "outputs": [
    {
     "data": {
      "text/plain": [
       "[(['the', 'house', 'is', 'small'], ['das', 'Haus', 'ist', 'klein']),\n",
       " (['the', 'house', 'is', 'small'], ['klein', 'ist', 'das', 'Haus']),\n",
       " (['a', 'man', 'is', 'tall'], ['ein', 'Mann', 'ist', 'groß']),\n",
       " (['my', 'house', 'is', 'small'], ['klein', 'ist', 'mein', 'Haus'])]"
      ]
     },
     "execution_count": 3,
     "metadata": {},
     "output_type": "execute_result"
    }
   ],
   "source": [
    "train_raw = [\n",
    "    (\"the house is small\", \"das Haus ist klein\"),\n",
    "    (\"the house is small\", \"klein ist das Haus\"),\n",
    "    (\"a man is tall\", \"ein Mann ist groß\"),\n",
    "    (\"my house is small\", \"klein ist mein Haus\")\n",
    "]\n",
    "train = [(t.split(\" \"), s.split(\" \")) for t,s in train_raw]\n",
    "train"
   ]
  },
  {
   "cell_type": "markdown",
   "metadata": {},
   "source": [
    "Notice how we transformed raw strings into tokenised sentences via `split`. This dataset can be used to train the naive model as follows. "
   ]
  },
  {
   "cell_type": "code",
   "execution_count": 4,
   "metadata": {
    "run_control": {
     "frozen": false,
     "read_only": false
    }
   },
   "outputs": [],
   "source": [
    "from collections import defaultdict \n",
    "def learn_naive_model(data):\n",
    "    \"\"\"\n",
    "    Trains a naive per-word-translation model.\n",
    "    Args:\n",
    "        data: list of (target,source) pairs\n",
    "    Returns:\n",
    "        dictionary from (source,target) word pair to probability.\n",
    "    \"\"\"\n",
    "    norm = defaultdict(float)\n",
    "    counts = defaultdict(float)\n",
    "    for target, source in data:\n",
    "        for i in range(0, len(target)):\n",
    "            norm[target[i]] += 1.0\n",
    "            counts[(source[i],target[i])] += 1.0\n",
    "    result = {}\n",
    "    for (source,target),score in counts.items():\n",
    "        result[(source,target)] = score / norm[target]\n",
    "    return result"
   ]
  },
  {
   "cell_type": "markdown",
   "metadata": {},
   "source": [
    "Let us train on the toy dataset:"
   ]
  },
  {
   "cell_type": "code",
   "execution_count": 5,
   "metadata": {
    "run_control": {
     "frozen": false,
     "read_only": false
    }
   },
   "outputs": [
    {
     "data": {
      "image/png": "[encoded data removed]",
      "text/plain": [
       "<matplotlib.figure.Figure at 0x10ccbd400>"
      ]
     },
     "metadata": {},
     "output_type": "display_data"
    }
   ],
   "source": [
    "table = learn_naive_model(train)\n",
    "def plot_table_for_target(table, target):\n",
    "    source_for_is, scores = zip(*[item for item in sorted(table.items()) if item[0][1] == target])\n",
    "    util.plot_bar_graph(scores, source_for_is, rotation=45, align='center')\n",
    "plot_table_for_target(table, \"is\")"
   ]
  },
  {
   "cell_type": "markdown",
   "metadata": {},
   "source": [
    "### Decoding with the Naive Model\n",
    "\n",
    "*Decoding* in MT is the task of finding the solution to equation $\\ref{decode-mt}$. That is, we need to find that target sentence with maximum a posteriori probability, which is equivalent to finding the target sentence with maximum likelihood as per equation $\\ref{decode-nc}$. The phrase \"decoding\" relates to the noisy channel analogy. Somebody generated a message, the channel encodes (translates) this message and the receiver needs to find out what the original message was.   \n",
    "\n",
    "In the naive model decoding is trivial if we assume a unigram language model. We need to choose, for each source word, the target word with maximal product of translation and language model probability. For more complex models this is not sufficient, and we discuss a more powerful decoding method later.\n"
   ]
  },
  {
   "cell_type": "code",
   "execution_count": 6,
   "metadata": {
    "run_control": {
     "frozen": false,
     "read_only": false
    }
   },
   "outputs": [
    {
     "data": {
      "text/plain": [
       "['my', 'house', 'the', 'small']"
      ]
     },
     "execution_count": 6,
     "metadata": {},
     "output_type": "execute_result"
    }
   ],
   "source": [
    "def decode(source_sent, model, lm):\n",
    "    \"\"\"\n",
    "    Decodes using the naive model. Translates each source token in isolation and appends the results.\n",
    "    Args:\n",
    "        source_sent: the source sentence as a list of tokens.\n",
    "        model: the naive model, a dictionary from (source,target) to probabilities.\n",
    "        lm: a uniform language model as defined in the language_models chapter.\n",
    "    Returns:\n",
    "        a list of target tokens. \n",
    "    \"\"\"\n",
    "    source_to_targets = defaultdict(list)\n",
    "    for (source,target),prob in model.items():\n",
    "        source_to_targets[source] += [(target,prob)]\n",
    "    result = []\n",
    "    for tok in source_sent:\n",
    "        candidates = source_to_targets[tok]\n",
    "        multiplied_with_lm = [(target,prob * lm.probability(target)) for target, prob in candidates]\n",
    "        target = max(multiplied_with_lm, key=lambda t: t[1])\n",
    "        result.append(target[0])\n",
    "    return result\n",
    "\n",
    "source = train[1][1]\n",
    "lm = UniformLM(set([target for _, target in table.keys()]))\n",
    "target = decode(source, table, lm)\n",
    "target"
   ]
  },
  {
   "cell_type": "markdown",
   "metadata": {},
   "source": [
    "The naive model is broken in several ways. Most severely, it ignores the fact that word order can differ and still yield (roughly) the same meaning.   \n",
    "\n",
    "## IBM Model 2\n",
    "The IBM Model 2 is one of the most influential translation models, even though these days it is only indirectly used in actual MT systems, for example to initialize translation and alignment models. As IBM Model 2 can be understood as generalization of IBM Model 1, we omit the latter for now and briefly illustrate it afterward our introduction of Model 2. Notice that parts of these exposition are based on the excellent [lecture notes on IBM Model 1 and 2](http://www.cs.columbia.edu/~mcollins/courses/nlp2011/notes/ibm12.pdf) of Mike Collins.\n",
    "\n",
    "### Alignment\n",
    "The core difference of Model 2 to our naive baseline model is the introduction of _latent_ auxiliary variables: the word to word _alignment_ $\\aligns$ between words. In particular, we introduce a variable $a_i \\in [0 \\ldots \\length{\\target}]$ for each source sentence index $i \\in [1 \\ldots \\length{\\source}]$. The word alignment $a_i = j $ means that the source word at token $i$ is _aligned_ with the target word at index $j$. \n",
    "\n",
    "Notice that $\\align_i$ can be $0$. This corresponds to a imaginary _NULL_ token $\\starget_0$ in the target sentence and allows source words to be omitted in an alignment. \n",
    "\n",
    "Below you see a simple example of an alignment.\n"
   ]
  },
  {
   "cell_type": "code",
   "execution_count": 7,
   "metadata": {
    "run_control": {
     "frozen": false,
     "read_only": false
    }
   },
   "outputs": [
    {
     "data": {
      "text/html": [
       "\n",
       "        <svg id='3ec35b4c-a70a-11e7-87cb-6c4008b6c404' xmlns=\"http://www.w3.org/2000/svg\"\n",
       "             xmlns:xlink=\"http://www.w3.org/1999/xlink\"\n",
       "             viewBox=\"0 0 400 100\"\n",
       "             >\n",
       "\n",
       "            <text x=\"0\" y=\"20\" class=\"source\">\n",
       "                <tspan id='t0'>NULL</tspan> <tspan id='t1'>the</tspan> <tspan id='t2'>house</tspan> <tspan id='t3'>is</tspan> <tspan id='t4'>small</tspan>\n",
       "            </text>\n",
       "            <text x=\"0\" y=\"95\" class=\"target\">\n",
       "                <tspan id='t0'>klein</tspan> <tspan id='t1'>ist</tspan> <tspan id='t2'>das</tspan> <tspan id='t3'>Haus</tspan>\n",
       "            </text>\n",
       "            <g class='connections'></g>\n",
       "            <script>\n",
       "              $(function() {\n",
       "                  root = $(document.getElementById('3ec35b4c-a70a-11e7-87cb-6c4008b6c404'));\n",
       "                  root.find('.connections').empty();\n",
       "                  alignments = [['.source #t1','.target #t2',1.0],['.source #t2','.target #t3',1.0],['.source #t3','.target #t1',1.0],['.source #t4','.target #t0',1.0]];\n",
       "                  function appendLine(alignment) {\n",
       "                      s1 = root.find(alignment[0])[0];\n",
       "                      x1 = s1.getExtentOfChar(0).x + s1.getComputedTextLength() / 2.0;\n",
       "                      y1 = s1.getExtentOfChar(0).y + s1.getExtentOfChar(0).height;\n",
       "                      s2 = root.find(alignment[1])[0];\n",
       "                      x2 = s2.getExtentOfChar(0).x + s2.getComputedTextLength() / 2.0;\n",
       "                      y2 = s2.getExtentOfChar(0).y;\n",
       "                      var newLine = document.createElementNS('http://www.w3.org/2000/svg','line');\n",
       "                      var score = alignment[2];\n",
       "                      newLine.setAttribute('x1',x1.toString());\n",
       "                      newLine.setAttribute('y1',y1.toString());\n",
       "                      newLine.setAttribute('x2',x2.toString());\n",
       "                      newLine.setAttribute('y2',y2.toString());\n",
       "                      newLine.setAttribute('style',\"stroke:black;stroke-width:2;stroke-opacity:\" + score + \";\");\n",
       "                      root.find('.connections').append(newLine)\n",
       "                  };\n",
       "                  //console.log(alignments);\n",
       "                  for (var i = 0; i < alignments.length; i++) {\n",
       "                    appendLine(alignments[i]);\n",
       "                  }\n",
       "                  //console.log($(root).find('.connections'));\n",
       "              });\n",
       "            </script>\n",
       "        </svg>\n",
       "        "
      ],
      "text/plain": [
       "<statnlpbook.word_mt.Alignment at 0x10cdb5128>"
      ]
     },
     "execution_count": 7,
     "metadata": {},
     "output_type": "execute_result"
    }
   ],
   "source": [
    "import statnlpbook.word_mt as word_mt\n",
    "alignments=word_mt.Alignment(\"NULL the house is small\".split(\" \"),\n",
    "                             \"klein ist das Haus\".split(\" \"),\n",
    "                             [(1,2),(2,3),(3,1),(4,0)])\n",
    "alignments"
   ]
  },
  {
   "cell_type": "markdown",
   "metadata": {},
   "source": [
    "An example where source words have been dropped, as indicated via the `NULL` alignment, can be seen below. Here the Japanese case marker が is dropped in the English translation."
   ]
  },
  {
   "cell_type": "code",
   "execution_count": 8,
   "metadata": {
    "run_control": {
     "frozen": false,
     "read_only": false
    }
   },
   "outputs": [
    {
     "data": {
      "text/html": [
       "\n",
       "        <svg id='3ec7d798-a70a-11e7-b1a3-6c4008b6c404' xmlns=\"http://www.w3.org/2000/svg\"\n",
       "             xmlns:xlink=\"http://www.w3.org/1999/xlink\"\n",
       "             viewBox=\"0 0 400 100\"\n",
       "             >\n",
       "\n",
       "            <text x=\"0\" y=\"20\" class=\"source\">\n",
       "                <tspan id='t0'>NULL</tspan> <tspan id='t1'>I</tspan> <tspan id='t2'>like</tspan> <tspan id='t3'>music</tspan>\n",
       "            </text>\n",
       "            <text x=\"0\" y=\"95\" class=\"target\">\n",
       "                <tspan id='t0'>音楽</tspan> <tspan id='t1'>が</tspan> <tspan id='t2'>好き</tspan>\n",
       "            </text>\n",
       "            <g class='connections'></g>\n",
       "            <script>\n",
       "              $(function() {\n",
       "                  root = $(document.getElementById('3ec7d798-a70a-11e7-b1a3-6c4008b6c404'));\n",
       "                  root.find('.connections').empty();\n",
       "                  alignments = [['.source #t0','.target #t1',1.0],['.source #t2','.target #t2',1.0],['.source #t3','.target #t0',1.0]];\n",
       "                  function appendLine(alignment) {\n",
       "                      s1 = root.find(alignment[0])[0];\n",
       "                      x1 = s1.getExtentOfChar(0).x + s1.getComputedTextLength() / 2.0;\n",
       "                      y1 = s1.getExtentOfChar(0).y + s1.getExtentOfChar(0).height;\n",
       "                      s2 = root.find(alignment[1])[0];\n",
       "                      x2 = s2.getExtentOfChar(0).x + s2.getComputedTextLength() / 2.0;\n",
       "                      y2 = s2.getExtentOfChar(0).y;\n",
       "                      var newLine = document.createElementNS('http://www.w3.org/2000/svg','line');\n",
       "                      var score = alignment[2];\n",
       "                      newLine.setAttribute('x1',x1.toString());\n",
       "                      newLine.setAttribute('y1',y1.toString());\n",
       "                      newLine.setAttribute('x2',x2.toString());\n",
       "                      newLine.setAttribute('y2',y2.toString());\n",
       "                      newLine.setAttribute('style',\"stroke:black;stroke-width:2;stroke-opacity:\" + score + \";\");\n",
       "                      root.find('.connections').append(newLine)\n",
       "                  };\n",
       "                  //console.log(alignments);\n",
       "                  for (var i = 0; i < alignments.length; i++) {\n",
       "                    appendLine(alignments[i]);\n",
       "                  }\n",
       "                  //console.log($(root).find('.connections'));\n",
       "              });\n",
       "            </script>\n",
       "        </svg>\n",
       "        "
      ],
      "text/plain": [
       "<statnlpbook.word_mt.Alignment at 0x10cd9ec18>"
      ]
     },
     "execution_count": 8,
     "metadata": {},
     "output_type": "execute_result"
    }
   ],
   "source": [
    "word_mt.Alignment(\"NULL I like music\".split(\" \"),\n",
    "                  \"音楽 が 好き\".split(\" \"),\n",
    "                  [(0,1),(2,2),(3,0)])"
   ]
  },
  {
   "cell_type": "markdown",
   "metadata": {},
   "source": [
    "IBM Model 2 defines a conditional distribution $\\prob(\\source,\\aligns|\\target)$ over both the source sentence $\\source$ and its alignment $\\aligns$ to the target sentence $\\target$. Such a model can be used as translation model $\\prob(\\source|\\target)$, as defined above, by marginalizing out the alignment \n",
    "\n",
    "$$\n",
    "\\prob(\\source|\\target) = \\sum_{\\aligns} \\prob(\\source,\\aligns|\\target).\n",
    "$$\n",
    "\n",
    "### Model Parametrization\n",
    "\n",
    "\n",
    "IBM Model 2 defines its conditional distribution over source and alignments using two sets of parameters $\\params=(\\balpha,\\bbeta)$. Here $\\alpha(\\ssource|\\starget)$ is a parameter defining the probability of translation target word $\\starget$ into source word $\\ssource$, and $\\beta(j|i,l_\\starget,l_\\ssource)$ a parameter that defines the probability of aligning the source word at token $i$ with the target word at token $j$, conditioned on the length $l_\\starget$ of the target sentence, and the length $l_\\ssource$ of the source sentence. In addition, Model 2 assigns a uniform probabilitity $\\epsilon$ over source sentences lengths.  \n",
    "\n",
    "With the above parameters, IBM Model 2 defines a conditional distribution over source sentences and alignments, conditioned on a target sentence _and a desired source sentence length_ $l_\\ssource$: <span class=\"summary\">Model 2 defines a conditional distribution over source sentences and alignments:\n",
    "\n",
    "\\begin{equation}\n",
    "\\label{ibm2}\n",
    "  p_\\params^\\text{IBM2}(\\ssource_1 \\ldots \\ssource_{l_\\ssource},\\align_1 \\ldots \\align_{l_\\ssource}|\\starget_1 \\ldots \\starget_{l_\\starget}) = \\epsilon \\prod_i^{l_\\ssource} \\alpha(\\ssource_i|\\starget_{a_i}) \\beta(a_i|i,l_\\starget,l_\\ssource)\n",
    "\\end{equation}"
   ]
  },
  {
   "cell_type": "markdown",
   "metadata": {},
   "source": [
    "## Training IBM Model 2 with the EM Algorithm\n",
    "\n",
    "Training IBM Model 2 is less straightforward than training our naive baseline. The main reason is the lack of _gold alignments_ in the training data. That is, while we can quite easily find, or heuristically construct, _sentence-aligned_ corpora like our toy dataset, we generally do not have _word aligned_ sentences.\n",
    "\n",
    "To overcome this problem, IBM Model can be trained using the Expectation Maximization (EM) Algorithm, a general recipe when learning with partially observed data&mdash;in our case the data is partially observed because we observe the source and target sentences, but not their alignments. The EM algorithm maximizes a lower bound of the log-likelihood of the data. The log-likelihood of the data is:\n",
    "\n",
    "$$\n",
    "  \\sum_{(\\target_i,\\source_i) \\in \\train} \\log p_\\params^\\text{IBM2}(\\source_i|\\target_i) =  \\sum_{(\\target_i,\\source_i) \\in \\train} \\log \\sum_{\\aligns}  p_\\params^\\text{IBM2}(\\source_i,\\aligns|\\target_i) \n",
    "$$\n",
    "\n",
    "EM can be be seen as [block coordinate descent](https://www.dropbox.com/s/vrsefe3m57bxpgv/EMforTM.pdf?dl=0) on this bound.\n"
   ]
  },
  {
   "cell_type": "markdown",
   "metadata": {},
   "source": [
    "The EM algorithm is an iterative method that iterates between two steps, the E-step (Expectation) and the M-Step (Maximization), until convergence. For the case of IBM Model 2 the E and M steps are instantiated as follows: \n",
    "\n",
    "  * **E-Step**: given a current set of parameters $\\params$, calculate the **expectations** $\\pi$ of the latent alignment variables under the model $p_\\params^\\text{IBM2}$ &mdash; this amounts to estimating a _soft alignment_ for each sentence.    \n",
    "  * **M-Step**: Given training set of soft alignments $\\pi$, find new parameters $\\params$ that **maximize** the log likelihood of this (weighted) training set. This amounts to soft counting. \n",
    "\n",
    "### E-Step\n",
    "<div class=\"book-start\"></div>\n",
    "\n",
    "The E-Step calculates the distribution\n",
    "\n",
    "$$\n",
    "\\pi(\\aligns|\\source,\\target) = p_\\params^\\text{IBM2}(\\aligns|\\source,\\target)\n",
    "$$\n",
    "\n",
    "for the current parameters $\\params$. For Model 2 this distribution has a very simple form:\n",
    "\n",
    "$$\n",
    "\\pi(\\aligns|\\source,\\target) = \\prod_i^{l_{\\ssource}} \\pi(a_i|\\source,\\target,i) = \\prod_i^{l_{\\ssource}} \n",
    "  \\frac\n",
    "    {\\alpha(\\ssource_i|\\starget_{a_i}) \\beta(a_i|i,l_\\starget,l_\\ssource)}\n",
    "    {\\sum_j^{l_{\\starget}} \\alpha(\\ssource_i|\\starget_j) \\beta(j|i,l_\\starget,l_\\ssource) }\n",
    "$$\n",
    "\n",
    "Importantly, the distribution over alignments *factorizes* in a per-source-token fashion, and hence we only need to calculate, for each source token $i$ and each possible alignment $a_i$, the probability (or expectation) $\\pi(a_i|\\source,\\target,i)$.\n",
    "\n",
    "Before we look at the implementation of this algorithm we will set up the training data to be compatible with our formulation. This involves introducing a 'NULL' token to each target sentence to allow source tokens to remain unaligned. "
   ]
  },
  {
   "cell_type": "code",
   "execution_count": 9,
   "metadata": {
    "run_control": {
     "frozen": false,
     "read_only": false
    }
   },
   "outputs": [
    {
     "data": {
      "text/plain": [
       "[(['NULL', 'the', 'house', 'is', 'small'], ['klein', 'ist', 'das', 'Haus']),\n",
       " (['NULL', 'a', 'man', 'is', 'tall'], ['groß', 'ist', 'ein', 'Mann']),\n",
       " (['NULL', 'my', 'house', 'is', 'small'], ['klein', 'ist', 'mein', 'Haus']),\n",
       " (['NULL', 'the', 'building', 'is', 'big'], ['groß', 'ist', 'das', 'Gebäude']),\n",
       " (['NULL', 'the', 'building', 'is', 'long'],\n",
       "  ['lang', 'ist', 'das', 'Gebäude'])]"
      ]
     },
     "execution_count": 9,
     "metadata": {},
     "output_type": "execute_result"
    }
   ],
   "source": [
    "train_model_2_raw = [\n",
    "  (\"NULL the house is small\" , \"klein ist das Haus\"),\n",
    "  (\"NULL a man is tall\" , \"groß ist ein Mann\"),\n",
    "  (\"NULL my house is small\" , \"klein ist mein Haus\"),\n",
    "  (\"NULL the building is big\" , \"groß ist das Gebäude\"),\n",
    "  (\"NULL the building is long\" , \"lang ist das Gebäude\")\n",
    "]\n",
    "train_model_2 =  [(t.split(\" \"), s.split(\" \")) for t,s in train_model_2_raw]\n",
    "train_model_2"
   ]
  },
  {
   "cell_type": "markdown",
   "metadata": {},
   "source": [
    "We can now implement the E-Step. First we introduce a data structure to represent the IBM Model 2. "
   ]
  },
  {
   "cell_type": "code",
   "execution_count": 10,
   "metadata": {},
   "outputs": [],
   "source": [
    "class IBMModel2:\n",
    "    \"\"\"\n",
    "    A representation of IBM Model 2 with alpha and beta parameters.\n",
    "    \"\"\"\n",
    "    def __init__(self, alpha, beta):\n",
    "        \"\"\"\n",
    "        Create a new IBM Model 2 instance.\n",
    "        Params:\n",
    "            alpha: a dictionary that from pairs (s,t) of source and target words to probilities.\n",
    "            beta: a dictionary that maps from tuples (ti,si,lt,ls) of target index, source index, target length\n",
    "            and source length to the probability p(ti|si,lt,ls).\n",
    "        \"\"\"\n",
    "        self.alpha = alpha\n",
    "        self.beta = beta"
   ]
  },
  {
   "cell_type": "markdown",
   "metadata": {},
   "source": [
    "We also need a way to normalise a vector of real values to sum up to 1."
   ]
  },
  {
   "cell_type": "code",
   "execution_count": 11,
   "metadata": {},
   "outputs": [],
   "source": [
    "def norm_scores(scores):\n",
    "    \"\"\"\n",
    "    Normalises the alignment scores to sum up to one.\n",
    "    Params:\n",
    "        a list of unnormalised scores.\n",
    "    Returns:\n",
    "        a scaled version of the input list such that its elements sum up to 1.\n",
    "    \"\"\"\n",
    "    norm = sum(scores)\n",
    "    return [s/norm for s in scores]"
   ]
  },
  {
   "cell_type": "markdown",
   "metadata": {},
   "source": [
    "The E-Step can now be implemented as follows."
   ]
  },
  {
   "cell_type": "code",
   "execution_count": 12,
   "metadata": {
    "run_control": {
     "frozen": false,
     "read_only": false
    }
   },
   "outputs": [],
   "source": [
    "def e_step(model, data):\n",
    "    \"\"\"\n",
    "    Perform the E-Step of the EM algorithm.\n",
    "    Params:\n",
    "        model: An IBMModel2 instance.\n",
    "        data: a list of (t,s) pairs of target and source sentences.\n",
    "    Returns:\n",
    "        a list of alignment matrices, one for each instance in `data`. An alignment matrix is a list of lists, one list\n",
    "        per source token, and the float numbers in each list correspond to the alignment probabilities for each token with\n",
    "        respect to the source token.\n",
    "    \"\"\"\n",
    "    all_alignments = []\n",
    "    for target,source in data:\n",
    "        def score(si, ti):\n",
    "            return model.alpha[source[si],target[ti]] * model.beta[ti,si, len(target),len(source)]\n",
    "        result = []\n",
    "        for si in range(0, len(source)):\n",
    "            scores = norm_scores([score(si,ti) for ti in range(0, len(target))])\n",
    "            result.append(scores)\n",
    "        all_alignments.append(result)\n",
    "    return all_alignments"
   ]
  },
  {
   "cell_type": "markdown",
   "metadata": {},
   "source": [
    "Let us run this code using a simple initial model. "
   ]
  },
  {
   "cell_type": "code",
   "execution_count": 13,
   "metadata": {
    "run_control": {
     "frozen": false,
     "read_only": false
    }
   },
   "outputs": [
    {
     "data": {
      "text/html": [
       "\n",
       "        <svg id='3eda0f24-a70a-11e7-8b39-6c4008b6c404' xmlns=\"http://www.w3.org/2000/svg\"\n",
       "             xmlns:xlink=\"http://www.w3.org/1999/xlink\"\n",
       "             viewBox=\"0 0 400 100\"\n",
       "             >\n",
       "\n",
       "            <text x=\"0\" y=\"20\" class=\"source\">\n",
       "                <tspan id='t0'>NULL</tspan> <tspan id='t1'>the</tspan> <tspan id='t2'>house</tspan> <tspan id='t3'>is</tspan> <tspan id='t4'>small</tspan>\n",
       "            </text>\n",
       "            <text x=\"0\" y=\"95\" class=\"target\">\n",
       "                <tspan id='t0'>klein</tspan> <tspan id='t1'>ist</tspan> <tspan id='t2'>das</tspan> <tspan id='t3'>Haus</tspan>\n",
       "            </text>\n",
       "            <g class='connections'></g>\n",
       "            <script>\n",
       "              $(function() {\n",
       "                  root = $(document.getElementById('3eda0f24-a70a-11e7-8b39-6c4008b6c404'));\n",
       "                  root.find('.connections').empty();\n",
       "                  alignments = [['.source #t0','.target #t0',0.2],['.source #t1','.target #t0',0.2],['.source #t2','.target #t0',0.2],['.source #t3','.target #t0',0.2],['.source #t4','.target #t0',0.2],['.source #t0','.target #t1',0.2],['.source #t1','.target #t1',0.2],['.source #t2','.target #t1',0.2],['.source #t3','.target #t1',0.2],['.source #t4','.target #t1',0.2],['.source #t0','.target #t2',0.2],['.source #t1','.target #t2',0.2],['.source #t2','.target #t2',0.2],['.source #t3','.target #t2',0.2],['.source #t4','.target #t2',0.2],['.source #t0','.target #t3',0.2],['.source #t1','.target #t3',0.2],['.source #t2','.target #t3',0.2],['.source #t3','.target #t3',0.2],['.source #t4','.target #t3',0.2]];\n",
       "                  function appendLine(alignment) {\n",
       "                      s1 = root.find(alignment[0])[0];\n",
       "                      x1 = s1.getExtentOfChar(0).x + s1.getComputedTextLength() / 2.0;\n",
       "                      y1 = s1.getExtentOfChar(0).y + s1.getExtentOfChar(0).height;\n",
       "                      s2 = root.find(alignment[1])[0];\n",
       "                      x2 = s2.getExtentOfChar(0).x + s2.getComputedTextLength() / 2.0;\n",
       "                      y2 = s2.getExtentOfChar(0).y;\n",
       "                      var newLine = document.createElementNS('http://www.w3.org/2000/svg','line');\n",
       "                      var score = alignment[2];\n",
       "                      newLine.setAttribute('x1',x1.toString());\n",
       "                      newLine.setAttribute('y1',y1.toString());\n",
       "                      newLine.setAttribute('x2',x2.toString());\n",
       "                      newLine.setAttribute('y2',y2.toString());\n",
       "                      newLine.setAttribute('style',\"stroke:black;stroke-width:2;stroke-opacity:\" + score + \";\");\n",
       "                      root.find('.connections').append(newLine)\n",
       "                  };\n",
       "                  //console.log(alignments);\n",
       "                  for (var i = 0; i < alignments.length; i++) {\n",
       "                    appendLine(alignments[i]);\n",
       "                  }\n",
       "                  //console.log($(root).find('.connections'));\n",
       "              });\n",
       "            </script>\n",
       "        </svg>\n",
       "        "
      ],
      "text/plain": [
       "<statnlpbook.word_mt.Alignment at 0x10cd2c0f0>"
      ]
     },
     "execution_count": 13,
     "metadata": {},
     "output_type": "execute_result"
    }
   ],
   "source": [
    "source_vocab = set([tok for _,s in train_model_2 for tok in s])\n",
    "target_vocab = set([tok for t,_ in train_model_2 for tok in t])\n",
    "\n",
    "max_length = 5\n",
    "alpha, beta = {}, {}\n",
    "for s in source_vocab:\n",
    "    for t in target_vocab:\n",
    "        alpha[s,t] = 1.0 / len(source_vocab)\n",
    "for ti in range(0, max_length):\n",
    "    for si in range(0, max_length):\n",
    "        for lt in range(1, max_length+1):\n",
    "            for ls in range(1, max_length+1):\n",
    "                beta[ti,si,lt,ls] = 1.0 / lt\n",
    "                \n",
    "init_model = IBMModel2(alpha,beta)\n",
    "align_matrices = e_step(init_model, train_model_2)\n",
    "word_mt.Alignment.from_matrix(align_matrices[0], train_model_2[0][1], train_model_2[0][0])"
   ]
  },
  {
   "cell_type": "markdown",
   "metadata": {},
   "source": [
    "You can play around with the initialization of $\\balpha$ to see how the alignments react to changes of the word-to-word translation probabilities.\n",
    "\n",
    "### M-Step\n",
    "\n",
    "The M-Step optimizes a *weighted* or *expected* version of the log-likelihood of the data, using the distribution $\\pi$ from the last E-Step:\n",
    "\n",
    "$$\n",
    "  \\params^* = \\argmax_\\params \\sum_{(\\target,\\source) \\in \\train} \\sum_\\aligns \\pi(\\aligns|\\target,\\source) \\log \\prob _\\params^\\text{IBM2}(\\source,\\aligns|\\target)\n",
    "$$\n",
    "\n",
    "The summing over hidden alignments seems daunting, but because $\\pi$ factorizes as we discussed above, we again have a simple closed-form solution:\n",
    "\n",
    "$$\n",
    "  \\alpha(\\ssource|\\starget) = \\frac\n",
    "    {\\sum_{(\\target,\\source)}\\sum_i^{l_\\source} \\sum_j^{l_\\target} \\pi(j|i) \\delta(\\ssource,\\ssource_i) \\delta(\\starget,\\starget_j) }\n",
    "    {\\sum_{(\\target,\\source)} \\sum_j^{l_\\target} \\delta(\\starget,\\starget_j) }\n",
    "$$\n",
    "\n",
    "where $\\delta(x,y)$ is 1 if $x=y$ and 0 otherwise. The updates for $\\beta$ are similar. \n",
    "\n",
    "Let us implement the M-Step now. In this step we estimate parameters $\\params$ from a given set of (soft) alignments $\\aligns$. \n"
   ]
  },
  {
   "cell_type": "code",
   "execution_count": 14,
   "metadata": {
    "run_control": {
     "frozen": false,
     "read_only": false
    }
   },
   "outputs": [
    {
     "data": {
      "image/png": "[encoded data removed]",
      "text/plain": [
       "<matplotlib.figure.Figure at 0x10cdb33c8>"
      ]
     },
     "metadata": {},
     "output_type": "display_data"
    }
   ],
   "source": [
    "def m_step(aligns, data):\n",
    "    \"\"\"\n",
    "    Perform the M-step for IBM Model 2.\n",
    "    Params:\n",
    "        aligns: a list of alignments, one for each sentence in the training data. An alignment is represented\n",
    "        as a list of vectors, one vector per source, that represents the distribution over aligned target tokens.\n",
    "        data* a list of (target, source) sentence pairs.\n",
    "    \n",
    "    Return:\n",
    "        an IBMModel2 object with transition and distortion tables estimated via soft counting on the \n",
    "        assignments. \n",
    "    \"\"\"\n",
    "    alpha = defaultdict(float)\n",
    "    alpha_norm = defaultdict(float)\n",
    "    beta = defaultdict(float)\n",
    "    beta_norm = defaultdict(float)\n",
    "    for pi, (t,s) in zip(aligns, data):\n",
    "        for ti in range(0, len(t)):\n",
    "            for si in range(0, len(s)):\n",
    "                prob = pi[si][ti]\n",
    "                alpha[s[si], t[ti]] += prob\n",
    "                alpha_norm[t[ti]] += prob\n",
    "                beta[ti,si,len(t),len(s)] += prob\n",
    "                beta_norm[si,len(t),len(s)] += prob\n",
    "    for key in alpha.keys():\n",
    "        alpha[key] /= alpha_norm[key[1]]\n",
    "    for key in beta.keys():\n",
    "        beta[key] /= beta_norm[key[1:]]\n",
    "    return IBMModel2(alpha,beta)\n",
    "theta1 = m_step(align_matrices, train_model_2)    \n",
    "plot_table_for_target(theta1.alpha, \"is\")"
   ]
  },
  {
   "cell_type": "markdown",
   "metadata": {},
   "source": [
    "Notice that the algorithm already figured out that \"is\" is most likely translated to \"ist\". This is because it is (softly) aligned with \"is\" in every sentence, whereas other German words only appear in a subset of the sentences.\n",
    "\n",
    "### Initialization (IBM Model 1)\n",
    "We could already iteratively call `eStep` and `mStep` until convergence. However, a crucial question is how to initialize the model parameters for the first call to 'eStep'. So far we used a uniform initialization, but given that the EM algorithm's results usually depend significantly on initialization, using a more informed starting point can be useful. \n",
    "\n",
    "A common way to initialize EM for IBM Model 2 training is to first train the so called IBM Model 1 using EM. This model really is an instantiation of Model 2 with a specific and **fixed** alignment parameter set $\\bbeta$. Instead of estimating $\\bbeta$ it is set to assign uniform probability to all target tokens with respect to a given length: \n",
    "\n",
    "$$\n",
    "  \\beta(a_i|i,l_\\starget,l_\\ssource) = \\frac{1}{l_\\starget + 1}\n",
    "$$\n",
    "\n",
    "After training the parameters $\\params$ of Model 1 can be used to initialize EM for Model 2.  \n",
    "\n",
    "Training Model 1 using EM could have the same initialization problem. Fortunately it turns out that with $\\bbeta$ fixed in this way it can be shown, under mild conditions, that EM will converge to a global optimum, making IBM Model 1 robust to choices of initialization.\n",
    "\n",
    "Let us train IBM Model 1 now. This amounts to using our previous `eStep` and `mStep` methods, initializing $\\bbeta$ as above and not updating it during `mStep`. To measure the process of the algorithm we use the change between alignment vectors between consecutive iterations"
   ]
  },
  {
   "cell_type": "code",
   "execution_count": 15,
   "metadata": {},
   "outputs": [],
   "source": [
    "def measure_change(alignments1, alignments2):\n",
    "    \"\"\"\n",
    "    Measure the difference between two alignmetns\n",
    "    Params:\n",
    "        alignments1: a list of alignments (lists of alignment vectors)\n",
    "        alignments2: another list of alignments, for the same sentences\n",
    "    Returns:\n",
    "        The total absolute change between both lists of alignments.\n",
    "    \"\"\"\n",
    "    total_change = 0.0\n",
    "    norm = 0.0\n",
    "    for a1,a2 in zip(alignments1, alignments2):\n",
    "        for t1, t2 in zip(a1,a2):\n",
    "            for s1, s2 in zip(t1,t2):\n",
    "                total_change += abs(s1 - s2)\n",
    "                norm += 1.0\n",
    "    return total_change / norm"
   ]
  },
  {
   "cell_type": "markdown",
   "metadata": {},
   "source": [
    "EM for IBM1 model amounts to the following algorithm. Notice how we reset the $\\beta$ part of the model in each step to be uniform again (as our M-step implementation had change it). "
   ]
  },
  {
   "cell_type": "code",
   "execution_count": 16,
   "metadata": {
    "run_control": {
     "frozen": false,
     "read_only": false
    }
   },
   "outputs": [
    {
     "data": {
      "text/plain": [
       "[<matplotlib.lines.Line2D at 0x10d433278>]"
      ]
     },
     "execution_count": 16,
     "metadata": {},
     "output_type": "execute_result"
    },
    {
     "data": {
      "image/png": "[encoded data removed]",
      "text/plain": [
       "<matplotlib.figure.Figure at 0x10d177e10>"
      ]
     },
     "metadata": {},
     "output_type": "display_data"
    }
   ],
   "source": [
    "def em_model1(init_model, data, iterations):\n",
    "    \"\"\"\n",
    "    Estimate IBM Model 1 parameters from data.\n",
    "    Params:\n",
    "        init_model: the initial model.\n",
    "        data: (target,source) sentence pairs\n",
    "        iterations: number of iterations.\n",
    "    Return:\n",
    "        Trained IBM Model 1.\n",
    "    \"\"\"\n",
    "    model = init_model\n",
    "    alignments = []\n",
    "    for t,s in data:\n",
    "        alignments.append([[0.0 for _ in s] for _ in t]) \n",
    "    results_for_iterations = []\n",
    "    for _ in range(0, iterations):\n",
    "        old = alignments\n",
    "        alignments = e_step(model, data)\n",
    "        tmp_model = m_step(alignments, data)\n",
    "        model = IBMModel2(tmp_model.alpha, init_model.beta)\n",
    "        results_for_iterations.append((alignments, model, measure_change(old,alignments)))\n",
    "    return results_for_iterations\n",
    "\n",
    "# measure_change(align_matrices, align_matrices)    \n",
    "ibm1_iterations = em_model1(init_model, train_model_2, 100)\n",
    "plt.plot(range(0,len(ibm1_iterations)), [change for _, _, change in ibm1_iterations])"
   ]
  },
  {
   "cell_type": "markdown",
   "metadata": {},
   "source": [
    "Let us have a look at the translation table."
   ]
  },
  {
   "cell_type": "code",
   "execution_count": 17,
   "metadata": {
    "run_control": {
     "frozen": false,
     "read_only": false
    }
   },
   "outputs": [
    {
     "data": {
      "image/png": "[encoded data removed]",
      "text/plain": [
       "<matplotlib.figure.Figure at 0x10ccc5748>"
      ]
     },
     "metadata": {},
     "output_type": "display_data"
    }
   ],
   "source": [
    "plot_table_for_target(ibm1_iterations[-1][1].alpha, \"house\")"
   ]
  },
  {
   "cell_type": "markdown",
   "metadata": {},
   "source": [
    "We can also inspect the alignments generated during EM."
   ]
  },
  {
   "cell_type": "code",
   "execution_count": 18,
   "metadata": {
    "run_control": {
     "frozen": false,
     "read_only": false
    }
   },
   "outputs": [
    {
     "data": {
      "text/html": [
       "\n",
       "        <svg id='3f4cb6dc-a70a-11e7-8709-6c4008b6c404' xmlns=\"http://www.w3.org/2000/svg\"\n",
       "             xmlns:xlink=\"http://www.w3.org/1999/xlink\"\n",
       "             viewBox=\"0 0 400 100\"\n",
       "             >\n",
       "\n",
       "            <text x=\"0\" y=\"20\" class=\"source\">\n",
       "                <tspan id='t0'>NULL</tspan> <tspan id='t1'>the</tspan> <tspan id='t2'>house</tspan> <tspan id='t3'>is</tspan> <tspan id='t4'>small</tspan>\n",
       "            </text>\n",
       "            <text x=\"0\" y=\"95\" class=\"target\">\n",
       "                <tspan id='t0'>klein</tspan> <tspan id='t1'>ist</tspan> <tspan id='t2'>das</tspan> <tspan id='t3'>Haus</tspan>\n",
       "            </text>\n",
       "            <g class='connections'></g>\n",
       "            <script>\n",
       "              $(function() {\n",
       "                  root = $(document.getElementById('3f4cb6dc-a70a-11e7-8709-6c4008b6c404'));\n",
       "                  root.find('.connections').empty();\n",
       "                  alignments = [['.source #t0','.target #t0',2.6280259695372476e-14],['.source #t1','.target #t0',1.863439198452529e-42],['.source #t2','.target #t0',0.4999999999999737],['.source #t3','.target #t0',2.6280259695372476e-14],['.source #t4','.target #t0',0.4999999999999737],['.source #t0','.target #t1',0.5],['.source #t1','.target #t1',6.940522787929912e-22],['.source #t2','.target #t1',3.88664621703916e-27],['.source #t3','.target #t1',0.5],['.source #t4','.target #t1',3.88664621703916e-27],['.source #t0','.target #t2',0.055552866879861405],['.source #t1','.target #t2',0.8888942662402771],['.source #t2','.target #t2',4.152175776717941e-35],['.source #t3','.target #t2',0.055552866879861405],['.source #t4','.target #t2',4.152175776717941e-35],['.source #t0','.target #t3',2.6280259695372476e-14],['.source #t1','.target #t3',1.863439198452529e-42],['.source #t2','.target #t3',0.4999999999999737],['.source #t3','.target #t3',2.6280259695372476e-14],['.source #t4','.target #t3',0.4999999999999737]];\n",
       "                  function appendLine(alignment) {\n",
       "                      s1 = root.find(alignment[0])[0];\n",
       "                      x1 = s1.getExtentOfChar(0).x + s1.getComputedTextLength() / 2.0;\n",
       "                      y1 = s1.getExtentOfChar(0).y + s1.getExtentOfChar(0).height;\n",
       "                      s2 = root.find(alignment[1])[0];\n",
       "                      x2 = s2.getExtentOfChar(0).x + s2.getComputedTextLength() / 2.0;\n",
       "                      y2 = s2.getExtentOfChar(0).y;\n",
       "                      var newLine = document.createElementNS('http://www.w3.org/2000/svg','line');\n",
       "                      var score = alignment[2];\n",
       "                      newLine.setAttribute('x1',x1.toString());\n",
       "                      newLine.setAttribute('y1',y1.toString());\n",
       "                      newLine.setAttribute('x2',x2.toString());\n",
       "                      newLine.setAttribute('y2',y2.toString());\n",
       "                      newLine.setAttribute('style',\"stroke:black;stroke-width:2;stroke-opacity:\" + score + \";\");\n",
       "                      root.find('.connections').append(newLine)\n",
       "                  };\n",
       "                  //console.log(alignments);\n",
       "                  for (var i = 0; i < alignments.length; i++) {\n",
       "                    appendLine(alignments[i]);\n",
       "                  }\n",
       "                  //console.log($(root).find('.connections'));\n",
       "              });\n",
       "            </script>\n",
       "        </svg>\n",
       "        "
      ],
      "text/plain": [
       "<statnlpbook.word_mt.Alignment at 0x10d495f28>"
      ]
     },
     "execution_count": 18,
     "metadata": {},
     "output_type": "execute_result"
    }
   ],
   "source": [
    "word_mt.Alignment.from_matrix(ibm1_iterations[-1][0][0],train_model_2[0][1], train_model_2[0][0])"
   ]
  },
  {
   "cell_type": "markdown",
   "metadata": {},
   "source": [
    "### Training IBM Model 2\n",
    "Now that we have a reasonable initial model we can use it to initialize EM for IBM Model 2. Here is the EM code in full.\n"
   ]
  },
  {
   "cell_type": "code",
   "execution_count": 19,
   "metadata": {
    "run_control": {
     "frozen": false,
     "read_only": false
    }
   },
   "outputs": [],
   "source": [
    "def em_model2(init_model, data, iterations):\n",
    "    \"\"\"\n",
    "    Estimate IBM Model 2 parameters from data.\n",
    "    Params:\n",
    "        init_model: the initial model.\n",
    "        data: (target,source) sentence pairs\n",
    "        iterations: number of iterations.\n",
    "    Return:\n",
    "        Trained IBM Model 2.\n",
    "    \"\"\"    \n",
    "    model = init_model\n",
    "    alignments = []\n",
    "    for t,s in data:\n",
    "        alignments.append([[0.0 for _ in s] for _ in t]) \n",
    "    results_for_iterations = []\n",
    "    for _ in range(0, iterations):\n",
    "        old = alignments\n",
    "        alignments = e_step(model, data)\n",
    "        model = m_step(alignments, data)\n",
    "        results_for_iterations.append((alignments, model, measure_change(old,alignments)))\n",
    "    return results_for_iterations"
   ]
  },
  {
   "cell_type": "markdown",
   "metadata": {},
   "source": [
    "Initializing with the IBM Model 1 result gives us: "
   ]
  },
  {
   "cell_type": "code",
   "execution_count": 20,
   "metadata": {
    "run_control": {
     "frozen": false,
     "read_only": false
    }
   },
   "outputs": [
    {
     "data": {
      "image/png": "[encoded data removed]",
      "text/plain": [
       "<matplotlib.figure.Figure at 0x10d52d7b8>"
      ]
     },
     "metadata": {},
     "output_type": "display_data"
    }
   ],
   "source": [
    "ibm1 = ibm1_iterations[-1][1]\n",
    "ibm2_iterations = em_model2(ibm1, train_model_2, 100)\n",
    "ibm2 = ibm2_iterations[-1][1]\n",
    "plot_table_for_target(ibm2.alpha, \"house\")"
   ]
  },
  {
   "cell_type": "markdown",
   "metadata": {},
   "source": [
    "For alignments we get:"
   ]
  },
  {
   "cell_type": "code",
   "execution_count": 21,
   "metadata": {
    "run_control": {
     "frozen": false,
     "read_only": false
    }
   },
   "outputs": [
    {
     "data": {
      "text/html": [
       "\n",
       "        <svg id='3f809330-a70a-11e7-988e-6c4008b6c404' xmlns=\"http://www.w3.org/2000/svg\"\n",
       "             xmlns:xlink=\"http://www.w3.org/1999/xlink\"\n",
       "             viewBox=\"0 0 400 100\"\n",
       "             >\n",
       "\n",
       "            <text x=\"0\" y=\"20\" class=\"source\">\n",
       "                <tspan id='t0'>NULL</tspan> <tspan id='t1'>the</tspan> <tspan id='t2'>house</tspan> <tspan id='t3'>is</tspan> <tspan id='t4'>small</tspan>\n",
       "            </text>\n",
       "            <text x=\"0\" y=\"95\" class=\"target\">\n",
       "                <tspan id='t0'>klein</tspan> <tspan id='t1'>ist</tspan> <tspan id='t2'>das</tspan> <tspan id='t3'>Haus</tspan>\n",
       "            </text>\n",
       "            <g class='connections'></g>\n",
       "            <script>\n",
       "              $(function() {\n",
       "                  root = $(document.getElementById('3f809330-a70a-11e7-988e-6c4008b6c404'));\n",
       "                  root.find('.connections').empty();\n",
       "                  alignments = [['.source #t0','.target #t0',0.0],['.source #t1','.target #t0',0.0],['.source #t2','.target #t0',0.0],['.source #t3','.target #t0',0.0],['.source #t4','.target #t0',1.0],['.source #t0','.target #t1',0.5],['.source #t1','.target #t1',0.0],['.source #t2','.target #t1',0.0],['.source #t3','.target #t1',0.5],['.source #t4','.target #t1',0.0],['.source #t0','.target #t2',0.0],['.source #t1','.target #t2',1.0],['.source #t2','.target #t2',0.0],['.source #t3','.target #t2',0.0],['.source #t4','.target #t2',0.0],['.source #t0','.target #t3',0.0],['.source #t1','.target #t3',0.0],['.source #t2','.target #t3',1.0],['.source #t3','.target #t3',0.0],['.source #t4','.target #t3',0.0]];\n",
       "                  function appendLine(alignment) {\n",
       "                      s1 = root.find(alignment[0])[0];\n",
       "                      x1 = s1.getExtentOfChar(0).x + s1.getComputedTextLength() / 2.0;\n",
       "                      y1 = s1.getExtentOfChar(0).y + s1.getExtentOfChar(0).height;\n",
       "                      s2 = root.find(alignment[1])[0];\n",
       "                      x2 = s2.getExtentOfChar(0).x + s2.getComputedTextLength() / 2.0;\n",
       "                      y2 = s2.getExtentOfChar(0).y;\n",
       "                      var newLine = document.createElementNS('http://www.w3.org/2000/svg','line');\n",
       "                      var score = alignment[2];\n",
       "                      newLine.setAttribute('x1',x1.toString());\n",
       "                      newLine.setAttribute('y1',y1.toString());\n",
       "                      newLine.setAttribute('x2',x2.toString());\n",
       "                      newLine.setAttribute('y2',y2.toString());\n",
       "                      newLine.setAttribute('style',\"stroke:black;stroke-width:2;stroke-opacity:\" + score + \";\");\n",
       "                      root.find('.connections').append(newLine)\n",
       "                  };\n",
       "                  //console.log(alignments);\n",
       "                  for (var i = 0; i < alignments.length; i++) {\n",
       "                    appendLine(alignments[i]);\n",
       "                  }\n",
       "                  //console.log($(root).find('.connections'));\n",
       "              });\n",
       "            </script>\n",
       "        </svg>\n",
       "        "
      ],
      "text/plain": [
       "<statnlpbook.word_mt.Alignment at 0x10d48a4e0>"
      ]
     },
     "execution_count": 21,
     "metadata": {},
     "output_type": "execute_result"
    }
   ],
   "source": [
    "word_mt.Alignment.from_matrix(ibm2_iterations[-1][0][0],\n",
    "                              train_model_2[0][1], train_model_2[0][0])"
   ]
  },
  {
   "cell_type": "markdown",
   "metadata": {},
   "source": [
    "Let us look at the distortion probabilities for a given source position and source and target lengths."
   ]
  },
  {
   "cell_type": "code",
   "execution_count": 22,
   "metadata": {
    "run_control": {
     "frozen": false,
     "read_only": false
    }
   },
   "outputs": [
    {
     "data": {
      "image/png": "[encoded data removed]",
      "text/plain": [
       "<matplotlib.figure.Figure at 0x10d1c3dd8>"
      ]
     },
     "metadata": {},
     "output_type": "display_data"
    }
   ],
   "source": [
    "def distort(si):\n",
    "    return [ibm2.beta[ti,si,5,4] for ti in range(0,5)]\n",
    "util.plot_bar_graph(distort(0),range(0,5))"
   ]
  },
  {
   "cell_type": "markdown",
   "metadata": {},
   "source": [
    "### Decoding for IBM Model 2\n",
    "\n",
    "Decoding IBM Model 2 requires us to  solve the argmax problem in equation $\\ref{decode-nc}$, this time using the conditional probability from equation $\\ref{ibm2}$ with the hidden alignments marginalized out:\n",
    "\n",
    "\\begin{equation}\n",
    "  \\argmax_{\\target} \\prob(\\target) p_\\params^\\text{IBM2}(\\source | \\target) = \n",
    "  \\argmax_{\\target} \\prob(\\target) \\sum_{\\aligns} p_\\params^\\text{IBM2}(\\source,\\aligns | \\target)\n",
    "\\end{equation}\n",
    "\n",
    "Recall that $\\prob(\\target)$ is the language model. This nested argmax and sum is generally computationally very hard (see [Park and Darwiche](http://arxiv.org/pdf/1107.0024.pdf)), and often replaced with the simpler problem of finding a combination of best target sequence and corresponding alignment.   \n",
    "\n",
    "\\begin{equation}\n",
    "  \\argmax_{\\target,\\aligns} \\prob(\\target) p_\\params^\\text{IBM2}(\\source,\\aligns | \\target)\n",
    "\\end{equation}\n",
    "\n",
    "As it turns out for IBM Model 2 the sum can be efficiently calculated, and [Wang and Waibel](http://aclweb.org/anthology/P/P97/P97-1047.pdf) show a stack based decoder that does take this into account. \n",
    "\n",
    "<div class=\"newslide\"></div>\n",
    "However, both for simplicity of exposition and because for most real-world models this marginalization is not possible, we present a decoder that searches over both target and alignment. To simplify the algorithm further we assume that target and source sentences have to have them same length. Of course this is a major restriction, and it is not necessary, but makes the algorithm easier to explain while maintaining the core mechanism. Here we only show only the Python code and refer the reader to our [slides](https://www.dropbox.com/s/p495n19h5rtk3uf/IBM-decoding.pdf?dl=0) for an illustration of how stack and beam based decoders work. "
   ]
  },
  {
   "cell_type": "code",
   "execution_count": 23,
   "metadata": {
    "run_control": {
     "frozen": false,
     "read_only": false
    }
   },
   "outputs": [],
   "source": [
    "class Hypothesis:\n",
    "    \"\"\"\n",
    "    A Hypothesis represents a partial translation and its (log) score under the model. \n",
    "    \"\"\"\n",
    "    def __init__(self, target, align, remaining, score, parent = None, source=None):\n",
    "        \"\"\"\n",
    "        Create a new hypothesis. \n",
    "        Params:\n",
    "            target: the list of target words built so far.\n",
    "            align: a list of source indices corresponding to the target list.\n",
    "            remaining: a set of source token indices, indicating which source tokens still need to be translated.\n",
    "            score: the log probability of the translation so far.\n",
    "            parent: the previous hypothesis that was extended to create this one. For the root hypothesis\n",
    "                this should be `None.\n",
    "            source: the full source sentence. Can be `None` if the parent is not not `None`. \n",
    "        \n",
    "        \"\"\"\n",
    "        self.target = target\n",
    "        self.align = align\n",
    "        self.remaining = remaining\n",
    "        self.score = score\n",
    "        self.parent = parent\n",
    "        self.source = parent.source if source is None else source\n",
    "    def __str__(self):\n",
    "        \"\"\"\n",
    "        Returns a string representation of the hypothesis.\n",
    "        \"\"\"\n",
    "        return \"({},{},{},{},{})\".format(self.target, self.align, self.remaining, self.score, self.parent)\n",
    "    \n",
    "def decode_model_2(tm, lm, source, beam_size):\n",
    "    \"\"\"\n",
    "    Decode using IBM Model 2.\n",
    "    Params:\n",
    "        tm: an IBM model 2.\n",
    "        lm: an LanguageModel instance. \n",
    "        source: the source sentence.\n",
    "        beam_size: the size of the beam.\n",
    "    Returns:\n",
    "        A list of beams, which itself are lists of hypotheses, with one beam per decoding step. The last\n",
    "        element of the list is the beam of the last decoding step.\n",
    "    \"\"\"\n",
    "    target_length = len(source) + 1\n",
    "    def score(hyp, new_target, source_index):\n",
    "        \"\"\"\n",
    "        Calculates the score of appending the target word `new_target` to the hypothesis `hyp` aligned\n",
    "        with source index `source_index`.\n",
    "        Params:\n",
    "            hyp: the hypothesis to add a target to.\n",
    "            new_target: the new target word to add to the list of target words in `hyp.target`.\n",
    "            source_index: the index of the source word that is aligned with the new target word.\n",
    "        Returns:\n",
    "            the log probability of extending the hypothesis by the new target word.\n",
    "        \"\"\"\n",
    "        lm_prob = log(lm.probability(new_target, *hyp.target))\n",
    "        tm_prob = log(tm.alpha[source[source_index],new_target]) + \\\n",
    "                  log(tm.beta[len(hyp.target), source_index, target_length, len(source)])\n",
    "        return lm_prob + tm_prob\n",
    "    def append(hyp):\n",
    "        \"\"\"\n",
    "        Expand the given hypothesis to create several new hypotheses: one for each possible remaining \n",
    "        source word and each way of translating it.\n",
    "        Params:\n",
    "            hyp: the hypothesis to expand.\n",
    "        Returns:\n",
    "            A list of expanded hypotheses.\n",
    "        \"\"\"\n",
    "        return [Hypothesis(hyp.target + [target_word], \n",
    "                           hyp.align + [(source_index, len(hyp.target))],\n",
    "                           {r for r in hyp.remaining if r != source_index},\n",
    "                           hyp.score + score(hyp, target_word, source_index),\n",
    "                           hyp) \n",
    "                for source_index in hyp.remaining\n",
    "                for target_word in lm.vocab]\n",
    "    # Create the initial beam\n",
    "    beam = [Hypothesis(['NULL'], [], set(range(0,len(source))), 0.0, None, source)]\n",
    "    history = [beam]\n",
    "    while len(beam[0].remaining) > 0:\n",
    "        # create all possible new hypotheses by expanding all elements in each of the current beams.\n",
    "        with_new_target = {new_hyp \n",
    "                           for hyp in beam \n",
    "                           for new_hyp in append(hyp)  }\n",
    "        # sort the new hypotheses and keep only the top `beam_size` ones.\n",
    "        beam = sorted(with_new_target, key=lambda h: -h.score)[:beam_size]\n",
    "        # Remember this beam for future visualisations.\n",
    "        history.append(beam)\n",
    "    return history"
   ]
  },
  {
   "cell_type": "markdown",
   "metadata": {},
   "source": [
    "Let us test this decoder on a simple sentence, using a uniform language model."
   ]
  },
  {
   "cell_type": "code",
   "execution_count": 24,
   "metadata": {
    "run_control": {
     "frozen": false,
     "read_only": false
    }
   },
   "outputs": [
    {
     "data": {
      "text/html": [
       "<table><tr><td>NULL</td><td>groß ist ein Mann</td><td>4</td><td>0.0</td></tr>\n",
       "<tr><td>NULL my</td><td>_ ist ein Mann</td><td>3</td><td>-inf</td></tr>\n",
       "<tr><td>NULL a</td><td>groß ist _ Mann</td><td>3</td><td>-2.3978952727983707</td></tr>\n",
       "<tr><td>NULL a building</td><td>groß ist _ _</td><td>2</td><td>-inf</td></tr>\n",
       "<tr><td>NULL a man</td><td>groß ist _ _</td><td>2</td><td>-4.795790545596741</td></tr>\n",
       "<tr><td>NULL a building tall</td><td>groß _ _ _</td><td>1</td><td>-inf</td></tr>\n",
       "<tr><td>NULL a man is</td><td>groß _ _ _</td><td>1</td><td>-7.886832998955057</td></tr>\n",
       "<tr><td>NULL a man is big</td><td>_ _ _ _</td><td>0</td><td>-10.284728271753428</td></tr>\n",
       "<tr><td>NULL a man is tall</td><td>_ _ _ _</td><td>0</td><td>-10.284728271753428</td></tr></table>"
      ],
      "text/plain": [
       "<statnlpbook.mt.render_history.<locals>.Test at 0x10cd13fd0>"
      ]
     },
     "execution_count": 24,
     "metadata": {},
     "output_type": "execute_result"
    }
   ],
   "source": [
    "source = [\"groß\", \"ist\", \"ein\", \"Mann\"]\n",
    "target_vocab = {tok for target, _ in train_model_2 for tok in target}\n",
    "lm = UniformLM({w for w in target_vocab if w != 'NULL'})\n",
    "hist = decode_model_2(ibm2, lm, source, 2)\n",
    "mt.render_history(hist)"
   ]
  },
  {
   "cell_type": "markdown",
   "metadata": {},
   "source": [
    "There are currently two contenders for the most likely translation. This is because the translation model is uncertain about the translation of \"groß\" which can be \"tall\" in the context of the height of humans, and \"big\" in most other settings. To avoid this uncertainty we can use a language model to capture the fact that \"man is big\" is a little less likely than \"man is tall\"."
   ]
  },
  {
   "cell_type": "code",
   "execution_count": 25,
   "metadata": {
    "run_control": {
     "frozen": false,
     "read_only": false
    }
   },
   "outputs": [
    {
     "data": {
      "text/html": [
       "<table><tr><td>NULL</td><td>groß ist ein Mann</td><td>4</td><td>0.0</td></tr>\n",
       "<tr><td>NULL my</td><td>groß ist ein _</td><td>3</td><td>-inf</td></tr>\n",
       "<tr><td>NULL a</td><td>groß ist _ Mann</td><td>3</td><td>-2.4849066497880004</td></tr>\n",
       "<tr><td>NULL my long</td><td>groß ist _ _</td><td>2</td><td>-inf</td></tr>\n",
       "<tr><td>NULL a man</td><td>groß ist _ _</td><td>2</td><td>-3.1780538303479458</td></tr>\n",
       "<tr><td>NULL a man NULL</td><td>groß _ _ _</td><td>1</td><td>-6.962243464266207</td></tr>\n",
       "<tr><td>NULL a man is</td><td>groß _ _ _</td><td>1</td><td>-4.564348191467836</td></tr>\n",
       "<tr><td>NULL a man is big</td><td>_ _ _ _</td><td>0</td><td>-7.655390644826152</td></tr>\n",
       "<tr><td>NULL a man is tall</td><td>_ _ _ _</td><td>0</td><td>-5.2574953720277815</td></tr></table>"
      ],
      "text/plain": [
       "<statnlpbook.mt.render_history.<locals>.Test at 0x10cca4ba8>"
      ]
     },
     "execution_count": 25,
     "metadata": {},
     "output_type": "execute_result"
    }
   ],
   "source": [
    "lm_train = [tok for t,_ in train_model_2 for tok in t]\n",
    "lm2 = LaplaceLM(NGramLM(lm_train, 3),0.1)\n",
    "hist2 = decode_model_2(ibm2, lm2, source, 2)\n",
    "mt.render_history(hist2)"
   ]
  },
  {
   "cell_type": "markdown",
   "metadata": {},
   "source": [
    "Note that \"a man is tall\" is also more likely in the [Google N-grams corpus](https://books.google.com/ngrams/graph?content=a+man+is+tall%2C+a+man+is+big&year_start=1800&year_end=2000&corpus=15&smoothing=3&share=&direct_url=t1%3B%2Ca%20man%20is%20tall%3B%2Cc0%3B.t1%3B%2Ca%20man%20is%20big%3B%2Cc0).\n",
    "\n",
    "## Summary\n",
    "There are a few high level messages to take away from this chapter.\n",
    "\n",
    "* MT is an instance structured prediction recipe\n",
    "* The noisy channel is one modeling framework\n",
    "* word-based MT is foundation and blue print for more complex models\n",
    "* Training with EM\n",
    "* NLP Tricks: \n",
    "    * introducing latent alignment variables to simplify problem\n",
    "    * decoding with Beams\n",
    "\n",
    "## Background Material\n",
    "* [Lecture notes on IBM Model 1 and 2](http://www.cs.columbia.edu/~mcollins/courses/nlp2011/notes/ibm12.pdf) of Mike Collins.  \n",
    "* Jurafsky & Martin, Speech and Language Processing: \n",
    "    * Chapter 26, Machine Translation.\n",
    "    * Chapter 6, EM Algorithm\n",
    "* Brown et al., [The Mathematics of Statistical Machine Translation: Parameter Estimation](http://www.aclweb.org/anthology/J93-2003)"
   ]
  }
 ],
 "metadata": {
  "hide_input": false,
  "kernelspec": {
   "display_name": "Python 3",
   "language": "python",
   "name": "python3"
  },
  "language_info": {
   "codemirror_mode": {
    "name": "ipython",
    "version": 3
   },
   "file_extension": ".py",
   "mimetype": "text/x-python",
   "name": "python",
   "nbconvert_exporter": "python",
   "pygments_lexer": "ipython3",
   "version": "3.6.2"
  }
 },
 "nbformat": 4,
 "nbformat_minor": 1
}
