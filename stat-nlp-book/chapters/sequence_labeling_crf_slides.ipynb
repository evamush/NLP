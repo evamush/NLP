{
 "cells": [
  {
   "cell_type": "code",
   "execution_count": 2,
   "metadata": {
    "collapsed": true,
    "slideshow": {
     "slide_type": "skip"
    }
   },
   "outputs": [],
   "source": [
    "%%capture\n",
    "%load_ext autoreload\n",
    "%autoreload 2\n",
    "%matplotlib inline\n",
    "# %cd .. \n",
    "import sys\n",
    "sys.path.append(\"..\")\n",
    "import statnlpbook.util as util\n",
    "import statnlpbook.sequence as seq\n",
    "import matplotlib\n",
    "import warnings\n",
    "warnings.filterwarnings('ignore')\n",
    "matplotlib.rcParams['figure.figsize'] = (8.0, 5.0)"
   ]
  },
  {
   "cell_type": "markdown",
   "metadata": {
    "slideshow": {
     "slide_type": "skip"
    }
   },
   "source": [
    "<!---\n",
    "Latex Macros\n",
    "-->\n",
    "$$\n",
    "\\newcommand{\\Xs}{\\mathcal{X}}\n",
    "\\newcommand{\\Ys}{\\mathcal{Y}}\n",
    "\\newcommand{\\y}{\\mathbf{y}}\n",
    "\\newcommand{\\balpha}{\\boldsymbol{\\alpha}}\n",
    "\\newcommand{\\bbeta}{\\boldsymbol{\\beta}}\n",
    "\\newcommand{\\aligns}{\\mathbf{a}}\n",
    "\\newcommand{\\align}{a}\n",
    "\\newcommand{\\source}{\\mathbf{s}}\n",
    "\\newcommand{\\target}{\\mathbf{t}}\n",
    "\\newcommand{\\ssource}{s}\n",
    "\\newcommand{\\starget}{t}\n",
    "\\newcommand{\\repr}{\\mathbf{f}}\n",
    "\\newcommand{\\repry}{\\mathbf{g}}\n",
    "\\newcommand{\\x}{\\mathbf{x}}\n",
    "\\newcommand{\\prob}{p}\n",
    "\\newcommand{\\bar}{\\,|\\,}\n",
    "\\newcommand{\\vocab}{V}\n",
    "\\newcommand{\\params}{\\boldsymbol{\\theta}}\n",
    "\\newcommand{\\param}{\\theta}\n",
    "\\DeclareMathOperator{\\perplexity}{PP}\n",
    "\\DeclareMathOperator{\\argmax}{argmax}\n",
    "\\DeclareMathOperator{\\argmin}{argmin}\n",
    "\\newcommand{\\train}{\\mathcal{D}}\n",
    "\\newcommand{\\counts}[2]{\\#_{#1}(#2) }\n",
    "\\newcommand{\\length}[1]{\\text{length}(#1) }\n",
    "\\newcommand{\\indi}{\\mathbb{I}}\n",
    "$$"
   ]
  },
  {
   "cell_type": "markdown",
   "metadata": {
    "slideshow": {
     "slide_type": "slide"
    }
   },
   "source": [
    "# Sequence Labelling \n",
    "assigns labels to each element in a sequence"
   ]
  },
  {
   "cell_type": "markdown",
   "metadata": {
    "slideshow": {
     "slide_type": "subslide"
    }
   },
   "source": [
    "## Example: PoS tagging\n",
    "\n",
    "assign each token in a sentence its **Part-of-Speech tag**\n",
    "\n",
    "|I | predict | I | won't | win | a | single | game |\n",
    "|-|\n",
    "|O | V | O | V | V | D | A | N |\n",
    "\n"
   ]
  },
  {
   "cell_type": "markdown",
   "metadata": {
    "slideshow": {
     "slide_type": "subslide"
    }
   },
   "source": [
    "## Example: Named Entity Recognition\n",
    "\n",
    "label tokens as beginning (B), inside (I) our outside (O) a **named entity**\n",
    "\n",
    "| Barack | Obama | was |  born | in | Hawaii |\n",
    "|-|\n",
    "| B-PER | I-PER | O |  O | O | B-LOC |\n"
   ]
  },
  {
   "cell_type": "markdown",
   "metadata": {
    "slideshow": {
     "slide_type": "subslide"
    }
   },
   "source": [
    "## Sequence Labelling as Structured Prediction\n",
    "\n",
    "* Input Space $\\Xs$: sequences of items to label\n",
    "* Output Space $\\Ys$: sequences of output labels labels\n",
    "* Model: $s_{\\params}(\\x,\\y)$\n",
    "* Prediction: $\\argmax_\\y s_{\\params}(\\x,\\y)$"
   ]
  },
  {
   "cell_type": "markdown",
   "metadata": {
    "slideshow": {
     "slide_type": "subslide"
    }
   },
   "source": [
    "## Conditional Models\n",
    "model probability distributions over label sequences $\\y$ conditioned on input sequences $\\x$\n",
    "$$\n",
    "s_{\\params}(\\x,\\y) = \\prob_\\params(\\y|\\x)\n",
    "$$ \n",
    "\n",
    "* analog to conditional models of [text classification](doc_classify.ipynb) chapter"
   ]
  },
  {
   "cell_type": "markdown",
   "metadata": {
    "slideshow": {
     "slide_type": "subslide"
    }
   },
   "source": [
    "## Part-of-Speech Tagging as Sequence Labelling\n",
    "We us PoS tagging for tweets and use the [Tweebank dataset](http://www.cs.cmu.edu/~ark/TweetNLP/#pos) "
   ]
  },
  {
   "cell_type": "code",
   "execution_count": 3,
   "metadata": {
    "collapsed": false,
    "slideshow": {
     "slide_type": "subslide"
    }
   },
   "outputs": [
    {
     "data": {
      "text/plain": [
       "\"I/O predict/V I/O won't/V win/V a/D single/A game/N I/O bet/V on/P ./, Got/V Cliff/^ Lee/^ today/N ,/, so/P if/P he/O loses/V its/L on/P me/O RT/~ @e_one/@ :/~ Texas/^ (/, cont/~ )/, http://tl.gd/6meogh/U\""
      ]
     },
     "execution_count": 3,
     "metadata": {},
     "output_type": "execute_result"
    }
   ],
   "source": [
    "train = seq.load_tweebank(\"../data/oct27.splits/oct27.train\")\n",
    "dev = seq.load_tweebank(\"../data/oct27.splits/oct27.dev\")\n",
    "test = seq.load_tweebank(\"../data/oct27.splits/oct27.test\")\n",
    "\" \".join([w + \"/\" + t for w,t in zip(train[0][0],train[0][1])])"
   ]
  },
  {
   "cell_type": "markdown",
   "metadata": {},
   "source": [
    "Tags (such as \"O\", \"V\" and \"^\") are described in the [Tweebank annotation guideline](http://www.cs.cmu.edu/~ark/TweetNLP/annot_guidelines.pdf)"
   ]
  },
  {
   "cell_type": "code",
   "execution_count": 4,
   "metadata": {
    "collapsed": true,
    "slideshow": {
     "slide_type": "skip"
    }
   },
   "outputs": [],
   "source": [
    "# count tags here?`xw\n",
    "from collections import defaultdict\n",
    "import pandas as pd\n",
    "examples = {}\n",
    "counts = defaultdict(int)\n",
    "words = defaultdict(set)\n",
    "for x,y in train:\n",
    "    for i in range(0, len(x)):\n",
    "        if y[i] not in examples:\n",
    "            examples[y[i]] = [x[j] + \"/\" + y[j] if i == j else x[j] for j in range(max(i-2,0),min(i+2,len(x)-1))]\n",
    "        counts[y[i]] += 1\n",
    "        words[y[i]].add(x[i])\n",
    "sorted_tags = sorted(counts.items(),key=lambda x:-x[1])\n",
    "sorted_tags_with_examples = [(t,c,len(words[t]),\" \".join(examples[t])) for t,c in sorted_tags]\n",
    "\n",
    "sorted_tags_table = pd.DataFrame(sorted_tags_with_examples, columns=['Tag','Count','Unique Words','Example'])"
   ]
  },
  {
   "cell_type": "code",
   "execution_count": 5,
   "metadata": {
    "collapsed": false,
    "slideshow": {
     "slide_type": "subslide"
    }
   },
   "outputs": [
    {
     "data": {
      "text/html": [
       "<div>\n",
       "<table border=\"1\" class=\"dataframe\">\n",
       "  <thead>\n",
       "    <tr style=\"text-align: right;\">\n",
       "      <th></th>\n",
       "      <th>Tag</th>\n",
       "      <th>Count</th>\n",
       "      <th>Unique Words</th>\n",
       "      <th>Example</th>\n",
       "    </tr>\n",
       "  </thead>\n",
       "  <tbody>\n",
       "    <tr>\n",
       "      <th>0</th>\n",
       "      <td>V</td>\n",
       "      <td>2219</td>\n",
       "      <td>873</td>\n",
       "      <td>I predict/V I</td>\n",
       "    </tr>\n",
       "    <tr>\n",
       "      <th>1</th>\n",
       "      <td>N</td>\n",
       "      <td>2003</td>\n",
       "      <td>1377</td>\n",
       "      <td>a single game/N I</td>\n",
       "    </tr>\n",
       "    <tr>\n",
       "      <th>2</th>\n",
       "      <td>,</td>\n",
       "      <td>1715</td>\n",
       "      <td>84</td>\n",
       "      <td>bet on ./, Got</td>\n",
       "    </tr>\n",
       "    <tr>\n",
       "      <th>3</th>\n",
       "      <td>P</td>\n",
       "      <td>1252</td>\n",
       "      <td>126</td>\n",
       "      <td>I bet on/P .</td>\n",
       "    </tr>\n",
       "    <tr>\n",
       "      <th>4</th>\n",
       "      <td>O</td>\n",
       "      <td>1063</td>\n",
       "      <td>97</td>\n",
       "      <td>I/O predict</td>\n",
       "    </tr>\n",
       "    <tr>\n",
       "      <th>5</th>\n",
       "      <td>^</td>\n",
       "      <td>890</td>\n",
       "      <td>741</td>\n",
       "      <td>. Got Cliff/^ Lee</td>\n",
       "    </tr>\n",
       "    <tr>\n",
       "      <th>6</th>\n",
       "      <td>D</td>\n",
       "      <td>869</td>\n",
       "      <td>68</td>\n",
       "      <td>won't win a/D single</td>\n",
       "    </tr>\n",
       "    <tr>\n",
       "      <th>7</th>\n",
       "      <td>A</td>\n",
       "      <td>755</td>\n",
       "      <td>449</td>\n",
       "      <td>win a single/A game</td>\n",
       "    </tr>\n",
       "    <tr>\n",
       "      <th>8</th>\n",
       "      <td>@</td>\n",
       "      <td>713</td>\n",
       "      <td>694</td>\n",
       "      <td>me RT @e_one/@ :</td>\n",
       "    </tr>\n",
       "    <tr>\n",
       "      <th>9</th>\n",
       "      <td>R</td>\n",
       "      <td>689</td>\n",
       "      <td>217</td>\n",
       "      <td>but I still/R hate</td>\n",
       "    </tr>\n",
       "  </tbody>\n",
       "</table>\n",
       "</div>"
      ],
      "text/plain": [
       "  Tag  Count  Unique Words               Example\n",
       "0   V   2219           873         I predict/V I\n",
       "1   N   2003          1377     a single game/N I\n",
       "2   ,   1715            84        bet on ./, Got\n",
       "3   P   1252           126          I bet on/P .\n",
       "4   O   1063            97           I/O predict\n",
       "5   ^    890           741     . Got Cliff/^ Lee\n",
       "6   D    869            68  won't win a/D single\n",
       "7   A    755           449   win a single/A game\n",
       "8   @    713           694      me RT @e_one/@ :\n",
       "9   R    689           217    but I still/R hate"
      ]
     },
     "execution_count": 5,
     "metadata": {},
     "output_type": "execute_result"
    }
   ],
   "source": [
    "sorted_tags_table[:10]"
   ]
  },
  {
   "cell_type": "markdown",
   "metadata": {
    "slideshow": {
     "slide_type": "slide"
    }
   },
   "source": [
    "## Local Models / Classifiers\n",
    "A **fully factorised** or **local** model:\n",
    "\n",
    "$$\n",
    "p_\\params(\\y|\\x) = \\prod_{i=1}^n p_\\params(y_i|\\x,i)\n",
    "$$\n",
    "\n",
    "* labels are independent of each other\n",
    "* inference (and hence training) in this model is trivial\n",
    "* Compare to [\"Naive Translation Model\"](word_mt.ipynb)"
   ]
  },
  {
   "cell_type": "markdown",
   "metadata": {
    "slideshow": {
     "slide_type": "subslide"
    }
   },
   "source": [
    "### Example\n",
    "\n",
    "$$\n",
    "\\prob_\\params(\\text{D A N} \\bar \\text{a single game}) = \\\\\\\\ \\prob_\\params(\\text{D}\\bar \\text{a single game},1) \\prob_\\params(\\text{A} \\bar \\text{a single game},2) \\ldots\n",
    "$$"
   ]
  },
  {
   "cell_type": "markdown",
   "metadata": {
    "slideshow": {
     "slide_type": "subslide"
    }
   },
   "source": [
    "## Factor Graphs\n",
    "\n",
    "show \n",
    "\n",
    "* **variables** as circles, such as $y_1$\n",
    "* **terms** (**factors**) as filled rectangles, such as $f_2= \\prob_\\params(\\text{A} \\bar \\text{a single game},2) \\ldots$\n",
    "* **observations** as shaded nodes"
   ]
  },
  {
   "cell_type": "markdown",
   "metadata": {
    "slideshow": {
     "slide_type": "subslide"
    }
   },
   "source": [
    "$$\n",
    "\\prob_\\params(y_1 \\bar \\x, 1) \\prob_\\params(y_2 \\bar \\x, 2) \\prob_\\params(y_3 \\bar \\x, 3)  \\ldots\n",
    "$$"
   ]
  },
  {
   "cell_type": "code",
   "execution_count": 6,
   "metadata": {
    "collapsed": false,
    "slideshow": {
     "slide_type": "-"
    }
   },
   "outputs": [
    {
     "data": {
      "image/svg+xml": [
       "<?xml version=\"1.0\" encoding=\"UTF-8\" standalone=\"no\"?>\n",
       "<!DOCTYPE svg PUBLIC \"-//W3C//DTD SVG 1.1//EN\"\n",
       " \"http://www.w3.org/Graphics/SVG/1.1/DTD/svg11.dtd\">\n",
       "<!-- Generated by graphviz version 2.38.0 (20140413.2041)\n",
       " -->\n",
       "<!-- Title: %3 Pages: 1 -->\n",
       "<svg width=\"655pt\" height=\"176pt\"\n",
       " viewBox=\"0.00 0.00 655.13 175.90\" xmlns=\"http://www.w3.org/2000/svg\" xmlns:xlink=\"http://www.w3.org/1999/xlink\">\n",
       "<g id=\"graph0\" class=\"graph\" transform=\"scale(1 1) rotate(0) translate(4 171.901)\">\n",
       "<title>%3</title>\n",
       "<polygon fill=\"white\" stroke=\"none\" points=\"-4,4 -4,-171.901 651.127,-171.901 651.127,4 -4,4\"/>\n",
       "<!-- x -->\n",
       "<g id=\"node1\" class=\"node\"><title>x</title>\n",
       "<ellipse fill=\"lightgrey\" stroke=\"black\" cx=\"323.563\" cy=\"-18\" rx=\"18\" ry=\"18\"/>\n",
       "<text text-anchor=\"middle\" x=\"323.563\" y=\"-13.8\" font-family=\"Times,serif\" font-size=\"14.00\">x</text>\n",
       "</g>\n",
       "<!-- p(y1 | x, 1) -->\n",
       "<g id=\"node2\" class=\"node\"><title>p(y1 | x, 1)</title>\n",
       "<polygon fill=\"black\" stroke=\"black\" points=\"77.1905,-94 -0.0635812,-94 -0.0635812,-72 77.1905,-72 77.1905,-94\"/>\n",
       "<text text-anchor=\"middle\" x=\"38.5635\" y=\"-78.8\" font-family=\"Times,serif\" font-size=\"14.00\" fill=\"white\">p(y1 | x, 1)</text>\n",
       "</g>\n",
       "<!-- p(y1 | x, 1)&#45;&#45;x -->\n",
       "<g id=\"edge2\" class=\"edge\"><title>p(y1 | x, 1)&#45;&#45;x</title>\n",
       "<path fill=\"none\" stroke=\"black\" d=\"M77.2964,-73.438C139.849,-59.6106 260.666,-32.9038 305.897,-22.9052\"/>\n",
       "</g>\n",
       "<!-- y1 -->\n",
       "<g id=\"node3\" class=\"node\"><title>y1</title>\n",
       "<ellipse fill=\"none\" stroke=\"black\" cx=\"38.5635\" cy=\"-148.95\" rx=\"18.9007\" ry=\"18.9007\"/>\n",
       "<text text-anchor=\"middle\" x=\"38.5635\" y=\"-144.75\" font-family=\"Times,serif\" font-size=\"14.00\">y1</text>\n",
       "</g>\n",
       "<!-- y1&#45;&#45;p(y1 | x, 1) -->\n",
       "<g id=\"edge1\" class=\"edge\"><title>y1&#45;&#45;p(y1 | x, 1)</title>\n",
       "<path fill=\"none\" stroke=\"black\" d=\"M38.5635,-129.796C38.5635,-118.275 38.5635,-103.789 38.5635,-94.2304\"/>\n",
       "</g>\n",
       "<!-- p(y2 | x, 2) -->\n",
       "<g id=\"node4\" class=\"node\"><title>p(y2 | x, 2)</title>\n",
       "<polygon fill=\"black\" stroke=\"black\" points=\"172.191,-94 94.9364,-94 94.9364,-72 172.191,-72 172.191,-94\"/>\n",
       "<text text-anchor=\"middle\" x=\"133.563\" y=\"-78.8\" font-family=\"Times,serif\" font-size=\"14.00\" fill=\"white\">p(y2 | x, 2)</text>\n",
       "</g>\n",
       "<!-- p(y2 | x, 2)&#45;&#45;x -->\n",
       "<g id=\"edge4\" class=\"edge\"><title>p(y2 | x, 2)&#45;&#45;x</title>\n",
       "<path fill=\"none\" stroke=\"black\" d=\"M164.09,-71.878C204.582,-58.4519 274.66,-35.2153 306.7,-24.5917\"/>\n",
       "</g>\n",
       "<!-- y2 -->\n",
       "<g id=\"node5\" class=\"node\"><title>y2</title>\n",
       "<ellipse fill=\"none\" stroke=\"black\" cx=\"133.563\" cy=\"-148.95\" rx=\"18.9007\" ry=\"18.9007\"/>\n",
       "<text text-anchor=\"middle\" x=\"133.563\" y=\"-144.75\" font-family=\"Times,serif\" font-size=\"14.00\">y2</text>\n",
       "</g>\n",
       "<!-- y2&#45;&#45;p(y2 | x, 2) -->\n",
       "<g id=\"edge3\" class=\"edge\"><title>y2&#45;&#45;p(y2 | x, 2)</title>\n",
       "<path fill=\"none\" stroke=\"black\" d=\"M133.563,-129.796C133.563,-118.275 133.563,-103.789 133.563,-94.2304\"/>\n",
       "</g>\n",
       "<!-- p(y3 | x, 3) -->\n",
       "<g id=\"node6\" class=\"node\"><title>p(y3 | x, 3)</title>\n",
       "<polygon fill=\"black\" stroke=\"black\" points=\"267.191,-94 189.936,-94 189.936,-72 267.191,-72 267.191,-94\"/>\n",
       "<text text-anchor=\"middle\" x=\"228.563\" y=\"-78.8\" font-family=\"Times,serif\" font-size=\"14.00\" fill=\"white\">p(y3 | x, 3)</text>\n",
       "</g>\n",
       "<!-- p(y3 | x, 3)&#45;&#45;x -->\n",
       "<g id=\"edge6\" class=\"edge\"><title>p(y3 | x, 3)&#45;&#45;x</title>\n",
       "<path fill=\"none\" stroke=\"black\" d=\"M243.827,-71.878C261.765,-59.9823 291.316,-40.3853 308.962,-28.6831\"/>\n",
       "</g>\n",
       "<!-- y3 -->\n",
       "<g id=\"node7\" class=\"node\"><title>y3</title>\n",
       "<ellipse fill=\"none\" stroke=\"black\" cx=\"228.563\" cy=\"-148.95\" rx=\"18.9007\" ry=\"18.9007\"/>\n",
       "<text text-anchor=\"middle\" x=\"228.563\" y=\"-144.75\" font-family=\"Times,serif\" font-size=\"14.00\">y3</text>\n",
       "</g>\n",
       "<!-- y3&#45;&#45;p(y3 | x, 3) -->\n",
       "<g id=\"edge5\" class=\"edge\"><title>y3&#45;&#45;p(y3 | x, 3)</title>\n",
       "<path fill=\"none\" stroke=\"black\" d=\"M228.563,-129.796C228.563,-118.275 228.563,-103.789 228.563,-94.2304\"/>\n",
       "</g>\n",
       "<!-- p(y4 | x, 4) -->\n",
       "<g id=\"node8\" class=\"node\"><title>p(y4 | x, 4)</title>\n",
       "<polygon fill=\"black\" stroke=\"black\" points=\"362.191,-94 284.936,-94 284.936,-72 362.191,-72 362.191,-94\"/>\n",
       "<text text-anchor=\"middle\" x=\"323.563\" y=\"-78.8\" font-family=\"Times,serif\" font-size=\"14.00\" fill=\"white\">p(y4 | x, 4)</text>\n",
       "</g>\n",
       "<!-- p(y4 | x, 4)&#45;&#45;x -->\n",
       "<g id=\"edge8\" class=\"edge\"><title>p(y4 | x, 4)&#45;&#45;x</title>\n",
       "<path fill=\"none\" stroke=\"black\" d=\"M323.563,-71.878C323.563,-62.278 323.563,-47.6623 323.563,-36.228\"/>\n",
       "</g>\n",
       "<!-- y4 -->\n",
       "<g id=\"node9\" class=\"node\"><title>y4</title>\n",
       "<ellipse fill=\"none\" stroke=\"black\" cx=\"323.563\" cy=\"-148.95\" rx=\"18.9007\" ry=\"18.9007\"/>\n",
       "<text text-anchor=\"middle\" x=\"323.563\" y=\"-144.75\" font-family=\"Times,serif\" font-size=\"14.00\">y4</text>\n",
       "</g>\n",
       "<!-- y4&#45;&#45;p(y4 | x, 4) -->\n",
       "<g id=\"edge7\" class=\"edge\"><title>y4&#45;&#45;p(y4 | x, 4)</title>\n",
       "<path fill=\"none\" stroke=\"black\" d=\"M323.563,-129.796C323.563,-118.275 323.563,-103.789 323.563,-94.2304\"/>\n",
       "</g>\n",
       "<!-- p(y5 | x, 5) -->\n",
       "<g id=\"node10\" class=\"node\"><title>p(y5 | x, 5)</title>\n",
       "<polygon fill=\"black\" stroke=\"black\" points=\"457.191,-94 379.936,-94 379.936,-72 457.191,-72 457.191,-94\"/>\n",
       "<text text-anchor=\"middle\" x=\"418.563\" y=\"-78.8\" font-family=\"Times,serif\" font-size=\"14.00\" fill=\"white\">p(y5 | x, 5)</text>\n",
       "</g>\n",
       "<!-- p(y5 | x, 5)&#45;&#45;x -->\n",
       "<g id=\"edge10\" class=\"edge\"><title>p(y5 | x, 5)&#45;&#45;x</title>\n",
       "<path fill=\"none\" stroke=\"black\" d=\"M403.3,-71.878C385.362,-59.9823 355.811,-40.3853 338.165,-28.6831\"/>\n",
       "</g>\n",
       "<!-- y5 -->\n",
       "<g id=\"node11\" class=\"node\"><title>y5</title>\n",
       "<ellipse fill=\"none\" stroke=\"black\" cx=\"418.563\" cy=\"-148.95\" rx=\"18.9007\" ry=\"18.9007\"/>\n",
       "<text text-anchor=\"middle\" x=\"418.563\" y=\"-144.75\" font-family=\"Times,serif\" font-size=\"14.00\">y5</text>\n",
       "</g>\n",
       "<!-- y5&#45;&#45;p(y5 | x, 5) -->\n",
       "<g id=\"edge9\" class=\"edge\"><title>y5&#45;&#45;p(y5 | x, 5)</title>\n",
       "<path fill=\"none\" stroke=\"black\" d=\"M418.563,-129.796C418.563,-118.275 418.563,-103.789 418.563,-94.2304\"/>\n",
       "</g>\n",
       "<!-- p(y6 | x, 6) -->\n",
       "<g id=\"node12\" class=\"node\"><title>p(y6 | x, 6)</title>\n",
       "<polygon fill=\"black\" stroke=\"black\" points=\"552.191,-94 474.936,-94 474.936,-72 552.191,-72 552.191,-94\"/>\n",
       "<text text-anchor=\"middle\" x=\"513.563\" y=\"-78.8\" font-family=\"Times,serif\" font-size=\"14.00\" fill=\"white\">p(y6 | x, 6)</text>\n",
       "</g>\n",
       "<!-- p(y6 | x, 6)&#45;&#45;x -->\n",
       "<g id=\"edge12\" class=\"edge\"><title>p(y6 | x, 6)&#45;&#45;x</title>\n",
       "<path fill=\"none\" stroke=\"black\" d=\"M483.037,-71.878C442.545,-58.4519 372.467,-35.2153 340.427,-24.5917\"/>\n",
       "</g>\n",
       "<!-- y6 -->\n",
       "<g id=\"node13\" class=\"node\"><title>y6</title>\n",
       "<ellipse fill=\"none\" stroke=\"black\" cx=\"513.563\" cy=\"-148.95\" rx=\"18.9007\" ry=\"18.9007\"/>\n",
       "<text text-anchor=\"middle\" x=\"513.563\" y=\"-144.75\" font-family=\"Times,serif\" font-size=\"14.00\">y6</text>\n",
       "</g>\n",
       "<!-- y6&#45;&#45;p(y6 | x, 6) -->\n",
       "<g id=\"edge11\" class=\"edge\"><title>y6&#45;&#45;p(y6 | x, 6)</title>\n",
       "<path fill=\"none\" stroke=\"black\" d=\"M513.563,-129.796C513.563,-118.275 513.563,-103.789 513.563,-94.2304\"/>\n",
       "</g>\n",
       "<!-- p(y7 | x, 7) -->\n",
       "<g id=\"node14\" class=\"node\"><title>p(y7 | x, 7)</title>\n",
       "<polygon fill=\"black\" stroke=\"black\" points=\"647.191,-94 569.936,-94 569.936,-72 647.191,-72 647.191,-94\"/>\n",
       "<text text-anchor=\"middle\" x=\"608.563\" y=\"-78.8\" font-family=\"Times,serif\" font-size=\"14.00\" fill=\"white\">p(y7 | x, 7)</text>\n",
       "</g>\n",
       "<!-- p(y7 | x, 7)&#45;&#45;x -->\n",
       "<g id=\"edge14\" class=\"edge\"><title>p(y7 | x, 7)&#45;&#45;x</title>\n",
       "<path fill=\"none\" stroke=\"black\" d=\"M569.831,-73.438C507.278,-59.6106 386.461,-32.9038 341.23,-22.9052\"/>\n",
       "</g>\n",
       "<!-- y7 -->\n",
       "<g id=\"node15\" class=\"node\"><title>y7</title>\n",
       "<ellipse fill=\"none\" stroke=\"black\" cx=\"608.563\" cy=\"-148.95\" rx=\"18.9007\" ry=\"18.9007\"/>\n",
       "<text text-anchor=\"middle\" x=\"608.563\" y=\"-144.75\" font-family=\"Times,serif\" font-size=\"14.00\">y7</text>\n",
       "</g>\n",
       "<!-- y7&#45;&#45;p(y7 | x, 7) -->\n",
       "<g id=\"edge13\" class=\"edge\"><title>y7&#45;&#45;p(y7 | x, 7)</title>\n",
       "<path fill=\"none\" stroke=\"black\" d=\"M608.563,-129.796C608.563,-118.275 608.563,-103.789 608.563,-94.2304\"/>\n",
       "</g>\n",
       "</g>\n",
       "</svg>\n"
      ],
      "text/plain": [
       "<graphviz.dot.Graph at 0x106968d68>"
      ]
     },
     "execution_count": 6,
     "metadata": {},
     "output_type": "execute_result"
    }
   ],
   "source": [
    "seq.draw_local_fg(7)"
   ]
  },
  {
   "cell_type": "markdown",
   "metadata": {
    "slideshow": {
     "slide_type": "fragment"
    }
   },
   "source": [
    "**Sequence of classification models** instead of single structured model "
   ]
  },
  {
   "cell_type": "markdown",
   "metadata": {
    "slideshow": {
     "slide_type": "subslide"
    }
   },
   "source": [
    "### Tag Classifier\n",
    "\n",
    "Learn classifier $p_\\params(y\\bar\\x,i)$ to predict class for sentence $\\x$ and position $i$\n",
    "\n",
    "$$\n",
    "  p_\\params(y\\bar\\x,i) = \\frac{1}{Z_\\x} \\exp \\langle \\repr(\\x,i),\\params_y \\rangle\n",
    "$$"
   ]
  },
  {
   "cell_type": "markdown",
   "metadata": {
    "slideshow": {
     "slide_type": "subslide"
    }
   },
   "source": [
    "### What Features?\n",
    "\n",
    "Word at token to tag:\n",
    "$$\n",
    "\\repr_w(\\x,i) = \\begin{cases}1 \\text{ if }x_i=w \\\\\\\\ 0 \\text{ else} \\end{cases}\n",
    "$$"
   ]
  },
  {
   "cell_type": "code",
   "execution_count": 7,
   "metadata": {
    "collapsed": false,
    "slideshow": {
     "slide_type": "subslide"
    }
   },
   "outputs": [],
   "source": [
    "def feat_1(x,i):\n",
    "    return {\n",
    "        'word:' + str(x[i]): 1.0\n",
    "    }\n",
    "local_1 = seq.LocalSequenceLabeler(feat_1, train)"
   ]
  },
  {
   "cell_type": "markdown",
   "metadata": {
    "slideshow": {
     "slide_type": "subslide"
    }
   },
   "source": [
    "We can assess the accuracy of this model on the development set."
   ]
  },
  {
   "cell_type": "code",
   "execution_count": 8,
   "metadata": {
    "collapsed": false
   },
   "outputs": [
    {
     "data": {
      "text/plain": [
       "0.6392286958324694"
      ]
     },
     "execution_count": 8,
     "metadata": {},
     "output_type": "execute_result"
    }
   ],
   "source": [
    "seq.accuracy(dev, local_1.predict(dev))"
   ]
  },
  {
   "cell_type": "markdown",
   "metadata": {
    "slideshow": {
     "slide_type": "subslide"
    }
   },
   "source": [
    "### How to Improve?\n",
    "\n",
    "Look at **confusion matrix**"
   ]
  },
  {
   "cell_type": "code",
   "execution_count": 9,
   "metadata": {
    "collapsed": false,
    "slideshow": {
     "slide_type": "subslide"
    }
   },
   "outputs": [
    {
     "data": {
      "image/png": "[encoded data removed]",
      "text/plain": [
       "<matplotlib.figure.Figure at 0x103453978>"
      ]
     },
     "metadata": {},
     "output_type": "display_data"
    }
   ],
   "source": [
    "seq.plot_confusion_matrix(dev, local_1.predict(dev))"
   ]
  },
  {
   "cell_type": "markdown",
   "metadata": {
    "collapsed": false,
    "slideshow": {
     "slide_type": "subslide"
    }
   },
   "source": [
    "Shows:\n",
    "\n",
    "* strong diagonal (good predictions)\n",
    "* `N` receives a lot of wrong counts \n",
    "* `@` complete failure"
   ]
  },
  {
   "cell_type": "markdown",
   "metadata": {
    "slideshow": {
     "slide_type": "subslide"
    }
   },
   "source": [
    "Let us start with @ ... "
   ]
  },
  {
   "cell_type": "code",
   "execution_count": 10,
   "metadata": {
    "collapsed": false,
    "scrolled": false,
    "slideshow": {
     "slide_type": "-"
    }
   },
   "outputs": [
    {
     "data": {
      "image/png": "[encoded data removed]",
      "text/plain": [
       "<matplotlib.figure.Figure at 0x107c166a0>"
      ]
     },
     "metadata": {},
     "output_type": "display_data"
    }
   ],
   "source": [
    "local_1.plot_lr_weights('@')"
   ]
  },
  {
   "cell_type": "markdown",
   "metadata": {
    "slideshow": {
     "slide_type": "subslide"
    }
   },
   "source": [
    "Features for **specific users** such as \"word=@justinbieber\" do not generalise well\n",
    "\n",
    "How to address this? "
   ]
  },
  {
   "cell_type": "code",
   "execution_count": 11,
   "metadata": {
    "collapsed": false,
    "slideshow": {
     "slide_type": "subslide"
    }
   },
   "outputs": [
    {
     "data": {
      "text/plain": [
       "0.7484967862326353"
      ]
     },
     "execution_count": 11,
     "metadata": {},
     "output_type": "execute_result"
    }
   ],
   "source": [
    "def feat_2(x,i):\n",
    "    return {\n",
    "        **feat_1(x,i),\n",
    "        'first_at:' + str(x[i][0:1] == '@'): 1.0\n",
    "    }\n",
    "local_2 = seq.LocalSequenceLabeler(feat_2, train)\n",
    "seq.accuracy(dev, local_2.predict(dev))"
   ]
  },
  {
   "cell_type": "markdown",
   "metadata": {
    "slideshow": {
     "slide_type": "subslide"
    }
   },
   "source": [
    "To confirm that these results actually from improved '@' prediction, let us look at the confusion matrix again."
   ]
  },
  {
   "cell_type": "code",
   "execution_count": 12,
   "metadata": {
    "collapsed": false
   },
   "outputs": [
    {
     "data": {
      "image/png": "[encoded data removed]",
      "text/plain": [
       "<matplotlib.figure.Figure at 0x108b0d128>"
      ]
     },
     "metadata": {},
     "output_type": "display_data"
    }
   ],
   "source": [
    "seq.plot_confusion_matrix(dev, local_2.predict(dev))"
   ]
  },
  {
   "cell_type": "markdown",
   "metadata": {
    "slideshow": {
     "slide_type": "fragment"
    }
   },
   "source": [
    "Solved! "
   ]
  },
  {
   "cell_type": "code",
   "execution_count": 13,
   "metadata": {
    "collapsed": false,
    "slideshow": {
     "slide_type": "subslide"
    }
   },
   "outputs": [
    {
     "data": {
      "image/png": "[encoded data removed]",
      "text/plain": [
       "<matplotlib.figure.Figure at 0x1042430f0>"
      ]
     },
     "metadata": {},
     "output_type": "display_data"
    }
   ],
   "source": [
    "local_2.plot_lr_weights('@')"
   ]
  },
  {
   "cell_type": "markdown",
   "metadata": {
    "slideshow": {
     "slide_type": "subslide"
    }
   },
   "source": [
    "Other errors?"
   ]
  },
  {
   "cell_type": "code",
   "execution_count": 14,
   "metadata": {
    "collapsed": false
   },
   "outputs": [
    {
     "data": {
      "image/png": "[encoded data removed]",
      "text/plain": [
       "<matplotlib.figure.Figure at 0x107ac6898>"
      ]
     },
     "metadata": {},
     "output_type": "display_data"
    }
   ],
   "source": [
    "seq.plot_confusion_matrix(dev, local_2.predict(dev))"
   ]
  },
  {
   "cell_type": "markdown",
   "metadata": {
    "slideshow": {
     "slide_type": "subslide"
    }
   },
   "source": [
    "Look for errors with high frequency:\n",
    "\n",
    "* distinguishing **proper nouns** (label '^') such as \"McDonals\" or \"smash burger\" \n",
    "* from **common nouns** (label 'N') such as \"wife\" or \"rain\". "
   ]
  },
  {
   "cell_type": "markdown",
   "metadata": {
    "slideshow": {
     "slide_type": "subslide"
    }
   },
   "source": [
    "### Micro View\n",
    "How do these errors look like?"
   ]
  },
  {
   "cell_type": "code",
   "execution_count": 15,
   "metadata": {
    "collapsed": false,
    "slideshow": {
     "slide_type": "subslide"
    }
   },
   "outputs": [
    {
     "data": {
      "text/html": [
       "\n",
       "        <div id=\"7fd7f770-b4c1-11e6-aff5-a0999b02cfbb\" class=\"carousel\" data-ride=\"carousel\" data-interval=\"false\">\n",
       "          <!-- Controls -->\n",
       "          <a href=\"#7fd7f770-b4c1-11e6-aff5-a0999b02cfbb\" role=\"button\" data-slide=\"prev\">Previous</a>\n",
       "          &nbsp\n",
       "          <a  href=\"#7fd7f770-b4c1-11e6-aff5-a0999b02cfbb\" role=\"button\" data-slide=\"next\">Next</a>\n",
       "          <div class=\"carousel-inner\" role=\"listbox\">\n",
       "          <div class=\"item active\"><table style=\"\"><tr><td>players</td><td>and</td><td>his</td><td>wife</td><td>own</td><td><b>smash</b></td><td>burger</td></tr><tr><td>N</td><td>&</td><td>D</td><td>N</td><td>V</td><td><b>^</b></td><td>^</td></tr><tr><td>N</td><td>&</td><td>D</td><td>N</td><td>N</td><td><b>N</b></td><td>N</td></tr></table>\n",
       "        <table>\n",
       "          <tr><td>first_at:False</td><td>word:smash</td></tr>\n",
       "          <tr><td>1.0</td><td>1.0</td></tr>\n",
       "          <tr><td>-2.63</td><td>0.00</td></tr>\n",
       "          <tr><td>-1.53</td><td>0.00</td></tr>\n",
       "        </table> 1 / 7</div>\n",
       "<div class=\"item\"><table style=\"\"><tr><td>and</td><td>his</td><td>wife</td><td>own</td><td>smash</td><td><b>burger</b></td></tr><tr><td>&</td><td>D</td><td>N</td><td>V</td><td>^</td><td><b>^</b></td></tr><tr><td>&</td><td>D</td><td>N</td><td>N</td><td>N</td><td><b>N</b></td></tr></table>\n",
       "        <table>\n",
       "          <tr><td>first_at:False</td><td>word:burger</td></tr>\n",
       "          <tr><td>1.0</td><td>1.0</td></tr>\n",
       "          <tr><td>-2.63</td><td>0.00</td></tr>\n",
       "          <tr><td>-1.53</td><td>0.00</td></tr>\n",
       "        </table> 2 / 7</div>\n",
       "<div class=\"item\"><table style=\"\"><tr><td>RT</td><td>@HollywoodOompa</td><td>:</td><td><b>Sat</b></td><td>November</td><td>6</td><td>ill</td><td>be</td></tr><tr><td>~</td><td>@</td><td>~</td><td><b>^</b></td><td>^</td><td>$</td><td>L</td><td>V</td></tr><tr><td>~</td><td>@</td><td>~</td><td><b>N</b></td><td>^</td><td>$</td><td>N</td><td>V</td></tr></table>\n",
       "        <table>\n",
       "          <tr><td>first_at:False</td><td>word:Sat</td></tr>\n",
       "          <tr><td>1.0</td><td>1.0</td></tr>\n",
       "          <tr><td>-2.63</td><td>0.00</td></tr>\n",
       "          <tr><td>-1.53</td><td>0.00</td></tr>\n",
       "        </table> 3 / 7</div>\n",
       "<div class=\"item\"><table style=\"\"><tr><td>November</td><td>6</td><td>ill</td><td>be</td><td>at</td><td><b>Nashville</b></td><td>center</td><td>stage</td><td>for</td><td>the</td></tr><tr><td>^</td><td>$</td><td>L</td><td>V</td><td>P</td><td><b>^</b></td><td>N</td><td>N</td><td>P</td><td>D</td></tr><tr><td>^</td><td>$</td><td>N</td><td>V</td><td>P</td><td><b>N</b></td><td>N</td><td>N</td><td>P</td><td>D</td></tr></table>\n",
       "        <table>\n",
       "          <tr><td>first_at:False</td><td>word:Nashville</td></tr>\n",
       "          <tr><td>1.0</td><td>1.0</td></tr>\n",
       "          <tr><td>-2.63</td><td>0.00</td></tr>\n",
       "          <tr><td>-1.53</td><td>0.00</td></tr>\n",
       "        </table> 4 / 7</div>\n",
       "<div class=\"item\"><table style=\"\"><tr><td>,</td><td>Rising</td><td>.</td><td>Temperature</td><td>56.3</td><td><b>°F</b></td><td>.</td><td>Rain</td><td>today</td><td>0.00</td></tr><tr><td>,</td><td>V</td><td>,</td><td>N</td><td>$</td><td><b>^</b></td><td>,</td><td>N</td><td>N</td><td>$</td></tr><tr><td>,</td><td>N</td><td>,</td><td>N</td><td>N</td><td><b>N</b></td><td>,</td><td>N</td><td>N</td><td>N</td></tr></table>\n",
       "        <table>\n",
       "          <tr><td>first_at:False</td><td>word:°F</td></tr>\n",
       "          <tr><td>1.0</td><td>1.0</td></tr>\n",
       "          <tr><td>-2.63</td><td>0.00</td></tr>\n",
       "          <tr><td>-1.53</td><td>0.00</td></tr>\n",
       "        </table> 5 / 7</div>\n",
       "<div class=\"item\"><table style=\"\"><tr><td>me</td><td>for</td><td>blowing</td><td>up</td><td>your</td><td><b>youtube</b></td><td>comment</td><td>section</td><td>.</td></tr><tr><td>O</td><td>P</td><td>V</td><td>T</td><td>D</td><td><b>^</b></td><td>N</td><td>N</td><td>,</td></tr><tr><td>O</td><td>P</td><td>N</td><td>T</td><td>D</td><td><b>N</b></td><td>N</td><td>N</td><td>,</td></tr></table>\n",
       "        <table>\n",
       "          <tr><td>first_at:False</td><td>word:youtube</td></tr>\n",
       "          <tr><td>1.0</td><td>1.0</td></tr>\n",
       "          <tr><td>-2.63</td><td>0.00</td></tr>\n",
       "          <tr><td>-1.53</td><td>0.00</td></tr>\n",
       "        </table> 6 / 7</div>\n",
       "<div class=\"item\"><table style=\"\"><tr><td>,</td><td>but</td><td>didn't</td><td>bother</td><td>calling</td><td><b>Shawn</b></td><td>because</td><td>I'd</td><td>just</td><td>be</td></tr><tr><td>,</td><td>&</td><td>V</td><td>V</td><td>V</td><td><b>^</b></td><td>P</td><td>L</td><td>R</td><td>V</td></tr><tr><td>,</td><td>&</td><td>V</td><td>N</td><td>V</td><td><b>N</b></td><td>P</td><td>L</td><td>R</td><td>V</td></tr></table>\n",
       "        <table>\n",
       "          <tr><td>first_at:False</td><td>word:Shawn</td></tr>\n",
       "          <tr><td>1.0</td><td>1.0</td></tr>\n",
       "          <tr><td>-2.63</td><td>0.00</td></tr>\n",
       "          <tr><td>-1.53</td><td>0.00</td></tr>\n",
       "        </table> 7 / 7</div>\n",
       "          </div>\n",
       "        </div>\n",
       "        "
      ],
      "text/plain": [
       "<statnlpbook.util.Carousel at 0x10960ada0>"
      ]
     },
     "execution_count": 15,
     "metadata": {},
     "output_type": "execute_result"
    }
   ],
   "source": [
    "util.Carousel(local_2.errors(dev[:10], \n",
    "                             filter_guess=lambda y: y=='N',\n",
    "                             filter_gold=lambda y: y=='^'))"
   ]
  },
  {
   "cell_type": "markdown",
   "metadata": {
    "collapsed": false,
    "slideshow": {
     "slide_type": "subslide"
    }
   },
   "source": [
    "Proper nouns tend to be capitalised!"
   ]
  },
  {
   "cell_type": "code",
   "execution_count": 16,
   "metadata": {
    "collapsed": false,
    "slideshow": {
     "slide_type": "subslide"
    }
   },
   "outputs": [
    {
     "data": {
      "text/plain": [
       "0.771511507360564"
      ]
     },
     "execution_count": 16,
     "metadata": {},
     "output_type": "execute_result"
    }
   ],
   "source": [
    "def feat_3(x,i):\n",
    "    return {\n",
    "        **feat_2(x,i),\n",
    "        'is_lower:' + str(x[i].islower()): 1.0\n",
    "    }\n",
    "local_3 = seq.LocalSequenceLabeler(feat_3, train, C=10)\n",
    "seq.accuracy(dev, local_3.predict(dev))"
   ]
  },
  {
   "cell_type": "markdown",
   "metadata": {
    "slideshow": {
     "slide_type": "subslide"
    }
   },
   "source": [
    "This improvement indeed comes from being able to identify proper nouns when they are capitalised:"
   ]
  },
  {
   "cell_type": "code",
   "execution_count": 17,
   "metadata": {
    "collapsed": false,
    "scrolled": true
   },
   "outputs": [
    {
     "data": {
      "text/html": [
       "\n",
       "        <div id=\"80533502-b4c1-11e6-9cfd-a0999b02cfbb\" class=\"carousel\" data-ride=\"carousel\" data-interval=\"false\">\n",
       "          <!-- Controls -->\n",
       "          <a href=\"#80533502-b4c1-11e6-9cfd-a0999b02cfbb\" role=\"button\" data-slide=\"prev\">Previous</a>\n",
       "          &nbsp\n",
       "          <a  href=\"#80533502-b4c1-11e6-9cfd-a0999b02cfbb\" role=\"button\" data-slide=\"next\">Next</a>\n",
       "          <div class=\"carousel-inner\" role=\"listbox\">\n",
       "          <div class=\"item active\"><table style=\"\"><tr><td>players</td><td>and</td><td>his</td><td>wife</td><td>own</td><td><b>smash</b></td><td>burger</td></tr><tr><td>N</td><td>&</td><td>D</td><td>N</td><td>V</td><td><b>^</b></td><td>^</td></tr><tr><td>N</td><td>&</td><td>D</td><td>N</td><td>N</td><td><b>N</b></td><td>N</td></tr></table>\n",
       "        <table>\n",
       "          <tr><td>first_at:False</td><td>is_lower:True</td><td>word:smash</td></tr>\n",
       "          <tr><td>1.0</td><td>1.0</td><td>1.0</td></tr>\n",
       "          <tr><td>-0.39</td><td>-3.67</td><td>0.00</td></tr>\n",
       "          <tr><td>0.60</td><td>-1.70</td><td>0.00</td></tr>\n",
       "        </table> 1 / 3</div>\n",
       "<div class=\"item\"><table style=\"\"><tr><td>and</td><td>his</td><td>wife</td><td>own</td><td>smash</td><td><b>burger</b></td></tr><tr><td>&</td><td>D</td><td>N</td><td>V</td><td>^</td><td><b>^</b></td></tr><tr><td>&</td><td>D</td><td>N</td><td>N</td><td>N</td><td><b>N</b></td></tr></table>\n",
       "        <table>\n",
       "          <tr><td>first_at:False</td><td>is_lower:True</td><td>word:burger</td></tr>\n",
       "          <tr><td>1.0</td><td>1.0</td><td>1.0</td></tr>\n",
       "          <tr><td>-0.39</td><td>-3.67</td><td>0.00</td></tr>\n",
       "          <tr><td>0.60</td><td>-1.70</td><td>0.00</td></tr>\n",
       "        </table> 2 / 3</div>\n",
       "<div class=\"item\"><table style=\"\"><tr><td>me</td><td>for</td><td>blowing</td><td>up</td><td>your</td><td><b>youtube</b></td><td>comment</td><td>section</td><td>.</td></tr><tr><td>O</td><td>P</td><td>V</td><td>T</td><td>D</td><td><b>^</b></td><td>N</td><td>N</td><td>,</td></tr><tr><td>O</td><td>P</td><td>N</td><td>T</td><td>D</td><td><b>N</b></td><td>N</td><td>N</td><td>,</td></tr></table>\n",
       "        <table>\n",
       "          <tr><td>first_at:False</td><td>is_lower:True</td><td>word:youtube</td></tr>\n",
       "          <tr><td>1.0</td><td>1.0</td><td>1.0</td></tr>\n",
       "          <tr><td>-0.39</td><td>-3.67</td><td>0.00</td></tr>\n",
       "          <tr><td>0.60</td><td>-1.70</td><td>0.00</td></tr>\n",
       "        </table> 3 / 3</div>\n",
       "          </div>\n",
       "        </div>\n",
       "        "
      ],
      "text/plain": [
       "<statnlpbook.util.Carousel at 0x103160978>"
      ]
     },
     "execution_count": 17,
     "metadata": {},
     "output_type": "execute_result"
    }
   ],
   "source": [
    "util.Carousel(local_3.errors(dev[:10], \n",
    "                             filter_guess=lambda y: y=='N',\n",
    "                             filter_gold=lambda y: y=='^'))"
   ]
  },
  {
   "cell_type": "markdown",
   "metadata": {
    "slideshow": {
     "slide_type": "subslide"
    }
   },
   "source": [
    "Find more problems:"
   ]
  },
  {
   "cell_type": "code",
   "execution_count": 18,
   "metadata": {
    "collapsed": false
   },
   "outputs": [
    {
     "data": {
      "image/png": "[encoded data removed]",
      "text/plain": [
       "<matplotlib.figure.Figure at 0x107ac6c18>"
      ]
     },
     "metadata": {},
     "output_type": "display_data"
    }
   ],
   "source": [
    "seq.plot_confusion_matrix(dev, local_3.predict(dev))"
   ]
  },
  {
   "cell_type": "markdown",
   "metadata": {
    "slideshow": {
     "slide_type": "subslide"
    }
   },
   "source": [
    "High frequency error: \n",
    "\n",
    "* misclassifying verbs ('V') as common nouns ('N')"
   ]
  },
  {
   "cell_type": "markdown",
   "metadata": {
    "collapsed": false,
    "slideshow": {
     "slide_type": "subslide"
    }
   },
   "source": [
    "Inspect examples... "
   ]
  },
  {
   "cell_type": "code",
   "execution_count": 19,
   "metadata": {
    "collapsed": false
   },
   "outputs": [
    {
     "data": {
      "text/html": [
       "\n",
       "        <div id=\"809b40de-b4c1-11e6-8a82-a0999b02cfbb\" class=\"carousel\" data-ride=\"carousel\" data-interval=\"false\">\n",
       "          <!-- Controls -->\n",
       "          <a href=\"#809b40de-b4c1-11e6-8a82-a0999b02cfbb\" role=\"button\" data-slide=\"prev\">Previous</a>\n",
       "          &nbsp\n",
       "          <a  href=\"#809b40de-b4c1-11e6-8a82-a0999b02cfbb\" role=\"button\" data-slide=\"next\">Next</a>\n",
       "          <div class=\"carousel-inner\" role=\"listbox\">\n",
       "          <div class=\"item active\"><table style=\"\"><tr><td>the</td><td>players</td><td>and</td><td>his</td><td>wife</td><td><b>own</b></td><td>smash</td><td>burger</td></tr><tr><td>D</td><td>N</td><td>&</td><td>D</td><td>N</td><td><b>V</b></td><td>^</td><td>^</td></tr><tr><td>D</td><td>N</td><td>&</td><td>D</td><td>N</td><td><b>N</b></td><td>N</td><td>N</td></tr></table>\n",
       "        <table>\n",
       "          <tr><td>first_at:False</td><td>is_lower:True</td><td>word:own</td></tr>\n",
       "          <tr><td>1.0</td><td>1.0</td><td>1.0</td></tr>\n",
       "          <tr><td>0.06</td><td>-1.76</td><td>-0.78</td></tr>\n",
       "          <tr><td>0.60</td><td>-1.70</td><td>2.30</td></tr>\n",
       "        </table> 1 / 9</div>\n",
       "<div class=\"item\"><table style=\"\"><tr><td>RT</td><td>@TheRealQuailman</td><td>:</td><td>Currently</td><td><b>laughing</b></td><td>at</td><td>Laker</td><td>haters</td><td>.</td></tr><tr><td>~</td><td>@</td><td>~</td><td>R</td><td><b>V</b></td><td>P</td><td>^</td><td>N</td><td>,</td></tr><tr><td>~</td><td>@</td><td>~</td><td>^</td><td><b>N</b></td><td>P</td><td>^</td><td>N</td><td>,</td></tr></table>\n",
       "        <table>\n",
       "          <tr><td>first_at:False</td><td>is_lower:True</td><td>word:laughing</td></tr>\n",
       "          <tr><td>1.0</td><td>1.0</td><td>1.0</td></tr>\n",
       "          <tr><td>0.06</td><td>-1.76</td><td>0.00</td></tr>\n",
       "          <tr><td>0.60</td><td>-1.70</td><td>0.00</td></tr>\n",
       "        </table> 2 / 9</div>\n",
       "<div class=\"item\"><table style=\"\"><tr><td>@ShiversTheNinja</td><td><b>forgive</b></td><td>me</td><td>for</td><td>blowing</td><td>up</td></tr><tr><td>@</td><td><b>V</b></td><td>O</td><td>P</td><td>V</td><td>T</td></tr><tr><td>@</td><td><b>N</b></td><td>O</td><td>P</td><td>N</td><td>T</td></tr></table>\n",
       "        <table>\n",
       "          <tr><td>first_at:False</td><td>is_lower:True</td><td>word:forgive</td></tr>\n",
       "          <tr><td>1.0</td><td>1.0</td><td>1.0</td></tr>\n",
       "          <tr><td>0.06</td><td>-1.76</td><td>0.00</td></tr>\n",
       "          <tr><td>0.60</td><td>-1.70</td><td>0.00</td></tr>\n",
       "        </table> 3 / 9</div>\n",
       "<div class=\"item\"><table style=\"\"><tr><td>@ShiversTheNinja</td><td>forgive</td><td>me</td><td>for</td><td><b>blowing</b></td><td>up</td><td>your</td><td>youtube</td><td>comment</td></tr><tr><td>@</td><td>V</td><td>O</td><td>P</td><td><b>V</b></td><td>T</td><td>D</td><td>^</td><td>N</td></tr><tr><td>@</td><td>N</td><td>O</td><td>P</td><td><b>N</b></td><td>T</td><td>D</td><td>N</td><td>N</td></tr></table>\n",
       "        <table>\n",
       "          <tr><td>first_at:False</td><td>is_lower:True</td><td>word:blowing</td></tr>\n",
       "          <tr><td>1.0</td><td>1.0</td><td>1.0</td></tr>\n",
       "          <tr><td>0.06</td><td>-1.76</td><td>0.00</td></tr>\n",
       "          <tr><td>0.60</td><td>-1.70</td><td>0.00</td></tr>\n",
       "        </table> 4 / 9</div>\n",
       "<div class=\"item\"><table style=\"\"><tr><td>Question</td><td>:</td><td>How</td><td>CAN</td><td>you</td><td><b>mend</b></td><td>a</td><td>broken</td><td>heart</td><td>?</td></tr><tr><td>N</td><td>,</td><td>R</td><td>V</td><td>O</td><td><b>V</b></td><td>D</td><td>A</td><td>N</td><td>,</td></tr><tr><td>^</td><td>~</td><td>R</td><td>V</td><td>O</td><td><b>N</b></td><td>D</td><td>V</td><td>V</td><td>,</td></tr></table>\n",
       "        <table>\n",
       "          <tr><td>first_at:False</td><td>is_lower:True</td><td>word:mend</td></tr>\n",
       "          <tr><td>1.0</td><td>1.0</td><td>1.0</td></tr>\n",
       "          <tr><td>0.06</td><td>-1.76</td><td>0.00</td></tr>\n",
       "          <tr><td>0.60</td><td>-1.70</td><td>0.00</td></tr>\n",
       "        </table> 5 / 9</div>\n",
       "<div class=\"item\"><table style=\"\"><tr><td>last</td><td>night</td><td>,</td><td>but</td><td>didn't</td><td><b>bother</b></td><td>calling</td><td>Shawn</td><td>because</td><td>I'd</td></tr><tr><td>A</td><td>N</td><td>,</td><td>&</td><td>V</td><td><b>V</b></td><td>V</td><td>^</td><td>P</td><td>L</td></tr><tr><td>A</td><td>N</td><td>,</td><td>&</td><td>V</td><td><b>N</b></td><td>V</td><td>^</td><td>P</td><td>L</td></tr></table>\n",
       "        <table>\n",
       "          <tr><td>first_at:False</td><td>is_lower:True</td><td>word:bother</td></tr>\n",
       "          <tr><td>1.0</td><td>1.0</td><td>1.0</td></tr>\n",
       "          <tr><td>0.06</td><td>-1.76</td><td>0.00</td></tr>\n",
       "          <tr><td>0.60</td><td>-1.70</td><td>0.00</td></tr>\n",
       "        </table> 6 / 9</div>\n",
       "<div class=\"item\"><table style=\"\"><tr><td>are</td><td>in</td><td>!</td><td>See</td><td>who</td><td><b>passed</b></td><td>and</td><td>who</td><td>made</td><td>the</td></tr><tr><td>V</td><td>P</td><td>,</td><td>V</td><td>O</td><td><b>V</b></td><td>&</td><td>O</td><td>V</td><td>D</td></tr><tr><td>V</td><td>P</td><td>,</td><td>V</td><td>O</td><td><b>N</b></td><td>&</td><td>O</td><td>V</td><td>D</td></tr></table>\n",
       "        <table>\n",
       "          <tr><td>first_at:False</td><td>is_lower:True</td><td>word:passed</td></tr>\n",
       "          <tr><td>1.0</td><td>1.0</td><td>1.0</td></tr>\n",
       "          <tr><td>0.06</td><td>-1.76</td><td>0.00</td></tr>\n",
       "          <tr><td>0.60</td><td>-1.70</td><td>0.00</td></tr>\n",
       "        </table> 7 / 9</div>\n",
       "<div class=\"item\"><table style=\"\"><tr><td>and</td><td>watch</td><td>the</td><td>news</td><td>and</td><td><b>tune</b></td><td>out</td><td>over</td><td>some</td><td>fresh</td></tr><tr><td>&</td><td>V</td><td>D</td><td>N</td><td>&</td><td><b>V</b></td><td>T</td><td>P</td><td>D</td><td>A</td></tr><tr><td>&</td><td>V</td><td>D</td><td>N</td><td>&</td><td><b>N</b></td><td>T</td><td>P</td><td>D</td><td>A</td></tr></table>\n",
       "        <table>\n",
       "          <tr><td>first_at:False</td><td>is_lower:True</td><td>word:tune</td></tr>\n",
       "          <tr><td>1.0</td><td>1.0</td><td>1.0</td></tr>\n",
       "          <tr><td>0.06</td><td>-1.76</td><td>-0.78</td></tr>\n",
       "          <tr><td>0.60</td><td>-1.70</td><td>2.30</td></tr>\n",
       "        </table> 8 / 9</div>\n",
       "<div class=\"item\"><table style=\"\"><tr><td>that</td><td>,</td><td>regretfully</td><td>I</td><td>was</td><td><b>tied</b></td><td>up</td><td>,</td><td>Physed</td><td>at</td></tr><tr><td>P</td><td>,</td><td>R</td><td>O</td><td>V</td><td><b>V</b></td><td>T</td><td>,</td><td>N</td><td>P</td></tr><tr><td>P</td><td>,</td><td>N</td><td>O</td><td>V</td><td><b>N</b></td><td>T</td><td>,</td><td>^</td><td>P</td></tr></table>\n",
       "        <table>\n",
       "          <tr><td>first_at:False</td><td>is_lower:True</td><td>word:tied</td></tr>\n",
       "          <tr><td>1.0</td><td>1.0</td><td>1.0</td></tr>\n",
       "          <tr><td>0.06</td><td>-1.76</td><td>0.00</td></tr>\n",
       "          <tr><td>0.60</td><td>-1.70</td><td>0.00</td></tr>\n",
       "        </table> 9 / 9</div>\n",
       "          </div>\n",
       "        </div>\n",
       "        "
      ],
      "text/plain": [
       "<statnlpbook.util.Carousel at 0x1098d5f60>"
      ]
     },
     "execution_count": 19,
     "metadata": {},
     "output_type": "execute_result"
    }
   ],
   "source": [
    "util.Carousel(local_3.errors(dev[:20], \n",
    "                             filter_guess=lambda y: y=='N',\n",
    "                             filter_gold=lambda y: y=='V'))"
   ]
  },
  {
   "cell_type": "markdown",
   "metadata": {
    "slideshow": {
     "slide_type": "subslide"
    }
   },
   "source": [
    "* \"laughing\", \"blowing\" or \"passed\" are misclassified as common nouns \n",
    "* For $f_{\\text{word},w}$ feature template weights are $0$ \n",
    "\n",
    "Suggests that word has not appeared (or not appeared as a verb) in the training set! "
   ]
  },
  {
   "cell_type": "markdown",
   "metadata": {
    "slideshow": {
     "slide_type": "subslide"
    }
   },
   "source": [
    "However, we can tell that these words may be verbs:\n",
    "\n",
    "* check suffixes such as \"ing\" or \"ed\". \n",
    "\n",
    "Incorporate as features!"
   ]
  },
  {
   "cell_type": "code",
   "execution_count": 20,
   "metadata": {
    "collapsed": false,
    "slideshow": {
     "slide_type": "subslide"
    }
   },
   "outputs": [
    {
     "data": {
      "text/plain": [
       "0.7876840140991085"
      ]
     },
     "execution_count": 20,
     "metadata": {},
     "output_type": "execute_result"
    }
   ],
   "source": [
    "def feat_4(x,i):\n",
    "    return {\n",
    "        **feat_3(x,i),\n",
    "        'last_3' + \"\".join(x[i][-3:]): 1.0,\n",
    "        'last_2' + \"\".join(x[i][-2:]): 1.0,\n",
    "    }\n",
    "local_4 = seq.LocalSequenceLabeler(feat_4, train)\n",
    "seq.accuracy(dev, local_4.predict(dev))"
   ]
  },
  {
   "cell_type": "code",
   "execution_count": 21,
   "metadata": {
    "collapsed": false,
    "slideshow": {
     "slide_type": "subslide"
    }
   },
   "outputs": [
    {
     "data": {
      "text/html": [
       "\n",
       "        <div id=\"815a29ba-b4c1-11e6-bd49-a0999b02cfbb\" class=\"carousel\" data-ride=\"carousel\" data-interval=\"false\">\n",
       "          <!-- Controls -->\n",
       "          <a href=\"#815a29ba-b4c1-11e6-bd49-a0999b02cfbb\" role=\"button\" data-slide=\"prev\">Previous</a>\n",
       "          &nbsp\n",
       "          <a  href=\"#815a29ba-b4c1-11e6-bd49-a0999b02cfbb\" role=\"button\" data-slide=\"next\">Next</a>\n",
       "          <div class=\"carousel-inner\" role=\"listbox\">\n",
       "          <div class=\"item active\"><table style=\"\"><tr><td>the</td><td>players</td><td>and</td><td>his</td><td>wife</td><td><b>own</b></td><td>smash</td><td>burger</td></tr><tr><td>D</td><td>N</td><td>&</td><td>D</td><td>N</td><td><b>V</b></td><td>^</td><td>^</td></tr><tr><td>D</td><td>N</td><td>&</td><td>D</td><td>N</td><td><b>N</b></td><td>V</td><td>N</td></tr></table>\n",
       "        <table>\n",
       "          <tr><td>first_at:False</td><td>is_lower:True</td><td>last_2wn</td><td>last_3own</td><td>word:own</td></tr>\n",
       "          <tr><td>1.0</td><td>1.0</td><td>1.0</td><td>1.0</td><td>1.0</td></tr>\n",
       "          <tr><td>-0.64</td><td>-2.54</td><td>-0.16</td><td>0.07</td><td>-0.28</td></tr>\n",
       "          <tr><td>0.28</td><td>-2.43</td><td>1.01</td><td>-0.45</td><td>2.63</td></tr>\n",
       "        </table> 1 / 4</div>\n",
       "<div class=\"item\"><table style=\"\"><tr><td>Question</td><td>:</td><td>How</td><td>CAN</td><td>you</td><td><b>mend</b></td><td>a</td><td>broken</td><td>heart</td><td>?</td></tr><tr><td>N</td><td>,</td><td>R</td><td>V</td><td>O</td><td><b>V</b></td><td>D</td><td>A</td><td>N</td><td>,</td></tr><tr><td>N</td><td>~</td><td>R</td><td>V</td><td>O</td><td><b>N</b></td><td>D</td><td>V</td><td>V</td><td>,</td></tr></table>\n",
       "        <table>\n",
       "          <tr><td>first_at:False</td><td>is_lower:True</td><td>last_2nd</td><td>last_3end</td><td>word:mend</td></tr>\n",
       "          <tr><td>1.0</td><td>1.0</td><td>1.0</td><td>1.0</td><td>1.0</td></tr>\n",
       "          <tr><td>-0.64</td><td>-2.54</td><td>0.38</td><td>2.05</td><td>0.00</td></tr>\n",
       "          <tr><td>0.28</td><td>-2.43</td><td>1.01</td><td>1.57</td><td>0.00</td></tr>\n",
       "        </table> 2 / 4</div>\n",
       "<div class=\"item\"><table style=\"\"><tr><td>last</td><td>night</td><td>,</td><td>but</td><td>didn't</td><td><b>bother</b></td><td>calling</td><td>Shawn</td><td>because</td><td>I'd</td></tr><tr><td>A</td><td>N</td><td>,</td><td>&</td><td>V</td><td><b>V</b></td><td>V</td><td>^</td><td>P</td><td>L</td></tr><tr><td>A</td><td>N</td><td>,</td><td>&</td><td>V</td><td><b>N</b></td><td>V</td><td>N</td><td>P</td><td>L</td></tr></table>\n",
       "        <table>\n",
       "          <tr><td>first_at:False</td><td>is_lower:True</td><td>last_2er</td><td>last_3her</td><td>word:bother</td></tr>\n",
       "          <tr><td>1.0</td><td>1.0</td><td>1.0</td><td>1.0</td><td>1.0</td></tr>\n",
       "          <tr><td>-0.64</td><td>-2.54</td><td>-0.49</td><td>-1.53</td><td>0.00</td></tr>\n",
       "          <tr><td>0.28</td><td>-2.43</td><td>2.07</td><td>-1.21</td><td>0.00</td></tr>\n",
       "        </table> 3 / 4</div>\n",
       "<div class=\"item\"><table style=\"\"><tr><td>and</td><td>watch</td><td>the</td><td>news</td><td>and</td><td><b>tune</b></td><td>out</td><td>over</td><td>some</td><td>fresh</td></tr><tr><td>&</td><td>V</td><td>D</td><td>N</td><td>&</td><td><b>V</b></td><td>T</td><td>P</td><td>D</td><td>A</td></tr><tr><td>&</td><td>V</td><td>D</td><td>N</td><td>&</td><td><b>N</b></td><td>T</td><td>P</td><td>D</td><td>A</td></tr></table>\n",
       "        <table>\n",
       "          <tr><td>first_at:False</td><td>is_lower:True</td><td>last_2ne</td><td>last_3une</td><td>word:tune</td></tr>\n",
       "          <tr><td>1.0</td><td>1.0</td><td>1.0</td><td>1.0</td><td>1.0</td></tr>\n",
       "          <tr><td>-0.64</td><td>-2.54</td><td>0.16</td><td>-0.27</td><td>-0.27</td></tr>\n",
       "          <tr><td>0.28</td><td>-2.43</td><td>0.94</td><td>1.48</td><td>1.48</td></tr>\n",
       "        </table> 4 / 4</div>\n",
       "          </div>\n",
       "        </div>\n",
       "        "
      ],
      "text/plain": [
       "<statnlpbook.util.Carousel at 0x10336c588>"
      ]
     },
     "execution_count": 21,
     "metadata": {},
     "output_type": "execute_result"
    }
   ],
   "source": [
    "util.Carousel(local_4.errors(dev[:20], \n",
    "                             filter_guess=lambda y: y=='N',\n",
    "                             filter_gold=lambda y: y=='V' ))"
   ]
  },
  {
   "cell_type": "markdown",
   "metadata": {
    "slideshow": {
     "slide_type": "slide"
    }
   },
   "source": [
    "## Markov Models\n",
    "We have **dependencies** between consecutive labels"
   ]
  },
  {
   "cell_type": "markdown",
   "metadata": {
    "slideshow": {
     "slide_type": "subslide"
    }
   },
   "source": [
    "### Example\n",
    "\n",
    "after non-possessive pronoun (\"O\") such as \"I\" a verb (\"V\") is more likely than a noun (\"N\")\n",
    "\n",
    "*local* model cannot capture this"
   ]
  },
  {
   "cell_type": "markdown",
   "metadata": {
    "slideshow": {
     "slide_type": "subslide"
    }
   },
   "source": [
    "## Maximum Entropy Markov Model\n",
    "$$\n",
    "p_\\params(\\y|\\x) = \\prod_{i=1}^n p_\\params(y_i|\\x,y_{i-1},i)\n",
    "$$\n",
    "\n",
    "a product of local logistic regression (aka Maximum Entropy) classifiers $\\prob_\\params(y_i|\\x,y_{i-1},i)$\n",
    "\n",
    "* but classifiers can use the previous label as observed feature \n",
    "* makes a **first-order Markov assumption**\n",
    "\n"
   ]
  },
  {
   "cell_type": "markdown",
   "metadata": {
    "slideshow": {
     "slide_type": "subslide"
    }
   },
   "source": [
    "### Example\n",
    "\n",
    "$$\n",
    "\\prob_\\params(\\text{D A N} \\bar \\text{a single game}) = \\\\\\\\ \\prob_\\params(\\text{D}\\bar \\text{a single game},\\text{PAD},1) \\prob_\\params(\\text{A} \\bar \\text{a single game},\\text{D},2) \\ldots\n",
    "$$"
   ]
  },
  {
   "cell_type": "markdown",
   "metadata": {
    "slideshow": {
     "slide_type": "subslide"
    }
   },
   "source": [
    "Log-linear version with access to previous label: \n",
    "\n",
    "$$\n",
    "  p_\\params(y_i|\\x,y_{i-1},i) = \\frac{1}{Z_{\\x,y_{i-1},i}} \\exp \\langle \\repr(\\x,y_{i-1},i),\\params_{y_i} \\rangle\n",
    "$$\n",
    "\n",
    "where $Z_{\\x,y_{i-1},i}=\\sum_y \\exp \\langle \\repr(\\x,y_{i-1},i),\\params_{y_i} \\rangle $ is a *local* per-token normalisation factor."
   ]
  },
  {
   "cell_type": "markdown",
   "metadata": {
    "slideshow": {
     "slide_type": "subslide"
    }
   },
   "source": [
    "### Factor Graph View"
   ]
  },
  {
   "cell_type": "code",
   "execution_count": 22,
   "metadata": {
    "collapsed": false
   },
   "outputs": [
    {
     "data": {
      "image/svg+xml": [
       "<?xml version=\"1.0\" encoding=\"UTF-8\" standalone=\"no\"?>\n",
       "<!DOCTYPE svg PUBLIC \"-//W3C//DTD SVG 1.1//EN\"\n",
       " \"http://www.w3.org/Graphics/SVG/1.1/DTD/svg11.dtd\">\n",
       "<!-- Generated by graphviz version 2.38.0 (20140413.2041)\n",
       " -->\n",
       "<!-- Title: %3 Pages: 1 -->\n",
       "<svg width=\"644pt\" height=\"141pt\"\n",
       " viewBox=\"0.00 0.00 644.40 140.81\" xmlns=\"http://www.w3.org/2000/svg\" xmlns:xlink=\"http://www.w3.org/1999/xlink\">\n",
       "<g id=\"graph0\" class=\"graph\" transform=\"scale(1 1) rotate(0) translate(4 136.811)\">\n",
       "<title>%3</title>\n",
       "<polygon fill=\"white\" stroke=\"none\" points=\"-4,4 -4,-136.811 640.395,-136.811 640.395,4 -4,4\"/>\n",
       "<!-- x -->\n",
       "<g id=\"node1\" class=\"node\"><title>x</title>\n",
       "<ellipse fill=\"lightgrey\" stroke=\"black\" cx=\"317.445\" cy=\"-18\" rx=\"18\" ry=\"18\"/>\n",
       "<text text-anchor=\"middle\" x=\"317.445\" y=\"-13.8\" font-family=\"Times,serif\" font-size=\"14.00\">x</text>\n",
       "</g>\n",
       "<!-- y0 -->\n",
       "<g id=\"node2\" class=\"node\"><title>y0</title>\n",
       "<ellipse fill=\"lightgrey\" stroke=\"black\" cx=\"62.4448\" cy=\"-90.9503\" rx=\"18\" ry=\"18\"/>\n",
       "<text text-anchor=\"middle\" x=\"62.4448\" y=\"-86.7503\" font-family=\"Times,serif\" font-size=\"14.00\">P</text>\n",
       "</g>\n",
       "<!-- t1 -->\n",
       "<g id=\"node9\" class=\"node\"><title>t1</title>\n",
       "<polygon fill=\"black\" stroke=\"black\" points=\"26.8347,-101.95 0.0549503,-101.95 0.0549503,-79.9503 26.8347,-79.9503 26.8347,-101.95\"/>\n",
       "<text text-anchor=\"middle\" x=\"13.4448\" y=\"-86.7503\" font-family=\"Times,serif\" font-size=\"14.00\" fill=\"white\">t1</text>\n",
       "</g>\n",
       "<!-- y0&#45;&#45;t1 -->\n",
       "<g id=\"edge2\" class=\"edge\"><title>y0&#45;&#45;t1</title>\n",
       "<path fill=\"none\" stroke=\"black\" d=\"M44.3659,-90.9503C38.525,-90.9503 32.6841,-90.9503 26.8433,-90.9503\"/>\n",
       "</g>\n",
       "<!-- y1 -->\n",
       "<g id=\"node3\" class=\"node\"><title>y1</title>\n",
       "<ellipse fill=\"none\" stroke=\"black\" cx=\"117.445\" cy=\"-90.9503\" rx=\"18.9007\" ry=\"18.9007\"/>\n",
       "<text text-anchor=\"middle\" x=\"117.445\" y=\"-86.7503\" font-family=\"Times,serif\" font-size=\"14.00\">y1</text>\n",
       "</g>\n",
       "<!-- y1&#45;&#45;t1 -->\n",
       "<g id=\"edge1\" class=\"edge\"><title>y1&#45;&#45;t1</title>\n",
       "<path fill=\"none\" stroke=\"black\" d=\"M106.374,-106.858C99.8524,-114.792 90.8464,-123.596 80.4448,-127.901 65.6607,-134.019 58.9455,-134.663 44.4448,-127.901 33.0614,-122.592 24.375,-110.818 19.1331,-101.979\"/>\n",
       "</g>\n",
       "<!-- t2 -->\n",
       "<g id=\"node10\" class=\"node\"><title>t2</title>\n",
       "<polygon fill=\"black\" stroke=\"black\" points=\"180.835,-101.95 154.055,-101.95 154.055,-79.9503 180.835,-79.9503 180.835,-101.95\"/>\n",
       "<text text-anchor=\"middle\" x=\"167.445\" y=\"-86.7503\" font-family=\"Times,serif\" font-size=\"14.00\" fill=\"white\">t2</text>\n",
       "</g>\n",
       "<!-- y1&#45;&#45;t2 -->\n",
       "<g id=\"edge5\" class=\"edge\"><title>y1&#45;&#45;t2</title>\n",
       "<path fill=\"none\" stroke=\"black\" d=\"M136.585,-90.9503C142.372,-90.9503 148.158,-90.9503 153.944,-90.9503\"/>\n",
       "</g>\n",
       "<!-- y2 -->\n",
       "<g id=\"node4\" class=\"node\"><title>y2</title>\n",
       "<ellipse fill=\"none\" stroke=\"black\" cx=\"217.445\" cy=\"-90.9503\" rx=\"18.9007\" ry=\"18.9007\"/>\n",
       "<text text-anchor=\"middle\" x=\"217.445\" y=\"-86.7503\" font-family=\"Times,serif\" font-size=\"14.00\">y2</text>\n",
       "</g>\n",
       "<!-- y2&#45;&#45;t2 -->\n",
       "<g id=\"edge4\" class=\"edge\"><title>y2&#45;&#45;t2</title>\n",
       "<path fill=\"none\" stroke=\"black\" d=\"M198.429,-90.9503C192.658,-90.9503 186.888,-90.9503 181.117,-90.9503\"/>\n",
       "</g>\n",
       "<!-- t3 -->\n",
       "<g id=\"node11\" class=\"node\"><title>t3</title>\n",
       "<polygon fill=\"black\" stroke=\"black\" points=\"280.835,-101.95 254.055,-101.95 254.055,-79.9503 280.835,-79.9503 280.835,-101.95\"/>\n",
       "<text text-anchor=\"middle\" x=\"267.445\" y=\"-86.7503\" font-family=\"Times,serif\" font-size=\"14.00\" fill=\"white\">t3</text>\n",
       "</g>\n",
       "<!-- y2&#45;&#45;t3 -->\n",
       "<g id=\"edge8\" class=\"edge\"><title>y2&#45;&#45;t3</title>\n",
       "<path fill=\"none\" stroke=\"black\" d=\"M236.585,-90.9503C242.372,-90.9503 248.158,-90.9503 253.944,-90.9503\"/>\n",
       "</g>\n",
       "<!-- y3 -->\n",
       "<g id=\"node5\" class=\"node\"><title>y3</title>\n",
       "<ellipse fill=\"none\" stroke=\"black\" cx=\"317.445\" cy=\"-90.9503\" rx=\"18.9007\" ry=\"18.9007\"/>\n",
       "<text text-anchor=\"middle\" x=\"317.445\" y=\"-86.7503\" font-family=\"Times,serif\" font-size=\"14.00\">y3</text>\n",
       "</g>\n",
       "<!-- y3&#45;&#45;t3 -->\n",
       "<g id=\"edge7\" class=\"edge\"><title>y3&#45;&#45;t3</title>\n",
       "<path fill=\"none\" stroke=\"black\" d=\"M298.429,-90.9503C292.658,-90.9503 286.888,-90.9503 281.117,-90.9503\"/>\n",
       "</g>\n",
       "<!-- t4 -->\n",
       "<g id=\"node12\" class=\"node\"><title>t4</title>\n",
       "<polygon fill=\"black\" stroke=\"black\" points=\"380.835,-101.95 354.055,-101.95 354.055,-79.9503 380.835,-79.9503 380.835,-101.95\"/>\n",
       "<text text-anchor=\"middle\" x=\"367.445\" y=\"-86.7503\" font-family=\"Times,serif\" font-size=\"14.00\" fill=\"white\">t4</text>\n",
       "</g>\n",
       "<!-- y3&#45;&#45;t4 -->\n",
       "<g id=\"edge11\" class=\"edge\"><title>y3&#45;&#45;t4</title>\n",
       "<path fill=\"none\" stroke=\"black\" d=\"M336.585,-90.9503C342.372,-90.9503 348.158,-90.9503 353.944,-90.9503\"/>\n",
       "</g>\n",
       "<!-- y4 -->\n",
       "<g id=\"node6\" class=\"node\"><title>y4</title>\n",
       "<ellipse fill=\"none\" stroke=\"black\" cx=\"417.445\" cy=\"-90.9503\" rx=\"18.9007\" ry=\"18.9007\"/>\n",
       "<text text-anchor=\"middle\" x=\"417.445\" y=\"-86.7503\" font-family=\"Times,serif\" font-size=\"14.00\">y4</text>\n",
       "</g>\n",
       "<!-- y4&#45;&#45;t4 -->\n",
       "<g id=\"edge10\" class=\"edge\"><title>y4&#45;&#45;t4</title>\n",
       "<path fill=\"none\" stroke=\"black\" d=\"M398.429,-90.9503C392.658,-90.9503 386.888,-90.9503 381.117,-90.9503\"/>\n",
       "</g>\n",
       "<!-- t5 -->\n",
       "<g id=\"node13\" class=\"node\"><title>t5</title>\n",
       "<polygon fill=\"black\" stroke=\"black\" points=\"480.835,-101.95 454.055,-101.95 454.055,-79.9503 480.835,-79.9503 480.835,-101.95\"/>\n",
       "<text text-anchor=\"middle\" x=\"467.445\" y=\"-86.7503\" font-family=\"Times,serif\" font-size=\"14.00\" fill=\"white\">t5</text>\n",
       "</g>\n",
       "<!-- y4&#45;&#45;t5 -->\n",
       "<g id=\"edge14\" class=\"edge\"><title>y4&#45;&#45;t5</title>\n",
       "<path fill=\"none\" stroke=\"black\" d=\"M436.585,-90.9503C442.372,-90.9503 448.158,-90.9503 453.944,-90.9503\"/>\n",
       "</g>\n",
       "<!-- y5 -->\n",
       "<g id=\"node7\" class=\"node\"><title>y5</title>\n",
       "<ellipse fill=\"none\" stroke=\"black\" cx=\"517.445\" cy=\"-90.9503\" rx=\"18.9007\" ry=\"18.9007\"/>\n",
       "<text text-anchor=\"middle\" x=\"517.445\" y=\"-86.7503\" font-family=\"Times,serif\" font-size=\"14.00\">y5</text>\n",
       "</g>\n",
       "<!-- y5&#45;&#45;t5 -->\n",
       "<g id=\"edge13\" class=\"edge\"><title>y5&#45;&#45;t5</title>\n",
       "<path fill=\"none\" stroke=\"black\" d=\"M498.429,-90.9503C492.658,-90.9503 486.888,-90.9503 481.117,-90.9503\"/>\n",
       "</g>\n",
       "<!-- t6 -->\n",
       "<g id=\"node14\" class=\"node\"><title>t6</title>\n",
       "<polygon fill=\"black\" stroke=\"black\" points=\"580.835,-101.95 554.055,-101.95 554.055,-79.9503 580.835,-79.9503 580.835,-101.95\"/>\n",
       "<text text-anchor=\"middle\" x=\"567.445\" y=\"-86.7503\" font-family=\"Times,serif\" font-size=\"14.00\" fill=\"white\">t6</text>\n",
       "</g>\n",
       "<!-- y5&#45;&#45;t6 -->\n",
       "<g id=\"edge17\" class=\"edge\"><title>y5&#45;&#45;t6</title>\n",
       "<path fill=\"none\" stroke=\"black\" d=\"M536.585,-90.9503C542.372,-90.9503 548.158,-90.9503 553.944,-90.9503\"/>\n",
       "</g>\n",
       "<!-- y6 -->\n",
       "<g id=\"node8\" class=\"node\"><title>y6</title>\n",
       "<ellipse fill=\"none\" stroke=\"black\" cx=\"617.445\" cy=\"-90.9503\" rx=\"18.9007\" ry=\"18.9007\"/>\n",
       "<text text-anchor=\"middle\" x=\"617.445\" y=\"-86.7503\" font-family=\"Times,serif\" font-size=\"14.00\">y6</text>\n",
       "</g>\n",
       "<!-- y6&#45;&#45;t6 -->\n",
       "<g id=\"edge16\" class=\"edge\"><title>y6&#45;&#45;t6</title>\n",
       "<path fill=\"none\" stroke=\"black\" d=\"M598.429,-90.9503C592.658,-90.9503 586.888,-90.9503 581.117,-90.9503\"/>\n",
       "</g>\n",
       "<!-- t1&#45;&#45;x -->\n",
       "<g id=\"edge3\" class=\"edge\"><title>t1&#45;&#45;x</title>\n",
       "<path fill=\"none\" stroke=\"black\" d=\"M23.8996,-79.642C27.3342,-76.7673 31.3322,-73.9115 35.4448,-72 128.053,-28.9579 253.176,-20.8641 299.354,-19.3475\"/>\n",
       "</g>\n",
       "<!-- t2&#45;&#45;x -->\n",
       "<g id=\"edge6\" class=\"edge\"><title>t2&#45;&#45;x</title>\n",
       "<path fill=\"none\" stroke=\"black\" d=\"M178.622,-79.7792C181.957,-77.0409 185.721,-74.2246 189.445,-72 226.818,-49.6747 275.33,-32.4244 300.547,-24.2331\"/>\n",
       "</g>\n",
       "<!-- t3&#45;&#45;x -->\n",
       "<g id=\"edge9\" class=\"edge\"><title>t3&#45;&#45;x</title>\n",
       "<path fill=\"none\" stroke=\"black\" d=\"M274.609,-79.7848C283.25,-67.5233 297.822,-46.8446 307.537,-33.0599\"/>\n",
       "</g>\n",
       "<!-- t4&#45;&#45;x -->\n",
       "<g id=\"edge12\" class=\"edge\"><title>t4&#45;&#45;x</title>\n",
       "<path fill=\"none\" stroke=\"black\" d=\"M360.281,-79.7848C351.64,-67.5233 337.067,-46.8446 327.353,-33.0599\"/>\n",
       "</g>\n",
       "<!-- t5&#45;&#45;x -->\n",
       "<g id=\"edge15\" class=\"edge\"><title>t5&#45;&#45;x</title>\n",
       "<path fill=\"none\" stroke=\"black\" d=\"M456.268,-79.7792C452.932,-77.0409 449.169,-74.2246 445.445,-72 408.071,-49.6747 359.56,-32.4244 334.343,-24.2331\"/>\n",
       "</g>\n",
       "<!-- t6&#45;&#45;x -->\n",
       "<g id=\"edge18\" class=\"edge\"><title>t6&#45;&#45;x</title>\n",
       "<path fill=\"none\" stroke=\"black\" d=\"M556.939,-79.7494C553.502,-76.8791 549.516,-73.9987 545.445,-72 472.851,-36.3595 375.346,-24.1029 335.524,-20.4118\"/>\n",
       "</g>\n",
       "</g>\n",
       "</svg>\n"
      ],
      "text/plain": [
       "<graphviz.dot.Graph at 0x10a5d26d8>"
      ]
     },
     "execution_count": 22,
     "metadata": {},
     "output_type": "execute_result"
    }
   ],
   "source": [
    "seq.draw_transition_fg(7)"
   ]
  },
  {
   "cell_type": "markdown",
   "metadata": {
    "slideshow": {
     "slide_type": "subslide"
    }
   },
   "source": [
    "### Training MEMMs\n",
    "Optimising the conditional likelihood \n",
    "\n",
    "$$\n",
    "\\sum_{(\\x,\\y) \\in \\train} \\log \\prob_\\params(\\y|\\x)\n",
    "$$"
   ]
  },
  {
   "cell_type": "markdown",
   "metadata": {
    "slideshow": {
     "slide_type": "subslide"
    }
   },
   "source": [
    "Decomposes nicely: \n",
    "$$\n",
    "\\sum_{(\\x,\\y) \\in \\train} \\sum_{i=1}^{|\\x|} \\log \\prob_\\params(y_i|\\x,y_{i-1},i)   \n",
    "$$"
   ]
  },
  {
   "cell_type": "markdown",
   "metadata": {
    "slideshow": {
     "slide_type": "fragment"
    }
   },
   "source": [
    "Easy to train\n",
    "* Equivalent to a **logistic regression objective** for a classifier that assigns labels based on previous gold labels"
   ]
  },
  {
   "cell_type": "markdown",
   "metadata": {
    "slideshow": {
     "slide_type": "slide"
    }
   },
   "source": [
    "## Prediction in MEMMs\n",
    "To predict the best label sequence find a $\\y^*$ with maximal conditional probability\n",
    "\n",
    "$$\n",
    "\\y^* =\\argmax_\\y \\prob_\\params(\\y|\\x).\n",
    "$$"
   ]
  },
  {
   "cell_type": "markdown",
   "metadata": {
    "slideshow": {
     "slide_type": "subslide"
    }
   },
   "source": [
    "### Greedy Prediction\n",
    "We cannot simply choose each label in isolation because **decisions depend on each other**"
   ]
  },
  {
   "cell_type": "markdown",
   "metadata": {
    "collapsed": false,
    "slideshow": {
     "slide_type": "subslide"
    }
   },
   "source": [
    "Simple alternative:\n",
    "* Choose highest scoring label for token 1\n",
    "* Choose highest scoring label for token 2, conditioned on best label from 1\n",
    "* etc."
   ]
  },
  {
   "cell_type": "code",
   "execution_count": 23,
   "metadata": {
    "collapsed": true,
    "slideshow": {
     "slide_type": "subslide"
    }
   },
   "outputs": [],
   "source": [
    "def memm_greedy_predict(memm: seq.MEMMSequenceLabeler, data):\n",
    "    result = []\n",
    "    for x, y in data:\n",
    "        y_guess = []\n",
    "        for i in range(0, len(x)):\n",
    "            prediction = memm.predict_next(x, i, y_guess)\n",
    "            y_guess.append(prediction)\n",
    "        result.append(y_guess)\n",
    "    return result"
   ]
  },
  {
   "cell_type": "code",
   "execution_count": 24,
   "metadata": {
    "collapsed": true,
    "slideshow": {
     "slide_type": "skip"
    }
   },
   "outputs": [],
   "source": [
    "def memm_greedy_predict(memm: seq.MEMMSequenceLabeler, data, use_gold_history=False):\n",
    "    result = []\n",
    "    for x, y in data:\n",
    "        y_guess = []\n",
    "        for i in range(0, len(x)):\n",
    "            prediction = memm.predict_next(x, i, y_guess if not use_gold_history else y)\n",
    "            y_guess.append(prediction)\n",
    "        result.append(y_guess)\n",
    "    return result"
   ]
  },
  {
   "cell_type": "markdown",
   "metadata": {
    "slideshow": {
     "slide_type": "subslide"
    }
   },
   "source": [
    "Let's specify a MEMM using \n",
    "### Feature Functions"
   ]
  },
  {
   "cell_type": "code",
   "execution_count": 25,
   "metadata": {
    "collapsed": false,
    "slideshow": {
     "slide_type": "subslide"
    }
   },
   "outputs": [
    {
     "data": {
      "text/plain": [
       "0.809454696247149"
      ]
     },
     "execution_count": 25,
     "metadata": {},
     "output_type": "execute_result"
    }
   ],
   "source": [
    "def memm_feat_1(x,i,hist):\n",
    "    return {\n",
    "        **feat_4(x,i),\n",
    "        'prev_y': hist[0],\n",
    "    }\n",
    "\n",
    "memm_1 = seq.MEMMSequenceLabeler(memm_feat_1, train, order=1, C=10)\n",
    "seq.accuracy(dev,memm_greedy_predict(memm_1, dev))"
   ]
  },
  {
   "cell_type": "markdown",
   "metadata": {
    "slideshow": {
     "slide_type": "subslide"
    }
   },
   "source": [
    "Some Noun vs Verb errors fixed:"
   ]
  },
  {
   "cell_type": "code",
   "execution_count": 26,
   "metadata": {
    "collapsed": false
   },
   "outputs": [
    {
     "data": {
      "text/html": [
       "\n",
       "        <div id=\"82d3c440-b4c1-11e6-af0a-a0999b02cfbb\" class=\"carousel\" data-ride=\"carousel\" data-interval=\"false\">\n",
       "          <!-- Controls -->\n",
       "          <a href=\"#82d3c440-b4c1-11e6-af0a-a0999b02cfbb\" role=\"button\" data-slide=\"prev\">Previous</a>\n",
       "          &nbsp\n",
       "          <a  href=\"#82d3c440-b4c1-11e6-af0a-a0999b02cfbb\" role=\"button\" data-slide=\"next\">Next</a>\n",
       "          <div class=\"carousel-inner\" role=\"listbox\">\n",
       "          <div class=\"item active\"><table style=\"\"><tr><td>the</td><td>players</td><td>and</td><td>his</td><td>wife</td><td><b>own</b></td><td>smash</td><td>burger</td></tr><tr><td>D</td><td>N</td><td>&</td><td>D</td><td>N</td><td><b>V</b></td><td>^</td><td>^</td></tr><tr><td>D</td><td>N</td><td>&</td><td>D</td><td>N</td><td><b>N</b></td><td>V</td><td>N</td></tr></table>\n",
       "        <table>\n",
       "          <tr><td>first_at:False</td><td>is_lower:True</td><td>last_2wn</td><td>last_3own</td><td>prev_y</td><td>word:own</td></tr>\n",
       "          <tr><td>1.0</td><td>1.0</td><td>1.0</td><td>1.0</td><td>N</td><td>1.0</td></tr>\n",
       "          <tr><td>-0.79</td><td>-2.64</td><td>-0.17</td><td>-0.02</td><td>0.00</td><td>-0.01</td></tr>\n",
       "          <tr><td>0.01</td><td>-2.52</td><td>1.10</td><td>-0.53</td><td>0.00</td><td>1.41</td></tr>\n",
       "        </table> 1 / 2</div>\n",
       "<div class=\"item\"><table style=\"\"><tr><td>and</td><td>watch</td><td>the</td><td>news</td><td>and</td><td><b>tune</b></td><td>out</td><td>over</td><td>some</td><td>fresh</td></tr><tr><td>&</td><td>V</td><td>D</td><td>N</td><td>&</td><td><b>V</b></td><td>T</td><td>P</td><td>D</td><td>A</td></tr><tr><td>&</td><td>V</td><td>D</td><td>N</td><td>&</td><td><b>N</b></td><td>P</td><td>P</td><td>D</td><td>A</td></tr></table>\n",
       "        <table>\n",
       "          <tr><td>first_at:False</td><td>is_lower:True</td><td>last_2ne</td><td>last_3une</td><td>prev_y</td><td>word:tune</td></tr>\n",
       "          <tr><td>1.0</td><td>1.0</td><td>1.0</td><td>1.0</td><td>&</td><td>1.0</td></tr>\n",
       "          <tr><td>-0.79</td><td>-2.64</td><td>-0.06</td><td>-0.01</td><td>0.00</td><td>-0.01</td></tr>\n",
       "          <tr><td>0.01</td><td>-2.52</td><td>0.59</td><td>0.78</td><td>0.00</td><td>0.78</td></tr>\n",
       "        </table> 2 / 2</div>\n",
       "          </div>\n",
       "        </div>\n",
       "        "
      ],
      "text/plain": [
       "<statnlpbook.util.Carousel at 0x108633160>"
      ]
     },
     "execution_count": 26,
     "metadata": {},
     "output_type": "execute_result"
    }
   ],
   "source": [
    "util.Carousel(seq.errors(dev[:20], memm_greedy_predict(memm_1, dev[:20]), \n",
    "                         'V', 'N',model=memm_1))"
   ]
  },
  {
   "cell_type": "markdown",
   "metadata": {},
   "source": [
    "For the case of verbs ('V') we observe a high weight for $f_{\\text{prev_y},\\text{O}}$\n",
    "\n",
    "* indicating that pronouns are often followed by verbs, as we expected earlier  "
   ]
  },
  {
   "cell_type": "code",
   "execution_count": 27,
   "metadata": {
    "collapsed": false
   },
   "outputs": [
    {
     "data": {
      "image/png": "[encoded data removed]",
      "text/plain": [
       "<matplotlib.figure.Figure at 0x108633048>"
      ]
     },
     "metadata": {},
     "output_type": "display_data"
    }
   ],
   "source": [
    "memm_1.plot_lr_weights('V',feat_filter=lambda s: s.startswith(\"prev_\"))"
   ]
  },
  {
   "cell_type": "markdown",
   "metadata": {},
   "source": [
    "### Beam Search\n",
    "Greedy search approach is an **approximate solution** to $\\argmax$ problem \n",
    "\n",
    "One way to improve over greedy search is to maintain a **beam** of $k$-best solutions in each step \n",
    "\n",
    "This enables initially weaker solutions to remain in the beam and move up the ranks in later steps in case they are more consistent with future observations"
   ]
  },
  {
   "cell_type": "markdown",
   "metadata": {},
   "source": [
    "Technically a $k$-best beam search proceeds as follows. Let $L$ be the label set.\n",
    "\n",
    "1. Initialise a beam $B \\leftarrow \\left[(\\text{PAD}, 0) \\right]$ of partial solutions $(\\y,s)$ where $s$ is the partial log-score of $\\y$. \n",
    "1. **for** $i$ in $1 \\ldots |\\x|$:\n",
    "    1. Let $C\\leftarrow \\{\\}$ be the next beam candidates.\n",
    "    1. **for** $\\y, s$ in $B$ and $y$ in $L$: \n",
    "        1. $C \\leftarrow C \\cup \\{ (\\y \\| y, s + \\log \\prob_\\params(y|\\x,y_{i-1},i)) \\} $\n",
    "    1. Let $B\\leftarrow k\\text{-highest-scoring}(C)$ be the $k$ pairs $(\\y, s)$ with highest scores.\n",
    "1. **Return** $\\y$ with highest score in $B$. \n",
    "\n",
    "Note that a slightly faster version can use a priority queue. \n",
    "\n",
    "In Python we can implement this algorithm like so:"
   ]
  },
  {
   "cell_type": "code",
   "execution_count": 28,
   "metadata": {
    "collapsed": false
   },
   "outputs": [
    {
     "data": {
      "text/plain": [
       "0.8129794733568318"
      ]
     },
     "execution_count": 28,
     "metadata": {},
     "output_type": "execute_result"
    }
   ],
   "source": [
    "def memm_beam_search(memm, x, width=2):\n",
    "    beam = [([],0.)]\n",
    "    history = [beam]\n",
    "    for i in range(0, len(x)):\n",
    "        # use priority queue \n",
    "        candidates = []\n",
    "        for (prev,score) in beam:\n",
    "            scores = memm.predict_scores(x, i, prev)\n",
    "            for label_index,label_score in enumerate(scores):\n",
    "                candidates.append((prev + [memm.labels()[label_index]], score + label_score))\n",
    "        beam = sorted(candidates, key=lambda x: -x[1])[:width]\n",
    "        history.append(beam)\n",
    "    return beam, history\n",
    "            \n",
    "def batch_predict(data, beam_predictor):\n",
    "    return [beam_predictor(x)[0][0][0] for x,y in data]\n",
    "\n",
    "seq.accuracy(dev, batch_predict(dev, lambda x: memm_beam_search(memm_1, x, 10)))"
   ]
  },
  {
   "cell_type": "markdown",
   "metadata": {},
   "source": [
    "* With beam of size 10 accuracy improves only marginally\n",
    "* You can try other beam sizes (leading to longer runtimes) but likely will not see substantial improvements\n",
    "\n",
    "Is this because we already finding solutions with highest probability, or because higher probability doesn't necessarily mean higher accuracy? "
   ]
  },
  {
   "cell_type": "markdown",
   "metadata": {},
   "source": [
    "We can test how many per-token predictions differ when comparing greedy search to a beam search of a given width, simply calculating their accuracies relative to each other:"
   ]
  },
  {
   "cell_type": "code",
   "execution_count": 29,
   "metadata": {
    "collapsed": false
   },
   "outputs": [
    {
     "data": {
      "text/plain": [
       "0.975533900062202"
      ]
     },
     "execution_count": 29,
     "metadata": {},
     "output_type": "execute_result"
    }
   ],
   "source": [
    "seq.accuracy(memm_greedy_predict(memm_1, dev), batch_predict(dev, lambda x: memm_beam_search(memm_1, x, 10)))"
   ]
  },
  {
   "cell_type": "markdown",
   "metadata": {},
   "source": [
    "We notice that about 4% of the tokens receive different labels, simply searching for higher scoring sequences\n",
    "\n",
    "This suggest that we frequently find higher probability sequences, but that these are not necessarily more correct\n",
    "\n",
    "We can also calculate the average log probability of the argmax sequence using different beam sizes\n",
    "\n",
    "Again we see that there is a substantial difference between scores, they are just not reflected in task accuracy "
   ]
  },
  {
   "cell_type": "code",
   "execution_count": 30,
   "metadata": {
    "collapsed": false
   },
   "outputs": [
    {
     "data": {
      "text/plain": [
       "-3.1982580986830151"
      ]
     },
     "execution_count": 30,
     "metadata": {},
     "output_type": "execute_result"
    }
   ],
   "source": [
    "sum([memm_beam_search(memm_1, x, 1)[0][0][1] for x,y in dev]) / len(dev)"
   ]
  },
  {
   "cell_type": "code",
   "execution_count": 31,
   "metadata": {
    "collapsed": false
   },
   "outputs": [
    {
     "data": {
      "text/plain": [
       "-3.1442567645564075"
      ]
     },
     "execution_count": 31,
     "metadata": {},
     "output_type": "execute_result"
    }
   ],
   "source": [
    "sum([memm_beam_search(memm_1, x, 5)[0][0][1] for x,y in dev]) / len(dev)"
   ]
  },
  {
   "cell_type": "markdown",
   "metadata": {},
   "source": [
    "Beam search is a \n",
    "\n",
    "* simple and often effective way to find sequences (or other structures) with higher probability\n",
    "\n",
    "However, often it is also \n",
    "\n",
    "* inefficient in the sense that it does not fully **leverage the factorisation structure** and conditional independences"
   ]
  },
  {
   "cell_type": "markdown",
   "metadata": {},
   "source": [
    "Probability of a label $y_i$ only depends on the previous label $y_{i-1}$\n",
    "\n",
    "* any earlier labels have no impact on the term $\\prob(y_i|\\x,y_{i-1},i)$ \n",
    "\n",
    "With this in mind let us follow the beam for an example instance     "
   ]
  },
  {
   "cell_type": "code",
   "execution_count": 32,
   "metadata": {
    "collapsed": false
   },
   "outputs": [
    {
     "data": {
      "text/html": [
       "\n",
       "        <div id=\"91bfd7be-b4c1-11e6-a502-a0999b02cfbb\" class=\"carousel\" data-ride=\"carousel\" data-interval=\"false\">\n",
       "          <!-- Controls -->\n",
       "          <a href=\"#91bfd7be-b4c1-11e6-a502-a0999b02cfbb\" role=\"button\" data-slide=\"prev\">Previous</a>\n",
       "          &nbsp\n",
       "          <a  href=\"#91bfd7be-b4c1-11e6-a502-a0999b02cfbb\" role=\"button\" data-slide=\"next\">Next</a>\n",
       "          <div class=\"carousel-inner\" role=\"listbox\">\n",
       "          <div class=\"item active\">\n",
       "        <table>\n",
       "          <tr><td>Happy</td><td>International</td><td>Year</td><td>of</td><td>Biodiversity</td><td>!</td><td>What</td><td>better</td><td>way</td><td>to</td><td>celebrate</td><td>than</td><td>tuning</td><td>in</td><td>to</td><td>CropLife's</td><td>Biodiversity</td></tr>\n",
       "          <tr><td>A</td><td>A</td><td>N</td><td>P</td><td>N</td><td>,</td><td>O</td><td>A</td><td>N</td><td>P</td><td>V</td><td>P</td><td>V</td><td>T</td><td>P</td><td>Z</td><td>^</td></tr>\n",
       "          <tr><td>0.00</td></tr>\n",
       "        </table>\n",
       "         1 / 17</div>\n",
       "<div class=\"item\">\n",
       "        <table>\n",
       "          <tr><td>Happy</td><td>International</td><td>Year</td><td>of</td><td>Biodiversity</td><td>!</td><td>What</td><td>better</td><td>way</td><td>to</td><td>celebrate</td><td>than</td><td>tuning</td><td>in</td><td>to</td><td>CropLife's</td><td>Biodiversity</td></tr>\n",
       "          <tr><td>A</td><td>A</td><td>N</td><td>P</td><td>N</td><td>,</td><td>O</td><td>A</td><td>N</td><td>P</td><td>V</td><td>P</td><td>V</td><td>T</td><td>P</td><td>Z</td><td>^</td></tr>\n",
       "          <tr><td>A</td><td>-0.10</td></tr><tr><td>^</td><td>-3.43</td></tr>\n",
       "        </table>\n",
       "         2 / 17</div>\n",
       "<div class=\"item\">\n",
       "        <table>\n",
       "          <tr><td>Happy</td><td>International</td><td>Year</td><td>of</td><td>Biodiversity</td><td>!</td><td>What</td><td>better</td><td>way</td><td>to</td><td>celebrate</td><td>than</td><td>tuning</td><td>in</td><td>to</td><td>CropLife's</td><td>Biodiversity</td></tr>\n",
       "          <tr><td>A</td><td>A</td><td>N</td><td>P</td><td>N</td><td>,</td><td>O</td><td>A</td><td>N</td><td>P</td><td>V</td><td>P</td><td>V</td><td>T</td><td>P</td><td>Z</td><td>^</td></tr>\n",
       "          <tr><td>A</td><td>N</td><td>-0.73</td></tr><tr><td>A</td><td>A</td><td>-1.01</td></tr>\n",
       "        </table>\n",
       "         3 / 17</div>\n",
       "<div class=\"item\">\n",
       "        <table>\n",
       "          <tr><td>Happy</td><td>International</td><td>Year</td><td>of</td><td>Biodiversity</td><td>!</td><td>What</td><td>better</td><td>way</td><td>to</td><td>celebrate</td><td>than</td><td>tuning</td><td>in</td><td>to</td><td>CropLife's</td><td>Biodiversity</td></tr>\n",
       "          <tr><td>A</td><td>A</td><td>N</td><td>P</td><td>N</td><td>,</td><td>O</td><td>A</td><td>N</td><td>P</td><td>V</td><td>P</td><td>V</td><td>T</td><td>P</td><td>Z</td><td>^</td></tr>\n",
       "          <tr><td>A</td><td>A</td><td>N</td><td>-1.18</td></tr><tr><td>A</td><td>N</td><td>N</td><td>-1.40</td></tr>\n",
       "        </table>\n",
       "         4 / 17</div>\n",
       "<div class=\"item\">\n",
       "        <table>\n",
       "          <tr><td>Happy</td><td>International</td><td>Year</td><td>of</td><td>Biodiversity</td><td>!</td><td>What</td><td>better</td><td>way</td><td>to</td><td>celebrate</td><td>than</td><td>tuning</td><td>in</td><td>to</td><td>CropLife's</td><td>Biodiversity</td></tr>\n",
       "          <tr><td>A</td><td>A</td><td>N</td><td>P</td><td>N</td><td>,</td><td>O</td><td>A</td><td>N</td><td>P</td><td>V</td><td>P</td><td>V</td><td>T</td><td>P</td><td>Z</td><td>^</td></tr>\n",
       "          <tr><td>A</td><td>A</td><td>N</td><td>P</td><td>-1.19</td></tr><tr><td>A</td><td>N</td><td>N</td><td>P</td><td>-1.41</td></tr>\n",
       "        </table>\n",
       "         5 / 17</div>\n",
       "<div class=\"item\">\n",
       "        <table>\n",
       "          <tr><td>Happy</td><td>International</td><td>Year</td><td>of</td><td>Biodiversity</td><td>!</td><td>What</td><td>better</td><td>way</td><td>to</td><td>celebrate</td><td>than</td><td>tuning</td><td>in</td><td>to</td><td>CropLife's</td><td>Biodiversity</td></tr>\n",
       "          <tr><td>A</td><td>A</td><td>N</td><td>P</td><td>N</td><td>,</td><td>O</td><td>A</td><td>N</td><td>P</td><td>V</td><td>P</td><td>V</td><td>T</td><td>P</td><td>Z</td><td>^</td></tr>\n",
       "          <tr><td>A</td><td>A</td><td>N</td><td>P</td><td>N</td><td>-1.54</td></tr><tr><td>A</td><td>N</td><td>N</td><td>P</td><td>N</td><td>-1.76</td></tr>\n",
       "        </table>\n",
       "         6 / 17</div>\n",
       "<div class=\"item\">\n",
       "        <table>\n",
       "          <tr><td>Happy</td><td>International</td><td>Year</td><td>of</td><td>Biodiversity</td><td>!</td><td>What</td><td>better</td><td>way</td><td>to</td><td>celebrate</td><td>than</td><td>tuning</td><td>in</td><td>to</td><td>CropLife's</td><td>Biodiversity</td></tr>\n",
       "          <tr><td>A</td><td>A</td><td>N</td><td>P</td><td>N</td><td>,</td><td>O</td><td>A</td><td>N</td><td>P</td><td>V</td><td>P</td><td>V</td><td>T</td><td>P</td><td>Z</td><td>^</td></tr>\n",
       "          <tr><td>A</td><td>A</td><td>N</td><td>P</td><td>N</td><td>,</td><td>-1.54</td></tr><tr><td>A</td><td>N</td><td>N</td><td>P</td><td>N</td><td>,</td><td>-1.77</td></tr>\n",
       "        </table>\n",
       "         7 / 17</div>\n",
       "<div class=\"item\">\n",
       "        <table>\n",
       "          <tr><td>Happy</td><td>International</td><td>Year</td><td>of</td><td>Biodiversity</td><td>!</td><td>What</td><td>better</td><td>way</td><td>to</td><td>celebrate</td><td>than</td><td>tuning</td><td>in</td><td>to</td><td>CropLife's</td><td>Biodiversity</td></tr>\n",
       "          <tr><td>A</td><td>A</td><td>N</td><td>P</td><td>N</td><td>,</td><td>O</td><td>A</td><td>N</td><td>P</td><td>V</td><td>P</td><td>V</td><td>T</td><td>P</td><td>Z</td><td>^</td></tr>\n",
       "          <tr><td>A</td><td>A</td><td>N</td><td>P</td><td>N</td><td>,</td><td>O</td><td>-1.70</td></tr><tr><td>A</td><td>N</td><td>N</td><td>P</td><td>N</td><td>,</td><td>O</td><td>-1.93</td></tr>\n",
       "        </table>\n",
       "         8 / 17</div>\n",
       "<div class=\"item\">\n",
       "        <table>\n",
       "          <tr><td>Happy</td><td>International</td><td>Year</td><td>of</td><td>Biodiversity</td><td>!</td><td>What</td><td>better</td><td>way</td><td>to</td><td>celebrate</td><td>than</td><td>tuning</td><td>in</td><td>to</td><td>CropLife's</td><td>Biodiversity</td></tr>\n",
       "          <tr><td>A</td><td>A</td><td>N</td><td>P</td><td>N</td><td>,</td><td>O</td><td>A</td><td>N</td><td>P</td><td>V</td><td>P</td><td>V</td><td>T</td><td>P</td><td>Z</td><td>^</td></tr>\n",
       "          <tr><td>A</td><td>A</td><td>N</td><td>P</td><td>N</td><td>,</td><td>O</td><td>R</td><td>-2.27</td></tr><tr><td>A</td><td>N</td><td>N</td><td>P</td><td>N</td><td>,</td><td>O</td><td>R</td><td>-2.49</td></tr>\n",
       "        </table>\n",
       "         9 / 17</div>\n",
       "<div class=\"item\">\n",
       "        <table>\n",
       "          <tr><td>Happy</td><td>International</td><td>Year</td><td>of</td><td>Biodiversity</td><td>!</td><td>What</td><td>better</td><td>way</td><td>to</td><td>celebrate</td><td>than</td><td>tuning</td><td>in</td><td>to</td><td>CropLife's</td><td>Biodiversity</td></tr>\n",
       "          <tr><td>A</td><td>A</td><td>N</td><td>P</td><td>N</td><td>,</td><td>O</td><td>A</td><td>N</td><td>P</td><td>V</td><td>P</td><td>V</td><td>T</td><td>P</td><td>Z</td><td>^</td></tr>\n",
       "          <tr><td>A</td><td>A</td><td>N</td><td>P</td><td>N</td><td>,</td><td>O</td><td>R</td><td>N</td><td>-2.89</td></tr><tr><td>A</td><td>N</td><td>N</td><td>P</td><td>N</td><td>,</td><td>O</td><td>R</td><td>N</td><td>-3.11</td></tr>\n",
       "        </table>\n",
       "         10 / 17</div>\n",
       "<div class=\"item\">\n",
       "        <table>\n",
       "          <tr><td>Happy</td><td>International</td><td>Year</td><td>of</td><td>Biodiversity</td><td>!</td><td>What</td><td>better</td><td>way</td><td>to</td><td>celebrate</td><td>than</td><td>tuning</td><td>in</td><td>to</td><td>CropLife's</td><td>Biodiversity</td></tr>\n",
       "          <tr><td>A</td><td>A</td><td>N</td><td>P</td><td>N</td><td>,</td><td>O</td><td>A</td><td>N</td><td>P</td><td>V</td><td>P</td><td>V</td><td>T</td><td>P</td><td>Z</td><td>^</td></tr>\n",
       "          <tr><td>A</td><td>A</td><td>N</td><td>P</td><td>N</td><td>,</td><td>O</td><td>R</td><td>N</td><td>P</td><td>-2.89</td></tr><tr><td>A</td><td>N</td><td>N</td><td>P</td><td>N</td><td>,</td><td>O</td><td>R</td><td>N</td><td>P</td><td>-3.12</td></tr>\n",
       "        </table>\n",
       "         11 / 17</div>\n",
       "<div class=\"item\">\n",
       "        <table>\n",
       "          <tr><td>Happy</td><td>International</td><td>Year</td><td>of</td><td>Biodiversity</td><td>!</td><td>What</td><td>better</td><td>way</td><td>to</td><td>celebrate</td><td>than</td><td>tuning</td><td>in</td><td>to</td><td>CropLife's</td><td>Biodiversity</td></tr>\n",
       "          <tr><td>A</td><td>A</td><td>N</td><td>P</td><td>N</td><td>,</td><td>O</td><td>A</td><td>N</td><td>P</td><td>V</td><td>P</td><td>V</td><td>T</td><td>P</td><td>Z</td><td>^</td></tr>\n",
       "          <tr><td>A</td><td>A</td><td>N</td><td>P</td><td>N</td><td>,</td><td>O</td><td>R</td><td>N</td><td>P</td><td>N</td><td>-3.51</td></tr><tr><td>A</td><td>N</td><td>N</td><td>P</td><td>N</td><td>,</td><td>O</td><td>R</td><td>N</td><td>P</td><td>N</td><td>-3.73</td></tr>\n",
       "        </table>\n",
       "         12 / 17</div>\n",
       "<div class=\"item\">\n",
       "        <table>\n",
       "          <tr><td>Happy</td><td>International</td><td>Year</td><td>of</td><td>Biodiversity</td><td>!</td><td>What</td><td>better</td><td>way</td><td>to</td><td>celebrate</td><td>than</td><td>tuning</td><td>in</td><td>to</td><td>CropLife's</td><td>Biodiversity</td></tr>\n",
       "          <tr><td>A</td><td>A</td><td>N</td><td>P</td><td>N</td><td>,</td><td>O</td><td>A</td><td>N</td><td>P</td><td>V</td><td>P</td><td>V</td><td>T</td><td>P</td><td>Z</td><td>^</td></tr>\n",
       "          <tr><td>A</td><td>A</td><td>N</td><td>P</td><td>N</td><td>,</td><td>O</td><td>R</td><td>N</td><td>P</td><td>N</td><td>P</td><td>-3.56</td></tr><tr><td>A</td><td>N</td><td>N</td><td>P</td><td>N</td><td>,</td><td>O</td><td>R</td><td>N</td><td>P</td><td>N</td><td>P</td><td>-3.78</td></tr>\n",
       "        </table>\n",
       "         13 / 17</div>\n",
       "<div class=\"item\">\n",
       "        <table>\n",
       "          <tr><td>Happy</td><td>International</td><td>Year</td><td>of</td><td>Biodiversity</td><td>!</td><td>What</td><td>better</td><td>way</td><td>to</td><td>celebrate</td><td>than</td><td>tuning</td><td>in</td><td>to</td><td>CropLife's</td><td>Biodiversity</td></tr>\n",
       "          <tr><td>A</td><td>A</td><td>N</td><td>P</td><td>N</td><td>,</td><td>O</td><td>A</td><td>N</td><td>P</td><td>V</td><td>P</td><td>V</td><td>T</td><td>P</td><td>Z</td><td>^</td></tr>\n",
       "          <tr><td>A</td><td>A</td><td>N</td><td>P</td><td>N</td><td>,</td><td>O</td><td>R</td><td>N</td><td>P</td><td>N</td><td>P</td><td>V</td><td>-3.65</td></tr><tr><td>A</td><td>N</td><td>N</td><td>P</td><td>N</td><td>,</td><td>O</td><td>R</td><td>N</td><td>P</td><td>N</td><td>P</td><td>V</td><td>-3.87</td></tr>\n",
       "        </table>\n",
       "         14 / 17</div>\n",
       "<div class=\"item\">\n",
       "        <table>\n",
       "          <tr><td>Happy</td><td>International</td><td>Year</td><td>of</td><td>Biodiversity</td><td>!</td><td>What</td><td>better</td><td>way</td><td>to</td><td>celebrate</td><td>than</td><td>tuning</td><td>in</td><td>to</td><td>CropLife's</td><td>Biodiversity</td></tr>\n",
       "          <tr><td>A</td><td>A</td><td>N</td><td>P</td><td>N</td><td>,</td><td>O</td><td>A</td><td>N</td><td>P</td><td>V</td><td>P</td><td>V</td><td>T</td><td>P</td><td>Z</td><td>^</td></tr>\n",
       "          <tr><td>A</td><td>A</td><td>N</td><td>P</td><td>N</td><td>,</td><td>O</td><td>R</td><td>N</td><td>P</td><td>N</td><td>P</td><td>V</td><td>P</td><td>-3.84</td></tr><tr><td>A</td><td>N</td><td>N</td><td>P</td><td>N</td><td>,</td><td>O</td><td>R</td><td>N</td><td>P</td><td>N</td><td>P</td><td>V</td><td>P</td><td>-4.06</td></tr>\n",
       "        </table>\n",
       "         15 / 17</div>\n",
       "<div class=\"item\">\n",
       "        <table>\n",
       "          <tr><td>Happy</td><td>International</td><td>Year</td><td>of</td><td>Biodiversity</td><td>!</td><td>What</td><td>better</td><td>way</td><td>to</td><td>celebrate</td><td>than</td><td>tuning</td><td>in</td><td>to</td><td>CropLife's</td><td>Biodiversity</td></tr>\n",
       "          <tr><td>A</td><td>A</td><td>N</td><td>P</td><td>N</td><td>,</td><td>O</td><td>A</td><td>N</td><td>P</td><td>V</td><td>P</td><td>V</td><td>T</td><td>P</td><td>Z</td><td>^</td></tr>\n",
       "          <tr><td>A</td><td>A</td><td>N</td><td>P</td><td>N</td><td>,</td><td>O</td><td>R</td><td>N</td><td>P</td><td>N</td><td>P</td><td>V</td><td>P</td><td>P</td><td>-3.85</td></tr><tr><td>A</td><td>N</td><td>N</td><td>P</td><td>N</td><td>,</td><td>O</td><td>R</td><td>N</td><td>P</td><td>N</td><td>P</td><td>V</td><td>P</td><td>P</td><td>-4.07</td></tr>\n",
       "        </table>\n",
       "         16 / 17</div>\n",
       "<div class=\"item\">\n",
       "        <table>\n",
       "          <tr><td>Happy</td><td>International</td><td>Year</td><td>of</td><td>Biodiversity</td><td>!</td><td>What</td><td>better</td><td>way</td><td>to</td><td>celebrate</td><td>than</td><td>tuning</td><td>in</td><td>to</td><td>CropLife's</td><td>Biodiversity</td></tr>\n",
       "          <tr><td>A</td><td>A</td><td>N</td><td>P</td><td>N</td><td>,</td><td>O</td><td>A</td><td>N</td><td>P</td><td>V</td><td>P</td><td>V</td><td>T</td><td>P</td><td>Z</td><td>^</td></tr>\n",
       "          <tr><td>A</td><td>A</td><td>N</td><td>P</td><td>N</td><td>,</td><td>O</td><td>R</td><td>N</td><td>P</td><td>N</td><td>P</td><td>V</td><td>P</td><td>P</td><td>Z</td><td>-4.64</td></tr><tr><td>A</td><td>A</td><td>N</td><td>P</td><td>N</td><td>,</td><td>O</td><td>R</td><td>N</td><td>P</td><td>N</td><td>P</td><td>V</td><td>P</td><td>P</td><td>L</td><td>-4.77</td></tr>\n",
       "        </table>\n",
       "         17 / 17</div>\n",
       "          </div>\n",
       "        </div>\n",
       "        "
      ],
      "text/plain": [
       "<statnlpbook.util.Carousel at 0x108645be0>"
      ]
     },
     "execution_count": 32,
     "metadata": {},
     "output_type": "execute_result"
    }
   ],
   "source": [
    "example = 56\n",
    "beam, history = memm_beam_search(memm_1, dev[example][0],2)\n",
    "seq.render_beam_history(history, dev[example], end=17)"
   ]
  },
  {
   "cell_type": "markdown",
   "metadata": {},
   "source": [
    "Search *frontier*, the most recent label in each of the hypotheses, often has very little diversity\n",
    "\n",
    "* for the word \"of\" it is very certain of label \"P\" \n",
    "* for the adjective \"better\" of \"better way\" the frontier contains \"R\" (adverb) twice, \n",
    "* and the gold label \"A\" (adjective) not at all. \n",
    "\n",
    "This leads to an error here"
   ]
  },
  {
   "cell_type": "markdown",
   "metadata": {},
   "source": [
    "We can fix this error by simply increasing the beam size to 4. You can test this above. In this case \"A\" barely makes it into the beam, and becomes the winning label in the next step as it fits better to the noun \"way\". "
   ]
  },
  {
   "cell_type": "markdown",
   "metadata": {},
   "source": [
    "ignores the factorization or dependency structure of the model. \n",
    "\n",
    "In this particular case labels only depend on the previous label. \n",
    "\n",
    "This means that it makes no sense to maintain more than one hypothesis with the same frontier label in the beam. One only needs to remember the highest scoring sequence with that frontier label. \n",
    "\n",
    "\"Proof\": \n",
    "* consider two partial sequences $\\y$ and $\\y'$ of length $l$ with the same last label $t=y_l=y'_l$\n",
    "* Assume $s = \\sum_{i}^0 \\log \\prob(y_i|\\x,y_{i-1},i)$  is larger than $s' = \\sum_{i}^0 \\log \\prob(y'_i|\\x,y'_{i-1},i)$ of $\\y'$ \n",
    "* Assume label $y_{l+1}$ maximises $\\prob(y_{l+1}|\\x,t,i+1)$\n",
    "\n",
    "Then log probability of $\\y \\| y_{l+1}$ is larger than the log probability of $\\y' \\| y_{l+1}$ and hence there is no need to carry around $\\y'$.   "
   ]
  },
  {
   "cell_type": "markdown",
   "metadata": {},
   "source": [
    "## Viterbi \n",
    "\n",
    "leverage conditional independences of the model directly\n",
    "\n",
    "* maintaining a map $\\alpha_i(l)$ from label $l$ and token index $i$ to score $\\log \\prob(\\y|\\x)$ of highest scoring partial sequence $\\y$ ending in label $l$ at token $i$ \n",
    "* For each pair $(l,i)$ we also remember the sequence $\\y$ that yielded that score in a map $\\beta_i(l)$ \n",
    "\n",
    "The algorithm initialises $\\alpha_{1}(l) =\\log \\prob(l|\\x,\\text{PAD},1)$ and then updates the $\\alpha$ map via the following recursion:\n",
    "\n",
    "$$\n",
    "\\alpha_i(l) = \\max_y \\alpha_{i-1}(y) + \\log \\prob(l|\\x,y,i)  \n",
    "$$\n",
    "\n",
    "and in $\\beta_i(l)$ we store the 'winning' $y$ from the $\\max$ term. \n",
    "\n",
    "Once we reached the sequence end the result sequence can be inferred by finding the label $l$ with highest $\\alpha_{|\\x|}(l)$ and then back-tracking using $\\beta$. It is easy to show that this algorithm returns the *optimal* solution to the prediction/search problem, assuming that labels only depend on the previous label. (Exercise: extend to $n$ previous labels) \n",
    "\n",
    "Below we implement a beam version of the viterbi algorithm. In this version we restrict the maximisation that defines $\\alpha_i(l)$ to only range over the top $k$ highest scoring previous labels $y$.   "
   ]
  },
  {
   "cell_type": "code",
   "execution_count": 33,
   "metadata": {
    "collapsed": false
   },
   "outputs": [
    {
     "data": {
      "text/html": [
       "\n",
       "        <div id=\"91c7352e-b4c1-11e6-9275-a0999b02cfbb\" class=\"carousel\" data-ride=\"carousel\" data-interval=\"false\">\n",
       "          <!-- Controls -->\n",
       "          <a href=\"#91c7352e-b4c1-11e6-9275-a0999b02cfbb\" role=\"button\" data-slide=\"prev\">Previous</a>\n",
       "          &nbsp\n",
       "          <a  href=\"#91c7352e-b4c1-11e6-9275-a0999b02cfbb\" role=\"button\" data-slide=\"next\">Next</a>\n",
       "          <div class=\"carousel-inner\" role=\"listbox\">\n",
       "          <div class=\"item active\">\n",
       "        <table>\n",
       "          <tr><td>Happy</td><td>International</td><td>Year</td><td>of</td><td>Biodiversity</td><td>!</td><td>What</td><td>better</td><td>way</td><td>to</td><td>celebrate</td><td>than</td><td>tuning</td><td>in</td><td>to</td><td>CropLife's</td><td>Biodiversity</td></tr>\n",
       "          <tr><td>A</td><td>A</td><td>N</td><td>P</td><td>N</td><td>,</td><td>O</td><td>A</td><td>N</td><td>P</td><td>V</td><td>P</td><td>V</td><td>T</td><td>P</td><td>Z</td><td>^</td></tr>\n",
       "          <tr><td>0.00</td></tr>\n",
       "        </table>\n",
       "         1 / 17</div>\n",
       "<div class=\"item\">\n",
       "        <table>\n",
       "          <tr><td>Happy</td><td>International</td><td>Year</td><td>of</td><td>Biodiversity</td><td>!</td><td>What</td><td>better</td><td>way</td><td>to</td><td>celebrate</td><td>than</td><td>tuning</td><td>in</td><td>to</td><td>CropLife's</td><td>Biodiversity</td></tr>\n",
       "          <tr><td>A</td><td>A</td><td>N</td><td>P</td><td>N</td><td>,</td><td>O</td><td>A</td><td>N</td><td>P</td><td>V</td><td>P</td><td>V</td><td>T</td><td>P</td><td>Z</td><td>^</td></tr>\n",
       "          <tr><td>A</td><td>-0.10</td></tr><tr><td>^</td><td>-3.43</td></tr>\n",
       "        </table>\n",
       "         2 / 17</div>\n",
       "<div class=\"item\">\n",
       "        <table>\n",
       "          <tr><td>Happy</td><td>International</td><td>Year</td><td>of</td><td>Biodiversity</td><td>!</td><td>What</td><td>better</td><td>way</td><td>to</td><td>celebrate</td><td>than</td><td>tuning</td><td>in</td><td>to</td><td>CropLife's</td><td>Biodiversity</td></tr>\n",
       "          <tr><td>A</td><td>A</td><td>N</td><td>P</td><td>N</td><td>,</td><td>O</td><td>A</td><td>N</td><td>P</td><td>V</td><td>P</td><td>V</td><td>T</td><td>P</td><td>Z</td><td>^</td></tr>\n",
       "          <tr><td>A</td><td>N</td><td>-0.73</td></tr><tr><td>A</td><td>A</td><td>-1.01</td></tr>\n",
       "        </table>\n",
       "         3 / 17</div>\n",
       "<div class=\"item\">\n",
       "        <table>\n",
       "          <tr><td>Happy</td><td>International</td><td>Year</td><td>of</td><td>Biodiversity</td><td>!</td><td>What</td><td>better</td><td>way</td><td>to</td><td>celebrate</td><td>than</td><td>tuning</td><td>in</td><td>to</td><td>CropLife's</td><td>Biodiversity</td></tr>\n",
       "          <tr><td>A</td><td>A</td><td>N</td><td>P</td><td>N</td><td>,</td><td>O</td><td>A</td><td>N</td><td>P</td><td>V</td><td>P</td><td>V</td><td>T</td><td>P</td><td>Z</td><td>^</td></tr>\n",
       "          <tr><td>A</td><td>A</td><td>N</td><td>-1.18</td></tr><tr><td>A</td><td>N</td><td>V</td><td>-1.97</td></tr>\n",
       "        </table>\n",
       "         4 / 17</div>\n",
       "<div class=\"item\">\n",
       "        <table>\n",
       "          <tr><td>Happy</td><td>International</td><td>Year</td><td>of</td><td>Biodiversity</td><td>!</td><td>What</td><td>better</td><td>way</td><td>to</td><td>celebrate</td><td>than</td><td>tuning</td><td>in</td><td>to</td><td>CropLife's</td><td>Biodiversity</td></tr>\n",
       "          <tr><td>A</td><td>A</td><td>N</td><td>P</td><td>N</td><td>,</td><td>O</td><td>A</td><td>N</td><td>P</td><td>V</td><td>P</td><td>V</td><td>T</td><td>P</td><td>Z</td><td>^</td></tr>\n",
       "          <tr><td>A</td><td>A</td><td>N</td><td>P</td><td>-1.19</td></tr><tr><td>A</td><td>A</td><td>N</td><td>N</td><td>-7.50</td></tr>\n",
       "        </table>\n",
       "         5 / 17</div>\n",
       "<div class=\"item\">\n",
       "        <table>\n",
       "          <tr><td>Happy</td><td>International</td><td>Year</td><td>of</td><td>Biodiversity</td><td>!</td><td>What</td><td>better</td><td>way</td><td>to</td><td>celebrate</td><td>than</td><td>tuning</td><td>in</td><td>to</td><td>CropLife's</td><td>Biodiversity</td></tr>\n",
       "          <tr><td>A</td><td>A</td><td>N</td><td>P</td><td>N</td><td>,</td><td>O</td><td>A</td><td>N</td><td>P</td><td>V</td><td>P</td><td>V</td><td>T</td><td>P</td><td>Z</td><td>^</td></tr>\n",
       "          <tr><td>A</td><td>A</td><td>N</td><td>P</td><td>N</td><td>-1.54</td></tr><tr><td>A</td><td>A</td><td>N</td><td>P</td><td>^</td><td>-2.57</td></tr>\n",
       "        </table>\n",
       "         6 / 17</div>\n",
       "<div class=\"item\">\n",
       "        <table>\n",
       "          <tr><td>Happy</td><td>International</td><td>Year</td><td>of</td><td>Biodiversity</td><td>!</td><td>What</td><td>better</td><td>way</td><td>to</td><td>celebrate</td><td>than</td><td>tuning</td><td>in</td><td>to</td><td>CropLife's</td><td>Biodiversity</td></tr>\n",
       "          <tr><td>A</td><td>A</td><td>N</td><td>P</td><td>N</td><td>,</td><td>O</td><td>A</td><td>N</td><td>P</td><td>V</td><td>P</td><td>V</td><td>T</td><td>P</td><td>Z</td><td>^</td></tr>\n",
       "          <tr><td>A</td><td>A</td><td>N</td><td>P</td><td>N</td><td>,</td><td>-1.54</td></tr><tr><td>A</td><td>A</td><td>N</td><td>P</td><td>^</td><td>^</td><td>-5.18</td></tr>\n",
       "        </table>\n",
       "         7 / 17</div>\n",
       "<div class=\"item\">\n",
       "        <table>\n",
       "          <tr><td>Happy</td><td>International</td><td>Year</td><td>of</td><td>Biodiversity</td><td>!</td><td>What</td><td>better</td><td>way</td><td>to</td><td>celebrate</td><td>than</td><td>tuning</td><td>in</td><td>to</td><td>CropLife's</td><td>Biodiversity</td></tr>\n",
       "          <tr><td>A</td><td>A</td><td>N</td><td>P</td><td>N</td><td>,</td><td>O</td><td>A</td><td>N</td><td>P</td><td>V</td><td>P</td><td>V</td><td>T</td><td>P</td><td>Z</td><td>^</td></tr>\n",
       "          <tr><td>A</td><td>A</td><td>N</td><td>P</td><td>N</td><td>,</td><td>O</td><td>-1.70</td></tr><tr><td>A</td><td>A</td><td>N</td><td>P</td><td>N</td><td>,</td><td>D</td><td>-4.21</td></tr>\n",
       "        </table>\n",
       "         8 / 17</div>\n",
       "<div class=\"item\">\n",
       "        <table>\n",
       "          <tr><td>Happy</td><td>International</td><td>Year</td><td>of</td><td>Biodiversity</td><td>!</td><td>What</td><td>better</td><td>way</td><td>to</td><td>celebrate</td><td>than</td><td>tuning</td><td>in</td><td>to</td><td>CropLife's</td><td>Biodiversity</td></tr>\n",
       "          <tr><td>A</td><td>A</td><td>N</td><td>P</td><td>N</td><td>,</td><td>O</td><td>A</td><td>N</td><td>P</td><td>V</td><td>P</td><td>V</td><td>T</td><td>P</td><td>Z</td><td>^</td></tr>\n",
       "          <tr><td>A</td><td>A</td><td>N</td><td>P</td><td>N</td><td>,</td><td>O</td><td>R</td><td>-2.27</td></tr><tr><td>A</td><td>A</td><td>N</td><td>P</td><td>N</td><td>,</td><td>O</td><td>A</td><td>-2.77</td></tr>\n",
       "        </table>\n",
       "         9 / 17</div>\n",
       "<div class=\"item\">\n",
       "        <table>\n",
       "          <tr><td>Happy</td><td>International</td><td>Year</td><td>of</td><td>Biodiversity</td><td>!</td><td>What</td><td>better</td><td>way</td><td>to</td><td>celebrate</td><td>than</td><td>tuning</td><td>in</td><td>to</td><td>CropLife's</td><td>Biodiversity</td></tr>\n",
       "          <tr><td>A</td><td>A</td><td>N</td><td>P</td><td>N</td><td>,</td><td>O</td><td>A</td><td>N</td><td>P</td><td>V</td><td>P</td><td>V</td><td>T</td><td>P</td><td>Z</td><td>^</td></tr>\n",
       "          <tr><td>A</td><td>A</td><td>N</td><td>P</td><td>N</td><td>,</td><td>O</td><td>A</td><td>N</td><td>-2.81</td></tr><tr><td>A</td><td>A</td><td>N</td><td>P</td><td>N</td><td>,</td><td>O</td><td>R</td><td>R</td><td>-3.68</td></tr>\n",
       "        </table>\n",
       "         10 / 17</div>\n",
       "<div class=\"item\">\n",
       "        <table>\n",
       "          <tr><td>Happy</td><td>International</td><td>Year</td><td>of</td><td>Biodiversity</td><td>!</td><td>What</td><td>better</td><td>way</td><td>to</td><td>celebrate</td><td>than</td><td>tuning</td><td>in</td><td>to</td><td>CropLife's</td><td>Biodiversity</td></tr>\n",
       "          <tr><td>A</td><td>A</td><td>N</td><td>P</td><td>N</td><td>,</td><td>O</td><td>A</td><td>N</td><td>P</td><td>V</td><td>P</td><td>V</td><td>T</td><td>P</td><td>Z</td><td>^</td></tr>\n",
       "          <tr><td>A</td><td>A</td><td>N</td><td>P</td><td>N</td><td>,</td><td>O</td><td>A</td><td>N</td><td>P</td><td>-2.81</td></tr><tr><td>A</td><td>A</td><td>N</td><td>P</td><td>N</td><td>,</td><td>O</td><td>A</td><td>N</td><td>N</td><td>-9.36</td></tr>\n",
       "        </table>\n",
       "         11 / 17</div>\n",
       "<div class=\"item\">\n",
       "        <table>\n",
       "          <tr><td>Happy</td><td>International</td><td>Year</td><td>of</td><td>Biodiversity</td><td>!</td><td>What</td><td>better</td><td>way</td><td>to</td><td>celebrate</td><td>than</td><td>tuning</td><td>in</td><td>to</td><td>CropLife's</td><td>Biodiversity</td></tr>\n",
       "          <tr><td>A</td><td>A</td><td>N</td><td>P</td><td>N</td><td>,</td><td>O</td><td>A</td><td>N</td><td>P</td><td>V</td><td>P</td><td>V</td><td>T</td><td>P</td><td>Z</td><td>^</td></tr>\n",
       "          <tr><td>A</td><td>A</td><td>N</td><td>P</td><td>N</td><td>,</td><td>O</td><td>A</td><td>N</td><td>P</td><td>N</td><td>-3.43</td></tr><tr><td>A</td><td>A</td><td>N</td><td>P</td><td>N</td><td>,</td><td>O</td><td>A</td><td>N</td><td>P</td><td>V</td><td>-4.07</td></tr>\n",
       "        </table>\n",
       "         12 / 17</div>\n",
       "<div class=\"item\">\n",
       "        <table>\n",
       "          <tr><td>Happy</td><td>International</td><td>Year</td><td>of</td><td>Biodiversity</td><td>!</td><td>What</td><td>better</td><td>way</td><td>to</td><td>celebrate</td><td>than</td><td>tuning</td><td>in</td><td>to</td><td>CropLife's</td><td>Biodiversity</td></tr>\n",
       "          <tr><td>A</td><td>A</td><td>N</td><td>P</td><td>N</td><td>,</td><td>O</td><td>A</td><td>N</td><td>P</td><td>V</td><td>P</td><td>V</td><td>T</td><td>P</td><td>Z</td><td>^</td></tr>\n",
       "          <tr><td>A</td><td>A</td><td>N</td><td>P</td><td>N</td><td>,</td><td>O</td><td>A</td><td>N</td><td>P</td><td>N</td><td>P</td><td>-3.48</td></tr><tr><td>A</td><td>A</td><td>N</td><td>P</td><td>N</td><td>,</td><td>O</td><td>A</td><td>N</td><td>P</td><td>N</td><td>V</td><td>-6.94</td></tr>\n",
       "        </table>\n",
       "         13 / 17</div>\n",
       "<div class=\"item\">\n",
       "        <table>\n",
       "          <tr><td>Happy</td><td>International</td><td>Year</td><td>of</td><td>Biodiversity</td><td>!</td><td>What</td><td>better</td><td>way</td><td>to</td><td>celebrate</td><td>than</td><td>tuning</td><td>in</td><td>to</td><td>CropLife's</td><td>Biodiversity</td></tr>\n",
       "          <tr><td>A</td><td>A</td><td>N</td><td>P</td><td>N</td><td>,</td><td>O</td><td>A</td><td>N</td><td>P</td><td>V</td><td>P</td><td>V</td><td>T</td><td>P</td><td>Z</td><td>^</td></tr>\n",
       "          <tr><td>A</td><td>A</td><td>N</td><td>P</td><td>N</td><td>,</td><td>O</td><td>A</td><td>N</td><td>P</td><td>N</td><td>P</td><td>V</td><td>-3.57</td></tr><tr><td>A</td><td>A</td><td>N</td><td>P</td><td>N</td><td>,</td><td>O</td><td>A</td><td>N</td><td>P</td><td>N</td><td>P</td><td>N</td><td>-6.19</td></tr>\n",
       "        </table>\n",
       "         14 / 17</div>\n",
       "<div class=\"item\">\n",
       "        <table>\n",
       "          <tr><td>Happy</td><td>International</td><td>Year</td><td>of</td><td>Biodiversity</td><td>!</td><td>What</td><td>better</td><td>way</td><td>to</td><td>celebrate</td><td>than</td><td>tuning</td><td>in</td><td>to</td><td>CropLife's</td><td>Biodiversity</td></tr>\n",
       "          <tr><td>A</td><td>A</td><td>N</td><td>P</td><td>N</td><td>,</td><td>O</td><td>A</td><td>N</td><td>P</td><td>V</td><td>P</td><td>V</td><td>T</td><td>P</td><td>Z</td><td>^</td></tr>\n",
       "          <tr><td>A</td><td>A</td><td>N</td><td>P</td><td>N</td><td>,</td><td>O</td><td>A</td><td>N</td><td>P</td><td>N</td><td>P</td><td>V</td><td>P</td><td>-3.76</td></tr><tr><td>A</td><td>A</td><td>N</td><td>P</td><td>N</td><td>,</td><td>O</td><td>A</td><td>N</td><td>P</td><td>N</td><td>P</td><td>V</td><td>T</td><td>-5.42</td></tr>\n",
       "        </table>\n",
       "         15 / 17</div>\n",
       "<div class=\"item\">\n",
       "        <table>\n",
       "          <tr><td>Happy</td><td>International</td><td>Year</td><td>of</td><td>Biodiversity</td><td>!</td><td>What</td><td>better</td><td>way</td><td>to</td><td>celebrate</td><td>than</td><td>tuning</td><td>in</td><td>to</td><td>CropLife's</td><td>Biodiversity</td></tr>\n",
       "          <tr><td>A</td><td>A</td><td>N</td><td>P</td><td>N</td><td>,</td><td>O</td><td>A</td><td>N</td><td>P</td><td>V</td><td>P</td><td>V</td><td>T</td><td>P</td><td>Z</td><td>^</td></tr>\n",
       "          <tr><td>A</td><td>A</td><td>N</td><td>P</td><td>N</td><td>,</td><td>O</td><td>A</td><td>N</td><td>P</td><td>N</td><td>P</td><td>V</td><td>P</td><td>P</td><td>-3.77</td></tr><tr><td>A</td><td>A</td><td>N</td><td>P</td><td>N</td><td>,</td><td>O</td><td>A</td><td>N</td><td>P</td><td>N</td><td>P</td><td>V</td><td>P</td><td>^</td><td>-10.04</td></tr>\n",
       "        </table>\n",
       "         16 / 17</div>\n",
       "<div class=\"item\">\n",
       "        <table>\n",
       "          <tr><td>Happy</td><td>International</td><td>Year</td><td>of</td><td>Biodiversity</td><td>!</td><td>What</td><td>better</td><td>way</td><td>to</td><td>celebrate</td><td>than</td><td>tuning</td><td>in</td><td>to</td><td>CropLife's</td><td>Biodiversity</td></tr>\n",
       "          <tr><td>A</td><td>A</td><td>N</td><td>P</td><td>N</td><td>,</td><td>O</td><td>A</td><td>N</td><td>P</td><td>V</td><td>P</td><td>V</td><td>T</td><td>P</td><td>Z</td><td>^</td></tr>\n",
       "          <tr><td>A</td><td>A</td><td>N</td><td>P</td><td>N</td><td>,</td><td>O</td><td>A</td><td>N</td><td>P</td><td>N</td><td>P</td><td>V</td><td>P</td><td>P</td><td>Z</td><td>-4.56</td></tr><tr><td>A</td><td>A</td><td>N</td><td>P</td><td>N</td><td>,</td><td>O</td><td>A</td><td>N</td><td>P</td><td>N</td><td>P</td><td>V</td><td>P</td><td>P</td><td>L</td><td>-4.69</td></tr>\n",
       "        </table>\n",
       "         17 / 17</div>\n",
       "          </div>\n",
       "        </div>\n",
       "        "
      ],
      "text/plain": [
       "<statnlpbook.util.Carousel at 0x1095f5dd8>"
      ]
     },
     "execution_count": 33,
     "metadata": {},
     "output_type": "execute_result"
    }
   ],
   "source": [
    "from collections import defaultdict\n",
    "import math\n",
    "def memm_viterbi_search(memm, x, width=2):\n",
    "    labels = memm.labels()\n",
    "    # initialise\n",
    "    alpha = [{}]\n",
    "    beta = [{}]\n",
    "    for label_index, label_score in enumerate(memm.predict_scores_hist(x, 0, [\"PAD\"])):\n",
    "        label = labels[label_index]\n",
    "        alpha[0][label] = label_score\n",
    "        beta[0][label] = \"PAD\"\n",
    "    \n",
    "    # prune\n",
    "    seq.prune_alpha_beta(alpha[0], beta[0], width)\n",
    "    \n",
    "    # recursion \n",
    "    for i in range(1, len(x)):\n",
    "        alpha.append(defaultdict(lambda: -math.inf))\n",
    "        beta.append({})\n",
    "        for p in alpha[i-1].keys():\n",
    "            for label_index, label_score in enumerate(memm.predict_scores_hist(x, i, [p])):\n",
    "                label = labels[label_index]\n",
    "                new_score =  alpha[i-1][p] + label_score\n",
    "                if new_score > alpha[i][label]:\n",
    "                    alpha[i][label] = new_score\n",
    "                    beta[i][label] = p\n",
    "        # prune\n",
    "        seq.prune_alpha_beta(alpha[i], beta[i], width)\n",
    "    \n",
    "    # convert to beam history to be used in the same way beam search was used.  \n",
    "    history = seq.convert_alpha_beta_to_history(x, alpha, beta)\n",
    "    return history[-1], history\n",
    "\n",
    "beam, history = memm_viterbi_search(memm_1, dev[example][0],2)\n",
    "seq.render_beam_history(history, dev[example], 17)"
   ]
  },
  {
   "cell_type": "markdown",
   "metadata": {},
   "source": [
    "Crucially, for the same beam size we now keep the correct labelling of \"better\" in the beam and reach a better solution, both in terms of log probability and actual accuracy. \n",
    "\n",
    "This improvement in log probabilities does not always lead to higher global accuracy:"
   ]
  },
  {
   "cell_type": "code",
   "execution_count": 34,
   "metadata": {
    "collapsed": false
   },
   "outputs": [
    {
     "data": {
      "text/plain": [
       "0.8140161725067385"
      ]
     },
     "execution_count": 34,
     "metadata": {},
     "output_type": "execute_result"
    }
   ],
   "source": [
    "seq.accuracy(dev, batch_predict(dev, lambda x: memm_viterbi_search(memm_1, x, 2)))"
   ]
  },
  {
   "cell_type": "markdown",
   "metadata": {},
   "source": [
    "## Label Bias Problem\n",
    "\n",
    "MEMMs multiply several *locally* normalised transition probabilities to arrive at a sequence probability\n",
    "\n",
    "* for each token $i$ and given previous state $y_{i-1}$ sum of transition scores into next states $\\sum_{y_i} \\prob_\\params(y_i|\\x,y_{i-1},i)$ equals 1\n",
    "\n",
    "* This local normalisation makes training easy (why?), but it also leads to a problem. Consider two simple sequences \"that works\" and \"that house\". The former is a pronoun (\"O\") followed by a verb (\"V\"), the latter is a determiner (\"D\") followed by a noun (\"N\"). Let us assume that \n",
    "\n",
    "$$\n",
    "\\prob_\\params(\\text{D}|\\x,\\text{PAD},0) =\\prob_\\params(\\text{O}|\\x,\\text{PAD},0) \\approx 0.5,\n",
    "$$\n",
    "\n",
    "meaning that at the beginning of a sentence both the determiner and pronoun label for \"that\" have roughly the same probability 0.5. Now assume that in the training set determiners are always followed by nouns, and pronouns always by verbs. This would mean that \n",
    "\n",
    "$$\n",
    "\\prob_\\params(\\text{N}|\\x,\\text{D},i) = \\prob_\\params(\\text{V}|\\x,\\text{O},i)  \\approx 1\n",
    "$$     \n",
    "\n",
    "and hence transitions from these two states are completely independent of the observation. \n",
    "\n",
    "Now we have $\\prob_\\params(\\text{D N}|\\, \\text{that works}) \\approx 0.5$ and $\\prob_\\params(\\text{O V}|\\, \\text{that works}) \\approx 0.5$, and the same for the input \"that house\". This means that once we enter the \"D\" or \"O\" state, the following observations have no effect on the sequence probability. The reason is that MEMMs requires *all* incoming probability mass (0.5 in the above example) to a given state (such as \"D\" or \"O\") to be distributed among the outgoing states. If there is only one possible next state, then that next state will receive all the mass, regardless of the observation. In particular, the model cannot say \"in state \"D\" and for observation \"works\", *all* labels are impossible. More generally, states with few outgoing distributions effectively ignore observations, and this creates a bias towards such states. This problem is known as the *label bias problem*. "
   ]
  },
  {
   "cell_type": "markdown",
   "metadata": {},
   "source": [
    "## CRF\n",
    "\n",
    "[Conditional Random Fields (CRFs)](http://www.seas.upenn.edu/~strctlrn/bib/PDF/crf.pdf) have been developed to overcome the label bias. The core problem of MEMMs is local normalisation. CRFs replace this with *global* normalisation. That is instead of normalising across all possible next states $y_{i+1}$ given a current state $y_i$ and observation $\\x$, the CRF normalises across all possible *sequences* $\\y$ given observation $\\x$. Formally the CRF is hence defined as follows:\n",
    "\n",
    "$$\n",
    "p_\\params(\\y|\\x) = \\frac{1}{Z_{\\x}} \\prod_i^{|\\x|} \\exp  \\langle \\repr(\\x,y_{i-1},i), \\params_{y_i} \\rangle\n",
    "$$\n",
    "\n",
    "where $Z_{\\x}=\\sum_\\y   \\prod_i^{|\\x|} \\exp \\langle \\repr(\\x,y_{i-1},i), \\params_{y_i} \\rangle$ is the *partition function*, a *global* normalisation constant depending on $\\x$. Notably each term $\\exp  \\langle \\repr(\\x,y_{i-1},i), \\params_{y_i} \\rangle$ in the product can now take on values in $[0,\\infty)$ as opposed to the MEMM terms in $[0,1]$.  \n",
    "\n",
    "The name CRF stems from the fact they correspond to [Markov random fields](http://www.statslab.cam.ac.uk/~grg/books/hammfest/3-pdc.ps), globally conditioned on the observation $\\x$. While in this chapter we focus on cases where the dependency structure corresponds to a linear chain, CRFs are more general and encompass any graphical structure. \n",
    "\n",
    "### Training Linear Chain CRFs\n",
    "\n",
    "CRFs can be trained (as usual) by maximising the conditional log-likelihood of the data \n",
    "\n",
    "$$\n",
    "CL(\\params) = \\sum_{(\\x,\\y) \\in \\train} \\log \\prob_\\params(\\y|\\x).\n",
    "$$\n",
    "\n",
    "This is substantially harder than for MEMMs because the partition function makes it impossible to break up the objective into only per-token logistic regression terms. Instead the objective needs to be treated on a per-sequence basis. Conceptually this is not difficult: just as for logistic regression we need to calculate the gradient of the objective, and once we have this gradient, we choose a gradient descent/ascent method to optimise the function. The general CRF conditional log-likelihood is in fact a generalisation of the logistic regression objective, and hence the CRF gradient will look very similar to the gradient of logistic regression. We discuss this gradient, its derivation and calculation in more detail [TODO](todo). In this chapter we will only briefly discuss the gradient and what is necessary to calculate it. \n",
    "\n",
    "\\begin{split}\n",
    "  \\nabla_{y'} CL(\\params) =  \\sum_{(\\x,\\y) \\in \\train} \\sum^{|\\x|}_i\\repr(\\x,y_{i-1},i) \\delta(y_i,y') - p_\\params(y',y_{i-1}|\\x) \\repr(\\x,y_{i-1},i) \n",
    "\\end{split}\n",
    "\n",
    "\n",
    "### Prediction in Linear Chain CRFs\n",
    "\n",
    "From the perspective of finding $\\argmax_\\y \\prob_\\params(\\y|\\x)$ we can treat the CRF just as the MEMM. The share the same factorisation/dependency structure and are just differently normalised. That is, we can again simply perform greedy search, use a beam or apply Viterbi. \n",
    "\n",
    "Below we train a CRF model using the same feature vectors as used for the MEMM model, and then do prediction via the Viterbi algorithm (this is the standard algorithm in most CRF libraries). "
   ]
  },
  {
   "cell_type": "code",
   "execution_count": 35,
   "metadata": {
    "collapsed": false
   },
   "outputs": [
    {
     "data": {
      "text/plain": [
       "0.8206510470661414"
      ]
     },
     "execution_count": 35,
     "metadata": {},
     "output_type": "execute_result"
    }
   ],
   "source": [
    "crf_1 = seq.CRFSequenceLabeler(feat_4, train)\n",
    "seq.accuracy(dev, crf_1.predict(dev))"
   ]
  },
  {
   "cell_type": "markdown",
   "metadata": {
    "collapsed": false
   },
   "source": [
    "A notable 1% point improvement over the MEMM model that essentially comes from free in the sense that we are using exactly the same feature representation and are just changing from local to global normalisation."
   ]
  },
  {
   "cell_type": "markdown",
   "metadata": {},
   "source": [
    "## Test"
   ]
  },
  {
   "cell_type": "code",
   "execution_count": 36,
   "metadata": {
    "collapsed": false
   },
   "outputs": [
    {
     "data": {
      "text/html": [
       "<table style=\"font-size:large;\"><tr><td style='padding:initial'>word</td> <td style='padding:initial'>0.6511465324384788</td><tr><tr><td style='padding:initial'>+ first @</td> <td style='padding:initial'>0.7572706935123042</td><tr><tr><td style='padding:initial'>+ cap</td> <td style='padding:initial'>0.7760067114093959</td><tr><tr><td style='padding:initial'>+ suffix</td> <td style='padding:initial'>0.7971196868008948</td><tr><tr><td style='padding:initial'>MEMM</td> <td style='padding:initial'>0.8111017897091722</td><tr><tr><td style='padding:initial'>CRF</td> <td style='padding:initial'>0.8239653243847874</td><tr></table>"
      ],
      "text/plain": [
       "<statnlpbook.util.Table at 0x10997fba8>"
      ]
     },
     "execution_count": 36,
     "metadata": {},
     "output_type": "execute_result"
    }
   ],
   "source": [
    "util.Table([\n",
    "        [\"word\", seq.accuracy(test, local_1.predict(test))],\n",
    "        [\"+ first @\", seq.accuracy(test, local_2.predict(test))],\n",
    "        [\"+ cap\", seq.accuracy(test, local_3.predict(test))],\n",
    "        [\"+ suffix\", seq.accuracy(test, local_4.predict(test))],\n",
    "        [\"MEMM\", seq.accuracy(test, memm_1.predict(test))],\n",
    "        [\"CRF\", seq.accuracy(test, crf_1.predict(test))]       \n",
    "    ])"
   ]
  },
  {
   "cell_type": "markdown",
   "metadata": {},
   "source": [
    "## Background Material\n",
    "* [Tackling the Poor Assumptions of Naive Bayes Text Classifiers](https://people.csail.mit.edu/jrennie/papers/icml03-nb.pdf), Rennie et al, ICML 2003 \n",
    "* [Simple Sentiment Classification](http://nlp.stanford.edu/pubs/sidaw12_simple_sentiment.pdf) \n",
    "* [MEMM](http://www.ai.mit.edu/courses/6.891-nlp/READINGS/maxent.pdf)"
   ]
  }
 ],
 "metadata": {
  "celltoolbar": "Slideshow",
  "kernelspec": {
   "display_name": "Python 3",
   "language": "python",
   "name": "python3"
  },
  "language_info": {
   "codemirror_mode": {
    "name": "ipython",
    "version": 3
   },
   "file_extension": ".py",
   "mimetype": "text/x-python",
   "name": "python",
   "nbconvert_exporter": "python",
   "pygments_lexer": "ipython3",
   "version": "3.5.1"
  }
 },
 "nbformat": 4,
 "nbformat_minor": 0
}
