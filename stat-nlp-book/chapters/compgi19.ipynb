{
 "cells": [
  {
   "cell_type": "markdown",
   "metadata": {
    "slideshow": {
     "slide_type": "slide"
    }
   },
   "source": [
    "# COMPGI19/COMPM083 Overview\n",
    "content at [https://uclmr.github.io/stat-nlp-book](https://uclmr.github.io/stat-nlp-book), click on slides for *Course Logistics*"
   ]
  },
  {
   "cell_type": "markdown",
   "metadata": {
    "slideshow": {
     "slide_type": "slide"
    }
   },
   "source": [
    "### COMPGI19, COMPM083 Details\n",
    "\n",
    "- **Lecturer**: [Sebastian Riedel](http://www.riedelcastro.org/)\n",
    "- **Teaching Assistants**: [Matko Bošnjak](http://matko.info/), [George Spithourakis](http://geospith.github.io/), Johannes Welbl, Ivan Sanchez\n",
    "- Lectures:  \n",
    "    -  Wednesday 5 PM - 6:30 PM, Roberts Building G06 Sir Ambrose Fleming LT\n",
    "    -  Friday 2PM - 3:30PM, Anatomy G29 J Z Young LT\n",
    "- **Office Hours**: Friday 5PM - 6PM, 1ES, 504A"
   ]
  },
  {
   "cell_type": "markdown",
   "metadata": {
    "slideshow": {
     "slide_type": "slide"
    }
   },
   "source": [
    "### Prerequisites  1\n",
    "\n",
    "* **Python**: including classes and inheritance, difference between list and tuples, variable arguments, dictionaries etc.\n",
    "* **Probabilities**: understand Bayes rule; what does marginalisation mean? What is conditioning? How to sample from a categorical distribution\n",
    "* **Math**: basic linear algebra, multi-dimensional calculus (differentiation ); understand what $argmax$ means"
   ]
  },
  {
   "cell_type": "markdown",
   "metadata": {
    "slideshow": {
     "slide_type": "slide"
    }
   },
   "source": [
    "### Prerequisites  2\n",
    "\n",
    "* **Jupyter Notebooks**: know how to create and run notebooks\n",
    "* **Command line tools**: know how to use a command line tools, `ssh`, `cd`, `mv`, `rm` etc.\n",
    "* **Git**: know how to use `git` (`clone`, `merge`, `pull` etc.)\n",
    "* **Installation**: be able to install docker on your machine, or be comfortable running a VM on the cloud (Azure)"
   ]
  },
  {
   "cell_type": "markdown",
   "metadata": {
    "slideshow": {
     "slide_type": "slide"
    }
   },
   "source": [
    "### Enrolment\n",
    "\n",
    "* Moodle: https://moodle.ucl.ac.uk/course/view.php?id=23928\n",
    "* Enrolment key: ???"
   ]
  },
  {
   "cell_type": "markdown",
   "metadata": {
    "slideshow": {
     "slide_type": "slide"
    }
   },
   "source": [
    "### Expectations\n",
    "* I am not a *linguist*\n",
    "  * I probably don’t know your favourite linguistic framework or terminology\n",
    "* I am not a *cognitive scientist*\n",
    "  * I don’t know how humans process language\n",
    "* This course has no exams!\n",
    "  * You should learn how to construct stat NLP systems"
   ]
  },
  {
   "cell_type": "markdown",
   "metadata": {
    "slideshow": {
     "slide_type": "slide"
    }
   },
   "source": [
    "### Course Material\n",
    "* We will be using the [stat-nlp-book](../overview.ipynb) project. \n",
    "* Contains **interactive** [jupyter](http://jupyter.org/) notes and slides\n",
    "    * View statically [here](http://nbviewer.jupyter.org/github/uclmr/stat-nlp-book/blob/python/overview.ipynb)\n",
    "    * Use interactively via install, see [github repo](https://github.com/uclmr/stat-nlp-book) instructions  \n",
    "* References to other material are given in context.\n",
    "* This is work in progress.\n",
    "    * Use `git pull` regularly for updates\n",
    "    * *Watch* for updates, *star* if you like it\n",
    "* Please contribute by adding issues on github when you see errors."
   ]
  },
  {
   "cell_type": "markdown",
   "metadata": {
    "slideshow": {
     "slide_type": "slide"
    }
   },
   "source": [
    "### Lecture Preparation\n",
    "* Go through lecture notes, play with code\n",
    "* Do exercises\n",
    "* Read Background Material\n"
   ]
  },
  {
   "cell_type": "markdown",
   "metadata": {
    "slideshow": {
     "slide_type": "slide"
    }
   },
   "source": [
    "### Docker\n",
    "\n",
    "* The book, tutorials and assignments run in a [docker](https://www.docker.com/) container\n",
    "* Container comes with all dependencies pre-installed\n",
    "* You can install it on your machine and Azure/AWS machines\n",
    "* We provide no support for non-docker installations"
   ]
  },
  {
   "cell_type": "markdown",
   "metadata": {
    "slideshow": {
     "slide_type": "slide"
    }
   },
   "source": [
    "### Python\n",
    "\n",
    "* Lectures, lab exercises and assignments focus on **Python** (version 3.6)\n",
    "* Python is a leading language for data science, machine learning etc., with many relevant libraries\n",
    "* We expect you to know Python, or be willing to learn it **on your own**\n",
    "* Labs and assignments focus on development within [jupyter notebooks](http://jupyter.org/)"
   ]
  },
  {
   "cell_type": "markdown",
   "metadata": {
    "slideshow": {
     "slide_type": "slide"
    }
   },
   "source": [
    "### Discussion Forum\n",
    "\n",
    "* Our moodle page has a **discussion forum**.\n",
    "* Please post questions there (instead of private emails) \n",
    "* We give low priority to **questions already answered** in previous lectures, tutorials and posts, \n",
    "    * and to **pure programming related issues**\n",
    "* We expect you to **online-search** for answers before.\n",
    "* You are highly encouraged to participate and **help each other** on the forum. "
   ]
  },
  {
   "cell_type": "markdown",
   "metadata": {
    "slideshow": {
     "slide_type": "slide"
    }
   },
   "source": [
    "### UCL-Machine Reading\n",
    "\n",
    "* Research Group at UCL teaching machines to read\n",
    "* Webpage: http://mr.cs.ucl.ac.uk/ \n",
    "* Twitter: \n",
    "    * @uclmr https://twitter.com/uclmr\n",
    "    * @riedelcastro https://twitter.com/riedelcastro\n",
    "* Always looking for strong MSc and PhD students!"
   ]
  }
 ],
 "metadata": {
  "celltoolbar": "Slideshow",
  "kernelspec": {
   "display_name": "Python 3",
   "language": "python",
   "name": "python3"
  },
  "language_info": {
   "codemirror_mode": {
    "name": "ipython",
    "version": 3
   },
   "file_extension": ".py",
   "mimetype": "text/x-python",
   "name": "python",
   "nbconvert_exporter": "python",
   "pygments_lexer": "ipython3",
   "version": "3.6.2"
  }
 },
 "nbformat": 4,
 "nbformat_minor": 1
}
