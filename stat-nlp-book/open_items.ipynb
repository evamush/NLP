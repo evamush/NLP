{
 "cells": [
  {
   "cell_type": "markdown",
   "metadata": {
    "slideshow": {
     "slide_type": "skip"
    }
   },
   "source": [
    "<!---\n",
    "Latex Macros\n",
    "-->\n",
    "$$\n",
    "\\newcommand{\\Xs}{\\mathcal{X}}\n",
    "\\newcommand{\\Ys}{\\mathcal{Y}}\n",
    "\\newcommand{\\y}{\\mathbf{y}}\n",
    "\\newcommand{\\balpha}{\\boldsymbol{\\alpha}}\n",
    "\\newcommand{\\bbeta}{\\boldsymbol{\\beta}}\n",
    "\\newcommand{\\aligns}{\\mathbf{a}}\n",
    "\\newcommand{\\align}{a}\n",
    "\\newcommand{\\source}{\\mathbf{s}}\n",
    "\\newcommand{\\target}{\\mathbf{t}}\n",
    "\\newcommand{\\ssource}{s}\n",
    "\\newcommand{\\starget}{t}\n",
    "\\newcommand{\\repr}{\\mathbf{f}}\n",
    "\\newcommand{\\repry}{\\mathbf{g}}\n",
    "\\newcommand{\\x}{\\mathbf{x}}\n",
    "\\newcommand{\\prob}{p}\n",
    "\\newcommand{\\vocab}{V}\n",
    "\\newcommand{\\params}{\\boldsymbol{\\theta}}\n",
    "\\newcommand{\\param}{\\theta}\n",
    "\\DeclareMathOperator{\\perplexity}{PP}\n",
    "\\DeclareMathOperator{\\argmax}{argmax}\n",
    "\\DeclareMathOperator{\\argmin}{argmin}\n",
    "\\newcommand{\\train}{\\mathcal{D}}\n",
    "\\newcommand{\\counts}[2]{\\#_{#1}(#2) }\n",
    "\\newcommand{\\length}[1]{\\text{length}(#1) }\n",
    "\\newcommand{\\indi}{\\mathbb{I}}\n",
    "$$"
   ]
  },
  {
   "cell_type": "markdown",
   "metadata": {
    "slideshow": {
     "slide_type": "slide"
    }
   },
   "source": [
    "# Open Items Lecture 2\n",
    "\n",
    "* Fixed [shirtless slide](/notebooks/chapters/introduction.ipynb#/slide-9-0)!\n",
    "* Workload for assignments: 5h-20h per assignment, depending on your background, skills etc\n",
    "* Module Selection Priorities:\n",
    "    * Optional\n",
    "    * Elective\n",
    "    * Non-CS (update: will not be impossible)\n",
    "* First Come First Serve, but Elective students will only know if they have a spot after next Friday"
   ]
  },
  {
   "cell_type": "markdown",
   "metadata": {
    "slideshow": {
     "slide_type": "slide"
    }
   },
   "source": [
    "# Open Items Lecture 3\n",
    "\n",
    "* Please use the moodle for questions regarding the assignment\n",
    "* Next: [Language Models: MLE](chapters/language_models_slides.ipynb)"
   ]
  },
  {
   "cell_type": "markdown",
   "metadata": {
    "slideshow": {
     "slide_type": "slide"
    }
   },
   "source": [
    "\n",
    "# Open Items Lecture 4\n",
    "\n",
    "* Lecturecast and *flipped classroom*\n",
    "* Office hours: **Thursdays** 1PM - 2PM\n",
    "* Understand the meaning of $\\argmax_\\x f(\\x)$\n",
    "    * $\\argmax_x -(x-2)^2 = \\ldots$\n",
    "* How to sample from LM\n",
    "    * See code in [LM slides](chapters/language_models_slides.ipynb)\n",
    "    * see in action for bigram distributions (using FIND)"
   ]
  },
  {
   "cell_type": "markdown",
   "metadata": {
    "slideshow": {
     "slide_type": "slide"
    }
   },
   "source": [
    "\n",
    "# Open Items Lecture 5\n",
    "\n",
    "* [Assignment 1](https://moodle.ucl.ac.uk/course/view.php?id=23928) will be out today\n",
    "* Continue with [MLE](chapters/mle_slides.ipynb)"
   ]
  },
  {
   "cell_type": "markdown",
   "metadata": {
    "slideshow": {
     "slide_type": "slide"
    }
   },
   "source": [
    "# Open Items Lecture 6\n",
    "\n",
    "* Assignment: \n",
    "    * Training data: will upload to github to avoid issues\n",
    "    * You have to do OOV injection etc., if that's what you want to do"
   ]
  },
  {
   "cell_type": "markdown",
   "metadata": {
    "slideshow": {
     "slide_type": "subslide"
    }
   },
   "source": [
    "* MLE derivation: \n",
    "    * you don't need to derive the estimator using the 2D plot\n",
    "    * It is there to give intuition: \n",
    "        * Loss and constraint gradients are colinear\n",
    "        * leads to closed form solution\n",
    "* Lecture notes: do read notes, and the code! \n",
    "    * helps you to understand methods \n",
    "    * helps you to get better at coding\n",
    "    "
   ]
  },
  {
   "cell_type": "markdown",
   "metadata": {
    "slideshow": {
     "slide_type": "subslide"
    }
   },
   "source": [
    "### Generative Stories\n",
    "* We often describe probabilistic models as generative stories\n",
    "* Stories describe how one can sample from the model\n",
    "* E.g. $p(w_1,w_2,w_3) = p(w_1) p(w_2|w_1) p(w_3|w_2)$\n",
    "    * To sample: first sample $w_1$, then sample from $p(w_2|w_1)$ etc. \n"
   ]
  },
  {
   "cell_type": "markdown",
   "metadata": {
    "slideshow": {
     "slide_type": "subslide"
    }
   },
   "source": [
    "* Next: [Word-based MT](/notebooks/chapters/word_mt_slides.ipynb), noisy channel\n"
   ]
  },
  {
   "cell_type": "markdown",
   "metadata": {
    "slideshow": {
     "slide_type": "slide"
    }
   },
   "source": [
    "# Open Items Lecture 7 \n",
    "\n",
    "* Next: [Word-based MT](/notebooks/chapters/word_mt_slides.ipynb), EM Algorithm\n"
   ]
  },
  {
   "cell_type": "markdown",
   "metadata": {
    "slideshow": {
     "slide_type": "slide"
    }
   },
   "source": [
    "# Open Items Lecture 8\n",
    "\n",
    "* Assignments: \n",
    "    * Creative and high-effort solutions can score high too\n",
    "        * `create_lm` should return your best (maybe simple) solution\n",
    "        * in your description: describe your other efforts, even if they lead to worse solutions\n",
    "        * leave in the relevant code (tell how to run)\n",
    "    * Think about training on dev and training set...\n",
    "* Next week Friday: only pre-recorded lecture cast\n",
    "* Quick [MT Summary](/notebooks/chapters/word_mt_slides.ipynb)\n",
    "* After that: [Parsing](/notebooks/chapters/parsing_slides.ipynb)\n"
   ]
  },
  {
   "cell_type": "markdown",
   "metadata": {
    "slideshow": {
     "slide_type": "slide"
    }
   },
   "source": [
    "# Open Items Lecture 9\n",
    "\n",
    "* No office hours this week\n",
    "* Next: [Parsing](/notebooks/chapters/parsing_slides.ipynb), CYK\n"
   ]
  },
  {
   "cell_type": "markdown",
   "metadata": {
    "slideshow": {
     "slide_type": "slide"
    }
   },
   "source": [
    "# Open Items Lecture 10\n",
    "\n",
    "* No more \"win bigly\" jokes\n",
    "* Assignment 1\n",
    "* Assignment 2\n",
    "* Document Classification \n"
   ]
  },
  {
   "cell_type": "markdown",
   "metadata": {
    "slideshow": {
     "slide_type": "slide"
    }
   },
   "source": [
    "# Open Items Lecture 11\n",
    "\n",
    "* Assignment 1:\n",
    "    * Please do not edit areas that say 'do not edit'\n",
    "    * Please test your notebook properly\n",
    "        * \"Restart and Run\" is your friend\n",
    "    * We had to manually fix in one way or another about 40 notebooks\n",
    "* Assignment 2:\n",
    "    * The above will lead to reduced score\n",
    "* Next: Text Classification with NB, evaluation\n"
   ]
  },
  {
   "cell_type": "markdown",
   "metadata": {
    "slideshow": {
     "slide_type": "slide"
    }
   },
   "source": [
    "# Open Items Lecture 12\n",
    "\n",
    "* No office hours this week\n",
    "* Next weeks:\n",
    "    * Relation Extraction with Isabelle\n",
    "    * Representation Learning with Tim & Pontus\n",
    "    * Deep Learning with Tim & Pontus\n",
    "    * Industry Presentation\n",
    "* Next: Back to Text Classification"
   ]
  }
 ],
 "metadata": {
  "celltoolbar": "Slideshow",
  "hide_input": false,
  "kernelspec": {
   "display_name": "Python 3",
   "language": "python",
   "name": "python3"
  },
  "language_info": {
   "codemirror_mode": {
    "name": "ipython",
    "version": 3
   },
   "file_extension": ".py",
   "mimetype": "text/x-python",
   "name": "python",
   "nbconvert_exporter": "python",
   "pygments_lexer": "ipython3",
   "version": "3.6.2"
  }
 },
 "nbformat": 4,
 "nbformat_minor": 1
}
