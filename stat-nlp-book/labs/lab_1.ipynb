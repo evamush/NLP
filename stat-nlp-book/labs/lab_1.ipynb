{
 "cells": [
  {
   "cell_type": "markdown",
   "metadata": {},
   "source": [
    "# stat-nlp-book setup\n",
    "\n",
    "## On your personal computer\n",
    "\n",
    "Go to https://github.com/uclmr/stat-nlp-book and follow the readme to set up the stat-nlp-book.\n",
    "\n",
    "## On Microsoft Azure\n",
    "\n",
    "If you feel adventurous, and want to set up your own Virtual Machine with stat-nlp-book, follow the [Azure tutorial](http://nbviewer.jupyter.org/github/uclmr/stat-nlp-book/blob/python/tutorials/azure_tutorial.ipynb)"
   ]
  },
  {
   "cell_type": "markdown",
   "metadata": {},
   "source": [
    "-----\n",
    "\n",
    "# Using stat-nlp-book\n",
    "\n",
    "...\n",
    "let's start off [here](../overview.ipynb)"
   ]
  },
  {
   "cell_type": "markdown",
   "metadata": {},
   "source": [
    "-----\n",
    "\n",
    "# Short Jupyter tutorial\n",
    "\n",
    "* Running existing notebooks\n",
    "* Creating new folder & new notebook\n",
    "* Running your code\n",
    "* DON'T FORGET TO SAVE\n",
    "* Writeup (markdown)"
   ]
  },
  {
   "cell_type": "markdown",
   "metadata": {},
   "source": [
    "-----\n",
    "\n",
    "# Python tutorials\n",
    "\n",
    "* [\\[UCL\\] Scientific Programming in Python](http://www.cs.ucl.ac.uk/scipython/lectures.html) (with jupyter notebooks)\n",
    "\n",
    "* [Python for Beginners](https://www.python.org/about/gettingstarted/)\n",
    "\n",
    "* [An Informal Introduction to Python](https://docs.python.org/2/tutorial/introduction.html)\n",
    "\n",
    "* [Learn Python in 10 minutes](https://www.stavros.io/tutorials/python/)\n",
    "\n",
    "* [LOADS of others](https://www.google.co.uk/search?q=python+tutorial)\n",
    "\n"
   ]
  }
 ],
 "metadata": {
  "kernelspec": {
   "display_name": "Python 3",
   "language": "python",
   "name": "python3"
  },
  "language_info": {
   "codemirror_mode": {
    "name": "ipython",
    "version": 3
   },
   "file_extension": ".py",
   "mimetype": "text/x-python",
   "name": "python",
   "nbconvert_exporter": "python",
   "pygments_lexer": "ipython3",
   "version": "3.6.1"
  }
 },
 "nbformat": 4,
 "nbformat_minor": 1
}
